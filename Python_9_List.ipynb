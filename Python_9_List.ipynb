{
  "nbformat": 4,
  "nbformat_minor": 0,
  "metadata": {
    "colab": {
      "name": "Python 9 List.ipynb",
      "provenance": [],
      "collapsed_sections": [],
      "authorship_tag": "ABX9TyPl06rX/24eOl53QavT2xXR",
      "include_colab_link": true
    },
    "kernelspec": {
      "name": "python3",
      "display_name": "Python 3"
    },
    "language_info": {
      "name": "python"
    }
  },
  "cells": [
    {
      "cell_type": "markdown",
      "metadata": {
        "id": "view-in-github",
        "colab_type": "text"
      },
      "source": [
        "<a href=\"https://colab.research.google.com/github/yskkwi/adding-up/blob/master/Python_9_List.ipynb\" target=\"_parent\"><img src=\"https://colab.research.google.com/assets/colab-badge.svg\" alt=\"Open In Colab\"/></a>"
      ]
    },
    {
      "cell_type": "code",
      "execution_count": null,
      "metadata": {
        "colab": {
          "base_uri": "https://localhost:8080/"
        },
        "id": "p_YlFGWcJM-3",
        "outputId": "55d28248-0260-4ae0-bf2d-2e7bc7f14b18"
      },
      "outputs": [
        {
          "output_type": "stream",
          "name": "stdout",
          "text": [
            "['夕方', 100, 30]\n",
            "['あ', 'い', 'う']\n",
            "['あさ', 'aiueo', 100]\n",
            "夕方\n",
            "100\n",
            "30\n",
            "あ\n",
            "い\n",
            "う\n",
            "あさ\n",
            "aiueo\n",
            "100\n"
          ]
        }
      ],
      "source": [
        "a_1='夕方'\n",
        "a_2=100\n",
        "a_3=30\n",
        "b_1='aiueo'\n",
        "\n",
        "list_1=[a_1, a_2, a_3]\n",
        "list_2=['あ','い','う']\n",
        "list_3=['あさ',b_1,100]\n",
        "\n",
        "print(list_1)\n",
        "print(list_2)\n",
        "print(list_3)\n",
        "\n",
        "for i in list_1:\n",
        "  print(i)\n",
        "\n",
        "for j in list_2:\n",
        "  print(j)\n",
        "\n",
        "for k in list_3:\n",
        "  print(k)"
      ]
    },
    {
      "cell_type": "code",
      "source": [
        "list_4 = ['a', 'i','u','e','o']\n",
        "print(len(list_4))\n",
        "\n",
        "list =[1,2,3,4,5,6]\n",
        "print(len(list))"
      ],
      "metadata": {
        "colab": {
          "base_uri": "https://localhost:8080/"
        },
        "id": "_OMx-jOtL3ku",
        "outputId": "49d26f28-582c-4f6d-99fc-c588d97a09fc"
      },
      "execution_count": null,
      "outputs": [
        {
          "output_type": "stream",
          "name": "stdout",
          "text": [
            "5\n",
            "6\n"
          ]
        }
      ]
    },
    {
      "cell_type": "code",
      "source": [
        "print('list ={0}'.format(list_4))\n",
        "print('list[0] = {0}'.format(list_4[0]))\n",
        "print('list[4] = {0}'.format(list_4[4]))\n",
        "\n",
        "print('=' *10)\n",
        "\n",
        "print('list[4] = {0}'.format(list_4[-1]))\n",
        "\n",
        "for i in range(5):\n",
        "  print(list_4[i])\n",
        "\n",
        "print('=' *10)\n",
        "\n",
        "for i in list_4:\n",
        "  print(i)\n",
        "\n",
        "print('=' *10)\n",
        "for i in range(1,6):\n",
        "  print(list_4[-i])"
      ],
      "metadata": {
        "colab": {
          "base_uri": "https://localhost:8080/"
        },
        "id": "8wXoVz7mMN64",
        "outputId": "eafa8b97-bed7-4303-b682-534e0783968b"
      },
      "execution_count": null,
      "outputs": [
        {
          "output_type": "stream",
          "name": "stdout",
          "text": [
            "list =['a', 'i', 'u', 'e', 'o']\n",
            "list[0] = a\n",
            "list[4] = o\n",
            "==========\n",
            "list[4] = o\n",
            "a\n",
            "i\n",
            "u\n",
            "e\n",
            "o\n",
            "==========\n",
            "a\n",
            "i\n",
            "u\n",
            "e\n",
            "o\n",
            "==========\n",
            "o\n",
            "e\n",
            "u\n",
            "i\n",
            "a\n"
          ]
        }
      ]
    },
    {
      "cell_type": "code",
      "source": [
        "print(list_4)\n",
        "\n",
        "list_4[3]=99\n",
        "print(list_4)"
      ],
      "metadata": {
        "colab": {
          "base_uri": "https://localhost:8080/"
        },
        "id": "zbWiyBEeSZVJ",
        "outputId": "305d4ca2-9fad-40fd-82de-d6ff9c210310"
      },
      "execution_count": null,
      "outputs": [
        {
          "output_type": "stream",
          "name": "stdout",
          "text": [
            "['a', 'i', 'u', 'e', 'o']\n",
            "['a', 'i', 'u', 99, 'o']\n"
          ]
        }
      ]
    },
    {
      "cell_type": "code",
      "source": [
        "del(list_4[1])\n",
        "print(list_4)"
      ],
      "metadata": {
        "colab": {
          "base_uri": "https://localhost:8080/"
        },
        "id": "I3BEUEYvUkdU",
        "outputId": "5e0cdc65-a353-4bcd-82bb-948edf8cadb5"
      },
      "execution_count": null,
      "outputs": [
        {
          "output_type": "stream",
          "name": "stdout",
          "text": [
            "['a', 'u']\n"
          ]
        }
      ]
    },
    {
      "cell_type": "code",
      "source": [
        "list_4 = ['a', 'i','u','e','o']\n",
        "print(list_4)\n",
        "del(list_4[3])\n",
        "print(list_4)\n"
      ],
      "metadata": {
        "colab": {
          "base_uri": "https://localhost:8080/"
        },
        "id": "8Li2veBrUx82",
        "outputId": "c76f2e4a-73df-413d-fd98-8cd5b9d712ca"
      },
      "execution_count": null,
      "outputs": [
        {
          "output_type": "stream",
          "name": "stdout",
          "text": [
            "['a', 'i', 'u', 'e', 'o']\n",
            "['a', 'i', 'u', 'o']\n",
            "['a', 'i', 'u', 'o', [[3], 'e']]\n"
          ]
        }
      ]
    },
    {
      "cell_type": "code",
      "source": [
        "list_4 = ['a', 'i','u','e','o']\n",
        "\n",
        "print(list_4)\n",
        "\n",
        "list_4[3]=99\n",
        "print(list_4)\n",
        "\n",
        "del(list_4[3])\n",
        "print(list_4)\n",
        "\n",
        "list_4.insert(3,'e')\n",
        "print(list_4)"
      ],
      "metadata": {
        "colab": {
          "base_uri": "https://localhost:8080/"
        },
        "id": "KtEiJdqHWCqY",
        "outputId": "807290fe-d901-42cc-d205-1f1906d4a6db"
      },
      "execution_count": null,
      "outputs": [
        {
          "output_type": "stream",
          "name": "stdout",
          "text": [
            "['a', 'i', 'u', 'e', 'o']\n",
            "['a', 'i', 'u', 99, 'o']\n",
            "['a', 'i', 'u', 'o']\n",
            "['a', 'i', 'u', 'e', 'o']\n"
          ]
        }
      ]
    },
    {
      "cell_type": "code",
      "source": [
        "list_4 = ['a', 'i','u','e','o']\n",
        "\n",
        "print(list_4)\n",
        "\n",
        "list_4.append('ka')\n",
        "\n",
        "print(list_4)\n",
        "\n"
      ],
      "metadata": {
        "colab": {
          "base_uri": "https://localhost:8080/"
        },
        "id": "xSHMSEywYaqC",
        "outputId": "8e4ee0d7-9ed3-49f0-a67d-954331b79aad"
      },
      "execution_count": null,
      "outputs": [
        {
          "output_type": "stream",
          "name": "stdout",
          "text": [
            "['a', 'i', 'u', 'e', 'o']\n",
            "['a', 'i', 'u', 'e', 'o', 'ka']\n"
          ]
        }
      ]
    },
    {
      "cell_type": "code",
      "source": [
        "\n",
        "print(list_4)\n",
        "\n",
        "list_4.append([100,'ka','きい'])\n",
        "print(list_4)"
      ],
      "metadata": {
        "colab": {
          "base_uri": "https://localhost:8080/"
        },
        "id": "sQsNCeNSZOtm",
        "outputId": "053392bb-1394-4798-c19b-74aaa3087f5e"
      },
      "execution_count": null,
      "outputs": [
        {
          "output_type": "stream",
          "name": "stdout",
          "text": [
            "['a', 'i', 'u', 'e', 'o']\n",
            "['a', 'i', 'u', 'e', 'o', [100, 'ka', 'きい']]\n"
          ]
        }
      ]
    },
    {
      "cell_type": "code",
      "source": [
        "print(list_4)\n",
        "list_4.append('ka')\n",
        "print(list_4)"
      ],
      "metadata": {
        "colab": {
          "base_uri": "https://localhost:8080/"
        },
        "id": "gz_P7ccHZru1",
        "outputId": "ce2b81ff-cc46-49c3-a394-463c61591a3b"
      },
      "execution_count": null,
      "outputs": [
        {
          "output_type": "stream",
          "name": "stdout",
          "text": [
            "['a', 'i', 'u', 'e', 'o']\n",
            "['a', 'i', 'u', 'e', 'o', 'ka']\n"
          ]
        }
      ]
    },
    {
      "cell_type": "code",
      "source": [
        "print(list_4)\n",
        "list_4.extend([100,'ka','きいろ'])\n",
        "print(list_4)"
      ],
      "metadata": {
        "colab": {
          "base_uri": "https://localhost:8080/"
        },
        "id": "-zf_wZgCagv8",
        "outputId": "008a7799-0abd-4784-c685-48532e6d9659"
      },
      "execution_count": null,
      "outputs": [
        {
          "output_type": "stream",
          "name": "stdout",
          "text": [
            "['a', 'i', 'u', 'e', 'o']\n",
            "['a', 'i', 'u', 'e', 'o', 100, 'ka', 'きいろ']\n"
          ]
        }
      ]
    },
    {
      "cell_type": "code",
      "source": [
        "list = [1,2,3,4,'a1','b2','c3','d4']\n",
        "print(list)\n",
        "\n",
        "print('='*10)\n",
        "\n",
        "for i in range(5):\n",
        "  print(list.pop())\n",
        "  print(list)\n",
        "\n",
        "print('='*10)\n",
        "print(list)\n",
        "print('='*10)\n",
        "\n",
        "list_2 =[1,2,3,4,5,6,7,8]\n",
        "print(list_2)\n",
        "\n",
        "for i in range(8):\n",
        "  print(list_2.pop())\n",
        "  print(list_2)\n",
        "\n",
        "print('='*10)\n",
        "print(list_2)  \n",
        "\n",
        "list_3 =['a','b','c','d','e','f','g']\n",
        "print(list_3)\n",
        "\n",
        "print(list_3.pop(3))\n",
        "\n",
        "print(list_3)\n",
        "\n"
      ],
      "metadata": {
        "colab": {
          "base_uri": "https://localhost:8080/"
        },
        "id": "mQktHSsQKWMA",
        "outputId": "0feb3e92-af50-4d87-9ab7-fb0929b9fa2b"
      },
      "execution_count": null,
      "outputs": [
        {
          "output_type": "stream",
          "name": "stdout",
          "text": [
            "[1, 2, 3, 4, 'a1', 'b2', 'c3', 'd4']\n",
            "==========\n",
            "d4\n",
            "[1, 2, 3, 4, 'a1', 'b2', 'c3']\n",
            "c3\n",
            "[1, 2, 3, 4, 'a1', 'b2']\n",
            "b2\n",
            "[1, 2, 3, 4, 'a1']\n",
            "a1\n",
            "[1, 2, 3, 4]\n",
            "4\n",
            "[1, 2, 3]\n",
            "==========\n",
            "[1, 2, 3]\n",
            "==========\n",
            "[1, 2, 3, 4, 5, 6, 7, 8]\n",
            "8\n",
            "[1, 2, 3, 4, 5, 6, 7]\n",
            "7\n",
            "[1, 2, 3, 4, 5, 6]\n",
            "6\n",
            "[1, 2, 3, 4, 5]\n",
            "5\n",
            "[1, 2, 3, 4]\n",
            "4\n",
            "[1, 2, 3]\n",
            "3\n",
            "[1, 2]\n",
            "2\n",
            "[1]\n",
            "1\n",
            "[]\n",
            "==========\n",
            "[]\n",
            "['a', 'b', 'c', 'd', 'e', 'f', 'g']\n",
            "d\n",
            "['a', 'b', 'c', 'e', 'f', 'g']\n"
          ]
        }
      ]
    },
    {
      "cell_type": "code",
      "source": [
        "print(list)"
      ],
      "metadata": {
        "colab": {
          "base_uri": "https://localhost:8080/"
        },
        "id": "5s9-6jgqO6h3",
        "outputId": "11ced3ba-e10b-4b5c-f680-5f50a0959029"
      },
      "execution_count": null,
      "outputs": [
        {
          "output_type": "stream",
          "name": "stdout",
          "text": [
            "[1, 2, 3]\n"
          ]
        }
      ]
    },
    {
      "cell_type": "code",
      "source": [
        "list1 =[1,2,3,4,'a','b','c','d']\n",
        "print(list1)\n",
        "\n",
        "print('='*10)\n",
        "\n",
        "list1.append(5)\n",
        "print(list1)"
      ],
      "metadata": {
        "colab": {
          "base_uri": "https://localhost:8080/"
        },
        "id": "wGw9DfyApJWp",
        "outputId": "70749804-e61f-43dd-91a9-9ffcd02eb148"
      },
      "execution_count": null,
      "outputs": [
        {
          "output_type": "stream",
          "name": "stdout",
          "text": [
            "[1, 2, 3, 4, 'a', 'b', 'c', 'd']\n",
            "==========\n",
            "[1, 2, 3, 4, 'a', 'b', 'c', 'd', 5]\n"
          ]
        }
      ]
    },
    {
      "cell_type": "code",
      "source": [
        "list1 =[1,2,3,4,'a','b','c','d']\n",
        "print(list1)\n",
        "\n",
        "print('='*10)\n",
        "\n",
        "list1.insert(4,'p')\n",
        "print(list1)"
      ],
      "metadata": {
        "colab": {
          "base_uri": "https://localhost:8080/"
        },
        "id": "R-VQOrCFqp5h",
        "outputId": "e818c4e3-2aac-4936-bc44-9a645dbf341c"
      },
      "execution_count": null,
      "outputs": [
        {
          "output_type": "stream",
          "name": "stdout",
          "text": [
            "[1, 2, 3, 4, 'a', 'b', 'c', 'd']\n",
            "==========\n",
            "[1, 2, 3, 4, 'p', 'a', 'b', 'c', 'd']\n"
          ]
        }
      ]
    },
    {
      "cell_type": "code",
      "source": [
        "list1 =[1,2,3,4,'a','b','c','d']\n",
        "print(list1)\n",
        "\n",
        "print('='*10)\n",
        "\n",
        "list1[3] = 10\n",
        "print(list1)\n",
        "\n",
        "list1[5] = '春の日'\n",
        "print(list1)"
      ],
      "metadata": {
        "colab": {
          "base_uri": "https://localhost:8080/"
        },
        "id": "s1Wn8EWyr6zl",
        "outputId": "64a84201-ac86-4f08-885b-487f238e41b0"
      },
      "execution_count": null,
      "outputs": [
        {
          "output_type": "stream",
          "name": "stdout",
          "text": [
            "[1, 2, 3, 4, 'a', 'b', 'c', 'd']\n",
            "==========\n",
            "[1, 2, 3, 10, 'a', 'b', 'c', 'd']\n",
            "[1, 2, 3, 10, 'a', '春の日', 'c', 'd']\n"
          ]
        }
      ]
    },
    {
      "cell_type": "code",
      "source": [
        "list1 =[1,2,3,4,'a','b','c','d']\n",
        "print(list1)\n",
        "\n",
        "print('='*10)\n",
        "\n",
        "list1.extend([7,8,9,'c','d'])\n",
        "print(list1)"
      ],
      "metadata": {
        "colab": {
          "base_uri": "https://localhost:8080/"
        },
        "id": "fDFeotnAsqae",
        "outputId": "29c8218e-bdf1-4399-baad-72f46d24554e"
      },
      "execution_count": null,
      "outputs": [
        {
          "output_type": "stream",
          "name": "stdout",
          "text": [
            "[1, 2, 3, 4, 'a', 'b', 'c', 'd']\n",
            "==========\n",
            "[1, 2, 3, 4, 'a', 'b', 'c', 'd', 7, 8, 9, 'c', 'd']\n"
          ]
        }
      ]
    },
    {
      "cell_type": "code",
      "source": [
        "list1 =[1,2,3,4,'a','b','c','d']\n",
        "print(list1)\n",
        "\n",
        "print('='*10)\n",
        "\n",
        "list1.remove('b')\n",
        "print(list1)"
      ],
      "metadata": {
        "colab": {
          "base_uri": "https://localhost:8080/"
        },
        "id": "q3Sq2SeKtoO-",
        "outputId": "bb789953-e388-462d-8e41-06c8802218f4"
      },
      "execution_count": null,
      "outputs": [
        {
          "output_type": "stream",
          "name": "stdout",
          "text": [
            "[1, 2, 3, 4, 'a', 'b', 'c', 'd']\n",
            "==========\n",
            "[1, 2, 3, 4, 'a', 'c', 'd']\n"
          ]
        }
      ]
    },
    {
      "cell_type": "code",
      "source": [
        "list1 =[1,2,3,4,'a','b','c','d']\n",
        "print(list1)\n",
        "\n",
        "print('='*10)\n",
        "\n",
        "list1.pop(2)\n",
        "print(list1)\n",
        "\n",
        "list1.pop()\n",
        "print(list1)"
      ],
      "metadata": {
        "colab": {
          "base_uri": "https://localhost:8080/"
        },
        "id": "LGLYf2-Vujy6",
        "outputId": "b84d8306-35e6-497c-84c0-e640517578bd"
      },
      "execution_count": null,
      "outputs": [
        {
          "output_type": "stream",
          "name": "stdout",
          "text": [
            "[1, 2, 3, 4, 'a', 'b', 'c', 'd']\n",
            "==========\n",
            "[1, 2, 4, 'a', 'b', 'c', 'd']\n",
            "[1, 2, 4, 'a', 'b', 'c']\n"
          ]
        }
      ]
    },
    {
      "cell_type": "code",
      "source": [
        "list1 =[1,2,3,4,'a','b','c','d']\n",
        "print(list1)\n",
        "\n",
        "print('='*10)\n",
        "\n",
        "list1.clear()\n",
        "print(list1)\n"
      ],
      "metadata": {
        "colab": {
          "base_uri": "https://localhost:8080/"
        },
        "id": "pFLBHE77vMfe",
        "outputId": "899b6c83-5068-4c4e-a17e-720b8ada35ec"
      },
      "execution_count": null,
      "outputs": [
        {
          "output_type": "stream",
          "name": "stdout",
          "text": [
            "[1, 2, 3, 4, 'a', 'b', 'c', 'd']\n",
            "==========\n",
            "[]\n"
          ]
        }
      ]
    }
  ]
}