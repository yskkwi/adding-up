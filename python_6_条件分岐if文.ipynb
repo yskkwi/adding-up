{
  "nbformat": 4,
  "nbformat_minor": 0,
  "metadata": {
    "colab": {
      "name": "python 6 条件分岐if文.ipynb",
      "provenance": [],
      "collapsed_sections": [],
      "authorship_tag": "ABX9TyOM/OLjvMy8Kb334JUu2/j3",
      "include_colab_link": true
    },
    "kernelspec": {
      "name": "python3",
      "display_name": "Python 3"
    },
    "language_info": {
      "name": "python"
    }
  },
  "cells": [
    {
      "cell_type": "markdown",
      "metadata": {
        "id": "view-in-github",
        "colab_type": "text"
      },
      "source": [
        "<a href=\"https://colab.research.google.com/github/yskkwi/adding-up/blob/master/python_6_%E6%9D%A1%E4%BB%B6%E5%88%86%E5%B2%90if%E6%96%87.ipynb\" target=\"_parent\"><img src=\"https://colab.research.google.com/assets/colab-badge.svg\" alt=\"Open In Colab\"/></a>"
      ]
    },
    {
      "cell_type": "code",
      "execution_count": null,
      "metadata": {
        "colab": {
          "base_uri": "https://localhost:8080/"
        },
        "id": "c_x0A4jxWEhZ",
        "outputId": "80095359-6d97-4f33-8467-c1e6f71fd590"
      },
      "outputs": [
        {
          "output_type": "stream",
          "name": "stdout",
          "text": [
            "<class 'bool'>\n"
          ]
        }
      ],
      "source": [
        "print(type(True))"
      ]
    },
    {
      "cell_type": "code",
      "source": [
        "print(type(False))"
      ],
      "metadata": {
        "colab": {
          "base_uri": "https://localhost:8080/"
        },
        "id": "CH0x7G0KWV-7",
        "outputId": "1bd39431-40a7-4473-80a9-9cab3576be4f"
      },
      "execution_count": null,
      "outputs": [
        {
          "output_type": "stream",
          "name": "stdout",
          "text": [
            "<class 'bool'>\n"
          ]
        }
      ]
    },
    {
      "cell_type": "code",
      "source": [
        "10 == 10"
      ],
      "metadata": {
        "colab": {
          "base_uri": "https://localhost:8080/"
        },
        "id": "MQzFLEDvWZcC",
        "outputId": "3c44b50d-71cd-4c05-fdd1-f742b0063d48"
      },
      "execution_count": null,
      "outputs": [
        {
          "output_type": "execute_result",
          "data": {
            "text/plain": [
              "True"
            ]
          },
          "metadata": {},
          "execution_count": 4
        }
      ]
    },
    {
      "cell_type": "code",
      "source": [
        "10 == 9"
      ],
      "metadata": {
        "colab": {
          "base_uri": "https://localhost:8080/"
        },
        "id": "3vkCS_a2WpDi",
        "outputId": "57a30cdb-8d9d-4c1b-bbcc-6247d59f4fcb"
      },
      "execution_count": null,
      "outputs": [
        {
          "output_type": "execute_result",
          "data": {
            "text/plain": [
              "False"
            ]
          },
          "metadata": {},
          "execution_count": 5
        }
      ]
    },
    {
      "cell_type": "code",
      "source": [
        "10 != 10"
      ],
      "metadata": {
        "colab": {
          "base_uri": "https://localhost:8080/"
        },
        "id": "qmzUpb3WWtrK",
        "outputId": "1b2c6389-99d1-4563-e520-501066c85316"
      },
      "execution_count": null,
      "outputs": [
        {
          "output_type": "execute_result",
          "data": {
            "text/plain": [
              "False"
            ]
          },
          "metadata": {},
          "execution_count": 6
        }
      ]
    },
    {
      "cell_type": "markdown",
      "source": [
        "10 != 9"
      ],
      "metadata": {
        "id": "H2p454awWxBn"
      }
    },
    {
      "cell_type": "code",
      "source": [
        "print('{0} 10 == 10'.format(10 == 10))"
      ],
      "metadata": {
        "colab": {
          "base_uri": "https://localhost:8080/"
        },
        "id": "YCbyPTT4b5Yt",
        "outputId": "6a09a68c-7106-4bec-d1d6-a0740d58ba58"
      },
      "execution_count": null,
      "outputs": [
        {
          "output_type": "stream",
          "name": "stdout",
          "text": [
            "True 10 == 10\n"
          ]
        }
      ]
    },
    {
      "cell_type": "code",
      "source": [
        "print('{0} 10 != 9'.format(10 != 9))"
      ],
      "metadata": {
        "colab": {
          "base_uri": "https://localhost:8080/"
        },
        "id": "mlhLub8ncGSB",
        "outputId": "22102366-48c1-4df8-fe99-4aebbf3cb721"
      },
      "execution_count": null,
      "outputs": [
        {
          "output_type": "stream",
          "name": "stdout",
          "text": [
            "True 10 != 9\n"
          ]
        }
      ]
    },
    {
      "cell_type": "code",
      "source": [
        "print('{0} 10 != 10'.format(10 != 10))"
      ],
      "metadata": {
        "colab": {
          "base_uri": "https://localhost:8080/"
        },
        "id": "VUShv289cJ6d",
        "outputId": "35c6439b-00dc-42c8-c779-811fba067473"
      },
      "execution_count": null,
      "outputs": [
        {
          "output_type": "stream",
          "name": "stdout",
          "text": [
            "False 10 != 10\n"
          ]
        }
      ]
    },
    {
      "cell_type": "code",
      "source": [
        "'10' > 10"
      ],
      "metadata": {
        "colab": {
          "base_uri": "https://localhost:8080/",
          "height": 170
        },
        "id": "v3UmXk0pcuWP",
        "outputId": "1611dcbe-56af-4770-dffd-80344a192de2"
      },
      "execution_count": null,
      "outputs": [
        {
          "output_type": "error",
          "ename": "TypeError",
          "evalue": "ignored",
          "traceback": [
            "\u001b[0;31m---------------------------------------------------------------------------\u001b[0m",
            "\u001b[0;31mTypeError\u001b[0m                                 Traceback (most recent call last)",
            "\u001b[0;32m<ipython-input-11-fe82e497f5e8>\u001b[0m in \u001b[0;36m<module>\u001b[0;34m()\u001b[0m\n\u001b[0;32m----> 1\u001b[0;31m \u001b[0;34m'10'\u001b[0m \u001b[0;34m>\u001b[0m \u001b[0;36m10\u001b[0m\u001b[0;34m\u001b[0m\u001b[0;34m\u001b[0m\u001b[0m\n\u001b[0m",
            "\u001b[0;31mTypeError\u001b[0m: '>' not supported between instances of 'str' and 'int'"
          ]
        }
      ]
    },
    {
      "cell_type": "code",
      "source": [
        "'10' > '10'"
      ],
      "metadata": {
        "colab": {
          "base_uri": "https://localhost:8080/"
        },
        "id": "4TmjIT7qc1RF",
        "outputId": "4da8e36d-9a2d-4b80-f5ee-ebafc816de20"
      },
      "execution_count": null,
      "outputs": [
        {
          "output_type": "execute_result",
          "data": {
            "text/plain": [
              "False"
            ]
          },
          "metadata": {},
          "execution_count": 12
        }
      ]
    },
    {
      "cell_type": "code",
      "source": [
        "'10' > '9'"
      ],
      "metadata": {
        "colab": {
          "base_uri": "https://localhost:8080/"
        },
        "id": "SD55jUTlc7yZ",
        "outputId": "19072fbd-e890-410d-e6da-ad87346c28d2"
      },
      "execution_count": null,
      "outputs": [
        {
          "output_type": "execute_result",
          "data": {
            "text/plain": [
              "False"
            ]
          },
          "metadata": {},
          "execution_count": 13
        }
      ]
    },
    {
      "cell_type": "code",
      "source": [
        "'10' >= '10'"
      ],
      "metadata": {
        "colab": {
          "base_uri": "https://localhost:8080/"
        },
        "id": "WOOzYYEuc_e-",
        "outputId": "de5f000e-cc78-40a3-b64a-c09e54b03298"
      },
      "execution_count": null,
      "outputs": [
        {
          "output_type": "execute_result",
          "data": {
            "text/plain": [
              "True"
            ]
          },
          "metadata": {},
          "execution_count": 14
        }
      ]
    },
    {
      "cell_type": "code",
      "source": [
        "if 10 > 9:\n",
        "  print(10 > 9)"
      ],
      "metadata": {
        "colab": {
          "base_uri": "https://localhost:8080/"
        },
        "id": "0VUTtYKkgGzF",
        "outputId": "0b754acc-57e6-45e8-c5f0-3d57b8931353"
      },
      "execution_count": null,
      "outputs": [
        {
          "output_type": "stream",
          "name": "stdout",
          "text": [
            "True\n"
          ]
        }
      ]
    },
    {
      "cell_type": "code",
      "source": [
        "if 10 < 9 :\n",
        "  print(10 < 9)\n",
        "\n",
        "else:\n",
        "  print('10 >= 9')"
      ],
      "metadata": {
        "colab": {
          "base_uri": "https://localhost:8080/"
        },
        "id": "5sTK38rngk7O",
        "outputId": "e8212650-1f6e-4afd-ed22-b28f9318307e"
      },
      "execution_count": null,
      "outputs": [
        {
          "output_type": "stream",
          "name": "stdout",
          "text": [
            "10 >= 9\n"
          ]
        }
      ]
    },
    {
      "cell_type": "code",
      "source": [
        "a = 40\n",
        "\n",
        "if a > 80:\n",
        "  print('a > 80')\n",
        "\n",
        "elif a > 60:\n",
        "  print('60 < a <= 80')\n",
        "\n",
        "elif a >30:\n",
        "  print('30 < a <=60')\n",
        "\n",
        "else:\n",
        "  print('a <=30')"
      ],
      "metadata": {
        "colab": {
          "base_uri": "https://localhost:8080/"
        },
        "id": "f23-O76MiaAf",
        "outputId": "ec8c6990-e21d-4e65-d770-75314a6da665"
      },
      "execution_count": null,
      "outputs": [
        {
          "output_type": "stream",
          "name": "stdout",
          "text": [
            "30 < a <=60\n"
          ]
        }
      ]
    },
    {
      "cell_type": "code",
      "source": [
        "score = input('点数を入力してください：　')\n",
        "\n",
        "score = int(score)\n",
        "\n",
        "pass_line = 80\n",
        "\n",
        "if score >= pass_line :\n",
        "  print('よくできました．')\n",
        "  print('合格です．')\n",
        "\n",
        "elif score >= pass_line - 20 :\n",
        "  print('あと少し')\n",
        "  print('不合格です．')\n",
        "\n",
        "else:\n",
        "  print('全然だめです')\n",
        "  print('不合格です')\n",
        "\n",
        "print('次回は12月に行います')"
      ],
      "metadata": {
        "colab": {
          "base_uri": "https://localhost:8080/"
        },
        "id": "dsMmrRS4lMMo",
        "outputId": "41943685-63cc-4c3a-fc0c-98b498d16f3d"
      },
      "execution_count": null,
      "outputs": [
        {
          "output_type": "stream",
          "name": "stdout",
          "text": [
            "点数を入力してください：　10\n",
            "全然だめです\n",
            "不合格です\n",
            "次回は12月に行います\n"
          ]
        }
      ]
    },
    {
      "cell_type": "code",
      "source": [
        "print('演算を選んでください')\n",
        "print('1:足し算')\n",
        "print('2:引き算')\n",
        "print('3:掛け算')\n",
        "print('4:割り算')\n",
        "\n",
        "ope = input('演算を選んでください: ')\n",
        "ope = int(ope)\n",
        "\n",
        "num1 = input('左の項を入力してください：　')\n",
        "num2 = input('右の項を入力してください：　')\n",
        "\n",
        "num1 = int(num1)\n",
        "num2 = int(num2)\n",
        "\n",
        "if ope == 1:\n",
        "  print(num1 + num2)\n",
        "\n",
        "elif ope == 2:\n",
        "  print(num1 - num2)\n",
        "\n",
        "elif ope ==3:\n",
        "  print( num1 * num2)\n",
        "\n",
        "else:\n",
        "  print(num1 / num2)\n",
        "\n",
        "input('Enterキーで終了')"
      ],
      "metadata": {
        "colab": {
          "base_uri": "https://localhost:8080/",
          "height": 209
        },
        "id": "FdQm0vjJyGEO",
        "outputId": "82fe7cb2-9ca8-4c48-b4d5-bd87e74c4f9c"
      },
      "execution_count": null,
      "outputs": [
        {
          "name": "stdout",
          "output_type": "stream",
          "text": [
            "演算を選んでください\n",
            "1:足し算\n",
            "2:引き算\n",
            "3:掛け算\n",
            "4:割り算\n",
            "演算を選んでください: 2\n",
            "左の項を入力してください：　3\n",
            "右の項を入力してください：　5\n",
            "-2\n",
            "Enterキーで終了\n"
          ]
        },
        {
          "output_type": "execute_result",
          "data": {
            "application/vnd.google.colaboratory.intrinsic+json": {
              "type": "string"
            },
            "text/plain": [
              "''"
            ]
          },
          "metadata": {},
          "execution_count": 25
        }
      ]
    }
  ]
}