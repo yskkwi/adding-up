{
  "nbformat": 4,
  "nbformat_minor": 0,
  "metadata": {
    "colab": {
      "name": "C++ 3 .ipynb",
      "provenance": [],
      "collapsed_sections": [],
      "authorship_tag": "ABX9TyMZ/5mDf6AGjfom9BqPzBKl",
      "include_colab_link": true
    },
    "kernelspec": {
      "name": "python3",
      "display_name": "Python 3"
    },
    "language_info": {
      "name": "python"
    },
    "accelerator": "GPU"
  },
  "cells": [
    {
      "cell_type": "markdown",
      "metadata": {
        "id": "view-in-github",
        "colab_type": "text"
      },
      "source": [
        "<a href=\"https://colab.research.google.com/github/yskkwi/adding-up/blob/master/C%2B%2B_3_.ipynb\" target=\"_parent\"><img src=\"https://colab.research.google.com/assets/colab-badge.svg\" alt=\"Open In Colab\"/></a>"
      ]
    },
    {
      "cell_type": "code",
      "execution_count": 2,
      "metadata": {
        "colab": {
          "base_uri": "https://localhost:8080/"
        },
        "id": "oINrtihC8A47",
        "outputId": "abec9dfa-0255-4910-d59b-bf852696c44d"
      },
      "outputs": [
        {
          "output_type": "stream",
          "name": "stdout",
          "text": [
            "Overwriting temp.cpp\n"
          ]
        }
      ],
      "source": [
        "%%writefile temp.cpp\n",
        "#include<iostream>\n",
        "\n",
        "using namespace std;\n",
        "\n",
        "int main(){\n",
        "    \n",
        "    int hand;\n",
        "    \n",
        "    do{\n",
        "        cout <<\"手を選んでください．(0…グー/1…チョキ/2…パー):\";\n",
        "       cin >> hand;\n",
        "    }while(hand<0 || hand>2);\n",
        "\n",
        "    switch(hand){\n",
        "        case 0:cout<<\"グー\\n\";\n",
        "        break;\n",
        "        case 1:cout<<\"チョキ\\n\";\n",
        "        break;\n",
        "        case 2:cout<<\"パー\\n\";\n",
        "        break;\n",
        "    }\n",
        "    \n",
        "    }"
      ]
    },
    {
      "cell_type": "code",
      "source": [
        "!g++ temp.cpp; ./a.out"
      ],
      "metadata": {
        "colab": {
          "base_uri": "https://localhost:8080/"
        },
        "id": "Ayia7gEP9V-M",
        "outputId": "425acc18-0f3b-481a-ed76-eb6a5c0641c4"
      },
      "execution_count": 3,
      "outputs": [
        {
          "output_type": "stream",
          "name": "stdout",
          "text": [
            "手を選んでください．(0…グー/1…チョキ/2…パー):0\n",
            "グー\n"
          ]
        }
      ]
    },
    {
      "cell_type": "code",
      "source": [
        "%%writefile temp.cpp\n",
        "#include<iostream>\n",
        "\n",
        "using namespace std;\n",
        "\n",
        "int main(){\n",
        "    \n",
        "    int hand;\n",
        "    \n",
        "    do{\n",
        "        cout <<\"手を選んでください．(0…グー/1…チョキ/2…パー):\";\n",
        "       cin >> hand;\n",
        "    }while (!(hand>=0 && hand<=2));\n",
        "\n",
        "    switch(hand){\n",
        "        case 0:cout<<\"グー\\n\";\n",
        "        break;\n",
        "        case 1:cout<<\"チョキ\\n\";\n",
        "        break;\n",
        "        case 2:cout<<\"パー\\n\";\n",
        "        break;\n",
        "    }\n",
        "    \n",
        "    }"
      ],
      "metadata": {
        "colab": {
          "base_uri": "https://localhost:8080/"
        },
        "id": "YcfA4oxo9acI",
        "outputId": "ba6d904c-3a5c-4263-aa5f-54f4a3b2b6d2"
      },
      "execution_count": 4,
      "outputs": [
        {
          "output_type": "stream",
          "name": "stdout",
          "text": [
            "Overwriting temp.cpp\n"
          ]
        }
      ]
    },
    {
      "cell_type": "code",
      "source": [
        "!g++ temp.cpp; ./a.out"
      ],
      "metadata": {
        "colab": {
          "base_uri": "https://localhost:8080/"
        },
        "id": "agk-87XZ-PDA",
        "outputId": "78ca5922-5cff-486d-8783-828790288298"
      },
      "execution_count": 5,
      "outputs": [
        {
          "output_type": "stream",
          "name": "stdout",
          "text": [
            "手を選んでください．(0…グー/1…チョキ/2…パー):3\n",
            "手を選んでください．(0…グー/1…チョキ/2…パー):2\n",
            "パー\n"
          ]
        }
      ]
    },
    {
      "cell_type": "code",
      "source": [
        "%%writefile temp.cpp\n",
        "#include<ctime>\n",
        "#include<cstdlib>\n",
        "#include<iostream>\n",
        "\n",
        "using namespace std;\n",
        "\n",
        "int main(){\n",
        "    \n",
        "    srand(time(NULL));\n",
        "    int no = rand() % 10;\n",
        "    int x;\n",
        "\n",
        "    cout <<\"数あてゲーム！いえーい！\\n\";\n",
        "    cout << \"0～9の数を入れてください\\n\";\n",
        "\n",
        "    do{\n",
        "        cout<<\"0～9:\";\n",
        "       cin >> x;\n",
        "\n",
        "       if(x>no)\n",
        "         cout<<\"もっと小さい\\n\";\n",
        "       else if(x<no)\n",
        "         cout<<\"もっと大きい\\n\";\n",
        "    }while (x != no);\n",
        "\n",
        "    cout <<\"正解！\";\n",
        "}"
      ],
      "metadata": {
        "colab": {
          "base_uri": "https://localhost:8080/"
        },
        "id": "oMhPsSzG-SuK",
        "outputId": "cd872fca-94a2-4a2d-d082-f06b28b66690"
      },
      "execution_count": 6,
      "outputs": [
        {
          "output_type": "stream",
          "name": "stdout",
          "text": [
            "Overwriting temp.cpp\n"
          ]
        }
      ]
    },
    {
      "cell_type": "code",
      "source": [
        "!g++ temp.cpp ; ./a.out"
      ],
      "metadata": {
        "colab": {
          "base_uri": "https://localhost:8080/"
        },
        "id": "1jl4jIUdBJNf",
        "outputId": "042ba26d-4aa4-4629-9f45-fe2400adf12c"
      },
      "execution_count": 7,
      "outputs": [
        {
          "output_type": "stream",
          "name": "stdout",
          "text": [
            "数あてゲーム！いえーい！\n",
            "0～9の数を入れてください\n",
            "0～9:7\n",
            "もっと小さい\n",
            "0～9:3\n",
            "もっと大きい\n",
            "0～9:5\n",
            "もっと小さい\n",
            "0～9:4\n",
            "正解！"
          ]
        }
      ]
    },
    {
      "cell_type": "code",
      "source": [
        ""
      ],
      "metadata": {
        "id": "H5R6P-M3BNDD"
      },
      "execution_count": null,
      "outputs": []
    }
  ]
}