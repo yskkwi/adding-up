{
  "nbformat": 4,
  "nbformat_minor": 0,
  "metadata": {
    "colab": {
      "name": "Python自然言語処理１０１本ノックその２.ipynb のコピー",
      "provenance": [],
      "collapsed_sections": [],
      "toc_visible": true,
      "include_colab_link": true
    },
    "kernelspec": {
      "name": "python3",
      "display_name": "Python 3"
    },
    "accelerator": "GPU"
  },
  "cells": [
    {
      "cell_type": "markdown",
      "metadata": {
        "id": "view-in-github",
        "colab_type": "text"
      },
      "source": [
        "<a href=\"https://colab.research.google.com/github/yskkwi/adding-up/blob/master/Python%E8%87%AA%E7%84%B6%E8%A8%80%E8%AA%9E%E5%87%A6%E7%90%86%EF%BC%91%EF%BC%90%EF%BC%91%E6%9C%AC%E3%83%8E%E3%83%83%E3%82%AF%E3%81%9D%E3%81%AE%EF%BC%92_ipynb_%E3%81%AE%E3%82%B3%E3%83%94%E3%83%BC.ipynb\" target=\"_parent\"><img src=\"https://colab.research.google.com/assets/colab-badge.svg\" alt=\"Open In Colab\"/></a>"
      ]
    },
    {
      "cell_type": "markdown",
      "metadata": {
        "id": "UJZe0_hCTDaf"
      },
      "source": [
        "# 第４章　形態素解析・係り受け解析"
      ]
    },
    {
      "cell_type": "markdown",
      "metadata": {
        "id": "NAYqWzIhnN15"
      },
      "source": [
        "## ３０：形態素解析ツール（Mecab)および係り受け解析ツール(Cabocha)のインストール"
      ]
    },
    {
      "cell_type": "code",
      "metadata": {
        "id": "YXeOHbH1R-AU",
        "colab": {
          "base_uri": "https://localhost:8080/"
        },
        "outputId": "eec087d9-65d7-42d2-e450-905b1228927c"
      },
      "source": [
        "# 確認日時（2020/7/19）\n",
        "!apt install -y curl file git libmecab-dev make mecab mecab-ipadic-utf8 swig xz-utils\n",
        "!pip install mecab-python3\n",
        "import os\n",
        "\n",
        "filename_crfpp = 'crfpp.tar.gz'\n",
        "!wget \"https://drive.google.com/uc?export=download&id=0B4y35FiV1wh7QVR6VXJ5dWExSTQ\" \\\n",
        "    -O $filename_crfpp\n",
        "!tar zxvf $filename_crfpp\n",
        "%cd CRF++-0.58\n",
        "!./configure\n",
        "!make\n",
        "!make install\n",
        "%cd ..\n",
        "\n",
        "os.environ['LD_LIBRARY_PATH'] += ':/usr/local/lib' \n",
        "FILE_ID = \"0B4y35FiV1wh7SDd1Q1dUQkZQaUU\"\n",
        "FILE_NAME = \"cabocha.tar.bz2\"\n",
        "!wget --load-cookies /tmp/cookies.txt \"https://docs.google.com/uc?export=download&confirm=\\\n",
        "$(wget --quiet --save-cookies /tmp/cookies.txt \\\n",
        "  --keep-session-cookies --no-check-certificate 'https://docs.google.com/uc?export=download&id=$FILE_ID' -O- \\\n",
        "  | sed -rn 's/.*confirm=([0-9A-Za-z_]+).*/\\1\\n/p')&id=$FILE_ID\" -O $FILE_NAME && rm -rf /tmp/cookies.txt\n",
        "!tar -xvf cabocha.tar.bz2\n",
        "%cd cabocha-0.69\n",
        "!./configure --with-mecab-config=`which mecab-config` --with-charset=UTF8\n",
        "!make\n",
        "!make check\n",
        "!make install\n",
        "%cd ..\n",
        "\n",
        "%cd cabocha-0.69/python\n",
        "!python setup.py build_ext\n",
        "!python setup.py install\n",
        "!ldconfig\n",
        "%cd ../\n",
        "%cd cabocha-0.69\n",
        "!make\n",
        "!make check\n",
        "!make install\n",
        "%cd ../"
      ],
      "execution_count": null,
      "outputs": [
        {
          "output_type": "stream",
          "name": "stdout",
          "text": [
            "Reading package lists... Done\n",
            "Building dependency tree       \n",
            "Reading state information... Done\n",
            "make is already the newest version (4.1-9.1ubuntu1).\n",
            "make set to manually installed.\n",
            "xz-utils is already the newest version (5.2.2-1.3).\n",
            "xz-utils set to manually installed.\n",
            "curl is already the newest version (7.58.0-2ubuntu3.16).\n",
            "git is already the newest version (1:2.17.1-1ubuntu0.9).\n",
            "The following additional packages will be installed:\n",
            "  libmagic-mgc libmagic1 libmecab2 mecab-ipadic mecab-jumandic\n",
            "  mecab-jumandic-utf8 mecab-utils swig3.0\n",
            "Suggested packages:\n",
            "  swig-doc swig-examples swig3.0-examples swig3.0-doc\n",
            "The following NEW packages will be installed:\n",
            "  file libmagic-mgc libmagic1 libmecab-dev libmecab2 mecab mecab-ipadic\n",
            "  mecab-ipadic-utf8 mecab-jumandic mecab-jumandic-utf8 mecab-utils swig\n",
            "  swig3.0\n",
            "0 upgraded, 13 newly installed, 0 to remove and 37 not upgraded.\n",
            "Need to get 30.4 MB of archives.\n",
            "After this operation, 288 MB of additional disk space will be used.\n",
            "Get:1 http://archive.ubuntu.com/ubuntu bionic-updates/main amd64 libmagic-mgc amd64 1:5.32-2ubuntu0.4 [184 kB]\n",
            "Get:2 http://archive.ubuntu.com/ubuntu bionic-updates/main amd64 libmagic1 amd64 1:5.32-2ubuntu0.4 [68.6 kB]\n",
            "Get:3 http://archive.ubuntu.com/ubuntu bionic-updates/main amd64 file amd64 1:5.32-2ubuntu0.4 [22.1 kB]\n",
            "Get:4 http://archive.ubuntu.com/ubuntu bionic/universe amd64 libmecab2 amd64 0.996-5 [257 kB]\n",
            "Get:5 http://archive.ubuntu.com/ubuntu bionic/universe amd64 libmecab-dev amd64 0.996-5 [308 kB]\n",
            "Get:6 http://archive.ubuntu.com/ubuntu bionic/universe amd64 mecab-utils amd64 0.996-5 [4,856 B]\n",
            "Get:7 http://archive.ubuntu.com/ubuntu bionic/universe amd64 mecab-jumandic-utf8 all 7.0-20130310-4 [16.2 MB]\n",
            "Get:8 http://archive.ubuntu.com/ubuntu bionic/universe amd64 mecab-jumandic all 7.0-20130310-4 [2,212 B]\n",
            "Get:9 http://archive.ubuntu.com/ubuntu bionic/universe amd64 mecab-ipadic all 2.7.0-20070801+main-1 [12.1 MB]\n",
            "Get:10 http://archive.ubuntu.com/ubuntu bionic/universe amd64 mecab amd64 0.996-5 [132 kB]\n",
            "Get:11 http://archive.ubuntu.com/ubuntu bionic/universe amd64 mecab-ipadic-utf8 all 2.7.0-20070801+main-1 [3,522 B]\n",
            "Get:12 http://archive.ubuntu.com/ubuntu bionic/universe amd64 swig3.0 amd64 3.0.12-1 [1,094 kB]\n",
            "Get:13 http://archive.ubuntu.com/ubuntu bionic/universe amd64 swig amd64 3.0.12-1 [6,460 B]\n",
            "Fetched 30.4 MB in 2s (12.9 MB/s)\n",
            "Selecting previously unselected package libmagic-mgc.\n",
            "(Reading database ... 155047 files and directories currently installed.)\n",
            "Preparing to unpack .../00-libmagic-mgc_1%3a5.32-2ubuntu0.4_amd64.deb ...\n",
            "Unpacking libmagic-mgc (1:5.32-2ubuntu0.4) ...\n",
            "Selecting previously unselected package libmagic1:amd64.\n",
            "Preparing to unpack .../01-libmagic1_1%3a5.32-2ubuntu0.4_amd64.deb ...\n",
            "Unpacking libmagic1:amd64 (1:5.32-2ubuntu0.4) ...\n",
            "Selecting previously unselected package file.\n",
            "Preparing to unpack .../02-file_1%3a5.32-2ubuntu0.4_amd64.deb ...\n",
            "Unpacking file (1:5.32-2ubuntu0.4) ...\n",
            "Selecting previously unselected package libmecab2:amd64.\n",
            "Preparing to unpack .../03-libmecab2_0.996-5_amd64.deb ...\n",
            "Unpacking libmecab2:amd64 (0.996-5) ...\n",
            "Selecting previously unselected package libmecab-dev.\n",
            "Preparing to unpack .../04-libmecab-dev_0.996-5_amd64.deb ...\n",
            "Unpacking libmecab-dev (0.996-5) ...\n",
            "Selecting previously unselected package mecab-utils.\n",
            "Preparing to unpack .../05-mecab-utils_0.996-5_amd64.deb ...\n",
            "Unpacking mecab-utils (0.996-5) ...\n",
            "Selecting previously unselected package mecab-jumandic-utf8.\n",
            "Preparing to unpack .../06-mecab-jumandic-utf8_7.0-20130310-4_all.deb ...\n",
            "Unpacking mecab-jumandic-utf8 (7.0-20130310-4) ...\n",
            "Selecting previously unselected package mecab-jumandic.\n",
            "Preparing to unpack .../07-mecab-jumandic_7.0-20130310-4_all.deb ...\n",
            "Unpacking mecab-jumandic (7.0-20130310-4) ...\n",
            "Selecting previously unselected package mecab-ipadic.\n",
            "Preparing to unpack .../08-mecab-ipadic_2.7.0-20070801+main-1_all.deb ...\n",
            "Unpacking mecab-ipadic (2.7.0-20070801+main-1) ...\n",
            "Selecting previously unselected package mecab.\n",
            "Preparing to unpack .../09-mecab_0.996-5_amd64.deb ...\n",
            "Unpacking mecab (0.996-5) ...\n",
            "Selecting previously unselected package mecab-ipadic-utf8.\n",
            "Preparing to unpack .../10-mecab-ipadic-utf8_2.7.0-20070801+main-1_all.deb ...\n",
            "Unpacking mecab-ipadic-utf8 (2.7.0-20070801+main-1) ...\n",
            "Selecting previously unselected package swig3.0.\n",
            "Preparing to unpack .../11-swig3.0_3.0.12-1_amd64.deb ...\n",
            "Unpacking swig3.0 (3.0.12-1) ...\n",
            "Selecting previously unselected package swig.\n",
            "Preparing to unpack .../12-swig_3.0.12-1_amd64.deb ...\n",
            "Unpacking swig (3.0.12-1) ...\n",
            "Setting up swig3.0 (3.0.12-1) ...\n",
            "Setting up libmecab2:amd64 (0.996-5) ...\n",
            "Setting up libmagic-mgc (1:5.32-2ubuntu0.4) ...\n",
            "Setting up libmagic1:amd64 (1:5.32-2ubuntu0.4) ...\n",
            "Setting up mecab-utils (0.996-5) ...\n",
            "Setting up mecab-ipadic (2.7.0-20070801+main-1) ...\n",
            "Compiling IPA dictionary for Mecab.  This takes long time...\n",
            "reading /usr/share/mecab/dic/ipadic/unk.def ... 40\n",
            "emitting double-array: 100% |###########################################| \n",
            "/usr/share/mecab/dic/ipadic/model.def is not found. skipped.\n",
            "reading /usr/share/mecab/dic/ipadic/Noun.verbal.csv ... 12146\n",
            "reading /usr/share/mecab/dic/ipadic/Noun.number.csv ... 42\n",
            "reading /usr/share/mecab/dic/ipadic/Noun.adverbal.csv ... 795\n",
            "reading /usr/share/mecab/dic/ipadic/Interjection.csv ... 252\n",
            "reading /usr/share/mecab/dic/ipadic/Prefix.csv ... 221\n",
            "reading /usr/share/mecab/dic/ipadic/Adnominal.csv ... 135\n",
            "reading /usr/share/mecab/dic/ipadic/Adverb.csv ... 3032\n",
            "reading /usr/share/mecab/dic/ipadic/Noun.others.csv ... 151\n",
            "reading /usr/share/mecab/dic/ipadic/Noun.org.csv ... 16668\n",
            "reading /usr/share/mecab/dic/ipadic/Noun.name.csv ... 34202\n",
            "reading /usr/share/mecab/dic/ipadic/Adj.csv ... 27210\n",
            "reading /usr/share/mecab/dic/ipadic/Symbol.csv ... 208\n",
            "reading /usr/share/mecab/dic/ipadic/Filler.csv ... 19\n",
            "reading /usr/share/mecab/dic/ipadic/Suffix.csv ... 1393\n",
            "reading /usr/share/mecab/dic/ipadic/Noun.demonst.csv ... 120\n",
            "reading /usr/share/mecab/dic/ipadic/Others.csv ... 2\n",
            "reading /usr/share/mecab/dic/ipadic/Noun.csv ... 60477\n",
            "reading /usr/share/mecab/dic/ipadic/Noun.proper.csv ... 27327\n",
            "reading /usr/share/mecab/dic/ipadic/Postp.csv ... 146\n",
            "reading /usr/share/mecab/dic/ipadic/Postp-col.csv ... 91\n",
            "reading /usr/share/mecab/dic/ipadic/Noun.place.csv ... 72999\n",
            "reading /usr/share/mecab/dic/ipadic/Conjunction.csv ... 171\n",
            "reading /usr/share/mecab/dic/ipadic/Verb.csv ... 130750\n",
            "reading /usr/share/mecab/dic/ipadic/Noun.nai.csv ... 42\n",
            "reading /usr/share/mecab/dic/ipadic/Noun.adjv.csv ... 3328\n",
            "reading /usr/share/mecab/dic/ipadic/Auxil.csv ... 199\n",
            "emitting double-array: 100% |###########################################| \n",
            "reading /usr/share/mecab/dic/ipadic/matrix.def ... 1316x1316\n",
            "emitting matrix      : 100% |###########################################| \n",
            "\n",
            "done!\n",
            "update-alternatives: using /var/lib/mecab/dic/ipadic to provide /var/lib/mecab/dic/debian (mecab-dictionary) in auto mode\n",
            "Setting up swig (3.0.12-1) ...\n",
            "Setting up libmecab-dev (0.996-5) ...\n",
            "Setting up file (1:5.32-2ubuntu0.4) ...\n",
            "Setting up mecab-jumandic-utf8 (7.0-20130310-4) ...\n",
            "Compiling Juman dictionary for Mecab.\n",
            "reading /usr/share/mecab/dic/juman/unk.def ... 37\n",
            "emitting double-array: 100% |###########################################| \n",
            "reading /usr/share/mecab/dic/juman/Assert.csv ... 34\n",
            "reading /usr/share/mecab/dic/juman/Special.csv ... 158\n",
            "reading /usr/share/mecab/dic/juman/Prefix.csv ... 90\n",
            "reading /usr/share/mecab/dic/juman/Wikipedia.csv ... 167709\n",
            "reading /usr/share/mecab/dic/juman/Emoticon.csv ... 972\n",
            "reading /usr/share/mecab/dic/juman/Noun.hukusi.csv ... 81\n",
            "reading /usr/share/mecab/dic/juman/Suffix.csv ... 2128\n",
            "reading /usr/share/mecab/dic/juman/Noun.keishiki.csv ... 8\n",
            "reading /usr/share/mecab/dic/juman/Noun.koyuu.csv ... 7964\n",
            "reading /usr/share/mecab/dic/juman/Auto.csv ... 18931\n",
            "reading /usr/share/mecab/dic/juman/Demonstrative.csv ... 97\n",
            "reading /usr/share/mecab/dic/juman/Postp.csv ... 108\n",
            "reading /usr/share/mecab/dic/juman/Rengo.csv ... 1118\n",
            "reading /usr/share/mecab/dic/juman/Noun.suusi.csv ... 49\n",
            "reading /usr/share/mecab/dic/juman/AuxV.csv ... 593\n",
            "reading /usr/share/mecab/dic/juman/ContentW.csv ... 551145\n",
            "emitting double-array: 100% |###########################################| \n",
            "reading /usr/share/mecab/dic/juman/matrix.def ... 1876x1876\n",
            "emitting matrix      : 100% |###########################################| \n",
            "\n",
            "done!\n",
            "Setting up mecab-ipadic-utf8 (2.7.0-20070801+main-1) ...\n",
            "Compiling IPA dictionary for Mecab.  This takes long time...\n",
            "reading /usr/share/mecab/dic/ipadic/unk.def ... 40\n",
            "emitting double-array: 100% |###########################################| \n",
            "/usr/share/mecab/dic/ipadic/model.def is not found. skipped.\n",
            "reading /usr/share/mecab/dic/ipadic/Noun.verbal.csv ... 12146\n",
            "reading /usr/share/mecab/dic/ipadic/Noun.number.csv ... 42\n",
            "reading /usr/share/mecab/dic/ipadic/Noun.adverbal.csv ... 795\n",
            "reading /usr/share/mecab/dic/ipadic/Interjection.csv ... 252\n",
            "reading /usr/share/mecab/dic/ipadic/Prefix.csv ... 221\n",
            "reading /usr/share/mecab/dic/ipadic/Adnominal.csv ... 135\n",
            "reading /usr/share/mecab/dic/ipadic/Adverb.csv ... 3032\n",
            "reading /usr/share/mecab/dic/ipadic/Noun.others.csv ... 151\n",
            "reading /usr/share/mecab/dic/ipadic/Noun.org.csv ... 16668\n",
            "reading /usr/share/mecab/dic/ipadic/Noun.name.csv ... 34202\n",
            "reading /usr/share/mecab/dic/ipadic/Adj.csv ... 27210\n",
            "reading /usr/share/mecab/dic/ipadic/Symbol.csv ... 208\n",
            "reading /usr/share/mecab/dic/ipadic/Filler.csv ... 19\n",
            "reading /usr/share/mecab/dic/ipadic/Suffix.csv ... 1393\n",
            "reading /usr/share/mecab/dic/ipadic/Noun.demonst.csv ... 120\n",
            "reading /usr/share/mecab/dic/ipadic/Others.csv ... 2\n",
            "reading /usr/share/mecab/dic/ipadic/Noun.csv ... 60477\n",
            "reading /usr/share/mecab/dic/ipadic/Noun.proper.csv ... 27327\n",
            "reading /usr/share/mecab/dic/ipadic/Postp.csv ... 146\n",
            "reading /usr/share/mecab/dic/ipadic/Postp-col.csv ... 91\n",
            "reading /usr/share/mecab/dic/ipadic/Noun.place.csv ... 72999\n",
            "reading /usr/share/mecab/dic/ipadic/Conjunction.csv ... 171\n",
            "reading /usr/share/mecab/dic/ipadic/Verb.csv ... 130750\n",
            "reading /usr/share/mecab/dic/ipadic/Noun.nai.csv ... 42\n",
            "reading /usr/share/mecab/dic/ipadic/Noun.adjv.csv ... 3328\n",
            "reading /usr/share/mecab/dic/ipadic/Auxil.csv ... 199\n",
            "emitting double-array: 100% |###########################################| \n",
            "reading /usr/share/mecab/dic/ipadic/matrix.def ... 1316x1316\n",
            "emitting matrix      : 100% |###########################################| \n",
            "\n",
            "done!\n",
            "update-alternatives: using /var/lib/mecab/dic/ipadic-utf8 to provide /var/lib/mecab/dic/debian (mecab-dictionary) in auto mode\n",
            "Setting up mecab (0.996-5) ...\n",
            "Compiling IPA dictionary for Mecab.  This takes long time...\n",
            "reading /usr/share/mecab/dic/ipadic/unk.def ... 40\n",
            "emitting double-array: 100% |###########################################| \n",
            "/usr/share/mecab/dic/ipadic/model.def is not found. skipped.\n",
            "reading /usr/share/mecab/dic/ipadic/Noun.verbal.csv ... 12146\n",
            "reading /usr/share/mecab/dic/ipadic/Noun.number.csv ... 42\n",
            "reading /usr/share/mecab/dic/ipadic/Noun.adverbal.csv ... 795\n",
            "reading /usr/share/mecab/dic/ipadic/Interjection.csv ... 252\n",
            "reading /usr/share/mecab/dic/ipadic/Prefix.csv ... 221\n",
            "reading /usr/share/mecab/dic/ipadic/Adnominal.csv ... 135\n",
            "reading /usr/share/mecab/dic/ipadic/Adverb.csv ... 3032\n",
            "reading /usr/share/mecab/dic/ipadic/Noun.others.csv ... 151\n",
            "reading /usr/share/mecab/dic/ipadic/Noun.org.csv ... 16668\n",
            "reading /usr/share/mecab/dic/ipadic/Noun.name.csv ... 34202\n",
            "reading /usr/share/mecab/dic/ipadic/Adj.csv ... 27210\n",
            "reading /usr/share/mecab/dic/ipadic/Symbol.csv ... 208\n",
            "reading /usr/share/mecab/dic/ipadic/Filler.csv ... 19\n",
            "reading /usr/share/mecab/dic/ipadic/Suffix.csv ... 1393\n",
            "reading /usr/share/mecab/dic/ipadic/Noun.demonst.csv ... 120\n",
            "reading /usr/share/mecab/dic/ipadic/Others.csv ... 2\n",
            "reading /usr/share/mecab/dic/ipadic/Noun.csv ... 60477\n",
            "reading /usr/share/mecab/dic/ipadic/Noun.proper.csv ... 27327\n",
            "reading /usr/share/mecab/dic/ipadic/Postp.csv ... 146\n",
            "reading /usr/share/mecab/dic/ipadic/Postp-col.csv ... 91\n",
            "reading /usr/share/mecab/dic/ipadic/Noun.place.csv ... 72999\n",
            "reading /usr/share/mecab/dic/ipadic/Conjunction.csv ... 171\n",
            "reading /usr/share/mecab/dic/ipadic/Verb.csv ... 130750\n",
            "reading /usr/share/mecab/dic/ipadic/Noun.nai.csv ... 42\n",
            "reading /usr/share/mecab/dic/ipadic/Noun.adjv.csv ... 3328\n",
            "reading /usr/share/mecab/dic/ipadic/Auxil.csv ... 199\n",
            "emitting double-array: 100% |###########################################| \n",
            "reading /usr/share/mecab/dic/ipadic/matrix.def ... 1316x1316\n",
            "emitting matrix      : 100% |###########################################| \n",
            "\n",
            "done!\n",
            "Setting up mecab-jumandic (7.0-20130310-4) ...\n",
            "Processing triggers for man-db (2.8.3-2ubuntu0.1) ...\n",
            "Processing triggers for libc-bin (2.27-3ubuntu1.3) ...\n",
            "/sbin/ldconfig.real: /usr/local/lib/python3.7/dist-packages/ideep4py/lib/libmkldnn.so.0 is not a symbolic link\n",
            "\n",
            "Collecting mecab-python3\n",
            "  Downloading mecab_python3-1.0.4-cp37-cp37m-manylinux_2_5_x86_64.manylinux1_x86_64.whl (488 kB)\n",
            "\u001b[K     |████████████████████████████████| 488 kB 5.4 MB/s \n",
            "\u001b[?25hInstalling collected packages: mecab-python3\n",
            "Successfully installed mecab-python3-1.0.4\n",
            "--2021-10-04 03:38:58--  https://drive.google.com/uc?export=download&id=0B4y35FiV1wh7QVR6VXJ5dWExSTQ\n",
            "Resolving drive.google.com (drive.google.com)... 172.217.214.100, 172.217.214.101, 172.217.214.102, ...\n",
            "Connecting to drive.google.com (drive.google.com)|172.217.214.100|:443... connected.\n",
            "HTTP request sent, awaiting response... 302 Moved Temporarily\n",
            "Location: https://doc-08-74-docs.googleusercontent.com/docs/securesc/ha0ro937gcuc7l7deffksulhg5h7mbp1/uenn5gticeple87sj77kdktjgqr5b8uc/1633318725000/13553212398903315502/*/0B4y35FiV1wh7QVR6VXJ5dWExSTQ?e=download [following]\n",
            "Warning: wildcards not supported in HTTP.\n",
            "--2021-10-04 03:39:02--  https://doc-08-74-docs.googleusercontent.com/docs/securesc/ha0ro937gcuc7l7deffksulhg5h7mbp1/uenn5gticeple87sj77kdktjgqr5b8uc/1633318725000/13553212398903315502/*/0B4y35FiV1wh7QVR6VXJ5dWExSTQ?e=download\n",
            "Resolving doc-08-74-docs.googleusercontent.com (doc-08-74-docs.googleusercontent.com)... 172.217.214.132, 2607:f8b0:4001:c05::84\n",
            "Connecting to doc-08-74-docs.googleusercontent.com (doc-08-74-docs.googleusercontent.com)|172.217.214.132|:443... connected.\n",
            "HTTP request sent, awaiting response... 200 OK\n",
            "Length: 790570 (772K) [application/x-gzip]\n",
            "Saving to: ‘crfpp.tar.gz’\n",
            "\n",
            "crfpp.tar.gz        100%[===================>] 772.04K  --.-KB/s    in 0.02s   \n",
            "\n",
            "2021-10-04 03:39:03 (41.6 MB/s) - ‘crfpp.tar.gz’ saved [790570/790570]\n",
            "\n",
            "CRF++-0.58/\n",
            "CRF++-0.58/INSTALL\n",
            "CRF++-0.58/python/\n",
            "CRF++-0.58/python/test.py\n",
            "CRF++-0.58/python/README\n",
            "CRF++-0.58/python/CRFPP.py\n",
            "CRF++-0.58/python/setup.py\n",
            "CRF++-0.58/python/CRFPP_wrap.cxx\n",
            "CRF++-0.58/Makefile.in\n",
            "CRF++-0.58/encoder.cpp\n",
            "CRF++-0.58/node.h\n",
            "CRF++-0.58/param.cpp\n",
            "CRF++-0.58/swig/\n",
            "CRF++-0.58/swig/CRFPP_wrap.c\n",
            "CRF++-0.58/swig/version.h\n",
            "CRF++-0.58/swig/version.h.in\n",
            "CRF++-0.58/swig/Makefile\n",
            "CRF++-0.58/swig/CRFPP.i\n",
            "CRF++-0.58/config.h.in\n",
            "CRF++-0.58/feature_cache.cpp\n",
            "CRF++-0.58/config.guess\n",
            "CRF++-0.58/scoped_ptr.h\n",
            "CRF++-0.58/node.cpp\n",
            "CRF++-0.58/README\n",
            "CRF++-0.58/timer.h\n",
            "CRF++-0.58/feature_index.h\n",
            "CRF++-0.58/config.sub\n",
            "CRF++-0.58/ltmain.sh\n",
            "CRF++-0.58/common.h\n",
            "CRF++-0.58/configure\n",
            "CRF++-0.58/crf_learn.cpp\n",
            "CRF++-0.58/darts.h\n",
            "CRF++-0.58/winmain.h\n",
            "CRF++-0.58/doc/\n",
            "CRF++-0.58/doc/html/\n",
            "CRF++-0.58/doc/html/search/\n",
            "CRF++-0.58/doc/html/search/nomatches.html\n",
            "CRF++-0.58/doc/html/search/search_r.png\n",
            "CRF++-0.58/doc/html/search/search_l.png\n",
            "CRF++-0.58/doc/html/search/mag_sel.png\n",
            "CRF++-0.58/doc/html/search/search.css\n",
            "CRF++-0.58/doc/html/search/search_m.png\n",
            "CRF++-0.58/doc/html/search/close.png\n",
            "CRF++-0.58/doc/html/search/search.js\n",
            "CRF++-0.58/doc/html/nav_f.png\n",
            "CRF++-0.58/doc/html/crfpp_8h_source.html\n",
            "CRF++-0.58/doc/html/jquery.js\n",
            "CRF++-0.58/doc/html/nav_h.png\n",
            "CRF++-0.58/doc/html/bc_s.png\n",
            "CRF++-0.58/doc/html/index.html\n",
            "CRF++-0.58/doc/html/closed.png\n",
            "CRF++-0.58/doc/html/tab_h.png\n",
            "CRF++-0.58/doc/html/tab_a.png\n",
            "CRF++-0.58/doc/html/tab_b.png\n",
            "CRF++-0.58/doc/html/installdox\n",
            "CRF++-0.58/doc/html/doxygen.css\n",
            "CRF++-0.58/doc/html/open.png\n",
            "CRF++-0.58/doc/html/tab_s.png\n",
            "CRF++-0.58/doc/html/files.html\n",
            "CRF++-0.58/doc/html/doxygen.png\n",
            "CRF++-0.58/doc/html/tabs.css\n",
            "CRF++-0.58/doc/latex/\n",
            "CRF++-0.58/doc/latex/refman.tex\n",
            "CRF++-0.58/doc/latex/doxygen.sty\n",
            "CRF++-0.58/doc/latex/Makefile\n",
            "CRF++-0.58/doc/index.html\n",
            "CRF++-0.58/doc/default.css\n",
            "CRF++-0.58/doc/doxygen/\n",
            "CRF++-0.58/doc/doxygen/tab_l.gif\n",
            "CRF++-0.58/doc/doxygen/namespacemembers.html\n",
            "CRF++-0.58/doc/doxygen/nav_f.png\n",
            "CRF++-0.58/doc/doxygen/crfpp_8h_source.html\n",
            "CRF++-0.58/doc/doxygen/namespaces.html\n",
            "CRF++-0.58/doc/doxygen/nav_h.png\n",
            "CRF++-0.58/doc/doxygen/namespaceCRFPP.html\n",
            "CRF++-0.58/doc/doxygen/globals.html\n",
            "CRF++-0.58/doc/doxygen/crfpp_8h-source.html\n",
            "CRF++-0.58/doc/doxygen/classCRFPP_1_1Tagger-members.html\n",
            "CRF++-0.58/doc/doxygen/tab_b.gif\n",
            "CRF++-0.58/doc/doxygen/functions.html\n",
            "CRF++-0.58/doc/doxygen/tab_r.gif\n",
            "CRF++-0.58/doc/doxygen/bc_s.png\n",
            "CRF++-0.58/doc/doxygen/namespacemembers_func.html\n",
            "CRF++-0.58/doc/doxygen/index.html\n",
            "CRF++-0.58/doc/doxygen/closed.png\n",
            "CRF++-0.58/doc/doxygen/classCRFPP_1_1Model.html\n",
            "CRF++-0.58/doc/doxygen/tab_h.png\n",
            "CRF++-0.58/doc/doxygen/functions_func.html\n",
            "CRF++-0.58/doc/doxygen/tab_a.png\n",
            "CRF++-0.58/doc/doxygen/globals_defs.html\n",
            "CRF++-0.58/doc/doxygen/classes.html\n",
            "CRF++-0.58/doc/doxygen/tab_b.png\n",
            "CRF++-0.58/doc/doxygen/globals_type.html\n",
            "CRF++-0.58/doc/doxygen/doxygen.css\n",
            "CRF++-0.58/doc/doxygen/open.png\n",
            "CRF++-0.58/doc/doxygen/tab_s.png\n",
            "CRF++-0.58/doc/doxygen/globals_func.html\n",
            "CRF++-0.58/doc/doxygen/crfpp_8h.html\n",
            "CRF++-0.58/doc/doxygen/classCRFPP_1_1Model-members.html\n",
            "CRF++-0.58/doc/doxygen/classCRFPP_1_1Tagger.html\n",
            "CRF++-0.58/doc/doxygen/files.html\n",
            "CRF++-0.58/doc/doxygen/doxygen.png\n",
            "CRF++-0.58/doc/doxygen/tabs.css\n",
            "CRF++-0.58/doc/doxygen/annotated.html\n",
            "CRF++-0.58/doc/crfpp.cfg\n",
            "CRF++-0.58/crf_test.cpp\n",
            "CRF++-0.58/mmap.h\n",
            "CRF++-0.58/Makefile.msvc.in\n",
            "CRF++-0.58/ChangeLog\n",
            "CRF++-0.58/feature_index.cpp\n",
            "CRF++-0.58/COPYING\n",
            "CRF++-0.58/libcrfpp.cpp\n",
            "CRF++-0.58/NEWS\n",
            "CRF++-0.58/mkinstalldirs\n",
            "CRF++-0.58/freelist.h\n",
            "CRF++-0.58/AUTHORS\n",
            "CRF++-0.58/merge-models.pl\n",
            "CRF++-0.58/java/\n",
            "CRF++-0.58/java/test.java\n",
            "CRF++-0.58/java/README\n",
            "CRF++-0.58/java/.am\n",
            "CRF++-0.58/java/Makefile\n",
            "CRF++-0.58/java/org/\n",
            "CRF++-0.58/java/org/chasen/\n",
            "CRF++-0.58/java/org/chasen/crfpp/\n",
            "CRF++-0.58/java/org/chasen/crfpp/SWIGTYPE_p_float.java\n",
            "CRF++-0.58/java/org/chasen/crfpp/CRFPPJNI.java\n",
            "CRF++-0.58/java/org/chasen/crfpp/SWIGTYPE_p_p_char.java\n",
            "CRF++-0.58/java/org/chasen/crfpp/CRFPP.java\n",
            "CRF++-0.58/java/org/chasen/crfpp/SWIGTYPE_p_int.java\n",
            "CRF++-0.58/java/org/chasen/crfpp/CRFPPConstants.java\n",
            "CRF++-0.58/java/org/chasen/crfpp/Model.java\n",
            "CRF++-0.58/java/org/chasen/crfpp/Tagger.java\n",
            "CRF++-0.58/java/CRFPP_wrap.cxx\n",
            "CRF++-0.58/encoder.h\n",
            "CRF++-0.58/crfpp.h\n",
            "CRF++-0.58/perl/\n",
            "CRF++-0.58/perl/test.pl\n",
            "CRF++-0.58/perl/README\n",
            "CRF++-0.58/perl/Makefile.PL\n",
            "CRF++-0.58/perl/CRFPP_wrap.cxx\n",
            "CRF++-0.58/perl/CRFPP.pm\n",
            "CRF++-0.58/aclocal.m4\n",
            "CRF++-0.58/lbfgs.cpp\n",
            "CRF++-0.58/lbfgs.h\n",
            "CRF++-0.58/install-sh\n",
            "CRF++-0.58/tagger.cpp\n",
            "CRF++-0.58/param.h\n",
            "CRF++-0.58/missing\n",
            "CRF++-0.58/feature_cache.h\n",
            "CRF++-0.58/feature.cpp\n",
            "CRF++-0.58/depcomp\n",
            "CRF++-0.58/stream_wrapper.h\n",
            "CRF++-0.58/sdk/\n",
            "CRF++-0.58/sdk/example.cpp\n",
            "CRF++-0.58/ruby/\n",
            "CRF++-0.58/ruby/extconf.rb\n",
            "CRF++-0.58/ruby/CRFPP_wrap.cpp\n",
            "CRF++-0.58/ruby/README\n",
            "CRF++-0.58/ruby/test.rb\n",
            "CRF++-0.58/configure.in\n",
            "CRF++-0.58/path.cpp\n",
            "CRF++-0.58/path.h\n",
            "CRF++-0.58/tagger.h\n",
            "CRF++-0.58/thread.h\n",
            "CRF++-0.58/example/\n",
            "CRF++-0.58/example/JapaneseNE/\n",
            "CRF++-0.58/example/JapaneseNE/train.data\n",
            "CRF++-0.58/example/JapaneseNE/test.data\n",
            "CRF++-0.58/example/JapaneseNE/exec.sh\n",
            "CRF++-0.58/example/JapaneseNE/template\n",
            "CRF++-0.58/example/chunking/\n",
            "CRF++-0.58/example/chunking/train.data\n",
            "CRF++-0.58/example/chunking/test.data\n",
            "CRF++-0.58/example/chunking/exec.sh\n",
            "CRF++-0.58/example/chunking/template\n",
            "CRF++-0.58/example/seg/\n",
            "CRF++-0.58/example/seg/train.data\n",
            "CRF++-0.58/example/seg/test.data\n",
            "CRF++-0.58/example/seg/exec.sh\n",
            "CRF++-0.58/example/seg/template\n",
            "CRF++-0.58/example/basenp/\n",
            "CRF++-0.58/example/basenp/train.data\n",
            "CRF++-0.58/example/basenp/test.data\n",
            "CRF++-0.58/example/basenp/exec.sh\n",
            "CRF++-0.58/example/basenp/template\n",
            "CRF++-0.58/Makefile.am\n",
            "/content/CRF++-0.58\n",
            "checking for a BSD-compatible install... /usr/bin/install -c\n",
            "checking whether build environment is sane... yes\n",
            "checking for a thread-safe mkdir -p... /bin/mkdir -p\n",
            "checking for gawk... no\n",
            "checking for mawk... mawk\n",
            "checking whether make sets $(MAKE)... yes\n",
            "checking for gcc... gcc\n",
            "checking whether the C compiler works... yes\n",
            "checking for C compiler default output file name... a.out\n",
            "checking for suffix of executables... \n",
            "checking whether we are cross compiling... no\n",
            "checking for suffix of object files... o\n",
            "checking whether we are using the GNU C compiler... yes\n",
            "checking whether gcc accepts -g... yes\n",
            "checking for gcc option to accept ISO C89... none needed\n",
            "checking for style of include used by make... GNU\n",
            "checking dependency style of gcc... gcc3\n",
            "checking for g++... g++\n",
            "checking whether we are using the GNU C++ compiler... yes\n",
            "checking whether g++ accepts -g... yes\n",
            "checking dependency style of g++... gcc3\n",
            "checking how to run the C preprocessor... gcc -E\n",
            "checking for grep that handles long lines and -e... /bin/grep\n",
            "checking for egrep... /bin/grep -E\n",
            "checking whether gcc needs -traditional... no\n",
            "checking whether make sets $(MAKE)... (cached) yes\n",
            "checking for library containing strerror... none required\n",
            "checking build system type... x86_64-unknown-linux-gnu\n",
            "checking host system type... x86_64-unknown-linux-gnu\n",
            "checking how to print strings... printf\n",
            "checking for a sed that does not truncate output... /bin/sed\n",
            "checking for fgrep... /bin/grep -F\n",
            "checking for ld used by gcc... /usr/bin/ld\n",
            "checking if the linker (/usr/bin/ld) is GNU ld... yes\n",
            "checking for BSD- or MS-compatible name lister (nm)... /usr/bin/nm -B\n",
            "checking the name lister (/usr/bin/nm -B) interface... BSD nm\n",
            "checking whether ln -s works... yes\n",
            "checking the maximum length of command line arguments... 1572864\n",
            "checking whether the shell understands some XSI constructs... yes\n",
            "checking whether the shell understands \"+=\"... yes\n",
            "checking how to convert x86_64-unknown-linux-gnu file names to x86_64-unknown-linux-gnu format... func_convert_file_noop\n",
            "checking how to convert x86_64-unknown-linux-gnu file names to toolchain format... func_convert_file_noop\n",
            "checking for /usr/bin/ld option to reload object files... -r\n",
            "checking for objdump... objdump\n",
            "checking how to recognize dependent libraries... pass_all\n",
            "checking for dlltool... no\n",
            "checking how to associate runtime and link libraries... printf %s\\n\n",
            "checking for ar... ar\n",
            "checking for archiver @FILE support... @\n",
            "checking for strip... strip\n",
            "checking for ranlib... ranlib\n",
            "checking command to parse /usr/bin/nm -B output from gcc object... ok\n",
            "checking for sysroot... no\n",
            "checking for mt... no\n",
            "checking if : is a manifest tool... no\n",
            "checking for ANSI C header files... no\n",
            "checking for sys/types.h... yes\n",
            "checking for sys/stat.h... yes\n",
            "checking for stdlib.h... yes\n",
            "checking for string.h... yes\n",
            "checking for memory.h... yes\n",
            "checking for strings.h... yes\n",
            "checking for inttypes.h... yes\n",
            "checking for stdint.h... yes\n",
            "checking for unistd.h... yes\n",
            "checking for dlfcn.h... yes\n",
            "checking for objdir... .libs\n",
            "checking if gcc supports -fno-rtti -fno-exceptions... no\n",
            "checking for gcc option to produce PIC... -fPIC -DPIC\n",
            "checking if gcc PIC flag -fPIC -DPIC works... yes\n",
            "checking if gcc static flag -static works... yes\n",
            "checking if gcc supports -c -o file.o... yes\n",
            "checking if gcc supports -c -o file.o... (cached) yes\n",
            "checking whether the gcc linker (/usr/bin/ld -m elf_x86_64) supports shared libraries... yes\n",
            "checking whether -lc should be explicitly linked in... no\n",
            "checking dynamic linker characteristics... GNU/Linux ld.so\n",
            "checking how to hardcode library paths into programs... immediate\n",
            "checking whether stripping libraries is possible... yes\n",
            "checking if libtool supports shared libraries... yes\n",
            "checking whether to build shared libraries... yes\n",
            "checking whether to build static libraries... yes\n",
            "checking how to run the C++ preprocessor... g++ -E\n",
            "checking for ld used by g++... /usr/bin/ld -m elf_x86_64\n",
            "checking if the linker (/usr/bin/ld -m elf_x86_64) is GNU ld... yes\n",
            "checking whether the g++ linker (/usr/bin/ld -m elf_x86_64) supports shared libraries... yes\n",
            "checking for g++ option to produce PIC... -fPIC -DPIC\n",
            "checking if g++ PIC flag -fPIC -DPIC works... yes\n",
            "checking if g++ static flag -static works... yes\n",
            "checking if g++ supports -c -o file.o... yes\n",
            "checking if g++ supports -c -o file.o... (cached) yes\n",
            "checking whether the g++ linker (/usr/bin/ld -m elf_x86_64) supports shared libraries... yes\n",
            "checking dynamic linker characteristics... (cached) GNU/Linux ld.so\n",
            "checking how to hardcode library paths into programs... immediate\n",
            "checking for ANSI C header files... (cached) no\n",
            "checking for string.h... (cached) yes\n",
            "checking for stdlib.h... (cached) yes\n",
            "checking for unistd.h... (cached) yes\n",
            "checking fcntl.h usability... yes\n",
            "checking fcntl.h presence... yes\n",
            "checking for fcntl.h... yes\n",
            "checking for sys/stat.h... (cached) yes\n",
            "checking sys/mman.h usability... yes\n",
            "checking sys/mman.h presence... yes\n",
            "checking for sys/mman.h... yes\n",
            "checking sys/times.h usability... yes\n",
            "checking sys/times.h presence... yes\n",
            "checking for sys/times.h... yes\n",
            "checking ctype.h usability... yes\n",
            "checking ctype.h presence... yes\n",
            "checking for ctype.h... yes\n",
            "checking for sys/types.h... (cached) yes\n",
            "checking math.h usability... yes\n",
            "checking math.h presence... yes\n",
            "checking for math.h... yes\n",
            "checking pthread.h usability... yes\n",
            "checking pthread.h presence... yes\n",
            "checking for pthread.h... yes\n",
            "checking for size_t... yes\n",
            "checking for pow in -lm... yes\n",
            "checking for exp in -lm... yes\n",
            "checking for log in -lm... yes\n",
            "checking for pthread_create in -lpthread... yes\n",
            "checking for pthread_join in -lpthread... yes\n",
            "checking for stdlib.h... (cached) yes\n",
            "checking for unistd.h... (cached) yes\n",
            "checking for sys/param.h... yes\n",
            "checking for getpagesize... yes\n",
            "checking for working mmap... yes\n",
            "checking whether make is GNU Make... yes\n",
            "checking if g++ supports stl <string> (required)... yes\n",
            "checking if g++ supports stl <vector> (required)... yes\n",
            "checking if g++ supports stl <map> (required)... yes\n",
            "checking if g++ supports stl <set> (required)... yes\n",
            "checking if g++ supports stl <iostream> (required)... yes\n",
            "checking if g++ supports stl <fstream> (required)... yes\n",
            "checking if g++ supports stl <sstream> (required)... yes\n",
            "checking if g++ supports stl <stdexcept> (required)... yes\n",
            "checking if g++ supports template <class T> (required)... yes\n",
            "checking if g++ supports const_cast<> (required)... yes\n",
            "checking if g++ supports static_cast<> (required)... yes\n",
            "checking if g++ supports dynamic_cast<> (required)... yes\n",
            "checking if g++ supports exception handler (required)... yes\n",
            "checking if g++ supports namespaces (required) ... yes\n",
            "checking if g++ supports __thread (optional)... yes\n",
            "checking if g++ supports _SC_NPROCESSORS_CONF (optional)... yes\n",
            "checking if g++ environment provides all required features... yes\n",
            "configure: creating ./config.status\n",
            "config.status: creating Makefile\n",
            "config.status: creating Makefile.msvc\n",
            "config.status: creating swig/version.h\n",
            "config.status: creating config.h\n",
            "config.status: executing depfiles commands\n",
            "config.status: executing libtool commands\n",
            "make  all-am\n",
            "make[1]: Entering directory '/content/CRF++-0.58'\n",
            "/bin/bash ./libtool --tag=CXX   --mode=compile g++ -DHAVE_CONFIG_H -I.     -O3 -Wall -c -o libcrfpp.lo libcrfpp.cpp\n",
            "libtool: compile:  g++ -DHAVE_CONFIG_H -I. -O3 -Wall -c libcrfpp.cpp  -fPIC -DPIC -o .libs/libcrfpp.o\n",
            "libtool: compile:  g++ -DHAVE_CONFIG_H -I. -O3 -Wall -c libcrfpp.cpp -o libcrfpp.o >/dev/null 2>&1\n",
            "/bin/bash ./libtool --tag=CXX   --mode=compile g++ -DHAVE_CONFIG_H -I.     -O3 -Wall -c -o lbfgs.lo lbfgs.cpp\n",
            "libtool: compile:  g++ -DHAVE_CONFIG_H -I. -O3 -Wall -c lbfgs.cpp  -fPIC -DPIC -o .libs/lbfgs.o\n",
            "libtool: compile:  g++ -DHAVE_CONFIG_H -I. -O3 -Wall -c lbfgs.cpp -o lbfgs.o >/dev/null 2>&1\n",
            "/bin/bash ./libtool --tag=CXX   --mode=compile g++ -DHAVE_CONFIG_H -I.     -O3 -Wall -c -o param.lo param.cpp\n",
            "libtool: compile:  g++ -DHAVE_CONFIG_H -I. -O3 -Wall -c param.cpp  -fPIC -DPIC -o .libs/param.o\n",
            "libtool: compile:  g++ -DHAVE_CONFIG_H -I. -O3 -Wall -c param.cpp -o param.o >/dev/null 2>&1\n",
            "/bin/bash ./libtool --tag=CXX   --mode=compile g++ -DHAVE_CONFIG_H -I.     -O3 -Wall -c -o encoder.lo encoder.cpp\n",
            "libtool: compile:  g++ -DHAVE_CONFIG_H -I. -O3 -Wall -c encoder.cpp  -fPIC -DPIC -o .libs/encoder.o\n",
            "libtool: compile:  g++ -DHAVE_CONFIG_H -I. -O3 -Wall -c encoder.cpp -o encoder.o >/dev/null 2>&1\n",
            "/bin/bash ./libtool --tag=CXX   --mode=compile g++ -DHAVE_CONFIG_H -I.     -O3 -Wall -c -o feature.lo feature.cpp\n",
            "libtool: compile:  g++ -DHAVE_CONFIG_H -I. -O3 -Wall -c feature.cpp  -fPIC -DPIC -o .libs/feature.o\n",
            "In file included from \u001b[01m\u001b[Ktagger.h:14:0\u001b[m\u001b[K,\n",
            "                 from \u001b[01m\u001b[Kfeature.cpp:12\u001b[m\u001b[K:\n",
            "\u001b[01m\u001b[Kparam.h:34:13:\u001b[m\u001b[K \u001b[01;35m\u001b[Kwarning: \u001b[m\u001b[K'\u001b[01m\u001b[KTarget CRFPP::{anonymous}::lexical_cast(Source) [with Target = std::__cxx11::basic_string<char>; Source = std::__cxx11::basic_string<char>]\u001b[m\u001b[K' defined but not used [\u001b[01;35m\u001b[K-Wunused-function\u001b[m\u001b[K]\n",
            " std::string \u001b[01;35m\u001b[Klexical_cast<std::string, std::string>\u001b[m\u001b[K(std::string arg) {\n",
            "             \u001b[01;35m\u001b[K^~~~~~~~~~~~~~~~~~~~~~~~~~~~~~~~~~~~~~\u001b[m\u001b[K\n",
            "libtool: compile:  g++ -DHAVE_CONFIG_H -I. -O3 -Wall -c feature.cpp -o feature.o >/dev/null 2>&1\n",
            "/bin/bash ./libtool --tag=CXX   --mode=compile g++ -DHAVE_CONFIG_H -I.     -O3 -Wall -c -o feature_cache.lo feature_cache.cpp\n",
            "libtool: compile:  g++ -DHAVE_CONFIG_H -I. -O3 -Wall -c feature_cache.cpp  -fPIC -DPIC -o .libs/feature_cache.o\n",
            "libtool: compile:  g++ -DHAVE_CONFIG_H -I. -O3 -Wall -c feature_cache.cpp -o feature_cache.o >/dev/null 2>&1\n",
            "/bin/bash ./libtool --tag=CXX   --mode=compile g++ -DHAVE_CONFIG_H -I.     -O3 -Wall -c -o feature_index.lo feature_index.cpp\n",
            "libtool: compile:  g++ -DHAVE_CONFIG_H -I. -O3 -Wall -c feature_index.cpp  -fPIC -DPIC -o .libs/feature_index.o\n",
            "libtool: compile:  g++ -DHAVE_CONFIG_H -I. -O3 -Wall -c feature_index.cpp -o feature_index.o >/dev/null 2>&1\n",
            "/bin/bash ./libtool --tag=CXX   --mode=compile g++ -DHAVE_CONFIG_H -I.     -O3 -Wall -c -o node.lo node.cpp\n",
            "libtool: compile:  g++ -DHAVE_CONFIG_H -I. -O3 -Wall -c node.cpp  -fPIC -DPIC -o .libs/node.o\n",
            "libtool: compile:  g++ -DHAVE_CONFIG_H -I. -O3 -Wall -c node.cpp -o node.o >/dev/null 2>&1\n",
            "/bin/bash ./libtool --tag=CXX   --mode=compile g++ -DHAVE_CONFIG_H -I.     -O3 -Wall -c -o path.lo path.cpp\n",
            "libtool: compile:  g++ -DHAVE_CONFIG_H -I. -O3 -Wall -c path.cpp  -fPIC -DPIC -o .libs/path.o\n",
            "libtool: compile:  g++ -DHAVE_CONFIG_H -I. -O3 -Wall -c path.cpp -o path.o >/dev/null 2>&1\n",
            "/bin/bash ./libtool --tag=CXX   --mode=compile g++ -DHAVE_CONFIG_H -I.     -O3 -Wall -c -o tagger.lo tagger.cpp\n",
            "libtool: compile:  g++ -DHAVE_CONFIG_H -I. -O3 -Wall -c tagger.cpp  -fPIC -DPIC -o .libs/tagger.o\n",
            "libtool: compile:  g++ -DHAVE_CONFIG_H -I. -O3 -Wall -c tagger.cpp -o tagger.o >/dev/null 2>&1\n",
            "/bin/bash ./libtool --tag=CXX   --mode=link g++  -O3 -Wall   -o libcrfpp.la -rpath /usr/local/lib libcrfpp.lo lbfgs.lo param.lo encoder.lo feature.lo feature_cache.lo feature_index.lo node.lo path.lo tagger.lo  -lpthread -lpthread -lm -lm -lm \n",
            "libtool: link: g++  -fPIC -DPIC -shared -nostdlib /usr/lib/gcc/x86_64-linux-gnu/7/../../../x86_64-linux-gnu/crti.o /usr/lib/gcc/x86_64-linux-gnu/7/crtbeginS.o  .libs/libcrfpp.o .libs/lbfgs.o .libs/param.o .libs/encoder.o .libs/feature.o .libs/feature_cache.o .libs/feature_index.o .libs/node.o .libs/path.o .libs/tagger.o   -lpthread -L/usr/lib/gcc/x86_64-linux-gnu/7 -L/usr/lib/gcc/x86_64-linux-gnu/7/../../../x86_64-linux-gnu -L/usr/lib/gcc/x86_64-linux-gnu/7/../../../../lib -L/lib/x86_64-linux-gnu -L/lib/../lib -L/usr/lib/x86_64-linux-gnu -L/usr/lib/../lib -L/usr/local/cuda/lib64/stubs -L/usr/lib/gcc/x86_64-linux-gnu/7/../../.. -lstdc++ -lm -lc -lgcc_s /usr/lib/gcc/x86_64-linux-gnu/7/crtendS.o /usr/lib/gcc/x86_64-linux-gnu/7/../../../x86_64-linux-gnu/crtn.o  -O3   -Wl,-soname -Wl,libcrfpp.so.0 -o .libs/libcrfpp.so.0.0.0\n",
            "libtool: link: (cd \".libs\" && rm -f \"libcrfpp.so.0\" && ln -s \"libcrfpp.so.0.0.0\" \"libcrfpp.so.0\")\n",
            "libtool: link: (cd \".libs\" && rm -f \"libcrfpp.so\" && ln -s \"libcrfpp.so.0.0.0\" \"libcrfpp.so\")\n",
            "libtool: link: ar cru .libs/libcrfpp.a  libcrfpp.o lbfgs.o param.o encoder.o feature.o feature_cache.o feature_index.o node.o path.o tagger.o\n",
            "ar: `u' modifier ignored since `D' is the default (see `U')\n",
            "libtool: link: ranlib .libs/libcrfpp.a\n",
            "libtool: link: ( cd \".libs\" && rm -f \"libcrfpp.la\" && ln -s \"../libcrfpp.la\" \"libcrfpp.la\" )\n",
            "g++ -DHAVE_CONFIG_H -I.     -O3 -Wall -c -o crf_learn.o crf_learn.cpp\n",
            "/bin/bash ./libtool --tag=CXX   --mode=link g++  -O3 -Wall   -o crf_learn crf_learn.o libcrfpp.la -lpthread -lpthread -lm -lm -lm \n",
            "libtool: link: g++ -O3 -Wall -o .libs/crf_learn crf_learn.o  ./.libs/libcrfpp.so -lpthread -lm\n",
            "g++ -DHAVE_CONFIG_H -I.     -O3 -Wall -c -o crf_test.o crf_test.cpp\n",
            "/bin/bash ./libtool --tag=CXX   --mode=link g++  -O3 -Wall   -o crf_test crf_test.o libcrfpp.la  -lpthread -lpthread -lm -lm -lm \n",
            "libtool: link: g++ -O3 -Wall -o .libs/crf_test crf_test.o  ./.libs/libcrfpp.so -lpthread -lm\n",
            "make[1]: Leaving directory '/content/CRF++-0.58'\n",
            "make[1]: Entering directory '/content/CRF++-0.58'\n",
            "test -z \"/usr/local/lib\" || /bin/mkdir -p \"/usr/local/lib\"\n",
            " /bin/bash ./libtool   --mode=install /usr/bin/install -c   libcrfpp.la '/usr/local/lib'\n",
            "libtool: install: /usr/bin/install -c .libs/libcrfpp.so.0.0.0 /usr/local/lib/libcrfpp.so.0.0.0\n",
            "libtool: install: (cd /usr/local/lib && { ln -s -f libcrfpp.so.0.0.0 libcrfpp.so.0 || { rm -f libcrfpp.so.0 && ln -s libcrfpp.so.0.0.0 libcrfpp.so.0; }; })\n",
            "libtool: install: (cd /usr/local/lib && { ln -s -f libcrfpp.so.0.0.0 libcrfpp.so || { rm -f libcrfpp.so && ln -s libcrfpp.so.0.0.0 libcrfpp.so; }; })\n",
            "libtool: install: /usr/bin/install -c .libs/libcrfpp.lai /usr/local/lib/libcrfpp.la\n",
            "libtool: install: /usr/bin/install -c .libs/libcrfpp.a /usr/local/lib/libcrfpp.a\n",
            "libtool: install: chmod 644 /usr/local/lib/libcrfpp.a\n",
            "libtool: install: ranlib /usr/local/lib/libcrfpp.a\n",
            "libtool: finish: PATH=\"/usr/local/nvidia/bin:/usr/local/cuda/bin:/usr/local/sbin:/usr/local/bin:/usr/sbin:/usr/bin:/sbin:/bin:/tools/node/bin:/tools/google-cloud-sdk/bin:/opt/bin:/sbin\" ldconfig -n /usr/local/lib\n",
            "----------------------------------------------------------------------\n",
            "Libraries have been installed in:\n",
            "   /usr/local/lib\n",
            "\n",
            "If you ever happen to want to link against installed libraries\n",
            "in a given directory, LIBDIR, you must either use libtool, and\n",
            "specify the full pathname of the library, or use the `-LLIBDIR'\n",
            "flag during linking and do at least one of the following:\n",
            "   - add LIBDIR to the `LD_LIBRARY_PATH' environment variable\n",
            "     during execution\n",
            "   - add LIBDIR to the `LD_RUN_PATH' environment variable\n",
            "     during linking\n",
            "   - use the `-Wl,-rpath -Wl,LIBDIR' linker flag\n",
            "   - have your system administrator add LIBDIR to `/etc/ld.so.conf'\n",
            "\n",
            "See any operating system documentation about shared libraries for\n",
            "more information, such as the ld(1) and ld.so(8) manual pages.\n",
            "----------------------------------------------------------------------\n",
            "test -z \"/usr/local/bin\" || /bin/mkdir -p \"/usr/local/bin\"\n",
            "  /bin/bash ./libtool   --mode=install /usr/bin/install -c crf_learn crf_test '/usr/local/bin'\n",
            "libtool: install: /usr/bin/install -c .libs/crf_learn /usr/local/bin/crf_learn\n",
            "libtool: install: /usr/bin/install -c .libs/crf_test /usr/local/bin/crf_test\n",
            "test -z \"/usr/local/include\" || /bin/mkdir -p \"/usr/local/include\"\n",
            " /usr/bin/install -c -m 644 crfpp.h '/usr/local/include'\n",
            "make[1]: Leaving directory '/content/CRF++-0.58'\n",
            "/content\n",
            "--2021-10-04 03:39:38--  https://docs.google.com/uc?export=download&confirm=Nc7h&id=0B4y35FiV1wh7SDd1Q1dUQkZQaUU\n",
            "Resolving docs.google.com (docs.google.com)... 142.250.148.100, 142.250.148.138, 142.250.148.101, ...\n",
            "Connecting to docs.google.com (docs.google.com)|142.250.148.100|:443... connected.\n",
            "HTTP request sent, awaiting response... 302 Moved Temporarily\n",
            "Location: https://doc-0o-c0-docs.googleusercontent.com/docs/securesc/nlkqodqk8ld7e90ql67rp7n5on5a50gm/sdiraao0bqlb6gj2f48ksrv5h0vpc4pi/1633318725000/13553212398903315502/15929964117322826226Z/0B4y35FiV1wh7SDd1Q1dUQkZQaUU?e=download [following]\n",
            "--2021-10-04 03:39:38--  https://doc-0o-c0-docs.googleusercontent.com/docs/securesc/nlkqodqk8ld7e90ql67rp7n5on5a50gm/sdiraao0bqlb6gj2f48ksrv5h0vpc4pi/1633318725000/13553212398903315502/15929964117322826226Z/0B4y35FiV1wh7SDd1Q1dUQkZQaUU?e=download\n",
            "Resolving doc-0o-c0-docs.googleusercontent.com (doc-0o-c0-docs.googleusercontent.com)... 172.217.214.132, 2607:f8b0:4001:c05::84\n",
            "Connecting to doc-0o-c0-docs.googleusercontent.com (doc-0o-c0-docs.googleusercontent.com)|172.217.214.132|:443... connected.\n",
            "HTTP request sent, awaiting response... 302 Found\n",
            "Location: https://docs.google.com/nonceSigner?nonce=69scmokou9p0i&continue=https://doc-0o-c0-docs.googleusercontent.com/docs/securesc/nlkqodqk8ld7e90ql67rp7n5on5a50gm/sdiraao0bqlb6gj2f48ksrv5h0vpc4pi/1633318725000/13553212398903315502/15929964117322826226Z/0B4y35FiV1wh7SDd1Q1dUQkZQaUU?e%3Ddownload&hash=aia3pvrgcomh4skvjle3ev42n475s1s3 [following]\n",
            "--2021-10-04 03:39:38--  https://docs.google.com/nonceSigner?nonce=69scmokou9p0i&continue=https://doc-0o-c0-docs.googleusercontent.com/docs/securesc/nlkqodqk8ld7e90ql67rp7n5on5a50gm/sdiraao0bqlb6gj2f48ksrv5h0vpc4pi/1633318725000/13553212398903315502/15929964117322826226Z/0B4y35FiV1wh7SDd1Q1dUQkZQaUU?e%3Ddownload&hash=aia3pvrgcomh4skvjle3ev42n475s1s3\n",
            "Connecting to docs.google.com (docs.google.com)|142.250.148.100|:443... connected.\n",
            "HTTP request sent, awaiting response... 302 Found\n",
            "Location: https://doc-0o-c0-docs.googleusercontent.com/docs/securesc/nlkqodqk8ld7e90ql67rp7n5on5a50gm/sdiraao0bqlb6gj2f48ksrv5h0vpc4pi/1633318725000/13553212398903315502/15929964117322826226Z/0B4y35FiV1wh7SDd1Q1dUQkZQaUU?e=download&nonce=69scmokou9p0i&user=15929964117322826226Z&hash=bio8sog8ot28r6at7pdgikcgnfuep7a1 [following]\n",
            "--2021-10-04 03:39:39--  https://doc-0o-c0-docs.googleusercontent.com/docs/securesc/nlkqodqk8ld7e90ql67rp7n5on5a50gm/sdiraao0bqlb6gj2f48ksrv5h0vpc4pi/1633318725000/13553212398903315502/15929964117322826226Z/0B4y35FiV1wh7SDd1Q1dUQkZQaUU?e=download&nonce=69scmokou9p0i&user=15929964117322826226Z&hash=bio8sog8ot28r6at7pdgikcgnfuep7a1\n",
            "Connecting to doc-0o-c0-docs.googleusercontent.com (doc-0o-c0-docs.googleusercontent.com)|172.217.214.132|:443... connected.\n",
            "HTTP request sent, awaiting response... 200 OK\n",
            "Length: unspecified [application/x-bzip2]\n",
            "Saving to: ‘cabocha.tar.bz2’\n",
            "\n",
            "cabocha.tar.bz2         [   <=>              ]  80.72M   135MB/s    in 0.6s    \n",
            "\n",
            "2021-10-04 03:39:39 (135 MB/s) - ‘cabocha.tar.bz2’ saved [84638995]\n",
            "\n",
            "cabocha-0.69/\n",
            "cabocha-0.69/cabocha-config.in\n",
            "cabocha-0.69/compile\n",
            "cabocha-0.69/swig/\n",
            "cabocha-0.69/swig/version.h.in\n",
            "cabocha-0.69/swig/Makefile\n",
            "cabocha-0.69/swig/version.h\n",
            "cabocha-0.69/swig/CaboCha.i\n",
            "cabocha-0.69/missing\n",
            "cabocha-0.69/java/\n",
            "cabocha-0.69/java/test.java\n",
            "cabocha-0.69/java/Makefile\n",
            "cabocha-0.69/java/org/\n",
            "cabocha-0.69/java/org/chasen/\n",
            "cabocha-0.69/java/org/chasen/cabocha/\n",
            "cabocha-0.69/java/org/chasen/cabocha/FormatType.java\n",
            "cabocha-0.69/java/org/chasen/cabocha/OutputLayerType.java\n",
            "cabocha-0.69/java/org/chasen/cabocha/Token.java\n",
            "cabocha-0.69/java/org/chasen/cabocha/CaboChaConstants.java\n",
            "cabocha-0.69/java/org/chasen/cabocha/ParserType.java\n",
            "cabocha-0.69/java/org/chasen/cabocha/ParsingAlgorithm.java\n",
            "cabocha-0.69/java/org/chasen/cabocha/Chunk.java\n",
            "cabocha-0.69/java/org/chasen/cabocha/InputLayerType.java\n",
            "cabocha-0.69/java/org/chasen/cabocha/CaboCha.java\n",
            "cabocha-0.69/java/org/chasen/cabocha/CaboChaJNI.java\n",
            "cabocha-0.69/java/org/chasen/cabocha/PossetType.java\n",
            "cabocha-0.69/java/org/chasen/cabocha/Tree.java\n",
            "cabocha-0.69/java/org/chasen/cabocha/CharsetType.java\n",
            "cabocha-0.69/java/org/chasen/cabocha/Parser.java\n",
            "cabocha-0.69/java/CaboCha_wrap.cxx\n",
            "cabocha-0.69/ltmain.sh\n",
            "cabocha-0.69/config.guess\n",
            "cabocha-0.69/man/\n",
            "cabocha-0.69/man/Makefile.in\n",
            "cabocha-0.69/man/cabocha.1\n",
            "cabocha-0.69/man/Makefile.am\n",
            "cabocha-0.69/BSD\n",
            "cabocha-0.69/python/\n",
            "cabocha-0.69/python/test.py\n",
            "cabocha-0.69/python/CaboCha.py\n",
            "cabocha-0.69/python/CaboCha_wrap.cxx\n",
            "cabocha-0.69/python/setup.py\n",
            "cabocha-0.69/AUTHORS\n",
            "cabocha-0.69/ruby/\n",
            "cabocha-0.69/ruby/CaboCha_wrap.cpp\n",
            "cabocha-0.69/ruby/extconf.rb\n",
            "cabocha-0.69/ruby/test.rb\n",
            "cabocha-0.69/Makefile.in\n",
            "cabocha-0.69/NEWS\n",
            "cabocha-0.69/install-sh\n",
            "cabocha-0.69/cabocha.iss.in\n",
            "cabocha-0.69/ChangeLog\n",
            "cabocha-0.69/configure\n",
            "cabocha-0.69/src/\n",
            "cabocha-0.69/src/string_buffer.cpp\n",
            "cabocha-0.69/src/tree_allocator.cpp\n",
            "cabocha-0.69/src/dep.h\n",
            "cabocha-0.69/src/dep_learner.cpp\n",
            "cabocha-0.69/src/tree_allocator.h\n",
            "cabocha-0.69/src/svm.h\n",
            "cabocha-0.69/src/svm.cpp\n",
            "cabocha-0.69/src/ucstable.h\n",
            "cabocha-0.69/src/utils.h\n",
            "cabocha-0.69/src/selector.cpp\n",
            "cabocha-0.69/src/chunk_learner.cpp\n",
            "cabocha-0.69/src/string_buffer.h\n",
            "cabocha-0.69/src/ucs.cpp\n",
            "cabocha-0.69/src/ne.cpp\n",
            "cabocha-0.69/src/eval.cpp\n",
            "cabocha-0.69/src/cabocha.cpp\n",
            "cabocha-0.69/src/Makefile.in\n",
            "cabocha-0.69/src/scoped_ptr.h\n",
            "cabocha-0.69/src/chunker.h\n",
            "cabocha-0.69/src/normalizer.rule\n",
            "cabocha-0.69/src/common.h\n",
            "cabocha-0.69/src/normalizer_rule.sh\n",
            "cabocha-0.69/src/darts.h\n",
            "cabocha-0.69/src/learner.cpp\n",
            "cabocha-0.69/src/cabocha.h\n",
            "cabocha-0.69/src/morph.h\n",
            "cabocha-0.69/src/svm_learn.cpp\n",
            "cabocha-0.69/src/Makefile.msvc.in\n",
            "cabocha-0.69/src/timer.h\n",
            "cabocha-0.69/src/chunker.cpp\n",
            "cabocha-0.69/src/utils.cpp\n",
            "cabocha-0.69/src/param.h\n",
            "cabocha-0.69/src/winmain.h\n",
            "cabocha-0.69/src/normalizer.h\n",
            "cabocha-0.69/src/param.cpp\n",
            "cabocha-0.69/src/parser.cpp\n",
            "cabocha-0.69/src/ne.h\n",
            "cabocha-0.69/src/normalizer_rule.h\n",
            "cabocha-0.69/src/svm_learn.h\n",
            "cabocha-0.69/src/ucs.h\n",
            "cabocha-0.69/src/cabocha-model-index.cpp\n",
            "cabocha-0.69/src/mmap.h\n",
            "cabocha-0.69/src/analyzer.h\n",
            "cabocha-0.69/src/make.bat\n",
            "cabocha-0.69/src/tree.cpp\n",
            "cabocha-0.69/src/char_category.h\n",
            "cabocha-0.69/src/Makefile.am\n",
            "cabocha-0.69/src/dep.cpp\n",
            "cabocha-0.69/src/morph.cpp\n",
            "cabocha-0.69/src/selector_pat.h\n",
            "cabocha-0.69/src/cabocha-system-eval.cpp\n",
            "cabocha-0.69/src/cabocha-learn.cpp\n",
            "cabocha-0.69/src/stream_wrapper.h\n",
            "cabocha-0.69/src/selector.h\n",
            "cabocha-0.69/src/libcabocha.cpp\n",
            "cabocha-0.69/src/normalizer.cpp\n",
            "cabocha-0.69/src/freelist.h\n",
            "cabocha-0.69/perl/\n",
            "cabocha-0.69/perl/test.pl\n",
            "cabocha-0.69/perl/Makefile.PL\n",
            "cabocha-0.69/perl/CaboCha_wrap.o\n",
            "cabocha-0.69/perl/CaboCha.bs\n",
            "cabocha-0.69/perl/blib/\n",
            "cabocha-0.69/perl/blib/bin/\n",
            "cabocha-0.69/perl/blib/bin/.exists\n",
            "cabocha-0.69/perl/blib/arch/\n",
            "cabocha-0.69/perl/blib/arch/.exists\n",
            "cabocha-0.69/perl/blib/arch/auto/\n",
            "cabocha-0.69/perl/blib/arch/auto/CaboCha/\n",
            "cabocha-0.69/perl/blib/arch/auto/CaboCha/.exists\n",
            "cabocha-0.69/perl/blib/arch/auto/CaboCha/CaboCha.so\n",
            "cabocha-0.69/perl/blib/arch/auto/CaboCha/CaboCha.bs\n",
            "cabocha-0.69/perl/blib/lib/\n",
            "cabocha-0.69/perl/blib/lib/.exists\n",
            "cabocha-0.69/perl/blib/lib/auto/\n",
            "cabocha-0.69/perl/blib/lib/auto/CaboCha/\n",
            "cabocha-0.69/perl/blib/lib/auto/CaboCha/.exists\n",
            "cabocha-0.69/perl/blib/lib/CaboCha.pm\n",
            "cabocha-0.69/perl/blib/man1/\n",
            "cabocha-0.69/perl/blib/man1/.exists\n",
            "cabocha-0.69/perl/blib/script/\n",
            "cabocha-0.69/perl/blib/script/.exists\n",
            "cabocha-0.69/perl/blib/man3/\n",
            "cabocha-0.69/perl/blib/man3/.exists\n",
            "cabocha-0.69/perl/CaboCha_wrap.cxx\n",
            "cabocha-0.69/perl/pm_to_blib\n",
            "cabocha-0.69/perl/CaboCha.pm\n",
            "cabocha-0.69/perl/MYMETA.yml\n",
            "cabocha-0.69/config.rpath\n",
            "cabocha-0.69/TODO\n",
            "cabocha-0.69/configure.in\n",
            "cabocha-0.69/config.sub\n",
            "cabocha-0.69/LGPL\n",
            "cabocha-0.69/tools/\n",
            "cabocha-0.69/tools/kc2cabocha.pl\n",
            "cabocha-0.69/tools/irex2cabocha.pl\n",
            "cabocha-0.69/tools/chasen2mecab.pl\n",
            "cabocha-0.69/tools/kc2juman.pl\n",
            "cabocha-0.69/tools/KyotoCorpus.pm\n",
            "cabocha-0.69/tools/KNBC2KC.pl\n",
            "cabocha-0.69/cabocharc.in\n",
            "cabocha-0.69/INSTALL\n",
            "cabocha-0.69/aclocal.m4\n",
            "cabocha-0.69/README\n",
            "cabocha-0.69/config.h.in\n",
            "cabocha-0.69/COPYING\n",
            "cabocha-0.69/example/\n",
            "cabocha-0.69/example/example2.cpp\n",
            "cabocha-0.69/example/example.c\n",
            "cabocha-0.69/Makefile.am\n",
            "cabocha-0.69/model/\n",
            "cabocha-0.69/model/dep.ipa.txt\n",
            "cabocha-0.69/model/ne.juman.txt\n",
            "cabocha-0.69/model/dep.juman.txt\n",
            "cabocha-0.69/model/Makefile.in\n",
            "cabocha-0.69/model/dep.unidic.txt\n",
            "cabocha-0.69/model/chunk.ipa.txt\n",
            "cabocha-0.69/model/chunk.unidic.txt\n",
            "cabocha-0.69/model/ne.ipa.txt\n",
            "cabocha-0.69/model/ne.unidic.txt\n",
            "cabocha-0.69/model/chunk.juman.txt\n",
            "cabocha-0.69/model/Makefile.am\n",
            "cabocha-0.69/doc/\n",
            "cabocha-0.69/doc/README.txt\n",
            "cabocha-0.69/doc/doxygen/\n",
            "cabocha-0.69/doc/doxygen/classes.html\n",
            "cabocha-0.69/doc/doxygen/ftv2plastnode.png\n",
            "cabocha-0.69/doc/doxygen/nav_g.png\n",
            "cabocha-0.69/doc/doxygen/files.html\n",
            "cabocha-0.69/doc/doxygen/tab_b.gif\n",
            "cabocha-0.69/doc/doxygen/nav_h.png\n",
            "cabocha-0.69/doc/doxygen/namespaceCaboCha.html\n",
            "cabocha-0.69/doc/doxygen/functions_vars.html\n",
            "cabocha-0.69/doc/doxygen/tab_s.png\n",
            "cabocha-0.69/doc/doxygen/namespacemembers_eval.html\n",
            "cabocha-0.69/doc/doxygen/ftv2pnode.png\n",
            "cabocha-0.69/doc/doxygen/cabocha_8h.html\n",
            "cabocha-0.69/doc/doxygen/open.png\n",
            "cabocha-0.69/doc/doxygen/globals_func.html\n",
            "cabocha-0.69/doc/doxygen/structcabocha__token__t.html\n",
            "cabocha-0.69/doc/doxygen/doxygen.css\n",
            "cabocha-0.69/doc/doxygen/ftv2node.png\n",
            "cabocha-0.69/doc/doxygen/functions_func.html\n",
            "cabocha-0.69/doc/doxygen/ftv2mnode.png\n",
            "cabocha-0.69/doc/doxygen/ftv2doc.png\n",
            "cabocha-0.69/doc/doxygen/globals_enum.html\n",
            "cabocha-0.69/doc/doxygen/classCaboCha_1_1Tree.html\n",
            "cabocha-0.69/doc/doxygen/functions.html\n",
            "cabocha-0.69/doc/doxygen/ftv2folderopen.png\n",
            "cabocha-0.69/doc/doxygen/namespacemembers.html\n",
            "cabocha-0.69/doc/doxygen/globals.html\n",
            "cabocha-0.69/doc/doxygen/ftv2link.png\n",
            "cabocha-0.69/doc/doxygen/ftv2folderclosed.png\n",
            "cabocha-0.69/doc/doxygen/structcabocha__token__t-members.html\n",
            "cabocha-0.69/doc/doxygen/bdwn.png\n",
            "cabocha-0.69/doc/doxygen/namespacemembers_func.html\n",
            "cabocha-0.69/doc/doxygen/structcabocha__chunk__t.html\n",
            "cabocha-0.69/doc/doxygen/bc_s.png\n",
            "cabocha-0.69/doc/doxygen/cabocha_8h_source.html\n",
            "cabocha-0.69/doc/doxygen/globals_eval.html\n",
            "cabocha-0.69/doc/doxygen/ftv2mo.png\n",
            "cabocha-0.69/doc/doxygen/doxygen.png\n",
            "cabocha-0.69/doc/doxygen/index.html\n",
            "cabocha-0.69/doc/doxygen/tab_b.png\n",
            "cabocha-0.69/doc/doxygen/closed.png\n",
            "cabocha-0.69/doc/doxygen/nav_f.png\n",
            "cabocha-0.69/doc/doxygen/ftv2lastnode.png\n",
            "cabocha-0.69/doc/doxygen/classCaboCha_1_1Tree-members.html\n",
            "cabocha-0.69/doc/doxygen/tabs.css\n",
            "cabocha-0.69/doc/doxygen/ftv2vertline.png\n",
            "cabocha-0.69/doc/doxygen/ftv2cl.png\n",
            "cabocha-0.69/doc/doxygen/tab_h.png\n",
            "cabocha-0.69/doc/doxygen/globals_type.html\n",
            "cabocha-0.69/doc/doxygen/structcabocha__chunk__t-members.html\n",
            "cabocha-0.69/doc/doxygen/globals_defs.html\n",
            "cabocha-0.69/doc/doxygen/annotated.html\n",
            "cabocha-0.69/doc/doxygen/namespacemembers_type.html\n",
            "cabocha-0.69/doc/doxygen/tab_l.gif\n",
            "cabocha-0.69/doc/doxygen/tab_a.png\n",
            "cabocha-0.69/doc/doxygen/sync_off.png\n",
            "cabocha-0.69/doc/doxygen/ftv2ns.png\n",
            "cabocha-0.69/doc/doxygen/tab_r.gif\n",
            "cabocha-0.69/doc/doxygen/classCaboCha_1_1Parser-members.html\n",
            "cabocha-0.69/doc/doxygen/ftv2splitbar.png\n",
            "cabocha-0.69/doc/doxygen/ftv2mlastnode.png\n",
            "cabocha-0.69/doc/doxygen/classCaboCha_1_1Parser.html\n",
            "cabocha-0.69/doc/doxygen/namespaces.html\n",
            "cabocha-0.69/doc/doxygen/sync_on.png\n",
            "cabocha-0.69/doc/doxygen/namespacemembers_enum.html\n",
            "cabocha-0.69/doc/doxygen/dir_68267d1309a1af8e8297ef4c3efbcdba.html\n",
            "cabocha-0.69/doc/doxygen/dynsections.js\n",
            "cabocha-0.69/doc/doxygen/ftv2blank.png\n",
            "cabocha-0.69/doc/cabocha.cfg\n",
            "/content/cabocha-0.69\n",
            "checking for a BSD-compatible install... /usr/bin/install -c\n",
            "checking whether build environment is sane... yes\n",
            "checking for a thread-safe mkdir -p... /bin/mkdir -p\n",
            "checking for gawk... no\n",
            "checking for mawk... mawk\n",
            "checking whether make sets $(MAKE)... yes\n",
            "checking whether make supports nested variables... yes\n",
            "checking whether to enable maintainer-specific portions of Makefiles... no\n",
            "checking for gcc... gcc\n",
            "checking whether the C compiler works... yes\n",
            "checking for C compiler default output file name... a.out\n",
            "checking for suffix of executables... \n",
            "checking whether we are cross compiling... no\n",
            "checking for suffix of object files... o\n",
            "checking whether we are using the GNU C compiler... yes\n",
            "checking whether gcc accepts -g... yes\n",
            "checking for gcc option to accept ISO C89... none needed\n",
            "checking whether gcc understands -c and -o together... yes\n",
            "checking for style of include used by make... GNU\n",
            "checking dependency style of gcc... none\n",
            "checking for g++... g++\n",
            "checking whether we are using the GNU C++ compiler... yes\n",
            "checking whether g++ accepts -g... yes\n",
            "checking dependency style of g++... none\n",
            "checking how to run the C preprocessor... gcc -E\n",
            "checking for grep that handles long lines and -e... /bin/grep\n",
            "checking for egrep... /bin/grep -E\n",
            "checking whether gcc needs -traditional... no\n",
            "checking whether make sets $(MAKE)... (cached) yes\n",
            "checking build system type... x86_64-unknown-linux-gnu\n",
            "checking host system type... x86_64-unknown-linux-gnu\n",
            "checking how to print strings... printf\n",
            "checking for a sed that does not truncate output... /bin/sed\n",
            "checking for fgrep... /bin/grep -F\n",
            "checking for ld used by gcc... /usr/bin/ld\n",
            "checking if the linker (/usr/bin/ld) is GNU ld... yes\n",
            "checking for BSD- or MS-compatible name lister (nm)... /usr/bin/nm -B\n",
            "checking the name lister (/usr/bin/nm -B) interface... BSD nm\n",
            "checking whether ln -s works... yes\n",
            "checking the maximum length of command line arguments... 1572864\n",
            "checking whether the shell understands some XSI constructs... yes\n",
            "checking whether the shell understands \"+=\"... yes\n",
            "checking how to convert x86_64-unknown-linux-gnu file names to x86_64-unknown-linux-gnu format... func_convert_file_noop\n",
            "checking how to convert x86_64-unknown-linux-gnu file names to toolchain format... func_convert_file_noop\n",
            "checking for /usr/bin/ld option to reload object files... -r\n",
            "checking for objdump... objdump\n",
            "checking how to recognize dependent libraries... pass_all\n",
            "checking for dlltool... dlltool\n",
            "checking how to associate runtime and link libraries... printf %s\\n\n",
            "checking for ar... ar\n",
            "checking for archiver @FILE support... @\n",
            "checking for strip... strip\n",
            "checking for ranlib... ranlib\n",
            "checking command to parse /usr/bin/nm -B output from gcc object... ok\n",
            "checking for sysroot... no\n",
            "checking for mt... no\n",
            "checking if : is a manifest tool... no\n",
            "checking for ANSI C header files... yes\n",
            "checking for sys/types.h... yes\n",
            "checking for sys/stat.h... yes\n",
            "checking for stdlib.h... yes\n",
            "checking for string.h... yes\n",
            "checking for memory.h... yes\n",
            "checking for strings.h... yes\n",
            "checking for inttypes.h... yes\n",
            "checking for stdint.h... yes\n",
            "checking for unistd.h... yes\n",
            "checking for dlfcn.h... yes\n",
            "checking for objdir... .libs\n",
            "checking if gcc supports -fno-rtti -fno-exceptions... no\n",
            "checking for gcc option to produce PIC... -fPIC -DPIC\n",
            "checking if gcc PIC flag -fPIC -DPIC works... yes\n",
            "checking if gcc static flag -static works... yes\n",
            "checking if gcc supports -c -o file.o... yes\n",
            "checking if gcc supports -c -o file.o... (cached) yes\n",
            "checking whether the gcc linker (/usr/bin/ld -m elf_x86_64) supports shared libraries... yes\n",
            "checking whether -lc should be explicitly linked in... no\n",
            "checking dynamic linker characteristics... GNU/Linux ld.so\n",
            "checking how to hardcode library paths into programs... immediate\n",
            "checking whether stripping libraries is possible... yes\n",
            "checking if libtool supports shared libraries... yes\n",
            "checking whether to build shared libraries... yes\n",
            "checking whether to build static libraries... yes\n",
            "checking how to run the C++ preprocessor... g++ -E\n",
            "checking for ld used by g++... /usr/bin/ld -m elf_x86_64\n",
            "checking if the linker (/usr/bin/ld -m elf_x86_64) is GNU ld... yes\n",
            "checking whether the g++ linker (/usr/bin/ld -m elf_x86_64) supports shared libraries... yes\n",
            "checking for g++ option to produce PIC... -fPIC -DPIC\n",
            "checking if g++ PIC flag -fPIC -DPIC works... yes\n",
            "checking if g++ static flag -static works... yes\n",
            "checking if g++ supports -c -o file.o... yes\n",
            "checking if g++ supports -c -o file.o... (cached) yes\n",
            "checking whether the g++ linker (/usr/bin/ld -m elf_x86_64) supports shared libraries... yes\n",
            "checking dynamic linker characteristics... (cached) GNU/Linux ld.so\n",
            "checking how to hardcode library paths into programs... immediate\n",
            "checking for library containing strerror... none required\n",
            "checking for ld used by gcc... /usr/bin/ld -m elf_x86_64\n",
            "checking if the linker (/usr/bin/ld -m elf_x86_64) is GNU ld... yes\n",
            "checking for shared library run path origin... done\n",
            "checking for iconv... yes\n",
            "checking for working iconv... yes\n",
            "checking for iconv declaration... \n",
            "         extern size_t iconv (iconv_t cd, char * *inbuf, size_t *inbytesleft, char * *outbuf, size_t *outbytesleft);\n",
            "checking for ANSI C header files... (cached) yes\n",
            "checking for an ANSI C-conforming const... yes\n",
            "checking whether byte ordering is bigendian... no\n",
            "checking for string.h... (cached) yes\n",
            "checking for stdlib.h... (cached) yes\n",
            "checking for unistd.h... (cached) yes\n",
            "checking fcntl.h usability... yes\n",
            "checking fcntl.h presence... yes\n",
            "checking for fcntl.h... yes\n",
            "checking for sys/stat.h... (cached) yes\n",
            "checking sys/mman.h usability... yes\n",
            "checking sys/mman.h presence... yes\n",
            "checking for sys/mman.h... yes\n",
            "checking sys/times.h usability... yes\n",
            "checking sys/times.h presence... yes\n",
            "checking for sys/times.h... yes\n",
            "checking for sys/types.h... (cached) yes\n",
            "checking dirent.h usability... yes\n",
            "checking dirent.h presence... yes\n",
            "checking for dirent.h... yes\n",
            "checking ctype.h usability... yes\n",
            "checking ctype.h presence... yes\n",
            "checking for ctype.h... yes\n",
            "checking for sys/types.h... (cached) yes\n",
            "checking io.h usability... no\n",
            "checking io.h presence... no\n",
            "checking for io.h... no\n",
            "checking windows.h usability... no\n",
            "checking windows.h presence... no\n",
            "checking for windows.h... no\n",
            "checking pthread.h usability... yes\n",
            "checking pthread.h presence... yes\n",
            "checking for pthread.h... yes\n",
            "checking for off_t... yes\n",
            "checking for size_t... yes\n",
            "checking size of char... 1\n",
            "checking size of short... 2\n",
            "checking size of int... 4\n",
            "checking size of long... 8\n",
            "checking size of long long... 8\n",
            "checking size of size_t... 8\n",
            "checking for size_t... (cached) yes\n",
            "checking for stdlib.h... (cached) yes\n",
            "checking for unistd.h... (cached) yes\n",
            "checking for sys/param.h... yes\n",
            "checking for getpagesize... yes\n",
            "checking for working mmap... yes\n",
            "checking for getenv... yes\n",
            "checking for opendir... yes\n",
            "checking for snprintf... yes\n",
            "using /usr/bin/mecab-config for mecab-config\n",
            "checking whether iconv supports EUC-JP-MS and CP932... checking for main in -lstdc++... yes\n",
            "checking for crfpp_new in -lcrfpp... yes\n",
            "checking for mecab_new in -lmecab... yes\n",
            "checking if g++ supports stl <vector> (required)... yes\n",
            "checking if g++ supports stl <list> (required)... yes\n",
            "checking if g++ supports stl <map> (required)... yes\n",
            "checking if g++ supports stl <set> (required)... yes\n",
            "checking if g++ supports stl <queue> (required)... yes\n",
            "checking if g++ supports stl <functional> (required)... yes\n",
            "checking if g++ supports stl <algorithm> (required)... yes\n",
            "checking if g++ supports stl <string> (required)... yes\n",
            "checking if g++ supports stl <iostream> (required)... yes\n",
            "checking if g++ supports stl <strstream> (required)... yes\n",
            "checking if g++ supports stl <fstream> (required)... yes\n",
            "checking if g++ supports template <class T> (required)... yes\n",
            "checking if g++ supports const_cast<> (required)... yes\n",
            "checking if g++ supports static_cast<> (required)... yes\n",
            "checking if g++ supports dynamic_cast<> (required)... yes\n",
            "checking if g++ supports reinterpret_cast<> (required)... yes\n",
            "checking if g++ supports exception handler (required)... yes\n",
            "checking if g++ supports namespaces (required) ... yes\n",
            "checking if g++ supports __thread (optional)... yes\n",
            "checking if g++ environment provides all required features... yes\n",
            "checking that generated files are newer than configure... done\n",
            "configure: creating ./config.status\n",
            "config.status: creating Makefile\n",
            "config.status: creating src/Makefile\n",
            "config.status: creating src/Makefile.msvc\n",
            "config.status: creating model/Makefile\n",
            "config.status: creating man/Makefile\n",
            "config.status: creating swig/version.h\n",
            "config.status: creating cabocha-config\n",
            "config.status: creating cabocharc\n",
            "config.status: creating cabocha.iss\n",
            "config.status: creating config.h\n",
            "config.status: executing depfiles commands\n",
            "config.status: executing libtool commands\n",
            "config.status: executing default commands\n",
            "make  all-recursive\n",
            "make[1]: Entering directory '/content/cabocha-0.69'\n",
            "Making all in src\n",
            "make[2]: Entering directory '/content/cabocha-0.69/src'\n",
            "/bin/bash ../libtool  --tag=CXX   --mode=compile g++ -DHAVE_CONFIG_H -I. -I.. -DCABOCHA_DEFAULT_POSSET=\"\\\"IPA\"\\\" -DCABOCHA_DEFAULT_CHARSET=\"\\\"UTF8\"\\\" -DMODEL_VERSION=102  -DCABOCHA_DEFAULT_RC=\"\\\"/usr/local/etc/cabocharc\\\"\"    -O3 -Wno-deprecated -Wall -c -o chunk_learner.lo chunk_learner.cpp\n",
            "libtool: compile:  g++ -DHAVE_CONFIG_H -I. -I.. -DCABOCHA_DEFAULT_POSSET=\\\"IPA\\\" -DCABOCHA_DEFAULT_CHARSET=\\\"UTF8\\\" -DMODEL_VERSION=102 -DCABOCHA_DEFAULT_RC=\\\"/usr/local/etc/cabocharc\\\" -O3 -Wno-deprecated -Wall -c chunk_learner.cpp  -fPIC -DPIC -o .libs/chunk_learner.o\n",
            "libtool: compile:  g++ -DHAVE_CONFIG_H -I. -I.. -DCABOCHA_DEFAULT_POSSET=\\\"IPA\\\" -DCABOCHA_DEFAULT_CHARSET=\\\"UTF8\\\" -DMODEL_VERSION=102 -DCABOCHA_DEFAULT_RC=\\\"/usr/local/etc/cabocharc\\\" -O3 -Wno-deprecated -Wall -c chunk_learner.cpp -o chunk_learner.o >/dev/null 2>&1\n",
            "/bin/bash ../libtool  --tag=CXX   --mode=compile g++ -DHAVE_CONFIG_H -I. -I.. -DCABOCHA_DEFAULT_POSSET=\"\\\"IPA\"\\\" -DCABOCHA_DEFAULT_CHARSET=\"\\\"UTF8\"\\\" -DMODEL_VERSION=102  -DCABOCHA_DEFAULT_RC=\"\\\"/usr/local/etc/cabocharc\\\"\"    -O3 -Wno-deprecated -Wall -c -o chunker.lo chunker.cpp\n",
            "libtool: compile:  g++ -DHAVE_CONFIG_H -I. -I.. -DCABOCHA_DEFAULT_POSSET=\\\"IPA\\\" -DCABOCHA_DEFAULT_CHARSET=\\\"UTF8\\\" -DMODEL_VERSION=102 -DCABOCHA_DEFAULT_RC=\\\"/usr/local/etc/cabocharc\\\" -O3 -Wno-deprecated -Wall -c chunker.cpp  -fPIC -DPIC -o .libs/chunker.o\n",
            "libtool: compile:  g++ -DHAVE_CONFIG_H -I. -I.. -DCABOCHA_DEFAULT_POSSET=\\\"IPA\\\" -DCABOCHA_DEFAULT_CHARSET=\\\"UTF8\\\" -DMODEL_VERSION=102 -DCABOCHA_DEFAULT_RC=\\\"/usr/local/etc/cabocharc\\\" -O3 -Wno-deprecated -Wall -c chunker.cpp -o chunker.o >/dev/null 2>&1\n",
            "/bin/bash ../libtool  --tag=CXX   --mode=compile g++ -DHAVE_CONFIG_H -I. -I.. -DCABOCHA_DEFAULT_POSSET=\"\\\"IPA\"\\\" -DCABOCHA_DEFAULT_CHARSET=\"\\\"UTF8\"\\\" -DMODEL_VERSION=102  -DCABOCHA_DEFAULT_RC=\"\\\"/usr/local/etc/cabocharc\\\"\"    -O3 -Wno-deprecated -Wall -c -o dep.lo dep.cpp\n",
            "libtool: compile:  g++ -DHAVE_CONFIG_H -I. -I.. -DCABOCHA_DEFAULT_POSSET=\\\"IPA\\\" -DCABOCHA_DEFAULT_CHARSET=\\\"UTF8\\\" -DMODEL_VERSION=102 -DCABOCHA_DEFAULT_RC=\\\"/usr/local/etc/cabocharc\\\" -O3 -Wno-deprecated -Wall -c dep.cpp  -fPIC -DPIC -o .libs/dep.o\n",
            "libtool: compile:  g++ -DHAVE_CONFIG_H -I. -I.. -DCABOCHA_DEFAULT_POSSET=\\\"IPA\\\" -DCABOCHA_DEFAULT_CHARSET=\\\"UTF8\\\" -DMODEL_VERSION=102 -DCABOCHA_DEFAULT_RC=\\\"/usr/local/etc/cabocharc\\\" -O3 -Wno-deprecated -Wall -c dep.cpp -o dep.o >/dev/null 2>&1\n",
            "/bin/bash ../libtool  --tag=CXX   --mode=compile g++ -DHAVE_CONFIG_H -I. -I.. -DCABOCHA_DEFAULT_POSSET=\"\\\"IPA\"\\\" -DCABOCHA_DEFAULT_CHARSET=\"\\\"UTF8\"\\\" -DMODEL_VERSION=102  -DCABOCHA_DEFAULT_RC=\"\\\"/usr/local/etc/cabocharc\\\"\"    -O3 -Wno-deprecated -Wall -c -o dep_learner.lo dep_learner.cpp\n",
            "libtool: compile:  g++ -DHAVE_CONFIG_H -I. -I.. -DCABOCHA_DEFAULT_POSSET=\\\"IPA\\\" -DCABOCHA_DEFAULT_CHARSET=\\\"UTF8\\\" -DMODEL_VERSION=102 -DCABOCHA_DEFAULT_RC=\\\"/usr/local/etc/cabocharc\\\" -O3 -Wno-deprecated -Wall -c dep_learner.cpp  -fPIC -DPIC -o .libs/dep_learner.o\n",
            "In file included from \u001b[01m\u001b[Kdep_learner.cpp:17:0\u001b[m\u001b[K:\n",
            "\u001b[01m\u001b[Kparam.h:30:13:\u001b[m\u001b[K \u001b[01;35m\u001b[Kwarning: \u001b[m\u001b[K'\u001b[01m\u001b[KTarget {anonymous}::lexical_cast(Source) [with Target = std::__cxx11::basic_string<char>; Source = std::__cxx11::basic_string<char>]\u001b[m\u001b[K' defined but not used [\u001b[01;35m\u001b[K-Wunused-function\u001b[m\u001b[K]\n",
            " std::string \u001b[01;35m\u001b[Klexical_cast<std::string, std::string>\u001b[m\u001b[K(std::string arg) {\n",
            "             \u001b[01;35m\u001b[K^~~~~~~~~~~~~~~~~~~~~~~~~~~~~~~~~~~~~~\u001b[m\u001b[K\n",
            "libtool: compile:  g++ -DHAVE_CONFIG_H -I. -I.. -DCABOCHA_DEFAULT_POSSET=\\\"IPA\\\" -DCABOCHA_DEFAULT_CHARSET=\\\"UTF8\\\" -DMODEL_VERSION=102 -DCABOCHA_DEFAULT_RC=\\\"/usr/local/etc/cabocharc\\\" -O3 -Wno-deprecated -Wall -c dep_learner.cpp -o dep_learner.o >/dev/null 2>&1\n",
            "/bin/bash ../libtool  --tag=CXX   --mode=compile g++ -DHAVE_CONFIG_H -I. -I.. -DCABOCHA_DEFAULT_POSSET=\"\\\"IPA\"\\\" -DCABOCHA_DEFAULT_CHARSET=\"\\\"UTF8\"\\\" -DMODEL_VERSION=102  -DCABOCHA_DEFAULT_RC=\"\\\"/usr/local/etc/cabocharc\\\"\"    -O3 -Wno-deprecated -Wall -c -o eval.lo eval.cpp\n",
            "libtool: compile:  g++ -DHAVE_CONFIG_H -I. -I.. -DCABOCHA_DEFAULT_POSSET=\\\"IPA\\\" -DCABOCHA_DEFAULT_CHARSET=\\\"UTF8\\\" -DMODEL_VERSION=102 -DCABOCHA_DEFAULT_RC=\\\"/usr/local/etc/cabocharc\\\" -O3 -Wno-deprecated -Wall -c eval.cpp  -fPIC -DPIC -o .libs/eval.o\n",
            "libtool: compile:  g++ -DHAVE_CONFIG_H -I. -I.. -DCABOCHA_DEFAULT_POSSET=\\\"IPA\\\" -DCABOCHA_DEFAULT_CHARSET=\\\"UTF8\\\" -DMODEL_VERSION=102 -DCABOCHA_DEFAULT_RC=\\\"/usr/local/etc/cabocharc\\\" -O3 -Wno-deprecated -Wall -c eval.cpp -o eval.o >/dev/null 2>&1\n",
            "/bin/bash ../libtool  --tag=CXX   --mode=compile g++ -DHAVE_CONFIG_H -I. -I.. -DCABOCHA_DEFAULT_POSSET=\"\\\"IPA\"\\\" -DCABOCHA_DEFAULT_CHARSET=\"\\\"UTF8\"\\\" -DMODEL_VERSION=102  -DCABOCHA_DEFAULT_RC=\"\\\"/usr/local/etc/cabocharc\\\"\"    -O3 -Wno-deprecated -Wall -c -o learner.lo learner.cpp\n",
            "libtool: compile:  g++ -DHAVE_CONFIG_H -I. -I.. -DCABOCHA_DEFAULT_POSSET=\\\"IPA\\\" -DCABOCHA_DEFAULT_CHARSET=\\\"UTF8\\\" -DMODEL_VERSION=102 -DCABOCHA_DEFAULT_RC=\\\"/usr/local/etc/cabocharc\\\" -O3 -Wno-deprecated -Wall -c learner.cpp  -fPIC -DPIC -o .libs/learner.o\n",
            "libtool: compile:  g++ -DHAVE_CONFIG_H -I. -I.. -DCABOCHA_DEFAULT_POSSET=\\\"IPA\\\" -DCABOCHA_DEFAULT_CHARSET=\\\"UTF8\\\" -DMODEL_VERSION=102 -DCABOCHA_DEFAULT_RC=\\\"/usr/local/etc/cabocharc\\\" -O3 -Wno-deprecated -Wall -c learner.cpp -o learner.o >/dev/null 2>&1\n",
            "/bin/bash ../libtool  --tag=CXX   --mode=compile g++ -DHAVE_CONFIG_H -I. -I.. -DCABOCHA_DEFAULT_POSSET=\"\\\"IPA\"\\\" -DCABOCHA_DEFAULT_CHARSET=\"\\\"UTF8\"\\\" -DMODEL_VERSION=102  -DCABOCHA_DEFAULT_RC=\"\\\"/usr/local/etc/cabocharc\\\"\"    -O3 -Wno-deprecated -Wall -c -o libcabocha.lo libcabocha.cpp\n",
            "libtool: compile:  g++ -DHAVE_CONFIG_H -I. -I.. -DCABOCHA_DEFAULT_POSSET=\\\"IPA\\\" -DCABOCHA_DEFAULT_CHARSET=\\\"UTF8\\\" -DMODEL_VERSION=102 -DCABOCHA_DEFAULT_RC=\\\"/usr/local/etc/cabocharc\\\" -O3 -Wno-deprecated -Wall -c libcabocha.cpp  -fPIC -DPIC -o .libs/libcabocha.o\n",
            "In file included from \u001b[01m\u001b[Klibcabocha.cpp:18:0\u001b[m\u001b[K:\n",
            "\u001b[01m\u001b[Kparam.h:30:13:\u001b[m\u001b[K \u001b[01;35m\u001b[Kwarning: \u001b[m\u001b[K'\u001b[01m\u001b[KTarget {anonymous}::lexical_cast(Source) [with Target = std::__cxx11::basic_string<char>; Source = std::__cxx11::basic_string<char>]\u001b[m\u001b[K' defined but not used [\u001b[01;35m\u001b[K-Wunused-function\u001b[m\u001b[K]\n",
            " std::string \u001b[01;35m\u001b[Klexical_cast<std::string, std::string>\u001b[m\u001b[K(std::string arg) {\n",
            "             \u001b[01;35m\u001b[K^~~~~~~~~~~~~~~~~~~~~~~~~~~~~~~~~~~~~~\u001b[m\u001b[K\n",
            "libtool: compile:  g++ -DHAVE_CONFIG_H -I. -I.. -DCABOCHA_DEFAULT_POSSET=\\\"IPA\\\" -DCABOCHA_DEFAULT_CHARSET=\\\"UTF8\\\" -DMODEL_VERSION=102 -DCABOCHA_DEFAULT_RC=\\\"/usr/local/etc/cabocharc\\\" -O3 -Wno-deprecated -Wall -c libcabocha.cpp -o libcabocha.o >/dev/null 2>&1\n",
            "/bin/bash ../libtool  --tag=CXX   --mode=compile g++ -DHAVE_CONFIG_H -I. -I.. -DCABOCHA_DEFAULT_POSSET=\"\\\"IPA\"\\\" -DCABOCHA_DEFAULT_CHARSET=\"\\\"UTF8\"\\\" -DMODEL_VERSION=102  -DCABOCHA_DEFAULT_RC=\"\\\"/usr/local/etc/cabocharc\\\"\"    -O3 -Wno-deprecated -Wall -c -o morph.lo morph.cpp\n",
            "libtool: compile:  g++ -DHAVE_CONFIG_H -I. -I.. -DCABOCHA_DEFAULT_POSSET=\\\"IPA\\\" -DCABOCHA_DEFAULT_CHARSET=\\\"UTF8\\\" -DMODEL_VERSION=102 -DCABOCHA_DEFAULT_RC=\\\"/usr/local/etc/cabocharc\\\" -O3 -Wno-deprecated -Wall -c morph.cpp  -fPIC -DPIC -o .libs/morph.o\n",
            "libtool: compile:  g++ -DHAVE_CONFIG_H -I. -I.. -DCABOCHA_DEFAULT_POSSET=\\\"IPA\\\" -DCABOCHA_DEFAULT_CHARSET=\\\"UTF8\\\" -DMODEL_VERSION=102 -DCABOCHA_DEFAULT_RC=\\\"/usr/local/etc/cabocharc\\\" -O3 -Wno-deprecated -Wall -c morph.cpp -o morph.o >/dev/null 2>&1\n",
            "/bin/bash ../libtool  --tag=CXX   --mode=compile g++ -DHAVE_CONFIG_H -I. -I.. -DCABOCHA_DEFAULT_POSSET=\"\\\"IPA\"\\\" -DCABOCHA_DEFAULT_CHARSET=\"\\\"UTF8\"\\\" -DMODEL_VERSION=102  -DCABOCHA_DEFAULT_RC=\"\\\"/usr/local/etc/cabocharc\\\"\"    -O3 -Wno-deprecated -Wall -c -o ne.lo ne.cpp\n",
            "libtool: compile:  g++ -DHAVE_CONFIG_H -I. -I.. -DCABOCHA_DEFAULT_POSSET=\\\"IPA\\\" -DCABOCHA_DEFAULT_CHARSET=\\\"UTF8\\\" -DMODEL_VERSION=102 -DCABOCHA_DEFAULT_RC=\\\"/usr/local/etc/cabocharc\\\" -O3 -Wno-deprecated -Wall -c ne.cpp  -fPIC -DPIC -o .libs/ne.o\n",
            "libtool: compile:  g++ -DHAVE_CONFIG_H -I. -I.. -DCABOCHA_DEFAULT_POSSET=\\\"IPA\\\" -DCABOCHA_DEFAULT_CHARSET=\\\"UTF8\\\" -DMODEL_VERSION=102 -DCABOCHA_DEFAULT_RC=\\\"/usr/local/etc/cabocharc\\\" -O3 -Wno-deprecated -Wall -c ne.cpp -o ne.o >/dev/null 2>&1\n",
            "/bin/bash ../libtool  --tag=CXX   --mode=compile g++ -DHAVE_CONFIG_H -I. -I.. -DCABOCHA_DEFAULT_POSSET=\"\\\"IPA\"\\\" -DCABOCHA_DEFAULT_CHARSET=\"\\\"UTF8\"\\\" -DMODEL_VERSION=102  -DCABOCHA_DEFAULT_RC=\"\\\"/usr/local/etc/cabocharc\\\"\"    -O3 -Wno-deprecated -Wall -c -o normalizer.lo normalizer.cpp\n",
            "libtool: compile:  g++ -DHAVE_CONFIG_H -I. -I.. -DCABOCHA_DEFAULT_POSSET=\\\"IPA\\\" -DCABOCHA_DEFAULT_CHARSET=\\\"UTF8\\\" -DMODEL_VERSION=102 -DCABOCHA_DEFAULT_RC=\\\"/usr/local/etc/cabocharc\\\" -O3 -Wno-deprecated -Wall -c normalizer.cpp  -fPIC -DPIC -o .libs/normalizer.o\n",
            "\u001b[01m\u001b[Knormalizer.cpp:\u001b[m\u001b[K In static member function '\u001b[01m\u001b[Kstatic void CaboCha::Normalizer::normalize(int, const char*, size_t, std::__cxx11::string*)\u001b[m\u001b[K':\n",
            "\u001b[01m\u001b[Knormalizer.cpp:113:15:\u001b[m\u001b[K \u001b[01;35m\u001b[Kwarning: \u001b[m\u001b[Koffset '\u001b[01m\u001b[K-1\u001b[m\u001b[K' outside bounds of constant string\n",
            "       *output += &ctable[result];\n",
            "\u001b[01m\u001b[Knormalizer.cpp:113:15:\u001b[m\u001b[K \u001b[01;35m\u001b[Kwarning: \u001b[m\u001b[Koffset '\u001b[01m\u001b[K-1\u001b[m\u001b[K' outside bounds of constant string\n",
            "       *output += &ctable[result];\n",
            "\u001b[01m\u001b[Knormalizer.cpp:113:15:\u001b[m\u001b[K \u001b[01;35m\u001b[Kwarning: \u001b[m\u001b[Koffset '\u001b[01m\u001b[K-1\u001b[m\u001b[K' outside bounds of constant string\n",
            "       *output += &ctable[result];\n",
            "libtool: compile:  g++ -DHAVE_CONFIG_H -I. -I.. -DCABOCHA_DEFAULT_POSSET=\\\"IPA\\\" -DCABOCHA_DEFAULT_CHARSET=\\\"UTF8\\\" -DMODEL_VERSION=102 -DCABOCHA_DEFAULT_RC=\\\"/usr/local/etc/cabocharc\\\" -O3 -Wno-deprecated -Wall -c normalizer.cpp -o normalizer.o >/dev/null 2>&1\n",
            "/bin/bash ../libtool  --tag=CXX   --mode=compile g++ -DHAVE_CONFIG_H -I. -I.. -DCABOCHA_DEFAULT_POSSET=\"\\\"IPA\"\\\" -DCABOCHA_DEFAULT_CHARSET=\"\\\"UTF8\"\\\" -DMODEL_VERSION=102  -DCABOCHA_DEFAULT_RC=\"\\\"/usr/local/etc/cabocharc\\\"\"    -O3 -Wno-deprecated -Wall -c -o param.lo param.cpp\n",
            "libtool: compile:  g++ -DHAVE_CONFIG_H -I. -I.. -DCABOCHA_DEFAULT_POSSET=\\\"IPA\\\" -DCABOCHA_DEFAULT_CHARSET=\\\"UTF8\\\" -DMODEL_VERSION=102 -DCABOCHA_DEFAULT_RC=\\\"/usr/local/etc/cabocharc\\\" -O3 -Wno-deprecated -Wall -c param.cpp  -fPIC -DPIC -o .libs/param.o\n",
            "libtool: compile:  g++ -DHAVE_CONFIG_H -I. -I.. -DCABOCHA_DEFAULT_POSSET=\\\"IPA\\\" -DCABOCHA_DEFAULT_CHARSET=\\\"UTF8\\\" -DMODEL_VERSION=102 -DCABOCHA_DEFAULT_RC=\\\"/usr/local/etc/cabocharc\\\" -O3 -Wno-deprecated -Wall -c param.cpp -o param.o >/dev/null 2>&1\n",
            "/bin/bash ../libtool  --tag=CXX   --mode=compile g++ -DHAVE_CONFIG_H -I. -I.. -DCABOCHA_DEFAULT_POSSET=\"\\\"IPA\"\\\" -DCABOCHA_DEFAULT_CHARSET=\"\\\"UTF8\"\\\" -DMODEL_VERSION=102  -DCABOCHA_DEFAULT_RC=\"\\\"/usr/local/etc/cabocharc\\\"\"    -O3 -Wno-deprecated -Wall -c -o parser.lo parser.cpp\n",
            "libtool: compile:  g++ -DHAVE_CONFIG_H -I. -I.. -DCABOCHA_DEFAULT_POSSET=\\\"IPA\\\" -DCABOCHA_DEFAULT_CHARSET=\\\"UTF8\\\" -DMODEL_VERSION=102 -DCABOCHA_DEFAULT_RC=\\\"/usr/local/etc/cabocharc\\\" -O3 -Wno-deprecated -Wall -c parser.cpp  -fPIC -DPIC -o .libs/parser.o\n",
            "libtool: compile:  g++ -DHAVE_CONFIG_H -I. -I.. -DCABOCHA_DEFAULT_POSSET=\\\"IPA\\\" -DCABOCHA_DEFAULT_CHARSET=\\\"UTF8\\\" -DMODEL_VERSION=102 -DCABOCHA_DEFAULT_RC=\\\"/usr/local/etc/cabocharc\\\" -O3 -Wno-deprecated -Wall -c parser.cpp -o parser.o >/dev/null 2>&1\n",
            "/bin/bash ../libtool  --tag=CXX   --mode=compile g++ -DHAVE_CONFIG_H -I. -I.. -DCABOCHA_DEFAULT_POSSET=\"\\\"IPA\"\\\" -DCABOCHA_DEFAULT_CHARSET=\"\\\"UTF8\"\\\" -DMODEL_VERSION=102  -DCABOCHA_DEFAULT_RC=\"\\\"/usr/local/etc/cabocharc\\\"\"    -O3 -Wno-deprecated -Wall -c -o selector.lo selector.cpp\n",
            "libtool: compile:  g++ -DHAVE_CONFIG_H -I. -I.. -DCABOCHA_DEFAULT_POSSET=\\\"IPA\\\" -DCABOCHA_DEFAULT_CHARSET=\\\"UTF8\\\" -DMODEL_VERSION=102 -DCABOCHA_DEFAULT_RC=\\\"/usr/local/etc/cabocharc\\\" -O3 -Wno-deprecated -Wall -c selector.cpp  -fPIC -DPIC -o .libs/selector.o\n",
            "libtool: compile:  g++ -DHAVE_CONFIG_H -I. -I.. -DCABOCHA_DEFAULT_POSSET=\\\"IPA\\\" -DCABOCHA_DEFAULT_CHARSET=\\\"UTF8\\\" -DMODEL_VERSION=102 -DCABOCHA_DEFAULT_RC=\\\"/usr/local/etc/cabocharc\\\" -O3 -Wno-deprecated -Wall -c selector.cpp -o selector.o >/dev/null 2>&1\n",
            "/bin/bash ../libtool  --tag=CXX   --mode=compile g++ -DHAVE_CONFIG_H -I. -I.. -DCABOCHA_DEFAULT_POSSET=\"\\\"IPA\"\\\" -DCABOCHA_DEFAULT_CHARSET=\"\\\"UTF8\"\\\" -DMODEL_VERSION=102  -DCABOCHA_DEFAULT_RC=\"\\\"/usr/local/etc/cabocharc\\\"\"    -O3 -Wno-deprecated -Wall -c -o tree_allocator.lo tree_allocator.cpp\n",
            "libtool: compile:  g++ -DHAVE_CONFIG_H -I. -I.. -DCABOCHA_DEFAULT_POSSET=\\\"IPA\\\" -DCABOCHA_DEFAULT_CHARSET=\\\"UTF8\\\" -DMODEL_VERSION=102 -DCABOCHA_DEFAULT_RC=\\\"/usr/local/etc/cabocharc\\\" -O3 -Wno-deprecated -Wall -c tree_allocator.cpp  -fPIC -DPIC -o .libs/tree_allocator.o\n",
            "libtool: compile:  g++ -DHAVE_CONFIG_H -I. -I.. -DCABOCHA_DEFAULT_POSSET=\\\"IPA\\\" -DCABOCHA_DEFAULT_CHARSET=\\\"UTF8\\\" -DMODEL_VERSION=102 -DCABOCHA_DEFAULT_RC=\\\"/usr/local/etc/cabocharc\\\" -O3 -Wno-deprecated -Wall -c tree_allocator.cpp -o tree_allocator.o >/dev/null 2>&1\n",
            "/bin/bash ../libtool  --tag=CXX   --mode=compile g++ -DHAVE_CONFIG_H -I. -I.. -DCABOCHA_DEFAULT_POSSET=\"\\\"IPA\"\\\" -DCABOCHA_DEFAULT_CHARSET=\"\\\"UTF8\"\\\" -DMODEL_VERSION=102  -DCABOCHA_DEFAULT_RC=\"\\\"/usr/local/etc/cabocharc\\\"\"    -O3 -Wno-deprecated -Wall -c -o string_buffer.lo string_buffer.cpp\n",
            "libtool: compile:  g++ -DHAVE_CONFIG_H -I. -I.. -DCABOCHA_DEFAULT_POSSET=\\\"IPA\\\" -DCABOCHA_DEFAULT_CHARSET=\\\"UTF8\\\" -DMODEL_VERSION=102 -DCABOCHA_DEFAULT_RC=\\\"/usr/local/etc/cabocharc\\\" -O3 -Wno-deprecated -Wall -c string_buffer.cpp  -fPIC -DPIC -o .libs/string_buffer.o\n",
            "libtool: compile:  g++ -DHAVE_CONFIG_H -I. -I.. -DCABOCHA_DEFAULT_POSSET=\\\"IPA\\\" -DCABOCHA_DEFAULT_CHARSET=\\\"UTF8\\\" -DMODEL_VERSION=102 -DCABOCHA_DEFAULT_RC=\\\"/usr/local/etc/cabocharc\\\" -O3 -Wno-deprecated -Wall -c string_buffer.cpp -o string_buffer.o >/dev/null 2>&1\n",
            "/bin/bash ../libtool  --tag=CXX   --mode=compile g++ -DHAVE_CONFIG_H -I. -I.. -DCABOCHA_DEFAULT_POSSET=\"\\\"IPA\"\\\" -DCABOCHA_DEFAULT_CHARSET=\"\\\"UTF8\"\\\" -DMODEL_VERSION=102  -DCABOCHA_DEFAULT_RC=\"\\\"/usr/local/etc/cabocharc\\\"\"    -O3 -Wno-deprecated -Wall -c -o svm.lo svm.cpp\n",
            "libtool: compile:  g++ -DHAVE_CONFIG_H -I. -I.. -DCABOCHA_DEFAULT_POSSET=\\\"IPA\\\" -DCABOCHA_DEFAULT_CHARSET=\\\"UTF8\\\" -DMODEL_VERSION=102 -DCABOCHA_DEFAULT_RC=\\\"/usr/local/etc/cabocharc\\\" -O3 -Wno-deprecated -Wall -c svm.cpp  -fPIC -DPIC -o .libs/svm.o\n",
            "libtool: compile:  g++ -DHAVE_CONFIG_H -I. -I.. -DCABOCHA_DEFAULT_POSSET=\\\"IPA\\\" -DCABOCHA_DEFAULT_CHARSET=\\\"UTF8\\\" -DMODEL_VERSION=102 -DCABOCHA_DEFAULT_RC=\\\"/usr/local/etc/cabocharc\\\" -O3 -Wno-deprecated -Wall -c svm.cpp -o svm.o >/dev/null 2>&1\n",
            "/bin/bash ../libtool  --tag=CXX   --mode=compile g++ -DHAVE_CONFIG_H -I. -I.. -DCABOCHA_DEFAULT_POSSET=\"\\\"IPA\"\\\" -DCABOCHA_DEFAULT_CHARSET=\"\\\"UTF8\"\\\" -DMODEL_VERSION=102  -DCABOCHA_DEFAULT_RC=\"\\\"/usr/local/etc/cabocharc\\\"\"    -O3 -Wno-deprecated -Wall -c -o svm_learn.lo svm_learn.cpp\n",
            "libtool: compile:  g++ -DHAVE_CONFIG_H -I. -I.. -DCABOCHA_DEFAULT_POSSET=\\\"IPA\\\" -DCABOCHA_DEFAULT_CHARSET=\\\"UTF8\\\" -DMODEL_VERSION=102 -DCABOCHA_DEFAULT_RC=\\\"/usr/local/etc/cabocharc\\\" -O3 -Wno-deprecated -Wall -c svm_learn.cpp  -fPIC -DPIC -o .libs/svm_learn.o\n",
            "libtool: compile:  g++ -DHAVE_CONFIG_H -I. -I.. -DCABOCHA_DEFAULT_POSSET=\\\"IPA\\\" -DCABOCHA_DEFAULT_CHARSET=\\\"UTF8\\\" -DMODEL_VERSION=102 -DCABOCHA_DEFAULT_RC=\\\"/usr/local/etc/cabocharc\\\" -O3 -Wno-deprecated -Wall -c svm_learn.cpp -o svm_learn.o >/dev/null 2>&1\n",
            "/bin/bash ../libtool  --tag=CXX   --mode=compile g++ -DHAVE_CONFIG_H -I. -I.. -DCABOCHA_DEFAULT_POSSET=\"\\\"IPA\"\\\" -DCABOCHA_DEFAULT_CHARSET=\"\\\"UTF8\"\\\" -DMODEL_VERSION=102  -DCABOCHA_DEFAULT_RC=\"\\\"/usr/local/etc/cabocharc\\\"\"    -O3 -Wno-deprecated -Wall -c -o tree.lo tree.cpp\n",
            "libtool: compile:  g++ -DHAVE_CONFIG_H -I. -I.. -DCABOCHA_DEFAULT_POSSET=\\\"IPA\\\" -DCABOCHA_DEFAULT_CHARSET=\\\"UTF8\\\" -DMODEL_VERSION=102 -DCABOCHA_DEFAULT_RC=\\\"/usr/local/etc/cabocharc\\\" -O3 -Wno-deprecated -Wall -c tree.cpp  -fPIC -DPIC -o .libs/tree.o\n",
            "In file included from \u001b[01m\u001b[Kstring_buffer.h:11:0\u001b[m\u001b[K,\n",
            "                 from \u001b[01m\u001b[Ktree.cpp:14\u001b[m\u001b[K:\n",
            "utils.h: In instantiation of '\u001b[01m\u001b[Ksize_t CaboCha::tokenizeCSV(char*, Iterator, size_t) [with Iterator = char**; size_t = long unsigned int]\u001b[m\u001b[K':\n",
            "\u001b[01m\u001b[Ktree.cpp:480:57:\u001b[m\u001b[K   required from here\n",
            "\u001b[01m\u001b[Kutils.h:127:10:\u001b[m\u001b[K \u001b[01;35m\u001b[Kwarning: \u001b[m\u001b[Kvariable '\u001b[01m\u001b[Kinquote\u001b[m\u001b[K' set but not used [\u001b[01;35m\u001b[K-Wunused-but-set-variable\u001b[m\u001b[K]\n",
            "     bool \u001b[01;35m\u001b[Kinquote\u001b[m\u001b[K = false;\n",
            "          \u001b[01;35m\u001b[K^~~~~~~\u001b[m\u001b[K\n",
            "libtool: compile:  g++ -DHAVE_CONFIG_H -I. -I.. -DCABOCHA_DEFAULT_POSSET=\\\"IPA\\\" -DCABOCHA_DEFAULT_CHARSET=\\\"UTF8\\\" -DMODEL_VERSION=102 -DCABOCHA_DEFAULT_RC=\\\"/usr/local/etc/cabocharc\\\" -O3 -Wno-deprecated -Wall -c tree.cpp -o tree.o >/dev/null 2>&1\n",
            "/bin/bash ../libtool  --tag=CXX   --mode=compile g++ -DHAVE_CONFIG_H -I. -I.. -DCABOCHA_DEFAULT_POSSET=\"\\\"IPA\"\\\" -DCABOCHA_DEFAULT_CHARSET=\"\\\"UTF8\"\\\" -DMODEL_VERSION=102  -DCABOCHA_DEFAULT_RC=\"\\\"/usr/local/etc/cabocharc\\\"\"    -O3 -Wno-deprecated -Wall -c -o ucs.lo ucs.cpp\n",
            "libtool: compile:  g++ -DHAVE_CONFIG_H -I. -I.. -DCABOCHA_DEFAULT_POSSET=\\\"IPA\\\" -DCABOCHA_DEFAULT_CHARSET=\\\"UTF8\\\" -DMODEL_VERSION=102 -DCABOCHA_DEFAULT_RC=\\\"/usr/local/etc/cabocharc\\\" -O3 -Wno-deprecated -Wall -c ucs.cpp  -fPIC -DPIC -o .libs/ucs.o\n",
            "libtool: compile:  g++ -DHAVE_CONFIG_H -I. -I.. -DCABOCHA_DEFAULT_POSSET=\\\"IPA\\\" -DCABOCHA_DEFAULT_CHARSET=\\\"UTF8\\\" -DMODEL_VERSION=102 -DCABOCHA_DEFAULT_RC=\\\"/usr/local/etc/cabocharc\\\" -O3 -Wno-deprecated -Wall -c ucs.cpp -o ucs.o >/dev/null 2>&1\n",
            "/bin/bash ../libtool  --tag=CXX   --mode=compile g++ -DHAVE_CONFIG_H -I. -I.. -DCABOCHA_DEFAULT_POSSET=\"\\\"IPA\"\\\" -DCABOCHA_DEFAULT_CHARSET=\"\\\"UTF8\"\\\" -DMODEL_VERSION=102  -DCABOCHA_DEFAULT_RC=\"\\\"/usr/local/etc/cabocharc\\\"\"    -O3 -Wno-deprecated -Wall -c -o utils.lo utils.cpp\n",
            "libtool: compile:  g++ -DHAVE_CONFIG_H -I. -I.. -DCABOCHA_DEFAULT_POSSET=\\\"IPA\\\" -DCABOCHA_DEFAULT_CHARSET=\\\"UTF8\\\" -DMODEL_VERSION=102 -DCABOCHA_DEFAULT_RC=\\\"/usr/local/etc/cabocharc\\\" -O3 -Wno-deprecated -Wall -c utils.cpp  -fPIC -DPIC -o .libs/utils.o\n",
            "libtool: compile:  g++ -DHAVE_CONFIG_H -I. -I.. -DCABOCHA_DEFAULT_POSSET=\\\"IPA\\\" -DCABOCHA_DEFAULT_CHARSET=\\\"UTF8\\\" -DMODEL_VERSION=102 -DCABOCHA_DEFAULT_RC=\\\"/usr/local/etc/cabocharc\\\" -O3 -Wno-deprecated -Wall -c utils.cpp -o utils.o >/dev/null 2>&1\n",
            "/bin/bash ../libtool  --tag=CXX   --mode=link g++  -O3 -Wno-deprecated -Wall -no-undefined -version-info 5:0:0  -o libcabocha.la -rpath /usr/local/lib chunk_learner.lo chunker.lo dep.lo dep_learner.lo eval.lo learner.lo libcabocha.lo morph.lo ne.lo normalizer.lo param.lo parser.lo selector.lo tree_allocator.lo string_buffer.lo svm.lo svm_learn.lo tree.lo ucs.lo utils.lo  -lcrfpp -lmecab  -L/usr/lib/x86_64-linux-gnu -lmecab -lstdc++ \n",
            "libtool: link: g++  -fPIC -DPIC -shared -nostdlib /usr/lib/gcc/x86_64-linux-gnu/7/../../../x86_64-linux-gnu/crti.o /usr/lib/gcc/x86_64-linux-gnu/7/crtbeginS.o  .libs/chunk_learner.o .libs/chunker.o .libs/dep.o .libs/dep_learner.o .libs/eval.o .libs/learner.o .libs/libcabocha.o .libs/morph.o .libs/ne.o .libs/normalizer.o .libs/param.o .libs/parser.o .libs/selector.o .libs/tree_allocator.o .libs/string_buffer.o .libs/svm.o .libs/svm_learn.o .libs/tree.o .libs/ucs.o .libs/utils.o   /usr/local/lib/libcrfpp.so -L/usr/lib/x86_64-linux-gnu -lmecab -L/usr/lib/gcc/x86_64-linux-gnu/7 -L/usr/lib/gcc/x86_64-linux-gnu/7/../../../x86_64-linux-gnu -L/usr/lib/gcc/x86_64-linux-gnu/7/../../../../lib -L/lib/x86_64-linux-gnu -L/lib/../lib -L/usr/lib/../lib -L/usr/local/cuda/lib64/stubs -L/usr/lib/gcc/x86_64-linux-gnu/7/../../.. -lstdc++ -lm -lc -lgcc_s /usr/lib/gcc/x86_64-linux-gnu/7/crtendS.o /usr/lib/gcc/x86_64-linux-gnu/7/../../../x86_64-linux-gnu/crtn.o  -O3   -Wl,-soname -Wl,libcabocha.so.5 -o .libs/libcabocha.so.5.0.0\n",
            "libtool: link: (cd \".libs\" && rm -f \"libcabocha.so.5\" && ln -s \"libcabocha.so.5.0.0\" \"libcabocha.so.5\")\n",
            "libtool: link: (cd \".libs\" && rm -f \"libcabocha.so\" && ln -s \"libcabocha.so.5.0.0\" \"libcabocha.so\")\n",
            "libtool: link: ar cru .libs/libcabocha.a  chunk_learner.o chunker.o dep.o dep_learner.o eval.o learner.o libcabocha.o morph.o ne.o normalizer.o param.o parser.o selector.o tree_allocator.o string_buffer.o svm.o svm_learn.o tree.o ucs.o utils.o\n",
            "ar: `u' modifier ignored since `D' is the default (see `U')\n",
            "libtool: link: ranlib .libs/libcabocha.a\n",
            "libtool: link: ( cd \".libs\" && rm -f \"libcabocha.la\" && ln -s \"../libcabocha.la\" \"libcabocha.la\" )\n",
            "g++ -DHAVE_CONFIG_H -I. -I.. -DCABOCHA_DEFAULT_POSSET=\"\\\"IPA\"\\\" -DCABOCHA_DEFAULT_CHARSET=\"\\\"UTF8\"\\\" -DMODEL_VERSION=102  -DCABOCHA_DEFAULT_RC=\"\\\"/usr/local/etc/cabocharc\\\"\"    -O3 -Wno-deprecated -Wall -c -o cabocha.o cabocha.cpp\n",
            "/bin/bash ../libtool  --tag=CXX   --mode=link g++  -O3 -Wno-deprecated -Wall   -o cabocha cabocha.o libcabocha.la -lcrfpp -lmecab  -L/usr/lib/x86_64-linux-gnu -lmecab -lstdc++ \n",
            "libtool: link: g++ -O3 -Wno-deprecated -Wall -o .libs/cabocha cabocha.o  ./.libs/libcabocha.so /usr/local/lib/libcrfpp.so -L/usr/lib/x86_64-linux-gnu -lmecab -lstdc++\n",
            "g++ -DHAVE_CONFIG_H -I. -I.. -DCABOCHA_DEFAULT_POSSET=\"\\\"IPA\"\\\" -DCABOCHA_DEFAULT_CHARSET=\"\\\"UTF8\"\\\" -DMODEL_VERSION=102  -DCABOCHA_DEFAULT_RC=\"\\\"/usr/local/etc/cabocharc\\\"\"    -O3 -Wno-deprecated -Wall -c -o cabocha-model-index.o cabocha-model-index.cpp\n",
            "/bin/bash ../libtool  --tag=CXX   --mode=link g++  -O3 -Wno-deprecated -Wall   -o cabocha-model-index cabocha-model-index.o libcabocha.la -lcrfpp -lmecab  -L/usr/lib/x86_64-linux-gnu -lmecab -lstdc++ \n",
            "libtool: link: g++ -O3 -Wno-deprecated -Wall -o .libs/cabocha-model-index cabocha-model-index.o  ./.libs/libcabocha.so /usr/local/lib/libcrfpp.so -L/usr/lib/x86_64-linux-gnu -lmecab -lstdc++\n",
            "g++ -DHAVE_CONFIG_H -I. -I.. -DCABOCHA_DEFAULT_POSSET=\"\\\"IPA\"\\\" -DCABOCHA_DEFAULT_CHARSET=\"\\\"UTF8\"\\\" -DMODEL_VERSION=102  -DCABOCHA_DEFAULT_RC=\"\\\"/usr/local/etc/cabocharc\\\"\"    -O3 -Wno-deprecated -Wall -c -o cabocha-learn.o cabocha-learn.cpp\n",
            "/bin/bash ../libtool  --tag=CXX   --mode=link g++  -O3 -Wno-deprecated -Wall   -o cabocha-learn cabocha-learn.o libcabocha.la -lcrfpp -lmecab  -L/usr/lib/x86_64-linux-gnu -lmecab -lstdc++ \n",
            "libtool: link: g++ -O3 -Wno-deprecated -Wall -o .libs/cabocha-learn cabocha-learn.o  ./.libs/libcabocha.so /usr/local/lib/libcrfpp.so -L/usr/lib/x86_64-linux-gnu -lmecab -lstdc++\n",
            "g++ -DHAVE_CONFIG_H -I. -I.. -DCABOCHA_DEFAULT_POSSET=\"\\\"IPA\"\\\" -DCABOCHA_DEFAULT_CHARSET=\"\\\"UTF8\"\\\" -DMODEL_VERSION=102  -DCABOCHA_DEFAULT_RC=\"\\\"/usr/local/etc/cabocharc\\\"\"    -O3 -Wno-deprecated -Wall -c -o cabocha-system-eval.o cabocha-system-eval.cpp\n",
            "/bin/bash ../libtool  --tag=CXX   --mode=link g++  -O3 -Wno-deprecated -Wall   -o cabocha-system-eval cabocha-system-eval.o libcabocha.la -lcrfpp -lmecab  -L/usr/lib/x86_64-linux-gnu -lmecab -lstdc++ \n",
            "libtool: link: g++ -O3 -Wno-deprecated -Wall -o .libs/cabocha-system-eval cabocha-system-eval.o  ./.libs/libcabocha.so /usr/local/lib/libcrfpp.so -L/usr/lib/x86_64-linux-gnu -lmecab -lstdc++\n",
            "make[2]: Leaving directory '/content/cabocha-0.69/src'\n",
            "Making all in model\n",
            "make[2]: Entering directory '/content/cabocha-0.69/model'\n",
            "../src/cabocha-model-index -f UTF8 -t UTF8 chunk.ipa.txt chunk.ipa.model\n",
            "../src/cabocha-model-index -f UTF8 -t UTF8 chunk.juman.txt chunk.juman.model\n",
            "../src/cabocha-model-index -f UTF8 -t UTF8 chunk.unidic.txt chunk.unidic.model\n",
            "../src/cabocha-model-index -f UTF8 -t UTF8 dep.ipa.txt dep.ipa.model\n",
            "emitting dic    : 100% |###########################################| \n",
            "emitting trie   : 100% |###########################################| \n",
            "\n",
            "double array size : 2340864\n",
            "trie         size : 22100992\n",
            "feature size      : 122541\n",
            "freq feature size : 3000\n",
            "minsup            : 2\n",
            "bias              : 113308\n",
            "sigma             : 0.0001\n",
            "normalize factor  : 1.98193e-07\n",
            "Done!\n",
            "12.07 s\n",
            "\n",
            "../src/cabocha-model-index -f UTF8 -t UTF8 dep.juman.txt dep.juman.model\n",
            "emitting dic    : 100% |###########################################| \n",
            "emitting trie   : 100% |###########################################| \n",
            "\n",
            "double array size : 2892800\n",
            "trie         size : 22047744\n",
            "feature size      : 149674\n",
            "freq feature size : 3000\n",
            "minsup            : 2\n",
            "bias              : 78200\n",
            "sigma             : 0.0001\n",
            "normalize factor  : 2.27711e-07\n",
            "Done!\n",
            "11.85 s\n",
            "\n",
            "../src/cabocha-model-index -f UTF8 -t UTF8 dep.unidic.txt dep.unidic.model\n",
            "emitting dic    : 100% |###########################################| \n",
            "emitting trie   : 100% |###########################################| \n",
            "\n",
            "double array size : 2159616\n",
            "trie         size : 19891200\n",
            "feature size      : 121120\n",
            "freq feature size : 3000\n",
            "minsup            : 2\n",
            "bias              : 92412\n",
            "sigma             : 0.0001\n",
            "normalize factor  : 2.27189e-07\n",
            "Done!\n",
            "11.12 s\n",
            "\n",
            "../src/cabocha-model-index -f UTF8 -t UTF8 ne.ipa.txt ne.ipa.model\n",
            "../src/cabocha-model-index -f UTF8 -t UTF8 ne.juman.txt ne.juman.model\n",
            "../src/cabocha-model-index -f UTF8 -t UTF8 ne.unidic.txt ne.unidic.model\n",
            "make[2]: Leaving directory '/content/cabocha-0.69/model'\n",
            "Making all in man\n",
            "make[2]: Entering directory '/content/cabocha-0.69/man'\n",
            "make[2]: Nothing to be done for 'all'.\n",
            "make[2]: Leaving directory '/content/cabocha-0.69/man'\n",
            "make[2]: Entering directory '/content/cabocha-0.69'\n",
            "make[2]: Leaving directory '/content/cabocha-0.69'\n",
            "make[1]: Leaving directory '/content/cabocha-0.69'\n",
            "Making check in src\n",
            "make[1]: Entering directory '/content/cabocha-0.69/src'\n",
            "make[1]: Nothing to be done for 'check'.\n",
            "make[1]: Leaving directory '/content/cabocha-0.69/src'\n",
            "Making check in model\n",
            "make[1]: Entering directory '/content/cabocha-0.69/model'\n",
            "make[1]: Nothing to be done for 'check'.\n",
            "make[1]: Leaving directory '/content/cabocha-0.69/model'\n",
            "Making check in man\n",
            "make[1]: Entering directory '/content/cabocha-0.69/man'\n",
            "make[1]: Nothing to be done for 'check'.\n",
            "make[1]: Leaving directory '/content/cabocha-0.69/man'\n",
            "make[1]: Entering directory '/content/cabocha-0.69'\n",
            "make[1]: Leaving directory '/content/cabocha-0.69'\n",
            "Making install in src\n",
            "make[1]: Entering directory '/content/cabocha-0.69/src'\n",
            "make[2]: Entering directory '/content/cabocha-0.69/src'\n",
            " /bin/mkdir -p '/usr/local/lib'\n",
            " /bin/bash ../libtool   --mode=install /usr/bin/install -c   libcabocha.la '/usr/local/lib'\n",
            "libtool: install: /usr/bin/install -c .libs/libcabocha.so.5.0.0 /usr/local/lib/libcabocha.so.5.0.0\n",
            "libtool: install: (cd /usr/local/lib && { ln -s -f libcabocha.so.5.0.0 libcabocha.so.5 || { rm -f libcabocha.so.5 && ln -s libcabocha.so.5.0.0 libcabocha.so.5; }; })\n",
            "libtool: install: (cd /usr/local/lib && { ln -s -f libcabocha.so.5.0.0 libcabocha.so || { rm -f libcabocha.so && ln -s libcabocha.so.5.0.0 libcabocha.so; }; })\n",
            "libtool: install: /usr/bin/install -c .libs/libcabocha.lai /usr/local/lib/libcabocha.la\n",
            "libtool: install: /usr/bin/install -c .libs/libcabocha.a /usr/local/lib/libcabocha.a\n",
            "libtool: install: chmod 644 /usr/local/lib/libcabocha.a\n",
            "libtool: install: ranlib /usr/local/lib/libcabocha.a\n",
            "libtool: finish: PATH=\"/usr/local/nvidia/bin:/usr/local/cuda/bin:/usr/local/sbin:/usr/local/bin:/usr/sbin:/usr/bin:/sbin:/bin:/tools/node/bin:/tools/google-cloud-sdk/bin:/opt/bin:/sbin\" ldconfig -n /usr/local/lib\n",
            "----------------------------------------------------------------------\n",
            "Libraries have been installed in:\n",
            "   /usr/local/lib\n",
            "\n",
            "If you ever happen to want to link against installed libraries\n",
            "in a given directory, LIBDIR, you must either use libtool, and\n",
            "specify the full pathname of the library, or use the `-LLIBDIR'\n",
            "flag during linking and do at least one of the following:\n",
            "   - add LIBDIR to the `LD_LIBRARY_PATH' environment variable\n",
            "     during execution\n",
            "   - add LIBDIR to the `LD_RUN_PATH' environment variable\n",
            "     during linking\n",
            "   - use the `-Wl,-rpath -Wl,LIBDIR' linker flag\n",
            "   - have your system administrator add LIBDIR to `/etc/ld.so.conf'\n",
            "\n",
            "See any operating system documentation about shared libraries for\n",
            "more information, such as the ld(1) and ld.so(8) manual pages.\n",
            "----------------------------------------------------------------------\n",
            " /bin/mkdir -p '/usr/local/bin'\n",
            "  /bin/bash ../libtool   --mode=install /usr/bin/install -c cabocha '/usr/local/bin'\n",
            "libtool: install: /usr/bin/install -c .libs/cabocha /usr/local/bin/cabocha\n",
            " /bin/mkdir -p '/usr/local/libexec/cabocha'\n",
            "  /bin/bash ../libtool   --mode=install /usr/bin/install -c cabocha-model-index cabocha-learn cabocha-system-eval '/usr/local/libexec/cabocha'\n",
            "libtool: install: /usr/bin/install -c .libs/cabocha-model-index /usr/local/libexec/cabocha/cabocha-model-index\n",
            "libtool: install: /usr/bin/install -c .libs/cabocha-learn /usr/local/libexec/cabocha/cabocha-learn\n",
            "libtool: install: /usr/bin/install -c .libs/cabocha-system-eval /usr/local/libexec/cabocha/cabocha-system-eval\n",
            " /bin/mkdir -p '/usr/local/include'\n",
            " /usr/bin/install -c -m 644 cabocha.h '/usr/local/include'\n",
            "make[2]: Leaving directory '/content/cabocha-0.69/src'\n",
            "make[1]: Leaving directory '/content/cabocha-0.69/src'\n",
            "Making install in model\n",
            "make[1]: Entering directory '/content/cabocha-0.69/model'\n",
            "make[2]: Entering directory '/content/cabocha-0.69/model'\n",
            "make[2]: Nothing to be done for 'install-exec-am'.\n",
            " /bin/mkdir -p '/usr/local/lib/cabocha/model'\n",
            " /usr/bin/install -c -m 644 chunk.ipa.model chunk.juman.model chunk.unidic.model dep.ipa.model dep.juman.model dep.unidic.model ne.ipa.model ne.juman.model ne.unidic.model '/usr/local/lib/cabocha/model'\n",
            "make[2]: Leaving directory '/content/cabocha-0.69/model'\n",
            "make[1]: Leaving directory '/content/cabocha-0.69/model'\n",
            "Making install in man\n",
            "make[1]: Entering directory '/content/cabocha-0.69/man'\n",
            "make[2]: Entering directory '/content/cabocha-0.69/man'\n",
            "make[2]: Nothing to be done for 'install-exec-am'.\n",
            " /bin/mkdir -p '/usr/local/share/man/man1'\n",
            " /usr/bin/install -c -m 644 cabocha.1 '/usr/local/share/man/man1'\n",
            "make[2]: Leaving directory '/content/cabocha-0.69/man'\n",
            "make[1]: Leaving directory '/content/cabocha-0.69/man'\n",
            "make[1]: Entering directory '/content/cabocha-0.69'\n",
            "make[2]: Entering directory '/content/cabocha-0.69'\n",
            " /bin/mkdir -p '/usr/local/bin'\n",
            " /usr/bin/install -c cabocha-config '/usr/local/bin'\n",
            " /bin/mkdir -p '/usr/local/etc'\n",
            " /usr/bin/install -c -m 644 cabocharc '/usr/local/etc'\n",
            "make[2]: Leaving directory '/content/cabocha-0.69'\n",
            "make[1]: Leaving directory '/content/cabocha-0.69'\n",
            "/content\n",
            "/content/cabocha-0.69/python\n",
            "running build_ext\n",
            "building '_CaboCha' extension\n",
            "creating build\n",
            "creating build/temp.linux-x86_64-3.7\n",
            "x86_64-linux-gnu-gcc -pthread -Wno-unused-result -Wsign-compare -DNDEBUG -g -fwrapv -O2 -Wall -g -fdebug-prefix-map=/build/python3.7-Y7dWVB/python3.7-3.7.12=. -fstack-protector-strong -Wformat -Werror=format-security -g -fdebug-prefix-map=/build/python3.7-Y7dWVB/python3.7-3.7.12=. -fstack-protector-strong -Wformat -Werror=format-security -Wdate-time -D_FORTIFY_SOURCE=2 -fPIC -I/usr/local/include -I/usr/include/python3.7m -c CaboCha_wrap.cxx -o build/temp.linux-x86_64-3.7/CaboCha_wrap.o\n",
            "warning: no library file corresponding to '-L/usr/lib/x86_64inux-gnu' found (skipping)\n",
            "creating build/lib.linux-x86_64-3.7\n",
            "x86_64-linux-gnu-g++ -pthread -shared -Wl,-O1 -Wl,-Bsymbolic-functions -Wl,-Bsymbolic-functions -Wl,-z,relro -Wl,-Bsymbolic-functions -Wl,-z,relro -g -fdebug-prefix-map=/build/python3.7-Y7dWVB/python3.7-3.7.12=. -fstack-protector-strong -Wformat -Werror=format-security -Wdate-time -D_FORTIFY_SOURCE=2 build/temp.linux-x86_64-3.7/CaboCha_wrap.o -L/usr/local/lib -lcabocha -lcrfpp -lmecab -lmecab -lstdc++ -o build/lib.linux-x86_64-3.7/_CaboCha.cpython-37m-x86_64-linux-gnu.so\n",
            "running install\n",
            "running build\n",
            "running build_py\n",
            "copying CaboCha.py -> build/lib.linux-x86_64-3.7\n",
            "running build_ext\n",
            "running install_lib\n",
            "copying build/lib.linux-x86_64-3.7/_CaboCha.cpython-37m-x86_64-linux-gnu.so -> /usr/local/lib/python3.7/dist-packages\n",
            "copying build/lib.linux-x86_64-3.7/CaboCha.py -> /usr/local/lib/python3.7/dist-packages\n",
            "byte-compiling /usr/local/lib/python3.7/dist-packages/CaboCha.py to CaboCha.cpython-37.pyc\n",
            "running install_egg_info\n",
            "Writing /usr/local/lib/python3.7/dist-packages/cabocha_python-0.69.egg-info\n",
            "/sbin/ldconfig.real: /usr/local/lib/python3.7/dist-packages/ideep4py/lib/libmkldnn.so.0 is not a symbolic link\n",
            "\n",
            "/content/cabocha-0.69\n",
            "[Errno 2] No such file or directory: 'cabocha-0.69'\n",
            "/content/cabocha-0.69\n",
            "make  all-recursive\n",
            "make[1]: Entering directory '/content/cabocha-0.69'\n",
            "Making all in src\n",
            "make[2]: Entering directory '/content/cabocha-0.69/src'\n",
            "make[2]: Nothing to be done for 'all'.\n",
            "make[2]: Leaving directory '/content/cabocha-0.69/src'\n",
            "Making all in model\n",
            "make[2]: Entering directory '/content/cabocha-0.69/model'\n",
            "make[2]: Nothing to be done for 'all'.\n",
            "make[2]: Leaving directory '/content/cabocha-0.69/model'\n",
            "Making all in man\n",
            "make[2]: Entering directory '/content/cabocha-0.69/man'\n",
            "make[2]: Nothing to be done for 'all'.\n",
            "make[2]: Leaving directory '/content/cabocha-0.69/man'\n",
            "make[2]: Entering directory '/content/cabocha-0.69'\n",
            "make[2]: Leaving directory '/content/cabocha-0.69'\n",
            "make[1]: Leaving directory '/content/cabocha-0.69'\n",
            "Making check in src\n",
            "make[1]: Entering directory '/content/cabocha-0.69/src'\n",
            "make[1]: Nothing to be done for 'check'.\n",
            "make[1]: Leaving directory '/content/cabocha-0.69/src'\n",
            "Making check in model\n",
            "make[1]: Entering directory '/content/cabocha-0.69/model'\n",
            "make[1]: Nothing to be done for 'check'.\n",
            "make[1]: Leaving directory '/content/cabocha-0.69/model'\n",
            "Making check in man\n",
            "make[1]: Entering directory '/content/cabocha-0.69/man'\n",
            "make[1]: Nothing to be done for 'check'.\n",
            "make[1]: Leaving directory '/content/cabocha-0.69/man'\n",
            "make[1]: Entering directory '/content/cabocha-0.69'\n",
            "make[1]: Leaving directory '/content/cabocha-0.69'\n",
            "Making install in src\n",
            "make[1]: Entering directory '/content/cabocha-0.69/src'\n",
            "make[2]: Entering directory '/content/cabocha-0.69/src'\n",
            " /bin/mkdir -p '/usr/local/lib'\n",
            " /bin/bash ../libtool   --mode=install /usr/bin/install -c   libcabocha.la '/usr/local/lib'\n",
            "libtool: install: /usr/bin/install -c .libs/libcabocha.so.5.0.0 /usr/local/lib/libcabocha.so.5.0.0\n",
            "libtool: install: (cd /usr/local/lib && { ln -s -f libcabocha.so.5.0.0 libcabocha.so.5 || { rm -f libcabocha.so.5 && ln -s libcabocha.so.5.0.0 libcabocha.so.5; }; })\n",
            "libtool: install: (cd /usr/local/lib && { ln -s -f libcabocha.so.5.0.0 libcabocha.so || { rm -f libcabocha.so && ln -s libcabocha.so.5.0.0 libcabocha.so; }; })\n",
            "libtool: install: /usr/bin/install -c .libs/libcabocha.lai /usr/local/lib/libcabocha.la\n",
            "libtool: install: /usr/bin/install -c .libs/libcabocha.a /usr/local/lib/libcabocha.a\n",
            "libtool: install: chmod 644 /usr/local/lib/libcabocha.a\n",
            "libtool: install: ranlib /usr/local/lib/libcabocha.a\n",
            "libtool: finish: PATH=\"/usr/local/nvidia/bin:/usr/local/cuda/bin:/usr/local/sbin:/usr/local/bin:/usr/sbin:/usr/bin:/sbin:/bin:/tools/node/bin:/tools/google-cloud-sdk/bin:/opt/bin:/sbin\" ldconfig -n /usr/local/lib\n",
            "----------------------------------------------------------------------\n",
            "Libraries have been installed in:\n",
            "   /usr/local/lib\n",
            "\n",
            "If you ever happen to want to link against installed libraries\n",
            "in a given directory, LIBDIR, you must either use libtool, and\n",
            "specify the full pathname of the library, or use the `-LLIBDIR'\n",
            "flag during linking and do at least one of the following:\n",
            "   - add LIBDIR to the `LD_LIBRARY_PATH' environment variable\n",
            "     during execution\n",
            "   - add LIBDIR to the `LD_RUN_PATH' environment variable\n",
            "     during linking\n",
            "   - use the `-Wl,-rpath -Wl,LIBDIR' linker flag\n",
            "   - have your system administrator add LIBDIR to `/etc/ld.so.conf'\n",
            "\n",
            "See any operating system documentation about shared libraries for\n",
            "more information, such as the ld(1) and ld.so(8) manual pages.\n",
            "----------------------------------------------------------------------\n",
            " /bin/mkdir -p '/usr/local/bin'\n",
            "  /bin/bash ../libtool   --mode=install /usr/bin/install -c cabocha '/usr/local/bin'\n",
            "libtool: install: /usr/bin/install -c .libs/cabocha /usr/local/bin/cabocha\n",
            " /bin/mkdir -p '/usr/local/libexec/cabocha'\n",
            "  /bin/bash ../libtool   --mode=install /usr/bin/install -c cabocha-model-index cabocha-learn cabocha-system-eval '/usr/local/libexec/cabocha'\n",
            "libtool: install: /usr/bin/install -c .libs/cabocha-model-index /usr/local/libexec/cabocha/cabocha-model-index\n",
            "libtool: install: /usr/bin/install -c .libs/cabocha-learn /usr/local/libexec/cabocha/cabocha-learn\n",
            "libtool: install: /usr/bin/install -c .libs/cabocha-system-eval /usr/local/libexec/cabocha/cabocha-system-eval\n",
            " /bin/mkdir -p '/usr/local/include'\n",
            " /usr/bin/install -c -m 644 cabocha.h '/usr/local/include'\n",
            "make[2]: Leaving directory '/content/cabocha-0.69/src'\n",
            "make[1]: Leaving directory '/content/cabocha-0.69/src'\n",
            "Making install in model\n",
            "make[1]: Entering directory '/content/cabocha-0.69/model'\n",
            "make[2]: Entering directory '/content/cabocha-0.69/model'\n",
            "make[2]: Nothing to be done for 'install-exec-am'.\n",
            " /bin/mkdir -p '/usr/local/lib/cabocha/model'\n",
            " /usr/bin/install -c -m 644 chunk.ipa.model chunk.juman.model chunk.unidic.model dep.ipa.model dep.juman.model dep.unidic.model ne.ipa.model ne.juman.model ne.unidic.model '/usr/local/lib/cabocha/model'\n",
            "make[2]: Leaving directory '/content/cabocha-0.69/model'\n",
            "make[1]: Leaving directory '/content/cabocha-0.69/model'\n",
            "Making install in man\n",
            "make[1]: Entering directory '/content/cabocha-0.69/man'\n",
            "make[2]: Entering directory '/content/cabocha-0.69/man'\n",
            "make[2]: Nothing to be done for 'install-exec-am'.\n",
            " /bin/mkdir -p '/usr/local/share/man/man1'\n",
            " /usr/bin/install -c -m 644 cabocha.1 '/usr/local/share/man/man1'\n",
            "make[2]: Leaving directory '/content/cabocha-0.69/man'\n",
            "make[1]: Leaving directory '/content/cabocha-0.69/man'\n",
            "make[1]: Entering directory '/content/cabocha-0.69'\n",
            "make[2]: Entering directory '/content/cabocha-0.69'\n",
            " /bin/mkdir -p '/usr/local/bin'\n",
            " /usr/bin/install -c cabocha-config '/usr/local/bin'\n",
            " /bin/mkdir -p '/usr/local/etc'\n",
            " /usr/bin/install -c -m 644 cabocharc '/usr/local/etc'\n",
            "make[2]: Leaving directory '/content/cabocha-0.69'\n",
            "make[1]: Leaving directory '/content/cabocha-0.69'\n",
            "/content\n"
          ]
        }
      ]
    },
    {
      "cell_type": "markdown",
      "metadata": {
        "id": "5BKmbORinVP_"
      },
      "source": [
        "## ３１：インストールチェック"
      ]
    },
    {
      "cell_type": "code",
      "metadata": {
        "id": "vyZm2KUIY45R",
        "colab": {
          "base_uri": "https://localhost:8080/"
        },
        "outputId": "ce9fc0f5-ca18-49a9-da49-5366fd03f914"
      },
      "source": [
        "!mecab --version\n",
        "!cabocha --version"
      ],
      "execution_count": null,
      "outputs": [
        {
          "output_type": "stream",
          "name": "stdout",
          "text": [
            "mecab of 0.996\n",
            "\n",
            "cabocha of 0.69\n"
          ]
        }
      ]
    },
    {
      "cell_type": "markdown",
      "metadata": {
        "id": "DErhI0aUnUnK"
      },
      "source": [
        "## ３２：PythonからMeCab呼び出し"
      ]
    },
    {
      "cell_type": "code",
      "metadata": {
        "colab": {
          "base_uri": "https://localhost:8080/"
        },
        "id": "hRkU-JeAqJE1",
        "outputId": "4c2b2d38-2099-4404-9255-2ecf30fa623f"
      },
      "source": [
        "# 2021/10/4追記\n",
        "!pip install unidic-lite"
      ],
      "execution_count": null,
      "outputs": [
        {
          "output_type": "stream",
          "name": "stdout",
          "text": [
            "Collecting unidic-lite\n",
            "  Downloading unidic-lite-1.0.8.tar.gz (47.4 MB)\n",
            "\u001b[K     |████████████████████████████████| 47.4 MB 46 kB/s \n",
            "\u001b[?25hBuilding wheels for collected packages: unidic-lite\n",
            "  Building wheel for unidic-lite (setup.py) ... \u001b[?25l\u001b[?25hdone\n",
            "  Created wheel for unidic-lite: filename=unidic_lite-1.0.8-py3-none-any.whl size=47658836 sha256=ebc4a57ea155af4d940c93a1de49e5a7db5a023187ce23dd44d94977c20fbbef\n",
            "  Stored in directory: /root/.cache/pip/wheels/de/69/b1/112140b599f2b13f609d485a99e357ba68df194d2079c5b1a2\n",
            "Successfully built unidic-lite\n",
            "Installing collected packages: unidic-lite\n",
            "Successfully installed unidic-lite-1.0.8\n"
          ]
        }
      ]
    },
    {
      "cell_type": "code",
      "metadata": {
        "id": "GxexlBYDUJzA",
        "colab": {
          "base_uri": "https://localhost:8080/",
          "height": 273
        },
        "outputId": "235e8ee6-94ca-4459-d3ff-274ba5686cb6"
      },
      "source": [
        "import MeCab\n",
        "t = MeCab.Tagger()\n",
        "target = \"私は永遠に駆け出しエンジニアスピリットで学び続けるんだ。そしてプロになるためにまず100本ノックしよう。\"\n",
        "t.parse(target)"
      ],
      "execution_count": null,
      "outputs": [
        {
          "output_type": "execute_result",
          "data": {
            "application/vnd.google.colaboratory.intrinsic+json": {
              "type": "string"
            },
            "text/plain": [
              "'私\\tワタクシ\\tワタクシ\\t私-代名詞\\t代名詞\\t\\t\\t0\\nは\\tワ\\tハ\\tは\\t助詞-係助詞\\t\\t\\t\\n永遠\\tエーエン\\tエイエン\\t永遠\\t名詞-普通名詞-一般\\t\\t\\t0\\nに\\tニ\\tニ\\tに\\t助詞-格助詞\\t\\t\\t\\n駆け出し\\tカケダシ\\tカケダシ\\t駆け出し\\t名詞-普通名詞-一般\\t\\t\\t0\\nエンジニア\\tエンジニア\\tエンジニア\\tエンジニア-engineer\\t名詞-普通名詞-一般\\t\\t\\t3\\nスピリット\\tスピリット\\tスピリット\\tスピリット-spirit\\t名詞-普通名詞-一般\\t\\t\\t2,3\\nで\\tデ\\tデ\\tで\\t助詞-格助詞\\t\\t\\t\\n学び\\tマナビ\\tマナブ\\t学ぶ\\t動詞-一般\\t五段-バ行\\t連用形-一般\\t0,2\\n続ける\\tツズケル\\tツヅケル\\t続ける\\t動詞-非自立可能\\t下一段-カ行\\t連体形-一般\\t0\\nん\\tン\\tノ\\tの\\t助詞-準体助詞\\t\\t\\t\\nだ\\tダ\\tダ\\tだ\\t助動詞\\t助動詞-ダ\\t終止形-一般\\t\\n。\\t\\t\\t。\\t補助記号-句点\\t\\t\\t\\nそして\\tソシテ\\tソシテ\\tそして\\t接続詞\\t\\t\\t0\\nプロ\\tプロ\\tプロ\\tプロ-pro\\t名詞-普通名詞-一般\\t\\t\\t1\\nに\\tニ\\tニ\\tに\\t助詞-格助詞\\t\\t\\t\\nなる\\tナル\\tナル\\t成る\\t動詞-非自立可能\\t五段-ラ行\\t連体形-一般\\t1\\nため\\tタメ\\tタメ\\t為\\t名詞-普通名詞-副詞可能\\t\\t\\t2\\nに\\tニ\\tニ\\tに\\t助詞-格助詞\\t\\t\\t\\nまず\\tマズ\\tマズ\\t先ず\\t副詞\\t\\t\\t1\\n100\\t100\\t100\\t100\\t名詞-数詞\\t\\t\\t0\\n本\\tポン\\tホン\\t本\\t接尾辞-名詞的-助数詞\\t\\t\\t\\nノック\\tノック\\tノック\\tノック-knock\\t名詞-普通名詞-サ変可能\\t\\t\\t1\\nしよう\\tシヨー\\tスル\\t為る\\t動詞-非自立可能\\tサ行変格\\t意志推量形\\t0\\n。\\t\\t\\t。\\t補助記号-句点\\t\\t\\t\\nEOS\\n'"
            ]
          },
          "metadata": {},
          "execution_count": 5
        }
      ]
    },
    {
      "cell_type": "markdown",
      "metadata": {
        "id": "X8spa8VbncRw"
      },
      "source": [
        "## ３３：MeCabで分かち書き"
      ]
    },
    {
      "cell_type": "code",
      "metadata": {
        "id": "rE07lARrfEOr",
        "colab": {
          "base_uri": "https://localhost:8080/",
          "height": 54
        },
        "outputId": "1c344db3-872b-427a-ed42-90080c31a68f"
      },
      "source": [
        "import MeCab\n",
        "t = MeCab.Tagger(\"-Owakati\")\n",
        "target = \"私は永遠に駆け出しエンジニアスピリットで学び続けるんだ。そしてプロになるためにまず100本ノックしよう。\"\n",
        "t.parse(target)"
      ],
      "execution_count": null,
      "outputs": [
        {
          "output_type": "execute_result",
          "data": {
            "application/vnd.google.colaboratory.intrinsic+json": {
              "type": "string"
            },
            "text/plain": [
              "'私 は 永遠 に 駆け出し エンジニア スピリット で 学び 続ける ん だ 。 そして プロ に なる ため に まず 100 本 ノック しよう 。 \\n'"
            ]
          },
          "metadata": {},
          "execution_count": 6
        }
      ]
    },
    {
      "cell_type": "markdown",
      "metadata": {
        "id": "fojFmnppnebu"
      },
      "source": [
        "## ３４：PythonからCaboCha呼び出し"
      ]
    },
    {
      "cell_type": "code",
      "metadata": {
        "id": "ZLBFguxuUyqY",
        "colab": {
          "base_uri": "https://localhost:8080/",
          "height": 291
        },
        "outputId": "d85dc708-c9a4-413b-8b76-303b19712bb8"
      },
      "source": [
        "import CaboCha\n",
        "cbc = CaboCha.Parser()\n",
        "target = \"私は永遠に駆け出しエンジニアスピリットで学び続けるんだ。そしてプロになるためにまず100本ノックしよう。\"\n",
        "\n",
        "cbc.parse(target).toString(CaboCha.FORMAT_LATTICE)"
      ],
      "execution_count": null,
      "outputs": [
        {
          "output_type": "execute_result",
          "data": {
            "application/vnd.google.colaboratory.intrinsic+json": {
              "type": "string"
            },
            "text/plain": [
              "'* 0 4D 0/1 1.288665\\n私\\t名詞,代名詞,一般,*,*,*,私,ワタシ,ワタシ\\nは\\t助詞,係助詞,*,*,*,*,は,ハ,ワ\\n* 1 2D 0/1 1.618830\\n永遠\\t名詞,一般,*,*,*,*,永遠,エイエン,エイエン\\nに\\t助詞,格助詞,一般,*,*,*,に,ニ,ニ\\n* 2 4D 0/0 2.722558\\n駆け出し\\t動詞,自立,*,*,五段・サ行,連用形,駆け出す,カケダシ,カケダシ\\n* 3 4D 1/2 3.204407\\nエンジニア\\t名詞,一般,*,*,*,*,エンジニア,エンジニア,エンジニア\\nスピリット\\t名詞,一般,*,*,*,*,スピリット,スピリット,スピリット\\nで\\t助詞,格助詞,一般,*,*,*,で,デ,デ\\n* 4 11D 2/3 -1.049420\\n学び\\t動詞,自立,*,*,五段・バ行,連用形,学ぶ,マナビ,マナビ\\n続ける\\t動詞,非自立,*,*,一段,基本形,続ける,ツヅケル,ツズケル\\nん\\t名詞,非自立,一般,*,*,*,ん,ン,ン\\nだ\\t助動詞,*,*,*,特殊・ダ,基本形,だ,ダ,ダ\\n。\\t記号,句点,*,*,*,*,。,。,。\\n* 5 11D 0/0 -1.049420\\nそして\\t接続詞,*,*,*,*,*,そして,ソシテ,ソシテ\\n* 6 7D 0/1 2.079493\\nプロ\\t名詞,一般,*,*,*,*,プロ,プロ,プロ\\nに\\t助詞,格助詞,一般,*,*,*,に,ニ,ニ\\n* 7 8D 0/0 2.449630\\nなる\\t動詞,自立,*,*,五段・ラ行,基本形,なる,ナル,ナル\\n* 8 11D 0/1 -1.049420\\nため\\t名詞,非自立,副詞可能,*,*,*,ため,タメ,タメ\\nに\\t助詞,格助詞,一般,*,*,*,に,ニ,ニ\\n* 9 11D 0/0 -1.049420\\nまず\\t副詞,一般,*,*,*,*,まず,マズ,マズ\\n* 10 11D 1/1 -1.049420\\n100\\t名詞,数,*,*,*,*,*\\n本\\t名詞,接尾,助数詞,*,*,*,本,ホン,ホン\\n* 11 -1D 1/2 0.000000\\nノック\\t名詞,サ変接続,*,*,*,*,ノック,ノック,ノック\\nしよ\\t動詞,自立,*,*,サ変・スル,未然ウ接続,する,シヨ,シヨ\\nう\\t助動詞,*,*,*,不変化型,基本形,う,ウ,ウ\\n。\\t記号,句点,*,*,*,*,。,。,。\\nEOS\\n'"
            ]
          },
          "metadata": {},
          "execution_count": 7
        }
      ]
    },
    {
      "cell_type": "markdown",
      "metadata": {
        "id": "EPd0wcgLnjxp"
      },
      "source": [
        "## ３５：CaboChaでツリー作成"
      ]
    },
    {
      "cell_type": "code",
      "metadata": {
        "id": "9Lv-6LZtYrO1",
        "colab": {
          "base_uri": "https://localhost:8080/"
        },
        "outputId": "cce63895-a695-4e60-a1fb-7edcf2c92d13"
      },
      "source": [
        "import CaboCha\n",
        "cbc = CaboCha.Parser()\n",
        "target = \"私は永遠に駆け出しエンジニアスピリットで学び続けるんだ。そしてプロになるためにまず100本ノックしよう。\"\n",
        "\n",
        "print(cbc.parse(target).toString(CaboCha.FORMAT_TREE))"
      ],
      "execution_count": null,
      "outputs": [
        {
          "output_type": "stream",
          "name": "stdout",
          "text": [
            "                  私は-------D              \n",
            "                  永遠に-D   |              \n",
            "                  駆け出し---D              \n",
            "      エンジニアスピリットで-D              \n",
            "              学び続けるんだ。-------------D\n",
            "                          そして-----------D\n",
            "                            プロに-D       |\n",
            "                                なる-D     |\n",
            "                                ために-----D\n",
            "                                    まず---D\n",
            "                                     100本-D\n",
            "                              ノックしよう。\n",
            "EOS\n",
            "\n"
          ]
        }
      ]
    },
    {
      "cell_type": "markdown",
      "metadata": {
        "id": "ECFflu4PqpJ6"
      },
      "source": [
        "## ３６：係り受け解析器による抽出的文書要約"
      ]
    },
    {
      "cell_type": "code",
      "metadata": {
        "id": "dAp1pFAEhN_0",
        "colab": {
          "base_uri": "https://localhost:8080/"
        },
        "outputId": "4a1d9147-6c4e-4456-e376-a11d7b981e87"
      },
      "source": [
        "import CaboCha\n",
        "cbc = CaboCha.Parser()\n",
        "target = \"今日は猛暑の中エアコンをつけずに過ごした。その結果、この部屋は蒸し風呂のように暑い。\"\n",
        "print(cbc.parse(target).toString(CaboCha.FORMAT_LATTICE))"
      ],
      "execution_count": null,
      "outputs": [
        {
          "output_type": "stream",
          "name": "stdout",
          "text": [
            "* 0 5D 0/1 1.460438\n",
            "今日\t名詞,副詞可能,*,*,*,*,今日,キョウ,キョー\n",
            "は\t助詞,係助詞,*,*,*,*,は,ハ,ワ\n",
            "* 1 2D 0/1 1.105253\n",
            "猛暑\t名詞,一般,*,*,*,*,猛暑,モウショ,モーショ\n",
            "の\t助詞,連体化,*,*,*,*,の,ノ,ノ\n",
            "* 2 5D 0/0 3.005360\n",
            "中\t名詞,非自立,副詞可能,*,*,*,中,ナカ,ナカ\n",
            "* 3 4D 0/1 1.899979\n",
            "エアコン\t名詞,一般,*,*,*,*,エアコン,エアコン,エアコン\n",
            "を\t助詞,格助詞,一般,*,*,*,を,ヲ,ヲ\n",
            "* 4 5D 0/2 3.404838\n",
            "つけ\t動詞,自立,*,*,一段,未然形,つける,ツケ,ツケ\n",
            "ず\t助動詞,*,*,*,特殊・ヌ,連用ニ接続,ぬ,ズ,ズ\n",
            "に\t助詞,格助詞,一般,*,*,*,に,ニ,ニ\n",
            "* 5 11D 0/1 -1.141536\n",
            "過ごし\t動詞,自立,*,*,五段・サ行,連用形,過ごす,スゴシ,スゴシ\n",
            "た\t助動詞,*,*,*,特殊・タ,基本形,た,タ,タ\n",
            "。\t記号,句点,*,*,*,*,。,。,。\n",
            "* 6 7D 0/0 1.599230\n",
            "その\t連体詞,*,*,*,*,*,その,ソノ,ソノ\n",
            "* 7 11D 0/0 -1.141536\n",
            "結果\t名詞,副詞可能,*,*,*,*,結果,ケッカ,ケッカ\n",
            "、\t記号,読点,*,*,*,*,、,、,、\n",
            "* 8 9D 0/0 1.352889\n",
            "この\t連体詞,*,*,*,*,*,この,コノ,コノ\n",
            "* 9 11D 0/1 -1.141536\n",
            "部屋\t名詞,一般,*,*,*,*,部屋,ヘヤ,ヘヤ\n",
            "は\t助詞,係助詞,*,*,*,*,は,ハ,ワ\n",
            "* 10 11D 2/3 -1.141536\n",
            "蒸し風呂\t名詞,一般,*,*,*,*,蒸し風呂,ムシブロ,ムシブロ\n",
            "の\t助詞,連体化,*,*,*,*,の,ノ,ノ\n",
            "よう\t名詞,非自立,助動詞語幹,*,*,*,よう,ヨウ,ヨー\n",
            "に\t助詞,副詞化,*,*,*,*,に,ニ,ニ\n",
            "* 11 -1D 0/0 0.000000\n",
            "暑い\t形容詞,自立,*,*,形容詞・アウオ段,基本形,暑い,アツイ,アツイ\n",
            "。\t記号,句点,*,*,*,*,。,。,。\n",
            "EOS\n",
            "\n"
          ]
        }
      ]
    },
    {
      "cell_type": "code",
      "metadata": {
        "id": "XOsl097Rum_Q"
      },
      "source": [
        "import CaboCha\n",
        "cbc = CaboCha.Parser()\n",
        "target = \"今日は猛暑の中エアコンをつけずに過ごした。その結果、この部屋は蒸し風呂のように暑い。\"\n",
        "id2phrase = {}\n",
        "src2dst = {}\n",
        "for line in cbc.parse(target).toString(CaboCha.FORMAT_LATTICE).split('\\n'):\n",
        "  if line and line != 'EOS':\n",
        "    if line[0] == '*':\n",
        "      # 係り受け関係を表す行\n",
        "      # src_id\n",
        "      src_id = int(line.split(' ')[1])\n",
        "      # dst_id\n",
        "      dst_id = line.split(' ')[2].strip(\"D\")\n",
        "      # src_idからdst_idへのマップ\n",
        "      src2dst[src_id] = int(dst_id)\n",
        "    else:\n",
        "      # 形態素の情報を表す行\n",
        "      row = line.split('\\t')\n",
        "      row[1].split(',')[0]\n",
        "      # IDと文節\n",
        "      if src_id not in id2phrase:\n",
        "        id2phrase[src_id] = row[0]\n",
        "      else:\n",
        "        id2phrase[src_id] += row[0]"
      ],
      "execution_count": null,
      "outputs": []
    },
    {
      "cell_type": "code",
      "metadata": {
        "id": "knWuczk4LYh8",
        "colab": {
          "base_uri": "https://localhost:8080/"
        },
        "outputId": "68a9af83-ac94-414f-f783-4db601a4b11e"
      },
      "source": [
        "id2phrase.items()"
      ],
      "execution_count": null,
      "outputs": [
        {
          "output_type": "execute_result",
          "data": {
            "text/plain": [
              "dict_items([(0, '今日は'), (1, '猛暑の'), (2, '中'), (3, 'エアコンを'), (4, 'つけずに'), (5, '過ごした。'), (6, 'その'), (7, '結果、'), (8, 'この'), (9, '部屋は'), (10, '蒸し風呂のように'), (11, '暑い。')])"
            ]
          },
          "metadata": {},
          "execution_count": 11
        }
      ]
    },
    {
      "cell_type": "code",
      "metadata": {
        "id": "4QXIeRadNVhZ",
        "colab": {
          "base_uri": "https://localhost:8080/"
        },
        "outputId": "00571363-0d7c-4503-8bcc-368f472d4449"
      },
      "source": [
        "src2dst.items()"
      ],
      "execution_count": null,
      "outputs": [
        {
          "output_type": "execute_result",
          "data": {
            "text/plain": [
              "dict_items([(0, 5), (1, 2), (2, 5), (3, 4), (4, 5), (5, 11), (6, 7), (7, 11), (8, 9), (9, 11), (10, 11), (11, -1)])"
            ]
          },
          "metadata": {},
          "execution_count": 12
        }
      ]
    },
    {
      "cell_type": "code",
      "metadata": {
        "id": "x4buNvoQUWGX",
        "colab": {
          "base_uri": "https://localhost:8080/"
        },
        "outputId": "4e51d21b-1de8-4586-afb3-733414c44a8e"
      },
      "source": [
        "for src_id in src2dst:\n",
        "  if src2dst[src_id] != -1:\n",
        "    print(id2phrase[src_id], id2phrase[src2dst[src_id]])\n",
        "  else:\n",
        "    print(id2phrase[src_id])"
      ],
      "execution_count": null,
      "outputs": [
        {
          "output_type": "stream",
          "name": "stdout",
          "text": [
            "今日は 過ごした。\n",
            "猛暑の 中\n",
            "中 過ごした。\n",
            "エアコンを つけずに\n",
            "つけずに 過ごした。\n",
            "過ごした。 暑い。\n",
            "その 結果、\n",
            "結果、 暑い。\n",
            "この 部屋は\n",
            "部屋は 暑い。\n",
            "蒸し風呂のように 暑い。\n",
            "暑い。\n"
          ]
        }
      ]
    },
    {
      "cell_type": "code",
      "metadata": {
        "id": "KGjq70_cctG7",
        "colab": {
          "base_uri": "https://localhost:8080/"
        },
        "outputId": "c80e2da3-318a-4206-b418-17a232b8ca28"
      },
      "source": [
        "print(id2phrase[list(src2dst.values()).index(-1)])"
      ],
      "execution_count": null,
      "outputs": [
        {
          "output_type": "stream",
          "name": "stdout",
          "text": [
            "暑い。\n"
          ]
        }
      ]
    },
    {
      "cell_type": "code",
      "metadata": {
        "id": "pvijqlvIenm4",
        "colab": {
          "base_uri": "https://localhost:8080/"
        },
        "outputId": "81490d75-2d5b-4e94-f0ea-e4f77e8a980e"
      },
      "source": [
        "print(id2phrase[list(src2dst.values()).index(list(src2dst.values()).index(-1))])"
      ],
      "execution_count": null,
      "outputs": [
        {
          "output_type": "stream",
          "name": "stdout",
          "text": [
            "過ごした。\n"
          ]
        }
      ]
    },
    {
      "cell_type": "code",
      "metadata": {
        "id": "j08wKQNuWw8y",
        "colab": {
          "base_uri": "https://localhost:8080/"
        },
        "outputId": "2213e4ba-ed12-4512-a5c6-61e9a7f6ab46"
      },
      "source": [
        "import CaboCha\n",
        "\n",
        "target = \"今日は猛暑の中エアコンをつけずに過ごした。その結果、この部屋は蒸し風呂のように暑い。\"\n",
        "\n",
        "def cabocha_summarizer(target):\n",
        "  cbc = CaboCha.Parser()\n",
        "  id2phrase = {}\n",
        "  src2dst = {}\n",
        "  for line in cbc.parse(target).toString(CaboCha.FORMAT_LATTICE).split('\\n'):\n",
        "    if line and line != 'EOS':\n",
        "      if line[0] == '*':\n",
        "        # 係り受け関係を表す行\n",
        "        # src_id\n",
        "        src_id = int(line.split(' ')[1])\n",
        "        # dst_id\n",
        "        dst_id = line.split(' ')[2].strip(\"D\")\n",
        "        # src_idからdst_idへのマップ\n",
        "        src2dst[src_id] = int(dst_id)\n",
        "      else:\n",
        "        # 形態素の情報を表す行\n",
        "        row = line.split('\\t')\n",
        "        row[1].split(',')[0]\n",
        "        # IDと文節\n",
        "        if src_id not in id2phrase:\n",
        "          id2phrase[src_id] = row[0]\n",
        "        else:\n",
        "          id2phrase[src_id] += row[0]\n",
        "  \n",
        "  \n",
        "  return id2phrase[list(src2dst.values()).index(list(src2dst.values()).index(-1))]+id2phrase[list(src2dst.values()).index(-1)]\n",
        "\n",
        "print(cabocha_summarizer(target))"
      ],
      "execution_count": null,
      "outputs": [
        {
          "output_type": "stream",
          "name": "stdout",
          "text": [
            "過ごした。暑い。\n"
          ]
        }
      ]
    },
    {
      "cell_type": "markdown",
      "metadata": {
        "id": "CAzrEVQTfkVu"
      },
      "source": [
        "## ３７：文頭の文節と述語による要約文"
      ]
    },
    {
      "cell_type": "code",
      "metadata": {
        "id": "KP0OdipccYE-",
        "colab": {
          "base_uri": "https://localhost:8080/"
        },
        "outputId": "206af535-e870-41d4-ac13-dccb7a67b763"
      },
      "source": [
        "print(id2phrase[min(src2dst.keys())]+id2phrase[list(src2dst.values()).index(-1)])"
      ],
      "execution_count": null,
      "outputs": [
        {
          "output_type": "stream",
          "name": "stdout",
          "text": [
            "今日は暑い。\n"
          ]
        }
      ]
    },
    {
      "cell_type": "code",
      "metadata": {
        "id": "4m5pS7ErgR0-",
        "colab": {
          "base_uri": "https://localhost:8080/"
        },
        "outputId": "26f998a5-072e-4259-dce3-39020c00c2f5"
      },
      "source": [
        "import CaboCha\n",
        "target = \"僕は昨日、どうしても外に出て身体を動かしたくてジョギングにいった後、それでは飽き足りずに公園で友達と遊んだ\"\n",
        "def cabocha_summarizer2(target):\n",
        "  cbc = CaboCha.Parser()\n",
        "  id2phrase = {}\n",
        "  src2dst = {}\n",
        "  for line in cbc.parse(target).toString(CaboCha.FORMAT_LATTICE).split('\\n'):\n",
        "    if line and line != 'EOS':\n",
        "      if line[0] == '*':\n",
        "        # 係り受け関係を表す行\n",
        "        # src_id\n",
        "        src_id = int(line.split(' ')[1])\n",
        "        # dst_id\n",
        "        dst_id = line.split(' ')[2].strip(\"D\")\n",
        "        # src_idからdst_idへのマップ\n",
        "        src2dst[src_id] = int(dst_id)\n",
        "      else:\n",
        "        # 形態素の情報を表す行\n",
        "        row = line.split('\\t')\n",
        "        row[1].split(',')[0]\n",
        "        # IDと文節\n",
        "        if src_id not in id2phrase:\n",
        "          id2phrase[src_id] = row[0]\n",
        "        else:\n",
        "          id2phrase[src_id] += row[0]\n",
        "  \n",
        "  \n",
        "  return id2phrase[min(src2dst.keys())]+id2phrase[list(src2dst.values()).index(-1)]\n",
        "\n",
        "print(cabocha_summarizer(target))"
      ],
      "execution_count": null,
      "outputs": [
        {
          "output_type": "stream",
          "name": "stdout",
          "text": [
            "僕は遊んだ\n"
          ]
        }
      ]
    },
    {
      "cell_type": "markdown",
      "metadata": {
        "id": "XAMq0otUiBf8"
      },
      "source": [
        "## ３８：係り受け木の可視化"
      ]
    },
    {
      "cell_type": "code",
      "metadata": {
        "id": "20I14l1giEWp",
        "colab": {
          "base_uri": "https://localhost:8080/",
          "height": 248
        },
        "outputId": "91940359-cdbd-46b4-fed3-06c2c0c000cb"
      },
      "source": [
        "import CaboCha\n",
        "cbc = CaboCha.Parser()\n",
        "target = \"今日は１１時に過ぎまで執筆作業をして眠いが、充実感といったら半端ない。\"\n",
        "id2phrase = {}\n",
        "src2dst = {}\n",
        "for line in cbc.parse(target).toString(CaboCha.FORMAT_LATTICE).split('\\n'):\n",
        "  if line and line != 'EOS':\n",
        "    if line[0] == '*':\n",
        "      # 係り受け関係を表す行\n",
        "      # src_id\n",
        "      src_id = int(line.split(' ')[1])\n",
        "      # dst_id\n",
        "      dst_id = line.split(' ')[2].strip(\"D\")\n",
        "      # src_idからdst_idへのマップ\n",
        "      src2dst[src_id] = int(dst_id)\n",
        "    else:\n",
        "      # 形態素の情報を表す行\n",
        "      row = line.split('\\t')\n",
        "      row[1].split(',')[0]\n",
        "      # IDと文節\n",
        "      if src_id not in id2phrase:\n",
        "        id2phrase[src_id] = row[0]\n",
        "      else:\n",
        "        id2phrase[src_id] += row[0]\n",
        "\n",
        "import networkx as nx\n",
        "\n",
        "nxdg = nx.DiGraph()\n",
        "nxdg.add_edges_from(src2dst.items())\n",
        "nx.draw_networkx(nxdg)"
      ],
      "execution_count": null,
      "outputs": [
        {
          "output_type": "display_data",
          "data": {
            "image/png": "[encoded data removed]",
            "text/plain": [
              "<Figure size 432x288 with 1 Axes>"
            ]
          },
          "metadata": {}
        }
      ]
    },
    {
      "cell_type": "code",
      "metadata": {
        "id": "2053wP1PiQUN",
        "colab": {
          "base_uri": "https://localhost:8080/"
        },
        "outputId": "09907e0e-ce50-4bdc-baa5-c011ca93c6c6"
      },
      "source": [
        "print(id2phrase.items())"
      ],
      "execution_count": null,
      "outputs": [
        {
          "output_type": "stream",
          "name": "stdout",
          "text": [
            "dict_items([(0, '今日は'), (1, '１１時に'), (2, '過ぎまで'), (3, '執筆作業を'), (4, 'して'), (5, '眠いが、'), (6, '充実感と'), (7, 'いったら'), (8, '半端'), (9, 'ない。')])\n"
          ]
        }
      ]
    },
    {
      "cell_type": "markdown",
      "metadata": {
        "id": "bDBVy43MaJA-"
      },
      "source": [
        "## ３９：Sentence Pieceによる分かち書き"
      ]
    },
    {
      "cell_type": "code",
      "metadata": {
        "id": "EeMia10BayxA"
      },
      "source": [
        "import codecs\n",
        "import re\n",
        "import requests\n",
        "from bs4 import BeautifulSoup\n",
        "\n",
        "url = \"https://ja.wikipedia.org/wiki/\"\n",
        "keyword_list = [\n",
        "    \"デキサメタゾン\", \"レムデシビル\", \"ワクチン\", \"アビガン\", \"マスク\"\n",
        "]\n",
        "\n",
        "corpus = []\n",
        "for keyword in keyword_list:\n",
        "    # コロナ対策に関する記事を取得\n",
        "    response = requests.get(url + keyword)\n",
        "    # htmlに変換\n",
        "    html = response.text\n",
        "    \n",
        "    soup = BeautifulSoup(html, 'lxml')\n",
        "    for p_tag in soup.find_all('p'):\n",
        "        text = \"\".join(p_tag.text.strip().split(\" \"))\n",
        "        if len(text) == 0:\n",
        "            continue\n",
        "        # 注釈の削除\n",
        "        text = re.sub(r\"\\[注?釈?[0-9]+\\]\", \"\", text)\n",
        "        corpus.append(text)\n",
        "with open(\"savior.txt\", \"w\") as f:\n",
        "  for line in corpus:\n",
        "   f.write(line+'\\n')"
      ],
      "execution_count": null,
      "outputs": []
    },
    {
      "cell_type": "code",
      "metadata": {
        "id": "rQNnkuQyj8af",
        "colab": {
          "base_uri": "https://localhost:8080/"
        },
        "outputId": "96ce1518-e1b6-409e-ee1b-59282842f8cb"
      },
      "source": [
        "!cat savior.txt"
      ],
      "execution_count": null,
      "outputs": [
        {
          "output_type": "stream",
          "name": "stdout",
          "text": [
            "デキサメタゾン（英:Dexamethasone）は、ステロイド系抗炎症薬(SAID)の一つである。炎症の原因に関係なく炎症反応・免疫反応を強力に抑制する。急性炎症、慢性炎症、自己免疫疾患、アレルギー性疾患などの際に使用される。内服薬の商品名デカドロン。ステロイド外用薬として使われ、日本での格付けで5段階中2-3のストロングとミディアムの医薬品がある。デキサメタゾンは1957年に発見された。WHO必須医薬品モデル・リストに収載されている。\n",
            "先発品はデキサメタゾン（錠剤、エリキシル）またはそのリン酸エステルナトリウム塩（注射液。ネブライザーでも用いる）であるが、後発品にはメタスルホ安息香酸エステルナトリウム塩、シペシル酸エステル、吉草酸エステル、プロピオン酸エステル、パルミチン酸エステルといったバリエーションがあり、剤形も軟膏、クリーム、ローション、カプセル、口腔用軟膏、眼軟膏、点眼液、点鼻液、点耳液と多様である。\n",
            "ステロイド外用薬では、日本での格付けで5段階中3のストロングでは、プロピオン酸デキサメタゾン（商品名メサデルム）や吉草酸デキサメタゾン（ボアラ、ザルックス）。2のミディアムでは、デキサメタゾン（グリメサゾン、オイラゾン）。\n",
            "日本では1959年7月、デカドロン錠（0.5mg）の販売を開始し、2008年3月7日、医療事故防止対策に基づき「デカドロン錠」から「デカドロン錠0.5mg」に販売名変更の承認を得た。DECA（デカ）は「10」の意味を持つ接頭語であり、プレドニゾロンの約10倍の効力を有し、また、コルチゾンの10年後に開発されたという意味が込められた。2005年5月、抗悪性腫瘍剤投与に伴う消化器症状（悪心・嘔吐）の効能が追加となった。\n",
            "2010年11月、萬有製薬株式会社から日医工株式会社に製造販売承認が承継された。2010年7月、多発性骨髄腫の治療薬として、セルジーン株式会社から「レナデックス錠4mg」が発売された。多発性骨髄腫の治療薬であるレナリドミド（Lenalidomide）に併用するデキサメタゾン\n",
            "に由来する。2014年6月20日、日医工は「デカドロン錠4mg」の販売を開始した。\n",
            "1961年4月、デキサメタゾンにグリセリンやエタノールなどを添加したエリキシル剤が、「デカドロンエリキシル」として販売を開始し、2008年6月20日、「デカドロンエリキシル0.01%」に名称変更され、錠剤と同様、日医工に承継された。\n",
            "1961年（昭和36年）1月25日、デキサメタゾンリン酸エステルナトリウムの「デカドロン注射液」が承認を得て発売に至った。2009年9月に販売名を「デカドロン注射液」から「デカドロン注射液1.65mg・3.3mg・6.6mg」に変更し、2015年6月より、アスペンジャパン株式会社が承継、販売移管を受けた。\n",
            "1987年5月、デキサメタゾンプロピオン酸エステル外用剤(メサデルムクリーム・軟膏)（0.1 %)が、1994年7月、同ローション剤が、大鵬薬品工業から販売開始された。後発医薬品が多数販売されている。\n",
            "リウマチ、多くの皮膚疾患、重症アレルギー、気管支喘息、慢性閉塞性肺疾患、クループ、脳浮腫などである。結核などで抗生物質と併用される。急性副腎不全では、より強力な鉱質コルチコイドであるフルドロコルチゾンなどと併用される。早期陣痛に対して、確実な挙児のために用いられる。また、内服や静脈内注射で抗がん剤投与時に伴う遅発性嘔吐の抑制に対しても利用される。\n",
            "各種の内分泌疾患、リウマチ性疾患、結合織炎および関節炎、膠原病、腎疾患、心疾患、アレルギー性疾患、血液疾患、消化器疾患、肝疾患、肺疾患、重症感染症、結核性疾患、神経疾患、悪性腫瘍、抗悪性腫瘍剤投与に伴う消化器症状、外科疾患、整形外科疾患、産婦人科疾患、泌尿器科疾患、皮膚科疾患、眼科疾患、耳鼻咽喉科疾患、歯科・口腔外科疾患に適応がある。\n",
            "デキサメタゾンの効果は多くの場合1日以内に見られ、3日程度継続する。\n",
            "デキサメタゾンは上記の様に多くの炎症や関節リウマチなどの自己免疫疾患、気管支痙攣（英語版）の治療に用いられる。特発性血小板減少性紫斑病は病的免疫による血小板数の減少であるが、40mg/日×4日間の投与を14日周期で繰り返す事で治療できる。この場合、他の糖質コルチコイドと比較してのデキサメタゾンの優越性は明らかではない。\n",
            "親知らずの抜歯等の歯科手術（英語版）の前後に、頬の腫れを抑えるために少量使用される。\n",
            "足底筋膜炎の治療薬として踵に注射される。しばしばトリアムシノロンアセトニドと併用される。\n",
            "アナフィラキシーの治療には高用量が用いられる。\n",
            "眼科手術（英語版）後等に用いられる点眼薬や、点鼻薬、点耳薬（抗生物質や抗真菌薬と併用）がある。米国では糖尿病網膜症、網膜中心静脈閉塞症（英語版）、葡萄膜炎の治療薬としてデキサメタゾンの硝子体内留置薬が承認されている。\n",
            "デキサメタゾンは経静脈的植込式心臓ペースメーカー設置後の心筋の炎症反応を最小限にするために用いられる。ペースメーカー設置後直ぐに心筋内にステロイドを曝露すると、炎症を抑制して急性のペーシング閾値の変動を最小化する。この時の投与量は、通常1.0mg未満である。\n",
            "細菌性髄膜炎の症例に対しても、抗生物質投与前にデキサメタゾンが使用される。この場合は、抗生物質で死滅した細菌（炎症誘発物質を放出して患者に害を与える）に対する免疫反応を低減させ、予後良好にする。\n",
            "化学療法を受けている悪性腫瘍患者に対して、抗がん剤の副作用治療・予防を目的としてデキサメタゾンが投与される。デキサメタゾンはオンダンセトロン等の5-HT3受容体拮抗薬（英語版）の制吐作用を増強する。\n",
            "脳腫瘍に対しては、原発性、転移性を問わず、浮腫治療のためにデキサメタゾンを使用し、脳の他の部位への圧迫を取り除く。腫瘍が脊髄を圧迫（英語版）している場合にも使用される。\n",
            "デキサメタゾンは一部の血液がん（英語版）、特に多発性骨髄腫の治療薬として単剤または多剤併用療法（サリドマイド、レナリドミド、ボルテゾミブなど）の一部として用いられる他、ドキソルビシン、ビンクリスチン、ボルテゾミブ、レナリドミドとも併用される。\n",
            "デキサメタゾンは非常に稀な疾患であるグルココルチコイド耐性の治療にも使用される。\n",
            "急性副腎不全やアジソン病の場合、プレドニゾンやメチルプレドニゾロンで効果が不十分な時にデキサメタゾンが使用される。\n",
            "思春期後期から成人の先天性副腎過形成症に対してACTH産生を抑制するために用いられる。この場合は通常夜間に投与する。\n",
            "デキサメタゾンは未熟児出産のリスクのある妊婦に対して胎児の肺の発達を促すために投与される。これにより児の低体重が増加するが、新生児死亡率は増加しない。\n",
            "デキサメタゾンの適応外使用として、胎女児の先天性副腎過形成症（CAH）症状の治療への使用がある。CAHは身体の様々な異常の原因となるが、特に注目すべきものは女児の半陰陽である。出生前に早期からCAHを治療する事で一部のCAH症状を軽減できるが、根本的な先天性異常は治療できない。\n",
            "出生前にデキサメタゾンを投与された小児の言語記憶への長期的影響が小規模臨床試験で見出されたが、患者数が少ないので信頼性の高い結果だとは見做されない。出生前のデキサメタゾン投与はCAHの臨床的診断に先立って実施されるので、しばしばインフォームド・コンセントを巡る論争のテーマとされて来ている。\n",
            "デキサメタゾンは高地脳浮腫（英語版）（HACE）や高地肺浮腫（英語版）（HAPE）の治療に用いられる。登山する旅行者の高山病治療に広く使用される。\n",
            "デキサメタゾンをオンダンセトロンに併用すると、オンダンセトロン単剤で用いた場合よりも術後悪心・嘔吐の予防効果が高い。\n",
            "オックスフォード大学の行った臨床試験では、デキサメタゾンを新型コロナウイルス感染症（2019年確認）の複数の患者に投与した結果、気管挿管や気管切開を伴う人工呼吸器をつけた患者でおよそ35％、マスクをつけて酸素を供給した患者でおよそ20％、死亡率が下がった。この結果を受け、イギリス政府はデキサメタゾンを同感染症の治療薬として緊急承認した。日本でも2020年7月21日に、レムデシビルに続く2つ目の、効果が検証され国内で使用が認められた治療薬となった。\n",
            "注射剤は感染症のある関節腔内、滑液嚢内、腱鞘内または腱周囲、ならびに動揺関節の関節腔内への投与は禁忌とされている。\n",
            "そのほか、原則禁忌として下記の項目が設定されている。\n",
            "米国や豪州の添付文書に記載されている禁忌は、\n",
            "である。\n",
            "副作用として副腎皮質機能不全、クッシング症候群などがある。長期使用時にはカンジダ症、骨量減少、白内障、皮下出血、筋力低下が発生する。米国の胎児危険度分類はCであるが、豪州ではA（妊婦に多用され児に問題を生じない）である。授乳中には服用すべきでない。\n",
            "重大な副作用として、ショック、アナフィラキシー、誘発感染症、感染症増悪、続発性副腎皮質機能不全、糖尿病、消化性潰瘍、消化管穿孔、膵炎、精神変調、うつ状態、痙攣、骨粗鬆症、大腿骨および上腕骨等の骨頭無菌性壊死、ミオパシー、脊椎圧迫骨折、長骨の病的骨折、緑内障、後嚢白内障、血栓塞栓症、喘息発作があるが、頻度は不明である。（下線は注射剤のみ）\n",
            "デキサメタゾンの副作用の正確な発現率は判っていない。添付文書に記載されている副作用は、重大なものも含めて全て“頻度不明”である。類縁の糖質コルチコイドから推定された発現率が文書に記載されている。\n",
            "一般的な副作用：\n",
            "頻度不明の副作用：\n",
            "外用薬では吸収率の高い部位、頬、頭、首、陰部では長期連用しないよう注意し、顔へのストロングのステロイドの使用は推奨されずミディアム以下が推奨される。病変の悪化あるいは変化なしでは中止する必要がある。\n",
            "長期服用後に突然中止すると、下記の症状が発生し得る。\n",
            "外用薬について全米皮膚炎学会によれば、ステロイド外用薬離脱の危険性を医師と患者は知っておくべきで、効力に関わらず2-4週間以上は使用すべきではない。\n",
            "相互作用する薬物として、下記のものが知られている。\n",
            "デキサメタゾンは、バングラデシュの売春宿で、所定の年齢に達していない少女の体重を増加させて、合法であると見せ掛けるために使われる。\n",
            "デキサメタゾンは、いくつかのスポーツでドーピングに指定されている。2014年11月、世界ナンバーワンのバドミントン選手リー・チョンウェイは、デキサメタゾンの陽性反応が出たために、世界バドミントン連盟から出場停止処分を受けたが、彼自身は薬物の使用を否定している。\n",
            "マルボフロキサシン（英語版）およびクロトリマゾールと組み合わせる事で、デキサメタゾンはイヌ等の難治性耳感染症の治療に用いられる。トリクロルメチアジドとの組み合わせは、ウマでの痣および遠位四肢腫張の治療に用いられる。\n",
            "レムデシビル（英:Remdesivir、中:瑞德西韦、開発コード：GS-5734、商品名：ベクルリー（Veklury））は、新規ヌクレオチドアナログのプロドラッグで、抗ウイルス薬。ギリアド・サイエンシズが開発し、エボラ出血熱及びマールブルグウイルス感染症の治療薬としてだけでなく、一本鎖RNAウイルス（RSウイルス、フニンウイルス、ラッサ熱ウイルス、ニパウイルス、ヘンドラウイルス、MERSおよびSARSウイルスを含むコロナウイルス）に対して抗ウイルス活性を示すことが見出された。\n",
            "追跡調査により、2019新型コロナウイルス（SARS-CoV-2、2019-nCoV）を含む複数のコロナウイルスおよびニパウイルスとヘンドラウイルス感染症での抗ウイルス活性が明らかとなった。\n",
            "GS-441524のモノホスホロアミダートプロドラッグ(monophosphoramidateprodrug)である。\n",
            "2015年10月9日、アメリカ陸軍感染症医学研究所（USAMRIID）は、化合物GS-5734がアカゲザルのエボラウイルスを抑制したという、前臨床結果を発表した。西アフリカエボラウイルスの流行は、2013年から2016年まで続いた。\n",
            "2007年からUSAMRIIDの主任研究員を務めている、TravisWarrenは「この研究はUSAMRIIDとギリアド・サイエンシズとの継続的な協力関係の結果である」と述べている。望ましい抗ウイルス活性を持つ分子を見つけるための「ギリアド・サイエンシズの化合物ライブラリー」を用いた「初期スクリーニング」は、アメリカ疾病予防管理センター（CDC）の科学者によって行われた。\n",
            "その研究の結果、GS-5734は「潜在的な治療薬としての開発を継続するべきである」と推奨され、2015年10月7日から11日までサンディエゴ・コンベンションセンター（英語:SanDiegoConventionCenter）で開催されたアメリカ感染症学会（英語:InfectiousDiseasesSocietyofAmerica）（IDSA）の年次IDWeek会議で発表された。\n",
            "エボラ研究はアメリカ合衆国国防総省の組織内で、バイオセーフティレベルが最大4である最高度封じ込め施設である、USAMRIID研究所で実施された。この研究は、アメリカ国防脅威削減局および国防総省の医療対策システム合同プロジェクト管理室からの資金提供を受けている。\n",
            "研究室レベル（Laboratorytests）では、レムデシビルがSARS-CoVやMERS-CoVを含む広範囲のウイルスに対して効果的であることが示唆されている。この薬は、2013年から2016年の西アフリカエボラウイルスの流行での感染を治療するために推進された。安全であることは判明したが、エボラに対してはあまり効果的ではなかった。\n",
            "レムデシビルは、2013年から2016年の西アフリカエボラウイルスの流行のために臨床試験を急速に進められ、当時はまだ初期の開発段階にもかかわらず、少なくとも1人のヒト患者に投与された。予備的な結果は有望であり、2018年に始まったコンゴ民主共和国北キブ州でのエボラ出血熱流行の緊急事態の中で、病院での治験と共に、2019年8月まで使用された。コンゴの保健当局によると、モノクローナル抗体治療（mAb114やREGN-EB3など）に比べてその有効性は有意に低かった。しかし、この試験投与によって安全性プロファイルが確立された。\n",
            "レムデシビルの活性型であるGS-441524は、ネココロナウイルスの治療に有望である。\n",
            "2020年5月1日、アメリカ合衆国でコンパッショネート使用を認めた新薬であり、日本では「特例承認制度」を用いて、2020年5月7日に正式に新型コロナウイルス感染症(COVID-19)への治療薬として、世界で初めて承認された。点滴静脈注射により最長10日間投与する。\n",
            "2019新型コロナウイルス(SARS-CoV-2)によって引き起こされた新型コロナウイルス感染症の流行に対応して、ギリアド社は、中国の医療機関と協力してその効果を研究するために「少数の患者」にレムデシビルを提供した。ギリアドは、新型コロナウイルス感染症に対するレムデシビルの臨床検査も開始した。ギリアドは、レムデシビルがSARSおよびMERSに動物実験で「有効であることが示された(showntobeactive)」と述べた。\n",
            "2020年1月下旬、新型コロナウイルスに感染していることが確認された最初の米国の患者に、未承認薬のコンパッショネート使用として、投与された。肺炎に進行した後での投与だったが、患者の状態は翌日劇的に改善し、最終的に退院した。ただし、この急速な回復が薬物の効果によるものであるかどうかを明確に証明することはできない。\n",
            "1月下旬、中国の医学研究者は、30の薬剤候補の選択を考慮した探索的研究で、そのうちの3つ、レムデシビル、クロロキン、ロピナビル/リトナビルを、細胞レベルで新型コロナウイルスに対し「かなり良い抑制効果がある(fairlygoodinhibitoryeffects)」と報道機関に対し発表した。\n",
            "2月4日にネイチャーの姉妹誌であるCellResearchに、中国科学院武漢ウイルス研究所などの研究グループが発表したレター(速報論文)によれば、invitro(試験管内)の環境下で、アフリカミドリザル起源の標準細胞VeroE6細胞を用いて、レムデシビルを含む7種類の物質の新型コロナウイルスに対する抗ウイルス効果を、50%効果濃度(EC50値)を基準として評価する試験を行ったところ、レムデシビルのEC50値は0.77μM(μmol/L)であり、試された7つの物質のうちでは、最も高い効果を示していた。\n",
            "2月6日、中国でレムデシビルの臨床試験が開始された。\n",
            "2月15日付けの科技日报（発行：中華人民共和国科学技術部）は、上記のinvitro試験の結果に基づいて、レムデシビル以外にも、ファビピラビル、クロロキンの臨床試験を開始したと発表した。\n",
            "3月12日に、米国の複数の研究者で構成する横断的な研究チームである”TheCOVID-19InvestigationTeam”が、medRxiVプレプリントサーバ上に投稿した未査読論文によれば、1月20日から2月5日にかけて、アメリカ疾病予防管理センター(CDC)により新型コロナウイルスへの感染が確定した、米国における最初の12人の患者について、彼らは情報収集を行ったところ、12人の患者のうちの7人が入院治療を受け、さらにこの内の3人に対してレムデシビルが投与されていた。研究チームは、レムデシビルの投与はコントロールされたランダム対照試験のもとで行われたものではないので、その治療効果については評価できないとしている。レムデシビルの副作用については、これを投与された3人の患者を含む、治療を受けた7人の患者全てで、肝臓の損傷を示すアミノ基転移酵素（アミノトランスファーゼ、ASTおよびALT）の血中濃度の上昇が見られたが、これとレムデシビルの因果関係については結論を述べていない（グラフから見て、因果関係がありそうなのは3人中1人のみ）。3月14日付けの、米国の投資情報会社TheMotleyFoolの調査員CoryRenauerのレポートによれば、この未査読論文で言及されている、肝臓の酵素の血中濃度の上昇が、もしレムデシビルの副作用であるのなら、レムデシビルの息の根を止めかねないほど重大な問題であるとしている。ただし、Renauerによれば、この臨床試験においては、レムデシビル投与群とそれ以外の患者群は完全にランダムに配分された訳ではないので、レムデシビルの副作用と判断するのは時期尚早であるとも述べている。\n",
            "4月10日、医学雑誌ニューイングランド・ジャーナル・オブ・メディシン(NEJM)に発表された、ギリアド社が資金提供しレムデシビルの臨床研究を実施した、各国の研究者が連名で著した論文”CompassionateUseofRemdesivirforPatientswithSevereCovid-19”によれば、レムデシビルの重症のコロナ肺炎患者へのコンパッショネート・ユースでの臨床試験のデータを集計したところ、53人の患者の内、36人(64%)の患者で呼吸機能に改善が見られたとしている。53人の重症患者のうち、体外式膜型人工肺(ECMO)または陰圧式人工呼吸器使用者が34人、それ以外が19人であった。用法・用例の標準としては、点滴静脈注射により、初日200mg、それ以降1日100mg、10日間投与であった。改善についての所見は呼吸機能のみに着目したものであり、胸部X線影像の改善、PCR陰転化などについては触れられていない。この臨床試験はあくまでコンパッショネート・ユースであり、二重盲検法でランダムに投与群と対照群(プラシーボを投与する)を設定する厳格な対照試験ではないが、現在数カ国でこのような対照試験を実施中であり、近々さらに厳格な証拠が与えられるであろうとの言及がある。3月12日発表の論文(前述)でも言及されていた、肝臓の損傷を示す肝酵素(ALT、AST)の血中濃度の上昇は、今回の調査対象でも、53人中12人(23%)の患者で認められた。これを含め、何らかの副作用が認められた患者は、53人中32人(60%)であった。\n",
            "4月23日の、米国の医学情報報道サイトSTATの報道によれば、ギリアド社が中国で実施していた、レムデシビルの無作為抽出による初期臨床試験の報告書の草稿が、誤って世界保健機関(WHO)のウェブサイト上に掲載され、すぐに削除されたが、STATのスタッフは掲載に気づいて画像を保存していた。この草稿によれば、コロナ肺炎患者237人のうち、158人をレムデシビル投与群とし、79人を対照群(プラシーボを投与)として試験を実施したところ、死亡率はレムデシビル投与群が13.9%、対照群が12.8%であり、有意な差は見られなかったと報告している。同日、フィナンシャル・タイムズは、削除された草案の内容からレムデシビルの初期臨床試験が失敗に終わったと報じると、製造メーカーであるギリアドの株価は約6％下落。ギリアド側は、被験者が少なく打ち切られた治験に基づく草案であり、結果は確定的ではないと反論した。\n",
            "4月30日にギリアド社はプレスリリースにて、レムデシビルの有用性を報告した。ACTT-1試験において、レムデシビルはプラセボと比較して回復までの期間を短縮させ（11日vs15日）、また14日目時点での死亡率を改善させる傾向にあった（7.1%vs11.9%）。またSIMPLE試験においてレムデシビルの5日間投与と10日間投与が比較され、有効性に有意差は認めなかった。\n",
            "5月12日に、日本での医療現場への供給が開始したことが加藤厚生労働大臣により発表された。\n",
            "6月29日、ギリアド社は、公的保険を持つ先進国政府向けの価格を患者1人あたり2340ドル（約25万円）に設定すると発表した。1本当たりの薬価は390ドルで、標準的な治療では5日間で6本投与される。米国ではこの価格設定は比較的割安と評価された。Vekluryの特許出願では、100mgのレムデシビルに加えて、LigandPharmaceuticals（米国、サンディエゴ）またはCycloLabCyclodextrinR＆DLaboratoryLtd.（ブダペスト、ハンガリー）が製造したスルホブチルエーテル-β-シクロデキストリン（商品名：CaptisolまたはDexolve）が可溶化剤として、3.0ｇあるいは6.0ｇ使用されている。\n",
            "10月17日、WHOは大規模な治験の結果、レムデシビルが新型コロナウイルスに効果がなかったとの暫定的な研究結果を発表し、11月20日、副作用や医療現場への負担の懸念から新型コロナウイルス患者に対して使用しないことを勧告した。厚生労働省は、現時点で特例承認の取り消しを考えておらず、厚労省の「診療の手引き」によると、原則として重症患者に投与するとされていて、手引きの改訂時に、WHOが今回示したデータの追加などを検討する。\n",
            "12月10日、元ニューヨーク市長のジュリアーニ弁護士は当該ウイルスに罹患したが、レムデシビルで緩解したと発表し、職務に復帰した。\n",
            "レムデシビルは体内で代謝を受けてその活性型GS-441524三リン酸に変わる。GS-441524三リン酸は、ウイルスのRNAポリメラーゼを混乱させて、ウイルスエキソヌクレアーゼ(ExoN)googによる校正（正しい塩基配列に修正すること）を邪魔するアデノシンヌクレオチドアナログ（核酸分子アデノシンの類似物）であり、ウイルスRNA産生の減少を引き起こす。RNA鎖の合成を終わらせるのか、突然変異を引き起こすのかは不明である。\n",
            "部分耐性を引き起こすマウス肝炎ウイルスRNAレプリカーゼの変異は2018年に確認された。これらの変異をしたウィルスは、薬剤のない自然な環境においては生活力が弱まって生き残れなくなるであろうと研究者は考えている。\n",
            "アデノシンアナログ(adenosineanalog)でヌクレオシド類似体(nucleosideanalog)に分類される抗ウイルス薬\n",
            "ワクチン（独:Vakzin、英:vaccine）は、感染症の予防に用いる医薬品。病原体から作られた無毒化あるいは弱毒化された抗原そのもの、または病原体を基にデザインされたmRNAやDNAの遺伝子配列を化学合成したもの（遺伝子ワクチン）、もしくは遺伝子組み換え技術によって大量発現されたタンパク質（遺伝子組み換えワクチン）などを投与することで、体内の病原体に対する抗体産生を促し、感染症に対する免疫を獲得する。\n",
            "ワクチンは感染症予防において最も重要かつ効率的な手段であり、世界各国でワクチンの予防接種が行われている。ワクチンはとくに抗生物質の効かないウイルス性の感染症に効果がある上、細菌性の感染症で増大している薬剤耐性菌への対策の関係上、予防医学において特に重視されている。予防は感染者の治療よりも費用対効果が高いため、ワクチンで予防できる病気はワクチンで予防することが望ましいとされており、とくにアメリカなどではこの考え方が強い。\n",
            "感染症流行地域に入国する際には該当感染症のワクチン接種が推奨されており、特に黄熱ワクチンに関しては入国に際して接種を義務づけ、イエローカード（接種証明書）の提示を求める国家が存在する。\n",
            "ワクチンという名称は、ラテン語のVacca（ワッカ=雌牛）に由来する。世界初のワクチンである天然痘ワクチンが雌牛から取られたため、この名がつけられた。発音は、イギリス英語でヴァクスィン英語発音:[væksín]、アメリカ英語でヴェクスィーン英語発音:[væksíːn]である。日本語のワクチンはドイツ語の発音に由来している。\n",
            "天然痘に一度かかった人間が免疫を獲得し、以後二度と感染しないことは古くから知られていた。このため、乾燥させて弱毒化した天然痘のかさぶたを接種して軽度の天然痘に感染させ免疫を得る方法がアジアでは行われており、18世紀にはイギリスからヨーロッパへと広がったものの、軽度とは言え天然痘であるため死亡者も発生し、安全なものとは言いがたかった。一方、18世紀後半にはウシの病気である牛痘に感染したものは天然痘の免疫を獲得し、罹患しなくなるか軽症になることが経験的に知られるようになってきた。これを知ったイギリスの医学者、エドワード・ジェンナーは1796年、8歳の少年に牛痘の膿を植え付け、数か月後に天然痘の膿を接種してこれが事実であることを証明した。これが史上初のワクチンである天然痘ワクチンの創始となった。ジェンナーは1798年に『牛痘の原因と効果についての研究』を刊行して種痘法を広く公表し、1800年以降徐々に種痘はヨーロッパ諸国へと広がっていくこととなった。\n",
            "天然痘ワクチンの製造法は確立したものの、この手法がほかの病気に応用可能だとは考えられておらず、以後1世紀近く新種のワクチンは作られることがなかった。しかし1870年代に入ると、微生物学の発展の中でルイ・パスツールがニワトリコレラの予防法の研究を行い、この中で病原体の培養を通じてこれを弱毒化すれば、その接種によって免疫が作られることを突き止めた。この手法でパスツールは1879年にはニワトリコレラワクチンを、1881年には炭疽菌ワクチンを開発し、科学的なワクチン製造法を確立した。これによって、以後さまざまな感染症に対するワクチンが作られるようになった。\n",
            "ワクチンの予防接種は多くの国で行われ、2017年時点では毎年およそ200万人から300万人の命を救っていると推定されている。ワクチン投与を柱とする感染症撲滅計画も推進されており、1958年に開始された天然痘撲滅計画では患者周辺への徹底的な種痘によって1977年に根絶に成功し、1980年に正式に根絶が確認された。完全に根絶に成功した感染症は2017年時点では天然痘のみであるが、ポリオなどいくつかの感染症でのワクチン投与による根絶計画が進行している。\n",
            "ワクチンの発明以来さまざまな病気に対するワクチンが開発されてきたものの、エイズなどのようにいまだにワクチンの存在しない病気も数多く存在する。\n",
            "2020年に世界中でパンデミックを起こした新型コロナウイルス感染症にはワクチンが存在しなかったため、製薬企業や世界各国が総力を挙げてCOVID-19ワクチンの開発を進めた。同年年末には数社がワクチンの開発に成功し、12月8日にはイギリスでファイザー社のワクチンの接種が開始された。\n",
            "2020年時点で接種が行われているワクチンは大きく#生ワクチンと#不活化ワクチンに分かれる。一方、COVID-19ワクチンは、RNAワクチン、DNAワクチンなど、従来のワクチンとは異なる様々な種類のワクチンが開発中である。\n",
            "毒性を弱めた微生物やウイルスを使用。体液性免疫/液性免疫のみならず細胞性免疫/細胞免疫も獲得できるため、不活化ワクチンに比べて獲得免疫力が強く、免疫持続期間も長い。生産コストが低い上投与回数も少なくて済み、経済性に優れるが、発見は偶発的なものに頼る部分が多いため開発しづらく、また弱っている病原体を使うため、ワクチン株の感染による副反応を発現する可能性が稀にある。免疫不全症で細胞性免疫が低下している場合は、生ワクチンを接種してはならない。不活化ワクチンにはできない、変異株など構造の異なるウイルス株にも対抗できる広域中和抗体が産生される。\n",
            "死菌ワクチンとも呼ばれる。狭義の不活化ワクチンは化学処理などにより死んだウイルス、細菌、リケッチアを使用。取り扱いや効果において同様である抗原部分のみを培養したものを含めて不活化ワクチンと称されることもあり、以下その定義に含められるものを挙げる。生ワクチンより副反応が少なく安全性が高いが、液性免疫しか獲得できずその分免疫の続く期間が短いことがあり、このため複数回接種が必要なものが多い（代表例は三種混合ワクチンやインフルエンザワクチン）。免疫不全症の場合でも投与は可能である。\n",
            "2歳未満の乳幼児では、蛋白成分を含まない抗原（ハプテン）部分だけでは免疫を惹起できない。このため、肺炎球菌ワクチンなど蛋白ではない抗原を用いるワクチンでは、乳幼児に接種するに際しては別の蛋白と抗原を結合させるなどの工夫がされている。\n",
            "また、インフルエンザワクチンについては、1971年以前の全粒子ワクチン使用による副反応の（死亡あるいは脳に重篤な障害を残す）危険性が大きかったことや、それとは異なる現行の安全性の高いワクチンでも100%発症を抑えることはできないことから、接種を避けるべきとの意見も依然として存在する。\n",
            "しかしながら、ハイリスク群（高齢者や慢性疾患を持つ人など）の人がインフルエンザに罹患した場合に、肺炎等の重篤な合併症の出現や、入院、死亡などの危険性を軽減する効果が世界的にも広く認められている。これが、国際連合の世界保健機関（WHO）や世界各国が、特にハイリスク群に対するインフルエンザワクチン接種を積極的に薦めている理由である。\n",
            "日本未承認（日本国内で接種の場合は個人輸入取り扱い医療機関に申し込む）\n",
            "その他、混合多数。\n",
            "ウイルスベクターワクチンは、安全なウイルスを使用して病原体の遺伝子を体内に挿入し、表面タンパク質などの特定の抗原を作り出して免疫応答を促すものである。\n",
            "ある病原体の産生する毒素のみを予め抽出して、ホルマリンなどで処理し、毒性を抑えて抗原性のみを残したものを人体に接種し、その毒素に対する抗体を作らせるもの。病原体そのものを攻撃する抗体を作らせるわけではないので、厳密にはワクチンに含めないという考え方もある。\n",
            "ウイルスから特定のタンパク質を単離し、これを単独で投与することによって免疫系に1つ以上の抗原を提示する。\n",
            "ある種の細菌は、免疫原性が低い多糖類の外殻を持っている。これらの外殻の多糖類をタンパク質（毒素など）担体と結合させることにより、免疫系は多糖類をあたかもタンパク質抗原であるかのように認識することができる。この方法は、インフルエンザ菌B型ワクチンに採用されている。\n",
            "異種ワクチンは、「ジェンナーワクチン」とも呼ばれ、他の動物の病原体であるワクチンであり、治療対象の生物に病気を起こさないか軽度の病気を引き起こす。古典的な例は、天然痘の予防のためにジェンナーが牛痘を使用したことである。現在の例では、結核予防のためにウシ型結核菌（Mycobacteriumbovis）から作られたBCGワクチンの使用である。\n",
            "mRNAワクチン（またはRNAワクチン）は、メッセンジャーRNA（mRNA）を含む新しい種類のワクチンである。核酸RNAを保護的脂質シェルの中に包み込むことで作られる。COVID-19パンデミックを撲滅するために、2020年からCOVID-19ワクチンとして多数のRNAワクチンの開発が進められており、アメリカ合衆国では一部のワクチンに対して緊急使用許可が出された。\n",
            "VLP(ウイルス様粒子、VirusLikeParticle)ワクチンは、ウイルスと同様の外部構造を持つが、遺伝子情報を持たせない、そのため感染はしないが、高い免疫獲得効果（有効性）が期待できるワクチンであり安全性が高いとされる。\n",
            "植物由来ワクチンは2021年現在実用化されていない。田辺三菱製薬株式会社の連結子会社であるメディカゴ社が新型コロナウイルス感染症（COVID-19）のワクチンとして、植物由来のウイルス様粒子（VirusLikeParticle）ワクチン（開発番号：MT-2766）を開発し、カナダにて臨床試験を終了し、カナダ政府の最終承認を待っている状態である。承認されれば世界初の植物由来ワクチンとなる。日本でも2022年3月までに承認申請を目指している。\n",
            "多くの革新的なワクチンも開発中で使用されている。\n",
            "ほとんどのワクチンは、微生物を不活化または弱毒化させた化合物を用いて作られているが、合成ワクチンは主成分または全体が、合成ペプチド、糖質、または抗原などで構成されている。\n",
            "皮下注射、筋肉内注射が多いが、経口生ポリオワクチン（OPV）やロタウイルスワクチンの様に、直接口に飲む（経口ワクチン）ものも存在し、また鼻にワクチンを吹き付ける経鼻ワクチンも開発されているほか、BCGのようなスタンプ式の製品もある。強力なワクチンの場合は1回で接種を済ませられることもあるが、ほとんどのワクチンは2回以上の接種が必要となる。これは1回の接種ではそれほど得られる免疫が強くないうえ、多くの場合複数回接種では得られる免疫力が大幅に増大する、いわゆるブースター効果が起きるためである。\n",
            "日本では、生ワクチン接種後は27日以上あけ、不活化ワクチンの後は6日以上あけることが規定されているが、医師の判断で必要と認められた場合には、同日複数接種も可能である。同日接種を行うことによって、安全性・効果（免疫応答）が変化・相乗することはなく、また害や懸念事項も存在しないため、迅速な免疫獲得や来院回数の減少などのメリットが大きい同日接種は推奨されている。一度に接種できるワクチンの数に制限はない。また、同日接種の際、ワクチン同士は2.5センチメートル以上の間隔を開けることが求められる。現場で勝手に複数のワクチンを混合して接種することはできない。\n",
            "WHOやアメリカ疾病予防管理センターは、原則として以下のような標準を定めている。\n",
            "その他に、メーカーが追加のルールを指定することがあり、たとえば、経口生チフスと経口不活化コレラワクチンは8時間の間隔を開けるというルールがある。\n",
            "1肢1本接種は、上記免疫応答理論や接種本数の制限を受けるため、受診者・海外渡航者の立場からは現実的ではない。\n",
            "日本以外で使用されているワクチンは、世界で生活されている在外日本人も東洋人も通常接種されている。日本人に外国製ワクチン（WHO認定ワクチンに限定して）と接種用法などを敬遠する医学的根拠は、何も提示されていない。\n",
            "弱いとはいえ病原体を接種するため、望まれない反応も起こすことがある。軽微なものとしては、投与部位の発赤・腫脹・疼痛・感冒様症状などがある。重大なものとしては無菌性髄膜炎、血小板減少性紫斑、膵炎などが知られる（詳細は個別のワクチンを参照）。\n",
            "ワクチン接種後の自己免疫疾患はまれに報告され、ウイルスなどの感染が引き金となるまれな重篤なこれらの疾患はワクチンの接種によっても起こりうる。全身性エリテマトーデス、関節リウマチ、炎症性ミオパチー、多発性硬化症、ギラン・バレー症候群などがあり、ギラン・バレー症候群では報告のあったワクチンはほかと比較して多様である。\n",
            "治験では掴めなかった低い頻度の副作用の発生が検出されるよう、迅速に情報収集がなされる。時に薬害事件へと発展し、接種中止・ワクチンの改良がおこなわれる。\n",
            "2014年のコホート研究のメタ解析は、ワクチンと自閉症との関連に否定的であった。\n",
            "ワクチン開発は、まず病原の培養や不活化・弱毒化などの基礎研究を行った後、動物による非臨床試験をおこない、その後3段階に分けて臨床試験を行う。試験終了後に国による承認審査が行われ、承認されれば生産体制を整え、販売が始まる。この承認審査は各国ごとに行われ、ある国で承認されたワクチンでも他国で使用する場合には当該国での審査が改めて必要となる。ただし、ある国で感染症が流行し有効なワクチンが存在しない時は、緊急対策として他国からワクチンを輸入し審査なしで使用することが認められる場合がある。ワクチン開発の際重視される条件は、感染症予防・重症化阻止の効果、副反応などを最小限に抑えた安全性、そして開発・生産・接種コストを中心とする経済性の3点であり、これらのうち一つでも顕著に問題が存在した場合は実用化はなされない。こうした厳しい条件を満たす必要があるため、ワクチン開発にかかる期間は非常に長く、最短でも10年近くは必要となる。\n",
            "ワクチン開発には多額の資金と期間がかかるうえに、多数の人々に接種を行う関係上巨大な生産力も必要となるため、資本力に優れた大企業が開発・供給を主導する傾向にあり、寡占化が進んでいる。2019年にはイギリスのグラクソ・スミスクライン、アメリカのメルク、アメリカのファイザー、そしてフランスのサノフィの4大企業でワクチン市場の79％のシェアを占めている。これにスイスのノバルティスを加えた5社は5大ワクチンメーカーと呼ばれる。ワクチン市場は巨大であり、2018年には3兆9500億円の市場規模を持っている上、さらに急速な拡大が見込まれている。\n",
            "新たな感染症に対するワクチン開発は、多額の投資と時間を要するため、流行が収束して関心が低下すると資金が滞り中断を余儀なくされることがある。グラクソ・スミスクラインの例では、エボラ出血熱に対応するワクチン開発を長らく行ってきたが、臨床試験の最終段階の時点で流行が広がっていたのは最貧国のコンゴ民主共和国であり、金銭的リターンが事実上見込めないとして開発継続を断念。ワクチン候補を2019年までにアメリカの非営利機関に昨年譲渡した。\n",
            "日本では1849年にオットー・ゴットリープ・モーニッケが天然痘の痘苗を輸入し、以後本格的に種痘が全国に広まった。1909年には種痘法が施行され、1948年には予防接種法が制定されて、天然痘以外の感染症でも予防接種が義務化された。\n",
            "1964年（昭和39年）に始まった、インフルエンザワクチンの被害を訴える訴訟は、1980年代まで長く続き報道された。続く予防接種による訴訟によって、1976年（昭和51年）に予防接種法が改正され、救済制度が設立された。裁判は長期化し、その結果は国の敗訴・和解となり、「予防接種は効果の少ない一方で、副反応が多発するこわいもの」という誤った認識が国民だけでなく医療関係者にも定着。1994年には強制予防接種が緩和され、定期ワクチン接種は義務から勧奨にとどめられることになった。ただし定期接種は国策として行われるものであるため費用助成が行われており、ほとんどの場合無料である。\n",
            "日本は、1980年代まで世界に先駆けてワクチン開発を行っていたが、副作用による訴訟が相次ぎ、厚生省とメーカーが開発・接種に消極的になり、新たなワクチンの大規模な開発はほぼ行われなくなった。1990年代以降、海外で続々と開発されたワクチンが日本ではほとんど認可されず、「ワクチン・ギャップ」と称されるほど他国に比べワクチン開発が遅れた状況となった。この状況は2007年以降ワクチンの認可が急速に進められたことでやや解消されつつある。\n",
            "2000年代に入っても、日本脳炎ワクチン接種後の急性散在性脳脊髄炎（ADEM）発症、Hibワクチンと小児用肺炎球菌ワクチン同時接種後の死亡、子宮頸がんを予防するHPVワクチンの接種勧奨差し控え等の事例があり、マスコミがワクチンの負の面を強調する報道をしたこともあり、国民の不安は増大した。\n",
            "日本で予防接種が徹底されないために、2007年にはカナダに修学旅行に行った生徒が、現地では根絶されている麻疹に感染したため、ホテルから外出禁止となり、修学旅行が打ち切りになり帰国することが報道された。ただしこれにより麻疹ワクチンの接種は徹底されるようになり、2015年にはWHOが日本を麻疹排除国に認定した。小児用のHibワクチンは、先進国に大幅に遅れて認可されたが、当時アジアで認可されていないのは、北朝鮮と日本だけであった。\n",
            "日本の主な製造メーカーを挙げる。\n",
            "インフルエンザワクチンは、北里研究所・デンカ生研・KMバイオロジクス・竅留隻句洲・阪大微生物病研究会である。今後、武田薬品工業・第一三共が開発しようとしている。\n",
            "2010年6月、新型インフルエンザ（A/H1N1）のパンデミックを受け、専門家による対策総括会議で、ワクチン製造業者の支援や生産体制の強化が提言された。国家の安全保障という観点からも、国内のワクチン生産体制の強化が求められた。しかし、実際には事業仕分けなどにより政府の資金的支援がうまく行われなかった。\n",
            "日本で流布するワクチン有害説について、「語句説明」「理論の論理性」「理論の体系性」「理論の普遍性」「データの再現性」「データの客観性」「データ収集の理論的妥当性」「理論によるデータ予測性」「社会での公共性」「議論の歴史性」「社会への応用性」の10項目からなる「科学性評定の10条件」に基づくと、理論の適応範囲に大きな問題を抱えており、データの面からもこれを支持できる有力な根拠はなく、典型的な疑似科学的言説であると結論づけられている。\n",
            "ワクチンの危険性やワクチンへの不安をもとにワクチンを忌避する「ワクチン忌避」や、反ワクチン運動がこれまでに多くの国で起こってきた。\n",
            "ノーベル経済学賞受賞者ダニエル・カーネマンの2015年の言によれば、人々は巷で流行する疾病で死ぬよりもワクチンの副作用で死ぬことを恐れる場合があるのだという。もしワクチン接種後に子供が死んでしまったら、子供にワクチンを受けさせたことがその親にとって多大なトラウマになってしまうというのである。カーネマンの著書で2つの思考プロセスに言及している。1つ目は、何か感情を揺さぶるような出来事が起きた時に働くような自動的で即座の思考プロセスである。2つ目は、おちついた意識的労力をともなう思考プロセスである。ワクチン接種の損得を考える時には一般的に2番目の思考プロセスが使われるが、ワクチンの副作用で子供を危険に晒すといった恐怖が1番目の思考法を促してしまうわけである。統計的データよりも感情を揺さぶるような個々のケースに我々は強く反応しがちなのだとカーネマンは述べる。\n",
            "リュック・モンタニエは、エイズウイルスの発見でノーベル医学生理学賞を受賞した人物だが、2018年にもワクチンの過信は危険だと訴え、アルミニウム塩（チメロサールやアジュバント）の使用に脳や健康に影響を与える可能性があるため、これをカルシウム塩などに変える必要性や、ワクチンに関する研究の必要性を訴えた。例えば乳酸菌を用いた経口のワクチンが開発中である。\n",
            "2017年にはイタリアで、子供が予防接種を受けるかどうかには自己決定権があるとするFreevaxという運動が開催され、数千人が集い厚生労働大臣に抗議を訴えた。イタリアではワクチンの副作用の噂による接種拒否で、麻疹患者が3倍に急増したことを受け、2017年5月から国立保育園・小学校に入る6歳以下の児童に12種類のワクチンを義務付け、未接種児童の保護者に罰金を科している。\n",
            "ファビピラビル（英:Favipiravir、中:法匹拉韦、法匹拉韋）は、富山大学医学部教授の白木公康と富士フイルムホールディングス傘下の富山化学工業（現：富士フイルム富山化学）が共同研究で開発した核酸アナログでRNA依存性RNAポリメラーゼ阻害剤である。開発コードのT-705、あるいは商品名であるアビガン（Avigan、登録商標第4500382号ほか）の名前でも呼ばれる。\n",
            "中華人民共和国では、浙江海正薬業股份有限公司がライセンスを取得して生産していた。ただし、2019年に中国における富士フイルムのファビピラビルの物質特許は失効しており、それ以降はライセンスによらずに、後発医薬品（商品名「法维拉韦」）として製造している。\n",
            "ファビピラビルは、富山化学工業の江川裕之らが合成し、古田要介らが抗インフルエンザ活性を見出した。富山大学医学部の白木公康らがインフルエンザ感染マウスでの有効性を確認し、タミフルより強い治療効果を有していること、薬剤耐性を生じないことを見出した。\n",
            "ファビピラビルはプロドラッグであり、投与後に細胞内のinvivo（生体内）環境で、三リン酸化されて、ファビピラビル・リボフラノシル-5'-三リン酸(favipiravir-RTP)となり、これがRNAウイルスのRNA依存性RNAポリメラーゼ（RdRP、RNA複製酵素）にプリンヌクレオシド（アデノシンおよびグアノシン）と競合して取り込まれ、取り込まれた部位以降のRNA鎖の伸長を阻害するchainterminator（伸長阻止薬）として作用する(Furuta,Shirakietal.,2013)。\n",
            "invitro（試験管内）環境では、ファビピラビルは十分な三リン酸化を受けることができないため、50%効果濃度（EC50値）などを基準とした効果評価においては、他の薬物より効果が劣ると判定される場合がある（エボラ出血熱ウイルス、2019新型コロナウイルス）。\n",
            "抗インフルエンザウイルス薬としては、細胞内におけるウイルスRNAの複製を妨げることで増殖を防ぐ仕組みで、タミフルなどの既存薬とは作用機序が異なる。そのためインフルエンザウイルスの種類を問わず抗ウイルス作用が期待できる（たとえばタミフルはB型インフルエンザウイルスに対しては効果が劣り、C型インフルエンザウイルスには効果がない）。\n",
            "また、インフルエンザウイルスのみならず、エボラ出血熱ウイルス（後述）やノロウイルス、SFTSウイルス（後述）などへの適用性に関する試験・研究も行われており、ケンブリッジ大学教授のイアン・グッドフェローらの研究チームは2014年10月21日、マウスを使った実験でノロウイルスの減少・消失を確認したとの発表を行った。さらにウエストナイル熱ウイルス、黄熱ウイルスなどのRNAウイルスにも効果があると考えられており、同研究チームは「治療だけでなく、感染予防にも効果的である可能性がある」とコメントしている。\n",
            "日本以外で承認されている国・地域は無かったが、2020年には新型コロナウイルス感染症(COVID-19)の治療に効果があるとして各国で研究・治験が開始された。2020年2月22日、厚生労働大臣加藤勝信は、新型コロナウイルス感染症（後述）の治療の一環として、投与する考えを示した。\n",
            "2014年（平成26年）3月に、富山化学工業が日本での製造販売承認を取得した。ただしすぐに製造・販売が開始される訳ではなく、新型インフルエンザが流行し、他の薬剤が効かないと日本国政府が判断した場合に、厚生労働大臣の要請を受けて製造を開始するという特殊な承認となっている。\n",
            "富山化学工業は当初、アビガンがタミフルに代わる新しいインフルエンザ薬として普及し、会社の収益源となることを期待していたが、動物実験で胎児に対する催奇形性の可能性が指摘されたため、厚生労働省による製造販売承認は大幅に遅れたうえに、緊急の場合のみ製造可能という条件がついてしまい、経営に貢献するという期待は外れる結果になった。\n",
            "臨床試験の結果からインフルエンザに対する有効性が示されなかったことが判明、加えて催奇形性の危険があるにもかかわらず承認されたのは、既存の抗インフルエンザウイルス薬は、ウイルスを細胞内に閉じ込めることで感染細胞を増やさない働きをするのに対し、アビガンはウイルスの遺伝子複製そのものを阻害するため、作用機序が全く異なり、既存薬に耐性を有するウイルスが蔓延した場合の備えになると期待されたためである。ウイルスの遺伝子複製そのものを阻害する抗インフルエンザウイルス薬としては後にエンドヌクレアーゼ阻害薬のゾフルーザが上市されたが、こちらは高額な上に耐性ウイルスが生じやすい懸念があるため、採用を見送る医療機関も出ている。\n",
            "2017年3月9日、厚生労働省は、新型インフルエンザの流行に備えアビガン錠を備蓄することを決め、2017年度に3万人分を発注する随意契約を3月30日に結ぶ方針であることを発表した。同月30日、日本国政府の新型インフルエンザ等対策有識者会議は、約200万人分を上限目標に備蓄することとし、厚生労働省は同日、約4万7000人分のアビガンを購入する契約を富山化学と結んだ。\n",
            "日本国政府が備蓄しているアビガン錠の放出は、「国の指示に基づき指定された医療機関へ放出」「新型インフルエンザ発生後速やかに、安全性及び有効性の知見・情報を集積する体制（臨床試験等）を整備」とされている。特定および第一種感染症指定医療機関または当該都道府県において、都道府県知事が指定する医療機関が供給依頼し、厚生労働省が富士フイルム富山化学に出庫指示を出す。\n",
            "2020年3月18日付けの日経バイオテクによれば、2019年に中華人民共和国における富士フイルムのファビピラビルの物質特許は失効している。ただし、製造特許は存続している。日本における物質特許は、富士フイルムが5年間の延長手続きを行っており、2024年まで有効である。\n",
            "中国・浙江海正薬業股份有限公司（ZhejiangHisunPharmaceutical）は、2016年6月、富士フイルムとファビピラビルの特許ライセンス契約を締結し、中国における製造、販売のライセンスを取得している。富士フイルムは、一時金やロイヤルティを受け取る契約であった。2019年の富士フイルムの物質特許の失効に伴って、このライセンス契約も終了し、その後は、浙江海正薬業は、富士フイルムの製造特許に触れない形で、後発医薬品としてファビピラビルを製造しており、これらについては、富士フイルムはロイヤルティを受け取ることはできない。中国で行われた2019新型コロナウイルスの国家主導臨床試験に提供された、浙江海正薬業が製造したファビピラビルも、この後発医薬品に該当する。\n",
            "なお、富士フイルムの広報担当者は、「現在もZhejiangHisunPharmaceutical社とは協力関係にあるものの、製造特許は存続しているため、（それを回避する方法で製造されている同社の製品は）不純物の組成などが富士フイルムが製造するファビピラビルと若干異なる可能性は否定はできない」とコメントしている。\n",
            "2020年4月の段階では、流通していないため、薬価も調剤報酬も設定されていない。\n",
            "ただし、厚生労働省は備蓄用のアビガン錠を数回に亘って随意契約で購入しており、落札価格が開示されているので、そこから購入単価を推定することは可能である。例えば平成29年度（2017年度）の随意契約「抗インフルエンザウイルス薬（アビガン錠200mg）3万人分の購入」では、平成29年6月1日付の官報に、落札価格が158,950,000円と公示されており、これから計算すれば、1人当たり約5298.3円、抗インフルエンザ用途の場合の1人当たりアビガン投与量を「200mg錠×40錠」とすれば、1錠約132.5円となる。\n",
            "なお、アビガン錠のように一般に流通せず、日本国政府の備蓄のみとなっている処方箋医薬品は前例がないため、新型コロナウイルス感染症の治療薬として承認されて、薬局に流通可能となった場合の薬価が、この購入価格と同程度になる保証はない。\n",
            "2020年6月20日の報道によると、Glenmarkが開発したジェネリックであるファビピラビル（販売名：FabiFlu®）200mg錠の最大小売価格（MaximumRetailPrice：MRP）は、34錠のストリップ包装当たり3,500ルピー(約5,000円)としている。\n",
            "2020年7月24日、JenburktPharmaceuticalsLtdは、ジェネリックであるファビピラビル（販売名：Favivent）200mg錠を、1錠あたり39ルピーで発売すると発表し、CiplaLtdは、ジェネリックであるファビピラビル（販売名：Ciplenza）200mg錠を、8月第1週に、1錠あたり68ルピーで発売すると発表した。\n",
            "2020年8月4日、SunPharmaは、ジェネリックであるファビピラビル（販売名：FluGuard）200mg錠を、1錠あたり35ルピーで発売すると発表した。\n",
            "2017年2月21日、台湾の衛生福利部疾病管制署（台湾CDC）は、輸入していたファビピラビルを、薬剤耐性のH7N9亜型インフルエンザ感染患者のために放出したと発表した。同月27日、この患者は多臓器不全で死亡した。\n",
            "2016年2月22日、厚生労働省研究班のチームがマダニが媒介するウイルス感染症「重症熱性血小板減少症候群(SFTS)」に、ファビピラビルが有効であることをマウスの実験で確かめたと、米微生物学会の専門誌に発表した。感染直後に投与すれば高い確率で救命できることが示唆された。2016年6月より愛媛大学、長崎大学、国立国際医療研究センター、国立感染症研究所など日本国内30ヵ所の医療機関が臨床研究を開始した。\n",
            "2017年11月9日、愛媛大学らの研究グループが、「一定の治療効果が認められた」と臨床研究の結果を発表した。同グループは今後治療法の確立を目指すとしている。\n",
            "2018年3月12日、富山化学がマダニによるSFTSに対する治験の最終段階である第III相試験（フェーズIII）の患者登録を開始したと発表。\n",
            "2002年頃から、ファビピラビルが広範囲のRNAウイルスに対して抗ウイルス効果を持つことが認識されており、インフルエンザウイルス以外のウイルスに対する効果についての研究が散発的に行われていた。\n",
            "これらの結果を受け、ドイツのベルンハルト・ノホト熱帯医学研究所（ハンブルク）のシュテファン・ギュンター所長を中心とする研究グループは、ファビピラビルがエボラ出血熱ウイルスに対して、どの程度の効果を持つかを検証するため、2013年に同研究所のバイオセーフティーレベル4研究施設において、マウスを用いた動物実験を実施した。\n",
            "用いたエボラウイルスは、アメリカ疾病予防管理センターから提供を受けた野生型ザイール株（ただし、オリジナルのZaireMayinga1976年株とは、わずかに2塩基対が異なっていた）である。また、用いたマウスはI型インターフェロンαおよびβ受容体を欠く2種類のノックアウトマウス、IFNAR-/-C57BL/6およびIFNAR-/-129/Svであり、これらは野生型ザイール株に対する致死的な感受性を持つことが他の研究で判明していた。\n",
            "IFNAR-/-C57BL/6ノックアウトマウスを用いた実験は、週齢をそろえた雌のマウスを次の3つの実験群に分けて行われた。各実験群当たりのマウスは5から10匹であった。感染はエアロゾルを鼻腔から吸入させる方法で行った。\n",
            "結果は次の通りであった。\n",
            "IFNAR-/-129/Svノックアウトマウスを用いた実験では、予想に反してファビピラビルを投与しない対照群の生存率が80%に達したため、ファビピラビルを投与した実験群と生存率にほとんど差が出ないという結果に終わった。これは、他の研究で報告されていたのはIFNAR-/-129/SvはザイールE7181976年株に対して致死性を持つということであり、今回用いたZaireMayinga1976年株との違いによるものであろうと考えられた。\n",
            "総論として、ファビピラビルはマウス実験のレベルにおいては、明らかにエボラ出血熱に対する治療効果を持つが、投薬開始が感染後6日目と8日目では生死が100%分かれるというほど、生存率は投薬開始時期に強く依存することが判明した。\n",
            "富山化学の親会社である富士フイルムホールディングス、ならびに同社の提携先である米国のメディベクター(Medivector)社が、アメリカ合衆国で治験を行う意向を示したことから、エボラ出血熱ウイルスに対するファビピラビルの効果について、米国および世界の関心が集まり始めた。\n",
            "2014年10月20日、富士フイルムは、エボラ出血熱患者への投与拡大に備え、海外におけるエボラ出血熱対策での使用を目的とした「アビガン錠」の追加生産を決定した。フランスは、2014年10月21日、アビガンの臨床試験を開始すると発表した。\n",
            "韓国の保健福祉部は、2014年10月30日、富士フイルムとアビガンの供給について合意したと発表した。韓国でエボラ出血熱が発生した場合は、アビガンが使用されることとなった。\n",
            "2014年11月11日、富士フイルムホールディングスはアビガン（ファビピラビル）が2015年1月にもエボラ治療薬として国際承認される見通しを明らかにした。承認されればエボラ治療薬第一号となる。\n",
            "2015年2月5日、フランス国立保健医療研究所(INSERM)は、西アフリカ・ギニアで2014年12月17日から患者約80人に対して実施しているエボラ出血熱治療薬アビガンの臨床試験について、フランス大統領府に「死亡症例が減り治癒が増えている」と評価報告を行った。大統領府は「今後さらに大規模試験で確認する必要はあるが、アビガン服用はエボラとの戦いに有望と思われる」との声明を発表した。\n",
            "2015年2月24日、INSERMおよび国境なき医師団(MSF)は、血中ウイルス量が少ない感染初期の患者の死亡率が30%から15%へと半減し有効であったが、ウイルス量の多い患者や小児では効果が得られなかったと発表した。\n",
            "2014年9月26日、富士フイルムはフランスでアビガン200mg錠がエボラ出血熱ウイルスに感染したフランス人女性看護師に投与されたと発表した。これはフランス政府機関より依頼を受け、日本政府と協議の上緊急対応として提供されたものである。この女性は10月4日、無事に回復して退院した。\n",
            "2014年10月6日、ドイツ・フランクフルト大学病院に搬送されたウガンダ人のエボラ出血熱患者の治療のために、10月4日に「アビガン錠」が投与された。\n",
            "2014年10月19日、スペインのエボラ対策当局は、マドリード市内の病院で患者を看護していて二次感染し、入院治療を受けていた看護助手に対してファビピラビルを投与したところ、体内からウイルスが消失したと発表した。\n",
            "2020年2月以降、COVID-19に対する薬剤転用研究の対象となっている。\n",
            "2020年2月4日にネイチャーの姉妹誌CellResearchに、中国科学院武漢ウイルス研究所などの研究グループが発表したレター（速報論文）によれば、invitro（試験管内）の環境下で、アフリカミドリザル起源の標準細胞VeroE6細胞を用いて、ファビピラビルをはじめとして、エボラ出血熱治療薬として開発されたレムデシビル、抗マラリア剤のクロロキンなどを含む7種類の物質の2019新型コロナウイルス(SARS-CoV-2)に対する抗ウイルス効果を、50%効果濃度（EC50値）を基準として評価する試験を行ったところ以下のデータが得られた。\n",
            "しかし、エボラ出血熱ウイルスに対するファビピラビルのEC50値は67μMと、ほぼ同程度であるにもかかわらず、臨床試験・動物実験等invivoの環境下では、エボラ出血熱ウイルスに対してはかなり良い抗ウイルス効果を示しているのに、レムデシビルは有意な効果は示していない。このため、研究グループは、ファビピラビルについてはinvivoでの試験が必要であると結論付けている。\n",
            "2月13日付けの中国科学技術部が発行する科技日報によれば、深圳第三人民病院で臨床研究が実施された。中程度25例、重篤例1例の計26名が対象となった。この研究では、明らかな副作用を発現せず、経過良好であり、比較的良い解熱効果を有し、服用後2日以内に72%の発熱が緩和された。また、3日以内の肺の影像学的好転率は38%で、6日間以内の肺の影像学的好転率は70%であった。\n",
            "2月15日付け科技日報は、上記のinvitro試験の結果に基づいて、ファビピラビル、レムデシビル、クロロキンの臨床試験開始を報じた。ファビピラビルについては70名の患者（プラシーボを投与される対照群を含む）で実施されており、初期の段階では明らかな治療効果と十分低い副作用を示している。投与群については、投与から3から4日後には、ウイルス核酸の排除速度は対照群に対して有意に高かった。なお、レムデシビル、クロロキンの結果については、この記事では触れられていない。\n",
            "このように、ファビピラビルがinvitro環境ではレムデシビル、クロロキンに対して大きく効果が劣るにもかかわらず、invivoの臨床試験では著しい効果を発揮する理由について、2月17日付けの科技日報は、鍾武の「ファビピラビルはRNAポリメラーゼ阻害剤の一種ではあるが、特殊なのは、それ自体はプロドラッグであり、RNAポリメラーゼと相互作用する競合基質として作用するために、invivoでの三リン酸化を必要とするということである。」という説明を掲載している。つまり、VeroE6細胞を用いたinvitro試験では、十分な三リン酸化を受けられなかったため、本来の効果が発揮されなかったということである。\n",
            "浙江海正薬業股份有限公司は国家薬監局の承認を得て、ファビピラビルを正式に販売できる状態となっており、2月16日から正式に後発医薬品としての生産を開始した。\n",
            "3月6日付けの科技日報において、中国科学技術部生物技術開発センター所長で、中国国務院・共同予防および管理機構・科学研究グループ・薬物研究チームのリーダーでもある張新民は「深圳第三人民病院は、新冠状肺炎の治療におけるインターフェロンと組み合わせたファビピラビルの有効性と安全性に関する研究を実施し、80人の患者が登録された。その中で投与群は35例、対照群は45例であった。」と述べている。また、張新民は「武漢大学中南病院は、新型コロナウイルス肺炎の治療におけるファビピラビルの多施設臨床研究を実施し、88人の患者による7日間の臨床観察を完了した。内訳は、投与群、対照群とも各々44例である。中間結果として、治療7日後の投与群の臨床回復率は対照群よりも良好であり、治療3日目の体温正常復帰率は81.8%であり、これは対照群の29.5%より有意に高く、治療6日目の咳寛解率は93.2%に達し、これは対照群の68.2%よりもかなり良い。現在、試験はまだ進行中であり、臨床的観察と結果の分析を続行中である。」と明らかにした。\n",
            "3月11日に中国国務院共同予防管理機構特別薬剤研究チームが研究結果を発表した。この研究は、軍事医学研究院・国家応急予防製薬工学技術研究センターの鍾武（钟武、ZhongWu、前出）、および深圳第三人民病院の刘磊（LiuLei)院長、刘映霞（LiuYingxia)副院長を中心とするチームによって実施され、ファビピラビルを投与する患者35人と、カレトラ(ロピナビル／リトナビル)を投与する患者45人について、投与開始からウイスルが体内から排除されるまでに要した日数を比較した。結果は、ウイルス除去までに要した期間の中央値は、ファビピラビル投与群で短く、中央値(四分位範囲)は4日(2.5-9日)で、カレトラ投与群では11日(8-13日)であった。またカレトラ投与群に対してファビピラビル投与群の方が副作用は少なかった。この研究結果は、刘磊、刘映霞、鍾武を責任著者（correspondingauthors）とする公式論文にまとめられ、2020年3月18日に、中国工学院が刊行している英語版学術論文誌であるEngineeringで発表され、オランダの出版社であるエルゼビアが運営する学術論文プラットフォームサイトScienceDirectに全文(PDF形式)が掲載された。この論文では、投薬開始14日後における胸部CT影像改善率は、ファビピラビル投与群で91.4%、カレトラ投与群で62.2%としている。なお、この論文は、2020年4月8日に“TEMPORARYREMOVAL”（一時撤回）の状態になっていたが、4月16日に差替え版が再掲載され、再び閲覧可能な状態になっている。\n",
            "3月17日、中国国務院共同予防管理機構が記者会見を開き、科学技術部・生物技術開発センター所長の張新民、工程院院士の王軍志らは、ファビピラビルが臨床研究を完了し、正式に有効性を確認したと明らかにした。張新民によれば「安全性の観点からは新型コロナウイルス肺炎の臨床研究では、臨床的に重大な副作用は発見されていない。有効性の観点からは、深圳第三人民病院が実施した、インターフェロンと併用したファビピラビルの有効性と安全性の研究では、80人の患者が登録され、うち35人がファピラビル投与群、45人が対照群であった。結果は、ウイルス核酸が陰性になるまでに要した時間の中央値は、投与群が対照群よりも有意に短く、それぞれ4日および11日であった。胸部X線画像の改善率に関しては、投与群と対照群でそれぞれ91.43％と62.22％であった。また、武漢大学中南病院で行われていた、前述の多施設臨床試験は、最終的に120人の患者が登録され、臨床治療観察は完了した。臨床研究の結果は、ファビピラビル投与群が新型コロナウイルス肺炎の治療において対照群よりも有意に優れていることを示している。治療終了時の中程度患者の臨床的回復率は、投与群の方が対照群よりも有意に良く、それぞれ71.43％と55.86％であった。解熱時間に関しても、投与群は対照群よりも有意に良好であり、平均解熱時間はそれぞれ2.5日と4.2日であった。平均咳寛解時間は、投与群よりも対照群の方が有意に長く、それぞれ4.57日と5.98日であった。治療期間中の中程度患者の補助酸素療法または機械呼吸装置の使用率は、投与群の方が対照群よりも有意に低く、それぞれ8.16％と17.12％であった。入手可能性の観点からは、今年2月、国内企業は国家薬監局から医薬品登録の承認を取得し、大量生産を達成し、臨床薬の供給が保証されている」という。また、張新民は「ファビピラビルは医薬品の良好な安全性、明確な有効性、および入手可能性を考慮して、科学研究グループの専門家によって医療グループに正式に推奨された。できるだけ早く治療計画に組み込むよう提案する。」と述べた。\n",
            "3月23日、武漢大研究チームがファビピラビル投与で軽症者に限ると投与後7日以内の回復率が7割を超え、有効性が確認できたと発表した。軽症例に限ると多くの症例がファビピラビル投与で4日以内に症状が消えたと報告した。この研究は、2020年2月20日から3月12日にかけてに、武漢市の3つの病院で実施された多施設臨床研究であり、ファビピラビル投与群の治療効果をUmifenovir（商品名：アルビドール、Arbidol）投与群を対照群として比較評価するものであった。総数240人の患者をランダムに120人ずつのグループに分け、一方をファビピラビル投与群とし他方をアルビドール投与群とした。オープン・ラベル試験であり、医師および患者には、どちらの薬が投与されるのかは開示されていた。結果は、7日目の回復率はファビピラビル投与群（最終評価数は116人）が71.43%であるのに対しアルビドール投与群（最終評価数は120人）は55.86%であり、治療効果におけるファビピラビルのアルビドールに対する優位性は、統計的に有意であった（帰無仮説成立確率：P=0.0199）。\n",
            "2020年2月22日、日本国政府は新型コロナウイルスの感染者を対象にアビガンの投与を推奨する方針を固め、富士フイルム富山化学に増産を求めた。同日、加藤勝信厚生労働大臣は患者への投与を開始したことを明らかにした。\n",
            "3月19日に、市立札幌病院の15例報告によれば、発症11日目の60代の患者(男性)1名に対してファビピラビルの投与（シクレソニドも併用）が行われた。ファビピラビルの適応外使用に関しては、院内臨時倫理委員会の承認を得て実施されている。投与は、発症13日目に人工心肺装置（ECMO）導入のため患者が他院へ転院となるまで続けられたが、この間で症状の改善はみとめられなかった。また、3月26日、同病院の向井正也院長は北海道テレビ放送で記者の「抗HIV薬（カレトラ）が効いているのか？」という問いに対して、「アビガンのほうが効いていることが多い」と答えている。\n",
            "3月28日、安倍晋三首相はファビピラビルについて「新型コロナウイルスの治療薬として正式に承認するにあたって必要となるプロセスを開始する」、「多くの国から関心が寄せられており、希望する国々と協力しながら臨床研究を拡大し、増産をスタートする」と発表した。\n",
            "3月31日、富士フイルムは日本での治験開始を発表した。\n",
            "3月31日に発表された地域医療機能推進機構船橋中央病院の報告\n",
            "によれば、高齢のコロナ肺炎患者（80代後半女性）に対して、同院に入院した次の日からファビピラビルによる早期治療を開始したところ順調に回復し、入院16日後にPCR陰性化、18日後に退院した。観察された最も大きな副作用は尿酸値上昇であったが、これは通常の高尿酸血症治療薬（フェブキソスタット）の投与で解決され、大きな支障となることはなかった。他に軽い好中球数減少が認められたが、これも問題となることはなかった。他の臨床試験で観察されているASTやALT増加や下痢症状は認められなかった。\n",
            "4月2日、大阪市立総合医療センターの白野倫徳医師は毎日放送で「（当院では）中等度以上の患者に使用しているが、効く人には効くが、効かない人もいる。急激に悪化する人には、いかに適切なタイミングで投与しても食い止めることはできない」と答えている\n",
            "。\n",
            "4月2日、日本国内で唯一のアビガンの原料を生産する設備（新潟県糸魚川市の工場）を有しているデンカ株式会社は、日本政府からの要請で原料を生産すると発表した。\n",
            "4月6日に発表された東京品川病院の報告によれば、同院に入院直後に経皮的動脈血酸素飽和度（SpO2）が急激に90%に低下した新型コロナウイルス患者（39歳、男性）に対して、急性呼吸窮迫症候群(ARDS)を防ぐ目的でファビピラビルの投与を開始したところ、翌日には解熱とSpO2の改善が認められ、投与3日目にはPCR陰性となった。同院で同様の症状で、ファビピラビルを使用せずに治療した他の新型コロナウイルス患者2例については、PCR陰性になるまで、各々27日と37日を要しており、今回の急激な改善はファビピラビルの効果による可能性が高いと考察している。\n",
            "4月7日、安倍首相はアビガンについて「120例を超える投与が行われ症状改善に効果があったと報告を受けている」と明らかにした。\n",
            "4月13日に発表された地域医療機能推進機構船橋中央病院の報告では、全5例の内の4例（20代男性、60代女性、40代男性、50代男性）(他の1例は既報)のうち、どの例でもファビピラビル投与開始後は症状は悪化することは無く、遅くとも4日以内に発熱、倦怠感、食欲不振などの症状の軽快化が認められたが、うち2例では、投与期間の14日間の内にはPCR陰性化までには到らなかった。また、4例全てで大きな副作用は見られなかったとしている。\n",
            "4月14日、新型コロナウイルス肺炎のため入院中のグラビアアイドルでタレントのソラ豆琴美が、Twitterで13日からアビガン投薬治療を開始したことと、病状の変化について「昨晩から飲み始めて早速効果があるように感じました。高熱が微熱になって、全くわからなかった味がほんの少し、味の雰囲気がわかるようになり、匂いも全くなかったのがほんのりわかりかけた気がします。咳の量も減って、痰（たん）もかなり減りました。まだ1日目なので劇的な変化ではないけど明らかにいい感じ！」\n",
            "と報告している。効果が投薬開始後1日程度で急速に現れるという点で、東京品川病院での症例(前述)と共通する面がある。\n",
            "4月18日に開催された日本感染症学会の緊急シンポジウムにおいて、藤田医科大学（愛知県豊明市）の土井洋平教授は、同大が主導して実施しているファビピラビルの国内第Ⅲ相臨床試験の状況について報告し、ファビピラビルを投与された300人のうち、軽症と中等症の患者ではおよそ9割、人工呼吸器が必要な重症患者では6割で2週間後に症状の改善が見られたことを明らかにした\n",
            "。\n",
            "この9割改善という数値は、中国の刘磊、刘映霞、鍾武らによる論文における数値、および後述のイランの医師の主張（30人中27人回復）と一致している。\n",
            "4月19日、新型コロナウイルス感染症（COVID-19）対策担当の西村康稔経済財政・再生相は、抗インフルエンザ薬「アビガン®錠」について、700を超える医療機関・施設で手続きを終えて、患者の同意があれば使えるようになったと述べた。\n",
            "4月21日、加藤勝信厚生労働大臣は、現在、治療薬の審査期間を6か月程度を目標に短縮する「先駆け審査指定制度」という制度があるが、アビガンなど新型コロナウイルス治療薬の承認審査については、「6か月にこだわるつもりは全くなく、出来る限り短く対応していきたい」と述べた\n",
            "。\n",
            "同日、赤司浩一九州大学病院長、岩崎昭憲福岡大学病院長、高島宗一郎福岡市長は、投与の承認手続きを省略して医師の判断でアビガンの投与が可能となるよう規制緩和を求める要望書を、加藤厚生労働大臣に提出した\n",
            "。\n",
            "4月27日、厚生労働省新型コロナウイルス感染症対策推進本部は、ファビピラビル使用における医療機関向けの注意事項をまとめた文書「コロナウイルス感染症に対するアビガン（一般名：ファビピラビル）に係る観察研究の概要及び同研究に使用するための医薬品の提供について」\n",
            "\n",
            "を公表した。これによれば、医療機関が同剤を投与する条件としては、倫理委員会などで承認を得たうえで、藤田医科大学病院などの研究班が行っている観察研究に参加し、患者本人の同意があり、医師の判断によって使用が必要となった場合に限り可能であるとしている。同剤は治療薬としては承認されていないが、既に全国の医療機関で観察研究として広く投与が行われており、参考情報として、4月26日の時点で、既に国内1,100の医療機関で、2,194人の患者に投与されたと述べている。なお、4月26日の時点で国内感染者は13,232名、そのうち入院患者は8,051名であり、入院患者のうちの約4分の1は同剤の投与を受けていることになる。\n",
            "5月4日、安倍首相は記者会見で、アビガンが臨床研究で有効性が確認されれば5月中の承認を目指す考えを示した。\n",
            "5月11日、福岡県医師会は、アビガンの観察研究への医療機関の参加を、医師会が設けた倫理委員会が一括して審査する「福岡県方式」を、観察研究を実施している藤田医科大学と厚生労働省に提案し、承諾を得たと発表した\n",
            "。\n",
            "同剤の投与は、観察研究への参加という形で、現在既に全国で実施されているが、観察研究への参加に際しては、医療機関ごとに設置する倫理委員会などで承認を得る必要があった。福岡県方式は、この手続きを簡略化するものであり、観察研究による投与の枠組み自体を変えるものではないが、今後は医師会に登録した医療機関で、医師の判断と患者の同意があれば投与が可能になり、軽症者への早期投与が可能となった。ただし、副作用の管理対策として当面は入院患者に限定される。\n",
            "特定臨床研究「SARS-CoV2感染無症状・軽症患者におけるウイルス量低減効果の検討を目的としたファビピラビルの多施設非盲検ランダム化臨床試験」の中間解析で、顕著な有効性を確認できることを期待して、「新型コロナウイルス感染症に対する医薬品等の承認審査上の取扱いについて（薬生薬審発0512第４号、薬生機審発0512第1号）」（令和2年5月12日）を発出したが、目論見が外れた。\n",
            "5月26日付けの毎日新聞、日本経済新聞及び朝日新聞は、加藤勝信厚生労働相は同日午前の記者会見で、「臨床研究の継続の可否を判断する中間解析において、極めて高い有効性が示されればその結果を待つまでもなく、薬事承認という流れも想定していた」とするが、学外の専門家による評価委員会から科学的に評価することは時期尚早とされたため研究は継続となり、月内の承認には至らなかった、\n",
            "と報道しているが、その前日の5月25日付けの産経新聞など複数のメディアは、「25日時点で審査の前提となる企業からの承認申請はなく、月内に審査を終えるのは不可能と判断した。政府関係者が明らかにした。」このため「安倍晋三首相が目指すとした『5月中の承認』を政府が断念したことが25日、分かった。」\n",
            "と、承認できないのは企業側の未申請が原因であると報道しており、報道に齟齬が見られる。\n",
            "5月26日に発表された藤田医科大学の「【中間報告】ファビピラビル観察研究中間報告（2020年5月15日現在）」\n",
            "によれば、5月15日の時点でファビピラビルの観察研究による投与例が、全国407の医療施設から2158例登録されている。このうち軽症患者が976名（45.2%）、中等症患者が947名（43.9%）、重症患者が235名（10.9%）であり、コロナ肺炎の発症者の8割は軽症のまま治ることがわかっているので\n",
            "、観察群の構成は通常よりは中等症患者と重症患者の比率が高い（54.8%）。投与開始後7日目の改善率は、軽症が73.8%、中等症が66.6%、重症が40.1%（サンプル数1,713）であり、投与開始後14日目の改善率は、軽症が87.8%、中等症が84.5%、重症が60.3%（サンプル数1,282）であった。また、入院後1ヶ月の時点における死亡率は、軽症が5.1%、中等症が12.7%、重症が31.7%、全体で11.6%（サンプル数1,918）であった。副作用については、2,158名のうち、尿酸値上昇または高尿酸血症15.58%、肝障害または肝機能酵素上昇7.37%が報告された。考察として、対照試験ではないこと、前述のように発症者の8割は軽症のまま治ることから、「慎重に結果を解釈することが必要」として、有効との結論は控えている。\n",
            "7月10日、特定臨床研究「SARS-CoV2感染無症状・軽症患者におけるウイルス量低減効果の検討を目的としたファビピラビルの多施設非盲検ランダム化臨床試験」の最終結果の暫定的な解析が報告された。目標症例数は、86名で、89名が登録され、ランダム化された。主要評価項目である「6日目まで（遅延投与群が内服を開始するまで）の累積ウイルス消失率」は、通常投与群で66.7%、遅延投与群で56.1%、調整後ハザード比は1.42（95%信頼区間=0.76-2.62、P値=0.269）であった。副次評価項目である「6日目までのウイルス量対数値50%減少割合」は通常投与群で94.4％、遅延投与群で78.8％、調整後オッズ比は4.75（95%信頼区間=0.88-25.76、P値=0.071）であった。主要評価項目及び副次評価項目ともに、統計学的に有意な差は認められなかった。\n",
            "9月10日に全国医学部長病院長会議(AJMC)が発表した、「新型コロナウイルス感染症における重症症例に対する治療実態調査結果」\n",
            "\n",
            "では、AJMC会員である全82国公私立大学病院から得られた回答を集計したところ、7月31日までに治療を行った487例の重症症例のうち、378例(77.62%)でアビガンが使用されたことが明らかになった。レムデシビルの使用例は54例(11.09%)であった。なお、重症症例487例のうち死亡は98例(20.1%)であり、このうちアビガンを使用した378例では死亡は74例(19.58%)であり、アビガンを使用しなかった109例では死亡は24例(22.02%)であった。\n",
            "9月23日、新型コロナウイルス感染症患者を対象としたアビガンの国内臨床第Ⅲ相試験結果が、富士フイルムホールディングスのニュースリリースで報告された。156例を解析対象とした主要評価項目（症状（体温、酸素飽和度、胸部画像）の軽快かつウイルスの陰性化までの時間）の中央値は、アビガン投与群で11.9日、プラセボ投与群では14.7日となり、非重篤な肺炎を有するCOVID-19患者にアビガンを投与することで早期に症状を改善することを、統計学的有意差（p値=0.0136）をもって確認した。調整後ハザード比は、1.593(95％信頼区間1.024–2.479)を示した。さらに本試験では、安全性上の新たな懸念は認められなかった。\n",
            "10月16日に富士フイルムホールディングスが、抗インフルエンザウイルス薬「アビガン®錠」について富士フイルム富山化学株式会社が新型コロナウイルス感染症に係る効能・効果などを追加する製造販売承認事項一部変更承認申請を厚生労働省に行ったことを発表した。\n",
            "12月21日、厚生労働省は、薬事・食品衛生審議会の専門部会を開き、アビガンを新型コロナウイルス感染症の治療薬として承認するかを審議した。富士フイルム富山化学による治験が、どの患者にアビガンを投与したかを医師が把握して行われる単盲検試験だったことの影響、治験結果の臨床的意義について議論した。現時点では「有効性を明確に判断することは困難」とされ、継続審議となった。海外で実施中の臨床試験（治験）などの結果の提出を待ち、年明け以降に審議する。\n",
            "2021年2月21日、富士フイルムホールディングスは、アビガンについて、4月にも国内で臨床試験（治験）を再び実施する方針を固めたと報じられた。既実施治験が、単盲検試験だったことで、「有効性を明確に判断することは困難」とされたことから、再試験では、二重盲検試験とする。対象は、65歳以上の軽症患者、腎疾患、糖尿病等の基礎疾患を有する50歳以上の軽症患者で、目標症例数は、約270名としている。\n",
            "4月21日、富士フイルムホールディングスが、抗インフルエンザウイルス薬「アビガン®錠」について、富士フイルム富山化学株式会社が新型コロナウイルス感染症の患者を対象とした新たな第3相試験を国内で開始したことを発表した。発熱などの症状発現から72時間以内、かつ基礎疾患や肥満などの重症化リスク因子を有する、50歳以上のCOVID-19患者において、重症化した患者の割合を主要評価項目とし、有効性を検証する二重盲検プラセボ対照試験である。\n",
            "2020年4月9日、富士フイルムはアメリカでのアビガンの治験を第2相試験に進めると発表。第2相臨床試験は2020年6月末までに終える予定である。米国ではファビピラビルは未承認であり、米国で承認申請を行うには第3相臨床試験で有効性を確認することが必要になる。\n",
            "12月2日、AppiliTherapeuticsInc.は、アビガンのアメリカでの第3相試験において、最初の患者へ投与したことを発表した。本試験は、ランダム化プラセボ対照二重盲検比較試験であり、軽症及び中等症の外来患者が対象、目標症例数は、826名である。\n",
            "2020年3月20日、イランの政府系通信社タスニム通信は、イラン新年初日（3月20日）に茂木敏充外務大臣とイランのザリフ外相が電話会談を行い、茂木大臣は日本政府はイランに対して無償でファビピラビルを供与する予定であると述べたと報道した\n",
            "。\n",
            "4月3日、イラン保健省のキアヌーシュ・ジャハンプール（KianoushJahanpour）報道官は、ファビピラビルに関して「（中国で実施された臨床試験について）患者に相当な効果を与えているが、効果を科学的に立証したとまで言うには不十分であろう」「日本から寄付された薬の臨床試験の結果はまだ出ていない」「既に日本からは3,000人分の薬を寄付を受け、さらに中国からは中国赤十字(中国紅十字会)を通じて15,000人分の薬を寄付されている。これらは多数の病院で臨床試験中であり、現在、研究と効果評価を行っている最中である」と発表した。\n",
            "4月5日付けのタスニム通信によれば、テヘランの国営マシ・デーンズバリ病院（MasihDaneshvarihospital）のヴェラーヤティー院長は、シャヒード・ベヘシュティ―大学が、イラン国内では初めてアビガンの製造に成功したと発表した。同院長によれば、製造された薬は既に同病院でのコロナ肺炎患者の治療に用いられている。なお、ヴェラーヤティー院長自身もコロナ肺炎に罹患し、回復している\n",
            "。\n",
            "同日、イラン国外を拠点とするイラン反体制派組織イラン国民抵抗評議会は、上記のマシ・デーンズバリ病院の医師MohammadRezaHashemianが、「この薬により30人のコロナ肺炎患者の内、27人が劇的に回復しているにもかかわらず、イラン保健省は情報を隠蔽し、国民が使用するのを妨害している」と非難していると伝えている。同医師は、政府の意図について、薬を体制側の人間に優先して使用するための数の確保が目的であり、実際、コロナ肺炎に罹患した、体制側の重要人物であるヴェラーヤティー院長は、この薬を優先的に割り当てられたおかげで回復したと主張している\n",
            "。\n",
            "2020年3月22日、イタリア医薬品庁（アイファ、AIFA）は、同庁の科学技術委員会は、最も新型コロナウイルス感染症の拡大が激しい3つの地域、ロンバルディア、ベネト、エミリアロマーニャの病院におけるファビピラビルの試験的投与を承認したと発表した。ただし、イタリア医薬品庁は「この薬はヨーロッパでもアメリカでも認可されていない。この薬物の効果について現在ある証拠は、まだ不十分で予備的なものである」と釘を刺している\n",
            "。\n",
            "2020年3月23日に、コジャ保健相は、中国から供与された本薬の患者への投与を既に実施していると発表した。トルコ国営・アナドル通信社によれば、この治療薬は国内の40の都市に空輸された。\n",
            "6月9日、エルドアン大統領は、トルコ国内でファビピラビルの製造を行う予定であり、登録手続きが完了すればコロナ肺炎治療に使用可能になると述べた。既に、中国からトルコに持ち込まれたファビピラビルを用いて行われた治験では、治療期間の短縮と、肺への病状の改善の両方において効果が確認されている\n",
            "。\n",
            "2020年4月、ドイツ政府がアビガン数百万セットを大量購入すると報道された。\n",
            "2020年3月16日付け中央日報によれば、韓国政府はアビガンの輸入特例を検討していたが、中央臨床委員会など専門家らの意見に従い、本薬の効果や副作用の強さなどから臨床的根拠が不十分であるため、導入しないと発表した。『ネイチャー』に掲載された中国の研究論文を分析した結果、アビガンが新型コロナウイルス抑制効果がなく、副作用も深刻であり使用できないとした。\n",
            "中央臨床委員会のオ・ミョンドン委員長（ソウル大病院感染内科教授）はアビガンが中国で治療薬として許可されたと報道されたが、「ネイチャーの論文によると『単に臨床試験患者を募集する』と話しただけ」であり、またWHOも治療薬候補にアビガンを挙げていないとして、アビガンが治療薬として許可されたというのはフェイクニュースだと論じた。\n",
            "2020年5月1日、ロンドンのチェルシー・アンド・ウェストミンスター病院は、450名の患者が参加するファビピラビルとヒドロキシクロロキンの臨床試験を開始すると発表した。試験では患者を150人ずつの3つのグループに分け、第1グループにはファビピラビルを投与し、第2グループにはヒドロキシクロロキン、亜鉛およびアジスロマイシンを投与し、第3グループは対照群として通常の治療法による処置のみを行う。また、同病院の他に複数の病院も試験に加わる予定であると述べている\n",
            "\n",
            "\n",
            "。\n",
            "2020年5月31日、ロシアの政府系ファンドであるロシア直接投資基金(RDIF)は、同基金が合弁事業で開発したファビピラビルのジェネリック医薬品である「アビファビル」(Avifavir)に、ロシア保健省が暫定承認を与えたと発表した\n",
            "\n",
            "。\n",
            "これはファビピラビルのコロナ肺炎治療薬としての政府機関による世界初の承認となる\n",
            "。\n",
            "ChemRarは5月13日に、ロシアで4月から開始されていたアビファビルの治験で、有効性が確認できたと発表していた。治験の中間解析の結果、ファビピラビルを投与された40名のうち60％が投与開始から5日目の検査で陰性となり、標準治療群の2倍だったと明らかにしていた\n",
            "。6月11日から、一般病院での投与が順次開始されるという。\n",
            "2020年5月12日、Glenmarkは、ジェネリックであるファビピラビル（販売名：FabiFlu®）の第3相ランダム化比較臨床試験の開始を発表した。150人の軽症から中等症患者が、標準的支持療法群あるいは標準的支持療法＋ファビピラビル群に、1：1の比率で割り付けられる。\n",
            "2020年5月21日、StridesPharmaScienceは、先発薬であるアビガンとの生物学的同等性試験の実施について、インド医薬品管理局からの承認を得たと発表した。\n",
            "2020年5月26日、Glenmarkは、ファビピラビルのUmifenovirとの併用による第3相ランダム化比較臨床試験の実施について、インドの規制当局からの承認を得たと発表した。入院している158人の中等症患者が、ファビピラビル群あるいはファビピラビル＋Umifenovir併用群に割り付けられる。\n",
            "2020年6月20日、Glenmarkは、ジェネリックであるファビピラビル（販売名：FabiFlu®）について、インドの規制当局から軽症から中等症患者を適応として「制限された緊急使用」の製造販売承認を取得したと発表した。\n",
            "2020年7月24日、CiplaLtdは、ジェネリックであるファビピラビル（販売名：Ciplenza）について、インドの規制当局から製造販売承認を取得したと発表した。\n",
            "通常、成人に1日目は1回1,600mgを1日2回、2-5日目は1回600mgを1日2回経口投与する。総投与期間は5日間まで。アビガン錠は200mgなので、一人当たりの投与量は(1600×2+600×2×4)mg/200mg=40錠となる。研究では高用量投与（ハイドーズ）も行われている。\n",
            "しかし、2020年2月27日付けで厚生労働省が全国の保健所等に通知した事務連絡でのファビラビルの処方量は過少である。\n",
            "(1)　2020年2月27日付けで厚生労働省が全国の保健所等に通知した事務連絡に記載のファビピラビルの処方量での（1日目は1800mgを2回で3600㎎）は、新型コロナウイルスによる発病者の治療にアビガンを用いる場合の必要処方量としてアビガンの開発者である白木公康が提唱する1日あたり6g～9g（6000mg～9000mg）の中心値である7500mgと比較すると、48％となっている。しかし、1日あたり6g～9gを投与した臨床経験はない。よって、1日あたり6g～9gを投与する新型コロナウイルス患者における検証試験を実施する場合、追加臨床試験で忍容性が確認されることが前提となる。\n",
            "(2)　ファビピラビルを新型コロナウイルス（COVID-19）の治療に用いる場合の用法・用量は、2020年2月17日付で富士フイルム富山化学工業が首相官邸に提出した資料の第10ページには「COVID-19へのEC50濃度9.72μg/mLはヒト国内インフルエンザ治療時の投与量の2.5～3倍量と推定される。」と、記載している。\n",
            "この記載に基づいて、インフルエンザ治療の場合の2.5倍として必要処方量を計算すると、1日目は1回4000mgを1日2回，2日目から5日目は1回1500mgを1日2回経口投与する総投与期間は5日間となる。\n",
            "この必要処方量からみて、日本感染症学会が提唱する処方量（1日目は1回1,800mg（200mg錠×9錠）を1日2回、2日目から1回800mg（200mg錠×4錠）を1日2回経口）は、1日目では必要処方量の45％、2日目以降では必要処方量の53％となる。\n",
            "(3)　厚生労働省が行なった事務連絡でのCOVID-19へのアビガンの標準処方量（成人向け）は、日本小児科学会が定めたアビガンの標準処方量からすると、体重が22Kg～35Kgの子供用のものとほぼ同じである。\n",
            "(4)　添付文書に記載された新型又は再興型インフルエンザウイルス感染症での投与量は、8000㎎（1日目1600mg×2回、2～5日目600mg×2回、総投与期間5日間）であるが、日本感染症学会の「COVID-19に対する抗ウイルス薬による治療の考え方」によると約3倍の最大24400㎎（1日目1800mg×2回、2日目以降800mg×2回、最長14日間）とされており、1回投与量及び投与期間の違いによって、備蓄量の換算人数分は異なる。\n",
            "(5)　すなわち、2020年2月27日付けで厚生労働省が全国の保健所などに通知した事務連絡の添付資料となっている2020年2月26日付で日本感染症学会が発表した処方量は必要処方量のほぼ50％以下になっており、アビガンの薬効が十分には発揮できない過少なものであると思われる。\n",
            "2020年2月27日付けで厚生労働省が全国の保健所等に通知した事務連絡に添付された日本感染症学会の文書に記載の処方量が過少である結果、上記の処方量（1日目は1800mgを2回で3600㎎）で実施していた観察研究について、2020年5月26日に発表された藤田医科大学の「【中間報告】ファビピラビル観察研究中間報告（2020年5月15日現在）」では、アビガンの有効性を明確には示すことができずに終わったと思われる。\n",
            "この観察研究では、1日目のみ1回1800mg×2回、2日目以降は1回800mg×2回で投与された患者が92.8%、1日目のみ1回1600mg×2回、2日目以降は1回600mg×2回で投与された患者が5.4%、その他が1.9%である。すなわち、ほとんどの患者が、2020年2月17日付で富士フイルム富山化学工業が首相官邸に提出した資料に記載の「ヒト国内インフルエンザ治療時の投与量の2.5～3倍」ではなく、2020年2月27日付けで厚生労働省が全国の保健所等に通知した事務連絡でのファビラビルの処方量を投与された。この観察研究でアビガンの有効性を結論しなかったのは、用法用量の違いだけが理由ではなく、観察研究の報告書に記載されているように、対照試験ではないこと、発症者の8割は軽症のまま治ることから、「慎重に結果を解釈することが必要」という状況となったためである。\n",
            "富士フイルム富山化学が、新型コロナウイルス感染症（COVID-19）について実施していた「アビガン」（ファビピラビル）の第3相臨床試験（国内の臨床試験のデータベースの登録番号：JapicCTI-205238）での用法・用量は、1日目のみ1回1800mg×2回、2日目以降は1回800mg×2回で、最長14日間、経口投与するものであった。　すなわち、この治験での用法用量は2020年2月17日付で富士フイルム富山化学工業が首相官邸に提出した資料に記載の「ヒト国内インフルエンザ治療時の投与量の2.5～3倍」の約50％となっている。この過少な用量での治験の結果、156人の肺炎患者においてアビガンを投与した患者と偽薬を投与した患者ではウイルスが陰性になるまでの日数の中央値が、アビガンを投与した患者は11.9日で、偽薬では14.7日であった。プラセボを対照としたアビガンの主要評価項目の統計学的有意差（p値=0.0136）を検証、アビガンを投与することで症状が早期に改善することを確認したことから、富士フイルムホールディングスは、10月にも新型コロナウイルスの治療薬として、アビガンの製造販売の承認を申請すると発表した。\n",
            "妊娠した動物への実験で催奇形性が確認されているため、妊婦および避妊無し性交渉から2週間未満の女性への投与は禁忌である。。また上記の理由のために男女とも薬が体内に残っている投与期間中および投与終了後7日間、性交を行う場合は必ず避妊しなければならない。\n",
            "臨床使用における副作用等発現状況については、独立行政法人医薬品医療機器総合機構のサイトに掲載された情報によれば、インフルエンザ治療薬としての承認用法及び用量における投与実績はないが、国内臨床試験及び国際共同第III相試験（承認用法及び用量より低用量で実施された試験）で得られたデータは、次の通りである。\n",
            "安全性評価対象症例501例中、副作用が100例（19.96％）に認められた（臨床検査値異常を含む）。主な副作用は、血中尿酸増加24例（4.79％）、下痢24例（4.79％）、好中球数減少9例（1.80％）、AST（GOT）増加9例（1.80％）、ALT（GPT）増加8例（1.60％）等。\n",
            "平成30年度科学技術分野の文部科学大臣表彰「科学技術賞」を受賞。\n",
            "衛生・医療・医学等の分野を中心に用いられるマスク（英:mask,Respirator）とは、人体のうち顔の一部または全体に被るもの、または、覆うものを指す。頭部まで覆うものを含めることもある。広義では体の他の部分を覆うものもそのように称することがある。漢字では「麻覆布」と表記する。\n",
            "マスクは用途別では、産業用、医療用、家庭用に分けられる。\n",
            "防塵マスク（ぼうじんマスク、表記揺れ：防じんマスク）は、防塵用マスク、防塵規格マスクなどともいう。\n",
            "本来は作業者が空気中に浮遊する微粒子を吸引しないようにする目的で用いられるマスク。その形状は、シリコンゴム等で形成された本体（全面形面体または半面形面体）に取換え式のフィルタを付けたもの、または全体が帯電加工された不織布による使い捨て式防じんマスクである。陽圧法のマスクと陰圧法のマスクがあり、陰圧法のマスクには排気弁が付いている。あくまでも作業用であり長時間装着しての使用には向いていない。\n",
            "米国には米国労働安全研究所（NIOSH）が認定するN95マスクがあり製品には認証番号が付けられている。このN95マスクは医療機関で感染防止に用いられることも多くなっている。\n",
            "欧州には欧州標準化委員会が認定する欧州規格（EN）149の「FFP2マスク」があり、N95マスクに相当する。\n",
            "日本では、労働安全衛生法の規定に基づき、厚生労働省の告示「防じんマスクの規格」に基づいた型式検定に合格し、その合格標章が貼付されている製品をいう。なお、類似の形状をもつものであっても検定合格標章のないマスクは防じんマスクとして販売することはできず、「ダストマスク」「クリーンマスク」などの名称でホームセンター等で市民生活用に販売されている。\n",
            "医療用マスクは、主に空気中の飛沫（※飛び散る細かい水玉）を対象とする感染予防を目的とするマスクである。英語では\"surgicalmask\"といい、日本語でもその音写形「サージカルマスク」が別名として通用する。英語のそれは名前のとおり、狭義にはsurgical（外科の、手術の）マスクであるが、広義には医療現場もしくは医療用のマスクを指す。\n",
            "対象とする粒子径は一般的に5μmより大きいものである。SARSウイルス（0.1μm以下）のように感染性病原ウイルスが微粒子で、空気中に浮遊している場合、医療用マスクでは対応できないため、N95やDS2のクラス以上の防塵マスクが使用される。\n",
            "マスクの性能を表す指標としてBFE（細菌濾過効率、BacterialFiltrationEfficiency）とPFE（微粒子濾過効率、ParticleFiltrationEfficiency）がある。前者はマスクによって細菌を含む粒子（平均粒子径3.0±0.3マイクロメートル）が除去され患者への飛沫を防ぐ割合（%）、後者は試験粒子（0.1マイクロメートルのポリスチレン製ラテックス球形粒子）が除去され、装着者へ影響が出ない割合（%）のことである。アメリカ食品医薬品局（FDA）では、サージカルマスクの基準をBFE95%以上と規定している。\n",
            "アメリカでは感染性エアロゾルに対する医療用マスクをsurgicalmaskとし、FDAが登録制度を実施しており、製品には登録番号が表示される。産業用の使い捨て式防塵マスクとしてNIOSHの検定合格証を有するマスクでも、surgicalmaskとして使用する時は改めてFDAにN95surgicalmaskとして登録する必要がある（※この場合には性能試験データの添付は不要）。かつてアメリカではsurgicalmaskの形状についても規格があったが、今では廃止されている。\n",
            "日本では「サージカルマスク」という呼称やその性能に関して法令上の規定は無く、感染性呼吸器疾患（新型インフルエンザ等）の流行時に政府がガイドラインを公表したことはあったが、性能試験はアメリカのASTMインターナショナルが規定したASTMF2100や民間の検査会社の独自規格が利用していた。2021年6月16日に性能及と試験方法が日本産業規格で定められた。\n",
            "基本的には使い捨てであるが、アウトブレイクが深刻化するなどして供給不足に陥った場合は、滅菌して再利用することもある。まさにそのような状況となった2020年コロナウイルス感染症大流行時の日本では、病院でさえ一人あたり1週間に1枚などといった悪条件下での対応を余儀なくされた。\n",
            "防寒対策、花粉症対策、風邪対策、ウイルス対策、防塵などのための一般向けのマスクを家庭用マスクという。空気中を浮遊または漂う感染性ウイルス粒子（エアロゾル）は、ウイルスに感染した人が話したり、呼吸したり、咳をしたり、くしゃみをしたりすると、症状がない人でも放出される。別の人がこれらのエアロゾルを吸い込み、ウイルスに感染する可能性がある。例えば、エアロゾル化したコロナウイルスは、最大3時間空気中に留まる可能性がある。家庭用マスクはその拡散を防ぐのに役立つ。\n",
            "マスクは材質別では、ガーゼタイプと不織布タイプに分けられる。\n",
            "布製マスク（ぬのせいマスク）またはガーゼタイプのマスクは、主に綿織物を重ね合わせたもので古くから広く使われてきた。「布マスク」とも呼ばれる。\n",
            "洗浄して再利用できるため経済的で病原体の飛散防止には一定の効果を発揮するが、後述の不織布タイプに比べ性能が劣るため、世界保健機関では医療従事者の使用を推奨していない。\n",
            "不織布マスク（ふしょくふマスク）は、不織布を使用したマスクで、かつては価格と見た目の違和感から一般的に使用されなかったが、機能付加が容易で使い捨てに対する抵抗感がなくなったことで急速に普及した。\n",
            "マスクは形状別では、平型マスク、プリーツ型マスク、立体型マスクに分けられる。\n",
            "平型マスクは主に綿織物を使用しており（ガーゼタイプが主流）、高い保温性と保湿性を有する。\n",
            "プリーツ型マスクは前面がプリーツ状になっており顔前面にフィットして圧迫感を与えにくい。\n",
            "立体型マスクは人間の顔に合わせてデザインされており顔面に隙間なくフィットする。\n",
            "風邪ウイルスやインフルエンザウイルスは、ウイルス単体での空気感染では感染はしない。体液に含まれたウイルスによる飛沫感染や接触感染によって広がるものである。ただし、間違ったマスクの使用は、かえって感染を拡大させる。\n",
            "WHOインフルエンザ・パンデミック時のガイドライン\n",
            "マスクを着用する場合は、誤った使用による感染拡大を防ぐために、正しい使用法と廃棄が不可欠である。\n",
            "医療用マスク以外による防護（たとえば布マスク、スカーフ、紙マスクなど）については、有効性についての情報は不十分（insufficient）である。それらの材料を用いる場合、使用するたびに家庭用洗剤で徹底的に洗浄すべきである。マスクを外した後の手は直ちに洗うべきである。\n",
            "マスクは着用者の空中浮遊菌やウイルスの粒子の吸入を完全に防ぐことは出来ず、吸入防止用のレスピレーターほどは効果が無いが、関西医科大学やユニチャームの研究グループが行った検証により、マスクの有無でインフルエンザの発症率に優位な差が確認されるなど、一定の予防効果を発揮する。\n",
            "マスクを二重にして着用する二重マスクも国内外で見られる。スーパーコンピューター、富岳のシミュレーションでは、二重マスクによる飛沫拡散の防止効果は限定的であり、正確に着用することがより大切であるとされている。コロナ禍のために、ますます多くの人々が二重マスクを着用している。ハーバード大学医学部によると、これは非常に合理的で有用なコロナ対策である。米国疾病管理予防センターによると、二重マスクはマスク着用者と他の人の両方の保護レベルを大幅に改善した。米国疾病管理予防センターはサージカルマスクの上にぴったりとした布製マスクを着用することを勧めた。\n",
            "その他、サージカルマスクを結び、押し込み、3層フェイスマスクのイヤーループをマスクの端に合わせて結び、不要な素材を折り曲げて端の下に押し込むという「knottingandtucking」と呼ばれる方法を使用してサージカルマスクを調整してぴったりとフィットさせることも、より優れた保護を提供できる。\n",
            "米国疾病管理予防センターの研究室での研究では、二重マスクまたは「knottingandtucking」は、マスキングなしと比較して、エアロゾルの透過と曝露の両方を約95％削減した。\n",
            "日本では、2019年までにマスクの表面に付着させた光触媒で花粉やウイルスを分解する機能を謳うマスクが販売されていた。しかし同年7月、消費者庁は効果が見られないとしてマスクを製造する各社に対し、不当景品類及び不当表示防止法に当たるとして再発防止措置や対策を講じるよう措置命令を出した。これに対して大正製薬は、他社と表示が違うなどとして審査請求を行い対抗している。\n",
            "ガーゼタイプのマスクにもフィルターを組み込んだ製品が登場している。\n",
            "装着している時のフィット感で人気のマスク。ポリウレタンを使用しており、洗って繰り返し使えたり、カラーも複数選べるのが特徴。しかし、エアロゾルを防ぐ性能が不織布マスクと比較して著しく劣り、粒子径の小さいものに対してはほとんど効果がない。そのため、感染症予防の用途には本人や周囲の人達への感染を防止するためにも使用すべきではない。\n",
            "2020年のコロナウイルス感染症の流行までは、一般に日常生活の中でマスクをすることに抵抗がないのは、日本を始めとしたアジア諸国だった。欧米では町中でマスクを着用していると、病人や不審者と見なされることもあった。アメリカでは感染症によりマスクの使用が推奨されるようになっても、人権や差別の経験から着用を拒否する者も一定数存在した。\n",
            "東南アジアや東アジアの都市部では、排気ガスに含まれる粉塵や無舗装道路の土埃を吸わないよう、オートバイに乗るときにマスクをするのが一般的である。「ベトナムマスク」と俗称される布製のマスクが有名で、日本におけるマスクよりもサイズが大きく、顔のほぼ下半分を覆うような形になっている。また、柄物や色物、様々なキャラクター物があり、土産物として購入する観光客も少なくない。\n",
            "乾燥地域や公害がある地域では防塵マスク、寒冷地では防寒マスクとして機能している。\n",
            "スペイン風邪の際にはマスクが使用された。戦前には「竹の花が咲くと流感が流行る」というような俗説があり、こうした噂が出るとマスク使用者が現れた。寺田寅彦は、街にマスク人種と非マスク人種が存在すると記している。戦後になると、大気汚染、学校給食、不良文化などを経て、特に1980年代以降の花粉症の流行からマスクが普及した。\n",
            "また、日本では咳エチケットではなく自己の感染予防のためにマスクを使う習慣がある。東京都心部（※調査地：東京駅前、渋谷駅前）でこの習慣が一般化したのは2000年代以降で、それ以前には、少なくとも東京都心部に限ってではあるが、マスクをしている人はほとんど見かけなかった。それが2018年（平成30年）頃には打って変わって冬場に4割以上の人がマスクをしていたというデータがある。\n",
            "都会でこの習慣が一般化したのは、折からの花粉症の流行に加えて、2002年（平成14年）の重症急性呼吸器症候群(SARS)の世界的流行による予防意識の高まりの影響が指摘されている。2009年の新型インフルエンザの流行では、家庭用マスクの売り上げが急増し、マスクが売り切れる騒ぎが発生していることから、この頃までに予防のためのマスクの使用が定着したものと考えられている。\n",
            "このような習慣は、韓国での風邪予防のためのマスク使用やベトナムでの粉塵を防ぐための使用を除いて、日本以外には見られず、きれいな環境でもマスクを使用するのは、世界的に珍しい。\n",
            "2020年コロナウイルス感染症大流行の流行により急速に普及したことで、各国では使用済み不織布マスクの不法投棄問題が顕在化している。\n",
            "2010年代後半の世界では中華人民共和国（中国）が最大の生産国であった。中国紡績品商業協会によると、2019年には世界の総生産の約5割にあたる約50億枚を生産している。2019新型コロナウイルスによる急性呼吸器疾患の世界的流行によって医療用マスクの需給バランスが大きく崩れた2020年には、パンデミックの発祥地でありながら都市が経済活動を再開できるレベルまでのの抑え込みを早々に成功させた中国は、アウトブレイクを遅れて経験しているさなかの国外での大きな需要を念頭に、経済的および政治的思惑をもって中国は2月から大増産に乗り出し、自動車メーカーなど異業種までもが続々と参入した。3月初旬の時点で1日当たり約1億2000万枚まで増産し、その後も増やしている。中国共産党の機関紙『環球時報』の2020年4月20日付の記事によると、マスクの主要材料であるメルトブロー（英語版）製法の不織布が1トンあたり約1060万円で半年前と比べて約40倍となったが、新規参入が多くなり、200サンプル品のうち2つしか医療用の基準に適合しない場合もあった。\n",
            "新型コロナウイルス対策で必需品となり、ほとんど全てに普及したマスクであるが、それでかえって困った状況に置かれた人々もいる。ろう者などの聴覚障害者や難聴の人々である。彼らの普段のコミュニケーションは手話、聴力のまだ残っている人は補聴器の助けを得れば口話も使えるが、マスクをして口をおおうと不便になる。\n",
            "手話は手の動きだけではなく、口の動きで数字や固有名詞を、あごの動きで肯定か否定かを伝えるように口も活用して伝える。表情も大事であるが、顔の下半分がほとんど覆われていると表情も読めない。\n",
            "口話を使っている人は、音だけでは掴みづらいために、あいうえお（いわゆる母音）の口の形も読み取る読唇術で足りない情報を補って話す。ここでもマスクで口が隠れてると支障をきたす。\n",
            "以下では呼吸用保護具・顔面用保護具の観点での分類を基準に述べる（呼吸用保護具は各種作業、災害時の避難、感染症や花粉症等の予防など幅広い分野で使用されており、その一部は衛生マスクにあたるが、ここでは用途による分類ではなくマスクの構造・機能による分類について述べる）。\n",
            "呼吸用保護具にはろ過式と吸気式がある。\n",
            "作業環境中の空気から有害物質を除去して吸気を供給するタイプの呼吸用保護具。環境空気中の有害物質の種類と影響、作業内容などに応じてマスクの性能等を選択する必要がある。また、面体をもつ呼吸用保護具は接顔部がフィットしている必要があり、面体内圧が陰圧になる防じんマスクや防毒マスクなどでは特に重要になる。\n",
            "作業環境中の空気とは別に独立した供給源から安全な空気を吸気として供給するタイプの呼吸用保護具。\n",
            "なお、酸素供給を目的とする機器に接続したマスクは酸素マスクと称され、医療目的のみならず高山への登山の際などにも用いられる。事故などに備えて航空機（旅客機）に備え付けられてもいる。また戦闘機など一部の航空機のパイロットは常に酸素マスクを着用している。酸素ではなく圧搾空気等を密閉したマスク内に送気する作業用マスク（防護マスク）もある。\n",
            "顔面用保護具として、飛来物や飛沫から顔面全体を保護するための防災面や、熱作業現場で顔面を保護するための防熱面などがある。\n",
            "アスベスト用防塵マスク\n",
            "溶接作業とマスク\n",
            "空気清浄機能を備えた「レスピレーター」\n",
            "この節には複数の問題があります。改善やノートページでの議論にご協力ください。\n",
            "以下は、上記以外のマスクについて述べる。\n",
            "ダイビングマスク（英:divingmask,divemask）とは、簡単な水遊びにも用いられる水中眼鏡/水中めがね（水泳など水中活動対応型のゴーグル。英:underwaterglasses）よりやや複雑な構造をしており、水中での眼の保護と視覚の補正という水中眼鏡の機能に加えて、鼻から呼吸器系への水の進入を防ぐ機能をもつものをいう。日本語では「水中マスク」あるいは外来語で「ダイビングマスク」という。\n",
            "単に潜水するだけなら口で呼吸する必要は無く、息が続く限りで活動するのみであり、また、水中での視界を確保するだけなら水中眼鏡で事足りるため、古代より生業として続けられている素潜り漁などは現代でも水中眼鏡を使うようであるが、スポーツ化した素潜りでは水中マスクが使われることが多い。潜水中でも水上の大気を取り込んで呼吸できるスノーケル（シュノーケル）を併用することで潜水時間を引き延ばせる。また、レギュレーターを通してスクーバタンクと口を繋げるスクーバ（スキューバ、水中肺、自給気式水中呼吸装置）を使えば、潜水者はスノーケリング（シュノーケリング）では実現できない高度な潜水活動が可能となるが、水中マスクがあることで初めて安定的に使用することができる。眼・鼻だけでなく口まで覆ってしまうフルフェイス型の水中マスク「ダイビングフルフェイスマスク（英:divingfullfacemask）」もあるが、このタイプは、マスクと一体化しているスノーケルか、スクーバが欠かせない。フルフェイス型でない、口を覆わない旧来型は「ダイビングハーフマスク（英:divinghalfmask）」と呼ばれる。\n",
            "ウィンタースポーツの競技者や愛好者にとって防寒は切実な問題である。また、無防備なままでは強風に顔を肌を曝すことになるオートバイや自転車の競技者や愛好者、そしてランニングでトレーニングを行う競技者やジョギング愛好者なども、防風・防寒の意味でも先述の防寒用フェイスマスクのような用品を期待するが、同時に屋外の塵・花粉・排気ガス・細菌・ウイルスなどを防ぐ衛生マスクの機能や、紫外線カット機能、転倒などによる物理的トラブルから顔を守る機能を期待したりもする。そして何よりも第一に、激しく運動するなかでもずれたりしない確かな装着感が重要視される。こういった運動従事者の需要の一部あるいは全てにフォーカスした商品として、「スポーツマスク」と総称されるマスクが2010年代に普及してきた。マスクに付いている呼吸気調整バルブを操作して低酸素トレーニングができるフィットネス用や、鼻から下を硬質素材で防御したもの、首元から頭まですっぽり覆ってしまえる一体化は防寒タイプと紫外線遮断タイプがあるなど、様々なタイプが開発されている。\n",
            "野球のキャッチャーマスク（旧来型）\n",
            "マスク一体型ヘルメットを被ってプレイ中の野球のキャッチャー\n",
            "マスクを被ってプレイ中の野球の球審\n",
            "フェンシングフェイスマスクを横から見たところ\n",
            "ヘルメットとフェイスマスクゴーグルを装着して走行中のモトクロス選手\n",
            "上述のスポーツマスクとは全く異なるものとして、危険を伴うスポーツや武道などを行う者が顔面を物理的に防御するための、ほぼそれのみに特化した用具（フェイスガード、顔面用のプロテクター）も、「マスク」と呼ばれる場合がある。いずれも、競技などに伴う顔や頭への道具やその他の予期しない飛来物や他者の直撃を防いだり、加わった衝撃を軽いものに留めることを目的として使用される。\n",
            "野球やソフトボールにおける捕手のマスク（キャッチャーマスク、英:catcher'smask,catchermask■上に画像あり）とマスク一体型ヘルメット（英:catcher'smaskandhelmet,catchermaskandhelmet■上に画像あり）、同じく球審のマスク（アンパイアマスク、英:umpiremask■上に画像あり）とマスク一体型ヘルメット、フェンシングの金網マスク（フェンシングフェイスマスク、フェンシングギアマスク、英:fencingfacemask,fencingmask,fencinggearmask■上に画像あり）、1927年から1977年にかけてアイスホッケーで広く使用されていた白塗りの仮面「ゴールテンダーマスク（英:goaltendermask.cf.en■右側に画像も参照）」、オフロード系のオートバイ競技などの選手がヘルメットとセットで着用するゴーグル一体型のフェイスマスク（■上に画像あり）などを、代表的な例として挙げることができる。なお、アイスホッケーのゴールテンダーマスクが姿を消したのは、ケージ型のフェイスガードとヘルメットを組み合わせたケージヘルメットコラボマスク（英:cagehelmetcombomask■右側に画像あり）が1970年代に開発されて次第に普及していったことによる。いくつかの名称をもつ後者もこの例では一応「マスク」の名をもつ。ただ、ケージの部分は「フェイスマスク」とも呼ばれている。パラアイスホッケーでもアイスホッケーのと同様のヘルメット一体型が使用されている。\n",
            "「マスク」とは呼ばないが、剣道・なぎなたにおける面、アメリカンフットボールのヘルメットなども目的は同じである。ボクシングや各種格闘技の練習時に用いるヘッドギアにも、顔面を保護するフルフェイスタイプがあり、これもマスクといえなくはない。\n",
            "21世紀初頭の野球用マスクは一般にクロムモリブデン鋼など金属製のガードが用いられるが、軟式野球においてはポリカーボネートなどの硬質プラスチック製も公認されている。また、内野手の守備練習用としてセーフティーマスク（ディフェンスマスク）もある。球審用のマスクにいたってはチタンフレームのマスク（主に硬式用マスク）もある。\n",
            "主よ、あなたはわが神、わたしはあなたをあがめ、み名をほめたたえる。あなたはさきに驚くべきみわざを行い、いにしえから定めた計画を真実をもって行われたから。\n",
            "あなたは町を石塚とし、堅固な町を荒塚とされた。外国人のやかたは、もはや町ではなく、とこしえに建てられることはない。\n",
            "それゆえ、強い民はあなたを尊び、あらぶる国々の町はあなたを恐れる。\n",
            "あなたは貧しい者のとりでとなり、乏しい者の悩みのときのとりでとなり、あらしをさける避け所となり、熱さをさける陰となられた。あらぶる者の及ぼす害は、石がきを打つあらしのごとく、かわいた地の熱さのようだからである。あなたは外国人の騒ぎをおさえ、雲が陰をもって熱をとどめるようにあらぶる者の歌をとどめられる。\n",
            "万軍の主はこの山で、すべての民のために肥えたものをもって祝宴を設け、久しくたくわえたぶどう酒をもって祝宴を設けられる。すなわち髄の多い肥えたものと、よく澄んだ長くたくわえたぶどう酒をもって祝宴を設けられる。\n",
            "また主はこの山で、すべての民のかぶっている顔おおいと、すべての国のおおっているおおい物とを破られる。\n",
            "主はとこしえに死を滅ぼし、主なる神はすべての顔から涙をぬぐい、その民のはずかしめを全地の上から除かれる。これは主の語られたことである。\n",
            "季語としてのマスクは、現代人が一般的に用いる冬季の防寒・防疫用のマスクを指す。全く同じ形のマスクでも花粉症対策や防塵対策に用いる場合、それは季語として扱えず、あくまで防寒・防疫を目的として冬季に用いるマスクのみ該当する。すなわち、マスクは三冬（初冬・仲冬・晩冬の3か月）の季語である。分類は人事/行事/生活。親季語や子季語は無い。\n"
          ]
        }
      ]
    },
    {
      "cell_type": "code",
      "metadata": {
        "id": "uc3NY-0-SWS0",
        "colab": {
          "base_uri": "https://localhost:8080/"
        },
        "outputId": "d7ef5042-2b67-498a-ce7b-664e081d4c3f"
      },
      "source": [
        "!pip install sentencepiece"
      ],
      "execution_count": null,
      "outputs": [
        {
          "output_type": "stream",
          "name": "stdout",
          "text": [
            "Collecting sentencepiece\n",
            "  Downloading sentencepiece-0.1.96-cp37-cp37m-manylinux_2_17_x86_64.manylinux2014_x86_64.whl (1.2 MB)\n",
            "\u001b[K     |████████████████████████████████| 1.2 MB 5.4 MB/s \n",
            "\u001b[?25hInstalling collected packages: sentencepiece\n",
            "Successfully installed sentencepiece-0.1.96\n"
          ]
        }
      ]
    },
    {
      "cell_type": "code",
      "metadata": {
        "id": "P7GpQukzj-KY"
      },
      "source": [
        "import sentencepiece as spm\n",
        "\n",
        "spm.SentencePieceTrainer.Train(\n",
        "    '--input=savior.txt, --model_prefix=sentencepiece --character_coverage=1.0 --vocab_size=2000'\n",
        ")"
      ],
      "execution_count": null,
      "outputs": []
    },
    {
      "cell_type": "code",
      "metadata": {
        "id": "jB92i4zPSAAB",
        "colab": {
          "base_uri": "https://localhost:8080/"
        },
        "outputId": "f69095f7-c87a-492f-f287-2a71ae4221d8"
      },
      "source": [
        "sp = spm.SentencePieceProcessor()\n",
        "sp.Load(\"sentencepiece.model\")\n",
        "print(sp.EncodeAsPieces(\"デキサメタゾンが新型コロナに有効である可能性が示唆されており、アビガンやレムデシビルとともに救世主となるかが期待される。\"))"
      ],
      "execution_count": null,
      "outputs": [
        {
          "output_type": "stream",
          "name": "stdout",
          "text": [
            "['▁', 'デキサメタゾン', 'が', '新', '型', 'コ', 'ロ', 'ナ', 'に', '有効', 'である', '可', '能', '性', 'が', '示', '唆', 'されており', '、', 'アビガン', 'や', 'レムデシビル', 'と', 'と', 'も', 'に', '救', '世', '主', 'となる', 'か', 'が', '期', '待', 'される', '。']\n"
          ]
        }
      ]
    },
    {
      "cell_type": "markdown",
      "metadata": {
        "id": "Mv4kcnZbYzVf"
      },
      "source": [
        "# 第５章　単語ベクトル"
      ]
    },
    {
      "cell_type": "markdown",
      "metadata": {
        "id": "hw23iIApsGMd"
      },
      "source": [
        "## 40：WikiPediaの分かち書き"
      ]
    },
    {
      "cell_type": "code",
      "metadata": {
        "id": "-H9KjixGXGNc",
        "colab": {
          "base_uri": "https://localhost:8080/"
        },
        "outputId": "87c807fc-096f-4291-d414-0aa87a186f1a"
      },
      "source": [
        "with open(\"savior.txt\", \"r\") as f:\n",
        "  l = []\n",
        "  for line in f:\n",
        "    pieces = sp.EncodeAsPieces(line)\n",
        "    l.append(pieces)\n",
        "print(l[0])"
      ],
      "execution_count": null,
      "outputs": [
        {
          "output_type": "stream",
          "name": "stdout",
          "text": [
            "['▁', 'デキサメタゾン', '(', '英', ':', 'D', 'e', 'x', 'a', 'm', 'e', 't', 'h', 'a', 's', 'on', 'e', ')', 'は', '、', 'ス', 'テ', 'ロ', 'イ', 'ド', '系', '抗', '炎症', '薬', '(', 'S', 'A', 'ID', ')', 'の', '一', 'つ', 'である', '。', '炎症', 'の', '原', '因', 'に', '関', '係', 'なく', '炎症', '反応', '・', '免', '疫', '反応', 'を', '強', '力', 'に', '抑', '制', 'する', '。', '急', '性', '炎症', '、', '慢', '性', '炎症', '、', '自', '己', '免', '疫', '疾', '患', '、', 'ア', 'レ', 'ル', 'ギ', 'ー', '性', '疾', '患', 'などの', '際', 'に', '使用される', '。', '内', '服', '薬', 'の', '商品名', 'デ', 'カ', 'ド', 'ロ', 'ン', '。', 'ス', 'テ', 'ロ', 'イ', 'ド', '外', '用', '薬', 'として', '使われ', '、', '日本での', '格', '付け', 'で', '5', '段', '階', '中', '2', '-', '3', 'の', 'スト', 'ロ', 'ング', 'と', 'ミ', 'デ', 'ィ', 'ア', 'ム', 'の', '医薬品', 'がある', '。', 'デキサメタゾン', 'は', '19', '5', '7', '年に', '発', '見', 'された', '。', 'WHO', '必', '須', '医薬品', 'モ', 'デ', 'ル', '・', 'リ', 'スト', 'に', '収', '載', 'されている', '。']\n"
          ]
        }
      ]
    },
    {
      "cell_type": "markdown",
      "metadata": {
        "id": "SlivLiHOumPm"
      },
      "source": [
        "##４１：前処理"
      ]
    },
    {
      "cell_type": "markdown",
      "metadata": {
        "id": "Au-FBPqqB_Ln"
      },
      "source": [
        "### １）単純forループによる実装"
      ]
    },
    {
      "cell_type": "code",
      "metadata": {
        "id": "67gGWdQ4sXly",
        "colab": {
          "base_uri": "https://localhost:8080/"
        },
        "outputId": "fdf61685-9281-4965-96f9-144d78350310"
      },
      "source": [
        "res = []\n",
        "l1 = l\n",
        "for l2 in l1:\n",
        "  tmpl = []\n",
        "  for c in l2:\n",
        "    if len(c) != 1:\n",
        "      tmpl.append(c)\n",
        "  res.append(tmpl)\n",
        "print(res)"
      ],
      "execution_count": null,
      "outputs": [
        {
          "output_type": "stream",
          "name": "stdout",
          "text": [
            "[['デキサメタゾン', 'on', '炎症', 'ID', 'である', '炎症', 'なく', '炎症', '反応', '反応', 'する', '炎症', '炎症', 'などの', '使用される', '商品名', 'として', '使われ', '日本での', '付け', 'スト', 'ング', '医薬品', 'がある', 'デキサメタゾン', '19', '年に', 'された', 'WHO', '医薬品', 'スト', 'されている'], ['デキサメタゾン', 'エリキシル', 'または', 'その', 'でも', 'である', 'には', 'った', 'ーション', 'があり', 'リー', 'ーション', 'である'], ['では', '日本での', '付け', 'スト', 'ング', 'では', 'デキサメタゾン', '商品名', 'デキサメタゾン', 'では', 'デキサメタゾン'], ['▁日本では', '19', 'mg', '販売', '200', '防止', '対策', 'から', 'mg', '販売名', '承認', 'EC', '10', 'を持つ', 'であり', '10', 'また', '10', '後に', '開発', 'された', 'という', 'られた', '200', '投与', '症状', '追加', 'となった'], ['▁20', '10', '11', '株式会社', 'から', '株式会社', '製造', '販売', '承認', 'された', '20', '10', '治療薬として', '株式会社', 'から', 'mg', 'された', '治療薬', 'である', 'en', 'al', '併用', 'する', 'デキサメタゾン'], ['する', '20', '14', '20', 'mg', '販売', '開始した'], ['19', 'デキサメタゾン', 'ール', 'など', 'した', 'エリキシル', '、「', 'エリキシル', 'として', '販売', '200', '20', '、「', 'エリキシル', 'され', 'された'], ['19', 'デキサメタゾン', '承認', 'った', '200', '販売名', 'から', 'mg', 'mg', 'mg', '、201', 'より', 'ジャ', '株式会社', '販売', 'を受け'], ['19', 'デキサメタゾン', 'リー', '%)', '19', 'ーション', 'から', '販売', '開始された', '後発医薬品', '販売', 'されている'], ['多くの', '重症', 'など', 'である', 'など', '抗生物質', '併用', 'される', 'では', 'より', 'である', 'など', '併用', 'される', '早期', 'に対して', 'ために', '用いられる', 'また', '投与', '時に', 'に対して', 'される'], ['および', '重症', '感染症', '投与', '症状', '科疾患', '科疾患', '科疾患', '科疾患', '科疾患', '科疾患', '科疾患', '科疾患', 'がある'], ['デキサメタゾン', '効果', 'の場合', '日以内に', '見られ', '程度', 'する'], ['▁デキサメタゾンは', '多くの', '炎症', 'などの', '英語版', 'の治療に用いられ', '減少', 'による', '減少', 'である', '40', 'mg', '日間', '投与', '14', '治療', 'できる', 'の場合', '他の', 'と比較して', 'デキサメタゾン', 'ではない'], ['らず', '等の', '英語版', '後に', 'ために', '使用される'], ['治療薬として', 'される', '併用', 'される'], ['の治療に', '用いられる'], ['英語版', '用いられる', '抗生物質', '併用', 'がある', '米国', 'では', '英語版', '治療薬として', 'デキサメタゾン', '体内', '承認', 'されている'], ['▁デキサメタゾンは', 'メーカー', '炎症', '反応', 'する', 'ために', '用いられる', 'メーカー', 'する', '炎症', 'して', 'ング', 'する', 'この', '時の投与量', '通常', 'mg', 'である'], ['細菌', '症例', 'に対して', '抗生物質', '投与', 'デキサメタゾン', '使用される', 'この', '場合は', '抗生物質', 'した', '細菌', '炎症', 'して', '患者に', 'に対する', '反応', 'する'], ['を受け', 'ている', '患者', 'に対して', '副作用', '治療', '予防', '目的', 'として', 'デキサメタゾン', '投与', 'される', 'デキサメタゾン', '等の', '英語版', 'する'], ['に対して', '治療', 'ために', 'デキサメタゾン', '使用', '他の', 'への', '英語版', 'している', '場合に', '使用される'], ['▁デキサメタゾンは', '英語版', '特に', '治療薬として', 'または', '併用', 'など', 'として', '用いられる', 'シン', '併用', 'される'], ['▁デキサメタゾンは', 'である', 'の治療に', '使用される'], ['の場合', '効果が', '時に', 'デキサメタゾン', '使用される'], ['から', 'に対して', '産生', 'する', 'ために', '用いられる', 'この', '場合は', '通常', '投与', 'する'], ['▁デキサメタゾンは', 'ある', 'に対して', 'ために', '投与', 'される', 'これ', 'により', '増加', 'する', '死亡', '増加', 'しない'], ['デキサメタゾン', '使用', 'として', 'CAH', '症状', '治療', 'への', '使用', 'がある', 'CAH', 'となる', '特に', 'すべき', 'もの', 'である', '早期', 'から', 'CAH', '治療', 'する', 'CAH', '症状', 'できる', '的な', '治療', 'できない'], ['デキサメタゾン', '投与された', '小児', 'への', '長期', '臨床試験', 'された', '患者', 'ない', '高い', '結果', 'とは', 'され', 'ない', 'デキサメタゾン', '投与', 'CAH', 'って', '実施', 'される', 'コン', 'ント', 'されて', 'ている'], ['▁デキサメタゾンは', '英語版', '英語版', 'の治療に用いられ', 'する', '者の', '治療', '使用される'], ['デキサメタゾン', '併用', 'する', '用いた', 'よりも', '予防', '効果が', '高い'], ['ード', '大学', '行った', '臨床試験', 'では', 'デキサメタゾン', '新型コロナウイルス感染症', '2019', '確認', '患者に', '投与', 'した', '結果', '呼吸', '患者', 'マスクを', '供給', 'した', '患者', '20', '死亡', 'った', 'この', '結果', 'を受け', 'イギリス', 'デキサメタゾン', '感染症', '治療薬として', '承認', 'した', '日本', 'でも', '20', '20', '21', '日に', 'レムデシビル', '効果が', 'され', '国内', '使用', 'が認められた', '治療薬', 'となった'], ['感染症', 'ある', 'または', 'への', '投与', 'されている'], ['その', 'ほか', 'として', 'されている'], ['米国', '文書に記載', 'されている'], ['である'], ['副作用', 'として', '機能', 'ング', 'など', 'がある', '長期', '使用', '時に', '減少', 'する', '米国', '分類', 'である', 'では', 'され', 'ない', 'である', 'には', 'すべき', 'ない'], ['副作用', 'として', '感染症', '感染症', '機能', 'および', '等の', 'がある', 'である', 'のみ'], ['デキサメタゾン', '副作用', '発現', 'ていない', '文書に記載', 'されている', '副作用', 'もの', 'である', 'から', 'された', '発現', '文書に記載', 'されている'], ['一般', '的な', '副作用'], ['副作用'], ['では', '高い', 'では', '長期', 'しない', 'よう', 'への', 'スト', 'ング', '使用', 'され', '以下', 'される', 'あるいは', 'では', 'する', 'がある'], ['長期', '後に', 'する', '症状'], ['について', 'によれば', '医師', '患者', 'って', 'らず', '使用', 'すべき', 'ではない'], ['する', '薬物', 'として', 'もの', 'られ', 'ている'], ['▁デキサメタゾンは', 'グラ', 'シュ', 'ていない', '増加', 'である', 'ために', '使われ'], ['▁デキサメタゾンは', 'スポーツ', 'ング', '指定', 'されている', '20', '14', '11', '世界', 'ント', 'リー', 'デキサメタゾン', '反応', 'ために', '世界', 'ント', 'から', 'を受け', '薬物', '使用', 'している'], ['シン', '英語版', 'および', 'クロ', 'ール', '組み合わせ', 'デキサメタゾン', '等の', '感染症', 'の治療に用いられ', 'クロ', '組み合わせ', 'および', 'の治療に用いられ'], ['レムデシビル', 'ir', '開発', 'ード', '商品名', 'リー', 'ウイルス', 'ギリアド', '開発', 'エボラ出血熱', '及び', 'ール', 'ウイルス', '感染症', '治療薬として', 'だけ', 'なく', 'RNA', 'ウイルス', 'ウイルス', 'ウイルス', 'ウイルス', 'ウイルス', 'ンド', 'ウイルス', 'および', 'SARS', 'ウイルス', 'を含む', 'コロナウイルス', 'に対して', 'ウイルス', 'ことが', 'された'], ['により', '2019', '新型コロナウイルス', 'SARS', 'CoV', '-2', '2019', 'CoV', 'を含む', 'コロナウイルス', 'および', 'ウイルス', 'ンド', 'ウイルス', '感染症', 'ウイルス', 'となった'], ['15', '24', 'on', 'である'], ['▁201', '10', 'アメリカ', '感染症', '医学', '研究所', 'USAMRIID', 'エボラ', 'ウイルス', 'した', 'という', '結果', '発表した', 'エボラ', 'ウイルス', '流行', '、201', 'から', '20', '16', 'まで'], ['200', 'から', 'USAMRIID', '研究', 'ている', 'ar', 'en', 'この', '研究', 'USAMRIID', 'ギリアド', '的な', 'の結果', 'である', 'ている', 'ウイルス', 'を持つ', 'るため', 'ギリアド', 'リー', '用いた', '初期', 'リー', 'ング', 'アメリカ疾病予防管理センター', '科学', 'によって', '行われた'], ['その', '研究', 'の結果', '的な', '治療薬として', '開発', 'する', 'である', 'され', '、201', '10', '日から', '11', 'まで', 'コン', 'ター', '英語', 'an', 'on', 'en', 'on', 'en', 'された', 'アメリカ', '感染症', '英語', 'ID', 'ID', '発表', 'された'], ['エボラ', '研究', 'アメリカ', 'レベル', 'である', '施設', 'である', 'USAMRIID', '研究所', '実施', 'された', 'この', '研究', 'アメリカ', 'および', '対策', 'から', '資金', 'を受け', 'ている'], ['研究', 'レベル', 'では', 'レムデシビル', 'SARS', 'CoV', 'CoV', 'を含む', 'ウイルス', 'に対して', '効果', 'である', 'ことが', 'されている', 'この', '、201', 'から', '20', '16', 'エボラ', 'ウイルス', '流行', '感染', '治療', 'する', 'ために', 'された', 'である', 'ことは', 'した', 'エボラ', 'に対して', '効果', 'では', 'なかった'], ['レムデシビル', '、201', 'から', '20', '16', 'エボラ', 'ウイルス', '流行', 'ために', '臨床試験', 'られ', 'まだ', '初期', '開発', 'にもかかわらず', 'なく', '患者に', '投与された', '的な', '結果は', 'であり', '、201', '年に', 'った', 'コン', 'エボラ出血熱', '流行', '中で', '病院', '治験', '2019', 'まで', '使用', 'された', 'コン', '保健', 'によると', 'クロ', '治療', '14', 'など', 'その', '有効性', 'かった', 'しかし', 'この', '試験', '投与', 'によって', '安全性', 'ファ', 'された'], ['レムデシビルの', 'である', '15', '24', 'コロナウイルス', 'の治療に', 'である'], ['▁20', '20', 'アメリカ', 'コンパッショネート', '使用', 'めた', 'であり', '日本', 'では', '承認', '制度', '、20', '20', '日に', '正式に', '新型コロナウイルス感染症', 'OV', 'ID', '-19', 'への', '治療薬として', '世界', '承認', 'された', 'により', '10', '日間', '投与', 'する'], ['2019', '新型コロナウイルス', 'SARS', 'CoV', '-2', 'によって', '起こ', 'された', '新型コロナウイルス感染症', '流行', '対応', 'して', 'ギリアド', '中国', '医療機関', 'して', 'その', '効果', '研究', 'する', 'ために', '患者', 'レムデシビル', 'した', 'ギリアド', '新型コロナウイルス感染症', 'に対する', 'レムデシビルの', '開始した', 'ギリアド', 'レムデシビル', 'SARS', 'および', '実験', '有効', 'である', 'ことが', 'された', ')」', 'と述べた'], ['▁20', '20', '新型コロナウイルス', '感染', 'している', 'ことが', '確認', 'された', '米国', '患者に', '承認', 'コンパッショネート', '使用', 'として', '投与された', '肺炎', 'した', '投与', 'った', '患者', '的に', '改善', '的に', 'した', 'ただし', 'この', '薬物', '効果', 'による', 'ものである', 'する', 'ことはできない'], ['中国', '医学', '研究', '30', '薬剤', 'した', '研究', 'のうち', 'レムデシビル', 'クロロキン', 'レベル', '新型コロナウイルス', 'に対し', 'なり', '効果', 'がある', 'ir', 'in', 'bi', ')」', '報道', 'に対し', '発表した'], ['日に', 'である', 'ar', '中国', '科学', '武漢', 'ウイルス', '研究所', 'など', 'の研究グループが', '発表した', 'ター', '論文', 'によれば', 'invitro', '試験', '環境', 'レムデシビル', 'を含む', '新型コロナウイルス', 'に対する', 'ウイルス', '効果', '50%', '効果', 'EC', '50', 'として', '評価', 'する', '試験', 'たところ', 'レムデシビルの', 'EC', '50', 'ol', 'であり', 'された', 'のうち', 'では', '高い', '効果', 'していた'], ['中国', 'レムデシビルの', '臨床試験', '開始された'], ['15', '日付けの', '科学技術', 'invitro', '試験', 'の結果', 'に基づい', 'レムデシビル', 'にも', 'ファビピラビル', 'クロロキン', '臨床試験', '開始した', 'と発表した'], ['12', '日に', '米国', '研究', 'する', '的な', '研究チーム', 'である', 'OV', 'ID', '-19', 'on', 'ント', 'した', '論文', 'によれば', '、1', '20', '日から', '日に', 'アメリカ疾病予防管理センター', 'により', '新型コロナウイルス', 'への', '感染', 'した', '米国', 'における', '12', '人の患者', 'について', 'たところ', '12', '人の患者', 'のうち', '人が', '入院', '治療', 'を受け', 'さらに', 'この', 'に対して', 'レムデシビル', '投与', 'され', 'ていた', '研究チーム', 'レムデシビルの', '投与', 'コン', 'ール', 'された', 'ラン', '対照', '試験', '行われた', 'もの', 'ではない', 'その', '治療効果', 'については', '評価', 'できない', 'している', 'レムデシビルの', '副作用', 'については', 'これを', '投与された', '人の患者', 'を含む', '治療', 'を受け', '人の患者', 'ラン', 'ファ', 'AST', 'および', 'ALT', '見られ', 'これ', 'レムデシビルの', 'については', 'ていない', 'グラ', 'から', 'があり', 'のみ', '14', '日付けの', '米国', 'ol', 'en', 'によれば', 'この', '論文', 'されている', 'レムデシビルの', '副作用', 'である', 'レムデシビルの', 'ない', 'ほど', 'である', 'している', 'ただし', 'en', 'によれば', 'この', '臨床試験', 'において', 'レムデシビル', '投与群', 'それ', '患者', 'ラン', 'された', 'ではない', 'レムデシビルの', '副作用', '判断する', 'である', 'ている'], ['10', '医学', 'ニュー', 'グラ', 'ンド', 'ジャ', 'メディ', 'シン', '発表', 'された', 'ギリアド', '資金', 'レムデシビルの', '臨床研究', 'を実施し', '研究', 'した', '論文', 'on', 'ir', 'en', '-19', 'によれば', 'レムデシビルの', '重症', 'のコロナ肺炎患者', 'への', 'コンパッショネート', '臨床試験', 'データ', 'たところ', '人の患者', '%)', '患者', '呼吸', '機能', '改善', '見られ', 'している', '重症患者', 'のうち', 'EC', 'または', '呼吸', '使用', 'それ', '19', 'であった', 'として', 'により', '200', 'mg', 'それ', '10', 'mg', '10', '日間', '投与', 'であった', '改善', 'について', '呼吸', '機能', 'のみ', 'したもの', 'であり', '改善', 'など', 'については', 'られ', 'ていない', 'この', '臨床試験', 'まで', 'コンパッショネート', 'であり', '二重盲検', 'ラン', '投与群', '対照群', 'を投与する', 'する', '対照', '試験', 'ではない', '現在', 'この', 'ような', '対照', '試験', '実施', 'であり', 'さらに', 'られる', 'であろう', 'がある', '12', '発表', '論文', 'でも', 'され', 'ていた', 'ALT', 'AST', '対象', 'でも', '12', '23', '%)', '患者', '認められ', 'これを', '副作用', 'が認められた', '患者', '0%', 'であった'], ['23', '米国', '医学', '報道', '報道', 'によれば', 'ギリアド', '中国', '実施', 'していた', 'レムデシビルの', 'による', '初期', '臨床試験', '報告', 'って', '世界', '保健', 'WHO', 'され', 'された', 'していた', 'この', 'によれば', 'コロナ肺炎', '患者', '23', 'のうち', '15', 'レムデシビル', '投与群', '対照群', '投与', 'として', '試験', 'を実施し', 'たところ', '死亡', 'レムデシビル', '投与群', '13', '対照群', '12', '.8%', 'であり', '見られ', 'なかった', '報告', 'している', '同日', 'された', 'から', 'レムデシビルの', '初期', '臨床試験', 'った', 'ると', '製造', 'メーカー', 'である', 'ギリアド', '6%', 'ギリアド', 'なく', 'られた', '治験', 'であり', '結果は', 'ではない', 'した'], ['30', '日に', 'ギリアド', 'リー', 'レムデシビルの', '報告', 'した', '試験', 'において', 'レムデシビル', 'プラセボ', 'と比較して', 'まで', '期間', '11', '15', 'また', '14', '日目', '時点で', '死亡', '改善', 'あった', '.1%', '11', '%)', 'また', '試験', 'において', 'レムデシビルの', '日間', '投与', '10', '日間', '投与', 'され', '有効性', 'なかった'], ['12', '日に', '日本での', 'への', '供給', '開始した', 'ことが', 'により', '発表', 'された'], ['ギリアド', 'を持つ', '患者', 'あたり', '23', '40', 'する', 'と発表した', '当たり', '的な', '治療', 'では', '日間', '投与', 'される', '米国', 'では', 'この', '評価', 'された', 'では', '10', 'mg', 'レムデシビル', 'an', 'ar', 'al', '米国', 'または', 'in', 'Ltd', 'スト', 'リー', '製造', 'した', 'クロ', 'スト', '商品名', 'ol', 'または', 'ol', 'として', 'あるいは', '使用', 'されている'], ['10', '17', 'WHO', '治験', 'の結果', 'レムデシビル', '新型コロナウイルス', '効果が', 'なかった', '的な', '研究', '結果', '発表', '11', '20', '副作用', 'への', 'から', '新型コロナウイルス', '患者', 'に対して', '使用', 'しない', 'ことを', 'した', '厚生労働省', '時点で', '承認', '考え', 'らず', 'によると', 'として', '重症患者', '投与', 'する', 'されて', '時に', 'WHO', 'した', 'データ', '追加', 'など', 'する'], ['12', '10', 'ニュー', 'ウイルス', 'した', 'レムデシビル', 'した', '発表', 'した'], ['レムデシビル', '体内', 'を受け', 'その', '15', '24', '三リン酸', '15', '24', '三リン酸', 'ウイルス', 'RNA', 'ウイルス', 'による', 'すること', 'する', 'シン', 'シン', 'であり', 'ウイルス', 'RNA', '産生', '減少', '起こ', 'RNA', '合成', '起こ', 'である'], ['部分', '起こ', 'マウス', 'ウイルス', 'RNA', '20', '18', '年に', '確認', 'された', 'これら', 'した', '薬剤', 'ない', '環境', 'において', 'って', 'なく', 'であろう', '研究', '考え', 'ている'], ['シン', 'en', 'in', 'an', 'al', 'an', 'al', '分類', 'される', 'ウイルス'], ['ワクチン', 'in', 'in', '感染症', '予防', 'に用いる', '医薬品', '病原体', 'から', 'られた', 'あるいは', '弱毒化', 'された', '抗原', 'その', 'もの', 'または', '病原体', 'された', 'RNA', '合成', 'したもの', 'ワクチン', 'によって', '発現', 'された', 'タンパク質', 'ワクチン', 'など', 'を投与する', 'ことで', '体内', '病原体', 'に対する', '産生', '感染症', 'に対する', 'する'], ['ワクチンは', '感染症', '予防', 'において', '的な', 'であり', '世界', 'ワクチンの', '予防接種', '行われ', 'ている', 'ワクチンは', '抗生物質', 'ない', 'ウイルス', '感染症', '効果', 'がある', '細菌', '感染症', 'している', '薬剤', 'への', '対策', '予防', '医学', 'において', '特に', 'されている', '予防', '感染', '者の', '治療', 'よりも', '効果が', '高い', 'ため', 'ワクチン', '予防', 'できる', '病気', 'ワクチン', '予防', 'すること', 'されており', 'アメリカ', 'など', 'では', 'この', '考え'], ['感染症', '流行', '地域', 'する', 'には', '感染症', 'ワクチン', '接種', 'されており', '特に', 'ワクチン', 'に関して', 'して', '接種', 'ード', '接種', 'する'], ['ワクチン', 'という', 'する', '世界', 'ワクチン', 'である', '天然痘', 'ワクチン', 'から', 'られた', 'ため', 'この', 'られた', 'イギリス', '英語', '英語', 'アメリカ', '英語', '英語', 'である', '日本', 'ワクチンは', 'ドイツ', 'している'], ['天然痘', 'かった', '感染', 'しない', 'ことは', 'から', 'られ', 'ていた', 'この', 'ため', '弱毒化', 'した', '天然痘', '接種', 'して', '天然痘', '感染', 'アジア', 'では', '行われ', 'ており', '18', 'には', 'イギリス', 'から', 'った', 'もの', 'とは', '天然痘', 'である', 'ため', '死亡', 'もの', 'とは', 'かった', '18', 'には', '病気', 'である', '感染', 'したもの', '天然痘', 'なく', '軽症', 'になる', 'ことが', '的に', 'られ', 'るようにな', 'てきた', 'これを', 'った', 'イギリス', '医学', 'ード', '17', '年に', '付け', '後に', '天然痘', '接種', 'して', 'これ', 'である', 'ことを', 'した', 'これ', 'ワクチン', 'である', '天然痘', 'ワクチンの', 'となった', '17', '年に', '効果', 'について', '研究', 'して', '1800', 'って', 'こと', 'となった'], ['天然痘', 'ワクチンの', '製造', 'したもの', 'この', 'ほか', '病気', 'とは', '考え', 'られ', 'らず', 'ワクチンは', 'られる', 'ことが', 'なかった', 'しかし', '18', 'ると', '微生物', '中で', 'ール', '予防', '研究', 'この', '中で', '病原体', 'これを', '弱毒化', 'れば', 'その', '接種', 'によって', 'られる', 'ことを', 'めた', 'この', 'ール', '18', '年には', 'ワクチン', '18', '年には', 'ワクチン', '開発', '科学', '的な', 'ワクチン', '製造', 'した', 'これ', 'によって', '感染症', 'に対する', 'ワクチン', 'られ', 'るようにな', 'った'], ['ワクチンの', '予防接種', '多くの', '行われ', '、201', '時点で', '200', 'から', '30', 'っている', 'されている', 'ワクチン', '投与', 'する', '感染症', 'されており', '19', '年に', '開始された', '天然痘', 'では', '患者', 'への', '的な', 'によって', '197', '年に', '19', '80', '年に', '正式に', '確認', 'された', 'した', '感染症', '20', '17', '時点で', '天然痘', 'のみ', 'である', 'など', '感染症', 'ワクチン', '投与', 'による', 'している'], ['ワクチンの', '病気', 'に対する', 'ワクチン', '開発', 'され', 'てきた', 'もの', 'などの', 'よう', 'まだ', 'ワクチンの', 'しない', '病気', 'する'], ['▁20', '20', '年に', '世界', '中で', 'パンデミック', '起こ', 'した', '新型コロナウイルス感染症', 'には', 'ワクチン', 'なかった', 'ため', '世界', 'OV', 'ID', '-19', 'ワクチンの', '開発', 'めた', 'には', 'ワクチンの', '開発', '12', '日に', 'イギリス', 'ファ', 'ワクチンの', '接種', '開始された'], ['▁20', '20', '時点で', '接種', '行われ', 'ている', 'ワクチンは', 'ワクチン', '不活化ワクチン', 'れる', 'OV', 'ID', '-19', 'ワクチンは', 'RNA', 'ワクチン', 'ワクチン', 'など', 'ワクチン', 'とは', '異なる', 'ワクチン', '開発', 'である'], ['めた', '微生物', 'ウイルス', '使用', 'のみ', 'らず', 'できる', 'ため', '不活化ワクチン', '期間', '生産', 'スト', '投与', 'なく', '経済', 'れる', '的な', 'もの', '部分', 'が多い', 'ため', '開発', 'また', 'っている', '病原体', 'ため', 'ワクチン', '感染', 'による', '副反応', '発現', 'する', 'ある', 'している', '場合は', 'ワクチン', '接種', 'して', 'ない', '不活化ワクチン', 'には', 'できない', 'など', '異なる', 'ウイルス', 'にも', 'できる', '産生', 'される'], ['ワクチン', 'とも呼ばれ', '不活化ワクチン', 'など', 'により', 'ウイルス', '細菌', '使用', '効果', 'において', 'である', '抗原', '部分', 'のみ', 'したもの', '不活化ワクチン', 'される', 'こともあ', '以下', 'その', 'られる', 'もの', 'ワクチン', 'より', '副反応', 'なく', '安全性', '高い', 'その', '期間', 'こと', 'があり', 'この', 'ため', '接種', 'が必要', 'もの', 'が多い', 'ワクチン', 'インフルエンザ', 'ワクチン', 'の場合', 'でも', '投与', 'である'], ['では', 'ない', '抗原', '部分', 'だけ', 'では', 'できない', 'この', 'ため', '肺炎', 'ワクチン', 'など', 'ではない', '抗原', 'ワクチン', 'では', '接種', 'する', 'して', '抗原', 'などの', 'されている'], ['また', 'インフルエンザ', 'ワクチン', 'については', '197', '粒子', 'ワクチン', '使用', 'による', '副反応', '死亡', 'あるいは', '重篤な', 'かった', 'こと', 'それ', 'とは', '異なる', '安全性', '高い', 'ワクチン', 'でも', '10', '0%', '発症', 'ことはできない', 'こと', 'から', '接種', 'として', 'する'], ['しかし', 'を持つ', 'など', '人が', 'インフルエンザ', 'した', '場合に', '肺炎', '等の', '重篤な', '入院', '死亡', 'などの', 'する', '効果が', '世界', '的に', '認められ', 'ている', 'これ', '世界', '保健', 'WHO', '世界', '特に', 'に対する', 'インフルエンザ', 'ワクチン', '接種', '的に', 'ている', 'である'], ['日本', '承認', '日本', '国内', '接種', '場合は', '輸入', '医療機関'], ['その'], ['ウイルス', 'ター', 'ワクチンは', 'ウイルス', '使用', 'して', '病原体', '体内', 'タンパク質', 'などの', '特定', '抗原', 'して', 'ものである'], ['ある', '病原体', '産生', 'する', 'のみ', 'して', 'など', '抗原', 'のみ', 'したもの', '接種', 'その', 'に対する', 'もの', '病原体', 'その', 'もの', 'する', 'ではない', 'には', 'ワクチン', 'ない', 'という', '考え', 'もある'], ['ウイルス', 'から', '特定', 'タンパク質', 'これを', '投与', 'すること', 'によって', '抗原', 'する'], ['ある', '細菌', 'っている', 'これら', 'タンパク質', 'など', 'こと', 'により', 'タンパク質', '抗原', 'である', 'よう', 'すること', 'できる', 'この', 'インフルエンザ', 'ワクチン', 'されている'], ['ワクチンは', '、「', 'ワクチン', 'とも呼ばれ', '他の', '病原体', 'である', 'ワクチン', 'であり', '治療', '対象', '病気', '起こ', 'ない', '病気', '起こ', '的な', '天然痘', '予防', 'ために', '使用', 'した', 'こと', 'である', '現在', 'では', '予防', 'ために', 'から', 'られた', 'ワクチンの', '使用', 'である'], ['RNA', 'ワクチン', 'または', 'RNA', 'ワクチン', 'ジャ', 'RNA', 'RNA', 'を含む', 'ワクチン', 'である', 'RNA', '保護', 'ことで', 'られる', 'OV', 'ID', '-19', 'パンデミック', 'する', 'ために', '、20', '20', 'から', 'OV', 'ID', '-19', 'ワクチン', 'として', 'RNA', 'ワクチンの', '開発', 'られ', 'ており', 'アメリカ', 'では', 'ワクチン', 'に対して', '使用', 'された'], ['ウイルス', '粒子', 'ir', 'ar', 'ワクチンは', 'ウイルス', 'を持つ', 'ない', 'その', 'ため', '感染', 'しない', '高い', '効果', '有効性', 'できる', 'ワクチン', 'であり', '安全性', '高い', 'される'], ['ワクチンは', '20', '21', '現在', 'されていない', '株式会社', 'である', 'メディ', '新型コロナウイルス感染症', 'OV', 'ID', '-19', 'ワクチン', 'として', 'ウイルス', '粒子', 'ir', 'ar', 'ワクチン', '開発', '-2', '開発', '臨床試験', '承認', 'っている', 'である', '承認', 'され', 'れば', '世界', 'ワクチン', 'となる', '日本', 'でも', '20', 'までに', '承認申請', 'している'], ['多くの', '的な', 'ワクチン', '開発', '中で', '使用', 'されている'], ['ほとんど', 'ワクチンは', '微生物', 'または', '弱毒化', 'られ', 'ている', '合成', 'ワクチンは', 'または', '合成', 'または', '抗原', 'など', 'されている'], ['が多い', '経口', 'ワクチン', 'ウイルス', 'ワクチンの', '経口', 'ワクチン', 'もの', 'また', 'ワクチン', '付け', 'ワクチン', '開発', 'されている', 'ほか', 'ような', '製品', 'もある', 'ワクチンの', '場合は', '接種', 'られる', 'こともあ', 'ほとんど', 'ワクチンは', '接種', '必要となる', 'これは', '接種', 'では', 'それ', 'ほど', 'られる', 'ない', 'の場合', '接種', 'では', 'られる', 'する', 'ター', '効果が', 'るため', 'である'], ['▁日本では', 'ワクチン', '接種', '27', '不活化ワクチン', 'ことが', 'されている', '医師', '認められ', '場合に', '同日', '接種', 'である', '同日', '接種', 'を行う', 'こと', 'によって', '安全性', '効果', 'すること', 'なく', 'また', 'しない', 'ため', '減少', 'などの', 'ット', '同日', '接種', 'されている', '接種', 'できる', 'ワクチンの', 'ない', 'また', '同日', '接種', 'ワクチン', '2.5', 'ことが', 'られる', 'ワクチン', 'して', '接種', 'する', 'ことはできない'], ['WHO', 'アメリカ疾病予防管理センター', 'として', '以下', 'ような', 'ている'], ['その', 'メーカー', '追加', 'ール', '指定', 'すること', 'があり', '経口', '経口', 'ワクチンは', '時間', 'という', 'ール', 'がある'], ['接種', '理論', '接種', 'を受け', 'るため', '者の', 'から', 'ではない'], ['日本', '使用', 'されている', 'ワクチンは', '世界', 'されている', '日本', '通常', '接種', 'されている', '日本', 'ワクチン', 'WHO', 'ワクチン', 'して', '接種', 'など', 'する', '医学', 'されていない'], ['とは', '病原体', '接種', 'する', 'ため', 'ない', '反応', '起こ', 'こと', 'がある', 'もの', 'として', '投与', '症状', 'など', 'がある', 'もの', 'として', '減少', 'など', 'られる', 'ワクチン'], ['ワクチン', '接種', '報告', 'され', 'ウイルス', 'などの', '感染', 'となる', '重篤な', 'これら', 'ワクチンの', '接種', 'によって', '起こ', '炎症', 'ラン', 'など', 'があり', 'ラン', 'では', '報告', 'あった', 'ワクチンは', 'ほか', 'と比較して', 'である'], ['治験', 'では', 'なかった', '副作用', 'される', 'よう', 'される', '時に', '接種', 'ワクチンの', 'れる'], ['▁201', '研究', 'ワクチン', 'であった'], ['ワクチン開発', '弱毒化', 'などの', '研究', '行った', 'による', '臨床試験', 'ない', 'その', 'に分け', '臨床試験', 'を行う', '試験', '後に', 'による', '承認', '行われ', '承認', 'され', 'れば', '生産', '販売', 'この', '承認', '行われ', 'ある', '承認', 'された', 'ワクチン', 'でも', '使用', 'する', '場合に', '必要となる', 'ただし', 'ある', '感染症', '流行', '有効', 'ワクチン', 'しない', '対策', 'として', 'から', 'ワクチン', '輸入', '使用', 'すること', '認められ', 'がある', 'ワクチン開発', 'される', '感染症', '予防', '重症', '効果', '副反応', 'など', 'えた', '安全性', 'して', '開発', '生産', '接種', 'スト', 'する', '経済', 'であり', 'これら', 'のうち', 'でも', 'した', '場合は', 'され', 'ない', 'した', 'がある', 'ため', 'ワクチン開発', '期間', 'でも', '10', '必要となる'], ['ワクチン開発', 'には', '資金', '期間', '接種', 'を行う', '生産', '必要となる', 'ため', 'れた', '開発', '供給', 'する', 'あり', '2019', '年には', 'イギリス', 'グラ', 'アメリカ', 'アメリカ', 'ファ', 'して', 'フランス', 'ワクチン', 'ている', 'これ', 'えた', 'ワクチン', 'メーカー', 'れる', 'ワクチン', 'であり', '、201', '年には', '500', 'っている', 'さらに', 'ている'], ['感染症', 'に対する', 'ワクチン開発', '時間', 'する', 'ため', '流行', 'して', 'する', '資金', 'なく', 'される', 'こと', 'がある', 'グラ', 'では', 'エボラ出血熱', '対応', 'する', 'ワクチン開発', 'てきた', '臨床試験', '時点で', '流行', 'ていた', 'コン', 'であり', 'ター', 'ない', 'として', '開発', 'ワクチン', '2019', 'までに', 'アメリカ', 'した'], ['▁日本では', '18', '年に', 'ット', 'ット', 'リー', '天然痘', '輸入', '的に', 'った', '19', '年には', 'され', '19', '年には', '予防接種', 'されて', '天然痘', '感染症', 'でも', '予防接種', 'された'], ['19', 'った', 'インフルエンザ', 'ワクチンの', '19', '80', 'まで', '報道', 'された', '予防接種', 'による', 'によって', '197', '予防接種', 'され', '制度', 'された', '長期', 'その', '結果は', 'なり', '、「', '予防接種', '効果', 'ない', '副反応', 'する', 'もの', 'という', 'った', 'だけ', 'なく', 'にも', '19', '年には', '予防接種', 'され', 'ワクチン', '接種', 'から', 'られる', 'こと', 'った', 'ただし', '接種', 'として', '行われ', 'ものである', 'ため', '行われ', 'ており', 'ほとんど', 'の場合', 'である'], ['日本', '19', '80', 'まで', '世界', 'ワクチン開発', 'ていた', '副作用', 'による', 'メーカー', '開発', '接種', '的に', 'なり', 'ワクチンの', '開発', 'ほぼ', '行われ', 'なく', 'った', '19', '開発', 'された', 'ワクチン', '日本', 'では', 'ほとんど', 'され', '、「', 'ワクチン', 'される', 'ほど', 'ワクチン開発', 'れた', 'となった', 'この', '200', 'ワクチンの', 'られた', 'ことで', 'され', 'ある'], ['200', 'って', '日本', 'ワクチン', '接種', '発症', 'ワクチン', '小児', '肺炎', 'ワクチン', '接種', '死亡', '予防', 'する', 'ワクチンの', '接種', '等の', 'があり', 'ワクチンの', 'する', '報道', 'した', 'こともあ', 'した'], ['日本', '予防接種', 'され', 'ない', 'ために', '200', '年には', '行った', 'では', 'されている', '感染', 'した', 'ため', 'から', 'なり', 'なり', 'すること', '報道', 'された', 'ただし', 'これ', 'により', 'ワクチンの', '接種', 'され', 'るようにな', '、201', '年には', 'WHO', '日本', 'した', '小児', 'ワクチンは', 'された', 'アジア', 'されていない', '日本', 'だけ', 'であった'], ['日本', '製造', 'メーカー'], ['インフルエンザ', 'ワクチンは', '研究所', '微生物', '研究', 'である', '開発', 'よう', 'している'], ['▁20', '10', '新型インフルエンザ', 'パンデミック', 'を受け', 'による', '対策', 'ワクチン', '製造', '者の', '生産', 'された', 'という', 'から', '国内', 'ワクチン', '生産', 'られた', 'しかし', 'には', 'など', 'により', '資金', '行われ', 'なかった'], ['日本', 'する', 'ワクチン', 'について', '、「', '」「', '理論', '」「', '理論', '」「', '理論', '」「', 'データ', '」「', 'データ', '」「', 'データ', '理論', '」「', '理論', 'による', 'データ', '」「', '」「', '」「', 'への', '10', 'から', '科学', '10', '理論', '大きな', 'ており', 'データ', 'から', 'これを', 'できる', 'なく', '的な', '科学', 'である', 'られ', 'ている'], ['ワクチンの', 'ワクチン', 'への', 'ワクチン', 'する', 'ワクチン', 'ワクチン', 'これ', 'までに', '多くの', '起こ', 'てきた'], ['経済', '20', '15', 'によれば', '流行', 'する', 'よりも', 'ワクチンの', '副作用', 'ことを', 'れる', 'がある', 'という', 'ワクチン', '接種', '後に', 'った', 'ワクチン', 'を受け', 'ことが', 'その', 'って', 'って', 'という', 'である', 'している', 'ような', '時に', 'ような', 'である', 'である', 'ワクチン', '接種', '考え', '時に', '一般', '的に', '使われ', 'ワクチンの', '副作用', 'った', 'して', 'である', 'データ', 'よりも', 'ような', '反応', '述べる'], ['ウイルス', '医学', 'した', '、201', 'にも', 'ワクチンの', 'ール', 'ント', '使用', 'がある', 'ため', 'これを', 'など', 'ワクチン', 'する', '研究', 'えた', '用いた', '経口', 'ワクチン', '開発', 'である'], ['▁201', '年には', '予防接種', 'を受け', 'には', 'がある', 'する', 'という', 'され', '人が', 'えた', 'では', 'ワクチンの', '副作用', 'による', '接種', '患者', 'した', 'こと', 'を受け', '、201', 'から', '以下', '12', 'ワクチン', '付け', '接種', '保護', 'している'], ['ファビピラビル', 'ir', 'ir', '大学', '医学', '富士フイルムホールディングス', '富山化学工業', '富士フイルム富山化学', '研究', '開発', 'した', 'RNA', 'RNA', 'である', '開発', 'ード', 'あるいは', '商品名', 'である', 'アビガン', 'an', '500', 'ほか', 'でも', 'れる'], ['では', 'して', '生産', 'していた', 'ただし', '2019', '年に', '中国', 'における', '富士フイルム', 'ファビピラビルの', 'しており', 'それ', 'らず', '後発医薬品', '商品名', 'として', '製造', 'している'], ['ファビピラビル', '富山化学工業', '合成', 'インフルエンザ', 'した', '大学', '医学', 'インフルエンザ', '感染', 'マウス', '有効性', '確認', 'より', '治療効果', 'している', 'こと', '薬剤', 'ない', 'ことを', 'した'], ['ファビピラビル', 'であり', '投与', '後に', 'invivo', '体内', '環境', '三リン酸', 'されて', 'ファビピラビル', '三リン酸', 'ir', 'ir', 'なり', 'これ', 'RNA', 'ウイルス', 'RNA', 'RNA', 'RNA', 'シン', 'および', 'シン', 'して', 'れた', 'RNA', 'する', 'in', 'in', 'として', 'する', 'ir', 'al', '20', '13'], ['invitro', '試験', '環境', 'では', 'ファビピラビル', '三リン酸', 'を受け', 'ことが', 'できない', 'ため', '50%', '効果', 'EC', '50', 'など', 'した', '効果', '評価', 'において', '他の', '薬物', 'より', '効果が', 'ると', 'される', 'がある', 'エボラ出血熱ウイルス', '2019', '新型コロナウイルス'], ['抗インフルエンザウイルス薬', 'として', 'における', 'ウイルス', 'RNA', 'ことで', 'を防ぐ', 'などの', 'とは', '異なる', 'その', 'ため', 'インフルエンザ', 'ウイルス', 'ウイルス', 'できる', 'インフルエンザ', 'ウイルス', 'に対して', '効果が', 'インフルエンザ', 'ウイルス', 'には', '効果が', 'ない'], ['また', 'インフルエンザ', 'ウイルス', 'のみ', 'らず', 'エボラ出血熱ウイルス', 'ウイルス', 'ウイルス', 'など', 'への', 'する', '試験', '研究', '行われ', 'ており', '大学', 'フェ', '研究チーム', '20', '14', '10', '21', 'マウス', 'った', '実験', 'ウイルス', '減少', '確認', 'した', '発表', '行った', 'さらに', 'スト', 'ウイルス', 'ウイルス', 'などの', 'RNA', 'ウイルス', 'にも', '効果', 'がある', '考え', 'られ', 'ており', '研究チーム', '治療', 'だけ', 'なく', '感染', '予防', 'にも', '効果', 'である', 'がある', 'ント', 'している'], ['日本', '承認', 'されている', '地域', 'かった', '、20', '20', '年には', '新型コロナウイルス感染症', 'OV', 'ID', '-19', 'の治療に', '効果', 'がある', 'として', '研究', '治験', '開始された', '20', '20', '新型コロナウイルス感染症', '治療', 'として', '投与', 'する', '考え', 'した'], ['▁201', '平成', '26', '富山化学工業', '日本での', '製造', '販売', '承認', 'した', 'ただし', '製造', '販売', 'される', 'ではなく', '新型インフルエンザ', '流行', '他の', '薬剤', 'ない', '日本国政府', 'した', '場合に', 'を受け', '製造', 'する', 'という', '承認', 'となっている'], ['富山化学工業', 'アビガン', 'インフルエンザ', 'として', '普及し', 'となる', 'ことを', 'していた', '実験', 'に対する', 'された', 'ため', '厚生労働省', 'による', '製造', '販売', '承認', 'れた', 'の場合', 'のみ', '製造', 'という', 'する', 'という', 'れる', '結果', 'った'], ['臨床試験', 'の結果', 'から', 'インフルエンザ', 'に対する', '有効性', 'され', 'なかった', 'ことが', 'がある', 'にもかかわらず', '承認', 'された', '抗インフルエンザウイルス薬', 'ウイルス', 'ことで', '感染', 'ない', 'する', 'に対し', 'アビガン', 'ウイルス', 'その', 'もの', 'する', 'ため', 'なり', 'を有する', 'ウイルス', 'した', 'になる', 'された', 'ため', 'である', 'ウイルス', 'その', 'もの', 'する', '抗インフルエンザウイルス薬', 'として', '後に', 'ンド', 'された', 'ウイルス', 'がある', 'ため', '医療機関', 'ている'], ['▁201', '厚生労働省', '新型インフルエンザ', '流行', 'アビガン錠', 'すること', '、201', 'する', '30', '日に', 'である', 'ことを', '発表した', '30', '日本国政府', '新型インフルエンザ', '対策', '200', '目標', 'すること', '厚生労働省', '同日', '000', 'アビガン', 'する'], ['日本国政府', 'している', 'アビガン錠', '、「', '指定', 'された', '医療機関', '」「', '新型インフルエンザ', '安全性', '及び', '有効性', 'する', '臨床試験', 'されている', '特定', 'および', '感染症', '指定', '医療機関', 'または', 'において', '指定', 'する', '医療機関', '供給', '厚生労働省', '富士フイルム富山化学'], ['▁20', '20', '18', '日付けの', 'によれば', '2019', '年に', 'における', '富士フイルム', 'ファビピラビルの', 'している', 'ただし', '製造', 'している', '日本', 'における', '富士フイルム', 'ており', '、20', '24', 'まで', '有効', 'である'], ['中国', 'an', 'ar', 'al', '、201', '富士フイルム', 'ファビピラビルの', '中国', 'における', '製造', '販売', 'している', '富士フイルム', 'を受け', 'であった', '2019', '富士フイルム', 'って', 'この', 'その', '富士フイルム', '製造', 'ない', '後発医薬品', 'として', 'ファビピラビルを', '製造', 'しており', 'これら', 'については', '富士フイルム', 'を受け', 'ことはできない', '中国', '行われた', '2019', '新型コロナウイルス', '臨床試験', 'された', '製造', 'した', 'ファビピラビル', 'この', '後発医薬品', 'する'], ['富士フイルム', '、「', '現在', 'an', 'ar', 'al', 'とは', 'ある', 'もの', '製造', 'している', 'ため', 'それ', 'する', '製造', 'されている', '製品', 'など', '富士フイルム', '製造', 'する', 'ファビピラビル', '異なる', 'できない', 'ント', 'している'], ['▁20', '20', 'では', 'ていない', 'ため', 'されていない'], ['ただし', '厚生労働省', 'アビガン錠', 'って', 'しており', 'されている', 'から', 'すること', 'である', '平成', '20', '17', '抗インフルエンザウイルス薬', 'アビガン錠', '200', 'mg', 'では', '平成', '15', '50', '000', 'されており', 'これ', 'から', 'れば', '、1', '当たり', 'インフルエンザ', 'の場合', '当たり', 'アビガン', '投与', '200', 'mg', '40', 'れば', '、1', '13', '2.5', 'となる'], ['アビガン錠', 'よう', '一般', '日本国政府', 'のみ', 'となっている', '医薬品', 'ない', 'ため', '新型コロナウイルス感染症', '治療薬として', '承認', 'されて', 'となった', 'この', '程度', 'になる', 'ない'], ['▁20', '20', '20', '報道', 'によると', 'Glenmark', '開発', 'した', 'ジェネリック', 'である', 'ファビピラビル', '販売名', 'bi', 'Flu', '200', 'mg', 'スト', '当たり', '500', '000', 'している'], ['▁20', '20', '24', 'en', 'ar', 'al', 'Ltd', 'ジェネリック', 'である', 'ファビピラビル', '販売名', 'en', '200', 'mg', '、1', 'あたり', 'する', '発表', 'Cipl', 'Ltd', 'ジェネリック', 'である', 'ファビピラビル', '販売名', 'Cipl', 'en', '200', 'mg', '、1', 'あたり', 'する', 'と発表した'], ['▁20', '20', 'ar', 'ジェネリック', 'である', 'ファビピラビル', '販売名', 'Flu', 'ar', '200', 'mg', '、1', 'あたり', 'する', 'と発表した'], ['▁201', '21', '輸入', 'していた', 'ファビピラビルを', '薬剤', 'インフルエンザ', '感染', '患者', 'ために', 'した', 'と発表した', '27', 'この', '患者', '死亡', 'した'], ['▁201', '厚生労働省', '研究', 'する', 'ウイルス', '感染症', '重症', '減少', ')」', 'ファビピラビル', '有効', 'である', 'ことを', 'マウス', '実験', 'めた', '微生物', '発表した', '感染', '後に', '投与', 'れば', '高い', 'できる', 'ことが', 'された', '20', '16', 'より', '大学', '大学', '研究', 'ター', '感染症', '研究所', 'など', '日本', '国内', '30', '医療機関', '臨床研究', '開始した'], ['▁201', '11', '大学', 'の研究グループが', '、「', '治療効果', 'が認められた', '臨床研究', 'の結果', '発表した', 'グループ', '治療', 'している'], ['▁20', '18', '12', 'による', 'に対する', '治験', 'である', 'III', '相試験', 'フェ', 'III', '患者', '開始した', '発表'], ['200', 'から', 'ファビピラビル', 'RNA', 'ウイルス', 'に対して', 'ウイルス', '効果', 'を持つ', 'ことが', 'されており', 'インフルエンザ', 'ウイルス', 'ウイルス', 'に対する', '効果', 'について', '研究', '的に', '行われ', 'ていた'], ['これら', 'の結果', 'を受け', 'ドイツ', '医学', '研究所', 'シュ', 'ファ', 'ター', 'する', '研究', 'グループ', 'ファビピラビル', 'エボラ出血熱ウイルス', 'に対して', '程度', '効果', 'を持つ', 'する', 'ため', '、201', '年に', '研究所', 'レベル', '研究', '施設', 'において', 'マウス', '用いた', '実験', 'を実施し'], ['用いた', 'エボラ', 'ウイルス', 'アメリカ疾病予防管理センター', 'から', 'を受け', 'ール', 'ただし', 'ir', 'ing', '197', 'とは', 'ていた', 'である', 'また', '用いた', 'マウス', 'ター', 'フェ', 'および', 'マウス', 'IF', 'AR', '-/-', 'および', 'IF', 'AR', '-/-', '12', 'であり', 'これら', 'ール', 'に対する', '的な', 'を持つ', 'ことが', '他の', '研究', 'していた'], ['IF', 'AR', '-/-', 'マウス', '用いた', '実験', 'えた', 'マウス', '実験', 'に分け', '行われた', '実験', '当たり', 'マウス', 'から', '10', 'であった', '感染', 'エアロゾル', 'から', '行った'], ['結果は', 'であった'], ['IF', 'AR', '-/-', '12', 'マウス', '用いた', '実験', 'では', 'して', 'ファビピラビルを', '投与', 'しない', '対照群', '0%', 'した', 'ため', 'ファビピラビルを', '投与', 'した', '実験', 'ほとんど', 'ない', 'という', '結果', 'った', 'これは', '他の', '研究', '報告', 'され', 'ていた', 'IF', 'AR', '-/-', '12', 'ール', '18', '197', 'に対して', 'を持つ', 'という', 'こと', 'であり', '用いた', 'ir', 'ing', '197', 'による', 'もの', 'であろう', '考え', 'られた'], ['として', 'ファビピラビル', 'マウス', '実験', 'レベル', 'において', '明らかに', 'エボラ出血熱', 'に対する', '治療効果', 'を持つ', '感染', '日目', '日目', 'では', '10', '0%', 'れる', 'という', 'ほど', 'すること', 'した'], ['である', '富士フイルムホールディングス', 'である', '米国', 'メディ', 'ター', 'アメリカ', '治験', 'を行う', 'した', 'こと', 'から', 'エボラ出血熱ウイルス', 'に対する', 'ファビピラビルの', '効果', 'について', '米国', 'および', '世界', 'めた'], ['▁201', '10', '20', '富士フイルム', 'エボラ出血熱', '患者', 'への', '投与', 'における', 'エボラ出血熱', '対策', '使用', '目的', 'した', 'アビガン錠', '追加', '生産', 'した', 'フランス', '、201', '10', '21', 'アビガンの', '臨床試験', 'する', 'と発表した'], ['保健', '、201', '10', '30', '富士フイルム', 'アビガンの', '供給', 'について', 'した', 'と発表した', 'エボラ出血熱', 'した', '場合は', 'アビガン', '使用される', 'こと', 'となった'], ['▁201', '11', '11', '富士フイルムホールディングス', 'アビガン', 'ファビピラビル', '20', '15', 'にも', 'エボラ', '治療薬として', '承認', 'される', '明らかにした', '承認', 'され', 'れば', 'エボラ', '治療薬', 'となる'], ['▁201', 'フランス', '保健', '研究所', '20', '14', '12', '17', '日から', '患者', '80', 'に対して', '実施', 'している', 'エボラ出血熱', '治療薬', 'アビガンの', '臨床試験', 'について', 'フランス', '死亡', '症例', 'ている', '評価', '報告', '行った', 'さらに', '試験', '確認', 'する', 'ある', 'アビガン', 'エボラ', 'れる', '発表した'], ['▁201', '24', 'および', '医師', 'ウイルス', 'ない', '感染', '初期', '患者', '死亡', '0%', 'から', '15', '有効', 'であった', 'ウイルス', '患者', '小児', 'では', '効果が', 'られ', 'なかった', 'と発表した'], ['▁201', '26', '富士フイルム', 'フランス', 'アビガン', '200', 'mg', 'エボラ出血熱ウイルス', '感染', 'した', 'フランス', '女性', '投与された', 'と発表した', 'これは', 'フランス', 'より', 'を受け', '日本', '対応', 'として', 'された', 'ものである', 'この', '女性', '10', 'して', 'した'], ['▁201', '10', 'ドイツ', 'ラン', '大学', '病院', 'された', 'エボラ出血熱', '患者', '治療', 'ために', '10', '日に', 'アビガン錠', '投与された'], ['▁201', '10', '19', 'エボラ', '対策', 'ード', '病院', '患者', 'して', '感染', '入院', '治療', 'を受け', 'ていた', 'に対して', 'ファビピラビルを', '投与', 'たところ', '体内', 'から', 'ウイルス', 'した', 'と発表した'], ['▁20', '20', 'OV', 'ID', '-19', 'に対する', '薬剤', '研究', '対象', 'となっている'], ['▁20', '20', '日に', 'ar', '中国', '科学', '武漢', 'ウイルス', '研究所', 'など', 'の研究グループが', '発表した', 'ター', '論文', 'によれば', 'invitro', '試験', '環境', 'ファビピラビルを', 'として', 'エボラ出血熱', '治療薬として', '開発', 'された', 'レムデシビル', 'クロロキン', 'など', 'を含む', '2019', '新型コロナウイルス', 'SARS', 'CoV', '-2', 'に対する', 'ウイルス', '効果', '50%', '効果', 'EC', '50', 'として', '評価', 'する', '試験', 'たところ', '以下', 'データ', 'られた'], ['しかし', 'エボラ出血熱ウイルス', 'に対する', 'ファビピラビルの', 'EC', '50', 'ほぼ', '程度', 'である', 'にもかかわらず', '臨床試験', '実験', 'invivo', '環境', 'では', 'エボラ出血熱ウイルス', 'に対して', 'なり', 'ウイルス', '効果', 'している', 'レムデシビル', '効果', 'ていない', 'この', 'ため', '研究', 'グループ', 'ファビピラビル', 'については', 'invivo', '試験', 'が必要', 'である', '付け', 'ている'], ['13', '日付けの', '中国', '科学技術', 'する', '科技日報', 'によれば', '病院', '臨床研究', '実施', 'された', '程度', '26', '対象', 'となった', 'この', '研究', 'では', '副作用', '発現', 'であり', '効果', '日以内に', 'された', 'また', '日間', '0%', 'であった'], ['15', '付け', '科技日報', 'invitro', '試験', 'の結果', 'に基づい', 'ファビピラビル', 'レムデシビル', 'クロロキン', '臨床試験', 'ファビピラビル', 'については', '患者', '投与', 'される', '対照群', 'を含む', '実施', 'されており', '初期', 'では', '治療効果', '副作用', 'している', '投与群', 'については', '投与', 'から', 'から', '後に', 'ウイルス', '対照群', 'に対して', 'かった', 'レムデシビル', 'クロロキン', 'の結果', 'については', 'この', 'では', 'られ', 'ていない'], ['この', 'よう', 'ファビピラビル', 'invitro', '環境', 'では', 'レムデシビル', 'クロロキン', 'に対して', '効果が', 'にもかかわらず', 'invivo', '臨床試験', 'では', '効果', 'する', 'について', '17', '日付けの', '科技日報', 'ファビピラビル', 'RNA', 'では', 'ある', 'それ', 'であり', 'RNA', 'する', 'として', 'する', 'ために', 'invivo', '三リン酸', 'する', 'という', 'こと', 'である', 'という', 'している', '用いた', 'invitro', '試験', 'では', '三リン酸', 'を受け', 'られ', 'なかった', 'ため', '効果が', 'され', 'なかった', 'という', 'こと', 'である'], ['承認', 'ファビピラビルを', '正式に', '販売', 'できる', 'ており', '16', '日から', '正式に', '後発医薬品', 'として', '生産', '開始した'], ['日付けの', '科技日報', 'において', '中国', '科学技術', '開発', 'ター', '中国', '予防', 'および', '科学', '研究', 'グループ', '薬物', '研究チーム', 'リー', 'もある', '張新民', '病院', '肺炎', '治療', 'における', 'ター', 'フェ', '組み合わせ', 'ファビピラビルの', '有効性', '安全性', 'する', '研究', 'を実施し', '80', '人の患者', 'された', 'その', '中で', '投与群', '対照群', 'であった', 'ている', 'また', '張新民', '武漢', '大学', '病院', '新型コロナウイルス', '肺炎', '治療', 'における', 'ファビピラビルの', '施設', '臨床研究', 'を実施し', '人の患者', 'による', '日間', 'した', '投与群', '対照群', 'である', '結果', 'として', '治療', '投与群', '対照群', 'よりも', 'であり', '治療', '日目', '.8%', 'であり', 'これは', '対照群', 'より', '治療', '日目', 'これは', '対照群', 'よりも', 'なり', '現在', '試験', 'まだ', 'であり', '結果', 'である', '明らかにした'], ['11', '日に', '中国', '予防', '薬剤', '研究チーム', '研究', '結果', '発表した', 'この', '研究', '医学', '研究', '予防', '研究', 'ター', 'on', 'および', '病院', 'ing', 'する', 'によって', '実施', 'され', 'ファビピラビル', 'を投与する', '患者', 'カレトラ', 'を投与する', '患者', 'について', '投与', 'から', '体内', 'から', 'される', 'までに', 'した', 'した', '結果は', 'ウイルス', 'までに', 'した', '期間', 'ファビピラビル投与群', '2.5', 'カレトラ', '投与群', 'では', '11', '13', 'であった', 'また', 'カレトラ', '投与群', 'に対して', 'ファビピラビル投与群', '副作用', 'なかった', 'この', '研究', '結果は', 'on', 'ing', 'する', '論文', 'られ', '、20', '20', '18', '日に', '中国', 'している', '英語版', '論文', 'である', 'in', 'ing', '発表', 'され', 'ラン', 'である', 'する', '論文', 'ット', 'en', 'ir', 'された', 'この', '論文', 'では', '14', 'における', '改善', 'ファビピラビル投与群', 'カレトラ', '投与群', 'している', 'この', '論文', '、20', '20', '日に', 'AR', 'OV', 'ていた', '16', '日に', 'され', 'っている'], ['17', '中国', '予防', '科学技術', '開発', 'ター', '張新民', 'ファビピラビル', '臨床研究', '正式に', '有効性', '確認', 'した', '明らかにした', '張新民', 'によれば', '安全性', 'から', '新型コロナウイルス', '肺炎', '臨床研究', 'では', '的に', '副作用', 'されていない', '有効性', 'から', '病院', '実施', 'した', 'ター', 'フェ', '併用', 'した', 'ファビピラビルの', '有効性', '安全性', '研究', 'では', '80', '人の患者', 'され', '人が', 'ファ', '投与群', '人が', '対照群', 'であった', '結果は', 'ウイルス', 'になる', 'までに', 'した', '時間', '投与群', '対照群', 'よりも', 'それぞれ', 'および', '11', 'であった', '改善', 'に関して', '投与群', '対照群', 'それぞれ', 'であった', 'また', '武漢', '大学', '病院', '行われ', 'ていた', '施設', '臨床試験', '的に', '20', '人の患者', 'され', '治療', 'した', '臨床研究', '結果は', 'ファビピラビル投与群', '新型コロナウイルス', '肺炎', '治療', 'において', '対照群', 'よりも', 'ている', 'ことを', 'している', '治療', '程度', '患者', '投与群', '対照群', 'よりも', 'それぞれ', '6%', 'であった', '時間', 'に関して', '投与群', '対照群', 'よりも', 'であり', '時間', 'それぞれ', '2.5', 'であった', '時間', '投与群', 'よりも', '対照群', 'それぞれ', 'であった', '治療', '期間', '程度', '患者', 'または', '呼吸', '使用', '投与群', '対照群', 'よりも', 'それぞれ', '6%', '17', '12', 'であった', 'から', '国内', 'から', '医薬品', '承認', '生産', '供給', 'されている', 'という', 'また', '張新民', 'ファビピラビル', '医薬品', '安全性', '有効性', 'および', 'して', '科学', '研究', 'グループ', 'によって', 'グループ', '正式に', 'された', 'できる', 'だけ', '治療', 'よう', 'する', 'と述べた'], ['23', '武漢', '研究チーム', 'ファビピラビル', '投与', '軽症', 'ると', '投与', '有効性', '確認', 'と発表した', '軽症', 'ると', '多くの', '症例', 'ファビピラビル', '投与', '日以内に', '症状', 'えた', '報告', 'した', 'この', '研究', '、20', '20', '20', '日から', '12', '日に', '武漢', '病院', '実施', 'された', '施設', '臨床研究', 'であり', 'ファビピラビル投与群', '治療効果', 'en', 'ir', '商品名', 'アルビドール', 'bi', 'ol', '投与群', '対照群', 'として', '評価', 'する', 'もの', 'であった', '40', '人の患者', 'ラン', '20', 'グループ', 'に分け', 'ファビピラビル投与群', 'アルビドール', '投与群', 'した', '試験', 'であり', '医師', 'および', '患者に', '投与', 'される', 'され', 'ていた', '結果は', '日目', 'ファビピラビル投与群', '評価', '11', 'である', 'に対し', 'アルビドール', '投与群', '評価', '20', '6%', 'であり', '治療効果', 'における', 'ファビピラビルの', 'アルビドール', 'に対する', '的に', 'であった', '=0.', '19'], ['▁20', '20', '日本国政府', '新型コロナウイルス', '感染', '対象', 'アビガンの', '投与', 'する', '富士フイルム富山化学', 'めた', '同日', '患者', 'への', '投与', '開始した', 'ことを', '明らかにした'], ['19', '日に', '病院', '15', '報告', 'によれば', '発症', '11', '日目', '患者', 'に対して', 'ファビピラビルの', '投与', '併用', '行われた', 'ファビピラビルの', '使用', 'に関して', '委員会', '承認', '実施', 'されている', '投与', '発症', '13', '日目', 'EC', 'ため', '患者', 'となる', 'まで', 'られた', 'この', '症状', '改善', 'られ', 'なかった', 'また', '26', '病院', '者の', 'カレトラ', 'ている', 'という', 'に対して', '、「', 'アビガンの', 'ている', 'こと', 'が多い', 'ている'], ['ファビピラビル', 'について', '新型コロナウイルス', '治療薬として', '正式に', '承認', 'する', 'って', '必要となる', 'する', '、「', '多くの', 'から', 'られ', 'ており', 'する', '臨床研究', 'ター', 'する', 'と発表した'], ['富士フイルム', '日本での', '治験', '発表した'], ['日に発表された', '地域', '機能', '病院', '報告'], ['によれば', 'のコロナ肺炎患者', '80', '女性', 'に対して', '入院', 'した', '日から', 'ファビピラビル', 'による', '早期', '治療', '開始した', '入院', '16', '後に', '18', '後に', 'した', 'された', '大きな', '副作用', 'であった', 'これは', '通常', '治療薬', 'フェ', 'ット', '投与', 'され', '大きな', 'となる', 'ことは', 'なかった', '減少', 'が認められた', 'これ', 'となる', 'ことは', 'なかった', '他の', '臨床試験', 'されている', 'AST', 'ALT', '増加', '症状', '認められ', 'なかった'], ['ター', '医師', 'では', '患者に', '使用', 'している', 'には', 'ない', 'する', 'には', 'ング', '投与', 'して', 'ことはできない', 'ている'], [], ['日本', '国内', 'アビガンの', '生産', 'する', 'している', '株式会社', '日本', 'から', '生産', 'する', 'と発表した'], ['日に発表された', '病院', '報告', 'によれば', '入院', '後に', '0%', 'した', '新型コロナウイルス', '患者', 'に対して', '呼吸', 'AR', 'を防ぐ', '目的', 'ファビピラビルの', '投与', '開始した', '日に', '改善', '認められ', '投与', '日目', 'には', 'となった', '症状', 'ファビピラビルを', '使用', '治療', 'した', '他の', '新型コロナウイルス', '患者', 'については', 'になる', 'まで', '27', 'しており', '改善', 'ファビピラビルの', '効果', 'による', '高い', 'している'], ['アビガン', 'について', '20', '投与', '行われ', '症状', '改善', '効果が', 'あった', '報告', 'を受け', 'ている', '明らかにした'], ['13', '日に発表された', '地域', '機能', '病院', '報告', 'では', '20', '女性', '40', '50', '他の', 'のうち', 'でも', 'ファビピラビル', '投与', '症状', 'すること', '日以内に', 'などの', '症状', 'が認められた', 'では', '投与', '期間', '14', '日間', 'には', 'までに', 'なかった', 'また', '大きな', '副作用', '見られ', 'なかった', 'している'], ['14', '新型コロナウイルス', '肺炎', 'ため', '入院', 'グラ', 'ント', '13', '日から', 'アビガン', '治療', '開始した', 'こと', 'について', 'から', '効果', 'がある', 'よう', 'した', 'って', 'から', 'なかった', 'るようにな', 'なかった', 'って', 'なり', 'した', 'まだ', '日目', '的な', 'ではない', '明らかに'], ['報告', 'している', '効果が', '程度', 'れる', 'という', '病院', '症例', 'する', 'がある'], ['18', '日に', 'された', '日本感染症学会', 'シン', 'において', '藤田医科大学', 'して', '実施', 'している', 'ファビピラビルの', '国内', 'III', '臨床試験', 'について', '報告', 'ファビピラビルを', '投与された', '30', 'のうち', '軽症', '患者', 'では', '呼吸', 'が必要', '重症患者', 'では', '後に', '症状', '改善', '見られ', 'ことを', '明らかにした'], [], ['この', '改善', 'という', '中国', 'による', '論文', 'における', 'および', 'イラン', '医師', '30', '27', 'している'], ['19', '新型コロナウイルス感染症', 'OV', 'ID', '-19', '対策', '経済', 'インフルエンザ', 'アビガン', 'について', '医療機関', '施設', '患者', 'れば', 'るようにな', 'った', 'と述べた'], ['21', '現在', '治療薬', '期間', '程度', '目標', 'する', '指定', '制度', 'という', '制度', 'がある', 'アビガン', 'など', '新型コロナウイルス', '治療薬', '承認', 'については', '、「', 'なく', '対応', 'して', 'と述べた'], [], ['同日', '大学', '病院', '大学', '病院', '投与', '承認', 'して', '医師', 'アビガンの', '投与', 'となる', 'よう', 'した'], [], ['27', '厚生労働省', '新型コロナウイルス感染症', '対策', 'ファビピラビル', '使用', 'における', '医療機関', 'めた', 'コロナウイルス', '感染症', 'に対する', 'アビガン', '一般', 'ファビピラビル', '観察研究', '及び', '研究', '使用', 'する', 'ため', '医薬品', 'について'], [], ['した', 'これ', 'によれば', '医療機関', 'を投与する', 'として', '委員会', 'など', '承認', '藤田医科大学', '病院', 'などの', '研究', 'っている', '観察研究', '患者', 'があり', '医師', 'によって', '使用', 'が必要', 'となった', '場合に', 'である', 'している', '治療薬として', '承認', 'されていない', '医療機関', '観察研究', 'として', '投与', '行われ', 'ており', 'として', '26', '時点で', '国内', '1,', '10', '医療機関', '19', '人の患者', '投与された', 'ている', '26', '時点で', '国内', '感染', '13', '23', 'のうち', '入院', '患者', 'であり', '入院', '患者', 'のうち', '投与', 'を受け', 'ている', 'こと', 'になる'], ['アビガン', '臨床研究', '有効性', '確認', 'され', 'れば', '承認', '考え', 'した'], ['11', '医師', 'アビガンの', '観察研究', 'への', '医療機関', '医師', '委員会', 'して', 'する', '観察研究', 'を実施し', 'ている', '藤田医科大学', '厚生労働省', 'と発表した'], [], ['投与', '観察研究', 'への', 'という', '現在', '実施', 'されている', '観察研究', 'への', 'して', '医療機関', 'する', '委員会', 'など', '承認', 'あった', 'この', 'する', 'もの', 'であり', '観察研究', 'による', '投与', 'もの', 'ではない', '医師', 'した', '医療機関', '医師', '患者', 'れば', '投与', 'なり', '軽症', 'への', '早期', '投与', 'となった', 'ただし', '副作用', '対策', 'として', '入院', '患者に', 'される'], ['特定', '臨床研究', 'SARS', 'CoV', '感染', '症状', '軽症', '患者', 'における', 'ウイルス', '効果', '目的', 'した', 'ファビピラビルの', '施設', 'ランダム化', '臨床試験', '有効性', '確認', 'できる', 'ことを', 'して', '、「', '新型コロナウイルス感染症', 'に対する', '医薬品', '等の', '承認', 'について', '12', '12', ')」', '12', 'した', 'れた'], ['26', '日付けの', '日本', '経済', '及び', '同日', '、「', '臨床研究', '判断する', 'において', '高い', '有効性', 'され', 'れば', 'その', '結果', 'まで', 'なく', '承認', 'という', 'していた', 'する', 'による', '評価', '委員会', 'から', '科学', '的に', '評価', 'すること', 'された', 'ため', '研究', 'なり', '承認', 'には', 'なかった'], ['報道', 'している', 'その', '日付けの', 'など', 'メディ', '、「', '時点で', 'となる', 'から', '承認申請', 'なく', 'した', '明らかにした', 'この', 'ため', 'した', '承認', 'した', 'ことが', 'かった'], ['承認', 'できない', 'である', '報道', 'しており', '報道', '見られ'], ['26', '日に発表された', '藤田医科大学', '中間報告', 'ファビピラビル', '観察研究', '中間報告', '20', '20', '15', '現在', ')」'], ['によれば', '15', '時点で', 'ファビピラビルの', '観察研究', 'による', '投与', '40', '施設', 'から', '15', 'されている', 'のうち', '軽症', '患者', '%)', '中等症患者', '%)', '重症患者', '23', '10', '%)', 'であり', 'コロナ肺炎', '発症', '者の', '軽症', 'ことが', 'っている'], ['通常', 'より', '中等症患者', '重症患者', '高い', '.8%', '投与', '日目', '改善', '軽症', '.8%', '6%', '重症', '40', '.1%', 'サンプル', '1,', '13', 'であり', '投与', '14', '日目', '改善', '軽症', '.8%', '重症', 'サンプル', '1,', 'であった', 'また', '入院', 'における', '死亡', '軽症', '.1%', '12', '重症', '11', '6%', 'サンプル', '1,', '18', 'であった', '副作用', 'については', '15', 'のうち', 'または', '15', 'または', '機能', '報告', 'された', 'として', '対照', '試験', 'ではない', 'こと', 'よう', '発症', '者の', '軽症', 'こと', 'から', '、「', '結果', 'すること', 'が必要', 'として', '有効', 'ている'], ['10', '特定', '臨床研究', 'SARS', 'CoV', '感染', '症状', '軽症', '患者', 'における', 'ウイルス', '効果', '目的', 'した', 'ファビピラビルの', '施設', 'ランダム化', '臨床試験', '結果', '的な', '報告', 'された', '目標', '症例', 'され', 'ランダム化', 'された', '主要評価項目', 'である', '日目', 'まで', '投与群', 'する', 'まで', 'ウイルス', '通常', '投与群', '投与群', '.1%', 'ード', '95%', '=0.', '-2', '=0.', '26', 'であった', '評価', 'である', '日目', 'まで', 'ウイルス', '50%', '減少', '通常', '投与群', '投与群', '.8%', '95%', '=0.', '-2', '=0.', 'であった', '主要評価項目', '及び', '評価', '的に', '認められ', 'なかった'], ['10', '日に', '医学', '病院', '発表した', '、「', '新型コロナウイルス感染症', 'における', '重症', '症例', 'に対する', '治療', '結果'], [], ['では', 'である', '大学', '病院', 'から', 'られた', 'たところ', 'までに', '治療', '行った', '重症', '症例', 'のうち', '%)', 'アビガン', '使用', 'された', 'ことが', '明らかに', 'った', 'レムデシビルの', '使用', '11', '%)', 'であった', '重症', '症例', 'のうち', '死亡', '20', '.1%', 'であり', 'のうち', 'アビガン', '使用', 'した', 'では', '死亡', '19', '%)', 'であり', 'アビガン', '使用', 'なかった', '10', 'では', '死亡', '24', '%)', 'であった'], ['23', '新型コロナウイルス感染症', '患者', '対象', 'した', 'アビガンの', '国内', 'III', '相試験', '結果', '富士フイルムホールディングス', 'ニュー', 'リー', '報告', 'された', '15', '対象', 'した', '主要評価項目', '症状', 'ウイルス', 'まで', '時間', 'アビガン', '投与群', '11', 'プラセボ', '投与群', 'では', '14', 'なり', '重篤な', '肺炎', 'を有する', 'OV', 'ID', '-19', '患者に', 'アビガン', 'を投与する', 'ことで', '早期', '症状', '改善', 'すること', '=0.', '13', 'って', '確認', 'した', 'ード', '、1', '95%', '24', 'した', 'さらに', '試験', 'では', '安全性', '認められ', 'なかった'], ['10', '16', '日に', '富士フイルムホールディングス', '抗インフルエンザウイルス薬', 'アビガン', 'について', '富士フイルム富山化学', '株式会社', '新型コロナウイルス感染症', '効果', 'など', '追加', 'する', '製造', '販売', '承認', '承認申請', '厚生労働省', '行った', 'ことを', '発表した'], ['12', '21', '厚生労働省', 'アビガン', '新型コロナウイルス感染症', '治療薬として', '承認', 'する', 'した', '富士フイルム富山化学', 'による', '治験', '患者に', 'アビガン', '投与', 'した', '医師', 'して', '行われ', '試験', 'った', 'こと', '治験', '結果', 'について', 'した', '時点で', '有効性', '判断する', 'ことは', 'され', 'となった', '実施', '臨床試験', '治験', 'など', 'の結果', 'する'], ['▁20', '21', '21', '富士フイルムホールディングス', 'アビガン', 'について', 'にも', '国内', '臨床試験', '治験', '実施', 'する', 'めた', 'られた', '実施', '治験', '試験', 'った', 'ことで', '、「', '有効性', '判断する', 'ことは', 'された', 'こと', 'から', '試験', 'では', '二重盲検', '試験', 'する', '対象', '軽症', '患者', '等の', 'を有する', '50', '軽症', '患者', '目標', '症例', '27', 'している'], ['21', '富士フイルムホールディングス', '抗インフルエンザウイルス薬', 'アビガン', 'について', '富士フイルム富山化学', '株式会社', '新型コロナウイルス感染症', '患者', '対象', 'した', '相試験', '国内', '開始した', 'ことを', '発表した', 'などの', '症状', '発現', 'から', '時間', 'などの', '重症', 'を有する', '50', 'OV', 'ID', '-19', '患者', 'において', '重症', 'した', '患者', '主要評価項目', '有効性', 'する', '二重盲検', 'プラセボ', '対照', '試験', 'である'], ['▁20', '20', '富士フイルム', 'アメリカ', 'アビガンの', '治験', '相試験', 'ると', '発表', '臨床試験', '20', '20', 'までに', 'である', '米国', 'では', 'ファビピラビル', '承認', 'であり', '米国', '承認申請', 'を行う', 'には', '臨床試験', '有効性', '確認', 'すること', 'が必要', 'になる'], ['12', 'アビガンの', 'アメリカ', '相試験', 'において', '患者', '投与', 'した', 'ことを', '発表した', '試験', 'ランダム化', 'プラセボ', '対照', '二重盲検', '試験', 'であり', '軽症', '及び', '患者', '対象', '目標', '症例', '26', 'である'], ['▁20', '20', '20', 'イラン', 'イラン', '20', 'イラン', '日本', 'イラン', 'に対して', 'ファビピラビルを', 'する', 'である', 'と述べた', '報道', 'した'], [], ['イラン', '保健', 'シュ', 'ジャ', 'ール', 'an', 'an', '報道', 'ファビピラビル', 'に関して', '中国', '実施', 'された', '臨床試験', 'について', '患者に', '効果', 'ている', '効果', '科学', '的に', 'した', 'まで', 'には', 'であろう', '」「', '日本', 'から', 'された', '臨床試験', '結果は', 'まだ', 'ていない', '」「', '日本', 'から', '000', 'を受け', 'さらに', '中国', 'から', '中国', '中国', '15', '000', 'されている', 'これら', '病院', '臨床試験', 'であり', '現在', '研究', '効果', '評価', 'っている', 'である', 'と発表した'], ['日付けの', 'によれば', 'ラン', '病院', 'an', 'ar', 'al', 'ード', 'シュ', '大学', 'イラン', '国内', 'では', 'アビガンの', '製造', 'した', 'と発表した', 'によれば', '製造', 'された', '病院', 'のコロナ肺炎患者', 'の治療に用いられ', 'ている', 'コロナ肺炎', 'している'], [], ['同日', 'イラン', 'する', 'イラン', 'イラン', '病院', '医師', 'an', '、「', 'この', 'により', '30', 'のコロナ肺炎患者', '27', '人が', '的に', 'している', 'にもかかわらず', 'イラン', '保健', '使用', 'する', 'している', 'している', 'ている', '医師', 'について', 'して', '使用', 'する', 'ため', '目的', 'であり', 'コロナ肺炎', 'した', 'である', 'この', '的に', 'られた', 'した', 'している'], [], ['▁20', '20', '医薬品', 'ファ', 'IF', '科学技術', '委員会', '新型コロナウイルス感染症', '地域', '病院', 'における', 'ファビピラビルの', '試験', '投与', '承認', 'した', 'と発表した', 'ただし', '医薬品', 'この', 'でも', 'アメリカ', 'でも', 'されていない', 'この', '薬物', '効果', 'について', '現在', 'ある', 'まだ', '的な', 'ものである', 'している'], [], ['▁20', '20', '23', '日に', 'ジャ', '保健', '中国', 'から', 'された', '患者', 'への', '投与', '実施', 'している', 'と発表した', 'によれば', 'この', '治療薬', '国内', '40', 'された'], ['国内', 'ファビピラビルの', '製造', 'を行う', 'であり', 'れば', 'コロナ肺炎', '治療', '使用', 'になる', 'と述べた', '中国', 'から', 'れた', 'ファビピラビルを', '行われた', '治験', 'では', '治療', '期間', 'への', '改善', 'において', '効果が', '確認', 'されている'], [], ['▁20', '20', 'ドイツ', 'アビガン', 'ット', 'する', '報道', 'された'], ['▁20', '20', '16', '付け', 'によれば', 'アビガンの', '輸入', 'していた', '委員会', 'など', '効果', '副作用', 'など', 'から', 'である', 'ため', 'しない', 'と発表した', 'された', '中国', '研究', '論文', 'した', '結果', 'アビガン', '新型コロナウイルス', '効果が', 'なく', '副作用', 'であり', '使用', 'できない', 'した'], ['委員会', 'ンド', '病院', '感染', 'アビガン', '中国', '治療薬として', 'された', '報道', 'された', '、「', '論文', 'によると', '臨床試験', '患者', 'する', 'した', 'だけ', 'であり', 'また', 'WHO', '治療薬', 'アビガン', 'ていない', 'として', 'アビガン', '治療薬として', 'された', 'という', 'フェ', 'ニュー'], ['▁20', '20', 'ンド', 'ンド', 'スト', 'ター', '病院', '50', '患者', 'する', 'ファビピラビル', 'クロロキン', '臨床試験', 'する', 'と発表した', '試験', 'では', '患者', '50', 'グループ', 'に分け', 'グループ', 'には', 'ファビピラビルを', '投与', 'グループ', 'には', 'クロロキン', 'および', 'シン', '投与', 'グループ', '対照群', 'として', '通常', '治療', 'による', 'のみ', 'を行う', 'また', '病院', '病院', '試験', 'である', 'ている'], [], [], [], ['▁20', '20', 'ロシア', 'ファ', 'ンド', 'である', 'ロシア', 'IF', '開発', 'した', 'ファビピラビルの', 'ジェネリック', '医薬品', 'である', 'ファ', 'ir', 'ロシア', '保健', '承認', 'えた', 'と発表した'], [], [], ['これは', 'ファビピラビルの', 'コロナ肺炎', '治療薬として', 'による', '世界', '承認', 'となる'], [], ['ar', '13', '日に', 'ロシア', 'から', 'され', 'ていた', 'ファ', '治験', '有効性', '確認', '発表', 'していた', '治験', 'の結果', 'ファビピラビルを', '投与された', '40', 'のうち', '0%', '投与', 'から', '日目', 'なり', '治療', 'った', '明らかに', 'していた'], ['11', '日から', '一般', '病院', '投与', 'される', 'という'], ['▁20', '20', '12', 'Glenmark', 'ジェネリック', 'である', 'ファビピラビル', '販売名', 'bi', 'Flu', 'ランダム化', '臨床試験', '発表した', '50', '軽症', 'から', '中等症患者', 'あるいは', 'ファビピラビル', '、1', '付け', 'られる'], ['▁20', '20', '21', 'ar', 'en', 'である', 'アビガン', '試験', '実施', 'について', 'ンド', '医薬品', 'から', '承認', 'と発表した'], ['▁20', '20', '26', 'Glenmark', 'ファビピラビルの', 'en', 'ir', '併用', 'による', 'ランダム化', '臨床試験', '実施', 'について', 'ンド', 'から', '承認', 'と発表した', '入院', 'している', '15', '中等症患者', 'ファビピラビル', 'あるいは', 'ファビピラビル', 'en', 'ir', '併用', '付け', 'られる'], ['▁20', '20', '20', 'Glenmark', 'ジェネリック', 'である', 'ファビピラビル', '販売名', 'bi', 'Flu', 'について', 'ンド', 'から', '軽症', 'から', '中等症患者', 'として', 'された', '使用', '製造', '販売', '承認', 'した', 'と発表した'], ['▁20', '20', '24', 'Cipl', 'Ltd', 'ジェネリック', 'である', 'ファビピラビル', '販売名', 'Cipl', 'en', 'について', 'ンド', 'から', '製造', '販売', '承認', 'した', 'と発表した'], ['通常', '日目', '1,', '600', 'mg', '日目', '600', 'mg', '経口', '投与', 'する', '投与', '期間', '日間', 'まで', 'アビガン錠', '200', 'mg', '当たり', '投与', '(1', '600', '×2', '600', '×2', 'mg', '200', 'mg', '40', 'となる', '研究', 'では', '投与', '行われ', 'ている'], ['しかし', '、20', '20', '27', '日付けで厚生労働省が全国の保健所', '等に通知した事務連絡', 'ファ', '処方量', 'である'], ['(1', '▁20', '20', '27', '日付けで厚生労働省が全国の保健所', '等に通知した事務連絡', 'ファビピラビルの', '処方量', '(1', '日目', '1800', 'mg', '600', 'mg', '新型コロナウイルス', 'による', 'の治療に', 'アビガン', '必要処方量', 'として', 'アビガンの', '開発', 'である', 'する', 'あたり', '000', 'mg', '000', 'mg', 'である', '500', 'mg', 'する', 'となっている', 'しかし', '、1', 'あたり', '投与', 'した', 'ない', 'って', '、1', 'あたり', 'を投与する', '新型コロナウイルス', '患者', 'における', '試験', '実施', 'する', '追加', '臨床試験', '確認', 'される', 'ことが', 'となる'], ['ファビピラビルを', '新型コロナウイルス', 'OV', 'ID', '-19', '治療', 'に用いる', '、20', '20', '17', '富士フイルム', '富山化学工業', 'した', '10', 'には', 'OV', 'ID', '-19', 'への', 'EC', '50', '国内', 'インフルエンザ', '治療', '時の投与量', '2.5', 'される', 'している'], ['この', 'に基づい', 'インフルエンザ', '治療', 'の場合', '2.5', 'として', '必要処方量', 'する', '、1', '日目', '000', 'mg', '日目', 'から', '日目', '500', 'mg', '経口', '投与', 'する', '投与', '期間', '日間', 'となる'], ['この', '必要処方量', 'から', '日本感染症学会', 'する', '処方量', '(1', '日目', '1,', '800', 'mg', '200', 'mg', '日目', 'から', '800', 'mg', '200', 'mg', '経口', '、1', '日目', 'では', '必要処方量', '日目以降', 'では', '必要処方量', 'となる'], ['厚生労働省', 'った', 'OV', 'ID', '-19', 'への', 'アビガンの', '処方量', '日本', '小児', '科学', 'めた', 'アビガンの', '処方量', 'から', 'する', 'もの', 'ほぼ', 'である'], ['文書に記載', 'された', 'インフルエンザ', 'ウイルス', '感染症', '投与', '000', 'mg', '(1', '日目', '600', 'mg', '×2', '日目', '600', 'mg', '×2', '投与', '期間', '日間', 'である', '日本感染症学会', 'OV', 'ID', '-19', 'に対する', 'ウイルス', 'による', '治療', '考え', 'によると', '24', '40', 'mg', '(1', '日目', '1800', 'mg', '×2', '日目以降', '800', 'mg', '×2', '14', '日間', 'されており', '、1', '投与', '及び', '投与', '期間', 'によって', '異なる'], ['すなわち', '、20', '20', '27', '日付けで厚生労働省が全国の保健所', 'など', 'した', 'となっている', '20', '20', '26', '日本感染症学会', '発表した', '処方量', '必要処方量', 'ほぼ', '50%', '以下', 'ており', 'アビガンの', 'には', 'できない', 'ものである', 'れる'], ['▁20', '20', '27', '日付けで厚生労働省が全国の保健所', '等に通知した事務連絡', 'された', '日本感染症学会', '文書に記載', '処方量', 'である', '結果', '処方量', '(1', '日目', '1800', 'mg', '600', 'mg', '実施', 'していた', '観察研究', 'について', '、20', '20', '26', '日に発表された', '藤田医科大学', '中間報告', 'ファビピラビル', '観察研究', '中間報告', '20', '20', '15', '現在', ')」', 'では', 'アビガンの', '有効性', 'には', 'ことが', 'った', 'れる'], ['この', '観察研究', 'では', '、1', '日目', 'のみ', '1800', 'mg', '×2', '日目以降', '800', 'mg', '×2', '投与された', '患者', '.8%', '、1', '日目', 'のみ', '600', 'mg', '×2', '日目以降', '600', 'mg', '×2', '投与された', '患者', 'その', 'である', 'すなわち', 'ほとんど', '患者', '、20', '20', '17', '富士フイルム', '富山化学工業', 'した', '国内', 'インフルエンザ', '治療', '時の投与量', '2.5', 'ではなく', '、20', '20', '27', '日付けで厚生労働省が全国の保健所', '等に通知した事務連絡', 'ファ', '処方量', '投与された', 'この', '観察研究', 'アビガンの', '有効性', 'なかった', 'だけ', 'ではなく', '観察研究', '報告', 'されている', 'よう', '対照', '試験', 'ではない', 'こと', '発症', '者の', '軽症', 'こと', 'から', '、「', '結果', 'すること', 'が必要', 'という', 'となった', 'ため', 'である'], ['富士フイルム富山化学', '新型コロナウイルス感染症', 'OV', 'ID', '-19', 'について', '実施', 'していた', 'アビガン', 'ファビピラビル', '臨床試験', '国内', '臨床試験', 'データ', '20', '23', '、1', '日目', 'のみ', '1800', 'mg', '×2', '日目以降', '800', 'mg', '×2', '14', '日間', '経口', '投与', 'する', 'もの', 'であった', 'すなわち', 'この', '治験', '20', '20', '17', '富士フイルム', '富山化学工業', 'した', '国内', 'インフルエンザ', '治療', '時の投与量', '2.5', '50%', 'となっている', 'この', '治験', 'の結果', '15', '肺炎', '患者', 'において', 'アビガン', '投与', 'した', '患者', '投与', 'した', '患者', 'では', 'ウイルス', 'になる', 'まで', 'アビガン', '投与', 'した', '患者', '11', 'では', '14', 'であった', 'プラセボ', '対照', 'した', 'アビガンの', '主要評価項目', '=0.', '13', 'アビガン', 'を投与する', 'ことで', '症状', '早期', '改善', 'すること', '確認', 'した', 'こと', 'から', '富士フイルムホールディングス', '10', 'にも', '新型コロナウイルス', '治療薬として', 'アビガンの', '製造', '販売', '承認', 'する', 'と発表した'], ['した', 'への', '実験', '確認', 'されている', 'ため', 'および', 'から', '女性', 'への', '投与', 'である', 'また', 'ために', '体内', 'っている', '投与', '期間', 'および', '投与', '日間', 'を行う', '場合は', 'れば', 'ない'], ['使用', 'における', '副作用', '発現', 'については', '医薬品', 'された', 'によれば', 'インフルエンザ', '治療薬として', '承認', '及び', 'における', '投与', 'ない', '国内', '臨床試験', '及び', 'III', '相試験', '承認', '及び', 'より', '実施', 'された', '試験', 'られた', 'データ', 'である'], ['安全性', '評価', '対象', '症例', '50', '副作用', '10', '19', '6%', '認められ', 'を含む', '副作用', '増加', '24', '%)', '24', '%)', '減少', '(1', '80', '%)', 'AST', '増加', '(1', '80', '%)', 'ALT', '増加', '(1', '0%'], ['平成', '30', '科学技術', '科学', '科学技術'], ['医学', '等の', '用いられる', 'マスク', 'mask', 'ir', 'とは', 'のうち', 'または', 'もの', 'または', 'もの', 'まで', 'もの', 'こともあ', 'では', '他の', '部分', 'もの', 'その', 'よう', 'すること', 'がある', 'では', 'する'], ['マスク', 'では', 'に分け', 'られる'], ['防塵', 'マスク', 'マスク', '防じんマスク', '防塵', 'マスク', '防塵', 'マスク', 'など'], ['作業', 'する', '粒子', 'しない', 'よう', 'する', '目的', '用いられる', 'マスク', 'その', 'コン', 'された', 'または', '付け', 'もの', 'または', 'された', '不織布', 'による', '防じんマスク', 'である', 'マスク', 'マスク', 'があり', 'マスク', 'には', 'ている', 'まで', '作業', 'であり', '時間', '装着', 'して', '使用', 'には', 'ていない'], ['米国', 'には', '米国', '研究所', 'する', 'マスク', 'があり', '製品', 'には', '付け', 'られ', 'ている', 'この', 'マスク', '医療機関', '感染', '防止', '用いられる', 'こと', 'っている'], ['には', '委員会', 'する', '14', 'マスク', 'があり', 'マスク', 'する'], ['▁日本では', '厚生労働省', '防じんマスク', 'に基づい', 'その', 'されている', '製品', 'をもつ', 'もの', 'って', 'ない', 'マスク', '防じんマスク', 'として', '販売', 'すること', '、「', 'スト', 'マスク', '」「', 'リー', 'マスク', 'などの', 'ター', '販売', 'されている'], ['医療用マスク', '対象', 'する', '感染', '予防', '目的', 'する', 'マスク', 'である', '英語', 'では', 'surgicalmask', '日本', 'でも', 'その', 'サージカルマスク', 'として', 'する', '英語', 'それ', 'には', 'al', 'マスク', 'である', 'には', 'マスクを'], ['対象', 'する', '粒子', '一般', '的に', 'より', 'ものである', 'SARS', 'ウイルス', '以下', 'よう', '感染', 'ウイルス', '粒子', 'している', '医療用マスク', 'では', '対応', 'できない', 'ため', '防塵', 'マスク', '使用される'], ['マスク', 'として', '細菌', 'al', 'on', 'en', '粒子', 'ar', 'on', 'en', 'がある', 'マスク', 'によって', '細菌', 'を含む', '粒子', '粒子', 'クロ', 'され', '患者', 'への', 'を防ぐ', '%)', '試験', '粒子', 'クロ', '粒子', 'され', '装着', 'ない', '%)', 'こと', 'である', 'アメリカ', '医薬品', 'では', 'サージカルマスク', '95%', 'している'], ['アメリカ', 'では', '感染', 'エアロゾル', 'に対する', '医療用マスク', 'surgicalmask', '制度', 'を実施し', 'ており', '製品', 'には', 'される', '防塵', 'マスク', 'として', 'を有する', 'マスク', 'でも', 'surgicalmask', 'として', '使用', 'する', 'surgicalmask', 'として', 'する', 'がある', 'この', '場合に', '試験', 'データ', 'アメリカ', 'では', 'surgicalmask', 'について', 'あった', 'では', 'されている'], ['▁日本では', 'サージカルマスク', 'という', 'その', 'に関して', '感染', '呼吸', '新型インフルエンザ', '流行', '時に', 'した', 'ことは', 'あった', '試験', 'アメリカ', 'AST', 'ター', 'した', 'AST', '10', 'していた', '20', '21', '16', '日に', '試験', '日本', 'られた'], ['的に', 'である', 'する', 'など', 'して', '供給', 'った', '場合は', 'して', 'すること', 'もある', 'その', 'ような', 'となった', '20', '20', 'コロナウイルス', '感染症', '流行', '日本', 'では', '病院', 'あたり', 'など', 'った', '対応', 'なく', 'された'], ['防寒', '対策', '対策', '対策', 'ウイルス', '対策', '防塵', 'などの', 'ため', '一般', 'マスクを', 'マスク', 'という', 'または', '感染', 'ウイルス', '粒子', 'エアロゾル', 'ウイルス', '感染', 'した', '人が', 'した', '呼吸', 'した', 'した', 'した', 'する', '症状', 'ない', 'でも', 'される', '人が', 'これら', 'エアロゾル', 'ウイルス', '感染', 'する', 'がある', 'エアロゾル', 'した', 'コロナウイルス', '時間', 'がある', 'マスク', 'その', 'を防ぐ'], ['マスク', 'では', 'ガーゼタイプ', '不織布', 'タイプ', 'に分け', 'られる'], ['マスク', 'マスク', 'または', 'ガーゼタイプ', 'マスク', 'もの', 'から', '使われ', 'てきた', 'マスク', 'とも呼ばれ'], ['して', 'できる', 'ため', '経済', '病原体', '防止', 'には', '効果', 'する', '不織布', 'タイプ', 'るため', '世界', '保健', 'では', '者の', '使用', 'ていない'], ['不織布', 'マスク', 'マスク', '不織布', '使用', 'した', 'マスク', 'から', '一般', '的に', '使用', 'され', 'なかった', '機能', 'に対する', 'なく', 'った', 'ことで', '普及し'], ['マスク', 'では', 'マスク', 'リー', 'マスク', 'マスク', 'に分け', 'られる'], ['マスク', '使用', 'しており', 'ガーゼタイプ', '高い', 'を有する'], ['リー', 'マスク', 'リー', 'ており', 'フィット', 'して'], ['マスク', 'されており', '顔面', 'なく', 'フィット', 'する'], ['ウイルス', 'インフルエンザ', 'ウイルス', 'ウイルス', '感染', 'では', '感染', 'しない', 'れた', 'ウイルス', 'による', '感染', '感染', 'によって', 'ものである', 'ただし', 'った', 'マスク', '使用', 'って', '感染'], ['WHO', 'インフルエンザ', 'パンデミック'], ['マスクを', '着用する', '場合は', 'った', '使用', 'による', '感染', 'を防ぐ', 'ために', '使用', 'である'], ['医療用マスク', 'による', 'マスク', 'マスク', 'など', 'については', '有効性', 'について', 'in', 'en', 'である', 'それ', '使用', 'する', '的に', 'すべき', 'である', 'マスクを', 'した', 'である'], ['マスク', '者の', 'ウイルス', '粒子', 'ことは', '防止', 'ター', 'ほど', '効果が', '大学', 'の研究グループが', '行った', 'により', 'マスク', 'インフルエンザ', '発症', '確認', 'される', 'など', '予防', '効果', 'する'], ['マスクを', 'して', '着用する', '二重マスク', '国内', '見られ', 'コン', 'ター', 'ーション', 'では', '二重マスク', 'による', '防止', '効果', 'であり', '着用する', 'ことが', 'より', 'である', 'されている', 'ために', '多くの', '二重マスク', 'している', 'ード', '大学', '医学', 'によると', 'これは', '対策', 'である', '米国', '予防', 'ター', 'によると', '二重マスク', 'マスク', '他の', '保護', 'レベル', '改善', 'した', '米国', '予防', 'ター', 'サージカルマスク', 'った', 'した', 'マスクを', '着用する', 'ことを', 'めた'], ['その', 'サージカルマスク', 'フェイスマスク', 'ール', 'マスク', 'という', 'ing', 'an', 'ing', 'れる', '使用', 'して', 'サージカルマスク', 'して', 'った', 'フィット', 'こと', 'より', 'れた', '保護', 'できる'], ['米国', '予防', 'ター', '研究', '研究', 'では', '二重マスク', 'または', 'ing', 'an', 'ing', 'ング', 'と比較して', 'エアロゾル', '95%', 'した'], ['▁日本では', '2019', 'までに', 'マスク', 'ウイルス', 'する', '機能', 'マスク', '販売', 'され', 'ていた', 'しかし', '効果が', '見られ', 'ない', 'として', 'マスクを', '製造', 'する', 'に対し', '及び', '防止', 'として', '防止', '対策', 'よう', 'した', 'これ', 'に対して', 'など', 'として', 'している'], ['ガーゼタイプ', 'マスク', 'にも', 'ター', '製品', 'している'], ['装着', 'している', 'フィット', 'マスク', '使用', 'しており', 'って', 'えた', 'しかし', 'エアロゾル', 'を防ぐ', '不織布', 'マスク', 'と比較して', '粒子', 'もの', 'に対して', 'ほとんど', '効果が', 'ない', 'その', 'ため', '感染症', '予防', 'には', 'への', '感染', '防止', 'する', 'ために', '使用', 'すべき', 'ではない'], ['▁20', '20', 'コロナウイルス', '感染症', '流行', 'まで', '一般', '中で', 'マスクを', 'すること', 'ない', '日本', 'した', 'アジア', 'った', 'では', '中で', 'マスクを', 'している', 'される', 'こともあ', 'った', 'アメリカ', 'では', '感染症', 'により', 'マスク', '使用', 'され', 'るようにな', 'って', 'から', 'する', 'した'], ['アジア', 'アジア', 'では', 'れる', 'ない', 'よう', 'ると', 'マスクを', 'する', '一般', 'である', 'マスク', 'される', 'マスク', '日本', 'における', 'マスク', 'よりも', 'ほぼ', 'ような', 'っている', 'また', 'ター', 'があり', 'として', 'する', 'なく', 'ない'], ['地域', 'がある', '地域', 'では', '防塵', 'マスク', 'では', '防寒', 'マスク', 'として', '機能', 'している'], ['には', 'マスク', '使用', 'された', 'には', '流行', 'という', 'ような', 'があり', 'した', 'ると', 'マスク', '使用', 'れた', 'マスク', 'マスク', 'する', 'している', 'になる', 'など', '特に', '19', '80', '流行', 'から', 'マスク', '普及し'], ['また', '日本', 'では', 'ット', 'ではなく', '感染', '予防', 'ために', 'マスクを', 'がある', 'この', '一般', 'した', '200', 'それ', 'には', 'なく', 'って', 'では', 'ある', 'マスクを', 'している', 'ほとんど', 'なかった', 'それ', '20', '18', '平成', '30', 'には', 'って', 'って', '人が', 'マスクを', 'していた', 'という', 'データ', 'がある'], ['この', '一般', 'した', 'から', '流行', '200', '平成', '14', '重症', '呼吸', 'SARS', '世界', '流行', 'による', '予防', 'されている', '200', '新型インフルエンザ', '流行', 'では', 'マスク', 'マスク', 'れる', 'している', 'こと', 'から', 'この', 'までに', '予防', 'ため', 'マスク', '使用', 'したもの', '考え', 'られ', 'ている'], ['この', 'ような', '予防', 'ため', 'マスク', '使用', 'を防ぐ', 'ため', '使用', '日本', 'には', '見られ', '環境', 'でも', 'マスクを', '使用', 'する', '世界', '的に'], ['▁20', '20', 'コロナウイルス', '感染症', '流行', '流行', 'により', '普及し', 'ことで', 'では', '使用', '不織布', 'マスク', 'している'], ['▁20', '10', '世界', 'では', '中国', '生産', 'であった', '中国', 'によると', '2019', '年には', '世界', '生産', '50', '生産', 'している', '2019', '新型コロナウイルス', 'による', '呼吸', '世界', '流行', 'によって', '医療用マスク', 'ラン', 'れた', '20', '20', '年には', 'パンデミック', 'であり', '経済', 'できる', 'レベル', 'まで', '中国', 'している', '大きな', '経済', 'および', 'って', '中国', 'から', 'メーカー', 'など', 'まで', 'した', '時点で', '当たり', '200', 'まで', 'その', 'している', '中国', '20', '20', '20', 'によると', 'マスク', 'である', '英語版', '不織布', 'あたり', '10', '40', 'となった', 'なり', '200', 'サンプル', 'のうち', 'しない', 'あった'], ['新型コロナウイルス', '対策', 'なり', 'ほとんど', '普及し', 'マスク', 'である', 'それ', 'って', 'った', 'れた', 'などの', 'である', 'ーション', 'まだ', 'っている', 'れば', 'マスクを', 'して', 'になる'], ['だけ', 'ではなく', 'よう', 'して', 'である', 'ほとんど', 'ている', 'ない'], ['っている', 'だけ', 'では', 'ために', 'ない', 'って', 'でも', 'マスク', 'ると'], ['以下', 'では', '呼吸用保護具', '顔面', '保護', '分類', '述べる', '呼吸用保護具', '作業', '感染症', '等の', '予防', 'など', '使用', 'されており', 'その', 'マスク', 'では', 'による', '分類', 'ではなく', 'マスク', '機能', 'による', '分類', 'について', '述べる'], ['呼吸用保護具', 'には', 'がある'], ['作業', '環境', 'から', 'して', '供給', 'する', 'タイプ', '呼吸用保護具', '環境', '作業', 'など', 'マスク', 'する', 'がある', 'また', 'をもつ', '呼吸用保護具', 'フィット', 'している', 'があり', '体内', 'になる', '防じんマスク', 'マスク', 'など', 'では', '特に', 'になる'], ['作業', '環境', 'とは', 'した', '供給', 'から', 'として', '供給', 'する', 'タイプ', '呼吸用保護具'], ['供給', '目的', 'する', 'した', 'マスク', 'マスク', 'され', '目的', 'のみ', 'らず', 'への', 'など', 'にも', '用いられる', 'など', '付け', 'られ', 'また', 'など', 'ット', 'マスクを', 'している', 'ではなく', 'した', 'マスク', 'する', '作業', 'マスク', 'マスク', 'もある'], ['顔面', '保護', 'として', 'から', '顔面', '保護', 'する', 'ため', '作業', '顔面', '保護', 'する', 'ため', 'など', 'がある'], ['スト', '防塵', 'マスク'], ['作業', 'マスク'], ['機能', 'えた', 'ター'], ['この', 'には', 'があり', '改善'], ['以下', 'マスク', 'について', '述べる'], ['ング', 'マスク', 'ing', 'mask', 'mask', 'とは', 'にも', '用いられる', '水中', '水中', 'など', '水中', '対応', 'より', 'しており', '水中', '保護', 'という', '水中', '機能', 'から', '呼吸', 'への', 'を防ぐ', '機能', 'をもつ', 'もの', '日本', 'では', '水中', 'マスク', 'あるいは', 'ング', 'マスク', 'という'], ['潜水', 'する', 'だけ', '呼吸', 'する', 'する', 'のみ', 'であり', 'また', '水中', 'する', 'だけ', '水中', 'るため', 'より', 'として', 'られ', 'ている', 'など', 'でも', '水中', 'よう', 'である', 'スポーツ', 'した', 'では', '水中', 'マスク', '使われ', 'こと', 'が多い', '潜水', 'でも', '呼吸', 'できる', 'シュ', '併用', 'すること', '潜水', '時間', 'また', 'ター', 'して', '水中', '水中', '呼吸', '潜水', 'ング', 'シュ', 'ング', 'では', 'できない', '潜水', 'となる', '水中', 'マスク', 'がある', 'ことで', '的に', '使用', 'すること', 'できる', 'だけ', 'なく', 'まで', 'って', 'フェ', '水中', 'マスク', 'ング', 'フェイスマスク', 'ing', 'mask', ')」', 'もある', 'この', 'タイプ', 'マスク', 'している', 'ない', 'フェ', 'ない', 'ない', 'ング', 'マスク', 'ing', 'al', 'mask', ')」', 'れる'], ['ター', 'スポーツ', 'って', '防寒', 'である', 'また', 'まで', 'こと', 'になる', 'して', 'ラン', 'ング', 'ング', 'を行う', 'ング', 'など', '防寒', 'でも', '防寒', 'フェイスマスク', 'ような', 'する', '時に', '細菌', 'ウイルス', 'など', 'を防ぐ', 'マスク', '機能', 'ット', '機能', 'など', 'による', 'から', '機能', 'した', 'する', 'して', 'よりも', 'する', 'でも', 'れた', 'しない', '装着', 'される', 'った', '者の', 'あるいは', 'した', 'として', '、「', 'スポーツ', 'マスク', 'される', 'マスク', '20', '10', '普及し', 'てきた', 'マスク', 'ている', '呼吸', 'して', 'ング', 'できる', 'フィット', 'から', 'したもの', 'から', 'まで', 'って', '防寒', 'タイプ', 'タイプ', 'がある', 'など', 'タイプ', '開発', 'されている'], ['マスク'], ['マスク', 'ヘルメット', 'って'], ['マスクを', 'って'], ['フェ', 'ング', 'フェイスマスク', 'から', 'たところ'], ['ヘルメット', 'フェイスマスク', '装着', 'して', 'クロ'], ['スポーツ', 'マスク', 'とは', '異なる', 'もの', 'として', 'スポーツ', 'など', 'を行う', '顔面', '的に', 'する', 'ため', 'ほぼ', 'それ', 'のみ', 'した', 'フェ', 'ード', '顔面', 'ター', '、「', 'マスク', 'れる', 'がある', 'など', 'への', 'その', '他の', 'しない', '者の', 'った', 'もの', 'ことを', '目的', 'として', '使用される'], ['ール', 'における', 'マスク', 'マスク', 'mask', 'mask', 'あり', 'マスク', 'ヘルメット', 'mask', 'an', 'mask', 'an', 'あり', 'マスク', 'マスク', 'ir', 'mask', 'あり', 'マスク', 'ヘルメット', 'フェ', 'ング', 'マスク', 'フェ', 'ング', 'フェイスマスク', 'フェ', 'ング', 'マスク', 'en', 'ing', 'mask', 'en', 'ing', 'mask', 'en', 'ing', 'ar', 'mask', 'あり', '19', '27', 'から', '197', '年に', '使用', 'され', 'ていた', 'ール', 'マスク', 'al', 'en', 'mask', 'en', ')」', 'ード', 'などの', 'ヘルメット', 'ット', '着用する', 'フェイスマスク', 'あり', 'など', '的な', 'として', 'ことが', 'できる', 'ール', 'マスク', 'した', 'フェ', 'ード', 'ヘルメット', '組み合わせ', 'ヘルメット', 'マスク', 'mask', 'あり', '197', '開発', 'されて', '普及し', 'った', 'こと', 'による', 'をもつ', 'この', 'では', 'マスク', 'をもつ', '部分', 'フェイスマスク', 'とも呼ばれ', 'ている', 'でも', 'ヘルメット', '使用', 'されている'], ['マスク', 'とは', 'ない', 'における', 'アメリカ', 'ット', 'ール', 'ヘルメット', 'など', '目的', 'である', 'ング', 'に用いる', 'にも', '顔面', '保護', 'する', 'フェ', 'タイプ', 'があり', 'これ', 'マスク', 'なく', 'ない'], ['21', 'マスク', '一般', 'クロ', 'など', 'ード', '用いられる', 'において', 'などの', 'されている', 'また', 'として', 'マスク', 'フェ', 'マスク', 'もある', 'マスク', 'って', 'マスク', 'マスク', 'もある'], ['あなたは', 'めた', 'あなたは', 'から', 'めた', 'って', '行われた', 'から'], ['あなたは', 'された', 'ではなく', 'られる', 'ことは', 'ない'], ['それ', 'れる'], ['あなたは', '者の', 'なり', '者の', 'なり', 'なり', 'られた', '者の', 'よう', 'から', 'である', 'あなたは', 'って', 'よう', '者の', 'られる'], ['この', 'すべての', 'ために', 'えた', 'もの', 'って', 'えた', 'って', 'られる', 'すなわち', 'えた', 'もの', 'えた', 'って', 'られる'], ['また', 'この', 'すべての', 'っている', 'すべての', 'っている', 'られる'], ['すべての', 'から', 'その', 'から', 'れる', 'これは', 'られた', 'こと', 'である'], ['として', 'マスク', '人が', '一般', 'に用いる', '防寒', 'マスクを', 'マスク', 'でも', '対策', '防塵', '対策', 'に用いる', 'それ', 'として', 'まで', '防寒', '目的', 'として', 'に用いる', 'マスク', 'のみ', 'する', 'すなわち', 'マスク', 'である', '分類']]\n"
          ]
        }
      ]
    },
    {
      "cell_type": "markdown",
      "metadata": {
        "id": "1vO-XV8GB6hZ"
      },
      "source": [
        "### ２）リスト内法表記による実装"
      ]
    },
    {
      "cell_type": "code",
      "metadata": {
        "id": "DD-iwOtVKgx8",
        "colab": {
          "base_uri": "https://localhost:8080/"
        },
        "outputId": "1c441d97-014a-4549-e28e-f67631951649"
      },
      "source": [
        "res =[[w for w in l1 if len(w) != 1] for l1 in l]\n",
        "print(res)"
      ],
      "execution_count": null,
      "outputs": [
        {
          "output_type": "stream",
          "name": "stdout",
          "text": [
            "[['デキサメタゾン', 'on', '炎症', 'ID', 'である', '炎症', 'なく', '炎症', '反応', '反応', 'する', '炎症', '炎症', 'などの', '使用される', '商品名', 'として', '使われ', '日本での', '付け', 'スト', 'ング', '医薬品', 'がある', 'デキサメタゾン', '19', '年に', 'された', 'WHO', '医薬品', 'スト', 'されている'], ['デキサメタゾン', 'エリキシル', 'または', 'その', 'でも', 'である', 'には', 'った', 'ーション', 'があり', 'リー', 'ーション', 'である'], ['では', '日本での', '付け', 'スト', 'ング', 'では', 'デキサメタゾン', '商品名', 'デキサメタゾン', 'では', 'デキサメタゾン'], ['▁日本では', '19', 'mg', '販売', '200', '防止', '対策', 'から', 'mg', '販売名', '承認', 'EC', '10', 'を持つ', 'であり', '10', 'また', '10', '後に', '開発', 'された', 'という', 'られた', '200', '投与', '症状', '追加', 'となった'], ['▁20', '10', '11', '株式会社', 'から', '株式会社', '製造', '販売', '承認', 'された', '20', '10', '治療薬として', '株式会社', 'から', 'mg', 'された', '治療薬', 'である', 'en', 'al', '併用', 'する', 'デキサメタゾン'], ['する', '20', '14', '20', 'mg', '販売', '開始した'], ['19', 'デキサメタゾン', 'ール', 'など', 'した', 'エリキシル', '、「', 'エリキシル', 'として', '販売', '200', '20', '、「', 'エリキシル', 'され', 'された'], ['19', 'デキサメタゾン', '承認', 'った', '200', '販売名', 'から', 'mg', 'mg', 'mg', '、201', 'より', 'ジャ', '株式会社', '販売', 'を受け'], ['19', 'デキサメタゾン', 'リー', '%)', '19', 'ーション', 'から', '販売', '開始された', '後発医薬品', '販売', 'されている'], ['多くの', '重症', 'など', 'である', 'など', '抗生物質', '併用', 'される', 'では', 'より', 'である', 'など', '併用', 'される', '早期', 'に対して', 'ために', '用いられる', 'また', '投与', '時に', 'に対して', 'される'], ['および', '重症', '感染症', '投与', '症状', '科疾患', '科疾患', '科疾患', '科疾患', '科疾患', '科疾患', '科疾患', '科疾患', 'がある'], ['デキサメタゾン', '効果', 'の場合', '日以内に', '見られ', '程度', 'する'], ['▁デキサメタゾンは', '多くの', '炎症', 'などの', '英語版', 'の治療に用いられ', '減少', 'による', '減少', 'である', '40', 'mg', '日間', '投与', '14', '治療', 'できる', 'の場合', '他の', 'と比較して', 'デキサメタゾン', 'ではない'], ['らず', '等の', '英語版', '後に', 'ために', '使用される'], ['治療薬として', 'される', '併用', 'される'], ['の治療に', '用いられる'], ['英語版', '用いられる', '抗生物質', '併用', 'がある', '米国', 'では', '英語版', '治療薬として', 'デキサメタゾン', '体内', '承認', 'されている'], ['▁デキサメタゾンは', 'メーカー', '炎症', '反応', 'する', 'ために', '用いられる', 'メーカー', 'する', '炎症', 'して', 'ング', 'する', 'この', '時の投与量', '通常', 'mg', 'である'], ['細菌', '症例', 'に対して', '抗生物質', '投与', 'デキサメタゾン', '使用される', 'この', '場合は', '抗生物質', 'した', '細菌', '炎症', 'して', '患者に', 'に対する', '反応', 'する'], ['を受け', 'ている', '患者', 'に対して', '副作用', '治療', '予防', '目的', 'として', 'デキサメタゾン', '投与', 'される', 'デキサメタゾン', '等の', '英語版', 'する'], ['に対して', '治療', 'ために', 'デキサメタゾン', '使用', '他の', 'への', '英語版', 'している', '場合に', '使用される'], ['▁デキサメタゾンは', '英語版', '特に', '治療薬として', 'または', '併用', 'など', 'として', '用いられる', 'シン', '併用', 'される'], ['▁デキサメタゾンは', 'である', 'の治療に', '使用される'], ['の場合', '効果が', '時に', 'デキサメタゾン', '使用される'], ['から', 'に対して', '産生', 'する', 'ために', '用いられる', 'この', '場合は', '通常', '投与', 'する'], ['▁デキサメタゾンは', 'ある', 'に対して', 'ために', '投与', 'される', 'これ', 'により', '増加', 'する', '死亡', '増加', 'しない'], ['デキサメタゾン', '使用', 'として', 'CAH', '症状', '治療', 'への', '使用', 'がある', 'CAH', 'となる', '特に', 'すべき', 'もの', 'である', '早期', 'から', 'CAH', '治療', 'する', 'CAH', '症状', 'できる', '的な', '治療', 'できない'], ['デキサメタゾン', '投与された', '小児', 'への', '長期', '臨床試験', 'された', '患者', 'ない', '高い', '結果', 'とは', 'され', 'ない', 'デキサメタゾン', '投与', 'CAH', 'って', '実施', 'される', 'コン', 'ント', 'されて', 'ている'], ['▁デキサメタゾンは', '英語版', '英語版', 'の治療に用いられ', 'する', '者の', '治療', '使用される'], ['デキサメタゾン', '併用', 'する', '用いた', 'よりも', '予防', '効果が', '高い'], ['ード', '大学', '行った', '臨床試験', 'では', 'デキサメタゾン', '新型コロナウイルス感染症', '2019', '確認', '患者に', '投与', 'した', '結果', '呼吸', '患者', 'マスクを', '供給', 'した', '患者', '20', '死亡', 'った', 'この', '結果', 'を受け', 'イギリス', 'デキサメタゾン', '感染症', '治療薬として', '承認', 'した', '日本', 'でも', '20', '20', '21', '日に', 'レムデシビル', '効果が', 'され', '国内', '使用', 'が認められた', '治療薬', 'となった'], ['感染症', 'ある', 'または', 'への', '投与', 'されている'], ['その', 'ほか', 'として', 'されている'], ['米国', '文書に記載', 'されている'], ['である'], ['副作用', 'として', '機能', 'ング', 'など', 'がある', '長期', '使用', '時に', '減少', 'する', '米国', '分類', 'である', 'では', 'され', 'ない', 'である', 'には', 'すべき', 'ない'], ['副作用', 'として', '感染症', '感染症', '機能', 'および', '等の', 'がある', 'である', 'のみ'], ['デキサメタゾン', '副作用', '発現', 'ていない', '文書に記載', 'されている', '副作用', 'もの', 'である', 'から', 'された', '発現', '文書に記載', 'されている'], ['一般', '的な', '副作用'], ['副作用'], ['では', '高い', 'では', '長期', 'しない', 'よう', 'への', 'スト', 'ング', '使用', 'され', '以下', 'される', 'あるいは', 'では', 'する', 'がある'], ['長期', '後に', 'する', '症状'], ['について', 'によれば', '医師', '患者', 'って', 'らず', '使用', 'すべき', 'ではない'], ['する', '薬物', 'として', 'もの', 'られ', 'ている'], ['▁デキサメタゾンは', 'グラ', 'シュ', 'ていない', '増加', 'である', 'ために', '使われ'], ['▁デキサメタゾンは', 'スポーツ', 'ング', '指定', 'されている', '20', '14', '11', '世界', 'ント', 'リー', 'デキサメタゾン', '反応', 'ために', '世界', 'ント', 'から', 'を受け', '薬物', '使用', 'している'], ['シン', '英語版', 'および', 'クロ', 'ール', '組み合わせ', 'デキサメタゾン', '等の', '感染症', 'の治療に用いられ', 'クロ', '組み合わせ', 'および', 'の治療に用いられ'], ['レムデシビル', 'ir', '開発', 'ード', '商品名', 'リー', 'ウイルス', 'ギリアド', '開発', 'エボラ出血熱', '及び', 'ール', 'ウイルス', '感染症', '治療薬として', 'だけ', 'なく', 'RNA', 'ウイルス', 'ウイルス', 'ウイルス', 'ウイルス', 'ウイルス', 'ンド', 'ウイルス', 'および', 'SARS', 'ウイルス', 'を含む', 'コロナウイルス', 'に対して', 'ウイルス', 'ことが', 'された'], ['により', '2019', '新型コロナウイルス', 'SARS', 'CoV', '-2', '2019', 'CoV', 'を含む', 'コロナウイルス', 'および', 'ウイルス', 'ンド', 'ウイルス', '感染症', 'ウイルス', 'となった'], ['15', '24', 'on', 'である'], ['▁201', '10', 'アメリカ', '感染症', '医学', '研究所', 'USAMRIID', 'エボラ', 'ウイルス', 'した', 'という', '結果', '発表した', 'エボラ', 'ウイルス', '流行', '、201', 'から', '20', '16', 'まで'], ['200', 'から', 'USAMRIID', '研究', 'ている', 'ar', 'en', 'この', '研究', 'USAMRIID', 'ギリアド', '的な', 'の結果', 'である', 'ている', 'ウイルス', 'を持つ', 'るため', 'ギリアド', 'リー', '用いた', '初期', 'リー', 'ング', 'アメリカ疾病予防管理センター', '科学', 'によって', '行われた'], ['その', '研究', 'の結果', '的な', '治療薬として', '開発', 'する', 'である', 'され', '、201', '10', '日から', '11', 'まで', 'コン', 'ター', '英語', 'an', 'on', 'en', 'on', 'en', 'された', 'アメリカ', '感染症', '英語', 'ID', 'ID', '発表', 'された'], ['エボラ', '研究', 'アメリカ', 'レベル', 'である', '施設', 'である', 'USAMRIID', '研究所', '実施', 'された', 'この', '研究', 'アメリカ', 'および', '対策', 'から', '資金', 'を受け', 'ている'], ['研究', 'レベル', 'では', 'レムデシビル', 'SARS', 'CoV', 'CoV', 'を含む', 'ウイルス', 'に対して', '効果', 'である', 'ことが', 'されている', 'この', '、201', 'から', '20', '16', 'エボラ', 'ウイルス', '流行', '感染', '治療', 'する', 'ために', 'された', 'である', 'ことは', 'した', 'エボラ', 'に対して', '効果', 'では', 'なかった'], ['レムデシビル', '、201', 'から', '20', '16', 'エボラ', 'ウイルス', '流行', 'ために', '臨床試験', 'られ', 'まだ', '初期', '開発', 'にもかかわらず', 'なく', '患者に', '投与された', '的な', '結果は', 'であり', '、201', '年に', 'った', 'コン', 'エボラ出血熱', '流行', '中で', '病院', '治験', '2019', 'まで', '使用', 'された', 'コン', '保健', 'によると', 'クロ', '治療', '14', 'など', 'その', '有効性', 'かった', 'しかし', 'この', '試験', '投与', 'によって', '安全性', 'ファ', 'された'], ['レムデシビルの', 'である', '15', '24', 'コロナウイルス', 'の治療に', 'である'], ['▁20', '20', 'アメリカ', 'コンパッショネート', '使用', 'めた', 'であり', '日本', 'では', '承認', '制度', '、20', '20', '日に', '正式に', '新型コロナウイルス感染症', 'OV', 'ID', '-19', 'への', '治療薬として', '世界', '承認', 'された', 'により', '10', '日間', '投与', 'する'], ['2019', '新型コロナウイルス', 'SARS', 'CoV', '-2', 'によって', '起こ', 'された', '新型コロナウイルス感染症', '流行', '対応', 'して', 'ギリアド', '中国', '医療機関', 'して', 'その', '効果', '研究', 'する', 'ために', '患者', 'レムデシビル', 'した', 'ギリアド', '新型コロナウイルス感染症', 'に対する', 'レムデシビルの', '開始した', 'ギリアド', 'レムデシビル', 'SARS', 'および', '実験', '有効', 'である', 'ことが', 'された', ')」', 'と述べた'], ['▁20', '20', '新型コロナウイルス', '感染', 'している', 'ことが', '確認', 'された', '米国', '患者に', '承認', 'コンパッショネート', '使用', 'として', '投与された', '肺炎', 'した', '投与', 'った', '患者', '的に', '改善', '的に', 'した', 'ただし', 'この', '薬物', '効果', 'による', 'ものである', 'する', 'ことはできない'], ['中国', '医学', '研究', '30', '薬剤', 'した', '研究', 'のうち', 'レムデシビル', 'クロロキン', 'レベル', '新型コロナウイルス', 'に対し', 'なり', '効果', 'がある', 'ir', 'in', 'bi', ')」', '報道', 'に対し', '発表した'], ['日に', 'である', 'ar', '中国', '科学', '武漢', 'ウイルス', '研究所', 'など', 'の研究グループが', '発表した', 'ター', '論文', 'によれば', 'invitro', '試験', '環境', 'レムデシビル', 'を含む', '新型コロナウイルス', 'に対する', 'ウイルス', '効果', '50%', '効果', 'EC', '50', 'として', '評価', 'する', '試験', 'たところ', 'レムデシビルの', 'EC', '50', 'ol', 'であり', 'された', 'のうち', 'では', '高い', '効果', 'していた'], ['中国', 'レムデシビルの', '臨床試験', '開始された'], ['15', '日付けの', '科学技術', 'invitro', '試験', 'の結果', 'に基づい', 'レムデシビル', 'にも', 'ファビピラビル', 'クロロキン', '臨床試験', '開始した', 'と発表した'], ['12', '日に', '米国', '研究', 'する', '的な', '研究チーム', 'である', 'OV', 'ID', '-19', 'on', 'ント', 'した', '論文', 'によれば', '、1', '20', '日から', '日に', 'アメリカ疾病予防管理センター', 'により', '新型コロナウイルス', 'への', '感染', 'した', '米国', 'における', '12', '人の患者', 'について', 'たところ', '12', '人の患者', 'のうち', '人が', '入院', '治療', 'を受け', 'さらに', 'この', 'に対して', 'レムデシビル', '投与', 'され', 'ていた', '研究チーム', 'レムデシビルの', '投与', 'コン', 'ール', 'された', 'ラン', '対照', '試験', '行われた', 'もの', 'ではない', 'その', '治療効果', 'については', '評価', 'できない', 'している', 'レムデシビルの', '副作用', 'については', 'これを', '投与された', '人の患者', 'を含む', '治療', 'を受け', '人の患者', 'ラン', 'ファ', 'AST', 'および', 'ALT', '見られ', 'これ', 'レムデシビルの', 'については', 'ていない', 'グラ', 'から', 'があり', 'のみ', '14', '日付けの', '米国', 'ol', 'en', 'によれば', 'この', '論文', 'されている', 'レムデシビルの', '副作用', 'である', 'レムデシビルの', 'ない', 'ほど', 'である', 'している', 'ただし', 'en', 'によれば', 'この', '臨床試験', 'において', 'レムデシビル', '投与群', 'それ', '患者', 'ラン', 'された', 'ではない', 'レムデシビルの', '副作用', '判断する', 'である', 'ている'], ['10', '医学', 'ニュー', 'グラ', 'ンド', 'ジャ', 'メディ', 'シン', '発表', 'された', 'ギリアド', '資金', 'レムデシビルの', '臨床研究', 'を実施し', '研究', 'した', '論文', 'on', 'ir', 'en', '-19', 'によれば', 'レムデシビルの', '重症', 'のコロナ肺炎患者', 'への', 'コンパッショネート', '臨床試験', 'データ', 'たところ', '人の患者', '%)', '患者', '呼吸', '機能', '改善', '見られ', 'している', '重症患者', 'のうち', 'EC', 'または', '呼吸', '使用', 'それ', '19', 'であった', 'として', 'により', '200', 'mg', 'それ', '10', 'mg', '10', '日間', '投与', 'であった', '改善', 'について', '呼吸', '機能', 'のみ', 'したもの', 'であり', '改善', 'など', 'については', 'られ', 'ていない', 'この', '臨床試験', 'まで', 'コンパッショネート', 'であり', '二重盲検', 'ラン', '投与群', '対照群', 'を投与する', 'する', '対照', '試験', 'ではない', '現在', 'この', 'ような', '対照', '試験', '実施', 'であり', 'さらに', 'られる', 'であろう', 'がある', '12', '発表', '論文', 'でも', 'され', 'ていた', 'ALT', 'AST', '対象', 'でも', '12', '23', '%)', '患者', '認められ', 'これを', '副作用', 'が認められた', '患者', '0%', 'であった'], ['23', '米国', '医学', '報道', '報道', 'によれば', 'ギリアド', '中国', '実施', 'していた', 'レムデシビルの', 'による', '初期', '臨床試験', '報告', 'って', '世界', '保健', 'WHO', 'され', 'された', 'していた', 'この', 'によれば', 'コロナ肺炎', '患者', '23', 'のうち', '15', 'レムデシビル', '投与群', '対照群', '投与', 'として', '試験', 'を実施し', 'たところ', '死亡', 'レムデシビル', '投与群', '13', '対照群', '12', '.8%', 'であり', '見られ', 'なかった', '報告', 'している', '同日', 'された', 'から', 'レムデシビルの', '初期', '臨床試験', 'った', 'ると', '製造', 'メーカー', 'である', 'ギリアド', '6%', 'ギリアド', 'なく', 'られた', '治験', 'であり', '結果は', 'ではない', 'した'], ['30', '日に', 'ギリアド', 'リー', 'レムデシビルの', '報告', 'した', '試験', 'において', 'レムデシビル', 'プラセボ', 'と比較して', 'まで', '期間', '11', '15', 'また', '14', '日目', '時点で', '死亡', '改善', 'あった', '.1%', '11', '%)', 'また', '試験', 'において', 'レムデシビルの', '日間', '投与', '10', '日間', '投与', 'され', '有効性', 'なかった'], ['12', '日に', '日本での', 'への', '供給', '開始した', 'ことが', 'により', '発表', 'された'], ['ギリアド', 'を持つ', '患者', 'あたり', '23', '40', 'する', 'と発表した', '当たり', '的な', '治療', 'では', '日間', '投与', 'される', '米国', 'では', 'この', '評価', 'された', 'では', '10', 'mg', 'レムデシビル', 'an', 'ar', 'al', '米国', 'または', 'in', 'Ltd', 'スト', 'リー', '製造', 'した', 'クロ', 'スト', '商品名', 'ol', 'または', 'ol', 'として', 'あるいは', '使用', 'されている'], ['10', '17', 'WHO', '治験', 'の結果', 'レムデシビル', '新型コロナウイルス', '効果が', 'なかった', '的な', '研究', '結果', '発表', '11', '20', '副作用', 'への', 'から', '新型コロナウイルス', '患者', 'に対して', '使用', 'しない', 'ことを', 'した', '厚生労働省', '時点で', '承認', '考え', 'らず', 'によると', 'として', '重症患者', '投与', 'する', 'されて', '時に', 'WHO', 'した', 'データ', '追加', 'など', 'する'], ['12', '10', 'ニュー', 'ウイルス', 'した', 'レムデシビル', 'した', '発表', 'した'], ['レムデシビル', '体内', 'を受け', 'その', '15', '24', '三リン酸', '15', '24', '三リン酸', 'ウイルス', 'RNA', 'ウイルス', 'による', 'すること', 'する', 'シン', 'シン', 'であり', 'ウイルス', 'RNA', '産生', '減少', '起こ', 'RNA', '合成', '起こ', 'である'], ['部分', '起こ', 'マウス', 'ウイルス', 'RNA', '20', '18', '年に', '確認', 'された', 'これら', 'した', '薬剤', 'ない', '環境', 'において', 'って', 'なく', 'であろう', '研究', '考え', 'ている'], ['シン', 'en', 'in', 'an', 'al', 'an', 'al', '分類', 'される', 'ウイルス'], ['ワクチン', 'in', 'in', '感染症', '予防', 'に用いる', '医薬品', '病原体', 'から', 'られた', 'あるいは', '弱毒化', 'された', '抗原', 'その', 'もの', 'または', '病原体', 'された', 'RNA', '合成', 'したもの', 'ワクチン', 'によって', '発現', 'された', 'タンパク質', 'ワクチン', 'など', 'を投与する', 'ことで', '体内', '病原体', 'に対する', '産生', '感染症', 'に対する', 'する'], ['ワクチンは', '感染症', '予防', 'において', '的な', 'であり', '世界', 'ワクチンの', '予防接種', '行われ', 'ている', 'ワクチンは', '抗生物質', 'ない', 'ウイルス', '感染症', '効果', 'がある', '細菌', '感染症', 'している', '薬剤', 'への', '対策', '予防', '医学', 'において', '特に', 'されている', '予防', '感染', '者の', '治療', 'よりも', '効果が', '高い', 'ため', 'ワクチン', '予防', 'できる', '病気', 'ワクチン', '予防', 'すること', 'されており', 'アメリカ', 'など', 'では', 'この', '考え'], ['感染症', '流行', '地域', 'する', 'には', '感染症', 'ワクチン', '接種', 'されており', '特に', 'ワクチン', 'に関して', 'して', '接種', 'ード', '接種', 'する'], ['ワクチン', 'という', 'する', '世界', 'ワクチン', 'である', '天然痘', 'ワクチン', 'から', 'られた', 'ため', 'この', 'られた', 'イギリス', '英語', '英語', 'アメリカ', '英語', '英語', 'である', '日本', 'ワクチンは', 'ドイツ', 'している'], ['天然痘', 'かった', '感染', 'しない', 'ことは', 'から', 'られ', 'ていた', 'この', 'ため', '弱毒化', 'した', '天然痘', '接種', 'して', '天然痘', '感染', 'アジア', 'では', '行われ', 'ており', '18', 'には', 'イギリス', 'から', 'った', 'もの', 'とは', '天然痘', 'である', 'ため', '死亡', 'もの', 'とは', 'かった', '18', 'には', '病気', 'である', '感染', 'したもの', '天然痘', 'なく', '軽症', 'になる', 'ことが', '的に', 'られ', 'るようにな', 'てきた', 'これを', 'った', 'イギリス', '医学', 'ード', '17', '年に', '付け', '後に', '天然痘', '接種', 'して', 'これ', 'である', 'ことを', 'した', 'これ', 'ワクチン', 'である', '天然痘', 'ワクチンの', 'となった', '17', '年に', '効果', 'について', '研究', 'して', '1800', 'って', 'こと', 'となった'], ['天然痘', 'ワクチンの', '製造', 'したもの', 'この', 'ほか', '病気', 'とは', '考え', 'られ', 'らず', 'ワクチンは', 'られる', 'ことが', 'なかった', 'しかし', '18', 'ると', '微生物', '中で', 'ール', '予防', '研究', 'この', '中で', '病原体', 'これを', '弱毒化', 'れば', 'その', '接種', 'によって', 'られる', 'ことを', 'めた', 'この', 'ール', '18', '年には', 'ワクチン', '18', '年には', 'ワクチン', '開発', '科学', '的な', 'ワクチン', '製造', 'した', 'これ', 'によって', '感染症', 'に対する', 'ワクチン', 'られ', 'るようにな', 'った'], ['ワクチンの', '予防接種', '多くの', '行われ', '、201', '時点で', '200', 'から', '30', 'っている', 'されている', 'ワクチン', '投与', 'する', '感染症', 'されており', '19', '年に', '開始された', '天然痘', 'では', '患者', 'への', '的な', 'によって', '197', '年に', '19', '80', '年に', '正式に', '確認', 'された', 'した', '感染症', '20', '17', '時点で', '天然痘', 'のみ', 'である', 'など', '感染症', 'ワクチン', '投与', 'による', 'している'], ['ワクチンの', '病気', 'に対する', 'ワクチン', '開発', 'され', 'てきた', 'もの', 'などの', 'よう', 'まだ', 'ワクチンの', 'しない', '病気', 'する'], ['▁20', '20', '年に', '世界', '中で', 'パンデミック', '起こ', 'した', '新型コロナウイルス感染症', 'には', 'ワクチン', 'なかった', 'ため', '世界', 'OV', 'ID', '-19', 'ワクチンの', '開発', 'めた', 'には', 'ワクチンの', '開発', '12', '日に', 'イギリス', 'ファ', 'ワクチンの', '接種', '開始された'], ['▁20', '20', '時点で', '接種', '行われ', 'ている', 'ワクチンは', 'ワクチン', '不活化ワクチン', 'れる', 'OV', 'ID', '-19', 'ワクチンは', 'RNA', 'ワクチン', 'ワクチン', 'など', 'ワクチン', 'とは', '異なる', 'ワクチン', '開発', 'である'], ['めた', '微生物', 'ウイルス', '使用', 'のみ', 'らず', 'できる', 'ため', '不活化ワクチン', '期間', '生産', 'スト', '投与', 'なく', '経済', 'れる', '的な', 'もの', '部分', 'が多い', 'ため', '開発', 'また', 'っている', '病原体', 'ため', 'ワクチン', '感染', 'による', '副反応', '発現', 'する', 'ある', 'している', '場合は', 'ワクチン', '接種', 'して', 'ない', '不活化ワクチン', 'には', 'できない', 'など', '異なる', 'ウイルス', 'にも', 'できる', '産生', 'される'], ['ワクチン', 'とも呼ばれ', '不活化ワクチン', 'など', 'により', 'ウイルス', '細菌', '使用', '効果', 'において', 'である', '抗原', '部分', 'のみ', 'したもの', '不活化ワクチン', 'される', 'こともあ', '以下', 'その', 'られる', 'もの', 'ワクチン', 'より', '副反応', 'なく', '安全性', '高い', 'その', '期間', 'こと', 'があり', 'この', 'ため', '接種', 'が必要', 'もの', 'が多い', 'ワクチン', 'インフルエンザ', 'ワクチン', 'の場合', 'でも', '投与', 'である'], ['では', 'ない', '抗原', '部分', 'だけ', 'では', 'できない', 'この', 'ため', '肺炎', 'ワクチン', 'など', 'ではない', '抗原', 'ワクチン', 'では', '接種', 'する', 'して', '抗原', 'などの', 'されている'], ['また', 'インフルエンザ', 'ワクチン', 'については', '197', '粒子', 'ワクチン', '使用', 'による', '副反応', '死亡', 'あるいは', '重篤な', 'かった', 'こと', 'それ', 'とは', '異なる', '安全性', '高い', 'ワクチン', 'でも', '10', '0%', '発症', 'ことはできない', 'こと', 'から', '接種', 'として', 'する'], ['しかし', 'を持つ', 'など', '人が', 'インフルエンザ', 'した', '場合に', '肺炎', '等の', '重篤な', '入院', '死亡', 'などの', 'する', '効果が', '世界', '的に', '認められ', 'ている', 'これ', '世界', '保健', 'WHO', '世界', '特に', 'に対する', 'インフルエンザ', 'ワクチン', '接種', '的に', 'ている', 'である'], ['日本', '承認', '日本', '国内', '接種', '場合は', '輸入', '医療機関'], ['その'], ['ウイルス', 'ター', 'ワクチンは', 'ウイルス', '使用', 'して', '病原体', '体内', 'タンパク質', 'などの', '特定', '抗原', 'して', 'ものである'], ['ある', '病原体', '産生', 'する', 'のみ', 'して', 'など', '抗原', 'のみ', 'したもの', '接種', 'その', 'に対する', 'もの', '病原体', 'その', 'もの', 'する', 'ではない', 'には', 'ワクチン', 'ない', 'という', '考え', 'もある'], ['ウイルス', 'から', '特定', 'タンパク質', 'これを', '投与', 'すること', 'によって', '抗原', 'する'], ['ある', '細菌', 'っている', 'これら', 'タンパク質', 'など', 'こと', 'により', 'タンパク質', '抗原', 'である', 'よう', 'すること', 'できる', 'この', 'インフルエンザ', 'ワクチン', 'されている'], ['ワクチンは', '、「', 'ワクチン', 'とも呼ばれ', '他の', '病原体', 'である', 'ワクチン', 'であり', '治療', '対象', '病気', '起こ', 'ない', '病気', '起こ', '的な', '天然痘', '予防', 'ために', '使用', 'した', 'こと', 'である', '現在', 'では', '予防', 'ために', 'から', 'られた', 'ワクチンの', '使用', 'である'], ['RNA', 'ワクチン', 'または', 'RNA', 'ワクチン', 'ジャ', 'RNA', 'RNA', 'を含む', 'ワクチン', 'である', 'RNA', '保護', 'ことで', 'られる', 'OV', 'ID', '-19', 'パンデミック', 'する', 'ために', '、20', '20', 'から', 'OV', 'ID', '-19', 'ワクチン', 'として', 'RNA', 'ワクチンの', '開発', 'られ', 'ており', 'アメリカ', 'では', 'ワクチン', 'に対して', '使用', 'された'], ['ウイルス', '粒子', 'ir', 'ar', 'ワクチンは', 'ウイルス', 'を持つ', 'ない', 'その', 'ため', '感染', 'しない', '高い', '効果', '有効性', 'できる', 'ワクチン', 'であり', '安全性', '高い', 'される'], ['ワクチンは', '20', '21', '現在', 'されていない', '株式会社', 'である', 'メディ', '新型コロナウイルス感染症', 'OV', 'ID', '-19', 'ワクチン', 'として', 'ウイルス', '粒子', 'ir', 'ar', 'ワクチン', '開発', '-2', '開発', '臨床試験', '承認', 'っている', 'である', '承認', 'され', 'れば', '世界', 'ワクチン', 'となる', '日本', 'でも', '20', 'までに', '承認申請', 'している'], ['多くの', '的な', 'ワクチン', '開発', '中で', '使用', 'されている'], ['ほとんど', 'ワクチンは', '微生物', 'または', '弱毒化', 'られ', 'ている', '合成', 'ワクチンは', 'または', '合成', 'または', '抗原', 'など', 'されている'], ['が多い', '経口', 'ワクチン', 'ウイルス', 'ワクチンの', '経口', 'ワクチン', 'もの', 'また', 'ワクチン', '付け', 'ワクチン', '開発', 'されている', 'ほか', 'ような', '製品', 'もある', 'ワクチンの', '場合は', '接種', 'られる', 'こともあ', 'ほとんど', 'ワクチンは', '接種', '必要となる', 'これは', '接種', 'では', 'それ', 'ほど', 'られる', 'ない', 'の場合', '接種', 'では', 'られる', 'する', 'ター', '効果が', 'るため', 'である'], ['▁日本では', 'ワクチン', '接種', '27', '不活化ワクチン', 'ことが', 'されている', '医師', '認められ', '場合に', '同日', '接種', 'である', '同日', '接種', 'を行う', 'こと', 'によって', '安全性', '効果', 'すること', 'なく', 'また', 'しない', 'ため', '減少', 'などの', 'ット', '同日', '接種', 'されている', '接種', 'できる', 'ワクチンの', 'ない', 'また', '同日', '接種', 'ワクチン', '2.5', 'ことが', 'られる', 'ワクチン', 'して', '接種', 'する', 'ことはできない'], ['WHO', 'アメリカ疾病予防管理センター', 'として', '以下', 'ような', 'ている'], ['その', 'メーカー', '追加', 'ール', '指定', 'すること', 'があり', '経口', '経口', 'ワクチンは', '時間', 'という', 'ール', 'がある'], ['接種', '理論', '接種', 'を受け', 'るため', '者の', 'から', 'ではない'], ['日本', '使用', 'されている', 'ワクチンは', '世界', 'されている', '日本', '通常', '接種', 'されている', '日本', 'ワクチン', 'WHO', 'ワクチン', 'して', '接種', 'など', 'する', '医学', 'されていない'], ['とは', '病原体', '接種', 'する', 'ため', 'ない', '反応', '起こ', 'こと', 'がある', 'もの', 'として', '投与', '症状', 'など', 'がある', 'もの', 'として', '減少', 'など', 'られる', 'ワクチン'], ['ワクチン', '接種', '報告', 'され', 'ウイルス', 'などの', '感染', 'となる', '重篤な', 'これら', 'ワクチンの', '接種', 'によって', '起こ', '炎症', 'ラン', 'など', 'があり', 'ラン', 'では', '報告', 'あった', 'ワクチンは', 'ほか', 'と比較して', 'である'], ['治験', 'では', 'なかった', '副作用', 'される', 'よう', 'される', '時に', '接種', 'ワクチンの', 'れる'], ['▁201', '研究', 'ワクチン', 'であった'], ['ワクチン開発', '弱毒化', 'などの', '研究', '行った', 'による', '臨床試験', 'ない', 'その', 'に分け', '臨床試験', 'を行う', '試験', '後に', 'による', '承認', '行われ', '承認', 'され', 'れば', '生産', '販売', 'この', '承認', '行われ', 'ある', '承認', 'された', 'ワクチン', 'でも', '使用', 'する', '場合に', '必要となる', 'ただし', 'ある', '感染症', '流行', '有効', 'ワクチン', 'しない', '対策', 'として', 'から', 'ワクチン', '輸入', '使用', 'すること', '認められ', 'がある', 'ワクチン開発', 'される', '感染症', '予防', '重症', '効果', '副反応', 'など', 'えた', '安全性', 'して', '開発', '生産', '接種', 'スト', 'する', '経済', 'であり', 'これら', 'のうち', 'でも', 'した', '場合は', 'され', 'ない', 'した', 'がある', 'ため', 'ワクチン開発', '期間', 'でも', '10', '必要となる'], ['ワクチン開発', 'には', '資金', '期間', '接種', 'を行う', '生産', '必要となる', 'ため', 'れた', '開発', '供給', 'する', 'あり', '2019', '年には', 'イギリス', 'グラ', 'アメリカ', 'アメリカ', 'ファ', 'して', 'フランス', 'ワクチン', 'ている', 'これ', 'えた', 'ワクチン', 'メーカー', 'れる', 'ワクチン', 'であり', '、201', '年には', '500', 'っている', 'さらに', 'ている'], ['感染症', 'に対する', 'ワクチン開発', '時間', 'する', 'ため', '流行', 'して', 'する', '資金', 'なく', 'される', 'こと', 'がある', 'グラ', 'では', 'エボラ出血熱', '対応', 'する', 'ワクチン開発', 'てきた', '臨床試験', '時点で', '流行', 'ていた', 'コン', 'であり', 'ター', 'ない', 'として', '開発', 'ワクチン', '2019', 'までに', 'アメリカ', 'した'], ['▁日本では', '18', '年に', 'ット', 'ット', 'リー', '天然痘', '輸入', '的に', 'った', '19', '年には', 'され', '19', '年には', '予防接種', 'されて', '天然痘', '感染症', 'でも', '予防接種', 'された'], ['19', 'った', 'インフルエンザ', 'ワクチンの', '19', '80', 'まで', '報道', 'された', '予防接種', 'による', 'によって', '197', '予防接種', 'され', '制度', 'された', '長期', 'その', '結果は', 'なり', '、「', '予防接種', '効果', 'ない', '副反応', 'する', 'もの', 'という', 'った', 'だけ', 'なく', 'にも', '19', '年には', '予防接種', 'され', 'ワクチン', '接種', 'から', 'られる', 'こと', 'った', 'ただし', '接種', 'として', '行われ', 'ものである', 'ため', '行われ', 'ており', 'ほとんど', 'の場合', 'である'], ['日本', '19', '80', 'まで', '世界', 'ワクチン開発', 'ていた', '副作用', 'による', 'メーカー', '開発', '接種', '的に', 'なり', 'ワクチンの', '開発', 'ほぼ', '行われ', 'なく', 'った', '19', '開発', 'された', 'ワクチン', '日本', 'では', 'ほとんど', 'され', '、「', 'ワクチン', 'される', 'ほど', 'ワクチン開発', 'れた', 'となった', 'この', '200', 'ワクチンの', 'られた', 'ことで', 'され', 'ある'], ['200', 'って', '日本', 'ワクチン', '接種', '発症', 'ワクチン', '小児', '肺炎', 'ワクチン', '接種', '死亡', '予防', 'する', 'ワクチンの', '接種', '等の', 'があり', 'ワクチンの', 'する', '報道', 'した', 'こともあ', 'した'], ['日本', '予防接種', 'され', 'ない', 'ために', '200', '年には', '行った', 'では', 'されている', '感染', 'した', 'ため', 'から', 'なり', 'なり', 'すること', '報道', 'された', 'ただし', 'これ', 'により', 'ワクチンの', '接種', 'され', 'るようにな', '、201', '年には', 'WHO', '日本', 'した', '小児', 'ワクチンは', 'された', 'アジア', 'されていない', '日本', 'だけ', 'であった'], ['日本', '製造', 'メーカー'], ['インフルエンザ', 'ワクチンは', '研究所', '微生物', '研究', 'である', '開発', 'よう', 'している'], ['▁20', '10', '新型インフルエンザ', 'パンデミック', 'を受け', 'による', '対策', 'ワクチン', '製造', '者の', '生産', 'された', 'という', 'から', '国内', 'ワクチン', '生産', 'られた', 'しかし', 'には', 'など', 'により', '資金', '行われ', 'なかった'], ['日本', 'する', 'ワクチン', 'について', '、「', '」「', '理論', '」「', '理論', '」「', '理論', '」「', 'データ', '」「', 'データ', '」「', 'データ', '理論', '」「', '理論', 'による', 'データ', '」「', '」「', '」「', 'への', '10', 'から', '科学', '10', '理論', '大きな', 'ており', 'データ', 'から', 'これを', 'できる', 'なく', '的な', '科学', 'である', 'られ', 'ている'], ['ワクチンの', 'ワクチン', 'への', 'ワクチン', 'する', 'ワクチン', 'ワクチン', 'これ', 'までに', '多くの', '起こ', 'てきた'], ['経済', '20', '15', 'によれば', '流行', 'する', 'よりも', 'ワクチンの', '副作用', 'ことを', 'れる', 'がある', 'という', 'ワクチン', '接種', '後に', 'った', 'ワクチン', 'を受け', 'ことが', 'その', 'って', 'って', 'という', 'である', 'している', 'ような', '時に', 'ような', 'である', 'である', 'ワクチン', '接種', '考え', '時に', '一般', '的に', '使われ', 'ワクチンの', '副作用', 'った', 'して', 'である', 'データ', 'よりも', 'ような', '反応', '述べる'], ['ウイルス', '医学', 'した', '、201', 'にも', 'ワクチンの', 'ール', 'ント', '使用', 'がある', 'ため', 'これを', 'など', 'ワクチン', 'する', '研究', 'えた', '用いた', '経口', 'ワクチン', '開発', 'である'], ['▁201', '年には', '予防接種', 'を受け', 'には', 'がある', 'する', 'という', 'され', '人が', 'えた', 'では', 'ワクチンの', '副作用', 'による', '接種', '患者', 'した', 'こと', 'を受け', '、201', 'から', '以下', '12', 'ワクチン', '付け', '接種', '保護', 'している'], ['ファビピラビル', 'ir', 'ir', '大学', '医学', '富士フイルムホールディングス', '富山化学工業', '富士フイルム富山化学', '研究', '開発', 'した', 'RNA', 'RNA', 'である', '開発', 'ード', 'あるいは', '商品名', 'である', 'アビガン', 'an', '500', 'ほか', 'でも', 'れる'], ['では', 'して', '生産', 'していた', 'ただし', '2019', '年に', '中国', 'における', '富士フイルム', 'ファビピラビルの', 'しており', 'それ', 'らず', '後発医薬品', '商品名', 'として', '製造', 'している'], ['ファビピラビル', '富山化学工業', '合成', 'インフルエンザ', 'した', '大学', '医学', 'インフルエンザ', '感染', 'マウス', '有効性', '確認', 'より', '治療効果', 'している', 'こと', '薬剤', 'ない', 'ことを', 'した'], ['ファビピラビル', 'であり', '投与', '後に', 'invivo', '体内', '環境', '三リン酸', 'されて', 'ファビピラビル', '三リン酸', 'ir', 'ir', 'なり', 'これ', 'RNA', 'ウイルス', 'RNA', 'RNA', 'RNA', 'シン', 'および', 'シン', 'して', 'れた', 'RNA', 'する', 'in', 'in', 'として', 'する', 'ir', 'al', '20', '13'], ['invitro', '試験', '環境', 'では', 'ファビピラビル', '三リン酸', 'を受け', 'ことが', 'できない', 'ため', '50%', '効果', 'EC', '50', 'など', 'した', '効果', '評価', 'において', '他の', '薬物', 'より', '効果が', 'ると', 'される', 'がある', 'エボラ出血熱ウイルス', '2019', '新型コロナウイルス'], ['抗インフルエンザウイルス薬', 'として', 'における', 'ウイルス', 'RNA', 'ことで', 'を防ぐ', 'などの', 'とは', '異なる', 'その', 'ため', 'インフルエンザ', 'ウイルス', 'ウイルス', 'できる', 'インフルエンザ', 'ウイルス', 'に対して', '効果が', 'インフルエンザ', 'ウイルス', 'には', '効果が', 'ない'], ['また', 'インフルエンザ', 'ウイルス', 'のみ', 'らず', 'エボラ出血熱ウイルス', 'ウイルス', 'ウイルス', 'など', 'への', 'する', '試験', '研究', '行われ', 'ており', '大学', 'フェ', '研究チーム', '20', '14', '10', '21', 'マウス', 'った', '実験', 'ウイルス', '減少', '確認', 'した', '発表', '行った', 'さらに', 'スト', 'ウイルス', 'ウイルス', 'などの', 'RNA', 'ウイルス', 'にも', '効果', 'がある', '考え', 'られ', 'ており', '研究チーム', '治療', 'だけ', 'なく', '感染', '予防', 'にも', '効果', 'である', 'がある', 'ント', 'している'], ['日本', '承認', 'されている', '地域', 'かった', '、20', '20', '年には', '新型コロナウイルス感染症', 'OV', 'ID', '-19', 'の治療に', '効果', 'がある', 'として', '研究', '治験', '開始された', '20', '20', '新型コロナウイルス感染症', '治療', 'として', '投与', 'する', '考え', 'した'], ['▁201', '平成', '26', '富山化学工業', '日本での', '製造', '販売', '承認', 'した', 'ただし', '製造', '販売', 'される', 'ではなく', '新型インフルエンザ', '流行', '他の', '薬剤', 'ない', '日本国政府', 'した', '場合に', 'を受け', '製造', 'する', 'という', '承認', 'となっている'], ['富山化学工業', 'アビガン', 'インフルエンザ', 'として', '普及し', 'となる', 'ことを', 'していた', '実験', 'に対する', 'された', 'ため', '厚生労働省', 'による', '製造', '販売', '承認', 'れた', 'の場合', 'のみ', '製造', 'という', 'する', 'という', 'れる', '結果', 'った'], ['臨床試験', 'の結果', 'から', 'インフルエンザ', 'に対する', '有効性', 'され', 'なかった', 'ことが', 'がある', 'にもかかわらず', '承認', 'された', '抗インフルエンザウイルス薬', 'ウイルス', 'ことで', '感染', 'ない', 'する', 'に対し', 'アビガン', 'ウイルス', 'その', 'もの', 'する', 'ため', 'なり', 'を有する', 'ウイルス', 'した', 'になる', 'された', 'ため', 'である', 'ウイルス', 'その', 'もの', 'する', '抗インフルエンザウイルス薬', 'として', '後に', 'ンド', 'された', 'ウイルス', 'がある', 'ため', '医療機関', 'ている'], ['▁201', '厚生労働省', '新型インフルエンザ', '流行', 'アビガン錠', 'すること', '、201', 'する', '30', '日に', 'である', 'ことを', '発表した', '30', '日本国政府', '新型インフルエンザ', '対策', '200', '目標', 'すること', '厚生労働省', '同日', '000', 'アビガン', 'する'], ['日本国政府', 'している', 'アビガン錠', '、「', '指定', 'された', '医療機関', '」「', '新型インフルエンザ', '安全性', '及び', '有効性', 'する', '臨床試験', 'されている', '特定', 'および', '感染症', '指定', '医療機関', 'または', 'において', '指定', 'する', '医療機関', '供給', '厚生労働省', '富士フイルム富山化学'], ['▁20', '20', '18', '日付けの', 'によれば', '2019', '年に', 'における', '富士フイルム', 'ファビピラビルの', 'している', 'ただし', '製造', 'している', '日本', 'における', '富士フイルム', 'ており', '、20', '24', 'まで', '有効', 'である'], ['中国', 'an', 'ar', 'al', '、201', '富士フイルム', 'ファビピラビルの', '中国', 'における', '製造', '販売', 'している', '富士フイルム', 'を受け', 'であった', '2019', '富士フイルム', 'って', 'この', 'その', '富士フイルム', '製造', 'ない', '後発医薬品', 'として', 'ファビピラビルを', '製造', 'しており', 'これら', 'については', '富士フイルム', 'を受け', 'ことはできない', '中国', '行われた', '2019', '新型コロナウイルス', '臨床試験', 'された', '製造', 'した', 'ファビピラビル', 'この', '後発医薬品', 'する'], ['富士フイルム', '、「', '現在', 'an', 'ar', 'al', 'とは', 'ある', 'もの', '製造', 'している', 'ため', 'それ', 'する', '製造', 'されている', '製品', 'など', '富士フイルム', '製造', 'する', 'ファビピラビル', '異なる', 'できない', 'ント', 'している'], ['▁20', '20', 'では', 'ていない', 'ため', 'されていない'], ['ただし', '厚生労働省', 'アビガン錠', 'って', 'しており', 'されている', 'から', 'すること', 'である', '平成', '20', '17', '抗インフルエンザウイルス薬', 'アビガン錠', '200', 'mg', 'では', '平成', '15', '50', '000', 'されており', 'これ', 'から', 'れば', '、1', '当たり', 'インフルエンザ', 'の場合', '当たり', 'アビガン', '投与', '200', 'mg', '40', 'れば', '、1', '13', '2.5', 'となる'], ['アビガン錠', 'よう', '一般', '日本国政府', 'のみ', 'となっている', '医薬品', 'ない', 'ため', '新型コロナウイルス感染症', '治療薬として', '承認', 'されて', 'となった', 'この', '程度', 'になる', 'ない'], ['▁20', '20', '20', '報道', 'によると', 'Glenmark', '開発', 'した', 'ジェネリック', 'である', 'ファビピラビル', '販売名', 'bi', 'Flu', '200', 'mg', 'スト', '当たり', '500', '000', 'している'], ['▁20', '20', '24', 'en', 'ar', 'al', 'Ltd', 'ジェネリック', 'である', 'ファビピラビル', '販売名', 'en', '200', 'mg', '、1', 'あたり', 'する', '発表', 'Cipl', 'Ltd', 'ジェネリック', 'である', 'ファビピラビル', '販売名', 'Cipl', 'en', '200', 'mg', '、1', 'あたり', 'する', 'と発表した'], ['▁20', '20', 'ar', 'ジェネリック', 'である', 'ファビピラビル', '販売名', 'Flu', 'ar', '200', 'mg', '、1', 'あたり', 'する', 'と発表した'], ['▁201', '21', '輸入', 'していた', 'ファビピラビルを', '薬剤', 'インフルエンザ', '感染', '患者', 'ために', 'した', 'と発表した', '27', 'この', '患者', '死亡', 'した'], ['▁201', '厚生労働省', '研究', 'する', 'ウイルス', '感染症', '重症', '減少', ')」', 'ファビピラビル', '有効', 'である', 'ことを', 'マウス', '実験', 'めた', '微生物', '発表した', '感染', '後に', '投与', 'れば', '高い', 'できる', 'ことが', 'された', '20', '16', 'より', '大学', '大学', '研究', 'ター', '感染症', '研究所', 'など', '日本', '国内', '30', '医療機関', '臨床研究', '開始した'], ['▁201', '11', '大学', 'の研究グループが', '、「', '治療効果', 'が認められた', '臨床研究', 'の結果', '発表した', 'グループ', '治療', 'している'], ['▁20', '18', '12', 'による', 'に対する', '治験', 'である', 'III', '相試験', 'フェ', 'III', '患者', '開始した', '発表'], ['200', 'から', 'ファビピラビル', 'RNA', 'ウイルス', 'に対して', 'ウイルス', '効果', 'を持つ', 'ことが', 'されており', 'インフルエンザ', 'ウイルス', 'ウイルス', 'に対する', '効果', 'について', '研究', '的に', '行われ', 'ていた'], ['これら', 'の結果', 'を受け', 'ドイツ', '医学', '研究所', 'シュ', 'ファ', 'ター', 'する', '研究', 'グループ', 'ファビピラビル', 'エボラ出血熱ウイルス', 'に対して', '程度', '効果', 'を持つ', 'する', 'ため', '、201', '年に', '研究所', 'レベル', '研究', '施設', 'において', 'マウス', '用いた', '実験', 'を実施し'], ['用いた', 'エボラ', 'ウイルス', 'アメリカ疾病予防管理センター', 'から', 'を受け', 'ール', 'ただし', 'ir', 'ing', '197', 'とは', 'ていた', 'である', 'また', '用いた', 'マウス', 'ター', 'フェ', 'および', 'マウス', 'IF', 'AR', '-/-', 'および', 'IF', 'AR', '-/-', '12', 'であり', 'これら', 'ール', 'に対する', '的な', 'を持つ', 'ことが', '他の', '研究', 'していた'], ['IF', 'AR', '-/-', 'マウス', '用いた', '実験', 'えた', 'マウス', '実験', 'に分け', '行われた', '実験', '当たり', 'マウス', 'から', '10', 'であった', '感染', 'エアロゾル', 'から', '行った'], ['結果は', 'であった'], ['IF', 'AR', '-/-', '12', 'マウス', '用いた', '実験', 'では', 'して', 'ファビピラビルを', '投与', 'しない', '対照群', '0%', 'した', 'ため', 'ファビピラビルを', '投与', 'した', '実験', 'ほとんど', 'ない', 'という', '結果', 'った', 'これは', '他の', '研究', '報告', 'され', 'ていた', 'IF', 'AR', '-/-', '12', 'ール', '18', '197', 'に対して', 'を持つ', 'という', 'こと', 'であり', '用いた', 'ir', 'ing', '197', 'による', 'もの', 'であろう', '考え', 'られた'], ['として', 'ファビピラビル', 'マウス', '実験', 'レベル', 'において', '明らかに', 'エボラ出血熱', 'に対する', '治療効果', 'を持つ', '感染', '日目', '日目', 'では', '10', '0%', 'れる', 'という', 'ほど', 'すること', 'した'], ['である', '富士フイルムホールディングス', 'である', '米国', 'メディ', 'ター', 'アメリカ', '治験', 'を行う', 'した', 'こと', 'から', 'エボラ出血熱ウイルス', 'に対する', 'ファビピラビルの', '効果', 'について', '米国', 'および', '世界', 'めた'], ['▁201', '10', '20', '富士フイルム', 'エボラ出血熱', '患者', 'への', '投与', 'における', 'エボラ出血熱', '対策', '使用', '目的', 'した', 'アビガン錠', '追加', '生産', 'した', 'フランス', '、201', '10', '21', 'アビガンの', '臨床試験', 'する', 'と発表した'], ['保健', '、201', '10', '30', '富士フイルム', 'アビガンの', '供給', 'について', 'した', 'と発表した', 'エボラ出血熱', 'した', '場合は', 'アビガン', '使用される', 'こと', 'となった'], ['▁201', '11', '11', '富士フイルムホールディングス', 'アビガン', 'ファビピラビル', '20', '15', 'にも', 'エボラ', '治療薬として', '承認', 'される', '明らかにした', '承認', 'され', 'れば', 'エボラ', '治療薬', 'となる'], ['▁201', 'フランス', '保健', '研究所', '20', '14', '12', '17', '日から', '患者', '80', 'に対して', '実施', 'している', 'エボラ出血熱', '治療薬', 'アビガンの', '臨床試験', 'について', 'フランス', '死亡', '症例', 'ている', '評価', '報告', '行った', 'さらに', '試験', '確認', 'する', 'ある', 'アビガン', 'エボラ', 'れる', '発表した'], ['▁201', '24', 'および', '医師', 'ウイルス', 'ない', '感染', '初期', '患者', '死亡', '0%', 'から', '15', '有効', 'であった', 'ウイルス', '患者', '小児', 'では', '効果が', 'られ', 'なかった', 'と発表した'], ['▁201', '26', '富士フイルム', 'フランス', 'アビガン', '200', 'mg', 'エボラ出血熱ウイルス', '感染', 'した', 'フランス', '女性', '投与された', 'と発表した', 'これは', 'フランス', 'より', 'を受け', '日本', '対応', 'として', 'された', 'ものである', 'この', '女性', '10', 'して', 'した'], ['▁201', '10', 'ドイツ', 'ラン', '大学', '病院', 'された', 'エボラ出血熱', '患者', '治療', 'ために', '10', '日に', 'アビガン錠', '投与された'], ['▁201', '10', '19', 'エボラ', '対策', 'ード', '病院', '患者', 'して', '感染', '入院', '治療', 'を受け', 'ていた', 'に対して', 'ファビピラビルを', '投与', 'たところ', '体内', 'から', 'ウイルス', 'した', 'と発表した'], ['▁20', '20', 'OV', 'ID', '-19', 'に対する', '薬剤', '研究', '対象', 'となっている'], ['▁20', '20', '日に', 'ar', '中国', '科学', '武漢', 'ウイルス', '研究所', 'など', 'の研究グループが', '発表した', 'ター', '論文', 'によれば', 'invitro', '試験', '環境', 'ファビピラビルを', 'として', 'エボラ出血熱', '治療薬として', '開発', 'された', 'レムデシビル', 'クロロキン', 'など', 'を含む', '2019', '新型コロナウイルス', 'SARS', 'CoV', '-2', 'に対する', 'ウイルス', '効果', '50%', '効果', 'EC', '50', 'として', '評価', 'する', '試験', 'たところ', '以下', 'データ', 'られた'], ['しかし', 'エボラ出血熱ウイルス', 'に対する', 'ファビピラビルの', 'EC', '50', 'ほぼ', '程度', 'である', 'にもかかわらず', '臨床試験', '実験', 'invivo', '環境', 'では', 'エボラ出血熱ウイルス', 'に対して', 'なり', 'ウイルス', '効果', 'している', 'レムデシビル', '効果', 'ていない', 'この', 'ため', '研究', 'グループ', 'ファビピラビル', 'については', 'invivo', '試験', 'が必要', 'である', '付け', 'ている'], ['13', '日付けの', '中国', '科学技術', 'する', '科技日報', 'によれば', '病院', '臨床研究', '実施', 'された', '程度', '26', '対象', 'となった', 'この', '研究', 'では', '副作用', '発現', 'であり', '効果', '日以内に', 'された', 'また', '日間', '0%', 'であった'], ['15', '付け', '科技日報', 'invitro', '試験', 'の結果', 'に基づい', 'ファビピラビル', 'レムデシビル', 'クロロキン', '臨床試験', 'ファビピラビル', 'については', '患者', '投与', 'される', '対照群', 'を含む', '実施', 'されており', '初期', 'では', '治療効果', '副作用', 'している', '投与群', 'については', '投与', 'から', 'から', '後に', 'ウイルス', '対照群', 'に対して', 'かった', 'レムデシビル', 'クロロキン', 'の結果', 'については', 'この', 'では', 'られ', 'ていない'], ['この', 'よう', 'ファビピラビル', 'invitro', '環境', 'では', 'レムデシビル', 'クロロキン', 'に対して', '効果が', 'にもかかわらず', 'invivo', '臨床試験', 'では', '効果', 'する', 'について', '17', '日付けの', '科技日報', 'ファビピラビル', 'RNA', 'では', 'ある', 'それ', 'であり', 'RNA', 'する', 'として', 'する', 'ために', 'invivo', '三リン酸', 'する', 'という', 'こと', 'である', 'という', 'している', '用いた', 'invitro', '試験', 'では', '三リン酸', 'を受け', 'られ', 'なかった', 'ため', '効果が', 'され', 'なかった', 'という', 'こと', 'である'], ['承認', 'ファビピラビルを', '正式に', '販売', 'できる', 'ており', '16', '日から', '正式に', '後発医薬品', 'として', '生産', '開始した'], ['日付けの', '科技日報', 'において', '中国', '科学技術', '開発', 'ター', '中国', '予防', 'および', '科学', '研究', 'グループ', '薬物', '研究チーム', 'リー', 'もある', '張新民', '病院', '肺炎', '治療', 'における', 'ター', 'フェ', '組み合わせ', 'ファビピラビルの', '有効性', '安全性', 'する', '研究', 'を実施し', '80', '人の患者', 'された', 'その', '中で', '投与群', '対照群', 'であった', 'ている', 'また', '張新民', '武漢', '大学', '病院', '新型コロナウイルス', '肺炎', '治療', 'における', 'ファビピラビルの', '施設', '臨床研究', 'を実施し', '人の患者', 'による', '日間', 'した', '投与群', '対照群', 'である', '結果', 'として', '治療', '投与群', '対照群', 'よりも', 'であり', '治療', '日目', '.8%', 'であり', 'これは', '対照群', 'より', '治療', '日目', 'これは', '対照群', 'よりも', 'なり', '現在', '試験', 'まだ', 'であり', '結果', 'である', '明らかにした'], ['11', '日に', '中国', '予防', '薬剤', '研究チーム', '研究', '結果', '発表した', 'この', '研究', '医学', '研究', '予防', '研究', 'ター', 'on', 'および', '病院', 'ing', 'する', 'によって', '実施', 'され', 'ファビピラビル', 'を投与する', '患者', 'カレトラ', 'を投与する', '患者', 'について', '投与', 'から', '体内', 'から', 'される', 'までに', 'した', 'した', '結果は', 'ウイルス', 'までに', 'した', '期間', 'ファビピラビル投与群', '2.5', 'カレトラ', '投与群', 'では', '11', '13', 'であった', 'また', 'カレトラ', '投与群', 'に対して', 'ファビピラビル投与群', '副作用', 'なかった', 'この', '研究', '結果は', 'on', 'ing', 'する', '論文', 'られ', '、20', '20', '18', '日に', '中国', 'している', '英語版', '論文', 'である', 'in', 'ing', '発表', 'され', 'ラン', 'である', 'する', '論文', 'ット', 'en', 'ir', 'された', 'この', '論文', 'では', '14', 'における', '改善', 'ファビピラビル投与群', 'カレトラ', '投与群', 'している', 'この', '論文', '、20', '20', '日に', 'AR', 'OV', 'ていた', '16', '日に', 'され', 'っている'], ['17', '中国', '予防', '科学技術', '開発', 'ター', '張新民', 'ファビピラビル', '臨床研究', '正式に', '有効性', '確認', 'した', '明らかにした', '張新民', 'によれば', '安全性', 'から', '新型コロナウイルス', '肺炎', '臨床研究', 'では', '的に', '副作用', 'されていない', '有効性', 'から', '病院', '実施', 'した', 'ター', 'フェ', '併用', 'した', 'ファビピラビルの', '有効性', '安全性', '研究', 'では', '80', '人の患者', 'され', '人が', 'ファ', '投与群', '人が', '対照群', 'であった', '結果は', 'ウイルス', 'になる', 'までに', 'した', '時間', '投与群', '対照群', 'よりも', 'それぞれ', 'および', '11', 'であった', '改善', 'に関して', '投与群', '対照群', 'それぞれ', 'であった', 'また', '武漢', '大学', '病院', '行われ', 'ていた', '施設', '臨床試験', '的に', '20', '人の患者', 'され', '治療', 'した', '臨床研究', '結果は', 'ファビピラビル投与群', '新型コロナウイルス', '肺炎', '治療', 'において', '対照群', 'よりも', 'ている', 'ことを', 'している', '治療', '程度', '患者', '投与群', '対照群', 'よりも', 'それぞれ', '6%', 'であった', '時間', 'に関して', '投与群', '対照群', 'よりも', 'であり', '時間', 'それぞれ', '2.5', 'であった', '時間', '投与群', 'よりも', '対照群', 'それぞれ', 'であった', '治療', '期間', '程度', '患者', 'または', '呼吸', '使用', '投与群', '対照群', 'よりも', 'それぞれ', '6%', '17', '12', 'であった', 'から', '国内', 'から', '医薬品', '承認', '生産', '供給', 'されている', 'という', 'また', '張新民', 'ファビピラビル', '医薬品', '安全性', '有効性', 'および', 'して', '科学', '研究', 'グループ', 'によって', 'グループ', '正式に', 'された', 'できる', 'だけ', '治療', 'よう', 'する', 'と述べた'], ['23', '武漢', '研究チーム', 'ファビピラビル', '投与', '軽症', 'ると', '投与', '有効性', '確認', 'と発表した', '軽症', 'ると', '多くの', '症例', 'ファビピラビル', '投与', '日以内に', '症状', 'えた', '報告', 'した', 'この', '研究', '、20', '20', '20', '日から', '12', '日に', '武漢', '病院', '実施', 'された', '施設', '臨床研究', 'であり', 'ファビピラビル投与群', '治療効果', 'en', 'ir', '商品名', 'アルビドール', 'bi', 'ol', '投与群', '対照群', 'として', '評価', 'する', 'もの', 'であった', '40', '人の患者', 'ラン', '20', 'グループ', 'に分け', 'ファビピラビル投与群', 'アルビドール', '投与群', 'した', '試験', 'であり', '医師', 'および', '患者に', '投与', 'される', 'され', 'ていた', '結果は', '日目', 'ファビピラビル投与群', '評価', '11', 'である', 'に対し', 'アルビドール', '投与群', '評価', '20', '6%', 'であり', '治療効果', 'における', 'ファビピラビルの', 'アルビドール', 'に対する', '的に', 'であった', '=0.', '19'], ['▁20', '20', '日本国政府', '新型コロナウイルス', '感染', '対象', 'アビガンの', '投与', 'する', '富士フイルム富山化学', 'めた', '同日', '患者', 'への', '投与', '開始した', 'ことを', '明らかにした'], ['19', '日に', '病院', '15', '報告', 'によれば', '発症', '11', '日目', '患者', 'に対して', 'ファビピラビルの', '投与', '併用', '行われた', 'ファビピラビルの', '使用', 'に関して', '委員会', '承認', '実施', 'されている', '投与', '発症', '13', '日目', 'EC', 'ため', '患者', 'となる', 'まで', 'られた', 'この', '症状', '改善', 'られ', 'なかった', 'また', '26', '病院', '者の', 'カレトラ', 'ている', 'という', 'に対して', '、「', 'アビガンの', 'ている', 'こと', 'が多い', 'ている'], ['ファビピラビル', 'について', '新型コロナウイルス', '治療薬として', '正式に', '承認', 'する', 'って', '必要となる', 'する', '、「', '多くの', 'から', 'られ', 'ており', 'する', '臨床研究', 'ター', 'する', 'と発表した'], ['富士フイルム', '日本での', '治験', '発表した'], ['日に発表された', '地域', '機能', '病院', '報告'], ['によれば', 'のコロナ肺炎患者', '80', '女性', 'に対して', '入院', 'した', '日から', 'ファビピラビル', 'による', '早期', '治療', '開始した', '入院', '16', '後に', '18', '後に', 'した', 'された', '大きな', '副作用', 'であった', 'これは', '通常', '治療薬', 'フェ', 'ット', '投与', 'され', '大きな', 'となる', 'ことは', 'なかった', '減少', 'が認められた', 'これ', 'となる', 'ことは', 'なかった', '他の', '臨床試験', 'されている', 'AST', 'ALT', '増加', '症状', '認められ', 'なかった'], ['ター', '医師', 'では', '患者に', '使用', 'している', 'には', 'ない', 'する', 'には', 'ング', '投与', 'して', 'ことはできない', 'ている'], [], ['日本', '国内', 'アビガンの', '生産', 'する', 'している', '株式会社', '日本', 'から', '生産', 'する', 'と発表した'], ['日に発表された', '病院', '報告', 'によれば', '入院', '後に', '0%', 'した', '新型コロナウイルス', '患者', 'に対して', '呼吸', 'AR', 'を防ぐ', '目的', 'ファビピラビルの', '投与', '開始した', '日に', '改善', '認められ', '投与', '日目', 'には', 'となった', '症状', 'ファビピラビルを', '使用', '治療', 'した', '他の', '新型コロナウイルス', '患者', 'については', 'になる', 'まで', '27', 'しており', '改善', 'ファビピラビルの', '効果', 'による', '高い', 'している'], ['アビガン', 'について', '20', '投与', '行われ', '症状', '改善', '効果が', 'あった', '報告', 'を受け', 'ている', '明らかにした'], ['13', '日に発表された', '地域', '機能', '病院', '報告', 'では', '20', '女性', '40', '50', '他の', 'のうち', 'でも', 'ファビピラビル', '投与', '症状', 'すること', '日以内に', 'などの', '症状', 'が認められた', 'では', '投与', '期間', '14', '日間', 'には', 'までに', 'なかった', 'また', '大きな', '副作用', '見られ', 'なかった', 'している'], ['14', '新型コロナウイルス', '肺炎', 'ため', '入院', 'グラ', 'ント', '13', '日から', 'アビガン', '治療', '開始した', 'こと', 'について', 'から', '効果', 'がある', 'よう', 'した', 'って', 'から', 'なかった', 'るようにな', 'なかった', 'って', 'なり', 'した', 'まだ', '日目', '的な', 'ではない', '明らかに'], ['報告', 'している', '効果が', '程度', 'れる', 'という', '病院', '症例', 'する', 'がある'], ['18', '日に', 'された', '日本感染症学会', 'シン', 'において', '藤田医科大学', 'して', '実施', 'している', 'ファビピラビルの', '国内', 'III', '臨床試験', 'について', '報告', 'ファビピラビルを', '投与された', '30', 'のうち', '軽症', '患者', 'では', '呼吸', 'が必要', '重症患者', 'では', '後に', '症状', '改善', '見られ', 'ことを', '明らかにした'], [], ['この', '改善', 'という', '中国', 'による', '論文', 'における', 'および', 'イラン', '医師', '30', '27', 'している'], ['19', '新型コロナウイルス感染症', 'OV', 'ID', '-19', '対策', '経済', 'インフルエンザ', 'アビガン', 'について', '医療機関', '施設', '患者', 'れば', 'るようにな', 'った', 'と述べた'], ['21', '現在', '治療薬', '期間', '程度', '目標', 'する', '指定', '制度', 'という', '制度', 'がある', 'アビガン', 'など', '新型コロナウイルス', '治療薬', '承認', 'については', '、「', 'なく', '対応', 'して', 'と述べた'], [], ['同日', '大学', '病院', '大学', '病院', '投与', '承認', 'して', '医師', 'アビガンの', '投与', 'となる', 'よう', 'した'], [], ['27', '厚生労働省', '新型コロナウイルス感染症', '対策', 'ファビピラビル', '使用', 'における', '医療機関', 'めた', 'コロナウイルス', '感染症', 'に対する', 'アビガン', '一般', 'ファビピラビル', '観察研究', '及び', '研究', '使用', 'する', 'ため', '医薬品', 'について'], [], ['した', 'これ', 'によれば', '医療機関', 'を投与する', 'として', '委員会', 'など', '承認', '藤田医科大学', '病院', 'などの', '研究', 'っている', '観察研究', '患者', 'があり', '医師', 'によって', '使用', 'が必要', 'となった', '場合に', 'である', 'している', '治療薬として', '承認', 'されていない', '医療機関', '観察研究', 'として', '投与', '行われ', 'ており', 'として', '26', '時点で', '国内', '1,', '10', '医療機関', '19', '人の患者', '投与された', 'ている', '26', '時点で', '国内', '感染', '13', '23', 'のうち', '入院', '患者', 'であり', '入院', '患者', 'のうち', '投与', 'を受け', 'ている', 'こと', 'になる'], ['アビガン', '臨床研究', '有効性', '確認', 'され', 'れば', '承認', '考え', 'した'], ['11', '医師', 'アビガンの', '観察研究', 'への', '医療機関', '医師', '委員会', 'して', 'する', '観察研究', 'を実施し', 'ている', '藤田医科大学', '厚生労働省', 'と発表した'], [], ['投与', '観察研究', 'への', 'という', '現在', '実施', 'されている', '観察研究', 'への', 'して', '医療機関', 'する', '委員会', 'など', '承認', 'あった', 'この', 'する', 'もの', 'であり', '観察研究', 'による', '投与', 'もの', 'ではない', '医師', 'した', '医療機関', '医師', '患者', 'れば', '投与', 'なり', '軽症', 'への', '早期', '投与', 'となった', 'ただし', '副作用', '対策', 'として', '入院', '患者に', 'される'], ['特定', '臨床研究', 'SARS', 'CoV', '感染', '症状', '軽症', '患者', 'における', 'ウイルス', '効果', '目的', 'した', 'ファビピラビルの', '施設', 'ランダム化', '臨床試験', '有効性', '確認', 'できる', 'ことを', 'して', '、「', '新型コロナウイルス感染症', 'に対する', '医薬品', '等の', '承認', 'について', '12', '12', ')」', '12', 'した', 'れた'], ['26', '日付けの', '日本', '経済', '及び', '同日', '、「', '臨床研究', '判断する', 'において', '高い', '有効性', 'され', 'れば', 'その', '結果', 'まで', 'なく', '承認', 'という', 'していた', 'する', 'による', '評価', '委員会', 'から', '科学', '的に', '評価', 'すること', 'された', 'ため', '研究', 'なり', '承認', 'には', 'なかった'], ['報道', 'している', 'その', '日付けの', 'など', 'メディ', '、「', '時点で', 'となる', 'から', '承認申請', 'なく', 'した', '明らかにした', 'この', 'ため', 'した', '承認', 'した', 'ことが', 'かった'], ['承認', 'できない', 'である', '報道', 'しており', '報道', '見られ'], ['26', '日に発表された', '藤田医科大学', '中間報告', 'ファビピラビル', '観察研究', '中間報告', '20', '20', '15', '現在', ')」'], ['によれば', '15', '時点で', 'ファビピラビルの', '観察研究', 'による', '投与', '40', '施設', 'から', '15', 'されている', 'のうち', '軽症', '患者', '%)', '中等症患者', '%)', '重症患者', '23', '10', '%)', 'であり', 'コロナ肺炎', '発症', '者の', '軽症', 'ことが', 'っている'], ['通常', 'より', '中等症患者', '重症患者', '高い', '.8%', '投与', '日目', '改善', '軽症', '.8%', '6%', '重症', '40', '.1%', 'サンプル', '1,', '13', 'であり', '投与', '14', '日目', '改善', '軽症', '.8%', '重症', 'サンプル', '1,', 'であった', 'また', '入院', 'における', '死亡', '軽症', '.1%', '12', '重症', '11', '6%', 'サンプル', '1,', '18', 'であった', '副作用', 'については', '15', 'のうち', 'または', '15', 'または', '機能', '報告', 'された', 'として', '対照', '試験', 'ではない', 'こと', 'よう', '発症', '者の', '軽症', 'こと', 'から', '、「', '結果', 'すること', 'が必要', 'として', '有効', 'ている'], ['10', '特定', '臨床研究', 'SARS', 'CoV', '感染', '症状', '軽症', '患者', 'における', 'ウイルス', '効果', '目的', 'した', 'ファビピラビルの', '施設', 'ランダム化', '臨床試験', '結果', '的な', '報告', 'された', '目標', '症例', 'され', 'ランダム化', 'された', '主要評価項目', 'である', '日目', 'まで', '投与群', 'する', 'まで', 'ウイルス', '通常', '投与群', '投与群', '.1%', 'ード', '95%', '=0.', '-2', '=0.', '26', 'であった', '評価', 'である', '日目', 'まで', 'ウイルス', '50%', '減少', '通常', '投与群', '投与群', '.8%', '95%', '=0.', '-2', '=0.', 'であった', '主要評価項目', '及び', '評価', '的に', '認められ', 'なかった'], ['10', '日に', '医学', '病院', '発表した', '、「', '新型コロナウイルス感染症', 'における', '重症', '症例', 'に対する', '治療', '結果'], [], ['では', 'である', '大学', '病院', 'から', 'られた', 'たところ', 'までに', '治療', '行った', '重症', '症例', 'のうち', '%)', 'アビガン', '使用', 'された', 'ことが', '明らかに', 'った', 'レムデシビルの', '使用', '11', '%)', 'であった', '重症', '症例', 'のうち', '死亡', '20', '.1%', 'であり', 'のうち', 'アビガン', '使用', 'した', 'では', '死亡', '19', '%)', 'であり', 'アビガン', '使用', 'なかった', '10', 'では', '死亡', '24', '%)', 'であった'], ['23', '新型コロナウイルス感染症', '患者', '対象', 'した', 'アビガンの', '国内', 'III', '相試験', '結果', '富士フイルムホールディングス', 'ニュー', 'リー', '報告', 'された', '15', '対象', 'した', '主要評価項目', '症状', 'ウイルス', 'まで', '時間', 'アビガン', '投与群', '11', 'プラセボ', '投与群', 'では', '14', 'なり', '重篤な', '肺炎', 'を有する', 'OV', 'ID', '-19', '患者に', 'アビガン', 'を投与する', 'ことで', '早期', '症状', '改善', 'すること', '=0.', '13', 'って', '確認', 'した', 'ード', '、1', '95%', '24', 'した', 'さらに', '試験', 'では', '安全性', '認められ', 'なかった'], ['10', '16', '日に', '富士フイルムホールディングス', '抗インフルエンザウイルス薬', 'アビガン', 'について', '富士フイルム富山化学', '株式会社', '新型コロナウイルス感染症', '効果', 'など', '追加', 'する', '製造', '販売', '承認', '承認申請', '厚生労働省', '行った', 'ことを', '発表した'], ['12', '21', '厚生労働省', 'アビガン', '新型コロナウイルス感染症', '治療薬として', '承認', 'する', 'した', '富士フイルム富山化学', 'による', '治験', '患者に', 'アビガン', '投与', 'した', '医師', 'して', '行われ', '試験', 'った', 'こと', '治験', '結果', 'について', 'した', '時点で', '有効性', '判断する', 'ことは', 'され', 'となった', '実施', '臨床試験', '治験', 'など', 'の結果', 'する'], ['▁20', '21', '21', '富士フイルムホールディングス', 'アビガン', 'について', 'にも', '国内', '臨床試験', '治験', '実施', 'する', 'めた', 'られた', '実施', '治験', '試験', 'った', 'ことで', '、「', '有効性', '判断する', 'ことは', 'された', 'こと', 'から', '試験', 'では', '二重盲検', '試験', 'する', '対象', '軽症', '患者', '等の', 'を有する', '50', '軽症', '患者', '目標', '症例', '27', 'している'], ['21', '富士フイルムホールディングス', '抗インフルエンザウイルス薬', 'アビガン', 'について', '富士フイルム富山化学', '株式会社', '新型コロナウイルス感染症', '患者', '対象', 'した', '相試験', '国内', '開始した', 'ことを', '発表した', 'などの', '症状', '発現', 'から', '時間', 'などの', '重症', 'を有する', '50', 'OV', 'ID', '-19', '患者', 'において', '重症', 'した', '患者', '主要評価項目', '有効性', 'する', '二重盲検', 'プラセボ', '対照', '試験', 'である'], ['▁20', '20', '富士フイルム', 'アメリカ', 'アビガンの', '治験', '相試験', 'ると', '発表', '臨床試験', '20', '20', 'までに', 'である', '米国', 'では', 'ファビピラビル', '承認', 'であり', '米国', '承認申請', 'を行う', 'には', '臨床試験', '有効性', '確認', 'すること', 'が必要', 'になる'], ['12', 'アビガンの', 'アメリカ', '相試験', 'において', '患者', '投与', 'した', 'ことを', '発表した', '試験', 'ランダム化', 'プラセボ', '対照', '二重盲検', '試験', 'であり', '軽症', '及び', '患者', '対象', '目標', '症例', '26', 'である'], ['▁20', '20', '20', 'イラン', 'イラン', '20', 'イラン', '日本', 'イラン', 'に対して', 'ファビピラビルを', 'する', 'である', 'と述べた', '報道', 'した'], [], ['イラン', '保健', 'シュ', 'ジャ', 'ール', 'an', 'an', '報道', 'ファビピラビル', 'に関して', '中国', '実施', 'された', '臨床試験', 'について', '患者に', '効果', 'ている', '効果', '科学', '的に', 'した', 'まで', 'には', 'であろう', '」「', '日本', 'から', 'された', '臨床試験', '結果は', 'まだ', 'ていない', '」「', '日本', 'から', '000', 'を受け', 'さらに', '中国', 'から', '中国', '中国', '15', '000', 'されている', 'これら', '病院', '臨床試験', 'であり', '現在', '研究', '効果', '評価', 'っている', 'である', 'と発表した'], ['日付けの', 'によれば', 'ラン', '病院', 'an', 'ar', 'al', 'ード', 'シュ', '大学', 'イラン', '国内', 'では', 'アビガンの', '製造', 'した', 'と発表した', 'によれば', '製造', 'された', '病院', 'のコロナ肺炎患者', 'の治療に用いられ', 'ている', 'コロナ肺炎', 'している'], [], ['同日', 'イラン', 'する', 'イラン', 'イラン', '病院', '医師', 'an', '、「', 'この', 'により', '30', 'のコロナ肺炎患者', '27', '人が', '的に', 'している', 'にもかかわらず', 'イラン', '保健', '使用', 'する', 'している', 'している', 'ている', '医師', 'について', 'して', '使用', 'する', 'ため', '目的', 'であり', 'コロナ肺炎', 'した', 'である', 'この', '的に', 'られた', 'した', 'している'], [], ['▁20', '20', '医薬品', 'ファ', 'IF', '科学技術', '委員会', '新型コロナウイルス感染症', '地域', '病院', 'における', 'ファビピラビルの', '試験', '投与', '承認', 'した', 'と発表した', 'ただし', '医薬品', 'この', 'でも', 'アメリカ', 'でも', 'されていない', 'この', '薬物', '効果', 'について', '現在', 'ある', 'まだ', '的な', 'ものである', 'している'], [], ['▁20', '20', '23', '日に', 'ジャ', '保健', '中国', 'から', 'された', '患者', 'への', '投与', '実施', 'している', 'と発表した', 'によれば', 'この', '治療薬', '国内', '40', 'された'], ['国内', 'ファビピラビルの', '製造', 'を行う', 'であり', 'れば', 'コロナ肺炎', '治療', '使用', 'になる', 'と述べた', '中国', 'から', 'れた', 'ファビピラビルを', '行われた', '治験', 'では', '治療', '期間', 'への', '改善', 'において', '効果が', '確認', 'されている'], [], ['▁20', '20', 'ドイツ', 'アビガン', 'ット', 'する', '報道', 'された'], ['▁20', '20', '16', '付け', 'によれば', 'アビガンの', '輸入', 'していた', '委員会', 'など', '効果', '副作用', 'など', 'から', 'である', 'ため', 'しない', 'と発表した', 'された', '中国', '研究', '論文', 'した', '結果', 'アビガン', '新型コロナウイルス', '効果が', 'なく', '副作用', 'であり', '使用', 'できない', 'した'], ['委員会', 'ンド', '病院', '感染', 'アビガン', '中国', '治療薬として', 'された', '報道', 'された', '、「', '論文', 'によると', '臨床試験', '患者', 'する', 'した', 'だけ', 'であり', 'また', 'WHO', '治療薬', 'アビガン', 'ていない', 'として', 'アビガン', '治療薬として', 'された', 'という', 'フェ', 'ニュー'], ['▁20', '20', 'ンド', 'ンド', 'スト', 'ター', '病院', '50', '患者', 'する', 'ファビピラビル', 'クロロキン', '臨床試験', 'する', 'と発表した', '試験', 'では', '患者', '50', 'グループ', 'に分け', 'グループ', 'には', 'ファビピラビルを', '投与', 'グループ', 'には', 'クロロキン', 'および', 'シン', '投与', 'グループ', '対照群', 'として', '通常', '治療', 'による', 'のみ', 'を行う', 'また', '病院', '病院', '試験', 'である', 'ている'], [], [], [], ['▁20', '20', 'ロシア', 'ファ', 'ンド', 'である', 'ロシア', 'IF', '開発', 'した', 'ファビピラビルの', 'ジェネリック', '医薬品', 'である', 'ファ', 'ir', 'ロシア', '保健', '承認', 'えた', 'と発表した'], [], [], ['これは', 'ファビピラビルの', 'コロナ肺炎', '治療薬として', 'による', '世界', '承認', 'となる'], [], ['ar', '13', '日に', 'ロシア', 'から', 'され', 'ていた', 'ファ', '治験', '有効性', '確認', '発表', 'していた', '治験', 'の結果', 'ファビピラビルを', '投与された', '40', 'のうち', '0%', '投与', 'から', '日目', 'なり', '治療', 'った', '明らかに', 'していた'], ['11', '日から', '一般', '病院', '投与', 'される', 'という'], ['▁20', '20', '12', 'Glenmark', 'ジェネリック', 'である', 'ファビピラビル', '販売名', 'bi', 'Flu', 'ランダム化', '臨床試験', '発表した', '50', '軽症', 'から', '中等症患者', 'あるいは', 'ファビピラビル', '、1', '付け', 'られる'], ['▁20', '20', '21', 'ar', 'en', 'である', 'アビガン', '試験', '実施', 'について', 'ンド', '医薬品', 'から', '承認', 'と発表した'], ['▁20', '20', '26', 'Glenmark', 'ファビピラビルの', 'en', 'ir', '併用', 'による', 'ランダム化', '臨床試験', '実施', 'について', 'ンド', 'から', '承認', 'と発表した', '入院', 'している', '15', '中等症患者', 'ファビピラビル', 'あるいは', 'ファビピラビル', 'en', 'ir', '併用', '付け', 'られる'], ['▁20', '20', '20', 'Glenmark', 'ジェネリック', 'である', 'ファビピラビル', '販売名', 'bi', 'Flu', 'について', 'ンド', 'から', '軽症', 'から', '中等症患者', 'として', 'された', '使用', '製造', '販売', '承認', 'した', 'と発表した'], ['▁20', '20', '24', 'Cipl', 'Ltd', 'ジェネリック', 'である', 'ファビピラビル', '販売名', 'Cipl', 'en', 'について', 'ンド', 'から', '製造', '販売', '承認', 'した', 'と発表した'], ['通常', '日目', '1,', '600', 'mg', '日目', '600', 'mg', '経口', '投与', 'する', '投与', '期間', '日間', 'まで', 'アビガン錠', '200', 'mg', '当たり', '投与', '(1', '600', '×2', '600', '×2', 'mg', '200', 'mg', '40', 'となる', '研究', 'では', '投与', '行われ', 'ている'], ['しかし', '、20', '20', '27', '日付けで厚生労働省が全国の保健所', '等に通知した事務連絡', 'ファ', '処方量', 'である'], ['(1', '▁20', '20', '27', '日付けで厚生労働省が全国の保健所', '等に通知した事務連絡', 'ファビピラビルの', '処方量', '(1', '日目', '1800', 'mg', '600', 'mg', '新型コロナウイルス', 'による', 'の治療に', 'アビガン', '必要処方量', 'として', 'アビガンの', '開発', 'である', 'する', 'あたり', '000', 'mg', '000', 'mg', 'である', '500', 'mg', 'する', 'となっている', 'しかし', '、1', 'あたり', '投与', 'した', 'ない', 'って', '、1', 'あたり', 'を投与する', '新型コロナウイルス', '患者', 'における', '試験', '実施', 'する', '追加', '臨床試験', '確認', 'される', 'ことが', 'となる'], ['ファビピラビルを', '新型コロナウイルス', 'OV', 'ID', '-19', '治療', 'に用いる', '、20', '20', '17', '富士フイルム', '富山化学工業', 'した', '10', 'には', 'OV', 'ID', '-19', 'への', 'EC', '50', '国内', 'インフルエンザ', '治療', '時の投与量', '2.5', 'される', 'している'], ['この', 'に基づい', 'インフルエンザ', '治療', 'の場合', '2.5', 'として', '必要処方量', 'する', '、1', '日目', '000', 'mg', '日目', 'から', '日目', '500', 'mg', '経口', '投与', 'する', '投与', '期間', '日間', 'となる'], ['この', '必要処方量', 'から', '日本感染症学会', 'する', '処方量', '(1', '日目', '1,', '800', 'mg', '200', 'mg', '日目', 'から', '800', 'mg', '200', 'mg', '経口', '、1', '日目', 'では', '必要処方量', '日目以降', 'では', '必要処方量', 'となる'], ['厚生労働省', 'った', 'OV', 'ID', '-19', 'への', 'アビガンの', '処方量', '日本', '小児', '科学', 'めた', 'アビガンの', '処方量', 'から', 'する', 'もの', 'ほぼ', 'である'], ['文書に記載', 'された', 'インフルエンザ', 'ウイルス', '感染症', '投与', '000', 'mg', '(1', '日目', '600', 'mg', '×2', '日目', '600', 'mg', '×2', '投与', '期間', '日間', 'である', '日本感染症学会', 'OV', 'ID', '-19', 'に対する', 'ウイルス', 'による', '治療', '考え', 'によると', '24', '40', 'mg', '(1', '日目', '1800', 'mg', '×2', '日目以降', '800', 'mg', '×2', '14', '日間', 'されており', '、1', '投与', '及び', '投与', '期間', 'によって', '異なる'], ['すなわち', '、20', '20', '27', '日付けで厚生労働省が全国の保健所', 'など', 'した', 'となっている', '20', '20', '26', '日本感染症学会', '発表した', '処方量', '必要処方量', 'ほぼ', '50%', '以下', 'ており', 'アビガンの', 'には', 'できない', 'ものである', 'れる'], ['▁20', '20', '27', '日付けで厚生労働省が全国の保健所', '等に通知した事務連絡', 'された', '日本感染症学会', '文書に記載', '処方量', 'である', '結果', '処方量', '(1', '日目', '1800', 'mg', '600', 'mg', '実施', 'していた', '観察研究', 'について', '、20', '20', '26', '日に発表された', '藤田医科大学', '中間報告', 'ファビピラビル', '観察研究', '中間報告', '20', '20', '15', '現在', ')」', 'では', 'アビガンの', '有効性', 'には', 'ことが', 'った', 'れる'], ['この', '観察研究', 'では', '、1', '日目', 'のみ', '1800', 'mg', '×2', '日目以降', '800', 'mg', '×2', '投与された', '患者', '.8%', '、1', '日目', 'のみ', '600', 'mg', '×2', '日目以降', '600', 'mg', '×2', '投与された', '患者', 'その', 'である', 'すなわち', 'ほとんど', '患者', '、20', '20', '17', '富士フイルム', '富山化学工業', 'した', '国内', 'インフルエンザ', '治療', '時の投与量', '2.5', 'ではなく', '、20', '20', '27', '日付けで厚生労働省が全国の保健所', '等に通知した事務連絡', 'ファ', '処方量', '投与された', 'この', '観察研究', 'アビガンの', '有効性', 'なかった', 'だけ', 'ではなく', '観察研究', '報告', 'されている', 'よう', '対照', '試験', 'ではない', 'こと', '発症', '者の', '軽症', 'こと', 'から', '、「', '結果', 'すること', 'が必要', 'という', 'となった', 'ため', 'である'], ['富士フイルム富山化学', '新型コロナウイルス感染症', 'OV', 'ID', '-19', 'について', '実施', 'していた', 'アビガン', 'ファビピラビル', '臨床試験', '国内', '臨床試験', 'データ', '20', '23', '、1', '日目', 'のみ', '1800', 'mg', '×2', '日目以降', '800', 'mg', '×2', '14', '日間', '経口', '投与', 'する', 'もの', 'であった', 'すなわち', 'この', '治験', '20', '20', '17', '富士フイルム', '富山化学工業', 'した', '国内', 'インフルエンザ', '治療', '時の投与量', '2.5', '50%', 'となっている', 'この', '治験', 'の結果', '15', '肺炎', '患者', 'において', 'アビガン', '投与', 'した', '患者', '投与', 'した', '患者', 'では', 'ウイルス', 'になる', 'まで', 'アビガン', '投与', 'した', '患者', '11', 'では', '14', 'であった', 'プラセボ', '対照', 'した', 'アビガンの', '主要評価項目', '=0.', '13', 'アビガン', 'を投与する', 'ことで', '症状', '早期', '改善', 'すること', '確認', 'した', 'こと', 'から', '富士フイルムホールディングス', '10', 'にも', '新型コロナウイルス', '治療薬として', 'アビガンの', '製造', '販売', '承認', 'する', 'と発表した'], ['した', 'への', '実験', '確認', 'されている', 'ため', 'および', 'から', '女性', 'への', '投与', 'である', 'また', 'ために', '体内', 'っている', '投与', '期間', 'および', '投与', '日間', 'を行う', '場合は', 'れば', 'ない'], ['使用', 'における', '副作用', '発現', 'については', '医薬品', 'された', 'によれば', 'インフルエンザ', '治療薬として', '承認', '及び', 'における', '投与', 'ない', '国内', '臨床試験', '及び', 'III', '相試験', '承認', '及び', 'より', '実施', 'された', '試験', 'られた', 'データ', 'である'], ['安全性', '評価', '対象', '症例', '50', '副作用', '10', '19', '6%', '認められ', 'を含む', '副作用', '増加', '24', '%)', '24', '%)', '減少', '(1', '80', '%)', 'AST', '増加', '(1', '80', '%)', 'ALT', '増加', '(1', '0%'], ['平成', '30', '科学技術', '科学', '科学技術'], ['医学', '等の', '用いられる', 'マスク', 'mask', 'ir', 'とは', 'のうち', 'または', 'もの', 'または', 'もの', 'まで', 'もの', 'こともあ', 'では', '他の', '部分', 'もの', 'その', 'よう', 'すること', 'がある', 'では', 'する'], ['マスク', 'では', 'に分け', 'られる'], ['防塵', 'マスク', 'マスク', '防じんマスク', '防塵', 'マスク', '防塵', 'マスク', 'など'], ['作業', 'する', '粒子', 'しない', 'よう', 'する', '目的', '用いられる', 'マスク', 'その', 'コン', 'された', 'または', '付け', 'もの', 'または', 'された', '不織布', 'による', '防じんマスク', 'である', 'マスク', 'マスク', 'があり', 'マスク', 'には', 'ている', 'まで', '作業', 'であり', '時間', '装着', 'して', '使用', 'には', 'ていない'], ['米国', 'には', '米国', '研究所', 'する', 'マスク', 'があり', '製品', 'には', '付け', 'られ', 'ている', 'この', 'マスク', '医療機関', '感染', '防止', '用いられる', 'こと', 'っている'], ['には', '委員会', 'する', '14', 'マスク', 'があり', 'マスク', 'する'], ['▁日本では', '厚生労働省', '防じんマスク', 'に基づい', 'その', 'されている', '製品', 'をもつ', 'もの', 'って', 'ない', 'マスク', '防じんマスク', 'として', '販売', 'すること', '、「', 'スト', 'マスク', '」「', 'リー', 'マスク', 'などの', 'ター', '販売', 'されている'], ['医療用マスク', '対象', 'する', '感染', '予防', '目的', 'する', 'マスク', 'である', '英語', 'では', 'surgicalmask', '日本', 'でも', 'その', 'サージカルマスク', 'として', 'する', '英語', 'それ', 'には', 'al', 'マスク', 'である', 'には', 'マスクを'], ['対象', 'する', '粒子', '一般', '的に', 'より', 'ものである', 'SARS', 'ウイルス', '以下', 'よう', '感染', 'ウイルス', '粒子', 'している', '医療用マスク', 'では', '対応', 'できない', 'ため', '防塵', 'マスク', '使用される'], ['マスク', 'として', '細菌', 'al', 'on', 'en', '粒子', 'ar', 'on', 'en', 'がある', 'マスク', 'によって', '細菌', 'を含む', '粒子', '粒子', 'クロ', 'され', '患者', 'への', 'を防ぐ', '%)', '試験', '粒子', 'クロ', '粒子', 'され', '装着', 'ない', '%)', 'こと', 'である', 'アメリカ', '医薬品', 'では', 'サージカルマスク', '95%', 'している'], ['アメリカ', 'では', '感染', 'エアロゾル', 'に対する', '医療用マスク', 'surgicalmask', '制度', 'を実施し', 'ており', '製品', 'には', 'される', '防塵', 'マスク', 'として', 'を有する', 'マスク', 'でも', 'surgicalmask', 'として', '使用', 'する', 'surgicalmask', 'として', 'する', 'がある', 'この', '場合に', '試験', 'データ', 'アメリカ', 'では', 'surgicalmask', 'について', 'あった', 'では', 'されている'], ['▁日本では', 'サージカルマスク', 'という', 'その', 'に関して', '感染', '呼吸', '新型インフルエンザ', '流行', '時に', 'した', 'ことは', 'あった', '試験', 'アメリカ', 'AST', 'ター', 'した', 'AST', '10', 'していた', '20', '21', '16', '日に', '試験', '日本', 'られた'], ['的に', 'である', 'する', 'など', 'して', '供給', 'った', '場合は', 'して', 'すること', 'もある', 'その', 'ような', 'となった', '20', '20', 'コロナウイルス', '感染症', '流行', '日本', 'では', '病院', 'あたり', 'など', 'った', '対応', 'なく', 'された'], ['防寒', '対策', '対策', '対策', 'ウイルス', '対策', '防塵', 'などの', 'ため', '一般', 'マスクを', 'マスク', 'という', 'または', '感染', 'ウイルス', '粒子', 'エアロゾル', 'ウイルス', '感染', 'した', '人が', 'した', '呼吸', 'した', 'した', 'した', 'する', '症状', 'ない', 'でも', 'される', '人が', 'これら', 'エアロゾル', 'ウイルス', '感染', 'する', 'がある', 'エアロゾル', 'した', 'コロナウイルス', '時間', 'がある', 'マスク', 'その', 'を防ぐ'], ['マスク', 'では', 'ガーゼタイプ', '不織布', 'タイプ', 'に分け', 'られる'], ['マスク', 'マスク', 'または', 'ガーゼタイプ', 'マスク', 'もの', 'から', '使われ', 'てきた', 'マスク', 'とも呼ばれ'], ['して', 'できる', 'ため', '経済', '病原体', '防止', 'には', '効果', 'する', '不織布', 'タイプ', 'るため', '世界', '保健', 'では', '者の', '使用', 'ていない'], ['不織布', 'マスク', 'マスク', '不織布', '使用', 'した', 'マスク', 'から', '一般', '的に', '使用', 'され', 'なかった', '機能', 'に対する', 'なく', 'った', 'ことで', '普及し'], ['マスク', 'では', 'マスク', 'リー', 'マスク', 'マスク', 'に分け', 'られる'], ['マスク', '使用', 'しており', 'ガーゼタイプ', '高い', 'を有する'], ['リー', 'マスク', 'リー', 'ており', 'フィット', 'して'], ['マスク', 'されており', '顔面', 'なく', 'フィット', 'する'], ['ウイルス', 'インフルエンザ', 'ウイルス', 'ウイルス', '感染', 'では', '感染', 'しない', 'れた', 'ウイルス', 'による', '感染', '感染', 'によって', 'ものである', 'ただし', 'った', 'マスク', '使用', 'って', '感染'], ['WHO', 'インフルエンザ', 'パンデミック'], ['マスクを', '着用する', '場合は', 'った', '使用', 'による', '感染', 'を防ぐ', 'ために', '使用', 'である'], ['医療用マスク', 'による', 'マスク', 'マスク', 'など', 'については', '有効性', 'について', 'in', 'en', 'である', 'それ', '使用', 'する', '的に', 'すべき', 'である', 'マスクを', 'した', 'である'], ['マスク', '者の', 'ウイルス', '粒子', 'ことは', '防止', 'ター', 'ほど', '効果が', '大学', 'の研究グループが', '行った', 'により', 'マスク', 'インフルエンザ', '発症', '確認', 'される', 'など', '予防', '効果', 'する'], ['マスクを', 'して', '着用する', '二重マスク', '国内', '見られ', 'コン', 'ター', 'ーション', 'では', '二重マスク', 'による', '防止', '効果', 'であり', '着用する', 'ことが', 'より', 'である', 'されている', 'ために', '多くの', '二重マスク', 'している', 'ード', '大学', '医学', 'によると', 'これは', '対策', 'である', '米国', '予防', 'ター', 'によると', '二重マスク', 'マスク', '他の', '保護', 'レベル', '改善', 'した', '米国', '予防', 'ター', 'サージカルマスク', 'った', 'した', 'マスクを', '着用する', 'ことを', 'めた'], ['その', 'サージカルマスク', 'フェイスマスク', 'ール', 'マスク', 'という', 'ing', 'an', 'ing', 'れる', '使用', 'して', 'サージカルマスク', 'して', 'った', 'フィット', 'こと', 'より', 'れた', '保護', 'できる'], ['米国', '予防', 'ター', '研究', '研究', 'では', '二重マスク', 'または', 'ing', 'an', 'ing', 'ング', 'と比較して', 'エアロゾル', '95%', 'した'], ['▁日本では', '2019', 'までに', 'マスク', 'ウイルス', 'する', '機能', 'マスク', '販売', 'され', 'ていた', 'しかし', '効果が', '見られ', 'ない', 'として', 'マスクを', '製造', 'する', 'に対し', '及び', '防止', 'として', '防止', '対策', 'よう', 'した', 'これ', 'に対して', 'など', 'として', 'している'], ['ガーゼタイプ', 'マスク', 'にも', 'ター', '製品', 'している'], ['装着', 'している', 'フィット', 'マスク', '使用', 'しており', 'って', 'えた', 'しかし', 'エアロゾル', 'を防ぐ', '不織布', 'マスク', 'と比較して', '粒子', 'もの', 'に対して', 'ほとんど', '効果が', 'ない', 'その', 'ため', '感染症', '予防', 'には', 'への', '感染', '防止', 'する', 'ために', '使用', 'すべき', 'ではない'], ['▁20', '20', 'コロナウイルス', '感染症', '流行', 'まで', '一般', '中で', 'マスクを', 'すること', 'ない', '日本', 'した', 'アジア', 'った', 'では', '中で', 'マスクを', 'している', 'される', 'こともあ', 'った', 'アメリカ', 'では', '感染症', 'により', 'マスク', '使用', 'され', 'るようにな', 'って', 'から', 'する', 'した'], ['アジア', 'アジア', 'では', 'れる', 'ない', 'よう', 'ると', 'マスクを', 'する', '一般', 'である', 'マスク', 'される', 'マスク', '日本', 'における', 'マスク', 'よりも', 'ほぼ', 'ような', 'っている', 'また', 'ター', 'があり', 'として', 'する', 'なく', 'ない'], ['地域', 'がある', '地域', 'では', '防塵', 'マスク', 'では', '防寒', 'マスク', 'として', '機能', 'している'], ['には', 'マスク', '使用', 'された', 'には', '流行', 'という', 'ような', 'があり', 'した', 'ると', 'マスク', '使用', 'れた', 'マスク', 'マスク', 'する', 'している', 'になる', 'など', '特に', '19', '80', '流行', 'から', 'マスク', '普及し'], ['また', '日本', 'では', 'ット', 'ではなく', '感染', '予防', 'ために', 'マスクを', 'がある', 'この', '一般', 'した', '200', 'それ', 'には', 'なく', 'って', 'では', 'ある', 'マスクを', 'している', 'ほとんど', 'なかった', 'それ', '20', '18', '平成', '30', 'には', 'って', 'って', '人が', 'マスクを', 'していた', 'という', 'データ', 'がある'], ['この', '一般', 'した', 'から', '流行', '200', '平成', '14', '重症', '呼吸', 'SARS', '世界', '流行', 'による', '予防', 'されている', '200', '新型インフルエンザ', '流行', 'では', 'マスク', 'マスク', 'れる', 'している', 'こと', 'から', 'この', 'までに', '予防', 'ため', 'マスク', '使用', 'したもの', '考え', 'られ', 'ている'], ['この', 'ような', '予防', 'ため', 'マスク', '使用', 'を防ぐ', 'ため', '使用', '日本', 'には', '見られ', '環境', 'でも', 'マスクを', '使用', 'する', '世界', '的に'], ['▁20', '20', 'コロナウイルス', '感染症', '流行', '流行', 'により', '普及し', 'ことで', 'では', '使用', '不織布', 'マスク', 'している'], ['▁20', '10', '世界', 'では', '中国', '生産', 'であった', '中国', 'によると', '2019', '年には', '世界', '生産', '50', '生産', 'している', '2019', '新型コロナウイルス', 'による', '呼吸', '世界', '流行', 'によって', '医療用マスク', 'ラン', 'れた', '20', '20', '年には', 'パンデミック', 'であり', '経済', 'できる', 'レベル', 'まで', '中国', 'している', '大きな', '経済', 'および', 'って', '中国', 'から', 'メーカー', 'など', 'まで', 'した', '時点で', '当たり', '200', 'まで', 'その', 'している', '中国', '20', '20', '20', 'によると', 'マスク', 'である', '英語版', '不織布', 'あたり', '10', '40', 'となった', 'なり', '200', 'サンプル', 'のうち', 'しない', 'あった'], ['新型コロナウイルス', '対策', 'なり', 'ほとんど', '普及し', 'マスク', 'である', 'それ', 'って', 'った', 'れた', 'などの', 'である', 'ーション', 'まだ', 'っている', 'れば', 'マスクを', 'して', 'になる'], ['だけ', 'ではなく', 'よう', 'して', 'である', 'ほとんど', 'ている', 'ない'], ['っている', 'だけ', 'では', 'ために', 'ない', 'って', 'でも', 'マスク', 'ると'], ['以下', 'では', '呼吸用保護具', '顔面', '保護', '分類', '述べる', '呼吸用保護具', '作業', '感染症', '等の', '予防', 'など', '使用', 'されており', 'その', 'マスク', 'では', 'による', '分類', 'ではなく', 'マスク', '機能', 'による', '分類', 'について', '述べる'], ['呼吸用保護具', 'には', 'がある'], ['作業', '環境', 'から', 'して', '供給', 'する', 'タイプ', '呼吸用保護具', '環境', '作業', 'など', 'マスク', 'する', 'がある', 'また', 'をもつ', '呼吸用保護具', 'フィット', 'している', 'があり', '体内', 'になる', '防じんマスク', 'マスク', 'など', 'では', '特に', 'になる'], ['作業', '環境', 'とは', 'した', '供給', 'から', 'として', '供給', 'する', 'タイプ', '呼吸用保護具'], ['供給', '目的', 'する', 'した', 'マスク', 'マスク', 'され', '目的', 'のみ', 'らず', 'への', 'など', 'にも', '用いられる', 'など', '付け', 'られ', 'また', 'など', 'ット', 'マスクを', 'している', 'ではなく', 'した', 'マスク', 'する', '作業', 'マスク', 'マスク', 'もある'], ['顔面', '保護', 'として', 'から', '顔面', '保護', 'する', 'ため', '作業', '顔面', '保護', 'する', 'ため', 'など', 'がある'], ['スト', '防塵', 'マスク'], ['作業', 'マスク'], ['機能', 'えた', 'ター'], ['この', 'には', 'があり', '改善'], ['以下', 'マスク', 'について', '述べる'], ['ング', 'マスク', 'ing', 'mask', 'mask', 'とは', 'にも', '用いられる', '水中', '水中', 'など', '水中', '対応', 'より', 'しており', '水中', '保護', 'という', '水中', '機能', 'から', '呼吸', 'への', 'を防ぐ', '機能', 'をもつ', 'もの', '日本', 'では', '水中', 'マスク', 'あるいは', 'ング', 'マスク', 'という'], ['潜水', 'する', 'だけ', '呼吸', 'する', 'する', 'のみ', 'であり', 'また', '水中', 'する', 'だけ', '水中', 'るため', 'より', 'として', 'られ', 'ている', 'など', 'でも', '水中', 'よう', 'である', 'スポーツ', 'した', 'では', '水中', 'マスク', '使われ', 'こと', 'が多い', '潜水', 'でも', '呼吸', 'できる', 'シュ', '併用', 'すること', '潜水', '時間', 'また', 'ター', 'して', '水中', '水中', '呼吸', '潜水', 'ング', 'シュ', 'ング', 'では', 'できない', '潜水', 'となる', '水中', 'マスク', 'がある', 'ことで', '的に', '使用', 'すること', 'できる', 'だけ', 'なく', 'まで', 'って', 'フェ', '水中', 'マスク', 'ング', 'フェイスマスク', 'ing', 'mask', ')」', 'もある', 'この', 'タイプ', 'マスク', 'している', 'ない', 'フェ', 'ない', 'ない', 'ング', 'マスク', 'ing', 'al', 'mask', ')」', 'れる'], ['ター', 'スポーツ', 'って', '防寒', 'である', 'また', 'まで', 'こと', 'になる', 'して', 'ラン', 'ング', 'ング', 'を行う', 'ング', 'など', '防寒', 'でも', '防寒', 'フェイスマスク', 'ような', 'する', '時に', '細菌', 'ウイルス', 'など', 'を防ぐ', 'マスク', '機能', 'ット', '機能', 'など', 'による', 'から', '機能', 'した', 'する', 'して', 'よりも', 'する', 'でも', 'れた', 'しない', '装着', 'される', 'った', '者の', 'あるいは', 'した', 'として', '、「', 'スポーツ', 'マスク', 'される', 'マスク', '20', '10', '普及し', 'てきた', 'マスク', 'ている', '呼吸', 'して', 'ング', 'できる', 'フィット', 'から', 'したもの', 'から', 'まで', 'って', '防寒', 'タイプ', 'タイプ', 'がある', 'など', 'タイプ', '開発', 'されている'], ['マスク'], ['マスク', 'ヘルメット', 'って'], ['マスクを', 'って'], ['フェ', 'ング', 'フェイスマスク', 'から', 'たところ'], ['ヘルメット', 'フェイスマスク', '装着', 'して', 'クロ'], ['スポーツ', 'マスク', 'とは', '異なる', 'もの', 'として', 'スポーツ', 'など', 'を行う', '顔面', '的に', 'する', 'ため', 'ほぼ', 'それ', 'のみ', 'した', 'フェ', 'ード', '顔面', 'ター', '、「', 'マスク', 'れる', 'がある', 'など', 'への', 'その', '他の', 'しない', '者の', 'った', 'もの', 'ことを', '目的', 'として', '使用される'], ['ール', 'における', 'マスク', 'マスク', 'mask', 'mask', 'あり', 'マスク', 'ヘルメット', 'mask', 'an', 'mask', 'an', 'あり', 'マスク', 'マスク', 'ir', 'mask', 'あり', 'マスク', 'ヘルメット', 'フェ', 'ング', 'マスク', 'フェ', 'ング', 'フェイスマスク', 'フェ', 'ング', 'マスク', 'en', 'ing', 'mask', 'en', 'ing', 'mask', 'en', 'ing', 'ar', 'mask', 'あり', '19', '27', 'から', '197', '年に', '使用', 'され', 'ていた', 'ール', 'マスク', 'al', 'en', 'mask', 'en', ')」', 'ード', 'などの', 'ヘルメット', 'ット', '着用する', 'フェイスマスク', 'あり', 'など', '的な', 'として', 'ことが', 'できる', 'ール', 'マスク', 'した', 'フェ', 'ード', 'ヘルメット', '組み合わせ', 'ヘルメット', 'マスク', 'mask', 'あり', '197', '開発', 'されて', '普及し', 'った', 'こと', 'による', 'をもつ', 'この', 'では', 'マスク', 'をもつ', '部分', 'フェイスマスク', 'とも呼ばれ', 'ている', 'でも', 'ヘルメット', '使用', 'されている'], ['マスク', 'とは', 'ない', 'における', 'アメリカ', 'ット', 'ール', 'ヘルメット', 'など', '目的', 'である', 'ング', 'に用いる', 'にも', '顔面', '保護', 'する', 'フェ', 'タイプ', 'があり', 'これ', 'マスク', 'なく', 'ない'], ['21', 'マスク', '一般', 'クロ', 'など', 'ード', '用いられる', 'において', 'などの', 'されている', 'また', 'として', 'マスク', 'フェ', 'マスク', 'もある', 'マスク', 'って', 'マスク', 'マスク', 'もある'], ['あなたは', 'めた', 'あなたは', 'から', 'めた', 'って', '行われた', 'から'], ['あなたは', 'された', 'ではなく', 'られる', 'ことは', 'ない'], ['それ', 'れる'], ['あなたは', '者の', 'なり', '者の', 'なり', 'なり', 'られた', '者の', 'よう', 'から', 'である', 'あなたは', 'って', 'よう', '者の', 'られる'], ['この', 'すべての', 'ために', 'えた', 'もの', 'って', 'えた', 'って', 'られる', 'すなわち', 'えた', 'もの', 'えた', 'って', 'られる'], ['また', 'この', 'すべての', 'っている', 'すべての', 'っている', 'られる'], ['すべての', 'から', 'その', 'から', 'れる', 'これは', 'られた', 'こと', 'である'], ['として', 'マスク', '人が', '一般', 'に用いる', '防寒', 'マスクを', 'マスク', 'でも', '対策', '防塵', '対策', 'に用いる', 'それ', 'として', 'まで', '防寒', '目的', 'として', 'に用いる', 'マスク', 'のみ', 'する', 'すなわち', 'マスク', 'である', '分類']]\n"
          ]
        }
      ]
    },
    {
      "cell_type": "code",
      "metadata": {
        "id": "d8c-N4AFEVSX",
        "colab": {
          "base_uri": "https://localhost:8080/"
        },
        "outputId": "5bb0b76e-132b-413d-d418-6c2c95ad7913"
      },
      "source": [
        "def extract2ormore(l):\n",
        "  l1 = l\n",
        "  res = []\n",
        "  for l2 in l1:\n",
        "    tmpl = []\n",
        "    for c in l2:\n",
        "      if len(c) != 1:\n",
        "        tmpl.append(c)\n",
        "    res.append(tmpl)\n",
        "  return res\n",
        "\n",
        "%timeit extract2ormore(l)"
      ],
      "execution_count": null,
      "outputs": [
        {
          "output_type": "stream",
          "name": "stdout",
          "text": [
            "100 loops, best of 5: 3.22 ms per loop\n"
          ]
        }
      ]
    },
    {
      "cell_type": "code",
      "metadata": {
        "id": "gznat0MBQOrB",
        "colab": {
          "base_uri": "https://localhost:8080/"
        },
        "outputId": "bd7a2e03-38e1-45fd-e372-c898c0fecf9b"
      },
      "source": [
        "%timeit [[w for w in l1 if len(w) != 1] for l1 in l]"
      ],
      "execution_count": null,
      "outputs": [
        {
          "output_type": "stream",
          "name": "stdout",
          "text": [
            "100 loops, best of 5: 2.8 ms per loop\n"
          ]
        }
      ]
    },
    {
      "cell_type": "code",
      "metadata": {
        "id": "nwAMvxGoSNYL",
        "colab": {
          "base_uri": "https://localhost:8080/"
        },
        "outputId": "51abd4a6-5cc3-4537-8745-45dd58c03f43"
      },
      "source": [
        "2.28 / 2.03"
      ],
      "execution_count": null,
      "outputs": [
        {
          "output_type": "execute_result",
          "data": {
            "text/plain": [
              "1.1231527093596059"
            ]
          },
          "metadata": {},
          "execution_count": 31
        }
      ]
    },
    {
      "cell_type": "code",
      "metadata": {
        "id": "3aFqp1WbQTEm",
        "colab": {
          "base_uri": "https://localhost:8080/"
        },
        "outputId": "d451c70f-1397-45b6-8c0a-5953462faa01"
      },
      "source": [
        "res1 = [[w for w in l1 if len(w) != 1] for l1 in l]\n",
        "res2 = extract2ormore(l)\n",
        "fail_cnt = 0\n",
        "for l1, l2 in zip(res, res2):\n",
        "  if l1 != l2:\n",
        "    fail_cnt+=1\n",
        "print(fail_cnt)"
      ],
      "execution_count": null,
      "outputs": [
        {
          "output_type": "stream",
          "name": "stdout",
          "text": [
            "0\n"
          ]
        }
      ]
    },
    {
      "cell_type": "markdown",
      "metadata": {
        "id": "o-HYldOAT6NL"
      },
      "source": [
        "## ４２：ユニークな単語数"
      ]
    },
    {
      "cell_type": "code",
      "metadata": {
        "id": "joMlign2S04Q",
        "colab": {
          "base_uri": "https://localhost:8080/"
        },
        "outputId": "83eeb2d1-558f-41ef-ef82-8c1d575dbac3"
      },
      "source": [
        "res = {w for l1 in l for w in l1 if len(w) != 1}\n",
        "print(len(res))"
      ],
      "execution_count": null,
      "outputs": [
        {
          "output_type": "stream",
          "name": "stdout",
          "text": [
            "554\n"
          ]
        }
      ]
    },
    {
      "cell_type": "markdown",
      "metadata": {
        "id": "_2Y_Efn0GLba"
      },
      "source": [
        "## ４３：ラベルエンコーディング"
      ]
    },
    {
      "cell_type": "code",
      "metadata": {
        "id": "lsDX5KNobcx7",
        "colab": {
          "base_uri": "https://localhost:8080/"
        },
        "outputId": "edca0896-180f-4a9e-df5d-bac6857c7576"
      },
      "source": [
        "#出現順でユニークな単語のリスト\n",
        "res = [w for l1 in l for w in l1 if len(w) != 1]\n",
        "res_sorted = sorted(set(res), key=res.index)\n",
        "print(len(res_sorted))"
      ],
      "execution_count": null,
      "outputs": [
        {
          "output_type": "stream",
          "name": "stdout",
          "text": [
            "554\n"
          ]
        }
      ]
    },
    {
      "cell_type": "code",
      "metadata": {
        "id": "mplgXrcJcWLH",
        "colab": {
          "base_uri": "https://localhost:8080/"
        },
        "outputId": "5653b3fc-c3c4-4dca-dabd-57b9e9d181d0"
      },
      "source": [
        "# 単語ID相互変換辞書\n",
        "word2idx = {}\n",
        "idx2word = {}\n",
        "for i, word in enumerate(res_sorted):\n",
        "  word2idx[word] = i\n",
        "  idx2word[i] = word\n",
        "print(list(word2idx.items())[:5])\n",
        "print(list(idx2word.items())[:5])"
      ],
      "execution_count": null,
      "outputs": [
        {
          "output_type": "stream",
          "name": "stdout",
          "text": [
            "[('デキサメタゾン', 0), ('on', 1), ('炎症', 2), ('ID', 3), ('である', 4)]\n",
            "[(0, 'デキサメタゾン'), (1, 'on'), (2, '炎症'), (3, 'ID'), (4, 'である')]\n"
          ]
        }
      ]
    },
    {
      "cell_type": "code",
      "metadata": {
        "id": "CIlJN3M8c2iM",
        "colab": {
          "base_uri": "https://localhost:8080/"
        },
        "outputId": "4780450f-5930-4060-cf7d-e3ec35c9d91a"
      },
      "source": [
        "#ラベルエンコーディング\n",
        "encoded_text =[[word2idx[w] for w in l1 if len(w) != 1] for l1 in l]\n",
        "print(encoded_text[:3])"
      ],
      "execution_count": null,
      "outputs": [
        {
          "output_type": "stream",
          "name": "stdout",
          "text": [
            "[[0, 1, 2, 3, 4, 2, 5, 2, 6, 6, 7, 2, 2, 8, 9, 10, 11, 12, 13, 14, 15, 16, 17, 18, 0, 19, 20, 21, 22, 17, 15, 23], [0, 24, 25, 26, 27, 4, 28, 29, 30, 31, 32, 30, 4], [33, 13, 14, 15, 16, 33, 0, 10, 0, 33, 0]]\n"
          ]
        }
      ]
    },
    {
      "cell_type": "markdown",
      "metadata": {
        "id": "cA1wUoxaGgiX"
      },
      "source": [
        "## ４４：共起行列"
      ]
    },
    {
      "cell_type": "code",
      "metadata": {
        "id": "eK01H1kTvsfv"
      },
      "source": [
        "def ngram(s, n):\n",
        " \"\"\" ngramを計算して返却\n",
        "\n",
        "   Args:\n",
        "     s(str):解析対象文字列\n",
        "     n(int):n\n",
        "   Returns:\n",
        "     ngram(list):n-gramリスト\n",
        "\n",
        " \"\"\"\n",
        " ngram = []\n",
        " for i in range(len(s)):\n",
        "   if i + n >= len(s):\n",
        "     break\n",
        "   tpl = tuple()\n",
        "   for j in range(n):\n",
        "     tpl += (s[i+j],)\n",
        "   ngram.append(tpl)\n",
        " return ngram"
      ],
      "execution_count": null,
      "outputs": []
    },
    {
      "cell_type": "code",
      "metadata": {
        "id": "hB9xZyV_0Q3O",
        "colab": {
          "base_uri": "https://localhost:8080/"
        },
        "outputId": "1aaafc52-843a-4808-a532-569cf0afe6b2"
      },
      "source": [
        "# 2gramを計算\n",
        "bigrams = []\n",
        "for wl in encoded_text:\n",
        "  bigrams.append(ngram(wl, 2))\n",
        "  \n",
        "print(bigrams[0])"
      ],
      "execution_count": null,
      "outputs": [
        {
          "output_type": "stream",
          "name": "stdout",
          "text": [
            "[(0, 1), (1, 2), (2, 3), (3, 4), (4, 2), (2, 5), (5, 2), (2, 6), (6, 6), (6, 7), (7, 2), (2, 2), (2, 8), (8, 9), (9, 10), (10, 11), (11, 12), (12, 13), (13, 14), (14, 15), (15, 16), (16, 17), (17, 18), (18, 0), (0, 19), (19, 20), (20, 21), (21, 22), (22, 17), (17, 15)]\n"
          ]
        }
      ]
    },
    {
      "cell_type": "code",
      "metadata": {
        "id": "TMbK6IJk0SoB"
      },
      "source": [
        "# 共起行列初期化\n",
        "import numpy as np\n",
        "z = np.zeros((len(res_sorted), len(res_sorted)), dtype=np.int)\n",
        "for bigram_lst in bigrams:\n",
        "  for bigram in bigram_lst:\n",
        "    z[bigram[0], bigram[1]] += 1\n",
        "    z[bigram[1], bigram[0]] += 1"
      ],
      "execution_count": null,
      "outputs": []
    },
    {
      "cell_type": "code",
      "metadata": {
        "id": "no1Jdl5BnEDS",
        "colab": {
          "base_uri": "https://localhost:8080/"
        },
        "outputId": "f7f07c47-ec15-4144-ab83-f126d316415f"
      },
      "source": [
        "z"
      ],
      "execution_count": null,
      "outputs": [
        {
          "output_type": "execute_result",
          "data": {
            "text/plain": [
              "array([[0, 1, 0, ..., 0, 0, 0],\n",
              "       [1, 0, 1, ..., 0, 0, 0],\n",
              "       [0, 1, 2, ..., 0, 0, 0],\n",
              "       ...,\n",
              "       [0, 0, 0, ..., 0, 0, 0],\n",
              "       [0, 0, 0, ..., 0, 0, 0],\n",
              "       [0, 0, 0, ..., 0, 0, 0]])"
            ]
          },
          "metadata": {},
          "execution_count": 40
        }
      ]
    },
    {
      "cell_type": "code",
      "metadata": {
        "id": "CrIQA5QAkGhe",
        "colab": {
          "base_uri": "https://localhost:8080/"
        },
        "outputId": "d91ec5db-7aba-48cf-e785-24868521c017"
      },
      "source": [
        "w = \"デキサメタゾン\"\n",
        "if w in word2idx:\n",
        "  print(f\"{idx2word[word2idx[w]]}:\\n{z[word2idx[w]]}\")"
      ],
      "execution_count": null,
      "outputs": [
        {
          "output_type": "stream",
          "name": "stdout",
          "text": [
            "デキサメタゾン:\n",
            "[0 1 0 0 0 0 1 0 0 1 2 1 0 0 0 0 0 0 1 4 0 0 0 0 1 0 0 0 0 0 0 0 2 3 0 0 0\n",
            " 0 0 0 0 0 1 0 0 0 0 0 0 0 0 0 3 0 0 0 0 0 0 0 0 1 0 0 0 1 0 0 1 0 0 0 0 0\n",
            " 0 0 0 0 0 0 0 0 0 1 0 0 1 0 1 0 1 0 1 0 0 0 0 0 0 0 0 0 0 0 0 0 0 1 0 0 2\n",
            " 0 0 1 0 0 0 0 0 0 0 0 0 0 0 0 1 0 0 2 0 0 0 0 0 0 0 0 0 0 0 0 0 0 0 0 0 0\n",
            " 0 1 0 0 0 1 0 0 0 0 0 0 0 0 0 0 0 0 0 0 1 0 0 0 0 0 1 0 0 0 0 0 0 0 0 0 0\n",
            " 0 0 0 0 0 0 0 0 0 0 0 0 0 0 0 0 0 0 1 0 0 0 0 0 0 0 0 0 0 0 0 0 0 0 0 0 0\n",
            " 0 0 0 0 0 0 0 0 0 0 0 0 0 0 0 0 0 0 0 0 0 0 0 0 0 0 0 0 0 0 0 0 0 0 0 0 0\n",
            " 0 0 0 0 0 0 0 0 0 0 0 0 0 0 0 0 0 0 0 0 0 0 0 0 0 0 0 0 0 0 0 0 0 0 0 0 0\n",
            " 0 0 0 0 0 0 0 0 0 0 0 0 0 0 0 0 0 0 0 0 0 0 0 0 0 0 0 0 0 0 0 0 0 0 0 0 0\n",
            " 0 0 0 0 0 0 0 0 0 0 0 0 0 0 0 0 0 0 0 0 0 0 0 0 0 0 0 0 0 0 0 0 0 0 0 0 0\n",
            " 0 0 0 0 0 0 0 0 0 0 0 0 0 0 0 0 0 0 0 0 0 0 0 0 0 0 0 0 0 0 0 0 0 0 0 0 0\n",
            " 0 0 0 0 0 0 0 0 0 0 0 0 0 0 0 0 0 0 0 0 0 0 0 0 0 0 0 0 0 0 0 0 0 0 0 0 0\n",
            " 0 0 0 0 0 0 0 0 0 0 0 0 0 0 0 0 0 0 0 0 0 0 0 0 0 0 0 0 0 0 0 0 0 0 0 0 0\n",
            " 0 0 0 0 0 0 0 0 0 0 0 0 0 0 0 0 0 0 0 0 0 0 0 0 0 0 0 0 0 0 0 0 0 0 0 0 0\n",
            " 0 0 0 0 0 0 0 0 0 0 0 0 0 0 0 0 0 0 0 0 0 0 0 0 0 0 0 0 0 0 0 0 0 0 0 0]\n"
          ]
        }
      ]
    },
    {
      "cell_type": "markdown",
      "metadata": {
        "id": "Ftp27kwBqaw-"
      },
      "source": [
        "## ４６：ユークリッド距離"
      ]
    },
    {
      "cell_type": "code",
      "metadata": {
        "id": "WeppdQ93kG29",
        "colab": {
          "base_uri": "https://localhost:8080/"
        },
        "outputId": "23f6e902-8621-45d1-bb90-8cee00066837"
      },
      "source": [
        "import numpy as np\n",
        "w1 = \"デキサメタゾン\"\n",
        "w2 =\"医薬品\"\n",
        "w3 = \"ファビピラビル\"\n",
        "w4 = \"富士フイルム\"\n",
        "\n",
        "# デキサメタゾン　- 医薬品　のユークリッド距離\n",
        "print(np.linalg.norm(z[word2idx[w1]] - z[word2idx[w2]]))\n",
        "\n",
        "# ファビピラビル　- 富士フィルム　のユークリッド距離\n",
        "print(np.linalg.norm(z[word2idx[w3]] - z[word2idx[w4]]))\n",
        "\n",
        "# デキサメタゾン　- 富士フィルム　のユークリッド距離\n",
        "print(np.linalg.norm(z[word2idx[w1]] - z[word2idx[w4]]))"
      ],
      "execution_count": null,
      "outputs": [
        {
          "output_type": "stream",
          "name": "stdout",
          "text": [
            "9.273618495495704\n",
            "16.06237840420901\n",
            "11.704699910719626\n"
          ]
        }
      ]
    },
    {
      "cell_type": "markdown",
      "metadata": {
        "id": "8KYZpe6oYmpW"
      },
      "source": [
        "## ４７：内積"
      ]
    },
    {
      "cell_type": "code",
      "metadata": {
        "id": "MsUnm1UYqtVE",
        "colab": {
          "base_uri": "https://localhost:8080/"
        },
        "outputId": "2a3ece6b-73f0-4e3d-ba34-812e95e24c8a"
      },
      "source": [
        "import numpy as np\n",
        "w1 = \"デキサメタゾン\"\n",
        "w2 =\"医薬品\"\n",
        "w3 = \"ファビピラビル\"\n",
        "w4 = \"富士フイルム\"\n",
        "\n",
        "# デキサメタゾン　- 医薬品　の内積\n",
        "print(z[word2idx[w1]]@z[word2idx[w2]])\n",
        "\n",
        "# ファビピラビル　- 富士フィルム　の内積\n",
        "print(z[word2idx[w3]]@z[word2idx[w4]])\n",
        "\n",
        "# デキサメタゾン　- 富士フィルム　の内積\n",
        "print(z[word2idx[w1]]@z[word2idx[w4]])"
      ],
      "execution_count": null,
      "outputs": [
        {
          "output_type": "stream",
          "name": "stdout",
          "text": [
            "8\n",
            "7\n",
            "0\n"
          ]
        }
      ]
    },
    {
      "cell_type": "markdown",
      "metadata": {
        "id": "PyAaG70tw-5U"
      },
      "source": [
        "$$\n",
        "\\displaystyle{ \\cos \\theta =  \\frac{ \\vec{a} \\cdot \\vec{b} }{\\vert \\vec{a}\\vert \\vert \\vec{b} \\vert} }\n",
        "$$"
      ]
    },
    {
      "cell_type": "markdown",
      "metadata": {
        "id": "qBzMbjsBYpHF"
      },
      "source": [
        "## ４８：コサイン類似度"
      ]
    },
    {
      "cell_type": "code",
      "metadata": {
        "id": "ccy4rR7XrwJj",
        "colab": {
          "base_uri": "https://localhost:8080/"
        },
        "outputId": "751ac30e-901c-419c-b126-c83c0788258b"
      },
      "source": [
        "import numpy as np\n",
        "w1 = \"デキサメタゾン\"\n",
        "w2 =\"医薬品\"\n",
        "w3 = \"ファビピラビル\"\n",
        "w4 = \"富士フイルム\"\n",
        "\n",
        "# デキサメタゾン　- 医薬品　のコサイン類似度\n",
        "print(z[word2idx[w1]]@z[word2idx[w2]]/(np.linalg.norm(z[word2idx[w1]])*np.linalg.norm(z[word2idx[w2]])))\n",
        "\n",
        "# ファビピラビル　- 富士フィルム　のコサイン類似度\n",
        "print(z[word2idx[w3]]@z[word2idx[w4]]/(np.linalg.norm(z[word2idx[w3]])*np.linalg.norm(z[word2idx[w4]])))\n",
        "\n",
        "# デキサメタゾン　- 富士フィルム　のコサイン類似度\n",
        "print(z[word2idx[w1]]@z[word2idx[w4]]/(np.linalg.norm(z[word2idx[w1]])*np.linalg.norm(z[word2idx[w4]])))"
      ],
      "execution_count": null,
      "outputs": [
        {
          "output_type": "stream",
          "name": "stdout",
          "text": [
            "0.1738719632737246\n",
            "0.06067033396213444\n",
            "0.0\n"
          ]
        }
      ]
    },
    {
      "cell_type": "markdown",
      "metadata": {
        "id": "yn0hqTnRYuQU"
      },
      "source": [
        "## ４９：コサイン類似度トップ１０の単語"
      ]
    },
    {
      "cell_type": "code",
      "metadata": {
        "id": "wC_8hyD2sUEe",
        "colab": {
          "base_uri": "https://localhost:8080/"
        },
        "outputId": "812bbb55-4715-43fb-9376-8d0fa71f87d8"
      },
      "source": [
        "norms = np.linalg.norm(z, axis=0)\n",
        "[idx2word[w] for w in np.argsort(-z[word2idx[\"ワクチン\"]]@z/(norms[word2idx[\"ワクチン\"]]*norms))[:10]]"
      ],
      "execution_count": null,
      "outputs": [
        {
          "output_type": "execute_result",
          "data": {
            "text/plain": [
              "['ワクチン', 'ワクチンの', 'して', '同日', '天然痘', 'されている', 'する', 'メーカー', 'である', 'として']"
            ]
          },
          "metadata": {},
          "execution_count": 53
        }
      ]
    },
    {
      "cell_type": "markdown",
      "metadata": {
        "id": "7L0ezR5MHB3T"
      },
      "source": [
        "# 第６章　機械学習―入力データ・正解データの準備"
      ]
    },
    {
      "cell_type": "markdown",
      "metadata": {
        "id": "rsH_c1YBpzU7"
      },
      "source": [
        "## ５０：Livedoorニュースコーパスの取得・整形"
      ]
    },
    {
      "cell_type": "code",
      "metadata": {
        "id": "-iQM5iAVyVCi",
        "colab": {
          "base_uri": "https://localhost:8080/",
          "height": 212
        },
        "outputId": "9ea9239b-7e0e-4238-f600-fe71b3138ae2"
      },
      "source": [
        "!wget https://www.rondhuit.com/download/ldcc-20140209.tar.gz"
      ],
      "execution_count": null,
      "outputs": [
        {
          "output_type": "stream",
          "text": [
            "--2020-07-24 19:59:50--  https://www.rondhuit.com/download/ldcc-20140209.tar.gz\n",
            "Resolving www.rondhuit.com (www.rondhuit.com)... 59.106.19.174\n",
            "Connecting to www.rondhuit.com (www.rondhuit.com)|59.106.19.174|:443... connected.\n",
            "HTTP request sent, awaiting response... 200 OK\n",
            "Length: 8855190 (8.4M) [application/x-gzip]\n",
            "Saving to: ‘ldcc-20140209.tar.gz.1’\n",
            "\n",
            "ldcc-20140209.tar.g 100%[===================>]   8.44M  6.05MB/s    in 1.4s    \n",
            "\n",
            "2020-07-24 19:59:52 (6.05 MB/s) - ‘ldcc-20140209.tar.gz.1’ saved [8855190/8855190]\n",
            "\n"
          ],
          "name": "stdout"
        }
      ]
    },
    {
      "cell_type": "code",
      "metadata": {
        "id": "WBfZHOr92A7X",
        "colab": {
          "base_uri": "https://localhost:8080/",
          "height": 1000
        },
        "outputId": "0130cdc4-8c5f-4a77-fbb1-c14e487ef00f"
      },
      "source": [
        "!tar zxvf ldcc-20140209.tar.gz"
      ],
      "execution_count": null,
      "outputs": [
        {
          "output_type": "stream",
          "text": [
            "\u001b[1;30;43mストリーミング出力は最後の 5000 行に切り捨てられました。\u001b[0m\n",
            "text/smax/smax-6833494.txt\n",
            "text/smax/smax-6833579.txt\n",
            "text/smax/smax-6834422.txt\n",
            "text/smax/smax-6834562.txt\n",
            "text/smax/smax-6834765.txt\n",
            "text/smax/smax-6834990.txt\n",
            "text/smax/smax-6835318.txt\n",
            "text/smax/smax-6838218.txt\n",
            "text/smax/smax-6838260.txt\n",
            "text/smax/smax-6838332.txt\n",
            "text/smax/smax-6838453.txt\n",
            "text/smax/smax-6838514.txt\n",
            "text/smax/smax-6838627.txt\n",
            "text/smax/smax-6838702.txt\n",
            "text/smax/smax-6842164.txt\n",
            "text/smax/smax-6842219.txt\n",
            "text/smax/smax-6842269.txt\n",
            "text/smax/smax-6842402.txt\n",
            "text/smax/smax-6842629.txt\n",
            "text/smax/smax-6842882.txt\n",
            "text/smax/smax-6843206.txt\n",
            "text/smax/smax-6845003.txt\n",
            "text/smax/smax-6847081.txt\n",
            "text/smax/smax-6849018.txt\n",
            "text/smax/smax-6850114.txt\n",
            "text/smax/smax-6850391.txt\n",
            "text/smax/smax-6850789.txt\n",
            "text/smax/smax-6851590.txt\n",
            "text/smax/smax-6851919.txt\n",
            "text/smax/smax-6853063.txt\n",
            "text/smax/smax-6853346.txt\n",
            "text/smax/smax-6853751.txt\n",
            "text/smax/smax-6854198.txt\n",
            "text/smax/smax-6855347.txt\n",
            "text/smax/smax-6855946.txt\n",
            "text/smax/smax-6856195.txt\n",
            "text/smax/smax-6856578.txt\n",
            "text/smax/smax-6857034.txt\n",
            "text/smax/smax-6858955.txt\n",
            "text/smax/smax-6859717.txt\n",
            "text/smax/smax-6862739.txt\n",
            "text/smax/smax-6862961.txt\n",
            "text/smax/smax-6863613.txt\n",
            "text/smax/smax-6863830.txt\n",
            "text/smax/smax-6864316.txt\n",
            "text/smax/smax-6864822.txt\n",
            "text/smax/smax-6865709.txt\n",
            "text/smax/smax-6866367.txt\n",
            "text/smax/smax-6867434.txt\n",
            "text/smax/smax-6867630.txt\n",
            "text/smax/smax-6867958.txt\n",
            "text/smax/smax-6868134.txt\n",
            "text/smax/smax-6868794.txt\n",
            "text/smax/smax-6868880.txt\n",
            "text/smax/smax-6869011.txt\n",
            "text/smax/smax-6869226.txt\n",
            "text/smax/smax-6869457.txt\n",
            "text/smax/smax-6870238.txt\n",
            "text/smax/smax-6870754.txt\n",
            "text/smax/smax-6871144.txt\n",
            "text/smax/smax-6871321.txt\n",
            "text/smax/smax-6871412.txt\n",
            "text/smax/smax-6872210.txt\n",
            "text/smax/smax-6872294.txt\n",
            "text/smax/smax-6872442.txt\n",
            "text/smax/smax-6872644.txt\n",
            "text/smax/smax-6872861.txt\n",
            "text/smax/smax-6873158.txt\n",
            "text/smax/smax-6873769.txt\n",
            "text/smax/smax-6873771.txt\n",
            "text/smax/smax-6874095.txt\n",
            "text/smax/smax-6874642.txt\n",
            "text/smax/smax-6876253.txt\n",
            "text/smax/smax-6878431.txt\n",
            "text/smax/smax-6878726.txt\n",
            "text/smax/smax-6878858.txt\n",
            "text/smax/smax-6878961.txt\n",
            "text/smax/smax-6879011.txt\n",
            "text/smax/smax-6879365.txt\n",
            "text/smax/smax-6879979.txt\n",
            "text/smax/smax-6880045.txt\n",
            "text/smax/smax-6880417.txt\n",
            "text/smax/smax-6880684.txt\n",
            "text/smax/smax-6880915.txt\n",
            "text/smax/smax-6883152.txt\n",
            "text/smax/smax-6883752.txt\n",
            "text/smax/smax-6883851.txt\n",
            "text/smax/smax-6884005.txt\n",
            "text/smax/smax-6884226.txt\n",
            "text/smax/smax-6884447.txt\n",
            "text/smax/smax-6885285.txt\n",
            "text/smax/smax-6885532.txt\n",
            "text/smax/smax-6887027.txt\n",
            "text/smax/smax-6887070.txt\n",
            "text/smax/smax-6888036.txt\n",
            "text/smax/smax-6890004.txt\n",
            "text/smax/smax-6890633.txt\n",
            "text/smax/smax-6890777.txt\n",
            "text/smax/smax-6891748.txt\n",
            "text/smax/smax-6892219.txt\n",
            "text/smax/smax-6893232.txt\n",
            "text/smax/smax-6893827.txt\n",
            "text/smax/smax-6894795.txt\n",
            "text/smax/smax-6894879.txt\n",
            "text/smax/smax-6895018.txt\n",
            "text/smax/smax-6895221.txt\n",
            "text/smax/smax-6895468.txt\n",
            "text/smax/smax-6895739.txt\n",
            "text/smax/smax-6896144.txt\n",
            "text/smax/smax-6896226.txt\n",
            "text/smax/smax-6896251.txt\n",
            "text/smax/smax-6896317.txt\n",
            "text/smax/smax-6896381.txt\n",
            "text/smax/smax-6896411.txt\n",
            "text/smax/smax-6896449.txt\n",
            "text/smax/smax-6896678.txt\n",
            "text/smax/smax-6896917.txt\n",
            "text/smax/smax-6897290.txt\n",
            "text/smax/smax-6897781.txt\n",
            "text/smax/smax-6898486.txt\n",
            "text/smax/smax-6898846.txt\n",
            "text/smax/smax-6899352.txt\n",
            "text/smax/smax-6899867.txt\n",
            "text/smax/smax-6900354.txt\n",
            "text/smax/smax-6901408.txt\n",
            "text/smax/smax-6902275.txt\n",
            "text/smax/smax-6902327.txt\n",
            "text/smax/smax-6902433.txt\n",
            "text/smax/smax-6902483.txt\n",
            "text/smax/smax-6902534.txt\n",
            "text/smax/smax-6902669.txt\n",
            "text/smax/smax-6902813.txt\n",
            "text/smax/smax-6903232.txt\n",
            "text/smax/smax-6903538.txt\n",
            "text/smax/smax-6903745.txt\n",
            "text/smax/smax-6903954.txt\n",
            "text/smax/smax-6904255.txt\n",
            "text/smax/smax-6904760.txt\n",
            "text/smax/smax-6906434.txt\n",
            "text/smax/smax-6907687.txt\n",
            "text/smax/smax-6908550.txt\n",
            "text/smax/smax-6909018.txt\n",
            "text/smax/smax-6909466.txt\n",
            "text/smax/smax-6910027.txt\n",
            "text/smax/smax-6910653.txt\n",
            "text/smax/smax-6911073.txt\n",
            "text/smax/smax-6911272.txt\n",
            "text/smax/smax-6911408.txt\n",
            "text/smax/smax-6912200.txt\n",
            "text/smax/smax-6912390.txt\n",
            "text/smax/smax-6912552.txt\n",
            "text/smax/smax-6913238.txt\n",
            "text/smax/smax-6913645.txt\n",
            "text/smax/smax-6913983.txt\n",
            "text/smax/smax-6914518.txt\n",
            "text/smax/smax-6915427.txt\n",
            "text/smax/smax-6915983.txt\n",
            "text/smax/smax-6916678.txt\n",
            "text/smax/smax-6916709.txt\n",
            "text/smax/smax-6917135.txt\n",
            "text/smax/smax-6917246.txt\n",
            "text/smax/smax-6917555.txt\n",
            "text/smax/smax-6917816.txt\n",
            "text/smax/smax-6917854.txt\n",
            "text/smax/smax-6918624.txt\n",
            "text/smax/smax-6919324.txt\n",
            "text/peachy/LICENSE.txt\n",
            "text/peachy/peachy-4289213.txt\n",
            "text/peachy/peachy-4301698.txt\n",
            "text/peachy/peachy-4304647.txt\n",
            "text/peachy/peachy-4304732.txt\n",
            "text/peachy/peachy-4304760.txt\n",
            "text/peachy/peachy-4304861.txt\n",
            "text/peachy/peachy-4312439.txt\n",
            "text/peachy/peachy-4343765.txt\n",
            "text/peachy/peachy-4343905.txt\n",
            "text/peachy/peachy-4349469.txt\n",
            "text/peachy/peachy-4349529.txt\n",
            "text/peachy/peachy-4352879.txt\n",
            "text/peachy/peachy-4353878.txt\n",
            "text/peachy/peachy-4371655.txt\n",
            "text/peachy/peachy-4379738.txt\n",
            "text/peachy/peachy-4386543.txt\n",
            "text/peachy/peachy-4403717.txt\n",
            "text/peachy/peachy-4423029.txt\n",
            "text/peachy/peachy-4424879.txt\n",
            "text/peachy/peachy-4424988.txt\n",
            "text/peachy/peachy-4428644.txt\n",
            "text/peachy/peachy-4428773.txt\n",
            "text/peachy/peachy-4429421.txt\n",
            "text/peachy/peachy-4429538.txt\n",
            "text/peachy/peachy-4431375.txt\n",
            "text/peachy/peachy-4435450.txt\n",
            "text/peachy/peachy-4435680.txt\n",
            "text/peachy/peachy-4442655.txt\n",
            "text/peachy/peachy-4443079.txt\n",
            "text/peachy/peachy-4443176.txt\n",
            "text/peachy/peachy-4444176.txt\n",
            "text/peachy/peachy-4448766.txt\n",
            "text/peachy/peachy-4449009.txt\n",
            "text/peachy/peachy-4455016.txt\n",
            "text/peachy/peachy-4457415.txt\n",
            "text/peachy/peachy-4461272.txt\n",
            "text/peachy/peachy-4467747.txt\n",
            "text/peachy/peachy-4468380.txt\n",
            "text/peachy/peachy-4468382.txt\n",
            "text/peachy/peachy-4468397.txt\n",
            "text/peachy/peachy-4468400.txt\n",
            "text/peachy/peachy-4469956.txt\n",
            "text/peachy/peachy-4472010.txt\n",
            "text/peachy/peachy-4472029.txt\n",
            "text/peachy/peachy-4472837.txt\n",
            "text/peachy/peachy-4473146.txt\n",
            "text/peachy/peachy-4475179.txt\n",
            "text/peachy/peachy-4475181.txt\n",
            "text/peachy/peachy-4475192.txt\n",
            "text/peachy/peachy-4476157.txt\n",
            "text/peachy/peachy-4476190.txt\n",
            "text/peachy/peachy-4477154.txt\n",
            "text/peachy/peachy-4478169.txt\n",
            "text/peachy/peachy-4481512.txt\n",
            "text/peachy/peachy-4483011.txt\n",
            "text/peachy/peachy-4483201.txt\n",
            "text/peachy/peachy-4483613.txt\n",
            "text/peachy/peachy-4487110.txt\n",
            "text/peachy/peachy-4487833.txt\n",
            "text/peachy/peachy-4490543.txt\n",
            "text/peachy/peachy-4491554.txt\n",
            "text/peachy/peachy-4491682.txt\n",
            "text/peachy/peachy-4492784.txt\n",
            "text/peachy/peachy-4492986.txt\n",
            "text/peachy/peachy-4493265.txt\n",
            "text/peachy/peachy-4495213.txt\n",
            "text/peachy/peachy-4495571.txt\n",
            "text/peachy/peachy-4497332.txt\n",
            "text/peachy/peachy-4497382.txt\n",
            "text/peachy/peachy-4498426.txt\n",
            "text/peachy/peachy-4498649.txt\n",
            "text/peachy/peachy-4499588.txt\n",
            "text/peachy/peachy-4499788.txt\n",
            "text/peachy/peachy-4502434.txt\n",
            "text/peachy/peachy-4502859.txt\n",
            "text/peachy/peachy-4502926.txt\n",
            "text/peachy/peachy-4504895.txt\n",
            "text/peachy/peachy-4504995.txt\n",
            "text/peachy/peachy-4505312.txt\n",
            "text/peachy/peachy-4505371.txt\n",
            "text/peachy/peachy-4505609.txt\n",
            "text/peachy/peachy-4506355.txt\n",
            "text/peachy/peachy-4508336.txt\n",
            "text/peachy/peachy-4508674.txt\n",
            "text/peachy/peachy-4511231.txt\n",
            "text/peachy/peachy-4511598.txt\n",
            "text/peachy/peachy-4511697.txt\n",
            "text/peachy/peachy-4514853.txt\n",
            "text/peachy/peachy-4515083.txt\n",
            "text/peachy/peachy-4516010.txt\n",
            "text/peachy/peachy-4516018.txt\n",
            "text/peachy/peachy-4520970.txt\n",
            "text/peachy/peachy-4523030.txt\n",
            "text/peachy/peachy-4523109.txt\n",
            "text/peachy/peachy-4523110.txt\n",
            "text/peachy/peachy-4525942.txt\n",
            "text/peachy/peachy-4534597.txt\n",
            "text/peachy/peachy-4537139.txt\n",
            "text/peachy/peachy-4545653.txt\n",
            "text/peachy/peachy-4546120.txt\n",
            "text/peachy/peachy-4546671.txt\n",
            "text/peachy/peachy-4546938.txt\n",
            "text/peachy/peachy-4548281.txt\n",
            "text/peachy/peachy-4548517.txt\n",
            "text/peachy/peachy-4549027.txt\n",
            "text/peachy/peachy-4549159.txt\n",
            "text/peachy/peachy-4554822.txt\n",
            "text/peachy/peachy-4554951.txt\n",
            "text/peachy/peachy-4555055.txt\n",
            "text/peachy/peachy-4555064.txt\n",
            "text/peachy/peachy-4555381.txt\n",
            "text/peachy/peachy-4556517.txt\n",
            "text/peachy/peachy-4556756.txt\n",
            "text/peachy/peachy-4557279.txt\n",
            "text/peachy/peachy-4557824.txt\n",
            "text/peachy/peachy-4558560.txt\n",
            "text/peachy/peachy-4560785.txt\n",
            "text/peachy/peachy-4560813.txt\n",
            "text/peachy/peachy-4564088.txt\n",
            "text/peachy/peachy-4564175.txt\n",
            "text/peachy/peachy-4567316.txt\n",
            "text/peachy/peachy-4567522.txt\n",
            "text/peachy/peachy-4569185.txt\n",
            "text/peachy/peachy-4570390.txt\n",
            "text/peachy/peachy-4571616.txt\n",
            "text/peachy/peachy-4571636.txt\n",
            "text/peachy/peachy-4573620.txt\n",
            "text/peachy/peachy-4573845.txt\n",
            "text/peachy/peachy-4574211.txt\n",
            "text/peachy/peachy-4575000.txt\n",
            "text/peachy/peachy-4575826.txt\n",
            "text/peachy/peachy-4575868.txt\n",
            "text/peachy/peachy-4576896.txt\n",
            "text/peachy/peachy-4581413.txt\n",
            "text/peachy/peachy-4586035.txt\n",
            "text/peachy/peachy-4587672.txt\n",
            "text/peachy/peachy-4587744.txt\n",
            "text/peachy/peachy-4589530.txt\n",
            "text/peachy/peachy-4590564.txt\n",
            "text/peachy/peachy-4590576.txt\n",
            "text/peachy/peachy-4590641.txt\n",
            "text/peachy/peachy-4590653.txt\n",
            "text/peachy/peachy-4593373.txt\n",
            "text/peachy/peachy-4593440.txt\n",
            "text/peachy/peachy-4593790.txt\n",
            "text/peachy/peachy-4594380.txt\n",
            "text/peachy/peachy-4595989.txt\n",
            "text/peachy/peachy-4596063.txt\n",
            "text/peachy/peachy-4596066.txt\n",
            "text/peachy/peachy-4598021.txt\n",
            "text/peachy/peachy-4598034.txt\n",
            "text/peachy/peachy-4598042.txt\n",
            "text/peachy/peachy-4601502.txt\n",
            "text/peachy/peachy-4601738.txt\n",
            "text/peachy/peachy-4601766.txt\n",
            "text/peachy/peachy-4602385.txt\n",
            "text/peachy/peachy-4605491.txt\n",
            "text/peachy/peachy-4606543.txt\n",
            "text/peachy/peachy-4607812.txt\n",
            "text/peachy/peachy-4607980.txt\n",
            "text/peachy/peachy-4611618.txt\n",
            "text/peachy/peachy-4614801.txt\n",
            "text/peachy/peachy-4617719.txt\n",
            "text/peachy/peachy-4617840.txt\n",
            "text/peachy/peachy-4618056.txt\n",
            "text/peachy/peachy-4620285.txt\n",
            "text/peachy/peachy-4622184.txt\n",
            "text/peachy/peachy-4631699.txt\n",
            "text/peachy/peachy-4632337.txt\n",
            "text/peachy/peachy-4633854.txt\n",
            "text/peachy/peachy-4634646.txt\n",
            "text/peachy/peachy-4636587.txt\n",
            "text/peachy/peachy-4636704.txt\n",
            "text/peachy/peachy-4636758.txt\n",
            "text/peachy/peachy-4636910.txt\n",
            "text/peachy/peachy-4645799.txt\n",
            "text/peachy/peachy-4646466.txt\n",
            "text/peachy/peachy-4650794.txt\n",
            "text/peachy/peachy-4652250.txt\n",
            "text/peachy/peachy-4652307.txt\n",
            "text/peachy/peachy-4657485.txt\n",
            "text/peachy/peachy-4660313.txt\n",
            "text/peachy/peachy-4661399.txt\n",
            "text/peachy/peachy-4663550.txt\n",
            "text/peachy/peachy-4663741.txt\n",
            "text/peachy/peachy-4664370.txt\n",
            "text/peachy/peachy-4664528.txt\n",
            "text/peachy/peachy-4666473.txt\n",
            "text/peachy/peachy-4667108.txt\n",
            "text/peachy/peachy-4672713.txt\n",
            "text/peachy/peachy-4675258.txt\n",
            "text/peachy/peachy-4689834.txt\n",
            "text/peachy/peachy-4691872.txt\n",
            "text/peachy/peachy-4698176.txt\n",
            "text/peachy/peachy-4701159.txt\n",
            "text/peachy/peachy-4704390.txt\n",
            "text/peachy/peachy-4705803.txt\n",
            "text/peachy/peachy-4707470.txt\n",
            "text/peachy/peachy-4707544.txt\n",
            "text/peachy/peachy-4708158.txt\n",
            "text/peachy/peachy-4709992.txt\n",
            "text/peachy/peachy-4710050.txt\n",
            "text/peachy/peachy-4712145.txt\n",
            "text/peachy/peachy-4712848.txt\n",
            "text/peachy/peachy-4713828.txt\n",
            "text/peachy/peachy-4716044.txt\n",
            "text/peachy/peachy-4720642.txt\n",
            "text/peachy/peachy-4721837.txt\n",
            "text/peachy/peachy-4722751.txt\n",
            "text/peachy/peachy-4724240.txt\n",
            "text/peachy/peachy-4729338.txt\n",
            "text/peachy/peachy-4731239.txt\n",
            "text/peachy/peachy-4734621.txt\n",
            "text/peachy/peachy-4734725.txt\n",
            "text/peachy/peachy-4735697.txt\n",
            "text/peachy/peachy-4737880.txt\n",
            "text/peachy/peachy-4739743.txt\n",
            "text/peachy/peachy-4742543.txt\n",
            "text/peachy/peachy-4743406.txt\n",
            "text/peachy/peachy-4747924.txt\n",
            "text/peachy/peachy-4754128.txt\n",
            "text/peachy/peachy-4754595.txt\n",
            "text/peachy/peachy-4757036.txt\n",
            "text/peachy/peachy-4757213.txt\n",
            "text/peachy/peachy-4760150.txt\n",
            "text/peachy/peachy-4762955.txt\n",
            "text/peachy/peachy-4763584.txt\n",
            "text/peachy/peachy-4766436.txt\n",
            "text/peachy/peachy-4767539.txt\n",
            "text/peachy/peachy-4768022.txt\n",
            "text/peachy/peachy-4773875.txt\n",
            "text/peachy/peachy-4776367.txt\n",
            "text/peachy/peachy-4778539.txt\n",
            "text/peachy/peachy-4778626.txt\n",
            "text/peachy/peachy-4779790.txt\n",
            "text/peachy/peachy-4780108.txt\n",
            "text/peachy/peachy-4782525.txt\n",
            "text/peachy/peachy-4786716.txt\n",
            "text/peachy/peachy-4788366.txt\n",
            "text/peachy/peachy-4789748.txt\n",
            "text/peachy/peachy-4791639.txt\n",
            "text/peachy/peachy-4792674.txt\n",
            "text/peachy/peachy-4793231.txt\n",
            "text/peachy/peachy-4793389.txt\n",
            "text/peachy/peachy-4793562.txt\n",
            "text/peachy/peachy-4796206.txt\n",
            "text/peachy/peachy-4800158.txt\n",
            "text/peachy/peachy-4802759.txt\n",
            "text/peachy/peachy-4804202.txt\n",
            "text/peachy/peachy-4804568.txt\n",
            "text/peachy/peachy-4807124.txt\n",
            "text/peachy/peachy-4807255.txt\n",
            "text/peachy/peachy-4808852.txt\n",
            "text/peachy/peachy-4809221.txt\n",
            "text/peachy/peachy-4815186.txt\n",
            "text/peachy/peachy-4817020.txt\n",
            "text/peachy/peachy-4818614.txt\n",
            "text/peachy/peachy-4818698.txt\n",
            "text/peachy/peachy-4821256.txt\n",
            "text/peachy/peachy-4822718.txt\n",
            "text/peachy/peachy-4830324.txt\n",
            "text/peachy/peachy-4832995.txt\n",
            "text/peachy/peachy-4834638.txt\n",
            "text/peachy/peachy-4835444.txt\n",
            "text/peachy/peachy-4835748.txt\n",
            "text/peachy/peachy-4835806.txt\n",
            "text/peachy/peachy-4844138.txt\n",
            "text/peachy/peachy-4848757.txt\n",
            "text/peachy/peachy-4849399.txt\n",
            "text/peachy/peachy-4855343.txt\n",
            "text/peachy/peachy-4862251.txt\n",
            "text/peachy/peachy-4876069.txt\n",
            "text/peachy/peachy-4876655.txt\n",
            "text/peachy/peachy-4880945.txt\n",
            "text/peachy/peachy-4881585.txt\n",
            "text/peachy/peachy-4884582.txt\n",
            "text/peachy/peachy-4896358.txt\n",
            "text/peachy/peachy-4898780.txt\n",
            "text/peachy/peachy-4902950.txt\n",
            "text/peachy/peachy-4903255.txt\n",
            "text/peachy/peachy-4903439.txt\n",
            "text/peachy/peachy-4907701.txt\n",
            "text/peachy/peachy-4916249.txt\n",
            "text/peachy/peachy-4917155.txt\n",
            "text/peachy/peachy-4917177.txt\n",
            "text/peachy/peachy-4918846.txt\n",
            "text/peachy/peachy-4920745.txt\n",
            "text/peachy/peachy-4921969.txt\n",
            "text/peachy/peachy-4924284.txt\n",
            "text/peachy/peachy-4924289.txt\n",
            "text/peachy/peachy-4925296.txt\n",
            "text/peachy/peachy-4926651.txt\n",
            "text/peachy/peachy-4926768.txt\n",
            "text/peachy/peachy-4926769.txt\n",
            "text/peachy/peachy-4928863.txt\n",
            "text/peachy/peachy-4931238.txt\n",
            "text/peachy/peachy-4931393.txt\n",
            "text/peachy/peachy-4931401.txt\n",
            "text/peachy/peachy-4936172.txt\n",
            "text/peachy/peachy-4937190.txt\n",
            "text/peachy/peachy-4937254.txt\n",
            "text/peachy/peachy-4938749.txt\n",
            "text/peachy/peachy-4942309.txt\n",
            "text/peachy/peachy-4942466.txt\n",
            "text/peachy/peachy-4942503.txt\n",
            "text/peachy/peachy-4944549.txt\n",
            "text/peachy/peachy-4950072.txt\n",
            "text/peachy/peachy-4950812.txt\n",
            "text/peachy/peachy-4951004.txt\n",
            "text/peachy/peachy-4951570.txt\n",
            "text/peachy/peachy-4953323.txt\n",
            "text/peachy/peachy-4953576.txt\n",
            "text/peachy/peachy-4958217.txt\n",
            "text/peachy/peachy-4961845.txt\n",
            "text/peachy/peachy-4963920.txt\n",
            "text/peachy/peachy-4968555.txt\n",
            "text/peachy/peachy-4972021.txt\n",
            "text/peachy/peachy-4972112.txt\n",
            "text/peachy/peachy-4976113.txt\n",
            "text/peachy/peachy-4976666.txt\n",
            "text/peachy/peachy-4978725.txt\n",
            "text/peachy/peachy-4982315.txt\n",
            "text/peachy/peachy-4983880.txt\n",
            "text/peachy/peachy-4986056.txt\n",
            "text/peachy/peachy-4986064.txt\n",
            "text/peachy/peachy-4986975.txt\n",
            "text/peachy/peachy-4987500.txt\n",
            "text/peachy/peachy-4992060.txt\n",
            "text/peachy/peachy-4992136.txt\n",
            "text/peachy/peachy-4992329.txt\n",
            "text/peachy/peachy-4994628.txt\n",
            "text/peachy/peachy-4994814.txt\n",
            "text/peachy/peachy-4995960.txt\n",
            "text/peachy/peachy-4997019.txt\n",
            "text/peachy/peachy-4999538.txt\n",
            "text/peachy/peachy-4999600.txt\n",
            "text/peachy/peachy-5001334.txt\n",
            "text/peachy/peachy-5002046.txt\n",
            "text/peachy/peachy-5002202.txt\n",
            "text/peachy/peachy-5009708.txt\n",
            "text/peachy/peachy-5011715.txt\n",
            "text/peachy/peachy-5017441.txt\n",
            "text/peachy/peachy-5022382.txt\n",
            "text/peachy/peachy-5022542.txt\n",
            "text/peachy/peachy-5022619.txt\n",
            "text/peachy/peachy-5023610.txt\n",
            "text/peachy/peachy-5023651.txt\n",
            "text/peachy/peachy-5024028.txt\n",
            "text/peachy/peachy-5025847.txt\n",
            "text/peachy/peachy-5029469.txt\n",
            "text/peachy/peachy-5029985.txt\n",
            "text/peachy/peachy-5038084.txt\n",
            "text/peachy/peachy-5038282.txt\n",
            "text/peachy/peachy-5038701.txt\n",
            "text/peachy/peachy-5043756.txt\n",
            "text/peachy/peachy-5051063.txt\n",
            "text/peachy/peachy-5051574.txt\n",
            "text/peachy/peachy-5052075.txt\n",
            "text/peachy/peachy-5054242.txt\n",
            "text/peachy/peachy-5054325.txt\n",
            "text/peachy/peachy-5056841.txt\n",
            "text/peachy/peachy-5058754.txt\n",
            "text/peachy/peachy-5061354.txt\n",
            "text/peachy/peachy-5061607.txt\n",
            "text/peachy/peachy-5066545.txt\n",
            "text/peachy/peachy-5067005.txt\n",
            "text/peachy/peachy-5067285.txt\n",
            "text/peachy/peachy-5069309.txt\n",
            "text/peachy/peachy-5071580.txt\n",
            "text/peachy/peachy-5075421.txt\n",
            "text/peachy/peachy-5080120.txt\n",
            "text/peachy/peachy-5082009.txt\n",
            "text/peachy/peachy-5082280.txt\n",
            "text/peachy/peachy-5082496.txt\n",
            "text/peachy/peachy-5082544.txt\n",
            "text/peachy/peachy-5082576.txt\n",
            "text/peachy/peachy-5082699.txt\n",
            "text/peachy/peachy-5083869.txt\n",
            "text/peachy/peachy-5084377.txt\n",
            "text/peachy/peachy-5087239.txt\n",
            "text/peachy/peachy-5087665.txt\n",
            "text/peachy/peachy-5090038.txt\n",
            "text/peachy/peachy-5090301.txt\n",
            "text/peachy/peachy-5090473.txt\n",
            "text/peachy/peachy-5090615.txt\n",
            "text/peachy/peachy-5097239.txt\n",
            "text/peachy/peachy-5099853.txt\n",
            "text/peachy/peachy-5100348.txt\n",
            "text/peachy/peachy-5100378.txt\n",
            "text/peachy/peachy-5100464.txt\n",
            "text/peachy/peachy-5101860.txt\n",
            "text/peachy/peachy-5102561.txt\n",
            "text/peachy/peachy-5102663.txt\n",
            "text/peachy/peachy-5104964.txt\n",
            "text/peachy/peachy-5105387.txt\n",
            "text/peachy/peachy-5105448.txt\n",
            "text/peachy/peachy-5111005.txt\n",
            "text/peachy/peachy-5112112.txt\n",
            "text/peachy/peachy-5112234.txt\n",
            "text/peachy/peachy-5113373.txt\n",
            "text/peachy/peachy-5119849.txt\n",
            "text/peachy/peachy-5125056.txt\n",
            "text/peachy/peachy-5126883.txt\n",
            "text/peachy/peachy-5127186.txt\n",
            "text/peachy/peachy-5130005.txt\n",
            "text/peachy/peachy-5130975.txt\n",
            "text/peachy/peachy-5131094.txt\n",
            "text/peachy/peachy-5133184.txt\n",
            "text/peachy/peachy-5140181.txt\n",
            "text/peachy/peachy-5147146.txt\n",
            "text/peachy/peachy-5147252.txt\n",
            "text/peachy/peachy-5147350.txt\n",
            "text/peachy/peachy-5148051.txt\n",
            "text/peachy/peachy-5149284.txt\n",
            "text/peachy/peachy-5149286.txt\n",
            "text/peachy/peachy-5149712.txt\n",
            "text/peachy/peachy-5149851.txt\n",
            "text/peachy/peachy-5152642.txt\n",
            "text/peachy/peachy-5153002.txt\n",
            "text/peachy/peachy-5157972.txt\n",
            "text/peachy/peachy-5160704.txt\n",
            "text/peachy/peachy-5160910.txt\n",
            "text/peachy/peachy-5164654.txt\n",
            "text/peachy/peachy-5164920.txt\n",
            "text/peachy/peachy-5166249.txt\n",
            "text/peachy/peachy-5166913.txt\n",
            "text/peachy/peachy-5174054.txt\n",
            "text/peachy/peachy-5174805.txt\n",
            "text/peachy/peachy-5179422.txt\n",
            "text/peachy/peachy-5180285.txt\n",
            "text/peachy/peachy-5183028.txt\n",
            "text/peachy/peachy-5183729.txt\n",
            "text/peachy/peachy-5194674.txt\n",
            "text/peachy/peachy-5198801.txt\n",
            "text/peachy/peachy-5200599.txt\n",
            "text/peachy/peachy-5200667.txt\n",
            "text/peachy/peachy-5200746.txt\n",
            "text/peachy/peachy-5204520.txt\n",
            "text/peachy/peachy-5205389.txt\n",
            "text/peachy/peachy-5209713.txt\n",
            "text/peachy/peachy-5210669.txt\n",
            "text/peachy/peachy-5210836.txt\n",
            "text/peachy/peachy-5212233.txt\n",
            "text/peachy/peachy-5215042.txt\n",
            "text/peachy/peachy-5222734.txt\n",
            "text/peachy/peachy-5226641.txt\n",
            "text/peachy/peachy-5231438.txt\n",
            "text/peachy/peachy-5234677.txt\n",
            "text/peachy/peachy-5240023.txt\n",
            "text/peachy/peachy-5254009.txt\n",
            "text/peachy/peachy-5261973.txt\n",
            "text/peachy/peachy-5277777.txt\n",
            "text/peachy/peachy-5280350.txt\n",
            "text/peachy/peachy-5280351.txt\n",
            "text/peachy/peachy-5280401.txt\n",
            "text/peachy/peachy-5292022.txt\n",
            "text/peachy/peachy-5296398.txt\n",
            "text/peachy/peachy-5309308.txt\n",
            "text/peachy/peachy-5314792.txt\n",
            "text/peachy/peachy-5316199.txt\n",
            "text/peachy/peachy-5317349.txt\n",
            "text/peachy/peachy-5330516.txt\n",
            "text/peachy/peachy-5332120.txt\n",
            "text/peachy/peachy-5333688.txt\n",
            "text/peachy/peachy-5342062.txt\n",
            "text/peachy/peachy-5345471.txt\n",
            "text/peachy/peachy-5346960.txt\n",
            "text/peachy/peachy-5347004.txt\n",
            "text/peachy/peachy-5350060.txt\n",
            "text/peachy/peachy-5351011.txt\n",
            "text/peachy/peachy-5364721.txt\n",
            "text/peachy/peachy-5366025.txt\n",
            "text/peachy/peachy-5367555.txt\n",
            "text/peachy/peachy-5370587.txt\n",
            "text/peachy/peachy-5380546.txt\n",
            "text/peachy/peachy-5380842.txt\n",
            "text/peachy/peachy-5384015.txt\n",
            "text/peachy/peachy-5391098.txt\n",
            "text/peachy/peachy-5391436.txt\n",
            "text/peachy/peachy-5394397.txt\n",
            "text/peachy/peachy-5399437.txt\n",
            "text/peachy/peachy-5404292.txt\n",
            "text/peachy/peachy-5427625.txt\n",
            "text/peachy/peachy-5427673.txt\n",
            "text/peachy/peachy-5428863.txt\n",
            "text/peachy/peachy-5434761.txt\n",
            "text/peachy/peachy-5437600.txt\n",
            "text/peachy/peachy-5446551.txt\n",
            "text/peachy/peachy-5448235.txt\n",
            "text/peachy/peachy-5472820.txt\n",
            "text/peachy/peachy-5476458.txt\n",
            "text/peachy/peachy-5484045.txt\n",
            "text/peachy/peachy-5493711.txt\n",
            "text/peachy/peachy-5508705.txt\n",
            "text/peachy/peachy-5518850.txt\n",
            "text/peachy/peachy-5518943.txt\n",
            "text/peachy/peachy-5521807.txt\n",
            "text/peachy/peachy-5527129.txt\n",
            "text/peachy/peachy-5539021.txt\n",
            "text/peachy/peachy-5553037.txt\n",
            "text/peachy/peachy-5560785.txt\n",
            "text/peachy/peachy-5580895.txt\n",
            "text/peachy/peachy-5592808.txt\n",
            "text/peachy/peachy-5601463.txt\n",
            "text/peachy/peachy-5608046.txt\n",
            "text/peachy/peachy-5610438.txt\n",
            "text/peachy/peachy-5629807.txt\n",
            "text/peachy/peachy-5631445.txt\n",
            "text/peachy/peachy-5648783.txt\n",
            "text/peachy/peachy-5651531.txt\n",
            "text/peachy/peachy-5659062.txt\n",
            "text/peachy/peachy-5660462.txt\n",
            "text/peachy/peachy-5665837.txt\n",
            "text/peachy/peachy-5673272.txt\n",
            "text/peachy/peachy-5677615.txt\n",
            "text/peachy/peachy-5685219.txt\n",
            "text/peachy/peachy-5685938.txt\n",
            "text/peachy/peachy-5687733.txt\n",
            "text/peachy/peachy-5693553.txt\n",
            "text/peachy/peachy-5702759.txt\n",
            "text/peachy/peachy-5703913.txt\n",
            "text/peachy/peachy-5709440.txt\n",
            "text/peachy/peachy-5719876.txt\n",
            "text/peachy/peachy-5735280.txt\n",
            "text/peachy/peachy-5736370.txt\n",
            "text/peachy/peachy-5745124.txt\n",
            "text/peachy/peachy-5755176.txt\n",
            "text/peachy/peachy-5755467.txt\n",
            "text/peachy/peachy-5759404.txt\n",
            "text/peachy/peachy-5763064.txt\n",
            "text/peachy/peachy-5769161.txt\n",
            "text/peachy/peachy-5776081.txt\n",
            "text/peachy/peachy-5780120.txt\n",
            "text/peachy/peachy-5785872.txt\n",
            "text/peachy/peachy-5791190.txt\n",
            "text/peachy/peachy-5795854.txt\n",
            "text/peachy/peachy-5806446.txt\n",
            "text/peachy/peachy-5812531.txt\n",
            "text/peachy/peachy-5822542.txt\n",
            "text/peachy/peachy-5827810.txt\n",
            "text/peachy/peachy-5830486.txt\n",
            "text/peachy/peachy-5830875.txt\n",
            "text/peachy/peachy-5837803.txt\n",
            "text/peachy/peachy-5845832.txt\n",
            "text/peachy/peachy-5848593.txt\n",
            "text/peachy/peachy-5848898.txt\n",
            "text/peachy/peachy-5854613.txt\n",
            "text/peachy/peachy-5858649.txt\n",
            "text/peachy/peachy-5858720.txt\n",
            "text/peachy/peachy-5858839.txt\n",
            "text/peachy/peachy-5859069.txt\n",
            "text/peachy/peachy-5861811.txt\n",
            "text/peachy/peachy-5864134.txt\n",
            "text/peachy/peachy-5865798.txt\n",
            "text/peachy/peachy-5866058.txt\n",
            "text/peachy/peachy-5867387.txt\n",
            "text/peachy/peachy-5868871.txt\n",
            "text/peachy/peachy-5869012.txt\n",
            "text/peachy/peachy-5869154.txt\n",
            "text/peachy/peachy-5869155.txt\n",
            "text/peachy/peachy-5869312.txt\n",
            "text/peachy/peachy-5869356.txt\n",
            "text/peachy/peachy-5878899.txt\n",
            "text/peachy/peachy-5888799.txt\n",
            "text/peachy/peachy-5890151.txt\n",
            "text/peachy/peachy-5895458.txt\n",
            "text/peachy/peachy-5897616.txt\n",
            "text/peachy/peachy-5897718.txt\n",
            "text/peachy/peachy-5910900.txt\n",
            "text/peachy/peachy-5916669.txt\n",
            "text/peachy/peachy-5920617.txt\n",
            "text/peachy/peachy-5926962.txt\n",
            "text/peachy/peachy-5931333.txt\n",
            "text/peachy/peachy-5936556.txt\n",
            "text/peachy/peachy-5955759.txt\n",
            "text/peachy/peachy-5962941.txt\n",
            "text/peachy/peachy-5964557.txt\n",
            "text/peachy/peachy-5967694.txt\n",
            "text/peachy/peachy-5971014.txt\n",
            "text/peachy/peachy-5981741.txt\n",
            "text/peachy/peachy-5983252.txt\n",
            "text/peachy/peachy-5984696.txt\n",
            "text/peachy/peachy-5991492.txt\n",
            "text/peachy/peachy-6004565.txt\n",
            "text/peachy/peachy-6006848.txt\n",
            "text/peachy/peachy-6008754.txt\n",
            "text/peachy/peachy-6017152.txt\n",
            "text/peachy/peachy-6018386.txt\n",
            "text/peachy/peachy-6026484.txt\n",
            "text/peachy/peachy-6028425.txt\n",
            "text/peachy/peachy-6035846.txt\n",
            "text/peachy/peachy-6035851.txt\n",
            "text/peachy/peachy-6037684.txt\n",
            "text/peachy/peachy-6047419.txt\n",
            "text/peachy/peachy-6050532.txt\n",
            "text/peachy/peachy-6050955.txt\n",
            "text/peachy/peachy-6058106.txt\n",
            "text/peachy/peachy-6058112.txt\n",
            "text/peachy/peachy-6058196.txt\n",
            "text/peachy/peachy-6061100.txt\n",
            "text/peachy/peachy-6067800.txt\n",
            "text/peachy/peachy-6072981.txt\n",
            "text/peachy/peachy-6075529.txt\n",
            "text/peachy/peachy-6079986.txt\n",
            "text/peachy/peachy-6091212.txt\n",
            "text/peachy/peachy-6093088.txt\n",
            "text/peachy/peachy-6093366.txt\n",
            "text/peachy/peachy-6093673.txt\n",
            "text/peachy/peachy-6093748.txt\n",
            "text/peachy/peachy-6104139.txt\n",
            "text/peachy/peachy-6105149.txt\n",
            "text/peachy/peachy-6110273.txt\n",
            "text/peachy/peachy-6117375.txt\n",
            "text/peachy/peachy-6117455.txt\n",
            "text/peachy/peachy-6118060.txt\n",
            "text/peachy/peachy-6123268.txt\n",
            "text/peachy/peachy-6123373.txt\n",
            "text/peachy/peachy-6125089.txt\n",
            "text/peachy/peachy-6129565.txt\n",
            "text/peachy/peachy-6129741.txt\n",
            "text/peachy/peachy-6130575.txt\n",
            "text/peachy/peachy-6131001.txt\n",
            "text/peachy/peachy-6131676.txt\n",
            "text/peachy/peachy-6133467.txt\n",
            "text/peachy/peachy-6133869.txt\n",
            "text/peachy/peachy-6134058.txt\n",
            "text/peachy/peachy-6136622.txt\n",
            "text/peachy/peachy-6136709.txt\n",
            "text/peachy/peachy-6136755.txt\n",
            "text/peachy/peachy-6136783.txt\n",
            "text/peachy/peachy-6137222.txt\n",
            "text/peachy/peachy-6137441.txt\n",
            "text/peachy/peachy-6137989.txt\n",
            "text/peachy/peachy-6138243.txt\n",
            "text/peachy/peachy-6139935.txt\n",
            "text/peachy/peachy-6148835.txt\n",
            "text/peachy/peachy-6149528.txt\n",
            "text/peachy/peachy-6151892.txt\n",
            "text/peachy/peachy-6156801.txt\n",
            "text/peachy/peachy-6156908.txt\n",
            "text/peachy/peachy-6167751.txt\n",
            "text/peachy/peachy-6168536.txt\n",
            "text/peachy/peachy-6181708.txt\n",
            "text/peachy/peachy-6184515.txt\n",
            "text/peachy/peachy-6185184.txt\n",
            "text/peachy/peachy-6200846.txt\n",
            "text/peachy/peachy-6201639.txt\n",
            "text/peachy/peachy-6223989.txt\n",
            "text/peachy/peachy-6227548.txt\n",
            "text/peachy/peachy-6241506.txt\n",
            "text/peachy/peachy-6244244.txt\n",
            "text/peachy/peachy-6247930.txt\n",
            "text/peachy/peachy-6255370.txt\n",
            "text/peachy/peachy-6261189.txt\n",
            "text/peachy/peachy-6268401.txt\n",
            "text/peachy/peachy-6277653.txt\n",
            "text/peachy/peachy-6278406.txt\n",
            "text/peachy/peachy-6282609.txt\n",
            "text/peachy/peachy-6285686.txt\n",
            "text/peachy/peachy-6288848.txt\n",
            "text/peachy/peachy-6309612.txt\n",
            "text/peachy/peachy-6310222.txt\n",
            "text/peachy/peachy-6316746.txt\n",
            "text/peachy/peachy-6317921.txt\n",
            "text/peachy/peachy-6323453.txt\n",
            "text/peachy/peachy-6327453.txt\n",
            "text/peachy/peachy-6331719.txt\n",
            "text/peachy/peachy-6331799.txt\n",
            "text/peachy/peachy-6339559.txt\n",
            "text/peachy/peachy-6340272.txt\n",
            "text/peachy/peachy-6340513.txt\n",
            "text/peachy/peachy-6349940.txt\n",
            "text/peachy/peachy-6350022.txt\n",
            "text/peachy/peachy-6353784.txt\n",
            "text/peachy/peachy-6363183.txt\n",
            "text/peachy/peachy-6371925.txt\n",
            "text/peachy/peachy-6372255.txt\n",
            "text/peachy/peachy-6376350.txt\n",
            "text/peachy/peachy-6383680.txt\n",
            "text/peachy/peachy-6388329.txt\n",
            "text/peachy/peachy-6389389.txt\n",
            "text/peachy/peachy-6391836.txt\n",
            "text/peachy/peachy-6395811.txt\n",
            "text/peachy/peachy-6419474.txt\n",
            "text/peachy/peachy-6419653.txt\n",
            "text/peachy/peachy-6431549.txt\n",
            "text/peachy/peachy-6431816.txt\n",
            "text/peachy/peachy-6435277.txt\n",
            "text/peachy/peachy-6436065.txt\n",
            "text/peachy/peachy-6436443.txt\n",
            "text/peachy/peachy-6439762.txt\n",
            "text/peachy/peachy-6444644.txt\n",
            "text/peachy/peachy-6453029.txt\n",
            "text/peachy/peachy-6457241.txt\n",
            "text/peachy/peachy-6457543.txt\n",
            "text/peachy/peachy-6458653.txt\n",
            "text/peachy/peachy-6464670.txt\n",
            "text/peachy/peachy-6465411.txt\n",
            "text/peachy/peachy-6472865.txt\n",
            "text/peachy/peachy-6476343.txt\n",
            "text/peachy/peachy-6476550.txt\n",
            "text/peachy/peachy-6476929.txt\n",
            "text/peachy/peachy-6480255.txt\n",
            "text/peachy/peachy-6481150.txt\n",
            "text/peachy/peachy-6488119.txt\n",
            "text/peachy/peachy-6488532.txt\n",
            "text/peachy/peachy-6496165.txt\n",
            "text/peachy/peachy-6498711.txt\n",
            "text/peachy/peachy-6502715.txt\n",
            "text/peachy/peachy-6502983.txt\n",
            "text/peachy/peachy-6506206.txt\n",
            "text/peachy/peachy-6509823.txt\n",
            "text/peachy/peachy-6510122.txt\n",
            "text/peachy/peachy-6511406.txt\n",
            "text/peachy/peachy-6520426.txt\n",
            "text/peachy/peachy-6521117.txt\n",
            "text/peachy/peachy-6521187.txt\n",
            "text/peachy/peachy-6521263.txt\n",
            "text/peachy/peachy-6545713.txt\n",
            "text/peachy/peachy-6548402.txt\n",
            "text/peachy/peachy-6548984.txt\n",
            "text/peachy/peachy-6549352.txt\n",
            "text/peachy/peachy-6549454.txt\n",
            "text/peachy/peachy-6549577.txt\n",
            "text/peachy/peachy-6549817.txt\n",
            "text/peachy/peachy-6549947.txt\n",
            "text/peachy/peachy-6557291.txt\n",
            "text/peachy/peachy-6563065.txt\n",
            "text/peachy/peachy-6565440.txt\n",
            "text/peachy/peachy-6572363.txt\n",
            "text/peachy/peachy-6572662.txt\n",
            "text/peachy/peachy-6572715.txt\n",
            "text/peachy/peachy-6572959.txt\n",
            "text/peachy/peachy-6582340.txt\n",
            "text/peachy/peachy-6584106.txt\n",
            "text/peachy/peachy-6589626.txt\n",
            "text/peachy/peachy-6593988.txt\n",
            "text/peachy/peachy-6594148.txt\n",
            "text/peachy/peachy-6594596.txt\n",
            "text/peachy/peachy-6594625.txt\n",
            "text/peachy/peachy-6601430.txt\n",
            "text/peachy/peachy-6602831.txt\n",
            "text/peachy/peachy-6609207.txt\n",
            "text/peachy/peachy-6615556.txt\n",
            "text/peachy/peachy-6617118.txt\n",
            "text/peachy/peachy-6617204.txt\n",
            "text/peachy/peachy-6617251.txt\n",
            "text/peachy/peachy-6617370.txt\n",
            "text/peachy/peachy-6623074.txt\n",
            "text/peachy/peachy-6630632.txt\n",
            "text/peachy/peachy-6634627.txt\n",
            "text/peachy/peachy-6636643.txt\n",
            "text/peachy/peachy-6639781.txt\n",
            "text/peachy/peachy-6639883.txt\n",
            "text/peachy/peachy-6640009.txt\n",
            "text/peachy/peachy-6645862.txt\n",
            "text/peachy/peachy-6649069.txt\n",
            "text/peachy/peachy-6660891.txt\n",
            "text/peachy/peachy-6661820.txt\n",
            "text/peachy/peachy-6661911.txt\n",
            "text/peachy/peachy-6662015.txt\n",
            "text/peachy/peachy-6662103.txt\n",
            "text/peachy/peachy-6669184.txt\n",
            "text/peachy/peachy-6680385.txt\n",
            "text/peachy/peachy-6684289.txt\n",
            "text/peachy/peachy-6684587.txt\n",
            "text/peachy/peachy-6684605.txt\n",
            "text/peachy/peachy-6684788.txt\n",
            "text/peachy/peachy-6684823.txt\n",
            "text/peachy/peachy-6684851.txt\n",
            "text/peachy/peachy-6684925.txt\n",
            "text/peachy/peachy-6694374.txt\n",
            "text/peachy/peachy-6701881.txt\n",
            "text/peachy/peachy-6706836.txt\n",
            "text/peachy/peachy-6706986.txt\n",
            "text/peachy/peachy-6707024.txt\n",
            "text/peachy/peachy-6707225.txt\n",
            "text/peachy/peachy-6719236.txt\n",
            "text/peachy/peachy-6719475.txt\n",
            "text/peachy/peachy-6730826.txt\n",
            "text/peachy/peachy-6731010.txt\n",
            "text/peachy/peachy-6732499.txt\n",
            "text/peachy/peachy-6732527.txt\n",
            "text/peachy/peachy-6732572.txt\n",
            "text/peachy/peachy-6732646.txt\n",
            "text/peachy/peachy-6754052.txt\n",
            "text/peachy/peachy-6754402.txt\n",
            "text/peachy/peachy-6755396.txt\n",
            "text/peachy/peachy-6755476.txt\n",
            "text/peachy/peachy-6755585.txt\n",
            "text/peachy/peachy-6755644.txt\n",
            "text/peachy/peachy-6764622.txt\n",
            "text/peachy/peachy-6771232.txt\n",
            "text/peachy/peachy-6771937.txt\n",
            "text/peachy/peachy-6776250.txt\n",
            "text/peachy/peachy-6776312.txt\n",
            "text/peachy/peachy-6776414.txt\n",
            "text/peachy/peachy-6776485.txt\n",
            "text/peachy/peachy-6782400.txt\n",
            "text/peachy/peachy-6790132.txt\n",
            "text/peachy/peachy-6792863.txt\n",
            "text/peachy/peachy-6797685.txt\n",
            "text/peachy/peachy-6797729.txt\n",
            "text/peachy/peachy-6797745.txt\n",
            "text/peachy/peachy-6804421.txt\n",
            "text/peachy/peachy-6807920.txt\n",
            "text/peachy/peachy-6812222.txt\n",
            "text/peachy/peachy-6817439.txt\n",
            "text/peachy/peachy-6821596.txt\n",
            "text/peachy/peachy-6821661.txt\n",
            "text/peachy/peachy-6821701.txt\n",
            "text/peachy/peachy-6821806.txt\n",
            "text/peachy/peachy-6835551.txt\n",
            "text/peachy/peachy-6839568.txt\n",
            "text/peachy/peachy-6840155.txt\n",
            "text/peachy/peachy-6840266.txt\n",
            "text/peachy/peachy-6844714.txt\n",
            "text/peachy/peachy-6844796.txt\n",
            "text/peachy/peachy-6844906.txt\n",
            "text/peachy/peachy-6844976.txt\n",
            "text/peachy/peachy-6844977.txt\n",
            "text/peachy/peachy-6853693.txt\n",
            "text/peachy/peachy-6854989.txt\n",
            "text/peachy/peachy-6860090.txt\n",
            "text/peachy/peachy-6862939.txt\n",
            "text/peachy/peachy-6864009.txt\n",
            "text/peachy/peachy-6864043.txt\n",
            "text/peachy/peachy-6864074.txt\n",
            "text/peachy/peachy-6864278.txt\n",
            "text/peachy/peachy-6871330.txt\n",
            "text/peachy/peachy-6872791.txt\n",
            "text/peachy/peachy-6878692.txt\n",
            "text/peachy/peachy-6886043.txt\n",
            "text/peachy/peachy-6886091.txt\n",
            "text/peachy/peachy-6886127.txt\n",
            "text/peachy/peachy-6886196.txt\n",
            "text/peachy/peachy-6895892.txt\n",
            "text/peachy/peachy-6903604.txt\n",
            "text/peachy/peachy-6907463.txt\n",
            "text/peachy/peachy-6907491.txt\n",
            "text/peachy/peachy-6907988.txt\n",
            "text/peachy/peachy-6908055.txt\n",
            "text/movie-enter/LICENSE.txt\n",
            "text/movie-enter/movie-enter-5840081.txt\n",
            "text/movie-enter/movie-enter-5840350.txt\n",
            "text/movie-enter/movie-enter-5840524.txt\n",
            "text/movie-enter/movie-enter-5841772.txt\n",
            "text/movie-enter/movie-enter-5842330.txt\n",
            "text/movie-enter/movie-enter-5842955.txt\n",
            "text/movie-enter/movie-enter-5842974.txt\n",
            "text/movie-enter/movie-enter-5843495.txt\n",
            "text/movie-enter/movie-enter-5843659.txt\n",
            "text/movie-enter/movie-enter-5843929.txt\n",
            "text/movie-enter/movie-enter-5844065.txt\n",
            "text/movie-enter/movie-enter-5845521.txt\n",
            "text/movie-enter/movie-enter-5845578.txt\n",
            "text/movie-enter/movie-enter-5845799.txt\n",
            "text/movie-enter/movie-enter-5845846.txt\n",
            "text/movie-enter/movie-enter-5847102.txt\n",
            "text/movie-enter/movie-enter-5847110.txt\n",
            "text/movie-enter/movie-enter-5849586.txt\n",
            "text/movie-enter/movie-enter-5850135.txt\n",
            "text/movie-enter/movie-enter-5850604.txt\n",
            "text/movie-enter/movie-enter-5850745.txt\n",
            "text/movie-enter/movie-enter-5850747.txt\n",
            "text/movie-enter/movie-enter-5851460.txt\n",
            "text/movie-enter/movie-enter-5852520.txt\n",
            "text/movie-enter/movie-enter-5856137.txt\n",
            "text/movie-enter/movie-enter-5859303.txt\n",
            "text/movie-enter/movie-enter-5859893.txt\n",
            "text/movie-enter/movie-enter-5859984.txt\n",
            "text/movie-enter/movie-enter-5860161.txt\n",
            "text/movie-enter/movie-enter-5861812.txt\n",
            "text/movie-enter/movie-enter-5862842.txt\n",
            "text/movie-enter/movie-enter-5863602.txt\n",
            "text/movie-enter/movie-enter-5863975.txt\n",
            "text/movie-enter/movie-enter-5864205.txt\n",
            "text/movie-enter/movie-enter-5864365.txt\n",
            "text/movie-enter/movie-enter-5865707.txt\n",
            "text/movie-enter/movie-enter-5865837.txt\n",
            "text/movie-enter/movie-enter-5865992.txt\n",
            "text/movie-enter/movie-enter-5870671.txt\n",
            "text/movie-enter/movie-enter-5871457.txt\n",
            "text/movie-enter/movie-enter-5871984.txt\n",
            "text/movie-enter/movie-enter-5872745.txt\n",
            "text/movie-enter/movie-enter-5875131.txt\n",
            "text/movie-enter/movie-enter-5875522.txt\n",
            "text/movie-enter/movie-enter-5876300.txt\n",
            "text/movie-enter/movie-enter-5878533.txt\n",
            "text/movie-enter/movie-enter-5878782.txt\n",
            "text/movie-enter/movie-enter-5878849.txt\n",
            "text/movie-enter/movie-enter-5878904.txt\n",
            "text/movie-enter/movie-enter-5878911.txt\n",
            "text/movie-enter/movie-enter-5882299.txt\n",
            "text/movie-enter/movie-enter-5882547.txt\n",
            "text/movie-enter/movie-enter-5882746.txt\n",
            "text/movie-enter/movie-enter-5882807.txt\n",
            "text/movie-enter/movie-enter-5883799.txt\n",
            "text/movie-enter/movie-enter-5885541.txt\n",
            "text/movie-enter/movie-enter-5886488.txt\n",
            "text/movie-enter/movie-enter-5886917.txt\n",
            "text/movie-enter/movie-enter-5890267.txt\n",
            "text/movie-enter/movie-enter-5890605.txt\n",
            "text/movie-enter/movie-enter-5893366.txt\n",
            "text/movie-enter/movie-enter-5894766.txt\n",
            "text/movie-enter/movie-enter-5899362.txt\n",
            "text/movie-enter/movie-enter-5900294.txt\n",
            "text/movie-enter/movie-enter-5902410.txt\n",
            "text/movie-enter/movie-enter-5902577.txt\n",
            "text/movie-enter/movie-enter-5902886.txt\n",
            "text/movie-enter/movie-enter-5902925.txt\n",
            "text/movie-enter/movie-enter-5903240.txt\n",
            "text/movie-enter/movie-enter-5905081.txt\n",
            "text/movie-enter/movie-enter-5908168.txt\n",
            "text/movie-enter/movie-enter-5908336.txt\n",
            "text/movie-enter/movie-enter-5908614.txt\n",
            "text/movie-enter/movie-enter-5909503.txt\n",
            "text/movie-enter/movie-enter-5910270.txt\n",
            "text/movie-enter/movie-enter-5911271.txt\n",
            "text/movie-enter/movie-enter-5912334.txt\n",
            "text/movie-enter/movie-enter-5913562.txt\n",
            "text/movie-enter/movie-enter-5914363.txt\n",
            "text/movie-enter/movie-enter-5914409.txt\n",
            "text/movie-enter/movie-enter-5914607.txt\n",
            "text/movie-enter/movie-enter-5914609.txt\n",
            "text/movie-enter/movie-enter-5914722.txt\n",
            "text/movie-enter/movie-enter-5914880.txt\n",
            "text/movie-enter/movie-enter-5916938.txt\n",
            "text/movie-enter/movie-enter-5916951.txt\n",
            "text/movie-enter/movie-enter-5916999.txt\n",
            "text/movie-enter/movie-enter-5917005.txt\n",
            "text/movie-enter/movie-enter-5919267.txt\n",
            "text/movie-enter/movie-enter-5920141.txt\n",
            "text/movie-enter/movie-enter-5920584.txt\n",
            "text/movie-enter/movie-enter-5920738.txt\n",
            "text/movie-enter/movie-enter-5920972.txt\n",
            "text/movie-enter/movie-enter-5921068.txt\n",
            "text/movie-enter/movie-enter-5921079.txt\n",
            "text/movie-enter/movie-enter-5921161.txt\n",
            "text/movie-enter/movie-enter-5921207.txt\n",
            "text/movie-enter/movie-enter-5921216.txt\n",
            "text/movie-enter/movie-enter-5924578.txt\n",
            "text/movie-enter/movie-enter-5925383.txt\n",
            "text/movie-enter/movie-enter-5926743.txt\n",
            "text/movie-enter/movie-enter-5928050.txt\n",
            "text/movie-enter/movie-enter-5928414.txt\n",
            "text/movie-enter/movie-enter-5928601.txt\n",
            "text/movie-enter/movie-enter-5928892.txt\n",
            "text/movie-enter/movie-enter-5929899.txt\n",
            "text/movie-enter/movie-enter-5931053.txt\n",
            "text/movie-enter/movie-enter-5931721.txt\n",
            "text/movie-enter/movie-enter-5933219.txt\n",
            "text/movie-enter/movie-enter-5933745.txt\n",
            "text/movie-enter/movie-enter-5934970.txt\n",
            "text/movie-enter/movie-enter-5935297.txt\n",
            "text/movie-enter/movie-enter-5935337.txt\n",
            "text/movie-enter/movie-enter-5937201.txt\n",
            "text/movie-enter/movie-enter-5938633.txt\n",
            "text/movie-enter/movie-enter-5939788.txt\n",
            "text/movie-enter/movie-enter-5943414.txt\n",
            "text/movie-enter/movie-enter-5943845.txt\n",
            "text/movie-enter/movie-enter-5943850.txt\n",
            "text/movie-enter/movie-enter-5944099.txt\n",
            "text/movie-enter/movie-enter-5946461.txt\n",
            "text/movie-enter/movie-enter-5946996.txt\n",
            "text/movie-enter/movie-enter-5947726.txt\n",
            "text/movie-enter/movie-enter-5947862.txt\n",
            "text/movie-enter/movie-enter-5949899.txt\n",
            "text/movie-enter/movie-enter-5950519.txt\n",
            "text/movie-enter/movie-enter-5950651.txt\n",
            "text/movie-enter/movie-enter-5950828.txt\n",
            "text/movie-enter/movie-enter-5950867.txt\n",
            "text/movie-enter/movie-enter-5952392.txt\n",
            "text/movie-enter/movie-enter-5952955.txt\n",
            "text/movie-enter/movie-enter-5953174.txt\n",
            "text/movie-enter/movie-enter-5954148.txt\n",
            "text/movie-enter/movie-enter-5955855.txt\n",
            "text/movie-enter/movie-enter-5956979.txt\n",
            "text/movie-enter/movie-enter-5957425.txt\n",
            "text/movie-enter/movie-enter-5958540.txt\n",
            "text/movie-enter/movie-enter-5958928.txt\n",
            "text/movie-enter/movie-enter-5958983.txt\n",
            "text/movie-enter/movie-enter-5961892.txt\n",
            "text/movie-enter/movie-enter-5962222.txt\n",
            "text/movie-enter/movie-enter-5962597.txt\n",
            "text/movie-enter/movie-enter-5962828.txt\n",
            "text/movie-enter/movie-enter-5965331.txt\n",
            "text/movie-enter/movie-enter-5966397.txt\n",
            "text/movie-enter/movie-enter-5966479.txt\n",
            "text/movie-enter/movie-enter-5966725.txt\n",
            "text/movie-enter/movie-enter-5972654.txt\n",
            "text/movie-enter/movie-enter-5974873.txt\n",
            "text/movie-enter/movie-enter-5975229.txt\n",
            "text/movie-enter/movie-enter-5975506.txt\n",
            "text/movie-enter/movie-enter-5975520.txt\n",
            "text/movie-enter/movie-enter-5976136.txt\n",
            "text/movie-enter/movie-enter-5978741.txt\n",
            "text/movie-enter/movie-enter-5979444.txt\n",
            "text/movie-enter/movie-enter-5981842.txt\n",
            "text/movie-enter/movie-enter-5985400.txt\n",
            "text/movie-enter/movie-enter-5986182.txt\n",
            "text/movie-enter/movie-enter-5988596.txt\n",
            "text/movie-enter/movie-enter-5990104.txt\n",
            "text/movie-enter/movie-enter-5990297.txt\n",
            "text/movie-enter/movie-enter-5991186.txt\n",
            "text/movie-enter/movie-enter-5996948.txt\n",
            "text/movie-enter/movie-enter-5997931.txt\n",
            "text/movie-enter/movie-enter-6000744.txt\n",
            "text/movie-enter/movie-enter-6004816.txt\n",
            "text/movie-enter/movie-enter-6006555.txt\n",
            "text/movie-enter/movie-enter-6008419.txt\n",
            "text/movie-enter/movie-enter-6009203.txt\n",
            "text/movie-enter/movie-enter-6010519.txt\n",
            "text/movie-enter/movie-enter-6010541.txt\n",
            "text/movie-enter/movie-enter-6013876.txt\n",
            "text/movie-enter/movie-enter-6013901.txt\n",
            "text/movie-enter/movie-enter-6015427.txt\n",
            "text/movie-enter/movie-enter-6020234.txt\n",
            "text/movie-enter/movie-enter-6024592.txt\n",
            "text/movie-enter/movie-enter-6024707.txt\n",
            "text/movie-enter/movie-enter-6026676.txt\n",
            "text/movie-enter/movie-enter-6029862.txt\n",
            "text/movie-enter/movie-enter-6031885.txt\n",
            "text/movie-enter/movie-enter-6033332.txt\n",
            "text/movie-enter/movie-enter-6034460.txt\n",
            "text/movie-enter/movie-enter-6035751.txt\n",
            "text/movie-enter/movie-enter-6036329.txt\n",
            "text/movie-enter/movie-enter-6036621.txt\n",
            "text/movie-enter/movie-enter-6040063.txt\n",
            "text/movie-enter/movie-enter-6040192.txt\n",
            "text/movie-enter/movie-enter-6041207.txt\n",
            "text/movie-enter/movie-enter-6045331.txt\n",
            "text/movie-enter/movie-enter-6047004.txt\n",
            "text/movie-enter/movie-enter-6049053.txt\n",
            "text/movie-enter/movie-enter-6049200.txt\n",
            "text/movie-enter/movie-enter-6050625.txt\n",
            "text/movie-enter/movie-enter-6050759.txt\n",
            "text/movie-enter/movie-enter-6050945.txt\n",
            "text/movie-enter/movie-enter-6052175.txt\n",
            "text/movie-enter/movie-enter-6052616.txt\n",
            "text/movie-enter/movie-enter-6054454.txt\n",
            "text/movie-enter/movie-enter-6055135.txt\n",
            "text/movie-enter/movie-enter-6060259.txt\n",
            "text/movie-enter/movie-enter-6061555.txt\n",
            "text/movie-enter/movie-enter-6061808.txt\n",
            "text/movie-enter/movie-enter-6062290.txt\n",
            "text/movie-enter/movie-enter-6063215.txt\n",
            "text/movie-enter/movie-enter-6065956.txt\n",
            "text/movie-enter/movie-enter-6068983.txt\n",
            "text/movie-enter/movie-enter-6069378.txt\n",
            "text/movie-enter/movie-enter-6069949.txt\n",
            "text/movie-enter/movie-enter-6070483.txt\n",
            "text/movie-enter/movie-enter-6070492.txt\n",
            "text/movie-enter/movie-enter-6070635.txt\n",
            "text/movie-enter/movie-enter-6072282.txt\n",
            "text/movie-enter/movie-enter-6072412.txt\n",
            "text/movie-enter/movie-enter-6073555.txt\n",
            "text/movie-enter/movie-enter-6074059.txt\n",
            "text/movie-enter/movie-enter-6075201.txt\n",
            "text/movie-enter/movie-enter-6076279.txt\n",
            "text/movie-enter/movie-enter-6076782.txt\n",
            "text/movie-enter/movie-enter-6077002.txt\n",
            "text/movie-enter/movie-enter-6077077.txt\n",
            "text/movie-enter/movie-enter-6079103.txt\n",
            "text/movie-enter/movie-enter-6080525.txt\n",
            "text/movie-enter/movie-enter-6083027.txt\n",
            "text/movie-enter/movie-enter-6083351.txt\n",
            "text/movie-enter/movie-enter-6083973.txt\n",
            "text/movie-enter/movie-enter-6084613.txt\n",
            "text/movie-enter/movie-enter-6084962.txt\n",
            "text/movie-enter/movie-enter-6086038.txt\n",
            "text/movie-enter/movie-enter-6086730.txt\n",
            "text/movie-enter/movie-enter-6087495.txt\n",
            "text/movie-enter/movie-enter-6089622.txt\n",
            "text/movie-enter/movie-enter-6091405.txt\n",
            "text/movie-enter/movie-enter-6093019.txt\n",
            "text/movie-enter/movie-enter-6094704.txt\n",
            "text/movie-enter/movie-enter-6096930.txt\n",
            "text/movie-enter/movie-enter-6097048.txt\n",
            "text/movie-enter/movie-enter-6097490.txt\n",
            "text/movie-enter/movie-enter-6098034.txt\n",
            "text/movie-enter/movie-enter-6100037.txt\n",
            "text/movie-enter/movie-enter-6104181.txt\n",
            "text/movie-enter/movie-enter-6104819.txt\n",
            "text/movie-enter/movie-enter-6106282.txt\n",
            "text/movie-enter/movie-enter-6108151.txt\n",
            "text/movie-enter/movie-enter-6110253.txt\n",
            "text/movie-enter/movie-enter-6110734.txt\n",
            "text/movie-enter/movie-enter-6110816.txt\n",
            "text/movie-enter/movie-enter-6111189.txt\n",
            "text/movie-enter/movie-enter-6113246.txt\n",
            "text/movie-enter/movie-enter-6118161.txt\n",
            "text/movie-enter/movie-enter-6119832.txt\n",
            "text/movie-enter/movie-enter-6120264.txt\n",
            "text/movie-enter/movie-enter-6122890.txt\n",
            "text/movie-enter/movie-enter-6123122.txt\n",
            "text/movie-enter/movie-enter-6123308.txt\n",
            "text/movie-enter/movie-enter-6123444.txt\n",
            "text/movie-enter/movie-enter-6123568.txt\n",
            "text/movie-enter/movie-enter-6123838.txt\n",
            "text/movie-enter/movie-enter-6124315.txt\n",
            "text/movie-enter/movie-enter-6125085.txt\n",
            "text/movie-enter/movie-enter-6125660.txt\n",
            "text/movie-enter/movie-enter-6125713.txt\n",
            "text/movie-enter/movie-enter-6128292.txt\n",
            "text/movie-enter/movie-enter-6128471.txt\n",
            "text/movie-enter/movie-enter-6130912.txt\n",
            "text/movie-enter/movie-enter-6131041.txt\n",
            "text/movie-enter/movie-enter-6132017.txt\n",
            "text/movie-enter/movie-enter-6133667.txt\n",
            "text/movie-enter/movie-enter-6134017.txt\n",
            "text/movie-enter/movie-enter-6139890.txt\n",
            "text/movie-enter/movie-enter-6140382.txt\n",
            "text/movie-enter/movie-enter-6141525.txt\n",
            "text/movie-enter/movie-enter-6141595.txt\n",
            "text/movie-enter/movie-enter-6146256.txt\n",
            "text/movie-enter/movie-enter-6148384.txt\n",
            "text/movie-enter/movie-enter-6148425.txt\n",
            "text/movie-enter/movie-enter-6148636.txt\n",
            "text/movie-enter/movie-enter-6149061.txt\n",
            "text/movie-enter/movie-enter-6149578.txt\n",
            "text/movie-enter/movie-enter-6151503.txt\n",
            "text/movie-enter/movie-enter-6152061.txt\n",
            "text/movie-enter/movie-enter-6152270.txt\n",
            "text/movie-enter/movie-enter-6152335.txt\n",
            "text/movie-enter/movie-enter-6152344.txt\n",
            "text/movie-enter/movie-enter-6152769.txt\n",
            "text/movie-enter/movie-enter-6154720.txt\n",
            "text/movie-enter/movie-enter-6155535.txt\n",
            "text/movie-enter/movie-enter-6155542.txt\n",
            "text/movie-enter/movie-enter-6156659.txt\n",
            "text/movie-enter/movie-enter-6156854.txt\n",
            "text/movie-enter/movie-enter-6157509.txt\n",
            "text/movie-enter/movie-enter-6157623.txt\n",
            "text/movie-enter/movie-enter-6159895.txt\n",
            "text/movie-enter/movie-enter-6160423.txt\n",
            "text/movie-enter/movie-enter-6163763.txt\n",
            "text/movie-enter/movie-enter-6164401.txt\n",
            "text/movie-enter/movie-enter-6165056.txt\n",
            "text/movie-enter/movie-enter-6167984.txt\n",
            "text/movie-enter/movie-enter-6168690.txt\n",
            "text/movie-enter/movie-enter-6171429.txt\n",
            "text/movie-enter/movie-enter-6172041.txt\n",
            "text/movie-enter/movie-enter-6172146.txt\n",
            "text/movie-enter/movie-enter-6172352.txt\n",
            "text/movie-enter/movie-enter-6176324.txt\n",
            "text/movie-enter/movie-enter-6178173.txt\n",
            "text/movie-enter/movie-enter-6179041.txt\n",
            "text/movie-enter/movie-enter-6179859.txt\n",
            "text/movie-enter/movie-enter-6180278.txt\n",
            "text/movie-enter/movie-enter-6181887.txt\n",
            "text/movie-enter/movie-enter-6184337.txt\n",
            "text/movie-enter/movie-enter-6184400.txt\n",
            "text/movie-enter/movie-enter-6185285.txt\n",
            "text/movie-enter/movie-enter-6185688.txt\n",
            "text/movie-enter/movie-enter-6187666.txt\n",
            "text/movie-enter/movie-enter-6190650.txt\n",
            "text/movie-enter/movie-enter-6191062.txt\n",
            "text/movie-enter/movie-enter-6194056.txt\n",
            "text/movie-enter/movie-enter-6194729.txt\n",
            "text/movie-enter/movie-enter-6195457.txt\n",
            "text/movie-enter/movie-enter-6195731.txt\n",
            "text/movie-enter/movie-enter-6201570.txt\n",
            "text/movie-enter/movie-enter-6201809.txt\n",
            "text/movie-enter/movie-enter-6202560.txt\n",
            "text/movie-enter/movie-enter-6203550.txt\n",
            "text/movie-enter/movie-enter-6208867.txt\n",
            "text/movie-enter/movie-enter-6208876.txt\n",
            "text/movie-enter/movie-enter-6211811.txt\n",
            "text/movie-enter/movie-enter-6215030.txt\n",
            "text/movie-enter/movie-enter-6215816.txt\n",
            "text/movie-enter/movie-enter-6217048.txt\n",
            "text/movie-enter/movie-enter-6217461.txt\n",
            "text/movie-enter/movie-enter-6218736.txt\n",
            "text/movie-enter/movie-enter-6218872.txt\n",
            "text/movie-enter/movie-enter-6219105.txt\n",
            "text/movie-enter/movie-enter-6221124.txt\n",
            "text/movie-enter/movie-enter-6222027.txt\n",
            "text/movie-enter/movie-enter-6222078.txt\n",
            "text/movie-enter/movie-enter-6222104.txt\n",
            "text/movie-enter/movie-enter-6222167.txt\n",
            "text/movie-enter/movie-enter-6223416.txt\n",
            "text/movie-enter/movie-enter-6224544.txt\n",
            "text/movie-enter/movie-enter-6224881.txt\n",
            "text/movie-enter/movie-enter-6228153.txt\n",
            "text/movie-enter/movie-enter-6229641.txt\n",
            "text/movie-enter/movie-enter-6231515.txt\n",
            "text/movie-enter/movie-enter-6233567.txt\n",
            "text/movie-enter/movie-enter-6236580.txt\n",
            "text/movie-enter/movie-enter-6237714.txt\n",
            "text/movie-enter/movie-enter-6237816.txt\n",
            "text/movie-enter/movie-enter-6239924.txt\n",
            "text/movie-enter/movie-enter-6240239.txt\n",
            "text/movie-enter/movie-enter-6240339.txt\n",
            "text/movie-enter/movie-enter-6241687.txt\n",
            "text/movie-enter/movie-enter-6242229.txt\n",
            "text/movie-enter/movie-enter-6243533.txt\n",
            "text/movie-enter/movie-enter-6244800.txt\n",
            "text/movie-enter/movie-enter-6245513.txt\n",
            "text/movie-enter/movie-enter-6245687.txt\n",
            "text/movie-enter/movie-enter-6247976.txt\n",
            "text/movie-enter/movie-enter-6248807.txt\n",
            "text/movie-enter/movie-enter-6249301.txt\n",
            "text/movie-enter/movie-enter-6250487.txt\n",
            "text/movie-enter/movie-enter-6251354.txt\n",
            "text/movie-enter/movie-enter-6251713.txt\n",
            "text/movie-enter/movie-enter-6251781.txt\n",
            "text/movie-enter/movie-enter-6253008.txt\n",
            "text/movie-enter/movie-enter-6254765.txt\n",
            "text/movie-enter/movie-enter-6255260.txt\n",
            "text/movie-enter/movie-enter-6255399.txt\n",
            "text/movie-enter/movie-enter-6258375.txt\n",
            "text/movie-enter/movie-enter-6258542.txt\n",
            "text/movie-enter/movie-enter-6260546.txt\n",
            "text/movie-enter/movie-enter-6260699.txt\n",
            "text/movie-enter/movie-enter-6261452.txt\n",
            "text/movie-enter/movie-enter-6264047.txt\n",
            "text/movie-enter/movie-enter-6265274.txt\n",
            "text/movie-enter/movie-enter-6265669.txt\n",
            "text/movie-enter/movie-enter-6265685.txt\n",
            "text/movie-enter/movie-enter-6265993.txt\n",
            "text/movie-enter/movie-enter-6269114.txt\n",
            "text/movie-enter/movie-enter-6269274.txt\n",
            "text/movie-enter/movie-enter-6273079.txt\n",
            "text/movie-enter/movie-enter-6273148.txt\n",
            "text/movie-enter/movie-enter-6274851.txt\n",
            "text/movie-enter/movie-enter-6274984.txt\n",
            "text/movie-enter/movie-enter-6275633.txt\n",
            "text/movie-enter/movie-enter-6278087.txt\n",
            "text/movie-enter/movie-enter-6278407.txt\n",
            "text/movie-enter/movie-enter-6278767.txt\n",
            "text/movie-enter/movie-enter-6279137.txt\n",
            "text/movie-enter/movie-enter-6279397.txt\n",
            "text/movie-enter/movie-enter-6282195.txt\n",
            "text/movie-enter/movie-enter-6282378.txt\n",
            "text/movie-enter/movie-enter-6283175.txt\n",
            "text/movie-enter/movie-enter-6284716.txt\n",
            "text/movie-enter/movie-enter-6285455.txt\n",
            "text/movie-enter/movie-enter-6286599.txt\n",
            "text/movie-enter/movie-enter-6289870.txt\n",
            "text/movie-enter/movie-enter-6292838.txt\n",
            "text/movie-enter/movie-enter-6294599.txt\n",
            "text/movie-enter/movie-enter-6294740.txt\n",
            "text/movie-enter/movie-enter-6295484.txt\n",
            "text/movie-enter/movie-enter-6295646.txt\n",
            "text/movie-enter/movie-enter-6296323.txt\n",
            "text/movie-enter/movie-enter-6298125.txt\n",
            "text/movie-enter/movie-enter-6298580.txt\n",
            "text/movie-enter/movie-enter-6298840.txt\n",
            "text/movie-enter/movie-enter-6303444.txt\n",
            "text/movie-enter/movie-enter-6303741.txt\n",
            "text/movie-enter/movie-enter-6305383.txt\n",
            "text/movie-enter/movie-enter-6305447.txt\n",
            "text/movie-enter/movie-enter-6305978.txt\n",
            "text/movie-enter/movie-enter-6306671.txt\n",
            "text/movie-enter/movie-enter-6307143.txt\n",
            "text/movie-enter/movie-enter-6307444.txt\n",
            "text/movie-enter/movie-enter-6307476.txt\n",
            "text/movie-enter/movie-enter-6309409.txt\n",
            "text/movie-enter/movie-enter-6310189.txt\n",
            "text/movie-enter/movie-enter-6310848.txt\n",
            "text/movie-enter/movie-enter-6311321.txt\n",
            "text/movie-enter/movie-enter-6312748.txt\n",
            "text/movie-enter/movie-enter-6314158.txt\n",
            "text/movie-enter/movie-enter-6315858.txt\n",
            "text/movie-enter/movie-enter-6316451.txt\n",
            "text/movie-enter/movie-enter-6316535.txt\n",
            "text/movie-enter/movie-enter-6316602.txt\n",
            "text/movie-enter/movie-enter-6316647.txt\n",
            "text/movie-enter/movie-enter-6316858.txt\n",
            "text/movie-enter/movie-enter-6316908.txt\n",
            "text/movie-enter/movie-enter-6316975.txt\n",
            "text/movie-enter/movie-enter-6317326.txt\n",
            "text/movie-enter/movie-enter-6317409.txt\n",
            "text/movie-enter/movie-enter-6317558.txt\n",
            "text/movie-enter/movie-enter-6317563.txt\n",
            "text/movie-enter/movie-enter-6317736.txt\n",
            "text/movie-enter/movie-enter-6317917.txt\n",
            "text/movie-enter/movie-enter-6320134.txt\n",
            "text/movie-enter/movie-enter-6321644.txt\n",
            "text/movie-enter/movie-enter-6322788.txt\n",
            "text/movie-enter/movie-enter-6322901.txt\n",
            "text/movie-enter/movie-enter-6323595.txt\n",
            "text/movie-enter/movie-enter-6324087.txt\n",
            "text/movie-enter/movie-enter-6324632.txt\n",
            "text/movie-enter/movie-enter-6324648.txt\n",
            "text/movie-enter/movie-enter-6326642.txt\n",
            "text/movie-enter/movie-enter-6328512.txt\n",
            "text/movie-enter/movie-enter-6328857.txt\n",
            "text/movie-enter/movie-enter-6330568.txt\n",
            "text/movie-enter/movie-enter-6330576.txt\n",
            "text/movie-enter/movie-enter-6331809.txt\n",
            "text/movie-enter/movie-enter-6332364.txt\n",
            "text/movie-enter/movie-enter-6332419.txt\n",
            "text/movie-enter/movie-enter-6332442.txt\n",
            "text/movie-enter/movie-enter-6332714.txt\n",
            "text/movie-enter/movie-enter-6336656.txt\n",
            "text/movie-enter/movie-enter-6338574.txt\n",
            "text/movie-enter/movie-enter-6338863.txt\n",
            "text/movie-enter/movie-enter-6339647.txt\n",
            "text/movie-enter/movie-enter-6340197.txt\n",
            "text/movie-enter/movie-enter-6342997.txt\n",
            "text/movie-enter/movie-enter-6343331.txt\n",
            "text/movie-enter/movie-enter-6343528.txt\n",
            "text/movie-enter/movie-enter-6345702.txt\n",
            "text/movie-enter/movie-enter-6346481.txt\n",
            "text/movie-enter/movie-enter-6347241.txt\n",
            "text/movie-enter/movie-enter-6349371.txt\n",
            "text/movie-enter/movie-enter-6350050.txt\n",
            "text/movie-enter/movie-enter-6350599.txt\n",
            "text/movie-enter/movie-enter-6350928.txt\n",
            "text/movie-enter/movie-enter-6350986.txt\n",
            "text/movie-enter/movie-enter-6350991.txt\n",
            "text/movie-enter/movie-enter-6351031.txt\n",
            "text/movie-enter/movie-enter-6352392.txt\n",
            "text/movie-enter/movie-enter-6352654.txt\n",
            "text/movie-enter/movie-enter-6352655.txt\n",
            "text/movie-enter/movie-enter-6353631.txt\n",
            "text/movie-enter/movie-enter-6353886.txt\n",
            "text/movie-enter/movie-enter-6354216.txt\n",
            "text/movie-enter/movie-enter-6354484.txt\n",
            "text/movie-enter/movie-enter-6354662.txt\n",
            "text/movie-enter/movie-enter-6354684.txt\n",
            "text/movie-enter/movie-enter-6354868.txt\n",
            "text/movie-enter/movie-enter-6355023.txt\n",
            "text/movie-enter/movie-enter-6361791.txt\n",
            "text/movie-enter/movie-enter-6361857.txt\n",
            "text/movie-enter/movie-enter-6361997.txt\n",
            "text/movie-enter/movie-enter-6362050.txt\n",
            "text/movie-enter/movie-enter-6367744.txt\n",
            "text/movie-enter/movie-enter-6368046.txt\n",
            "text/movie-enter/movie-enter-6370840.txt\n",
            "text/movie-enter/movie-enter-6371369.txt\n",
            "text/movie-enter/movie-enter-6371410.txt\n",
            "text/movie-enter/movie-enter-6371653.txt\n",
            "text/movie-enter/movie-enter-6372982.txt\n",
            "text/movie-enter/movie-enter-6374486.txt\n",
            "text/movie-enter/movie-enter-6374663.txt\n",
            "text/movie-enter/movie-enter-6375454.txt\n",
            "text/movie-enter/movie-enter-6378446.txt\n",
            "text/movie-enter/movie-enter-6378521.txt\n",
            "text/movie-enter/movie-enter-6379214.txt\n",
            "text/movie-enter/movie-enter-6379626.txt\n",
            "text/movie-enter/movie-enter-6379633.txt\n",
            "text/movie-enter/movie-enter-6382662.txt\n",
            "text/movie-enter/movie-enter-6382702.txt\n",
            "text/movie-enter/movie-enter-6383037.txt\n",
            "text/movie-enter/movie-enter-6383596.txt\n",
            "text/movie-enter/movie-enter-6383646.txt\n",
            "text/movie-enter/movie-enter-6385605.txt\n",
            "text/movie-enter/movie-enter-6389036.txt\n",
            "text/movie-enter/movie-enter-6389127.txt\n",
            "text/movie-enter/movie-enter-6389848.txt\n",
            "text/movie-enter/movie-enter-6391931.txt\n",
            "text/movie-enter/movie-enter-6392199.txt\n",
            "text/movie-enter/movie-enter-6392600.txt\n",
            "text/movie-enter/movie-enter-6393311.txt\n",
            "text/movie-enter/movie-enter-6393435.txt\n",
            "text/movie-enter/movie-enter-6395403.txt\n",
            "text/movie-enter/movie-enter-6396441.txt\n",
            "text/movie-enter/movie-enter-6396729.txt\n",
            "text/movie-enter/movie-enter-6397109.txt\n",
            "text/movie-enter/movie-enter-6397393.txt\n",
            "text/movie-enter/movie-enter-6398017.txt\n",
            "text/movie-enter/movie-enter-6399033.txt\n",
            "text/movie-enter/movie-enter-6399270.txt\n",
            "text/movie-enter/movie-enter-6404940.txt\n",
            "text/movie-enter/movie-enter-6406995.txt\n",
            "text/movie-enter/movie-enter-6407852.txt\n",
            "text/movie-enter/movie-enter-6408753.txt\n",
            "text/movie-enter/movie-enter-6415834.txt\n",
            "text/movie-enter/movie-enter-6416319.txt\n",
            "text/movie-enter/movie-enter-6418661.txt\n",
            "text/movie-enter/movie-enter-6419379.txt\n",
            "text/movie-enter/movie-enter-6422288.txt\n",
            "text/movie-enter/movie-enter-6422731.txt\n",
            "text/movie-enter/movie-enter-6424051.txt\n",
            "text/movie-enter/movie-enter-6425811.txt\n",
            "text/movie-enter/movie-enter-6428750.txt\n",
            "text/movie-enter/movie-enter-6429087.txt\n",
            "text/movie-enter/movie-enter-6431636.txt\n",
            "text/movie-enter/movie-enter-6432478.txt\n",
            "text/movie-enter/movie-enter-6436949.txt\n",
            "text/movie-enter/movie-enter-6437154.txt\n",
            "text/movie-enter/movie-enter-6438566.txt\n",
            "text/movie-enter/movie-enter-6438775.txt\n",
            "text/movie-enter/movie-enter-6444121.txt\n",
            "text/movie-enter/movie-enter-6444280.txt\n",
            "text/movie-enter/movie-enter-6444655.txt\n",
            "text/movie-enter/movie-enter-6449749.txt\n",
            "text/movie-enter/movie-enter-6450467.txt\n",
            "text/movie-enter/movie-enter-6451915.txt\n",
            "text/movie-enter/movie-enter-6452011.txt\n",
            "text/movie-enter/movie-enter-6454001.txt\n",
            "text/movie-enter/movie-enter-6458309.txt\n",
            "text/movie-enter/movie-enter-6458806.txt\n",
            "text/movie-enter/movie-enter-6459217.txt\n",
            "text/movie-enter/movie-enter-6459613.txt\n",
            "text/movie-enter/movie-enter-6459832.txt\n",
            "text/movie-enter/movie-enter-6462498.txt\n",
            "text/movie-enter/movie-enter-6462638.txt\n",
            "text/movie-enter/movie-enter-6463004.txt\n",
            "text/movie-enter/movie-enter-6463303.txt\n",
            "text/movie-enter/movie-enter-6464677.txt\n",
            "text/movie-enter/movie-enter-6465423.txt\n",
            "text/movie-enter/movie-enter-6466421.txt\n",
            "text/movie-enter/movie-enter-6466437.txt\n",
            "text/movie-enter/movie-enter-6467890.txt\n",
            "text/movie-enter/movie-enter-6469135.txt\n",
            "text/movie-enter/movie-enter-6472280.txt\n",
            "text/movie-enter/movie-enter-6472512.txt\n",
            "text/movie-enter/movie-enter-6473238.txt\n",
            "text/movie-enter/movie-enter-6473694.txt\n",
            "text/movie-enter/movie-enter-6475294.txt\n",
            "text/movie-enter/movie-enter-6476075.txt\n",
            "text/movie-enter/movie-enter-6476740.txt\n",
            "text/movie-enter/movie-enter-6477901.txt\n",
            "text/movie-enter/movie-enter-6477923.txt\n",
            "text/movie-enter/movie-enter-6478266.txt\n",
            "text/movie-enter/movie-enter-6478389.txt\n",
            "text/movie-enter/movie-enter-6478952.txt\n",
            "text/movie-enter/movie-enter-6479019.txt\n",
            "text/movie-enter/movie-enter-6480810.txt\n",
            "text/movie-enter/movie-enter-6481030.txt\n",
            "text/movie-enter/movie-enter-6481552.txt\n",
            "text/movie-enter/movie-enter-6484292.txt\n",
            "text/movie-enter/movie-enter-6484465.txt\n",
            "text/movie-enter/movie-enter-6484703.txt\n",
            "text/movie-enter/movie-enter-6484942.txt\n",
            "text/movie-enter/movie-enter-6485099.txt\n",
            "text/movie-enter/movie-enter-6485134.txt\n",
            "text/movie-enter/movie-enter-6485408.txt\n",
            "text/movie-enter/movie-enter-6486708.txt\n",
            "text/movie-enter/movie-enter-6486859.txt\n",
            "text/movie-enter/movie-enter-6488996.txt\n",
            "text/movie-enter/movie-enter-6490414.txt\n",
            "text/movie-enter/movie-enter-6490639.txt\n",
            "text/movie-enter/movie-enter-6491179.txt\n",
            "text/movie-enter/movie-enter-6491565.txt\n",
            "text/movie-enter/movie-enter-6494110.txt\n",
            "text/movie-enter/movie-enter-6494732.txt\n",
            "text/movie-enter/movie-enter-6495560.txt\n",
            "text/movie-enter/movie-enter-6495756.txt\n",
            "text/movie-enter/movie-enter-6496486.txt\n",
            "text/movie-enter/movie-enter-6498821.txt\n",
            "text/movie-enter/movie-enter-6499378.txt\n",
            "text/movie-enter/movie-enter-6499721.txt\n",
            "text/movie-enter/movie-enter-6499966.txt\n",
            "text/movie-enter/movie-enter-6499995.txt\n",
            "text/movie-enter/movie-enter-6502605.txt\n",
            "text/movie-enter/movie-enter-6502800.txt\n",
            "text/movie-enter/movie-enter-6503031.txt\n",
            "text/movie-enter/movie-enter-6503172.txt\n",
            "text/movie-enter/movie-enter-6505122.txt\n",
            "text/movie-enter/movie-enter-6506390.txt\n",
            "text/movie-enter/movie-enter-6508806.txt\n",
            "text/movie-enter/movie-enter-6511242.txt\n",
            "text/movie-enter/movie-enter-6512253.txt\n",
            "text/movie-enter/movie-enter-6514686.txt\n",
            "text/movie-enter/movie-enter-6519776.txt\n",
            "text/movie-enter/movie-enter-6521378.txt\n",
            "text/movie-enter/movie-enter-6521552.txt\n",
            "text/movie-enter/movie-enter-6521604.txt\n",
            "text/movie-enter/movie-enter-6522114.txt\n",
            "text/movie-enter/movie-enter-6523716.txt\n",
            "text/movie-enter/movie-enter-6524381.txt\n",
            "text/movie-enter/movie-enter-6524541.txt\n",
            "text/movie-enter/movie-enter-6529615.txt\n",
            "text/movie-enter/movie-enter-6532347.txt\n",
            "text/movie-enter/movie-enter-6534578.txt\n",
            "text/movie-enter/movie-enter-6534703.txt\n",
            "text/movie-enter/movie-enter-6537802.txt\n",
            "text/movie-enter/movie-enter-6537974.txt\n",
            "text/movie-enter/movie-enter-6538947.txt\n",
            "text/movie-enter/movie-enter-6541426.txt\n",
            "text/movie-enter/movie-enter-6542182.txt\n",
            "text/movie-enter/movie-enter-6542624.txt\n",
            "text/movie-enter/movie-enter-6542734.txt\n",
            "text/movie-enter/movie-enter-6545406.txt\n",
            "text/movie-enter/movie-enter-6545663.txt\n",
            "text/movie-enter/movie-enter-6545834.txt\n",
            "text/movie-enter/movie-enter-6547499.txt\n",
            "text/movie-enter/movie-enter-6548877.txt\n",
            "text/movie-enter/movie-enter-6550910.txt\n",
            "text/movie-enter/movie-enter-6550963.txt\n",
            "text/movie-enter/movie-enter-6552846.txt\n",
            "text/movie-enter/movie-enter-6557068.txt\n",
            "text/movie-enter/movie-enter-6557256.txt\n",
            "text/movie-enter/movie-enter-6557895.txt\n",
            "text/movie-enter/movie-enter-6561008.txt\n",
            "text/movie-enter/movie-enter-6561633.txt\n",
            "text/movie-enter/movie-enter-6561682.txt\n",
            "text/movie-enter/movie-enter-6563418.txt\n",
            "text/movie-enter/movie-enter-6564488.txt\n",
            "text/movie-enter/movie-enter-6564570.txt\n",
            "text/movie-enter/movie-enter-6565514.txt\n",
            "text/movie-enter/movie-enter-6565605.txt\n",
            "text/movie-enter/movie-enter-6568183.txt\n",
            "text/movie-enter/movie-enter-6568209.txt\n",
            "text/movie-enter/movie-enter-6568559.txt\n",
            "text/movie-enter/movie-enter-6568920.txt\n",
            "text/movie-enter/movie-enter-6569323.txt\n",
            "text/movie-enter/movie-enter-6569443.txt\n",
            "text/movie-enter/movie-enter-6569639.txt\n",
            "text/movie-enter/movie-enter-6571804.txt\n",
            "text/movie-enter/movie-enter-6571818.txt\n",
            "text/movie-enter/movie-enter-6572796.txt\n",
            "text/movie-enter/movie-enter-6573334.txt\n",
            "text/movie-enter/movie-enter-6573929.txt\n",
            "text/movie-enter/movie-enter-6575942.txt\n",
            "text/movie-enter/movie-enter-6577614.txt\n",
            "text/movie-enter/movie-enter-6578491.txt\n",
            "text/movie-enter/movie-enter-6579683.txt\n",
            "text/movie-enter/movie-enter-6580230.txt\n",
            "text/movie-enter/movie-enter-6581639.txt\n",
            "text/movie-enter/movie-enter-6582445.txt\n",
            "text/movie-enter/movie-enter-6583509.txt\n",
            "text/movie-enter/movie-enter-6584469.txt\n",
            "text/movie-enter/movie-enter-6590065.txt\n",
            "text/movie-enter/movie-enter-6590204.txt\n",
            "text/movie-enter/movie-enter-6590228.txt\n",
            "text/movie-enter/movie-enter-6595558.txt\n",
            "text/movie-enter/movie-enter-6595602.txt\n",
            "text/movie-enter/movie-enter-6600684.txt\n",
            "text/movie-enter/movie-enter-6602556.txt\n",
            "text/movie-enter/movie-enter-6606579.txt\n",
            "text/movie-enter/movie-enter-6606785.txt\n",
            "text/movie-enter/movie-enter-6608618.txt\n",
            "text/movie-enter/movie-enter-6609085.txt\n",
            "text/movie-enter/movie-enter-6609100.txt\n",
            "text/movie-enter/movie-enter-6609122.txt\n",
            "text/movie-enter/movie-enter-6612680.txt\n",
            "text/movie-enter/movie-enter-6613759.txt\n",
            "text/movie-enter/movie-enter-6614278.txt\n",
            "text/movie-enter/movie-enter-6616383.txt\n",
            "text/movie-enter/movie-enter-6617171.txt\n",
            "text/movie-enter/movie-enter-6617203.txt\n",
            "text/movie-enter/movie-enter-6617244.txt\n",
            "text/movie-enter/movie-enter-6617833.txt\n",
            "text/movie-enter/movie-enter-6618188.txt\n",
            "text/movie-enter/movie-enter-6618222.txt\n",
            "text/movie-enter/movie-enter-6622091.txt\n",
            "text/movie-enter/movie-enter-6623974.txt\n",
            "text/movie-enter/movie-enter-6624577.txt\n",
            "text/movie-enter/movie-enter-6625135.txt\n",
            "text/movie-enter/movie-enter-6625136.txt\n",
            "text/movie-enter/movie-enter-6627447.txt\n",
            "text/movie-enter/movie-enter-6628367.txt\n",
            "text/movie-enter/movie-enter-6629009.txt\n",
            "text/movie-enter/movie-enter-6629195.txt\n",
            "text/movie-enter/movie-enter-6630879.txt\n",
            "text/movie-enter/movie-enter-6631156.txt\n",
            "text/movie-enter/movie-enter-6631900.txt\n",
            "text/movie-enter/movie-enter-6632298.txt\n",
            "text/movie-enter/movie-enter-6635692.txt\n",
            "text/movie-enter/movie-enter-6636533.txt\n",
            "text/movie-enter/movie-enter-6636641.txt\n",
            "text/movie-enter/movie-enter-6636653.txt\n",
            "text/movie-enter/movie-enter-6636902.txt\n",
            "text/movie-enter/movie-enter-6640090.txt\n",
            "text/movie-enter/movie-enter-6641170.txt\n",
            "text/movie-enter/movie-enter-6642155.txt\n",
            "text/movie-enter/movie-enter-6644129.txt\n",
            "text/movie-enter/movie-enter-6646372.txt\n",
            "text/movie-enter/movie-enter-6647198.txt\n",
            "text/movie-enter/movie-enter-6649752.txt\n",
            "text/movie-enter/movie-enter-6650011.txt\n",
            "text/movie-enter/movie-enter-6650863.txt\n",
            "text/movie-enter/movie-enter-6653375.txt\n",
            "text/movie-enter/movie-enter-6658805.txt\n",
            "text/movie-enter/movie-enter-6658965.txt\n",
            "text/movie-enter/movie-enter-6660936.txt\n",
            "text/movie-enter/movie-enter-6661737.txt\n",
            "text/movie-enter/movie-enter-6662128.txt\n",
            "text/movie-enter/movie-enter-6662566.txt\n",
            "text/movie-enter/movie-enter-6662932.txt\n",
            "text/movie-enter/movie-enter-6662969.txt\n",
            "text/movie-enter/movie-enter-6666944.txt\n",
            "text/movie-enter/movie-enter-6668069.txt\n",
            "text/movie-enter/movie-enter-6668817.txt\n",
            "text/movie-enter/movie-enter-6669797.txt\n",
            "text/movie-enter/movie-enter-6671529.txt\n",
            "text/movie-enter/movie-enter-6671599.txt\n",
            "text/movie-enter/movie-enter-6672663.txt\n",
            "text/movie-enter/movie-enter-6673380.txt\n",
            "text/movie-enter/movie-enter-6673576.txt\n",
            "text/movie-enter/movie-enter-6673821.txt\n",
            "text/movie-enter/movie-enter-6674489.txt\n",
            "text/movie-enter/movie-enter-6674512.txt\n",
            "text/movie-enter/movie-enter-6676218.txt\n",
            "text/movie-enter/movie-enter-6677469.txt\n",
            "text/movie-enter/movie-enter-6679522.txt\n",
            "text/movie-enter/movie-enter-6681420.txt\n",
            "text/movie-enter/movie-enter-6683961.txt\n",
            "text/movie-enter/movie-enter-6685093.txt\n",
            "text/movie-enter/movie-enter-6685366.txt\n",
            "text/movie-enter/movie-enter-6685499.txt\n",
            "text/movie-enter/movie-enter-6689342.txt\n",
            "text/movie-enter/movie-enter-6689395.txt\n",
            "text/movie-enter/movie-enter-6692396.txt\n",
            "text/movie-enter/movie-enter-6692606.txt\n",
            "text/movie-enter/movie-enter-6692612.txt\n",
            "text/movie-enter/movie-enter-6692786.txt\n",
            "text/movie-enter/movie-enter-6693272.txt\n",
            "text/movie-enter/movie-enter-6694241.txt\n",
            "text/movie-enter/movie-enter-6695458.txt\n",
            "text/movie-enter/movie-enter-6699109.txt\n",
            "text/movie-enter/movie-enter-6699965.txt\n",
            "text/movie-enter/movie-enter-6702932.txt\n",
            "text/movie-enter/movie-enter-6703309.txt\n",
            "text/movie-enter/movie-enter-6703420.txt\n",
            "text/movie-enter/movie-enter-6703745.txt\n",
            "text/movie-enter/movie-enter-6707194.txt\n",
            "text/movie-enter/movie-enter-6707630.txt\n",
            "text/movie-enter/movie-enter-6707939.txt\n",
            "text/movie-enter/movie-enter-6713945.txt\n",
            "text/movie-enter/movie-enter-6714469.txt\n",
            "text/movie-enter/movie-enter-6714538.txt\n",
            "text/movie-enter/movie-enter-6714654.txt\n",
            "text/movie-enter/movie-enter-6715002.txt\n",
            "text/movie-enter/movie-enter-6723942.txt\n",
            "text/movie-enter/movie-enter-6724187.txt\n",
            "text/movie-enter/movie-enter-6725384.txt\n",
            "text/movie-enter/movie-enter-6727351.txt\n",
            "text/movie-enter/movie-enter-6727500.txt\n",
            "text/movie-enter/movie-enter-6728832.txt\n",
            "text/movie-enter/movie-enter-6731715.txt\n",
            "text/movie-enter/movie-enter-6732097.txt\n",
            "text/movie-enter/movie-enter-6737063.txt\n",
            "text/movie-enter/movie-enter-6737381.txt\n",
            "text/movie-enter/movie-enter-6743234.txt\n",
            "text/movie-enter/movie-enter-6743277.txt\n",
            "text/movie-enter/movie-enter-6743549.txt\n",
            "text/movie-enter/movie-enter-6746669.txt\n",
            "text/movie-enter/movie-enter-6747135.txt\n",
            "text/movie-enter/movie-enter-6748014.txt\n",
            "text/movie-enter/movie-enter-6748032.txt\n",
            "text/movie-enter/movie-enter-6750298.txt\n",
            "text/movie-enter/movie-enter-6750396.txt\n",
            "text/movie-enter/movie-enter-6751039.txt\n",
            "text/movie-enter/movie-enter-6751913.txt\n",
            "text/movie-enter/movie-enter-6752029.txt\n",
            "text/movie-enter/movie-enter-6756128.txt\n",
            "text/movie-enter/movie-enter-6758839.txt\n",
            "text/movie-enter/movie-enter-6761653.txt\n",
            "text/movie-enter/movie-enter-6764773.txt\n",
            "text/movie-enter/movie-enter-6766122.txt\n",
            "text/movie-enter/movie-enter-6768567.txt\n",
            "text/movie-enter/movie-enter-6771207.txt\n",
            "text/movie-enter/movie-enter-6771404.txt\n",
            "text/movie-enter/movie-enter-6774928.txt\n",
            "text/movie-enter/movie-enter-6775308.txt\n",
            "text/movie-enter/movie-enter-6776741.txt\n",
            "text/movie-enter/movie-enter-6776771.txt\n",
            "text/movie-enter/movie-enter-6781848.txt\n",
            "text/movie-enter/movie-enter-6784143.txt\n",
            "text/movie-enter/movie-enter-6784454.txt\n",
            "text/movie-enter/movie-enter-6787441.txt\n",
            "text/movie-enter/movie-enter-6789964.txt\n",
            "text/movie-enter/movie-enter-6790638.txt\n",
            "text/movie-enter/movie-enter-6793666.txt\n",
            "text/movie-enter/movie-enter-6793785.txt\n",
            "text/movie-enter/movie-enter-6794030.txt\n",
            "text/movie-enter/movie-enter-6798904.txt\n",
            "text/movie-enter/movie-enter-6805423.txt\n",
            "text/movie-enter/movie-enter-6805660.txt\n",
            "text/movie-enter/movie-enter-6806425.txt\n",
            "text/movie-enter/movie-enter-6808641.txt\n",
            "text/movie-enter/movie-enter-6808742.txt\n",
            "text/movie-enter/movie-enter-6812526.txt\n",
            "text/movie-enter/movie-enter-6812698.txt\n",
            "text/movie-enter/movie-enter-6813319.txt\n",
            "text/movie-enter/movie-enter-6813940.txt\n",
            "text/movie-enter/movie-enter-6817290.txt\n",
            "text/movie-enter/movie-enter-6818705.txt\n",
            "text/movie-enter/movie-enter-6820381.txt\n",
            "text/movie-enter/movie-enter-6820385.txt\n",
            "text/movie-enter/movie-enter-6821836.txt\n",
            "text/movie-enter/movie-enter-6822042.txt\n",
            "text/movie-enter/movie-enter-6829004.txt\n",
            "text/movie-enter/movie-enter-6829405.txt\n",
            "text/movie-enter/movie-enter-6831340.txt\n",
            "text/movie-enter/movie-enter-6833072.txt\n",
            "text/movie-enter/movie-enter-6836506.txt\n",
            "text/movie-enter/movie-enter-6838691.txt\n",
            "text/movie-enter/movie-enter-6839823.txt\n",
            "text/movie-enter/movie-enter-6843626.txt\n",
            "text/movie-enter/movie-enter-6845148.txt\n",
            "text/movie-enter/movie-enter-6845387.txt\n",
            "text/movie-enter/movie-enter-6849578.txt\n",
            "text/movie-enter/movie-enter-6852057.txt\n",
            "text/movie-enter/movie-enter-6852205.txt\n",
            "text/movie-enter/movie-enter-6858100.txt\n",
            "text/movie-enter/movie-enter-6858134.txt\n",
            "text/movie-enter/movie-enter-6860550.txt\n",
            "text/movie-enter/movie-enter-6864659.txt\n",
            "text/movie-enter/movie-enter-6870676.txt\n",
            "text/movie-enter/movie-enter-6875282.txt\n",
            "text/movie-enter/movie-enter-6882196.txt\n",
            "text/movie-enter/movie-enter-6882928.txt\n",
            "text/movie-enter/movie-enter-6883057.txt\n",
            "text/movie-enter/movie-enter-6883151.txt\n",
            "text/movie-enter/movie-enter-6886601.txt\n",
            "text/movie-enter/movie-enter-6888284.txt\n",
            "text/movie-enter/movie-enter-6890913.txt\n",
            "text/movie-enter/movie-enter-6892597.txt\n",
            "text/movie-enter/movie-enter-6895820.txt\n",
            "text/movie-enter/movie-enter-6897614.txt\n",
            "text/movie-enter/movie-enter-6900874.txt\n",
            "text/movie-enter/movie-enter-6908108.txt\n",
            "text/movie-enter/movie-enter-6908515.txt\n",
            "text/movie-enter/movie-enter-6909134.txt\n",
            "text/movie-enter/movie-enter-6909318.txt\n",
            "text/livedoor-homme/LICENSE.txt\n",
            "text/livedoor-homme/livedoor-homme-4568088.txt\n",
            "text/livedoor-homme/livedoor-homme-4583815.txt\n",
            "text/livedoor-homme/livedoor-homme-4587524.txt\n",
            "text/livedoor-homme/livedoor-homme-4602124.txt\n",
            "text/livedoor-homme/livedoor-homme-4606324.txt\n",
            "text/livedoor-homme/livedoor-homme-4608109.txt\n",
            "text/livedoor-homme/livedoor-homme-4618598.txt\n",
            "text/livedoor-homme/livedoor-homme-4623239.txt\n",
            "text/livedoor-homme/livedoor-homme-4623479.txt\n",
            "text/livedoor-homme/livedoor-homme-4627433.txt\n",
            "text/livedoor-homme/livedoor-homme-4632282.txt\n",
            "text/livedoor-homme/livedoor-homme-4632362.txt\n",
            "text/livedoor-homme/livedoor-homme-4633404.txt\n",
            "text/livedoor-homme/livedoor-homme-4636784.txt\n",
            "text/livedoor-homme/livedoor-homme-4638312.txt\n",
            "text/livedoor-homme/livedoor-homme-4640987.txt\n",
            "text/livedoor-homme/livedoor-homme-4645767.txt\n",
            "text/livedoor-homme/livedoor-homme-4648591.txt\n",
            "text/livedoor-homme/livedoor-homme-4653363.txt\n",
            "text/livedoor-homme/livedoor-homme-4658228.txt\n",
            "text/livedoor-homme/livedoor-homme-4662355.txt\n",
            "text/livedoor-homme/livedoor-homme-4666281.txt\n",
            "text/livedoor-homme/livedoor-homme-4674566.txt\n",
            "text/livedoor-homme/livedoor-homme-4674693.txt\n",
            "text/livedoor-homme/livedoor-homme-4675697.txt\n",
            "text/livedoor-homme/livedoor-homme-4677744.txt\n",
            "text/livedoor-homme/livedoor-homme-4679547.txt\n",
            "text/livedoor-homme/livedoor-homme-4684025.txt\n",
            "text/livedoor-homme/livedoor-homme-4690346.txt\n",
            "text/livedoor-homme/livedoor-homme-4692769.txt\n",
            "text/livedoor-homme/livedoor-homme-4697938.txt\n",
            "text/livedoor-homme/livedoor-homme-4700669.txt\n",
            "text/livedoor-homme/livedoor-homme-4701701.txt\n",
            "text/livedoor-homme/livedoor-homme-4702320.txt\n",
            "text/livedoor-homme/livedoor-homme-4702864.txt\n",
            "text/livedoor-homme/livedoor-homme-4706976.txt\n",
            "text/livedoor-homme/livedoor-homme-4709626.txt\n",
            "text/livedoor-homme/livedoor-homme-4711490.txt\n",
            "text/livedoor-homme/livedoor-homme-4712686.txt\n",
            "text/livedoor-homme/livedoor-homme-4716718.txt\n",
            "text/livedoor-homme/livedoor-homme-4720011.txt\n",
            "text/livedoor-homme/livedoor-homme-4722909.txt\n",
            "text/livedoor-homme/livedoor-homme-4724334.txt\n",
            "text/livedoor-homme/livedoor-homme-4726485.txt\n",
            "text/livedoor-homme/livedoor-homme-4727452.txt\n",
            "text/livedoor-homme/livedoor-homme-4730930.txt\n",
            "text/livedoor-homme/livedoor-homme-4731554.txt\n",
            "text/livedoor-homme/livedoor-homme-4734983.txt\n",
            "text/livedoor-homme/livedoor-homme-4740345.txt\n",
            "text/livedoor-homme/livedoor-homme-4741679.txt\n",
            "text/livedoor-homme/livedoor-homme-4742250.txt\n",
            "text/livedoor-homme/livedoor-homme-4743299.txt\n",
            "text/livedoor-homme/livedoor-homme-4743946.txt\n",
            "text/livedoor-homme/livedoor-homme-4745132.txt\n",
            "text/livedoor-homme/livedoor-homme-4746280.txt\n",
            "text/livedoor-homme/livedoor-homme-4760487.txt\n",
            "text/livedoor-homme/livedoor-homme-4761664.txt\n",
            "text/livedoor-homme/livedoor-homme-4762337.txt\n",
            "text/livedoor-homme/livedoor-homme-4763353.txt\n",
            "text/livedoor-homme/livedoor-homme-4764816.txt\n",
            "text/livedoor-homme/livedoor-homme-4765497.txt\n",
            "text/livedoor-homme/livedoor-homme-4768050.txt\n",
            "text/livedoor-homme/livedoor-homme-4769282.txt\n",
            "text/livedoor-homme/livedoor-homme-4769512.txt\n",
            "text/livedoor-homme/livedoor-homme-4778609.txt\n",
            "text/livedoor-homme/livedoor-homme-4778610.txt\n",
            "text/livedoor-homme/livedoor-homme-4781271.txt\n",
            "text/livedoor-homme/livedoor-homme-4782686.txt\n",
            "text/livedoor-homme/livedoor-homme-4786906.txt\n",
            "text/livedoor-homme/livedoor-homme-4788916.txt\n",
            "text/livedoor-homme/livedoor-homme-4793680.txt\n",
            "text/livedoor-homme/livedoor-homme-4794910.txt\n",
            "text/livedoor-homme/livedoor-homme-4800685.txt\n",
            "text/livedoor-homme/livedoor-homme-4801409.txt\n",
            "text/livedoor-homme/livedoor-homme-4802685.txt\n",
            "text/livedoor-homme/livedoor-homme-4817135.txt\n",
            "text/livedoor-homme/livedoor-homme-4824982.txt\n",
            "text/livedoor-homme/livedoor-homme-4826180.txt\n",
            "text/livedoor-homme/livedoor-homme-4826452.txt\n",
            "text/livedoor-homme/livedoor-homme-4831159.txt\n",
            "text/livedoor-homme/livedoor-homme-4832858.txt\n",
            "text/livedoor-homme/livedoor-homme-4839374.txt\n",
            "text/livedoor-homme/livedoor-homme-4846086.txt\n",
            "text/livedoor-homme/livedoor-homme-4847392.txt\n",
            "text/livedoor-homme/livedoor-homme-4851797.txt\n",
            "text/livedoor-homme/livedoor-homme-4853735.txt\n",
            "text/livedoor-homme/livedoor-homme-4858323.txt\n",
            "text/livedoor-homme/livedoor-homme-4859681.txt\n",
            "text/livedoor-homme/livedoor-homme-4867323.txt\n",
            "text/livedoor-homme/livedoor-homme-4869168.txt\n",
            "text/livedoor-homme/livedoor-homme-4872316.txt\n",
            "text/livedoor-homme/livedoor-homme-4874929.txt\n",
            "text/livedoor-homme/livedoor-homme-4883137.txt\n",
            "text/livedoor-homme/livedoor-homme-4889596.txt\n",
            "text/livedoor-homme/livedoor-homme-4889726.txt\n",
            "text/livedoor-homme/livedoor-homme-4894226.txt\n",
            "text/livedoor-homme/livedoor-homme-4907529.txt\n",
            "text/livedoor-homme/livedoor-homme-4907971.txt\n",
            "text/livedoor-homme/livedoor-homme-4913716.txt\n",
            "text/livedoor-homme/livedoor-homme-4921525.txt\n",
            "text/livedoor-homme/livedoor-homme-4921988.txt\n",
            "text/livedoor-homme/livedoor-homme-4928914.txt\n",
            "text/livedoor-homme/livedoor-homme-4929026.txt\n",
            "text/livedoor-homme/livedoor-homme-4935703.txt\n",
            "text/livedoor-homme/livedoor-homme-4941808.txt\n",
            "text/livedoor-homme/livedoor-homme-4948686.txt\n",
            "text/livedoor-homme/livedoor-homme-4953788.txt\n",
            "text/livedoor-homme/livedoor-homme-4956491.txt\n",
            "text/livedoor-homme/livedoor-homme-4957817.txt\n",
            "text/livedoor-homme/livedoor-homme-4962853.txt\n",
            "text/livedoor-homme/livedoor-homme-4972779.txt\n",
            "text/livedoor-homme/livedoor-homme-4976341.txt\n",
            "text/livedoor-homme/livedoor-homme-4978386.txt\n",
            "text/livedoor-homme/livedoor-homme-4987401.txt\n",
            "text/livedoor-homme/livedoor-homme-4990334.txt\n",
            "text/livedoor-homme/livedoor-homme-4997371.txt\n",
            "text/livedoor-homme/livedoor-homme-5005245.txt\n",
            "text/livedoor-homme/livedoor-homme-5006873.txt\n",
            "text/livedoor-homme/livedoor-homme-5012832.txt\n",
            "text/livedoor-homme/livedoor-homme-5023303.txt\n",
            "text/livedoor-homme/livedoor-homme-5031899.txt\n",
            "text/livedoor-homme/livedoor-homme-5034435.txt\n",
            "text/livedoor-homme/livedoor-homme-5034493.txt\n",
            "text/livedoor-homme/livedoor-homme-5036122.txt\n",
            "text/livedoor-homme/livedoor-homme-5039076.txt\n",
            "text/livedoor-homme/livedoor-homme-5045410.txt\n",
            "text/livedoor-homme/livedoor-homme-5045512.txt\n",
            "text/livedoor-homme/livedoor-homme-5049812.txt\n",
            "text/livedoor-homme/livedoor-homme-5056598.txt\n",
            "text/livedoor-homme/livedoor-homme-5056601.txt\n",
            "text/livedoor-homme/livedoor-homme-5058193.txt\n",
            "text/livedoor-homme/livedoor-homme-5061755.txt\n",
            "text/livedoor-homme/livedoor-homme-5067754.txt\n",
            "text/livedoor-homme/livedoor-homme-5086175.txt\n",
            "text/livedoor-homme/livedoor-homme-5087488.txt\n",
            "text/livedoor-homme/livedoor-homme-5090189.txt\n",
            "text/livedoor-homme/livedoor-homme-5090556.txt\n",
            "text/livedoor-homme/livedoor-homme-5097165.txt\n",
            "text/livedoor-homme/livedoor-homme-5100913.txt\n",
            "text/livedoor-homme/livedoor-homme-5144504.txt\n",
            "text/livedoor-homme/livedoor-homme-5145759.txt\n",
            "text/livedoor-homme/livedoor-homme-5150986.txt\n",
            "text/livedoor-homme/livedoor-homme-5154016.txt\n",
            "text/livedoor-homme/livedoor-homme-5158958.txt\n",
            "text/livedoor-homme/livedoor-homme-5182557.txt\n",
            "text/livedoor-homme/livedoor-homme-5211048.txt\n",
            "text/livedoor-homme/livedoor-homme-5223106.txt\n",
            "text/livedoor-homme/livedoor-homme-5229491.txt\n",
            "text/livedoor-homme/livedoor-homme-5230985.txt\n",
            "text/livedoor-homme/livedoor-homme-5232491.txt\n",
            "text/livedoor-homme/livedoor-homme-5235574.txt\n",
            "text/livedoor-homme/livedoor-homme-5271597.txt\n",
            "text/livedoor-homme/livedoor-homme-5273364.txt\n",
            "text/livedoor-homme/livedoor-homme-5274674.txt\n",
            "text/livedoor-homme/livedoor-homme-5274747.txt\n",
            "text/livedoor-homme/livedoor-homme-5277504.txt\n",
            "text/livedoor-homme/livedoor-homme-5282510.txt\n",
            "text/livedoor-homme/livedoor-homme-5285660.txt\n",
            "text/livedoor-homme/livedoor-homme-5288129.txt\n",
            "text/livedoor-homme/livedoor-homme-5288157.txt\n",
            "text/livedoor-homme/livedoor-homme-5289571.txt\n",
            "text/livedoor-homme/livedoor-homme-5296014.txt\n",
            "text/livedoor-homme/livedoor-homme-5297934.txt\n",
            "text/livedoor-homme/livedoor-homme-5302307.txt\n",
            "text/livedoor-homme/livedoor-homme-5303493.txt\n",
            "text/livedoor-homme/livedoor-homme-5320683.txt\n",
            "text/livedoor-homme/livedoor-homme-5340305.txt\n",
            "text/livedoor-homme/livedoor-homme-5342733.txt\n",
            "text/livedoor-homme/livedoor-homme-5359922.txt\n",
            "text/livedoor-homme/livedoor-homme-5371760.txt\n",
            "text/livedoor-homme/livedoor-homme-5378005.txt\n",
            "text/livedoor-homme/livedoor-homme-5379211.txt\n",
            "text/livedoor-homme/livedoor-homme-5394587.txt\n",
            "text/livedoor-homme/livedoor-homme-5397232.txt\n",
            "text/livedoor-homme/livedoor-homme-5398130.txt\n",
            "text/livedoor-homme/livedoor-homme-5404020.txt\n",
            "text/livedoor-homme/livedoor-homme-5404640.txt\n",
            "text/livedoor-homme/livedoor-homme-5405336.txt\n",
            "text/livedoor-homme/livedoor-homme-5421723.txt\n",
            "text/livedoor-homme/livedoor-homme-5434387.txt\n",
            "text/livedoor-homme/livedoor-homme-5436961.txt\n",
            "text/livedoor-homme/livedoor-homme-5442194.txt\n",
            "text/livedoor-homme/livedoor-homme-5445615.txt\n",
            "text/livedoor-homme/livedoor-homme-5449353.txt\n",
            "text/livedoor-homme/livedoor-homme-5449440.txt\n",
            "text/livedoor-homme/livedoor-homme-5449524.txt\n",
            "text/livedoor-homme/livedoor-homme-5450050.txt\n",
            "text/livedoor-homme/livedoor-homme-5450090.txt\n",
            "text/livedoor-homme/livedoor-homme-5460086.txt\n",
            "text/livedoor-homme/livedoor-homme-5470099.txt\n",
            "text/livedoor-homme/livedoor-homme-5475367.txt\n",
            "text/livedoor-homme/livedoor-homme-5475486.txt\n",
            "text/livedoor-homme/livedoor-homme-5482058.txt\n",
            "text/livedoor-homme/livedoor-homme-5483677.txt\n",
            "text/livedoor-homme/livedoor-homme-5492081.txt\n",
            "text/livedoor-homme/livedoor-homme-5493545.txt\n",
            "text/livedoor-homme/livedoor-homme-5497695.txt\n",
            "text/livedoor-homme/livedoor-homme-5498292.txt\n",
            "text/livedoor-homme/livedoor-homme-5500262.txt\n",
            "text/livedoor-homme/livedoor-homme-5506975.txt\n",
            "text/livedoor-homme/livedoor-homme-5511993.txt\n",
            "text/livedoor-homme/livedoor-homme-5512026.txt\n",
            "text/livedoor-homme/livedoor-homme-5520686.txt\n",
            "text/livedoor-homme/livedoor-homme-5526679.txt\n",
            "text/livedoor-homme/livedoor-homme-5526749.txt\n",
            "text/livedoor-homme/livedoor-homme-5538203.txt\n",
            "text/livedoor-homme/livedoor-homme-5546762.txt\n",
            "text/livedoor-homme/livedoor-homme-5549900.txt\n",
            "text/livedoor-homme/livedoor-homme-5551409.txt\n",
            "text/livedoor-homme/livedoor-homme-5563817.txt\n",
            "text/livedoor-homme/livedoor-homme-5564848.txt\n",
            "text/livedoor-homme/livedoor-homme-5566031.txt\n",
            "text/livedoor-homme/livedoor-homme-5570826.txt\n",
            "text/livedoor-homme/livedoor-homme-5571862.txt\n",
            "text/livedoor-homme/livedoor-homme-5579471.txt\n",
            "text/livedoor-homme/livedoor-homme-5579496.txt\n",
            "text/livedoor-homme/livedoor-homme-5579510.txt\n",
            "text/livedoor-homme/livedoor-homme-5579512.txt\n",
            "text/livedoor-homme/livedoor-homme-5579522.txt\n",
            "text/livedoor-homme/livedoor-homme-5579523.txt\n",
            "text/livedoor-homme/livedoor-homme-5579526.txt\n",
            "text/livedoor-homme/livedoor-homme-5579528.txt\n",
            "text/livedoor-homme/livedoor-homme-5579529.txt\n",
            "text/livedoor-homme/livedoor-homme-5579533.txt\n",
            "text/livedoor-homme/livedoor-homme-5579535.txt\n",
            "text/livedoor-homme/livedoor-homme-5579543.txt\n",
            "text/livedoor-homme/livedoor-homme-5583393.txt\n",
            "text/livedoor-homme/livedoor-homme-5587602.txt\n",
            "text/livedoor-homme/livedoor-homme-5590182.txt\n",
            "text/livedoor-homme/livedoor-homme-5595520.txt\n",
            "text/livedoor-homme/livedoor-homme-5596430.txt\n",
            "text/livedoor-homme/livedoor-homme-5608627.txt\n",
            "text/livedoor-homme/livedoor-homme-5608633.txt\n",
            "text/livedoor-homme/livedoor-homme-5608639.txt\n",
            "text/livedoor-homme/livedoor-homme-5608649.txt\n",
            "text/livedoor-homme/livedoor-homme-5615170.txt\n",
            "text/livedoor-homme/livedoor-homme-5619552.txt\n",
            "text/livedoor-homme/livedoor-homme-5624047.txt\n",
            "text/livedoor-homme/livedoor-homme-5624459.txt\n",
            "text/livedoor-homme/livedoor-homme-5625129.txt\n",
            "text/livedoor-homme/livedoor-homme-5625137.txt\n",
            "text/livedoor-homme/livedoor-homme-5625138.txt\n",
            "text/livedoor-homme/livedoor-homme-5625139.txt\n",
            "text/livedoor-homme/livedoor-homme-5625149.txt\n",
            "text/livedoor-homme/livedoor-homme-5625158.txt\n",
            "text/livedoor-homme/livedoor-homme-5625177.txt\n",
            "text/livedoor-homme/livedoor-homme-5625195.txt\n",
            "text/livedoor-homme/livedoor-homme-5625209.txt\n",
            "text/livedoor-homme/livedoor-homme-5625252.txt\n",
            "text/livedoor-homme/livedoor-homme-5625266.txt\n",
            "text/livedoor-homme/livedoor-homme-5625270.txt\n",
            "text/livedoor-homme/livedoor-homme-5625272.txt\n",
            "text/livedoor-homme/livedoor-homme-5625276.txt\n",
            "text/livedoor-homme/livedoor-homme-5633553.txt\n",
            "text/livedoor-homme/livedoor-homme-5641803.txt\n",
            "text/livedoor-homme/livedoor-homme-5642391.txt\n",
            "text/livedoor-homme/livedoor-homme-5644445.txt\n",
            "text/livedoor-homme/livedoor-homme-5648658.txt\n",
            "text/livedoor-homme/livedoor-homme-5650628.txt\n",
            "text/livedoor-homme/livedoor-homme-5651254.txt\n",
            "text/livedoor-homme/livedoor-homme-5657261.txt\n",
            "text/livedoor-homme/livedoor-homme-5660014.txt\n",
            "text/livedoor-homme/livedoor-homme-5661913.txt\n",
            "text/livedoor-homme/livedoor-homme-5661961.txt\n",
            "text/livedoor-homme/livedoor-homme-5662000.txt\n",
            "text/livedoor-homme/livedoor-homme-5662126.txt\n",
            "text/livedoor-homme/livedoor-homme-5663750.txt\n",
            "text/livedoor-homme/livedoor-homme-5667825.txt\n",
            "text/livedoor-homme/livedoor-homme-5668746.txt\n",
            "text/livedoor-homme/livedoor-homme-5673086.txt\n",
            "text/livedoor-homme/livedoor-homme-5676254.txt\n",
            "text/livedoor-homme/livedoor-homme-5677976.txt\n",
            "text/livedoor-homme/livedoor-homme-5678191.txt\n",
            "text/livedoor-homme/livedoor-homme-5690853.txt\n",
            "text/livedoor-homme/livedoor-homme-5690890.txt\n",
            "text/livedoor-homme/livedoor-homme-5692754.txt\n",
            "text/livedoor-homme/livedoor-homme-5694672.txt\n",
            "text/livedoor-homme/livedoor-homme-5695191.txt\n",
            "text/livedoor-homme/livedoor-homme-5695218.txt\n",
            "text/livedoor-homme/livedoor-homme-5695228.txt\n",
            "text/livedoor-homme/livedoor-homme-5695243.txt\n",
            "text/livedoor-homme/livedoor-homme-5695247.txt\n",
            "text/livedoor-homme/livedoor-homme-5695255.txt\n",
            "text/livedoor-homme/livedoor-homme-5695257.txt\n",
            "text/livedoor-homme/livedoor-homme-5695260.txt\n",
            "text/livedoor-homme/livedoor-homme-5695262.txt\n",
            "text/livedoor-homme/livedoor-homme-5695281.txt\n",
            "text/livedoor-homme/livedoor-homme-5695287.txt\n",
            "text/livedoor-homme/livedoor-homme-5695288.txt\n",
            "text/livedoor-homme/livedoor-homme-5702914.txt\n",
            "text/livedoor-homme/livedoor-homme-5706503.txt\n",
            "text/livedoor-homme/livedoor-homme-5713973.txt\n",
            "text/livedoor-homme/livedoor-homme-5720964.txt\n",
            "text/livedoor-homme/livedoor-homme-5731511.txt\n",
            "text/livedoor-homme/livedoor-homme-5733881.txt\n",
            "text/livedoor-homme/livedoor-homme-5735711.txt\n",
            "text/livedoor-homme/livedoor-homme-5736680.txt\n",
            "text/livedoor-homme/livedoor-homme-5736681.txt\n",
            "text/livedoor-homme/livedoor-homme-5736688.txt\n",
            "text/livedoor-homme/livedoor-homme-5736692.txt\n",
            "text/livedoor-homme/livedoor-homme-5736703.txt\n",
            "text/livedoor-homme/livedoor-homme-5736712.txt\n",
            "text/livedoor-homme/livedoor-homme-5736714.txt\n",
            "text/livedoor-homme/livedoor-homme-5736715.txt\n",
            "text/livedoor-homme/livedoor-homme-5736717.txt\n",
            "text/livedoor-homme/livedoor-homme-5736724.txt\n",
            "text/livedoor-homme/livedoor-homme-5736739.txt\n",
            "text/livedoor-homme/livedoor-homme-5736743.txt\n",
            "text/livedoor-homme/livedoor-homme-5736745.txt\n",
            "text/livedoor-homme/livedoor-homme-5736754.txt\n",
            "text/livedoor-homme/livedoor-homme-5736757.txt\n",
            "text/livedoor-homme/livedoor-homme-5736759.txt\n",
            "text/livedoor-homme/livedoor-homme-5736766.txt\n",
            "text/livedoor-homme/livedoor-homme-5736777.txt\n",
            "text/livedoor-homme/livedoor-homme-5736780.txt\n",
            "text/livedoor-homme/livedoor-homme-5749645.txt\n",
            "text/livedoor-homme/livedoor-homme-5757533.txt\n",
            "text/livedoor-homme/livedoor-homme-5769216.txt\n",
            "text/livedoor-homme/livedoor-homme-5769282.txt\n",
            "text/livedoor-homme/livedoor-homme-5769286.txt\n",
            "text/livedoor-homme/livedoor-homme-5769289.txt\n",
            "text/livedoor-homme/livedoor-homme-5769293.txt\n",
            "text/livedoor-homme/livedoor-homme-5769300.txt\n",
            "text/livedoor-homme/livedoor-homme-5769306.txt\n",
            "text/livedoor-homme/livedoor-homme-5769310.txt\n",
            "text/livedoor-homme/livedoor-homme-5769311.txt\n",
            "text/livedoor-homme/livedoor-homme-5769312.txt\n",
            "text/livedoor-homme/livedoor-homme-5769313.txt\n",
            "text/livedoor-homme/livedoor-homme-5769314.txt\n",
            "text/livedoor-homme/livedoor-homme-5769315.txt\n",
            "text/livedoor-homme/livedoor-homme-5769316.txt\n",
            "text/livedoor-homme/livedoor-homme-5769317.txt\n",
            "text/livedoor-homme/livedoor-homme-5769318.txt\n",
            "text/livedoor-homme/livedoor-homme-5769319.txt\n",
            "text/livedoor-homme/livedoor-homme-5769322.txt\n",
            "text/livedoor-homme/livedoor-homme-5769335.txt\n",
            "text/livedoor-homme/livedoor-homme-5769340.txt\n",
            "text/livedoor-homme/livedoor-homme-5769341.txt\n",
            "text/livedoor-homme/livedoor-homme-5769345.txt\n",
            "text/livedoor-homme/livedoor-homme-5769353.txt\n",
            "text/livedoor-homme/livedoor-homme-5769371.txt\n",
            "text/livedoor-homme/livedoor-homme-5769381.txt\n",
            "text/livedoor-homme/livedoor-homme-5769388.txt\n",
            "text/livedoor-homme/livedoor-homme-5769389.txt\n",
            "text/livedoor-homme/livedoor-homme-5769394.txt\n",
            "text/livedoor-homme/livedoor-homme-5769395.txt\n",
            "text/livedoor-homme/livedoor-homme-5769397.txt\n",
            "text/livedoor-homme/livedoor-homme-5769401.txt\n",
            "text/livedoor-homme/livedoor-homme-5769403.txt\n",
            "text/livedoor-homme/livedoor-homme-5769404.txt\n",
            "text/livedoor-homme/livedoor-homme-5769412.txt\n",
            "text/livedoor-homme/livedoor-homme-5769415.txt\n",
            "text/livedoor-homme/livedoor-homme-5769417.txt\n",
            "text/livedoor-homme/livedoor-homme-5769425.txt\n",
            "text/livedoor-homme/livedoor-homme-5769426.txt\n",
            "text/livedoor-homme/livedoor-homme-5769429.txt\n",
            "text/livedoor-homme/livedoor-homme-5769436.txt\n",
            "text/livedoor-homme/livedoor-homme-5771361.txt\n",
            "text/livedoor-homme/livedoor-homme-5781460.txt\n",
            "text/livedoor-homme/livedoor-homme-5793526.txt\n",
            "text/livedoor-homme/livedoor-homme-5796663.txt\n",
            "text/livedoor-homme/livedoor-homme-5802381.txt\n",
            "text/livedoor-homme/livedoor-homme-5807130.txt\n",
            "text/livedoor-homme/livedoor-homme-5807555.txt\n",
            "text/livedoor-homme/livedoor-homme-5810913.txt\n",
            "text/livedoor-homme/livedoor-homme-5811211.txt\n",
            "text/livedoor-homme/livedoor-homme-5818402.txt\n",
            "text/livedoor-homme/livedoor-homme-5818414.txt\n",
            "text/livedoor-homme/livedoor-homme-5818441.txt\n",
            "text/livedoor-homme/livedoor-homme-5818454.txt\n",
            "text/livedoor-homme/livedoor-homme-5818455.txt\n",
            "text/livedoor-homme/livedoor-homme-5819490.txt\n",
            "text/livedoor-homme/livedoor-homme-5822702.txt\n",
            "text/livedoor-homme/livedoor-homme-5822926.txt\n",
            "text/livedoor-homme/livedoor-homme-5825758.txt\n",
            "text/livedoor-homme/livedoor-homme-5825760.txt\n",
            "text/livedoor-homme/livedoor-homme-5825762.txt\n",
            "text/livedoor-homme/livedoor-homme-5825776.txt\n",
            "text/livedoor-homme/livedoor-homme-5825778.txt\n",
            "text/livedoor-homme/livedoor-homme-5825779.txt\n",
            "text/livedoor-homme/livedoor-homme-5825780.txt\n",
            "text/livedoor-homme/livedoor-homme-5825784.txt\n",
            "text/livedoor-homme/livedoor-homme-5825786.txt\n",
            "text/livedoor-homme/livedoor-homme-5825788.txt\n",
            "text/livedoor-homme/livedoor-homme-5825794.txt\n",
            "text/livedoor-homme/livedoor-homme-5825797.txt\n",
            "text/livedoor-homme/livedoor-homme-5825805.txt\n",
            "text/livedoor-homme/livedoor-homme-5825810.txt\n",
            "text/livedoor-homme/livedoor-homme-5825811.txt\n",
            "text/livedoor-homme/livedoor-homme-5825812.txt\n",
            "text/livedoor-homme/livedoor-homme-5825813.txt\n",
            "text/livedoor-homme/livedoor-homme-5825826.txt\n",
            "text/livedoor-homme/livedoor-homme-5825828.txt\n",
            "text/livedoor-homme/livedoor-homme-5825834.txt\n",
            "text/livedoor-homme/livedoor-homme-5828426.txt\n",
            "text/livedoor-homme/livedoor-homme-5829301.txt\n",
            "text/livedoor-homme/livedoor-homme-5840239.txt\n",
            "text/livedoor-homme/livedoor-homme-5842557.txt\n",
            "text/livedoor-homme/livedoor-homme-5845789.txt\n",
            "text/livedoor-homme/livedoor-homme-5850380.txt\n",
            "text/livedoor-homme/livedoor-homme-5855533.txt\n",
            "text/livedoor-homme/livedoor-homme-5855750.txt\n",
            "text/livedoor-homme/livedoor-homme-5861291.txt\n",
            "text/livedoor-homme/livedoor-homme-5862659.txt\n",
            "text/livedoor-homme/livedoor-homme-5867768.txt\n",
            "text/livedoor-homme/livedoor-homme-5868630.txt\n",
            "text/livedoor-homme/livedoor-homme-5877791.txt\n",
            "text/livedoor-homme/livedoor-homme-5892868.txt\n",
            "text/livedoor-homme/livedoor-homme-5894416.txt\n",
            "text/livedoor-homme/livedoor-homme-5902590.txt\n",
            "text/livedoor-homme/livedoor-homme-5912979.txt\n",
            "text/livedoor-homme/livedoor-homme-5913681.txt\n",
            "text/livedoor-homme/livedoor-homme-5913813.txt\n",
            "text/livedoor-homme/livedoor-homme-5927678.txt\n",
            "text/livedoor-homme/livedoor-homme-5927832.txt\n",
            "text/livedoor-homme/livedoor-homme-5929933.txt\n",
            "text/livedoor-homme/livedoor-homme-5930112.txt\n",
            "text/livedoor-homme/livedoor-homme-5933079.txt\n",
            "text/livedoor-homme/livedoor-homme-5934016.txt\n",
            "text/livedoor-homme/livedoor-homme-5935430.txt\n",
            "text/livedoor-homme/livedoor-homme-5945672.txt\n",
            "text/livedoor-homme/livedoor-homme-5950209.txt\n",
            "text/livedoor-homme/livedoor-homme-5953988.txt\n",
            "text/livedoor-homme/livedoor-homme-5958666.txt\n",
            "text/livedoor-homme/livedoor-homme-5971532.txt\n",
            "text/livedoor-homme/livedoor-homme-5973521.txt\n",
            "text/livedoor-homme/livedoor-homme-5974030.txt\n",
            "text/livedoor-homme/livedoor-homme-5974588.txt\n",
            "text/livedoor-homme/livedoor-homme-5985080.txt\n",
            "text/livedoor-homme/livedoor-homme-5991154.txt\n",
            "text/livedoor-homme/livedoor-homme-6007747.txt\n",
            "text/livedoor-homme/livedoor-homme-6011299.txt\n",
            "text/livedoor-homme/livedoor-homme-6013312.txt\n",
            "text/livedoor-homme/livedoor-homme-6019024.txt\n",
            "text/livedoor-homme/livedoor-homme-6033246.txt\n",
            "text/livedoor-homme/livedoor-homme-6033379.txt\n",
            "text/livedoor-homme/livedoor-homme-6036986.txt\n",
            "text/livedoor-homme/livedoor-homme-6037115.txt\n",
            "text/livedoor-homme/livedoor-homme-6041253.txt\n",
            "text/livedoor-homme/livedoor-homme-6047883.txt\n",
            "text/livedoor-homme/livedoor-homme-6052151.txt\n",
            "text/livedoor-homme/livedoor-homme-6052744.txt\n",
            "text/livedoor-homme/livedoor-homme-6061799.txt\n",
            "text/livedoor-homme/livedoor-homme-6067593.txt\n",
            "text/livedoor-homme/livedoor-homme-6068780.txt\n",
            "text/livedoor-homme/livedoor-homme-6075436.txt\n",
            "text/livedoor-homme/livedoor-homme-6076318.txt\n",
            "text/livedoor-homme/livedoor-homme-6076338.txt\n",
            "text/livedoor-homme/livedoor-homme-6076340.txt\n",
            "text/livedoor-homme/livedoor-homme-6076368.txt\n",
            "text/livedoor-homme/livedoor-homme-6076393.txt\n",
            "text/livedoor-homme/livedoor-homme-6076425.txt\n",
            "text/livedoor-homme/livedoor-homme-6076434.txt\n",
            "text/livedoor-homme/livedoor-homme-6076435.txt\n",
            "text/livedoor-homme/livedoor-homme-6084690.txt\n",
            "text/livedoor-homme/livedoor-homme-6095013.txt\n",
            "text/livedoor-homme/livedoor-homme-6095213.txt\n",
            "text/livedoor-homme/livedoor-homme-6097384.txt\n",
            "text/livedoor-homme/livedoor-homme-6098194.txt\n",
            "text/livedoor-homme/livedoor-homme-6105197.txt\n",
            "text/livedoor-homme/livedoor-homme-6110307.txt\n",
            "text/livedoor-homme/livedoor-homme-6111186.txt\n",
            "text/livedoor-homme/livedoor-homme-6129688.txt\n",
            "text/livedoor-homme/livedoor-homme-6149399.txt\n",
            "text/livedoor-homme/livedoor-homme-6154220.txt\n",
            "text/livedoor-homme/livedoor-homme-6189712.txt\n",
            "text/livedoor-homme/livedoor-homme-6195002.txt\n",
            "text/livedoor-homme/livedoor-homme-6205110.txt\n",
            "text/livedoor-homme/livedoor-homme-6214759.txt\n",
            "text/livedoor-homme/livedoor-homme-6221860.txt\n",
            "text/livedoor-homme/livedoor-homme-6246322.txt\n",
            "text/livedoor-homme/livedoor-homme-6261782.txt\n",
            "text/livedoor-homme/livedoor-homme-6264482.txt\n",
            "text/livedoor-homme/livedoor-homme-6283103.txt\n",
            "text/livedoor-homme/livedoor-homme-6284682.txt\n",
            "text/livedoor-homme/livedoor-homme-6285952.txt\n",
            "text/livedoor-homme/livedoor-homme-6305685.txt\n",
            "text/livedoor-homme/livedoor-homme-6305694.txt\n",
            "text/livedoor-homme/livedoor-homme-6305704.txt\n",
            "text/livedoor-homme/livedoor-homme-6305707.txt\n",
            "text/livedoor-homme/livedoor-homme-6307462.txt\n",
            "text/livedoor-homme/livedoor-homme-6392488.txt\n",
            "text/livedoor-homme/livedoor-homme-6393628.txt\n",
            "text/livedoor-homme/livedoor-homme-6397709.txt\n",
            "text/livedoor-homme/livedoor-homme-6403291.txt\n",
            "text/livedoor-homme/livedoor-homme-6412951.txt\n",
            "text/livedoor-homme/livedoor-homme-6429261.txt\n",
            "text/livedoor-homme/livedoor-homme-6435023.txt\n",
            "text/livedoor-homme/livedoor-homme-6444745.txt\n",
            "text/livedoor-homme/livedoor-homme-6447629.txt\n",
            "text/livedoor-homme/livedoor-homme-6455329.txt\n",
            "text/livedoor-homme/livedoor-homme-6475684.txt\n",
            "text/livedoor-homme/livedoor-homme-6484559.txt\n",
            "text/livedoor-homme/livedoor-homme-6494432.txt\n",
            "text/livedoor-homme/livedoor-homme-6499267.txt\n",
            "text/livedoor-homme/livedoor-homme-6616668.txt\n",
            "text/livedoor-homme/livedoor-homme-6646686.txt\n",
            "text/livedoor-homme/livedoor-homme-6646729.txt\n",
            "text/livedoor-homme/livedoor-homme-6659052.txt\n",
            "text/livedoor-homme/livedoor-homme-6672680.txt\n",
            "text/livedoor-homme/livedoor-homme-6690674.txt\n",
            "text/livedoor-homme/livedoor-homme-6690686.txt\n",
            "text/livedoor-homme/livedoor-homme-6700522.txt\n",
            "text/livedoor-homme/livedoor-homme-6702284.txt\n",
            "text/livedoor-homme/livedoor-homme-6742274.txt\n",
            "text/livedoor-homme/livedoor-homme-6754532.txt\n",
            "text/livedoor-homme/livedoor-homme-6767880.txt\n",
            "text/livedoor-homme/livedoor-homme-6776104.txt\n",
            "text/livedoor-homme/livedoor-homme-6783137.txt\n",
            "text/livedoor-homme/livedoor-homme-6810014.txt\n",
            "text/livedoor-homme/livedoor-homme-6828491.txt\n",
            "text/kaden-channel/kaden-channel-5774093.txt\n",
            "text/kaden-channel/kaden-channel-5774562.txt\n",
            "text/kaden-channel/kaden-channel-5775172.txt\n",
            "text/kaden-channel/kaden-channel-5777269.txt\n",
            "text/kaden-channel/kaden-channel-5778048.txt\n",
            "text/kaden-channel/kaden-channel-5779877.txt\n",
            "text/kaden-channel/kaden-channel-5781007.txt\n",
            "text/kaden-channel/kaden-channel-5782471.txt\n",
            "text/kaden-channel/kaden-channel-5782859.txt\n",
            "text/kaden-channel/kaden-channel-5783869.txt\n",
            "text/kaden-channel/kaden-channel-5785345.txt\n",
            "text/kaden-channel/kaden-channel-5789971.txt\n",
            "text/kaden-channel/kaden-channel-5790425.txt\n",
            "text/kaden-channel/kaden-channel-5792391.txt\n",
            "text/kaden-channel/kaden-channel-5792969.txt\n",
            "text/kaden-channel/kaden-channel-5795135.txt\n",
            "text/kaden-channel/kaden-channel-5795649.txt\n",
            "text/kaden-channel/kaden-channel-5796317.txt\n",
            "text/kaden-channel/kaden-channel-5798260.txt\n",
            "text/kaden-channel/kaden-channel-5799604.txt\n",
            "text/kaden-channel/kaden-channel-5800735.txt\n",
            "text/kaden-channel/kaden-channel-5801147.txt\n",
            "text/kaden-channel/kaden-channel-5801662.txt\n",
            "text/kaden-channel/kaden-channel-5803464.txt\n",
            "text/kaden-channel/kaden-channel-5804359.txt\n",
            "text/kaden-channel/kaden-channel-5804649.txt\n",
            "text/kaden-channel/kaden-channel-5806327.txt\n",
            "text/kaden-channel/kaden-channel-5806930.txt\n",
            "text/kaden-channel/kaden-channel-5809229.txt\n",
            "text/kaden-channel/kaden-channel-5809943.txt\n",
            "text/kaden-channel/kaden-channel-5810521.txt\n",
            "text/kaden-channel/kaden-channel-5812305.txt\n",
            "text/kaden-channel/kaden-channel-5812802.txt\n",
            "text/kaden-channel/kaden-channel-5813401.txt\n",
            "text/kaden-channel/kaden-channel-5815310.txt\n",
            "text/kaden-channel/kaden-channel-5816764.txt\n",
            "text/kaden-channel/kaden-channel-5818095.txt\n",
            "text/kaden-channel/kaden-channel-5818855.txt\n",
            "text/kaden-channel/kaden-channel-5819188.txt\n",
            "text/kaden-channel/kaden-channel-5820981.txt\n",
            "text/kaden-channel/kaden-channel-5821471.txt\n",
            "text/kaden-channel/kaden-channel-5822021.txt\n",
            "text/kaden-channel/kaden-channel-5823918.txt\n",
            "text/kaden-channel/kaden-channel-5824521.txt\n",
            "text/kaden-channel/kaden-channel-5825177.txt\n",
            "text/kaden-channel/kaden-channel-5827057.txt\n",
            "text/kaden-channel/kaden-channel-5827900.txt\n",
            "text/kaden-channel/kaden-channel-5828555.txt\n",
            "text/kaden-channel/kaden-channel-5830340.txt\n",
            "text/kaden-channel/kaden-channel-5831005.txt\n",
            "text/kaden-channel/kaden-channel-5831377.txt\n",
            "text/kaden-channel/kaden-channel-5835045.txt\n",
            "text/kaden-channel/kaden-channel-5836119.txt\n",
            "text/kaden-channel/kaden-channel-5836611.txt\n",
            "text/kaden-channel/kaden-channel-5837226.txt\n",
            "text/kaden-channel/kaden-channel-5837804.txt\n",
            "text/kaden-channel/kaden-channel-5839045.txt\n",
            "text/kaden-channel/kaden-channel-5840377.txt\n",
            "text/kaden-channel/kaden-channel-5841998.txt\n",
            "text/kaden-channel/kaden-channel-5842556.txt\n",
            "text/kaden-channel/kaden-channel-5843134.txt\n",
            "text/kaden-channel/kaden-channel-5845309.txt\n",
            "text/kaden-channel/kaden-channel-5845631.txt\n",
            "text/kaden-channel/kaden-channel-5846440.txt\n",
            "text/kaden-channel/kaden-channel-5848423.txt\n",
            "text/kaden-channel/kaden-channel-5848939.txt\n",
            "text/kaden-channel/kaden-channel-5849551.txt\n",
            "text/kaden-channel/kaden-channel-5851374.txt\n",
            "text/kaden-channel/kaden-channel-5852919.txt\n",
            "text/kaden-channel/kaden-channel-5854378.txt\n",
            "text/kaden-channel/kaden-channel-5855219.txt\n",
            "text/kaden-channel/kaden-channel-5855522.txt\n",
            "text/kaden-channel/kaden-channel-5857425.txt\n",
            "text/kaden-channel/kaden-channel-5858236.txt\n",
            "text/kaden-channel/kaden-channel-5858755.txt\n",
            "text/kaden-channel/kaden-channel-5860708.txt\n",
            "text/kaden-channel/kaden-channel-5861282.txt\n",
            "text/kaden-channel/kaden-channel-5861671.txt\n",
            "text/kaden-channel/kaden-channel-5863777.txt\n",
            "text/kaden-channel/kaden-channel-5864364.txt\n",
            "text/kaden-channel/kaden-channel-5864919.txt\n",
            "text/kaden-channel/kaden-channel-5866975.txt\n",
            "text/kaden-channel/kaden-channel-5867714.txt\n",
            "text/kaden-channel/kaden-channel-5868321.txt\n",
            "text/kaden-channel/kaden-channel-5870220.txt\n",
            "text/kaden-channel/kaden-channel-5872103.txt\n",
            "text/kaden-channel/kaden-channel-5874710.txt\n",
            "text/kaden-channel/kaden-channel-5875212.txt\n",
            "text/kaden-channel/kaden-channel-5876158.txt\n",
            "text/kaden-channel/kaden-channel-5877738.txt\n",
            "text/kaden-channel/kaden-channel-5878457.txt\n",
            "text/kaden-channel/kaden-channel-5879064.txt\n",
            "text/kaden-channel/kaden-channel-5880881.txt\n",
            "text/kaden-channel/kaden-channel-5882022.txt\n",
            "text/kaden-channel/kaden-channel-5884389.txt\n",
            "text/kaden-channel/kaden-channel-5885924.txt\n",
            "text/kaden-channel/kaden-channel-5887012.txt\n",
            "text/kaden-channel/kaden-channel-5888421.txt\n",
            "text/kaden-channel/kaden-channel-5888941.txt\n",
            "text/kaden-channel/kaden-channel-5889511.txt\n",
            "text/kaden-channel/kaden-channel-5891646.txt\n",
            "text/kaden-channel/kaden-channel-5892774.txt\n",
            "text/kaden-channel/kaden-channel-5894623.txt\n",
            "text/kaden-channel/kaden-channel-5895147.txt\n",
            "text/kaden-channel/kaden-channel-5897493.txt\n",
            "text/kaden-channel/kaden-channel-5898406.txt\n",
            "text/kaden-channel/kaden-channel-5898868.txt\n",
            "text/kaden-channel/kaden-channel-5901153.txt\n",
            "text/kaden-channel/kaden-channel-5901658.txt\n",
            "text/kaden-channel/kaden-channel-5902143.txt\n",
            "text/kaden-channel/kaden-channel-5904397.txt\n",
            "text/kaden-channel/kaden-channel-5905624.txt\n",
            "text/kaden-channel/kaden-channel-5907036.txt\n",
            "text/kaden-channel/kaden-channel-5909995.txt\n",
            "text/kaden-channel/kaden-channel-5910670.txt\n",
            "text/kaden-channel/kaden-channel-5913423.txt\n",
            "text/kaden-channel/kaden-channel-5916012.txt\n",
            "text/kaden-channel/kaden-channel-5916939.txt\n",
            "text/kaden-channel/kaden-channel-5919260.txt\n",
            "text/kaden-channel/kaden-channel-5920054.txt\n",
            "text/kaden-channel/kaden-channel-5922546.txt\n",
            "text/kaden-channel/kaden-channel-5923924.txt\n",
            "text/kaden-channel/kaden-channel-5925572.txt\n",
            "text/kaden-channel/kaden-channel-5926664.txt\n",
            "text/kaden-channel/kaden-channel-5927457.txt\n",
            "text/kaden-channel/kaden-channel-5928649.txt\n",
            "text/kaden-channel/kaden-channel-5929932.txt\n",
            "text/kaden-channel/kaden-channel-5930544.txt\n",
            "text/kaden-channel/kaden-channel-5931338.txt\n",
            "text/kaden-channel/kaden-channel-5933307.txt\n",
            "text/kaden-channel/kaden-channel-5934130.txt\n",
            "text/kaden-channel/kaden-channel-5936282.txt\n",
            "text/kaden-channel/kaden-channel-5937248.txt\n",
            "text/kaden-channel/kaden-channel-5937607.txt\n",
            "text/kaden-channel/kaden-channel-5939836.txt\n",
            "text/kaden-channel/kaden-channel-5941285.txt\n",
            "text/kaden-channel/kaden-channel-5942806.txt\n",
            "text/kaden-channel/kaden-channel-5943211.txt\n",
            "text/kaden-channel/kaden-channel-5943674.txt\n",
            "text/kaden-channel/kaden-channel-5945895.txt\n",
            "text/kaden-channel/kaden-channel-5946325.txt\n",
            "text/kaden-channel/kaden-channel-5946822.txt\n",
            "text/kaden-channel/kaden-channel-5948764.txt\n",
            "text/kaden-channel/kaden-channel-5951870.txt\n",
            "text/kaden-channel/kaden-channel-5955075.txt\n",
            "text/kaden-channel/kaden-channel-5955849.txt\n",
            "text/kaden-channel/kaden-channel-5956407.txt\n",
            "text/kaden-channel/kaden-channel-5958431.txt\n",
            "text/kaden-channel/kaden-channel-5959843.txt\n",
            "text/kaden-channel/kaden-channel-5961363.txt\n",
            "text/kaden-channel/kaden-channel-5961830.txt\n",
            "text/kaden-channel/kaden-channel-5962352.txt\n",
            "text/kaden-channel/kaden-channel-5962823.txt\n",
            "text/kaden-channel/kaden-channel-5964132.txt\n",
            "text/kaden-channel/kaden-channel-5964671.txt\n",
            "text/kaden-channel/kaden-channel-5965300.txt\n",
            "text/kaden-channel/kaden-channel-5965363.txt\n",
            "text/kaden-channel/kaden-channel-5965364.txt\n",
            "text/kaden-channel/kaden-channel-5965457.txt\n",
            "text/kaden-channel/kaden-channel-5967880.txt\n",
            "text/kaden-channel/kaden-channel-5968766.txt\n",
            "text/kaden-channel/kaden-channel-5970344.txt\n",
            "text/kaden-channel/kaden-channel-5970905.txt\n",
            "text/kaden-channel/kaden-channel-5971869.txt\n",
            "text/kaden-channel/kaden-channel-5973778.txt\n",
            "text/kaden-channel/kaden-channel-5974299.txt\n",
            "text/kaden-channel/kaden-channel-5974685.txt\n",
            "text/kaden-channel/kaden-channel-5975108.txt\n",
            "text/kaden-channel/kaden-channel-5976932.txt\n",
            "text/kaden-channel/kaden-channel-5977156.txt\n",
            "text/kaden-channel/kaden-channel-5978830.txt\n",
            "text/kaden-channel/kaden-channel-5979337.txt\n",
            "text/kaden-channel/kaden-channel-5981024.txt\n",
            "text/kaden-channel/kaden-channel-5982551.txt\n",
            "text/kaden-channel/kaden-channel-5984684.txt\n",
            "text/kaden-channel/kaden-channel-5985597.txt\n",
            "text/kaden-channel/kaden-channel-5987733.txt\n",
            "text/kaden-channel/kaden-channel-5988358.txt\n",
            "text/kaden-channel/kaden-channel-5989911.txt\n",
            "text/kaden-channel/kaden-channel-5990886.txt\n",
            "text/kaden-channel/kaden-channel-5991316.txt\n",
            "text/kaden-channel/kaden-channel-5991642.txt\n",
            "text/kaden-channel/kaden-channel-5993952.txt\n",
            "text/kaden-channel/kaden-channel-5995609.txt\n",
            "text/kaden-channel/kaden-channel-5996494.txt\n",
            "text/kaden-channel/kaden-channel-5997044.txt\n",
            "text/kaden-channel/kaden-channel-5999626.txt\n",
            "text/kaden-channel/kaden-channel-5999828.txt\n",
            "text/kaden-channel/kaden-channel-6001442.txt\n",
            "text/kaden-channel/kaden-channel-6002954.txt\n",
            "text/kaden-channel/kaden-channel-6003987.txt\n",
            "text/kaden-channel/kaden-channel-6004469.txt\n",
            "text/kaden-channel/kaden-channel-6006447.txt\n",
            "text/kaden-channel/kaden-channel-6007406.txt\n",
            "text/kaden-channel/kaden-channel-6008125.txt\n",
            "text/kaden-channel/kaden-channel-6010086.txt\n",
            "text/kaden-channel/kaden-channel-6011019.txt\n",
            "text/kaden-channel/kaden-channel-6011396.txt\n",
            "text/kaden-channel/kaden-channel-6011564.txt\n",
            "text/kaden-channel/kaden-channel-6011895.txt\n",
            "text/kaden-channel/kaden-channel-6013713.txt\n",
            "text/kaden-channel/kaden-channel-6014272.txt\n",
            "text/kaden-channel/kaden-channel-6017158.txt\n",
            "text/kaden-channel/kaden-channel-6017943.txt\n",
            "text/kaden-channel/kaden-channel-6018887.txt\n",
            "text/kaden-channel/kaden-channel-6021242.txt\n",
            "text/kaden-channel/kaden-channel-6022651.txt\n",
            "text/kaden-channel/kaden-channel-6023108.txt\n",
            "text/kaden-channel/kaden-channel-6023335.txt\n",
            "text/kaden-channel/kaden-channel-6024589.txt\n",
            "text/kaden-channel/kaden-channel-6025656.txt\n",
            "text/kaden-channel/kaden-channel-6026009.txt\n",
            "text/kaden-channel/kaden-channel-6028153.txt\n",
            "text/kaden-channel/kaden-channel-6029135.txt\n",
            "text/kaden-channel/kaden-channel-6029457.txt\n",
            "text/kaden-channel/kaden-channel-6030089.txt\n",
            "text/kaden-channel/kaden-channel-6031869.txt\n",
            "text/kaden-channel/kaden-channel-6032812.txt\n",
            "text/kaden-channel/kaden-channel-6033369.txt\n",
            "text/kaden-channel/kaden-channel-6033864.txt\n",
            "text/kaden-channel/kaden-channel-6035469.txt\n",
            "text/kaden-channel/kaden-channel-6036401.txt\n",
            "text/kaden-channel/kaden-channel-6036984.txt\n",
            "text/kaden-channel/kaden-channel-6039472.txt\n",
            "text/kaden-channel/kaden-channel-6040069.txt\n",
            "text/kaden-channel/kaden-channel-6040432.txt\n",
            "text/kaden-channel/kaden-channel-6043311.txt\n",
            "text/kaden-channel/kaden-channel-6045068.txt\n",
            "text/kaden-channel/kaden-channel-6046811.txt\n",
            "text/kaden-channel/kaden-channel-6047911.txt\n",
            "text/kaden-channel/kaden-channel-6048310.txt\n",
            "text/kaden-channel/kaden-channel-6051596.txt\n",
            "text/kaden-channel/kaden-channel-6051990.txt\n",
            "text/kaden-channel/kaden-channel-6052398.txt\n",
            "text/kaden-channel/kaden-channel-6054293.txt\n",
            "text/kaden-channel/kaden-channel-6056409.txt\n",
            "text/kaden-channel/kaden-channel-6056894.txt\n",
            "text/kaden-channel/kaden-channel-6057359.txt\n",
            "text/kaden-channel/kaden-channel-6057733.txt\n",
            "text/kaden-channel/kaden-channel-6058238.txt\n",
            "text/kaden-channel/kaden-channel-6058391.txt\n",
            "text/kaden-channel/kaden-channel-6061000.txt\n",
            "text/kaden-channel/kaden-channel-6061045.txt\n",
            "text/kaden-channel/kaden-channel-6061397.txt\n",
            "text/kaden-channel/kaden-channel-6061398.txt\n",
            "text/kaden-channel/kaden-channel-6061874.txt\n",
            "text/kaden-channel/kaden-channel-6062060.txt\n",
            "text/kaden-channel/kaden-channel-6064103.txt\n",
            "text/kaden-channel/kaden-channel-6064132.txt\n",
            "text/kaden-channel/kaden-channel-6064299.txt\n",
            "text/kaden-channel/kaden-channel-6064487.txt\n",
            "text/kaden-channel/kaden-channel-6064566.txt\n",
            "text/kaden-channel/kaden-channel-6065509.txt\n",
            "text/kaden-channel/kaden-channel-6065696.txt\n",
            "text/kaden-channel/kaden-channel-6065971.txt\n",
            "text/kaden-channel/kaden-channel-6066037.txt\n",
            "text/kaden-channel/kaden-channel-6066088.txt\n",
            "text/kaden-channel/kaden-channel-6066153.txt\n",
            "text/kaden-channel/kaden-channel-6066216.txt\n",
            "text/kaden-channel/kaden-channel-6066331.txt\n",
            "text/kaden-channel/kaden-channel-6067513.txt\n",
            "text/kaden-channel/kaden-channel-6068461.txt\n",
            "text/kaden-channel/kaden-channel-6068873.txt\n",
            "text/kaden-channel/kaden-channel-6069650.txt\n",
            "text/kaden-channel/kaden-channel-6069991.txt\n",
            "text/kaden-channel/kaden-channel-6070067.txt\n",
            "text/kaden-channel/kaden-channel-6070642.txt\n",
            "text/kaden-channel/kaden-channel-6070825.txt\n",
            "text/kaden-channel/kaden-channel-6071998.txt\n",
            "text/kaden-channel/kaden-channel-6072383.txt\n",
            "text/kaden-channel/kaden-channel-6072795.txt\n",
            "text/kaden-channel/kaden-channel-6072976.txt\n",
            "text/kaden-channel/kaden-channel-6073547.txt\n",
            "text/kaden-channel/kaden-channel-6073684.txt\n",
            "text/kaden-channel/kaden-channel-6074267.txt\n",
            "text/kaden-channel/kaden-channel-6074718.txt\n",
            "text/kaden-channel/kaden-channel-6075499.txt\n",
            "text/kaden-channel/kaden-channel-6075924.txt\n",
            "text/kaden-channel/kaden-channel-6076334.txt\n",
            "text/kaden-channel/kaden-channel-6076527.txt\n",
            "text/kaden-channel/kaden-channel-6077122.txt\n",
            "text/kaden-channel/kaden-channel-6077946.txt\n",
            "text/kaden-channel/kaden-channel-6078335.txt\n",
            "text/kaden-channel/kaden-channel-6079158.txt\n",
            "text/kaden-channel/kaden-channel-6079831.txt\n",
            "text/kaden-channel/kaden-channel-6080318.txt\n",
            "text/kaden-channel/kaden-channel-6080576.txt\n",
            "text/kaden-channel/kaden-channel-6081102.txt\n",
            "text/kaden-channel/kaden-channel-6082155.txt\n",
            "text/kaden-channel/kaden-channel-6083529.txt\n",
            "text/kaden-channel/kaden-channel-6083695.txt\n",
            "text/kaden-channel/kaden-channel-6084226.txt\n",
            "text/kaden-channel/kaden-channel-6084434.txt\n",
            "text/kaden-channel/kaden-channel-6085554.txt\n",
            "text/kaden-channel/kaden-channel-6086124.txt\n",
            "text/kaden-channel/kaden-channel-6086270.txt\n",
            "text/kaden-channel/kaden-channel-6087530.txt\n",
            "text/kaden-channel/kaden-channel-6087997.txt\n",
            "text/kaden-channel/kaden-channel-6088132.txt\n",
            "text/kaden-channel/kaden-channel-6089376.txt\n",
            "text/kaden-channel/kaden-channel-6090262.txt\n",
            "text/kaden-channel/kaden-channel-6090638.txt\n",
            "text/kaden-channel/kaden-channel-6091151.txt\n",
            "text/kaden-channel/kaden-channel-6091605.txt\n",
            "text/kaden-channel/kaden-channel-6092843.txt\n",
            "text/kaden-channel/kaden-channel-6093690.txt\n",
            "text/kaden-channel/kaden-channel-6094137.txt\n",
            "text/kaden-channel/kaden-channel-6094340.txt\n",
            "text/kaden-channel/kaden-channel-6094341.txt\n",
            "text/kaden-channel/kaden-channel-6094797.txt\n",
            "text/kaden-channel/kaden-channel-6096741.txt\n",
            "text/kaden-channel/kaden-channel-6096742.txt\n",
            "text/kaden-channel/kaden-channel-6097765.txt\n",
            "text/kaden-channel/kaden-channel-6098060.txt\n",
            "text/kaden-channel/kaden-channel-6099978.txt\n",
            "text/kaden-channel/kaden-channel-6100740.txt\n",
            "text/kaden-channel/kaden-channel-6101297.txt\n",
            "text/kaden-channel/kaden-channel-6101845.txt\n",
            "text/kaden-channel/kaden-channel-6103630.txt\n",
            "text/kaden-channel/kaden-channel-6104126.txt\n",
            "text/kaden-channel/kaden-channel-6104476.txt\n",
            "text/kaden-channel/kaden-channel-6104664.txt\n",
            "text/kaden-channel/kaden-channel-6105005.txt\n",
            "text/kaden-channel/kaden-channel-6105402.txt\n",
            "text/kaden-channel/kaden-channel-6106777.txt\n",
            "text/kaden-channel/kaden-channel-6106982.txt\n",
            "text/kaden-channel/kaden-channel-6107113.txt\n",
            "text/kaden-channel/kaden-channel-6107187.txt\n",
            "text/kaden-channel/kaden-channel-6108505.txt\n",
            "text/kaden-channel/kaden-channel-6108618.txt\n",
            "text/kaden-channel/kaden-channel-6108666.txt\n",
            "text/kaden-channel/kaden-channel-6108724.txt\n",
            "text/kaden-channel/kaden-channel-6108752.txt\n",
            "text/kaden-channel/kaden-channel-6108786.txt\n",
            "text/kaden-channel/kaden-channel-6108803.txt\n",
            "text/kaden-channel/kaden-channel-6108855.txt\n",
            "text/kaden-channel/kaden-channel-6108865.txt\n",
            "text/kaden-channel/kaden-channel-6109626.txt\n",
            "text/kaden-channel/kaden-channel-6109895.txt\n",
            "text/kaden-channel/kaden-channel-6110368.txt\n",
            "text/kaden-channel/kaden-channel-6110788.txt\n",
            "text/kaden-channel/kaden-channel-6110982.txt\n",
            "text/kaden-channel/kaden-channel-6111180.txt\n",
            "text/kaden-channel/kaden-channel-6111366.txt\n",
            "text/kaden-channel/kaden-channel-6111565.txt\n",
            "text/kaden-channel/kaden-channel-6113087.txt\n",
            "text/kaden-channel/kaden-channel-6113746.txt\n",
            "text/kaden-channel/kaden-channel-6114234.txt\n",
            "text/kaden-channel/kaden-channel-6114580.txt\n",
            "text/kaden-channel/kaden-channel-6114792.txt\n",
            "text/kaden-channel/kaden-channel-6116253.txt\n",
            "text/kaden-channel/kaden-channel-6116734.txt\n",
            "text/kaden-channel/kaden-channel-6116967.txt\n",
            "text/kaden-channel/kaden-channel-6117409.txt\n",
            "text/kaden-channel/kaden-channel-6117914.txt\n",
            "text/kaden-channel/kaden-channel-6118206.txt\n",
            "text/kaden-channel/kaden-channel-6119500.txt\n",
            "text/kaden-channel/kaden-channel-6120211.txt\n",
            "text/kaden-channel/kaden-channel-6120464.txt\n",
            "text/kaden-channel/kaden-channel-6121420.txt\n",
            "text/kaden-channel/kaden-channel-6123066.txt\n",
            "text/kaden-channel/kaden-channel-6123560.txt\n",
            "text/kaden-channel/kaden-channel-6123907.txt\n",
            "text/kaden-channel/kaden-channel-6124454.txt\n",
            "text/kaden-channel/kaden-channel-6125409.txt\n",
            "text/kaden-channel/kaden-channel-6125881.txt\n",
            "text/kaden-channel/kaden-channel-6126137.txt\n",
            "text/kaden-channel/kaden-channel-6126542.txt\n",
            "text/kaden-channel/kaden-channel-6126689.txt\n",
            "text/kaden-channel/kaden-channel-6127537.txt\n",
            "text/kaden-channel/kaden-channel-6127724.txt\n",
            "text/kaden-channel/kaden-channel-6127969.txt\n",
            "text/kaden-channel/kaden-channel-6128167.txt\n",
            "text/kaden-channel/kaden-channel-6128294.txt\n",
            "text/kaden-channel/kaden-channel-6129438.txt\n",
            "text/kaden-channel/kaden-channel-6130340.txt\n",
            "text/kaden-channel/kaden-channel-6130802.txt\n",
            "text/kaden-channel/kaden-channel-6132491.txt\n",
            "text/kaden-channel/kaden-channel-6132753.txt\n",
            "text/kaden-channel/kaden-channel-6133546.txt\n",
            "text/kaden-channel/kaden-channel-6134139.txt\n",
            "text/kaden-channel/kaden-channel-6134839.txt\n",
            "text/kaden-channel/kaden-channel-6135039.txt\n",
            "text/kaden-channel/kaden-channel-6135885.txt\n",
            "text/kaden-channel/kaden-channel-6136365.txt\n",
            "text/kaden-channel/kaden-channel-6136886.txt\n",
            "text/kaden-channel/kaden-channel-6137193.txt\n",
            "text/kaden-channel/kaden-channel-6137753.txt\n",
            "text/kaden-channel/kaden-channel-6138160.txt\n",
            "text/kaden-channel/kaden-channel-6138351.txt\n",
            "text/kaden-channel/kaden-channel-6139310.txt\n",
            "text/kaden-channel/kaden-channel-6139731.txt\n",
            "text/kaden-channel/kaden-channel-6140021.txt\n",
            "text/kaden-channel/kaden-channel-6140878.txt\n",
            "text/kaden-channel/kaden-channel-6142952.txt\n",
            "text/kaden-channel/kaden-channel-6143178.txt\n",
            "text/kaden-channel/kaden-channel-6143333.txt\n",
            "text/kaden-channel/kaden-channel-6143631.txt\n",
            "text/kaden-channel/kaden-channel-6144382.txt\n",
            "text/kaden-channel/kaden-channel-6144822.txt\n",
            "text/kaden-channel/kaden-channel-6145224.txt\n",
            "text/kaden-channel/kaden-channel-6146116.txt\n",
            "text/kaden-channel/kaden-channel-6146341.txt\n",
            "text/kaden-channel/kaden-channel-6147488.txt\n",
            "text/kaden-channel/kaden-channel-6149196.txt\n",
            "text/kaden-channel/kaden-channel-6150920.txt\n",
            "text/kaden-channel/kaden-channel-6151578.txt\n",
            "text/kaden-channel/kaden-channel-6151906.txt\n",
            "text/kaden-channel/kaden-channel-6152446.txt\n",
            "text/kaden-channel/kaden-channel-6153553.txt\n",
            "text/kaden-channel/kaden-channel-6154014.txt\n",
            "text/kaden-channel/kaden-channel-6154721.txt\n",
            "text/kaden-channel/kaden-channel-6155115.txt\n",
            "text/kaden-channel/kaden-channel-6155292.txt\n",
            "text/kaden-channel/kaden-channel-6156270.txt\n",
            "text/kaden-channel/kaden-channel-6156710.txt\n",
            "text/kaden-channel/kaden-channel-6157179.txt\n",
            "text/kaden-channel/kaden-channel-6158292.txt\n",
            "text/kaden-channel/kaden-channel-6158738.txt\n",
            "text/kaden-channel/kaden-channel-6158987.txt\n",
            "text/kaden-channel/kaden-channel-6159084.txt\n",
            "text/kaden-channel/kaden-channel-6160177.txt\n",
            "text/kaden-channel/kaden-channel-6160440.txt\n",
            "text/kaden-channel/kaden-channel-6160931.txt\n",
            "text/kaden-channel/kaden-channel-6161573.txt\n",
            "text/kaden-channel/kaden-channel-6161620.txt\n",
            "text/kaden-channel/kaden-channel-6162089.txt\n",
            "text/kaden-channel/kaden-channel-6162208.txt\n",
            "text/kaden-channel/kaden-channel-6162712.txt\n",
            "text/kaden-channel/kaden-channel-6162787.txt\n",
            "text/kaden-channel/kaden-channel-6163307.txt\n",
            "text/kaden-channel/kaden-channel-6163877.txt\n",
            "text/kaden-channel/kaden-channel-6165237.txt\n",
            "text/kaden-channel/kaden-channel-6168123.txt\n",
            "text/kaden-channel/kaden-channel-6170455.txt\n",
            "text/kaden-channel/kaden-channel-6171104.txt\n",
            "text/kaden-channel/kaden-channel-6171434.txt\n",
            "text/kaden-channel/kaden-channel-6171516.txt\n",
            "text/kaden-channel/kaden-channel-6173006.txt\n",
            "text/kaden-channel/kaden-channel-6173142.txt\n",
            "text/kaden-channel/kaden-channel-6174461.txt\n",
            "text/kaden-channel/kaden-channel-6174639.txt\n",
            "text/kaden-channel/kaden-channel-6174871.txt\n",
            "text/kaden-channel/kaden-channel-6175971.txt\n",
            "text/kaden-channel/kaden-channel-6176457.txt\n",
            "text/kaden-channel/kaden-channel-6177812.txt\n",
            "text/kaden-channel/kaden-channel-6178568.txt\n",
            "text/kaden-channel/kaden-channel-6180432.txt\n",
            "text/kaden-channel/kaden-channel-6180996.txt\n",
            "text/kaden-channel/kaden-channel-6181890.txt\n",
            "text/kaden-channel/kaden-channel-6182727.txt\n",
            "text/kaden-channel/kaden-channel-6184442.txt\n",
            "text/kaden-channel/kaden-channel-6185160.txt\n",
            "text/kaden-channel/kaden-channel-6185964.txt\n",
            "text/kaden-channel/kaden-channel-6187313.txt\n",
            "text/kaden-channel/kaden-channel-6187777.txt\n",
            "text/kaden-channel/kaden-channel-6188328.txt\n",
            "text/kaden-channel/kaden-channel-6189338.txt\n",
            "text/kaden-channel/kaden-channel-6190520.txt\n",
            "text/kaden-channel/kaden-channel-6190979.txt\n",
            "text/kaden-channel/kaden-channel-6192668.txt\n",
            "text/kaden-channel/kaden-channel-6193993.txt\n",
            "text/kaden-channel/kaden-channel-6194556.txt\n",
            "text/kaden-channel/kaden-channel-6194901.txt\n",
            "text/kaden-channel/kaden-channel-6195750.txt\n",
            "text/kaden-channel/kaden-channel-6197716.txt\n",
            "text/kaden-channel/kaden-channel-6197899.txt\n",
            "text/kaden-channel/kaden-channel-6198250.txt\n",
            "text/kaden-channel/kaden-channel-6199020.txt\n",
            "text/kaden-channel/kaden-channel-6199877.txt\n",
            "text/kaden-channel/kaden-channel-6200042.txt\n",
            "text/kaden-channel/kaden-channel-6200825.txt\n",
            "text/kaden-channel/kaden-channel-6201073.txt\n",
            "text/kaden-channel/kaden-channel-6201821.txt\n",
            "text/kaden-channel/kaden-channel-6203709.txt\n",
            "text/kaden-channel/kaden-channel-6204248.txt\n",
            "text/kaden-channel/kaden-channel-6204873.txt\n",
            "text/kaden-channel/kaden-channel-6206780.txt\n",
            "text/kaden-channel/kaden-channel-6207425.txt\n",
            "text/kaden-channel/kaden-channel-6208369.txt\n",
            "text/kaden-channel/kaden-channel-6210717.txt\n",
            "text/kaden-channel/kaden-channel-6211990.txt\n",
            "text/kaden-channel/kaden-channel-6212495.txt\n",
            "text/kaden-channel/kaden-channel-6213531.txt\n",
            "text/kaden-channel/kaden-channel-6214478.txt\n",
            "text/kaden-channel/kaden-channel-6215259.txt\n",
            "text/kaden-channel/kaden-channel-6216794.txt\n",
            "text/kaden-channel/kaden-channel-6217634.txt\n",
            "text/kaden-channel/kaden-channel-6217967.txt\n",
            "text/kaden-channel/kaden-channel-6220286.txt\n",
            "text/kaden-channel/kaden-channel-6221072.txt\n",
            "text/kaden-channel/kaden-channel-6222729.txt\n",
            "text/kaden-channel/kaden-channel-6223393.txt\n",
            "text/kaden-channel/kaden-channel-6224170.txt\n",
            "text/kaden-channel/kaden-channel-6225675.txt\n",
            "text/kaden-channel/kaden-channel-6226557.txt\n",
            "text/kaden-channel/kaden-channel-6229298.txt\n",
            "text/kaden-channel/kaden-channel-6230197.txt\n",
            "text/kaden-channel/kaden-channel-6231231.txt\n",
            "text/kaden-channel/kaden-channel-6231489.txt\n",
            "text/kaden-channel/kaden-channel-6231563.txt\n",
            "text/kaden-channel/kaden-channel-6232785.txt\n",
            "text/kaden-channel/kaden-channel-6233361.txt\n",
            "text/kaden-channel/kaden-channel-6236107.txt\n",
            "text/kaden-channel/kaden-channel-6236826.txt\n",
            "text/kaden-channel/kaden-channel-6237227.txt\n",
            "text/kaden-channel/kaden-channel-6237932.txt\n",
            "text/kaden-channel/kaden-channel-6239412.txt\n",
            "text/kaden-channel/kaden-channel-6240241.txt\n",
            "text/kaden-channel/kaden-channel-6240993.txt\n",
            "text/kaden-channel/kaden-channel-6243356.txt\n",
            "text/kaden-channel/kaden-channel-6244301.txt\n",
            "text/kaden-channel/kaden-channel-6244695.txt\n",
            "text/kaden-channel/kaden-channel-6247177.txt\n",
            "text/kaden-channel/kaden-channel-6247344.txt\n",
            "text/kaden-channel/kaden-channel-6248030.txt\n",
            "text/kaden-channel/kaden-channel-6248336.txt\n",
            "text/kaden-channel/kaden-channel-6248518.txt\n",
            "text/kaden-channel/kaden-channel-6249020.txt\n",
            "text/kaden-channel/kaden-channel-6249654.txt\n",
            "text/kaden-channel/kaden-channel-6250348.txt\n",
            "text/kaden-channel/kaden-channel-6250482.txt\n",
            "text/kaden-channel/kaden-channel-6250765.txt\n",
            "text/kaden-channel/kaden-channel-6250994.txt\n",
            "text/kaden-channel/kaden-channel-6251398.txt\n",
            "text/kaden-channel/kaden-channel-6251985.txt\n",
            "text/kaden-channel/kaden-channel-6252184.txt\n",
            "text/kaden-channel/kaden-channel-6252185.txt\n",
            "text/kaden-channel/kaden-channel-6252453.txt\n",
            "text/kaden-channel/kaden-channel-6252576.txt\n",
            "text/kaden-channel/kaden-channel-6253828.txt\n",
            "text/kaden-channel/kaden-channel-6254347.txt\n",
            "text/kaden-channel/kaden-channel-6254957.txt\n",
            "text/kaden-channel/kaden-channel-6255301.txt\n",
            "text/kaden-channel/kaden-channel-6257093.txt\n",
            "text/kaden-channel/kaden-channel-6257584.txt\n",
            "text/kaden-channel/kaden-channel-6258201.txt\n",
            "text/kaden-channel/kaden-channel-6258674.txt\n",
            "text/kaden-channel/kaden-channel-6260320.txt\n",
            "text/kaden-channel/kaden-channel-6260505.txt\n",
            "text/kaden-channel/kaden-channel-6261039.txt\n",
            "text/kaden-channel/kaden-channel-6261676.txt\n",
            "text/kaden-channel/kaden-channel-6263615.txt\n",
            "text/kaden-channel/kaden-channel-6264166.txt\n",
            "text/kaden-channel/kaden-channel-6265107.txt\n",
            "text/kaden-channel/kaden-channel-6265537.txt\n",
            "text/kaden-channel/kaden-channel-6267339.txt\n",
            "text/kaden-channel/kaden-channel-6268570.txt\n",
            "text/kaden-channel/kaden-channel-6270974.txt\n",
            "text/kaden-channel/kaden-channel-6271106.txt\n",
            "text/kaden-channel/kaden-channel-6272683.txt\n",
            "text/kaden-channel/kaden-channel-6274177.txt\n",
            "text/kaden-channel/kaden-channel-6275155.txt\n",
            "text/kaden-channel/kaden-channel-6277507.txt\n",
            "text/kaden-channel/kaden-channel-6278319.txt\n",
            "text/kaden-channel/kaden-channel-6278958.txt\n",
            "text/kaden-channel/kaden-channel-6279502.txt\n",
            "text/kaden-channel/kaden-channel-6280700.txt\n",
            "text/kaden-channel/kaden-channel-6281234.txt\n",
            "text/kaden-channel/kaden-channel-6282788.txt\n",
            "text/kaden-channel/kaden-channel-6284502.txt\n",
            "text/kaden-channel/kaden-channel-6285222.txt\n",
            "text/kaden-channel/kaden-channel-6285619.txt\n",
            "text/kaden-channel/kaden-channel-6287591.txt\n",
            "text/kaden-channel/kaden-channel-6288250.txt\n",
            "text/kaden-channel/kaden-channel-6290777.txt\n",
            "text/kaden-channel/kaden-channel-6291490.txt\n",
            "text/kaden-channel/kaden-channel-6292865.txt\n",
            "text/kaden-channel/kaden-channel-6293023.txt\n",
            "text/kaden-channel/kaden-channel-6294341.txt\n",
            "text/kaden-channel/kaden-channel-6295084.txt\n",
            "text/kaden-channel/kaden-channel-6299759.txt\n",
            "text/kaden-channel/kaden-channel-6301913.txt\n",
            "text/kaden-channel/kaden-channel-6302597.txt\n",
            "text/kaden-channel/kaden-channel-6305029.txt\n",
            "text/kaden-channel/kaden-channel-6306539.txt\n",
            "text/kaden-channel/kaden-channel-6308712.txt\n",
            "text/kaden-channel/kaden-channel-6309447.txt\n",
            "text/kaden-channel/kaden-channel-6310101.txt\n",
            "text/kaden-channel/kaden-channel-6312295.txt\n",
            "text/kaden-channel/kaden-channel-6312654.txt\n",
            "text/kaden-channel/kaden-channel-6312900.txt\n",
            "text/kaden-channel/kaden-channel-6314262.txt\n",
            "text/kaden-channel/kaden-channel-6314562.txt\n",
            "text/kaden-channel/kaden-channel-6316064.txt\n",
            "text/kaden-channel/kaden-channel-6317546.txt\n",
            "text/kaden-channel/kaden-channel-6317547.txt\n",
            "text/kaden-channel/kaden-channel-6319533.txt\n",
            "text/kaden-channel/kaden-channel-6319958.txt\n",
            "text/kaden-channel/kaden-channel-6320679.txt\n",
            "text/kaden-channel/kaden-channel-6320836.txt\n",
            "text/kaden-channel/kaden-channel-6322405.txt\n",
            "text/kaden-channel/kaden-channel-6322893.txt\n",
            "text/kaden-channel/kaden-channel-6323807.txt\n",
            "text/kaden-channel/kaden-channel-6326337.txt\n",
            "text/kaden-channel/kaden-channel-6327546.txt\n",
            "text/kaden-channel/kaden-channel-6330261.txt\n",
            "text/kaden-channel/kaden-channel-6330959.txt\n",
            "text/kaden-channel/kaden-channel-6331570.txt\n",
            "text/kaden-channel/kaden-channel-6334203.txt\n",
            "text/kaden-channel/kaden-channel-6334544.txt\n",
            "text/kaden-channel/kaden-channel-6334828.txt\n",
            "text/kaden-channel/kaden-channel-6335102.txt\n",
            "text/kaden-channel/kaden-channel-6336609.txt\n",
            "text/kaden-channel/kaden-channel-6338063.txt\n",
            "text/kaden-channel/kaden-channel-6339307.txt\n",
            "text/kaden-channel/kaden-channel-6341520.txt\n",
            "text/kaden-channel/kaden-channel-6342265.txt\n",
            "text/kaden-channel/kaden-channel-6342881.txt\n",
            "text/kaden-channel/kaden-channel-6345457.txt\n",
            "text/kaden-channel/kaden-channel-6348357.txt\n",
            "text/kaden-channel/kaden-channel-6349737.txt\n",
            "text/kaden-channel/kaden-channel-6349738.txt\n",
            "text/kaden-channel/kaden-channel-6350236.txt\n",
            "text/kaden-channel/kaden-channel-6351207.txt\n",
            "text/kaden-channel/kaden-channel-6351951.txt\n",
            "text/kaden-channel/kaden-channel-6352745.txt\n",
            "text/kaden-channel/kaden-channel-6353749.txt\n",
            "text/kaden-channel/kaden-channel-6355108.txt\n",
            "text/kaden-channel/kaden-channel-6357725.txt\n",
            "text/kaden-channel/kaden-channel-6360809.txt\n",
            "text/kaden-channel/kaden-channel-6363282.txt\n",
            "text/kaden-channel/kaden-channel-6368066.txt\n",
            "text/kaden-channel/kaden-channel-6370609.txt\n",
            "text/kaden-channel/kaden-channel-6371309.txt\n",
            "text/kaden-channel/kaden-channel-6375145.txt\n",
            "text/kaden-channel/kaden-channel-6376109.txt\n",
            "text/kaden-channel/kaden-channel-6378408.txt\n",
            "text/kaden-channel/kaden-channel-6380155.txt\n",
            "text/kaden-channel/kaden-channel-6380312.txt\n",
            "text/kaden-channel/kaden-channel-6385485.txt\n",
            "text/kaden-channel/kaden-channel-6387091.txt\n",
            "text/kaden-channel/kaden-channel-6388560.txt\n",
            "text/kaden-channel/kaden-channel-6391158.txt\n",
            "text/kaden-channel/kaden-channel-6391796.txt\n",
            "text/kaden-channel/kaden-channel-6395011.txt\n",
            "text/kaden-channel/kaden-channel-6395684.txt\n",
            "text/kaden-channel/kaden-channel-6398774.txt\n",
            "text/kaden-channel/kaden-channel-6399136.txt\n",
            "text/kaden-channel/kaden-channel-6400674.txt\n",
            "text/kaden-channel/kaden-channel-6400675.txt\n",
            "text/kaden-channel/kaden-channel-6402258.txt\n",
            "text/kaden-channel/kaden-channel-6403101.txt\n",
            "text/kaden-channel/kaden-channel-6403750.txt\n",
            "text/kaden-channel/kaden-channel-6406050.txt\n",
            "text/kaden-channel/kaden-channel-6406831.txt\n",
            "text/kaden-channel/kaden-channel-6408146.txt\n",
            "text/kaden-channel/kaden-channel-6410124.txt\n",
            "text/kaden-channel/kaden-channel-6410963.txt\n",
            "text/kaden-channel/kaden-channel-6416150.txt\n",
            "text/kaden-channel/kaden-channel-6417585.txt\n",
            "text/kaden-channel/kaden-channel-6422135.txt\n",
            "text/kaden-channel/kaden-channel-6422527.txt\n",
            "text/kaden-channel/kaden-channel-6429175.txt\n",
            "text/kaden-channel/kaden-channel-6431890.txt\n",
            "text/kaden-channel/kaden-channel-6434638.txt\n",
            "text/kaden-channel/kaden-channel-6435650.txt\n",
            "text/kaden-channel/kaden-channel-6436059.txt\n",
            "text/kaden-channel/kaden-channel-6439018.txt\n",
            "text/kaden-channel/kaden-channel-6442694.txt\n",
            "text/kaden-channel/kaden-channel-6444117.txt\n",
            "text/kaden-channel/kaden-channel-6448065.txt\n",
            "text/kaden-channel/kaden-channel-6449463.txt\n",
            "text/kaden-channel/kaden-channel-6450191.txt\n",
            "text/kaden-channel/kaden-channel-6453117.txt\n",
            "text/kaden-channel/kaden-channel-6456316.txt\n",
            "text/kaden-channel/kaden-channel-6457205.txt\n",
            "text/kaden-channel/kaden-channel-6460610.txt\n",
            "text/kaden-channel/kaden-channel-6461179.txt\n",
            "text/kaden-channel/kaden-channel-6461843.txt\n",
            "text/kaden-channel/kaden-channel-6464328.txt\n",
            "text/kaden-channel/kaden-channel-6468269.txt\n",
            "text/kaden-channel/kaden-channel-6468537.txt\n",
            "text/kaden-channel/kaden-channel-6470606.txt\n",
            "text/kaden-channel/kaden-channel-6471550.txt\n",
            "text/kaden-channel/kaden-channel-6472277.txt\n",
            "text/kaden-channel/kaden-channel-6472963.txt\n",
            "text/kaden-channel/kaden-channel-6476038.txt\n",
            "text/kaden-channel/kaden-channel-6479807.txt\n",
            "text/kaden-channel/kaden-channel-6480607.txt\n",
            "text/kaden-channel/kaden-channel-6482447.txt\n",
            "text/kaden-channel/kaden-channel-6484478.txt\n",
            "text/kaden-channel/kaden-channel-6486273.txt\n",
            "text/kaden-channel/kaden-channel-6490240.txt\n",
            "text/kaden-channel/kaden-channel-6492040.txt\n",
            "text/kaden-channel/kaden-channel-6494200.txt\n",
            "text/kaden-channel/kaden-channel-6494889.txt\n",
            "text/kaden-channel/kaden-channel-6496076.txt\n",
            "text/kaden-channel/kaden-channel-6497917.txt\n",
            "text/kaden-channel/kaden-channel-6501700.txt\n",
            "text/kaden-channel/kaden-channel-6507302.txt\n",
            "text/kaden-channel/kaden-channel-6509774.txt\n",
            "text/kaden-channel/kaden-channel-6510623.txt\n",
            "text/kaden-channel/kaden-channel-6514387.txt\n",
            "text/kaden-channel/kaden-channel-6516622.txt\n",
            "text/kaden-channel/kaden-channel-6516921.txt\n",
            "text/kaden-channel/kaden-channel-6518560.txt\n",
            "text/kaden-channel/kaden-channel-6520109.txt\n",
            "text/kaden-channel/kaden-channel-6523259.txt\n",
            "text/kaden-channel/kaden-channel-6526530.txt\n",
            "text/kaden-channel/kaden-channel-6528524.txt\n",
            "text/kaden-channel/kaden-channel-6530266.txt\n",
            "text/kaden-channel/kaden-channel-6532095.txt\n",
            "text/kaden-channel/kaden-channel-6534629.txt\n",
            "text/kaden-channel/kaden-channel-6536961.txt\n",
            "text/kaden-channel/kaden-channel-6537840.txt\n",
            "text/kaden-channel/kaden-channel-6548410.txt\n",
            "text/kaden-channel/kaden-channel-6550976.txt\n",
            "text/kaden-channel/kaden-channel-6551711.txt\n",
            "text/kaden-channel/kaden-channel-6552312.txt\n",
            "text/kaden-channel/kaden-channel-6554020.txt\n",
            "text/kaden-channel/kaden-channel-6555614.txt\n",
            "text/kaden-channel/kaden-channel-6560256.txt\n",
            "text/kaden-channel/kaden-channel-6563063.txt\n",
            "text/kaden-channel/kaden-channel-6567304.txt\n",
            "text/kaden-channel/kaden-channel-6568248.txt\n",
            "text/kaden-channel/kaden-channel-6574462.txt\n",
            "text/kaden-channel/kaden-channel-6574658.txt\n",
            "text/kaden-channel/kaden-channel-6575659.txt\n",
            "text/kaden-channel/kaden-channel-6577581.txt\n",
            "text/kaden-channel/kaden-channel-6578529.txt\n",
            "text/kaden-channel/kaden-channel-6582632.txt\n",
            "text/kaden-channel/kaden-channel-6585692.txt\n",
            "text/kaden-channel/kaden-channel-6586222.txt\n",
            "text/kaden-channel/kaden-channel-6594086.txt\n",
            "text/kaden-channel/kaden-channel-6597235.txt\n",
            "text/kaden-channel/kaden-channel-6600933.txt\n",
            "text/kaden-channel/kaden-channel-6601562.txt\n",
            "text/kaden-channel/kaden-channel-6604422.txt\n",
            "text/kaden-channel/kaden-channel-6608316.txt\n",
            "text/kaden-channel/kaden-channel-6615702.txt\n",
            "text/kaden-channel/kaden-channel-6617549.txt\n",
            "text/kaden-channel/kaden-channel-6620983.txt\n",
            "text/kaden-channel/kaden-channel-6623718.txt\n",
            "text/kaden-channel/kaden-channel-6626630.txt\n",
            "text/kaden-channel/kaden-channel-6630574.txt\n",
            "text/kaden-channel/kaden-channel-6631664.txt\n",
            "text/kaden-channel/kaden-channel-6635481.txt\n",
            "text/kaden-channel/kaden-channel-6642019.txt\n",
            "text/kaden-channel/kaden-channel-6644306.txt\n",
            "text/kaden-channel/kaden-channel-6645570.txt\n",
            "text/kaden-channel/kaden-channel-6647113.txt\n",
            "text/kaden-channel/kaden-channel-6652486.txt\n",
            "text/kaden-channel/kaden-channel-6656634.txt\n",
            "text/kaden-channel/kaden-channel-6660351.txt\n",
            "text/kaden-channel/kaden-channel-6663932.txt\n",
            "text/kaden-channel/kaden-channel-6666132.txt\n",
            "text/kaden-channel/kaden-channel-6672293.txt\n",
            "text/kaden-channel/kaden-channel-6679992.txt\n",
            "text/kaden-channel/kaden-channel-6688340.txt\n",
            "text/kaden-channel/kaden-channel-6693838.txt\n",
            "text/kaden-channel/kaden-channel-6706410.txt\n",
            "text/kaden-channel/kaden-channel-6708506.txt\n",
            "text/kaden-channel/kaden-channel-6709142.txt\n",
            "text/kaden-channel/kaden-channel-6709555.txt\n",
            "text/kaden-channel/kaden-channel-6711589.txt\n",
            "text/kaden-channel/kaden-channel-6712758.txt\n",
            "text/kaden-channel/kaden-channel-6713101.txt\n",
            "text/kaden-channel/kaden-channel-6718714.txt\n",
            "text/kaden-channel/kaden-channel-6720795.txt\n",
            "text/kaden-channel/kaden-channel-6722769.txt\n",
            "text/kaden-channel/kaden-channel-6726752.txt\n",
            "text/kaden-channel/kaden-channel-6730032.txt\n",
            "text/kaden-channel/kaden-channel-6736034.txt\n",
            "text/kaden-channel/kaden-channel-6737960.txt\n",
            "text/kaden-channel/kaden-channel-6738506.txt\n",
            "text/kaden-channel/kaden-channel-6742259.txt\n",
            "text/kaden-channel/kaden-channel-6745697.txt\n",
            "text/kaden-channel/kaden-channel-6749243.txt\n",
            "text/kaden-channel/kaden-channel-6750845.txt\n",
            "text/kaden-channel/kaden-channel-6751357.txt\n",
            "text/kaden-channel/kaden-channel-6753236.txt\n",
            "text/kaden-channel/kaden-channel-6754072.txt\n",
            "text/kaden-channel/kaden-channel-6759599.txt\n",
            "text/kaden-channel/kaden-channel-6761367.txt\n",
            "text/kaden-channel/kaden-channel-6763641.txt\n",
            "text/kaden-channel/kaden-channel-6764372.txt\n",
            "text/kaden-channel/kaden-channel-6771753.txt\n",
            "text/kaden-channel/kaden-channel-6773379.txt\n",
            "text/kaden-channel/kaden-channel-6780418.txt\n",
            "text/kaden-channel/kaden-channel-6781769.txt\n",
            "text/kaden-channel/kaden-channel-6782505.txt\n",
            "text/kaden-channel/kaden-channel-6785001.txt\n",
            "text/kaden-channel/kaden-channel-6786021.txt\n",
            "text/kaden-channel/kaden-channel-6788618.txt\n",
            "text/kaden-channel/kaden-channel-6800731.txt\n",
            "text/kaden-channel/kaden-channel-6804154.txt\n",
            "text/kaden-channel/kaden-channel-6804587.txt\n",
            "text/kaden-channel/kaden-channel-6811962.txt\n",
            "text/kaden-channel/kaden-channel-6812876.txt\n",
            "text/kaden-channel/kaden-channel-6814337.txt\n",
            "text/kaden-channel/kaden-channel-6816441.txt\n",
            "text/kaden-channel/kaden-channel-6817385.txt\n",
            "text/kaden-channel/kaden-channel-6817911.txt\n",
            "text/kaden-channel/kaden-channel-6820663.txt\n",
            "text/kaden-channel/kaden-channel-6822618.txt\n",
            "text/kaden-channel/kaden-channel-6823673.txt\n",
            "text/kaden-channel/kaden-channel-6824061.txt\n",
            "text/kaden-channel/kaden-channel-6825946.txt\n",
            "text/kaden-channel/kaden-channel-6827728.txt\n",
            "text/kaden-channel/kaden-channel-6828296.txt\n",
            "text/kaden-channel/kaden-channel-6828646.txt\n",
            "text/kaden-channel/kaden-channel-6831248.txt\n",
            "text/kaden-channel/kaden-channel-6831865.txt\n",
            "text/kaden-channel/kaden-channel-6832755.txt\n",
            "text/kaden-channel/kaden-channel-6834797.txt\n",
            "text/kaden-channel/kaden-channel-6836238.txt\n",
            "text/kaden-channel/kaden-channel-6839057.txt\n",
            "text/kaden-channel/kaden-channel-6839750.txt\n",
            "text/kaden-channel/kaden-channel-6840259.txt\n",
            "text/kaden-channel/kaden-channel-6842640.txt\n",
            "text/kaden-channel/kaden-channel-6844176.txt\n",
            "text/kaden-channel/kaden-channel-6844753.txt\n",
            "text/kaden-channel/kaden-channel-6846554.txt\n",
            "text/kaden-channel/kaden-channel-6847182.txt\n",
            "text/kaden-channel/kaden-channel-6848552.txt\n",
            "text/kaden-channel/kaden-channel-6850431.txt\n",
            "text/kaden-channel/kaden-channel-6851488.txt\n",
            "text/kaden-channel/kaden-channel-6853386.txt\n",
            "text/kaden-channel/kaden-channel-6856226.txt\n",
            "text/kaden-channel/kaden-channel-6857132.txt\n",
            "text/kaden-channel/kaden-channel-6858117.txt\n",
            "text/kaden-channel/kaden-channel-6859277.txt\n",
            "text/kaden-channel/kaden-channel-6859508.txt\n",
            "text/kaden-channel/kaden-channel-6862537.txt\n",
            "text/kaden-channel/kaden-channel-6863206.txt\n",
            "text/kaden-channel/kaden-channel-6864108.txt\n",
            "text/kaden-channel/kaden-channel-6865743.txt\n",
            "text/kaden-channel/kaden-channel-6866528.txt\n",
            "text/kaden-channel/kaden-channel-6869019.txt\n",
            "text/kaden-channel/kaden-channel-6869741.txt\n",
            "text/kaden-channel/kaden-channel-6870413.txt\n",
            "text/kaden-channel/kaden-channel-6872681.txt\n",
            "text/kaden-channel/kaden-channel-6873220.txt\n",
            "text/kaden-channel/kaden-channel-6873936.txt\n",
            "text/kaden-channel/kaden-channel-6876596.txt\n",
            "text/kaden-channel/kaden-channel-6877482.txt\n",
            "text/kaden-channel/kaden-channel-6877938.txt\n",
            "text/kaden-channel/kaden-channel-6878137.txt\n",
            "text/kaden-channel/kaden-channel-6880433.txt\n",
            "text/kaden-channel/kaden-channel-6881294.txt\n",
            "text/kaden-channel/kaden-channel-6883140.txt\n",
            "text/kaden-channel/kaden-channel-6884264.txt\n",
            "text/kaden-channel/kaden-channel-6885063.txt\n",
            "text/kaden-channel/kaden-channel-6886811.txt\n",
            "text/kaden-channel/kaden-channel-6888043.txt\n",
            "text/kaden-channel/kaden-channel-6891758.txt\n",
            "text/kaden-channel/kaden-channel-6892246.txt\n",
            "text/kaden-channel/kaden-channel-6895247.txt\n",
            "text/kaden-channel/kaden-channel-6896109.txt\n",
            "text/kaden-channel/kaden-channel-6896490.txt\n",
            "text/kaden-channel/kaden-channel-6896878.txt\n",
            "text/kaden-channel/kaden-channel-6899627.txt\n",
            "text/kaden-channel/kaden-channel-6900132.txt\n",
            "text/kaden-channel/kaden-channel-6900638.txt\n",
            "text/kaden-channel/kaden-channel-6904628.txt\n",
            "text/kaden-channel/kaden-channel-6907482.txt\n",
            "text/kaden-channel/kaden-channel-6908995.txt\n",
            "text/kaden-channel/kaden-channel-6912096.txt\n",
            "text/kaden-channel/kaden-channel-6912640.txt\n",
            "text/kaden-channel/kaden-channel-6914010.txt\n",
            "text/kaden-channel/kaden-channel-6914536.txt\n",
            "text/kaden-channel/kaden-channel-6915463.txt\n",
            "text/kaden-channel/kaden-channel-6919353.txt\n",
            "text/kaden-channel/LICENSE.txt\n",
            "text/it-life-hack/it-life-hack-6292880.txt\n",
            "text/it-life-hack/it-life-hack-6294340.txt\n",
            "text/it-life-hack/it-life-hack-6294574.txt\n",
            "text/it-life-hack/it-life-hack-6295327.txt\n",
            "text/it-life-hack/it-life-hack-6295722.txt\n",
            "text/it-life-hack/it-life-hack-6295889.txt\n",
            "text/it-life-hack/it-life-hack-6296655.txt\n",
            "text/it-life-hack/it-life-hack-6297803.txt\n",
            "text/it-life-hack/it-life-hack-6298091.txt\n",
            "text/it-life-hack/it-life-hack-6298594.txt\n",
            "text/it-life-hack/it-life-hack-6298871.txt\n",
            "text/it-life-hack/it-life-hack-6299008.txt\n",
            "text/it-life-hack/it-life-hack-6299433.txt\n",
            "text/it-life-hack/it-life-hack-6299640.txt\n",
            "text/it-life-hack/it-life-hack-6300066.txt\n",
            "text/it-life-hack/it-life-hack-6301422.txt\n",
            "text/it-life-hack/it-life-hack-6301650.txt\n",
            "text/it-life-hack/it-life-hack-6301945.txt\n",
            "text/it-life-hack/it-life-hack-6302428.txt\n",
            "text/it-life-hack/it-life-hack-6302814.txt\n",
            "text/it-life-hack/it-life-hack-6303141.txt\n",
            "text/it-life-hack/it-life-hack-6303524.txt\n",
            "text/it-life-hack/it-life-hack-6305025.txt\n",
            "text/it-life-hack/it-life-hack-6305204.txt\n",
            "text/it-life-hack/it-life-hack-6306079.txt\n",
            "text/it-life-hack/it-life-hack-6306547.txt\n",
            "text/it-life-hack/it-life-hack-6306744.txt\n",
            "text/it-life-hack/it-life-hack-6307036.txt\n",
            "text/it-life-hack/it-life-hack-6308617.txt\n",
            "text/it-life-hack/it-life-hack-6308863.txt\n",
            "text/it-life-hack/it-life-hack-6309721.txt\n",
            "text/it-life-hack/it-life-hack-6310068.txt\n",
            "text/it-life-hack/it-life-hack-6311060.txt\n",
            "text/it-life-hack/it-life-hack-6312412.txt\n",
            "text/it-life-hack/it-life-hack-6312810.txt\n",
            "text/it-life-hack/it-life-hack-6314198.txt\n",
            "text/it-life-hack/it-life-hack-6314499.txt\n",
            "text/it-life-hack/it-life-hack-6314850.txt\n",
            "text/it-life-hack/it-life-hack-6315696.txt\n",
            "text/it-life-hack/it-life-hack-6316049.txt\n",
            "text/it-life-hack/it-life-hack-6316878.txt\n",
            "text/it-life-hack/it-life-hack-6317401.txt\n",
            "text/it-life-hack/it-life-hack-6317403.txt\n",
            "text/it-life-hack/it-life-hack-6317734.txt\n",
            "text/it-life-hack/it-life-hack-6317735.txt\n",
            "text/it-life-hack/it-life-hack-6318520.txt\n",
            "text/it-life-hack/it-life-hack-6319335.txt\n",
            "text/it-life-hack/it-life-hack-6319492.txt\n",
            "text/it-life-hack/it-life-hack-6320180.txt\n",
            "text/it-life-hack/it-life-hack-6320644.txt\n",
            "text/it-life-hack/it-life-hack-6320956.txt\n",
            "text/it-life-hack/it-life-hack-6320981.txt\n",
            "text/it-life-hack/it-life-hack-6321386.txt\n",
            "text/it-life-hack/it-life-hack-6322469.txt\n",
            "text/it-life-hack/it-life-hack-6322658.txt\n",
            "text/it-life-hack/it-life-hack-6323375.txt\n",
            "text/it-life-hack/it-life-hack-6323785.txt\n",
            "text/it-life-hack/it-life-hack-6324538.txt\n",
            "text/it-life-hack/it-life-hack-6326089.txt\n",
            "text/it-life-hack/it-life-hack-6326265.txt\n",
            "text/it-life-hack/it-life-hack-6327277.txt\n",
            "text/it-life-hack/it-life-hack-6328231.txt\n",
            "text/it-life-hack/it-life-hack-6330313.txt\n",
            "text/it-life-hack/it-life-hack-6330386.txt\n",
            "text/it-life-hack/it-life-hack-6331154.txt\n",
            "text/it-life-hack/it-life-hack-6331540.txt\n",
            "text/it-life-hack/it-life-hack-6331762.txt\n",
            "text/it-life-hack/it-life-hack-6332517.txt\n",
            "text/it-life-hack/it-life-hack-6334262.txt\n",
            "text/it-life-hack/it-life-hack-6334919.txt\n",
            "text/it-life-hack/it-life-hack-6336157.txt\n",
            "text/it-life-hack/it-life-hack-6336701.txt\n",
            "text/it-life-hack/it-life-hack-6337585.txt\n",
            "text/it-life-hack/it-life-hack-6337707.txt\n",
            "text/it-life-hack/it-life-hack-6337929.txt\n",
            "text/it-life-hack/it-life-hack-6338775.txt\n",
            "text/it-life-hack/it-life-hack-6339049.txt\n",
            "text/it-life-hack/it-life-hack-6339602.txt\n",
            "text/it-life-hack/it-life-hack-6340240.txt\n",
            "text/it-life-hack/it-life-hack-6341392.txt\n",
            "text/it-life-hack/it-life-hack-6341599.txt\n",
            "text/it-life-hack/it-life-hack-6342280.txt\n",
            "text/it-life-hack/it-life-hack-6342693.txt\n",
            "text/it-life-hack/it-life-hack-6342771.txt\n",
            "text/it-life-hack/it-life-hack-6343088.txt\n",
            "text/it-life-hack/it-life-hack-6343480.txt\n",
            "text/it-life-hack/it-life-hack-6344739.txt\n",
            "text/it-life-hack/it-life-hack-6344928.txt\n",
            "text/it-life-hack/it-life-hack-6345678.txt\n",
            "text/it-life-hack/it-life-hack-6346076.txt\n",
            "text/it-life-hack/it-life-hack-6346531.txt\n",
            "text/it-life-hack/it-life-hack-6347029.txt\n",
            "text/it-life-hack/it-life-hack-6348328.txt\n",
            "text/it-life-hack/it-life-hack-6348536.txt\n",
            "text/it-life-hack/it-life-hack-6349296.txt\n",
            "text/it-life-hack/it-life-hack-6349935.txt\n",
            "text/it-life-hack/it-life-hack-6350168.txt\n",
            "text/it-life-hack/it-life-hack-6350606.txt\n",
            "text/it-life-hack/it-life-hack-6351981.txt\n",
            "text/it-life-hack/it-life-hack-6352160.txt\n",
            "text/it-life-hack/it-life-hack-6352933.txt\n",
            "text/it-life-hack/it-life-hack-6353340.txt\n",
            "text/it-life-hack/it-life-hack-6353794.txt\n",
            "text/it-life-hack/it-life-hack-6354283.txt\n",
            "text/it-life-hack/it-life-hack-6356006.txt\n",
            "text/it-life-hack/it-life-hack-6356884.txt\n",
            "text/it-life-hack/it-life-hack-6357893.txt\n",
            "text/it-life-hack/it-life-hack-6358401.txt\n",
            "text/it-life-hack/it-life-hack-6358776.txt\n",
            "text/it-life-hack/it-life-hack-6359629.txt\n",
            "text/it-life-hack/it-life-hack-6360590.txt\n",
            "text/it-life-hack/it-life-hack-6360984.txt\n",
            "text/it-life-hack/it-life-hack-6361347.txt\n",
            "text/it-life-hack/it-life-hack-6361770.txt\n",
            "text/it-life-hack/it-life-hack-6362955.txt\n",
            "text/it-life-hack/it-life-hack-6363033.txt\n",
            "text/it-life-hack/it-life-hack-6364030.txt\n",
            "text/it-life-hack/it-life-hack-6364434.txt\n",
            "text/it-life-hack/it-life-hack-6365378.txt\n",
            "text/it-life-hack/it-life-hack-6366121.txt\n",
            "text/it-life-hack/it-life-hack-6366615.txt\n",
            "text/it-life-hack/it-life-hack-6367580.txt\n",
            "text/it-life-hack/it-life-hack-6368111.txt\n",
            "text/it-life-hack/it-life-hack-6368566.txt\n",
            "text/it-life-hack/it-life-hack-6369088.txt\n",
            "text/it-life-hack/it-life-hack-6370459.txt\n",
            "text/it-life-hack/it-life-hack-6370867.txt\n",
            "text/it-life-hack/it-life-hack-6371521.txt\n",
            "text/it-life-hack/it-life-hack-6371966.txt\n",
            "text/it-life-hack/it-life-hack-6372178.txt\n",
            "text/it-life-hack/it-life-hack-6372414.txt\n",
            "text/it-life-hack/it-life-hack-6372897.txt\n",
            "text/it-life-hack/it-life-hack-6374245.txt\n",
            "text/it-life-hack/it-life-hack-6374433.txt\n",
            "text/it-life-hack/it-life-hack-6375285.txt\n",
            "text/it-life-hack/it-life-hack-6375726.txt\n",
            "text/it-life-hack/it-life-hack-6376256.txt\n",
            "text/it-life-hack/it-life-hack-6378153.txt\n",
            "text/it-life-hack/it-life-hack-6378966.txt\n",
            "text/it-life-hack/it-life-hack-6379949.txt\n",
            "text/it-life-hack/it-life-hack-6380347.txt\n",
            "text/it-life-hack/it-life-hack-6380568.txt\n",
            "text/it-life-hack/it-life-hack-6381551.txt\n",
            "text/it-life-hack/it-life-hack-6381722.txt\n",
            "text/it-life-hack/it-life-hack-6382883.txt\n",
            "text/it-life-hack/it-life-hack-6383797.txt\n",
            "text/it-life-hack/it-life-hack-6385021.txt\n",
            "text/it-life-hack/it-life-hack-6385132.txt\n",
            "text/it-life-hack/it-life-hack-6385394.txt\n",
            "text/it-life-hack/it-life-hack-6385690.txt\n",
            "text/it-life-hack/it-life-hack-6386028.txt\n",
            "text/it-life-hack/it-life-hack-6387056.txt\n",
            "text/it-life-hack/it-life-hack-6387252.txt\n",
            "text/it-life-hack/it-life-hack-6388083.txt\n",
            "text/it-life-hack/it-life-hack-6388496.txt\n",
            "text/it-life-hack/it-life-hack-6389020.txt\n",
            "text/it-life-hack/it-life-hack-6389515.txt\n",
            "text/it-life-hack/it-life-hack-6389784.txt\n",
            "text/it-life-hack/it-life-hack-6390865.txt\n",
            "text/it-life-hack/it-life-hack-6391092.txt\n",
            "text/it-life-hack/it-life-hack-6391974.txt\n",
            "text/it-life-hack/it-life-hack-6392454.txt\n",
            "text/it-life-hack/it-life-hack-6392936.txt\n",
            "text/it-life-hack/it-life-hack-6393499.txt\n",
            "text/it-life-hack/it-life-hack-6394776.txt\n",
            "text/it-life-hack/it-life-hack-6394785.txt\n",
            "text/it-life-hack/it-life-hack-6395850.txt\n",
            "text/it-life-hack/it-life-hack-6396370.txt\n",
            "text/it-life-hack/it-life-hack-6396799.txt\n",
            "text/it-life-hack/it-life-hack-6397553.txt\n",
            "text/it-life-hack/it-life-hack-6398617.txt\n",
            "text/it-life-hack/it-life-hack-6399615.txt\n",
            "text/it-life-hack/it-life-hack-6400447.txt\n",
            "text/it-life-hack/it-life-hack-6401326.txt\n",
            "text/it-life-hack/it-life-hack-6402220.txt\n",
            "text/it-life-hack/it-life-hack-6402439.txt\n",
            "text/it-life-hack/it-life-hack-6402950.txt\n",
            "text/it-life-hack/it-life-hack-6403686.txt\n",
            "text/it-life-hack/it-life-hack-6404631.txt\n",
            "text/it-life-hack/it-life-hack-6405975.txt\n",
            "text/it-life-hack/it-life-hack-6406196.txt\n",
            "text/it-life-hack/it-life-hack-6407048.txt\n",
            "text/it-life-hack/it-life-hack-6407504.txt\n",
            "text/it-life-hack/it-life-hack-6407997.txt\n",
            "text/it-life-hack/it-life-hack-6408498.txt\n",
            "text/it-life-hack/it-life-hack-6409860.txt\n",
            "text/it-life-hack/it-life-hack-6410038.txt\n",
            "text/it-life-hack/it-life-hack-6410919.txt\n",
            "text/it-life-hack/it-life-hack-6411370.txt\n",
            "text/it-life-hack/it-life-hack-6411873.txt\n",
            "text/it-life-hack/it-life-hack-6412671.txt\n",
            "text/it-life-hack/it-life-hack-6413785.txt\n",
            "text/it-life-hack/it-life-hack-6413969.txt\n",
            "text/it-life-hack/it-life-hack-6414848.txt\n",
            "text/it-life-hack/it-life-hack-6415260.txt\n",
            "text/it-life-hack/it-life-hack-6416069.txt\n",
            "text/it-life-hack/it-life-hack-6416524.txt\n",
            "text/it-life-hack/it-life-hack-6417543.txt\n",
            "text/it-life-hack/it-life-hack-6417765.txt\n",
            "text/it-life-hack/it-life-hack-6418916.txt\n",
            "text/it-life-hack/it-life-hack-6419443.txt\n",
            "text/it-life-hack/it-life-hack-6419961.txt\n",
            "text/it-life-hack/it-life-hack-6420401.txt\n",
            "text/it-life-hack/it-life-hack-6423324.txt\n",
            "text/it-life-hack/it-life-hack-6424692.txt\n",
            "text/it-life-hack/it-life-hack-6425663.txt\n",
            "text/it-life-hack/it-life-hack-6426765.txt\n",
            "text/it-life-hack/it-life-hack-6426966.txt\n",
            "text/it-life-hack/it-life-hack-6427732.txt\n",
            "text/it-life-hack/it-life-hack-6428161.txt\n",
            "text/it-life-hack/it-life-hack-6428816.txt\n",
            "text/it-life-hack/it-life-hack-6429203.txt\n",
            "text/it-life-hack/it-life-hack-6429762.txt\n",
            "text/it-life-hack/it-life-hack-6430616.txt\n",
            "text/it-life-hack/it-life-hack-6430944.txt\n",
            "text/it-life-hack/it-life-hack-6432715.txt\n",
            "text/it-life-hack/it-life-hack-6432744.txt\n",
            "text/it-life-hack/it-life-hack-6433376.txt\n",
            "text/it-life-hack/it-life-hack-6434602.txt\n",
            "text/it-life-hack/it-life-hack-6434809.txt\n",
            "text/it-life-hack/it-life-hack-6435653.txt\n",
            "text/it-life-hack/it-life-hack-6436077.txt\n",
            "text/it-life-hack/it-life-hack-6436703.txt\n",
            "text/it-life-hack/it-life-hack-6437086.txt\n",
            "text/it-life-hack/it-life-hack-6438462.txt\n",
            "text/it-life-hack/it-life-hack-6438708.txt\n",
            "text/it-life-hack/it-life-hack-6439479.txt\n",
            "text/it-life-hack/it-life-hack-6439901.txt\n",
            "text/it-life-hack/it-life-hack-6440373.txt\n",
            "text/it-life-hack/it-life-hack-6442219.txt\n",
            "text/it-life-hack/it-life-hack-6442413.txt\n",
            "text/it-life-hack/it-life-hack-6443074.txt\n",
            "text/it-life-hack/it-life-hack-6443684.txt\n",
            "text/it-life-hack/it-life-hack-6444123.txt\n",
            "text/it-life-hack/it-life-hack-6444665.txt\n",
            "text/it-life-hack/it-life-hack-6446006.txt\n",
            "text/it-life-hack/it-life-hack-6446978.txt\n",
            "text/it-life-hack/it-life-hack-6447851.txt\n",
            "text/it-life-hack/it-life-hack-6448669.txt\n",
            "text/it-life-hack/it-life-hack-6449181.txt\n",
            "text/it-life-hack/it-life-hack-6450329.txt\n",
            "text/it-life-hack/it-life-hack-6450742.txt\n",
            "text/it-life-hack/it-life-hack-6451189.txt\n",
            "text/it-life-hack/it-life-hack-6451430.txt\n",
            "text/it-life-hack/it-life-hack-6451634.txt\n",
            "text/it-life-hack/it-life-hack-6452842.txt\n",
            "text/it-life-hack/it-life-hack-6453038.txt\n",
            "text/it-life-hack/it-life-hack-6453874.txt\n",
            "text/it-life-hack/it-life-hack-6454284.txt\n",
            "text/it-life-hack/it-life-hack-6454792.txt\n",
            "text/it-life-hack/it-life-hack-6455308.txt\n",
            "text/it-life-hack/it-life-hack-6456502.txt\n",
            "text/it-life-hack/it-life-hack-6456711.txt\n",
            "text/it-life-hack/it-life-hack-6457584.txt\n",
            "text/it-life-hack/it-life-hack-6458003.txt\n",
            "text/it-life-hack/it-life-hack-6458458.txt\n",
            "text/it-life-hack/it-life-hack-6459379.txt\n",
            "text/it-life-hack/it-life-hack-6460281.txt\n",
            "text/it-life-hack/it-life-hack-6460511.txt\n",
            "text/it-life-hack/it-life-hack-6461325.txt\n",
            "text/it-life-hack/it-life-hack-6461732.txt\n",
            "text/it-life-hack/it-life-hack-6462896.txt\n",
            "text/it-life-hack/it-life-hack-6463315.txt\n",
            "text/it-life-hack/it-life-hack-6464019.txt\n",
            "text/it-life-hack/it-life-hack-6464209.txt\n",
            "text/it-life-hack/it-life-hack-6464957.txt\n",
            "text/it-life-hack/it-life-hack-6465519.txt\n",
            "text/it-life-hack/it-life-hack-6465990.txt\n",
            "text/it-life-hack/it-life-hack-6466760.txt\n",
            "text/it-life-hack/it-life-hack-6468311.txt\n",
            "text/it-life-hack/it-life-hack-6468839.txt\n",
            "text/it-life-hack/it-life-hack-6470208.txt\n",
            "text/it-life-hack/it-life-hack-6470626.txt\n",
            "text/it-life-hack/it-life-hack-6471517.txt\n",
            "text/it-life-hack/it-life-hack-6471693.txt\n",
            "text/it-life-hack/it-life-hack-6472336.txt\n",
            "text/it-life-hack/it-life-hack-6472873.txt\n",
            "text/it-life-hack/it-life-hack-6473300.txt\n",
            "text/it-life-hack/it-life-hack-6473542.txt\n",
            "text/it-life-hack/it-life-hack-6473700.txt\n",
            "text/it-life-hack/it-life-hack-6474818.txt\n",
            "text/it-life-hack/it-life-hack-6475027.txt\n",
            "text/it-life-hack/it-life-hack-6475856.txt\n",
            "text/it-life-hack/it-life-hack-6476286.txt\n",
            "text/it-life-hack/it-life-hack-6476833.txt\n",
            "text/it-life-hack/it-life-hack-6477970.txt\n",
            "text/it-life-hack/it-life-hack-6478532.txt\n",
            "text/it-life-hack/it-life-hack-6478741.txt\n",
            "text/it-life-hack/it-life-hack-6479953.txt\n",
            "text/it-life-hack/it-life-hack-6480343.txt\n",
            "text/it-life-hack/it-life-hack-6481135.txt\n",
            "text/it-life-hack/it-life-hack-6482392.txt\n",
            "text/it-life-hack/it-life-hack-6482631.txt\n",
            "text/it-life-hack/it-life-hack-6483486.txt\n",
            "text/it-life-hack/it-life-hack-6483949.txt\n",
            "text/it-life-hack/it-life-hack-6484639.txt\n",
            "text/it-life-hack/it-life-hack-6486243.txt\n",
            "text/it-life-hack/it-life-hack-6486438.txt\n",
            "text/it-life-hack/it-life-hack-6487365.txt\n",
            "text/it-life-hack/it-life-hack-6487777.txt\n",
            "text/it-life-hack/it-life-hack-6488300.txt\n",
            "text/it-life-hack/it-life-hack-6488847.txt\n",
            "text/it-life-hack/it-life-hack-6490100.txt\n",
            "text/it-life-hack/it-life-hack-6490721.txt\n",
            "text/it-life-hack/it-life-hack-6492102.txt\n",
            "text/it-life-hack/it-life-hack-6492881.txt\n",
            "text/it-life-hack/it-life-hack-6493877.txt\n",
            "text/it-life-hack/it-life-hack-6494106.txt\n",
            "text/it-life-hack/it-life-hack-6494894.txt\n",
            "text/it-life-hack/it-life-hack-6495338.txt\n",
            "text/it-life-hack/it-life-hack-6496722.txt\n",
            "text/it-life-hack/it-life-hack-6496842.txt\n",
            "text/it-life-hack/it-life-hack-6497659.txt\n",
            "text/it-life-hack/it-life-hack-6497966.txt\n",
            "text/it-life-hack/it-life-hack-6499164.txt\n",
            "text/it-life-hack/it-life-hack-6500283.txt\n",
            "text/it-life-hack/it-life-hack-6501379.txt\n",
            "text/it-life-hack/it-life-hack-6501617.txt\n",
            "text/it-life-hack/it-life-hack-6502510.txt\n",
            "text/it-life-hack/it-life-hack-6503460.txt\n",
            "text/it-life-hack/it-life-hack-6504036.txt\n",
            "text/it-life-hack/it-life-hack-6504540.txt\n",
            "text/it-life-hack/it-life-hack-6505621.txt\n",
            "text/it-life-hack/it-life-hack-6506494.txt\n",
            "text/it-life-hack/it-life-hack-6506987.txt\n",
            "text/it-life-hack/it-life-hack-6507431.txt\n",
            "text/it-life-hack/it-life-hack-6509420.txt\n",
            "text/it-life-hack/it-life-hack-6509651.txt\n",
            "text/it-life-hack/it-life-hack-6510638.txt\n",
            "text/it-life-hack/it-life-hack-6511262.txt\n",
            "text/it-life-hack/it-life-hack-6511948.txt\n",
            "text/it-life-hack/it-life-hack-6514059.txt\n",
            "text/it-life-hack/it-life-hack-6514597.txt\n",
            "text/it-life-hack/it-life-hack-6515740.txt\n",
            "text/it-life-hack/it-life-hack-6516681.txt\n",
            "text/it-life-hack/it-life-hack-6517094.txt\n",
            "text/it-life-hack/it-life-hack-6517982.txt\n",
            "text/it-life-hack/it-life-hack-6518989.txt\n",
            "text/it-life-hack/it-life-hack-6520002.txt\n",
            "text/it-life-hack/it-life-hack-6521440.txt\n",
            "text/it-life-hack/it-life-hack-6523213.txt\n",
            "text/it-life-hack/it-life-hack-6524177.txt\n",
            "text/it-life-hack/it-life-hack-6526318.txt\n",
            "text/it-life-hack/it-life-hack-6527513.txt\n",
            "text/it-life-hack/it-life-hack-6528340.txt\n",
            "text/it-life-hack/it-life-hack-6530273.txt\n",
            "text/it-life-hack/it-life-hack-6532010.txt\n",
            "text/it-life-hack/it-life-hack-6532726.txt\n",
            "text/it-life-hack/it-life-hack-6533615.txt\n",
            "text/it-life-hack/it-life-hack-6533787.txt\n",
            "text/it-life-hack/it-life-hack-6534466.txt\n",
            "text/it-life-hack/it-life-hack-6534832.txt\n",
            "text/it-life-hack/it-life-hack-6536024.txt\n",
            "text/it-life-hack/it-life-hack-6536066.txt\n",
            "text/it-life-hack/it-life-hack-6536765.txt\n",
            "text/it-life-hack/it-life-hack-6536920.txt\n",
            "text/it-life-hack/it-life-hack-6537745.txt\n",
            "text/it-life-hack/it-life-hack-6538177.txt\n",
            "text/it-life-hack/it-life-hack-6538606.txt\n",
            "text/it-life-hack/it-life-hack-6540527.txt\n",
            "text/it-life-hack/it-life-hack-6540729.txt\n",
            "text/it-life-hack/it-life-hack-6541547.txt\n",
            "text/it-life-hack/it-life-hack-6541742.txt\n",
            "text/it-life-hack/it-life-hack-6541754.txt\n",
            "text/it-life-hack/it-life-hack-6542449.txt\n",
            "text/it-life-hack/it-life-hack-6544189.txt\n",
            "text/it-life-hack/it-life-hack-6544384.txt\n",
            "text/it-life-hack/it-life-hack-6545176.txt\n",
            "text/it-life-hack/it-life-hack-6545602.txt\n",
            "text/it-life-hack/it-life-hack-6546293.txt\n",
            "text/it-life-hack/it-life-hack-6547890.txt\n",
            "text/it-life-hack/it-life-hack-6548067.txt\n",
            "text/it-life-hack/it-life-hack-6548858.txt\n",
            "text/it-life-hack/it-life-hack-6549321.txt\n",
            "text/it-life-hack/it-life-hack-6549800.txt\n",
            "text/it-life-hack/it-life-hack-6551783.txt\n",
            "text/it-life-hack/it-life-hack-6552694.txt\n",
            "text/it-life-hack/it-life-hack-6554415.txt\n",
            "text/it-life-hack/it-life-hack-6555411.txt\n",
            "text/it-life-hack/it-life-hack-6555615.txt\n",
            "text/it-life-hack/it-life-hack-6556361.txt\n",
            "text/it-life-hack/it-life-hack-6556734.txt\n",
            "text/it-life-hack/it-life-hack-6557615.txt\n",
            "text/it-life-hack/it-life-hack-6559132.txt\n",
            "text/it-life-hack/it-life-hack-6559330.txt\n",
            "text/it-life-hack/it-life-hack-6559410.txt\n",
            "text/it-life-hack/it-life-hack-6559534.txt\n",
            "text/it-life-hack/it-life-hack-6560582.txt\n",
            "text/it-life-hack/it-life-hack-6561018.txt\n",
            "text/it-life-hack/it-life-hack-6561279.txt\n",
            "text/it-life-hack/it-life-hack-6562801.txt\n",
            "text/it-life-hack/it-life-hack-6563057.txt\n",
            "text/it-life-hack/it-life-hack-6563785.txt\n",
            "text/it-life-hack/it-life-hack-6564398.txt\n",
            "text/it-life-hack/it-life-hack-6564883.txt\n",
            "text/it-life-hack/it-life-hack-6565626.txt\n",
            "text/it-life-hack/it-life-hack-6567068.txt\n",
            "text/it-life-hack/it-life-hack-6567280.txt\n",
            "text/it-life-hack/it-life-hack-6568107.txt\n",
            "text/it-life-hack/it-life-hack-6568544.txt\n",
            "text/it-life-hack/it-life-hack-6568890.txt\n",
            "text/it-life-hack/it-life-hack-6569526.txt\n",
            "text/it-life-hack/it-life-hack-6570806.txt\n",
            "text/it-life-hack/it-life-hack-6570980.txt\n",
            "text/it-life-hack/it-life-hack-6571808.txt\n",
            "text/it-life-hack/it-life-hack-6572234.txt\n",
            "text/it-life-hack/it-life-hack-6573792.txt\n",
            "text/it-life-hack/it-life-hack-6574653.txt\n",
            "text/it-life-hack/it-life-hack-6575898.txt\n",
            "text/it-life-hack/it-life-hack-6576574.txt\n",
            "text/it-life-hack/it-life-hack-6577408.txt\n",
            "text/it-life-hack/it-life-hack-6578327.txt\n",
            "text/it-life-hack/it-life-hack-6578510.txt\n",
            "text/it-life-hack/it-life-hack-6579691.txt\n",
            "text/it-life-hack/it-life-hack-6580094.txt\n",
            "text/it-life-hack/it-life-hack-6580531.txt\n",
            "text/it-life-hack/it-life-hack-6581759.txt\n",
            "text/it-life-hack/it-life-hack-6581954.txt\n",
            "text/it-life-hack/it-life-hack-6582752.txt\n",
            "text/it-life-hack/it-life-hack-6583163.txt\n",
            "text/it-life-hack/it-life-hack-6583637.txt\n",
            "text/it-life-hack/it-life-hack-6585066.txt\n",
            "text/it-life-hack/it-life-hack-6585593.txt\n",
            "text/it-life-hack/it-life-hack-6586358.txt\n",
            "text/it-life-hack/it-life-hack-6586747.txt\n",
            "text/it-life-hack/it-life-hack-6587522.txt\n",
            "text/it-life-hack/it-life-hack-6589060.txt\n",
            "text/it-life-hack/it-life-hack-6589267.txt\n",
            "text/it-life-hack/it-life-hack-6590061.txt\n",
            "text/it-life-hack/it-life-hack-6590267.txt\n",
            "text/it-life-hack/it-life-hack-6590712.txt\n",
            "text/it-life-hack/it-life-hack-6592925.txt\n",
            "text/it-life-hack/it-life-hack-6593130.txt\n",
            "text/it-life-hack/it-life-hack-6593958.txt\n",
            "text/it-life-hack/it-life-hack-6594418.txt\n",
            "text/it-life-hack/it-life-hack-6595464.txt\n",
            "text/it-life-hack/it-life-hack-6596899.txt\n",
            "text/it-life-hack/it-life-hack-6598803.txt\n",
            "text/it-life-hack/it-life-hack-6600578.txt\n",
            "text/it-life-hack/it-life-hack-6600758.txt\n",
            "text/it-life-hack/it-life-hack-6601550.txt\n",
            "text/it-life-hack/it-life-hack-6602191.txt\n",
            "text/it-life-hack/it-life-hack-6602650.txt\n",
            "text/it-life-hack/it-life-hack-6604030.txt\n",
            "text/it-life-hack/it-life-hack-6604237.txt\n",
            "text/it-life-hack/it-life-hack-6604951.txt\n",
            "text/it-life-hack/it-life-hack-6605473.txt\n",
            "text/it-life-hack/it-life-hack-6605921.txt\n",
            "text/it-life-hack/it-life-hack-6607253.txt\n",
            "text/it-life-hack/it-life-hack-6607699.txt\n",
            "text/it-life-hack/it-life-hack-6608171.txt\n",
            "text/it-life-hack/it-life-hack-6608703.txt\n",
            "text/it-life-hack/it-life-hack-6610486.txt\n",
            "text/it-life-hack/it-life-hack-6611530.txt\n",
            "text/it-life-hack/it-life-hack-6611729.txt\n",
            "text/it-life-hack/it-life-hack-6612842.txt\n",
            "text/it-life-hack/it-life-hack-6613266.txt\n",
            "text/it-life-hack/it-life-hack-6614012.txt\n",
            "text/it-life-hack/it-life-hack-6615323.txt\n",
            "text/it-life-hack/it-life-hack-6615506.txt\n",
            "text/it-life-hack/it-life-hack-6616488.txt\n",
            "text/it-life-hack/it-life-hack-6616913.txt\n",
            "text/it-life-hack/it-life-hack-6618515.txt\n",
            "text/it-life-hack/it-life-hack-6619201.txt\n",
            "text/it-life-hack/it-life-hack-6621021.txt\n",
            "text/it-life-hack/it-life-hack-6621849.txt\n",
            "text/it-life-hack/it-life-hack-6622862.txt\n",
            "text/it-life-hack/it-life-hack-6623116.txt\n",
            "text/it-life-hack/it-life-hack-6623842.txt\n",
            "text/it-life-hack/it-life-hack-6624223.txt\n",
            "text/it-life-hack/it-life-hack-6624672.txt\n",
            "text/it-life-hack/it-life-hack-6626416.txt\n",
            "text/it-life-hack/it-life-hack-6626631.txt\n",
            "text/it-life-hack/it-life-hack-6627487.txt\n",
            "text/it-life-hack/it-life-hack-6627907.txt\n",
            "text/it-life-hack/it-life-hack-6628356.txt\n",
            "text/it-life-hack/it-life-hack-6628887.txt\n",
            "text/it-life-hack/it-life-hack-6630274.txt\n",
            "text/it-life-hack/it-life-hack-6630489.txt\n",
            "text/it-life-hack/it-life-hack-6631260.txt\n",
            "text/it-life-hack/it-life-hack-6631652.txt\n",
            "text/it-life-hack/it-life-hack-6632089.txt\n",
            "text/it-life-hack/it-life-hack-6634027.txt\n",
            "text/it-life-hack/it-life-hack-6634270.txt\n",
            "text/it-life-hack/it-life-hack-6635048.txt\n",
            "text/it-life-hack/it-life-hack-6635489.txt\n",
            "text/it-life-hack/it-life-hack-6635951.txt\n",
            "text/it-life-hack/it-life-hack-6637834.txt\n",
            "text/it-life-hack/it-life-hack-6638017.txt\n",
            "text/it-life-hack/it-life-hack-6638851.txt\n",
            "text/it-life-hack/it-life-hack-6639898.txt\n",
            "text/it-life-hack/it-life-hack-6641871.txt\n",
            "text/it-life-hack/it-life-hack-6643841.txt\n",
            "text/it-life-hack/it-life-hack-6645693.txt\n",
            "text/it-life-hack/it-life-hack-6646390.txt\n",
            "text/it-life-hack/it-life-hack-6646757.txt\n",
            "text/it-life-hack/it-life-hack-6647208.txt\n",
            "text/it-life-hack/it-life-hack-6647676.txt\n",
            "text/it-life-hack/it-life-hack-6648870.txt\n",
            "text/it-life-hack/it-life-hack-6649062.txt\n",
            "text/it-life-hack/it-life-hack-6649789.txt\n",
            "text/it-life-hack/it-life-hack-6650576.txt\n",
            "text/it-life-hack/it-life-hack-6651014.txt\n",
            "text/it-life-hack/it-life-hack-6652276.txt\n",
            "text/it-life-hack/it-life-hack-6652463.txt\n",
            "text/it-life-hack/it-life-hack-6653284.txt\n",
            "text/it-life-hack/it-life-hack-6653680.txt\n",
            "text/it-life-hack/it-life-hack-6654103.txt\n",
            "text/it-life-hack/it-life-hack-6656368.txt\n",
            "text/it-life-hack/it-life-hack-6656557.txt\n",
            "text/it-life-hack/it-life-hack-6657415.txt\n",
            "text/it-life-hack/it-life-hack-6657851.txt\n",
            "text/it-life-hack/it-life-hack-6658343.txt\n",
            "text/it-life-hack/it-life-hack-6660114.txt\n",
            "text/it-life-hack/it-life-hack-6660311.txt\n",
            "text/it-life-hack/it-life-hack-6661153.txt\n",
            "text/it-life-hack/it-life-hack-6661576.txt\n",
            "text/it-life-hack/it-life-hack-6662046.txt\n",
            "text/it-life-hack/it-life-hack-6663880.txt\n",
            "text/it-life-hack/it-life-hack-6664601.txt\n",
            "text/it-life-hack/it-life-hack-6665804.txt\n",
            "text/it-life-hack/it-life-hack-6666224.txt\n",
            "text/it-life-hack/it-life-hack-6667739.txt\n",
            "text/it-life-hack/it-life-hack-6668528.txt\n",
            "text/it-life-hack/it-life-hack-6668966.txt\n",
            "text/it-life-hack/it-life-hack-6669424.txt\n",
            "text/it-life-hack/it-life-hack-6670147.txt\n",
            "text/it-life-hack/it-life-hack-6671187.txt\n",
            "text/it-life-hack/it-life-hack-6671362.txt\n",
            "text/it-life-hack/it-life-hack-6672262.txt\n",
            "text/it-life-hack/it-life-hack-6672657.txt\n",
            "text/it-life-hack/it-life-hack-6673170.txt\n",
            "text/it-life-hack/it-life-hack-6674925.txt\n",
            "text/it-life-hack/it-life-hack-6675138.txt\n",
            "text/it-life-hack/it-life-hack-6675692.txt\n",
            "text/it-life-hack/it-life-hack-6676419.txt\n",
            "text/it-life-hack/it-life-hack-6676902.txt\n",
            "text/it-life-hack/it-life-hack-6678811.txt\n",
            "text/it-life-hack/it-life-hack-6679011.txt\n",
            "text/it-life-hack/it-life-hack-6679843.txt\n",
            "text/it-life-hack/it-life-hack-6680234.txt\n",
            "text/it-life-hack/it-life-hack-6680744.txt\n",
            "text/it-life-hack/it-life-hack-6682577.txt\n",
            "text/it-life-hack/it-life-hack-6682749.txt\n",
            "text/it-life-hack/it-life-hack-6683639.txt\n",
            "text/it-life-hack/it-life-hack-6684045.txt\n",
            "text/it-life-hack/it-life-hack-6684611.txt\n",
            "text/it-life-hack/it-life-hack-6686479.txt\n",
            "text/it-life-hack/it-life-hack-6686840.txt\n",
            "text/it-life-hack/it-life-hack-6687350.txt\n",
            "text/it-life-hack/it-life-hack-6688335.txt\n",
            "text/it-life-hack/it-life-hack-6690033.txt\n",
            "text/it-life-hack/it-life-hack-6690224.txt\n",
            "text/it-life-hack/it-life-hack-6691049.txt\n",
            "text/it-life-hack/it-life-hack-6691441.txt\n",
            "text/it-life-hack/it-life-hack-6691883.txt\n",
            "text/it-life-hack/it-life-hack-6693612.txt\n",
            "text/it-life-hack/it-life-hack-6693797.txt\n",
            "text/it-life-hack/it-life-hack-6694708.txt\n",
            "text/it-life-hack/it-life-hack-6695154.txt\n",
            "text/it-life-hack/it-life-hack-6695643.txt\n",
            "text/it-life-hack/it-life-hack-6697341.txt\n",
            "text/it-life-hack/it-life-hack-6697522.txt\n",
            "text/it-life-hack/it-life-hack-6698418.txt\n",
            "text/it-life-hack/it-life-hack-6698855.txt\n",
            "text/it-life-hack/it-life-hack-6699361.txt\n",
            "text/it-life-hack/it-life-hack-6701234.txt\n",
            "text/it-life-hack/it-life-hack-6701455.txt\n",
            "text/it-life-hack/it-life-hack-6702282.txt\n",
            "text/it-life-hack/it-life-hack-6702709.txt\n",
            "text/it-life-hack/it-life-hack-6703212.txt\n",
            "text/it-life-hack/it-life-hack-6703751.txt\n",
            "text/it-life-hack/it-life-hack-6705127.txt\n",
            "text/it-life-hack/it-life-hack-6705341.txt\n",
            "text/it-life-hack/it-life-hack-6706272.txt\n",
            "text/it-life-hack/it-life-hack-6706704.txt\n",
            "text/it-life-hack/it-life-hack-6707248.txt\n",
            "text/it-life-hack/it-life-hack-6709254.txt\n",
            "text/it-life-hack/it-life-hack-6710356.txt\n",
            "text/it-life-hack/it-life-hack-6711219.txt\n",
            "text/it-life-hack/it-life-hack-6712770.txt\n",
            "text/it-life-hack/it-life-hack-6712884.txt\n",
            "text/it-life-hack/it-life-hack-6713074.txt\n",
            "text/it-life-hack/it-life-hack-6713888.txt\n",
            "text/it-life-hack/it-life-hack-6714308.txt\n",
            "text/it-life-hack/it-life-hack-6714789.txt\n",
            "text/it-life-hack/it-life-hack-6715322.txt\n",
            "text/it-life-hack/it-life-hack-6716717.txt\n",
            "text/it-life-hack/it-life-hack-6718571.txt\n",
            "text/it-life-hack/it-life-hack-6718721.txt\n",
            "text/it-life-hack/it-life-hack-6718931.txt\n",
            "text/it-life-hack/it-life-hack-6719465.txt\n",
            "text/it-life-hack/it-life-hack-6719823.txt\n",
            "text/it-life-hack/it-life-hack-6720225.txt\n",
            "text/it-life-hack/it-life-hack-6720731.txt\n",
            "text/it-life-hack/it-life-hack-6721251.txt\n",
            "text/it-life-hack/it-life-hack-6721620.txt\n",
            "text/it-life-hack/it-life-hack-6722544.txt\n",
            "text/it-life-hack/it-life-hack-6722707.txt\n",
            "text/it-life-hack/it-life-hack-6723561.txt\n",
            "text/it-life-hack/it-life-hack-6723983.txt\n",
            "text/it-life-hack/it-life-hack-6724742.txt\n",
            "text/it-life-hack/it-life-hack-6724978.txt\n",
            "text/it-life-hack/it-life-hack-6725396.txt\n",
            "text/it-life-hack/it-life-hack-6726258.txt\n",
            "text/it-life-hack/it-life-hack-6726465.txt\n",
            "text/it-life-hack/it-life-hack-6727293.txt\n",
            "text/it-life-hack/it-life-hack-6727721.txt\n",
            "text/it-life-hack/it-life-hack-6728289.txt\n",
            "text/it-life-hack/it-life-hack-6730224.txt\n",
            "text/it-life-hack/it-life-hack-6730357.txt\n",
            "text/it-life-hack/it-life-hack-6731290.txt\n",
            "text/it-life-hack/it-life-hack-6731701.txt\n",
            "text/it-life-hack/it-life-hack-6732196.txt\n",
            "text/it-life-hack/it-life-hack-6732769.txt\n",
            "text/it-life-hack/it-life-hack-6733096.txt\n",
            "text/it-life-hack/it-life-hack-6734133.txt\n",
            "text/it-life-hack/it-life-hack-6736240.txt\n",
            "text/it-life-hack/it-life-hack-6736647.txt\n",
            "text/it-life-hack/it-life-hack-6737709.txt\n",
            "text/it-life-hack/it-life-hack-6737950.txt\n",
            "text/it-life-hack/it-life-hack-6738743.txt\n",
            "text/it-life-hack/it-life-hack-6739111.txt\n",
            "text/it-life-hack/it-life-hack-6739559.txt\n",
            "text/it-life-hack/it-life-hack-6740139.txt\n",
            "text/it-life-hack/it-life-hack-6740487.txt\n",
            "text/it-life-hack/it-life-hack-6741364.txt\n",
            "text/it-life-hack/it-life-hack-6741586.txt\n",
            "text/it-life-hack/it-life-hack-6742529.txt\n",
            "text/it-life-hack/it-life-hack-6742978.txt\n",
            "text/it-life-hack/it-life-hack-6743498.txt\n",
            "text/it-life-hack/it-life-hack-6744110.txt\n",
            "text/it-life-hack/it-life-hack-6744400.txt\n",
            "text/it-life-hack/it-life-hack-6745318.txt\n",
            "text/it-life-hack/it-life-hack-6745524.txt\n",
            "text/it-life-hack/it-life-hack-6746379.txt\n",
            "text/it-life-hack/it-life-hack-6746895.txt\n",
            "text/it-life-hack/it-life-hack-6747353.txt\n",
            "text/it-life-hack/it-life-hack-6749297.txt\n",
            "text/it-life-hack/it-life-hack-6749530.txt\n",
            "text/it-life-hack/it-life-hack-6750406.txt\n",
            "text/it-life-hack/it-life-hack-6750823.txt\n",
            "text/it-life-hack/it-life-hack-6751343.txt\n",
            "text/it-life-hack/it-life-hack-6753266.txt\n",
            "text/it-life-hack/it-life-hack-6753477.txt\n",
            "text/it-life-hack/it-life-hack-6754341.txt\n",
            "text/it-life-hack/it-life-hack-6754747.txt\n",
            "text/it-life-hack/it-life-hack-6755205.txt\n",
            "text/it-life-hack/it-life-hack-6755852.txt\n",
            "text/it-life-hack/it-life-hack-6756162.txt\n",
            "text/it-life-hack/it-life-hack-6757202.txt\n",
            "text/it-life-hack/it-life-hack-6759236.txt\n",
            "text/it-life-hack/it-life-hack-6759639.txt\n",
            "text/it-life-hack/it-life-hack-6760002.txt\n",
            "text/it-life-hack/it-life-hack-6760975.txt\n",
            "text/it-life-hack/it-life-hack-6761622.txt\n",
            "text/it-life-hack/it-life-hack-6762890.txt\n",
            "text/it-life-hack/it-life-hack-6763072.txt\n",
            "text/it-life-hack/it-life-hack-6763906.txt\n",
            "text/it-life-hack/it-life-hack-6764332.txt\n",
            "text/it-life-hack/it-life-hack-6764784.txt\n",
            "text/it-life-hack/it-life-hack-6765308.txt\n",
            "text/it-life-hack/it-life-hack-6765621.txt\n",
            "text/it-life-hack/it-life-hack-6766499.txt\n",
            "text/it-life-hack/it-life-hack-6766700.txt\n",
            "text/it-life-hack/it-life-hack-6767585.txt\n",
            "text/it-life-hack/it-life-hack-6768034.txt\n",
            "text/it-life-hack/it-life-hack-6769261.txt\n",
            "text/it-life-hack/it-life-hack-6770312.txt\n",
            "text/it-life-hack/it-life-hack-6770491.txt\n",
            "text/it-life-hack/it-life-hack-6770530.txt\n",
            "text/it-life-hack/it-life-hack-6771373.txt\n",
            "text/it-life-hack/it-life-hack-6772384.txt\n",
            "text/it-life-hack/it-life-hack-6774107.txt\n",
            "text/it-life-hack/it-life-hack-6774296.txt\n",
            "text/it-life-hack/it-life-hack-6775183.txt\n",
            "text/it-life-hack/it-life-hack-6775608.txt\n",
            "text/it-life-hack/it-life-hack-6776141.txt\n",
            "text/it-life-hack/it-life-hack-6778094.txt\n",
            "text/it-life-hack/it-life-hack-6778614.txt\n",
            "text/it-life-hack/it-life-hack-6778985.txt\n",
            "text/it-life-hack/it-life-hack-6779962.txt\n",
            "text/it-life-hack/it-life-hack-6780725.txt\n",
            "text/it-life-hack/it-life-hack-6781549.txt\n",
            "text/it-life-hack/it-life-hack-6781757.txt\n",
            "text/it-life-hack/it-life-hack-6782479.txt\n",
            "text/it-life-hack/it-life-hack-6782764.txt\n",
            "text/it-life-hack/it-life-hack-6782779.txt\n",
            "text/it-life-hack/it-life-hack-6783296.txt\n",
            "text/it-life-hack/it-life-hack-6784981.txt\n",
            "text/it-life-hack/it-life-hack-6785191.txt\n",
            "text/it-life-hack/it-life-hack-6785991.txt\n",
            "text/it-life-hack/it-life-hack-6786361.txt\n",
            "text/it-life-hack/it-life-hack-6786542.txt\n",
            "text/it-life-hack/it-life-hack-6787361.txt\n",
            "text/it-life-hack/it-life-hack-6788402.txt\n",
            "text/it-life-hack/it-life-hack-6789412.txt\n",
            "text/it-life-hack/it-life-hack-6789805.txt\n",
            "text/it-life-hack/it-life-hack-6790256.txt\n",
            "text/it-life-hack/it-life-hack-6792109.txt\n",
            "text/it-life-hack/it-life-hack-6792558.txt\n",
            "text/it-life-hack/it-life-hack-6793390.txt\n",
            "text/it-life-hack/it-life-hack-6793843.txt\n",
            "text/it-life-hack/it-life-hack-6794364.txt\n",
            "text/it-life-hack/it-life-hack-6796203.txt\n",
            "text/it-life-hack/it-life-hack-6796408.txt\n",
            "text/it-life-hack/it-life-hack-6797267.txt\n",
            "text/it-life-hack/it-life-hack-6797674.txt\n",
            "text/it-life-hack/it-life-hack-6798260.txt\n",
            "text/it-life-hack/it-life-hack-6798790.txt\n",
            "text/it-life-hack/it-life-hack-6800240.txt\n",
            "text/it-life-hack/it-life-hack-6800970.txt\n",
            "text/it-life-hack/it-life-hack-6802274.txt\n",
            "text/it-life-hack/it-life-hack-6802951.txt\n",
            "text/it-life-hack/it-life-hack-6803930.txt\n",
            "text/it-life-hack/it-life-hack-6804122.txt\n",
            "text/it-life-hack/it-life-hack-6804802.txt\n",
            "text/it-life-hack/it-life-hack-6805166.txt\n",
            "text/it-life-hack/it-life-hack-6805398.txt\n",
            "text/it-life-hack/it-life-hack-6805568.txt\n",
            "text/it-life-hack/it-life-hack-6807415.txt\n",
            "text/it-life-hack/it-life-hack-6807643.txt\n",
            "text/it-life-hack/it-life-hack-6808424.txt\n",
            "text/it-life-hack/it-life-hack-6808796.txt\n",
            "text/it-life-hack/it-life-hack-6809216.txt\n",
            "text/it-life-hack/it-life-hack-6811434.txt\n",
            "text/it-life-hack/it-life-hack-6812295.txt\n",
            "text/it-life-hack/it-life-hack-6812807.txt\n",
            "text/it-life-hack/it-life-hack-6813431.txt\n",
            "text/it-life-hack/it-life-hack-6815469.txt\n",
            "text/it-life-hack/it-life-hack-6815655.txt\n",
            "text/it-life-hack/it-life-hack-6816455.txt\n",
            "text/it-life-hack/it-life-hack-6816900.txt\n",
            "text/it-life-hack/it-life-hack-6817348.txt\n",
            "text/it-life-hack/it-life-hack-6819414.txt\n",
            "text/it-life-hack/it-life-hack-6819577.txt\n",
            "text/it-life-hack/it-life-hack-6820460.txt\n",
            "text/it-life-hack/it-life-hack-6820932.txt\n",
            "text/it-life-hack/it-life-hack-6821440.txt\n",
            "text/it-life-hack/it-life-hack-6823652.txt\n",
            "text/it-life-hack/it-life-hack-6823909.txt\n",
            "text/it-life-hack/it-life-hack-6824178.txt\n",
            "text/it-life-hack/it-life-hack-6825543.txt\n",
            "text/it-life-hack/it-life-hack-6826248.txt\n",
            "text/it-life-hack/it-life-hack-6827276.txt\n",
            "text/it-life-hack/it-life-hack-6827489.txt\n",
            "text/it-life-hack/it-life-hack-6828271.txt\n",
            "text/it-life-hack/it-life-hack-6828627.txt\n",
            "text/it-life-hack/it-life-hack-6829006.txt\n",
            "text/it-life-hack/it-life-hack-6830711.txt\n",
            "text/it-life-hack/it-life-hack-6830890.txt\n",
            "text/it-life-hack/it-life-hack-6831845.txt\n",
            "text/it-life-hack/it-life-hack-6832228.txt\n",
            "text/it-life-hack/it-life-hack-6832714.txt\n",
            "text/it-life-hack/it-life-hack-6834780.txt\n",
            "text/it-life-hack/it-life-hack-6835607.txt\n",
            "text/it-life-hack/it-life-hack-6836023.txt\n",
            "text/it-life-hack/it-life-hack-6836455.txt\n",
            "text/it-life-hack/it-life-hack-6838499.txt\n",
            "text/it-life-hack/it-life-hack-6838706.txt\n",
            "text/it-life-hack/it-life-hack-6839558.txt\n",
            "text/it-life-hack/it-life-hack-6839998.txt\n",
            "text/it-life-hack/it-life-hack-6840465.txt\n",
            "text/it-life-hack/it-life-hack-6842412.txt\n",
            "text/it-life-hack/it-life-hack-6842610.txt\n",
            "text/it-life-hack/it-life-hack-6843566.txt\n",
            "text/it-life-hack/it-life-hack-6843978.txt\n",
            "text/it-life-hack/it-life-hack-6844464.txt\n",
            "text/it-life-hack/it-life-hack-6844725.txt\n",
            "text/it-life-hack/it-life-hack-6846420.txt\n",
            "text/it-life-hack/it-life-hack-6846685.txt\n",
            "text/it-life-hack/it-life-hack-6847405.txt\n",
            "text/it-life-hack/it-life-hack-6848427.txt\n",
            "text/it-life-hack/it-life-hack-6848627.txt\n",
            "text/it-life-hack/it-life-hack-6850254.txt\n",
            "text/it-life-hack/it-life-hack-6850409.txt\n",
            "text/it-life-hack/it-life-hack-6851066.txt\n",
            "text/it-life-hack/it-life-hack-6851407.txt\n",
            "text/it-life-hack/it-life-hack-6851765.txt\n",
            "text/it-life-hack/it-life-hack-6853198.txt\n",
            "text/it-life-hack/it-life-hack-6853380.txt\n",
            "text/it-life-hack/it-life-hack-6854023.txt\n",
            "text/it-life-hack/it-life-hack-6854373.txt\n",
            "text/it-life-hack/it-life-hack-6856058.txt\n",
            "text/it-life-hack/it-life-hack-6856211.txt\n",
            "text/it-life-hack/it-life-hack-6856865.txt\n",
            "text/it-life-hack/it-life-hack-6857231.txt\n",
            "text/it-life-hack/it-life-hack-6857586.txt\n",
            "text/it-life-hack/it-life-hack-6859086.txt\n",
            "text/it-life-hack/it-life-hack-6859253.txt\n",
            "text/it-life-hack/it-life-hack-6860041.txt\n",
            "text/it-life-hack/it-life-hack-6860405.txt\n",
            "text/it-life-hack/it-life-hack-6860823.txt\n",
            "text/it-life-hack/it-life-hack-6861635.txt\n",
            "text/it-life-hack/it-life-hack-6862317.txt\n",
            "text/it-life-hack/it-life-hack-6862510.txt\n",
            "text/it-life-hack/it-life-hack-6863181.txt\n",
            "text/it-life-hack/it-life-hack-6863633.txt\n",
            "text/it-life-hack/it-life-hack-6864069.txt\n",
            "text/it-life-hack/it-life-hack-6865979.txt\n",
            "text/it-life-hack/it-life-hack-6866267.txt\n",
            "text/it-life-hack/it-life-hack-6866595.txt\n",
            "text/it-life-hack/it-life-hack-6867428.txt\n",
            "text/it-life-hack/it-life-hack-6869015.txt\n",
            "text/it-life-hack/it-life-hack-6869207.txt\n",
            "text/it-life-hack/it-life-hack-6870018.txt\n",
            "text/it-life-hack/it-life-hack-6870383.txt\n",
            "text/it-life-hack/it-life-hack-6870853.txt\n",
            "text/it-life-hack/it-life-hack-6872445.txt\n",
            "text/it-life-hack/it-life-hack-6872658.txt\n",
            "text/it-life-hack/it-life-hack-6873490.txt\n",
            "text/it-life-hack/it-life-hack-6874146.txt\n",
            "text/it-life-hack/it-life-hack-6876393.txt\n",
            "text/it-life-hack/it-life-hack-6876577.txt\n",
            "text/it-life-hack/it-life-hack-6877458.txt\n",
            "text/it-life-hack/it-life-hack-6877899.txt\n",
            "text/it-life-hack/it-life-hack-6878413.txt\n",
            "text/it-life-hack/it-life-hack-6880200.txt\n",
            "text/it-life-hack/it-life-hack-6880403.txt\n",
            "text/it-life-hack/it-life-hack-6881272.txt\n",
            "text/it-life-hack/it-life-hack-6881684.txt\n",
            "text/it-life-hack/it-life-hack-6882227.txt\n",
            "text/it-life-hack/it-life-hack-6884012.txt\n",
            "text/it-life-hack/it-life-hack-6884232.txt\n",
            "text/it-life-hack/it-life-hack-6885037.txt\n",
            "text/it-life-hack/it-life-hack-6885516.txt\n",
            "text/it-life-hack/it-life-hack-6885964.txt\n",
            "text/it-life-hack/it-life-hack-6886594.txt\n",
            "text/it-life-hack/it-life-hack-6888275.txt\n",
            "text/it-life-hack/it-life-hack-6888496.txt\n",
            "text/it-life-hack/it-life-hack-6889045.txt\n",
            "text/it-life-hack/it-life-hack-6889884.txt\n",
            "text/it-life-hack/it-life-hack-6891506.txt\n",
            "text/it-life-hack/it-life-hack-6891730.txt\n",
            "text/it-life-hack/it-life-hack-6892550.txt\n",
            "text/it-life-hack/it-life-hack-6892894.txt\n",
            "text/it-life-hack/it-life-hack-6893325.txt\n",
            "text/it-life-hack/it-life-hack-6895015.txt\n",
            "text/it-life-hack/it-life-hack-6895229.txt\n",
            "text/it-life-hack/it-life-hack-6896032.txt\n",
            "text/it-life-hack/it-life-hack-6896466.txt\n",
            "text/it-life-hack/it-life-hack-6898642.txt\n",
            "text/it-life-hack/it-life-hack-6898854.txt\n",
            "text/it-life-hack/it-life-hack-6899650.txt\n",
            "text/it-life-hack/it-life-hack-6900619.txt\n",
            "text/it-life-hack/it-life-hack-6901131.txt\n",
            "text/it-life-hack/it-life-hack-6902469.txt\n",
            "text/it-life-hack/it-life-hack-6902676.txt\n",
            "text/it-life-hack/it-life-hack-6903532.txt\n",
            "text/it-life-hack/it-life-hack-6903974.txt\n",
            "text/it-life-hack/it-life-hack-6904242.txt\n",
            "text/it-life-hack/it-life-hack-6905071.txt\n",
            "text/it-life-hack/it-life-hack-6906431.txt\n",
            "text/it-life-hack/it-life-hack-6906648.txt\n",
            "text/it-life-hack/it-life-hack-6907495.txt\n",
            "text/it-life-hack/it-life-hack-6907969.txt\n",
            "text/it-life-hack/it-life-hack-6908418.txt\n",
            "text/it-life-hack/it-life-hack-6910399.txt\n",
            "text/it-life-hack/it-life-hack-6910979.txt\n",
            "text/it-life-hack/it-life-hack-6911406.txt\n",
            "text/it-life-hack/it-life-hack-6912197.txt\n",
            "text/it-life-hack/it-life-hack-6913789.txt\n",
            "text/it-life-hack/it-life-hack-6913977.txt\n",
            "text/it-life-hack/it-life-hack-6914816.txt\n",
            "text/it-life-hack/it-life-hack-6915190.txt\n",
            "text/it-life-hack/it-life-hack-6915718.txt\n",
            "text/it-life-hack/it-life-hack-6917377.txt\n",
            "text/it-life-hack/it-life-hack-6917568.txt\n",
            "text/it-life-hack/it-life-hack-6918420.txt\n",
            "text/it-life-hack/it-life-hack-6918825.txt\n",
            "text/it-life-hack/LICENSE.txt\n",
            "text/dokujo-tsushin/dokujo-tsushin-4778030.txt\n",
            "text/dokujo-tsushin/dokujo-tsushin-4778031.txt\n",
            "text/dokujo-tsushin/dokujo-tsushin-4782522.txt\n",
            "text/dokujo-tsushin/dokujo-tsushin-4788357.txt\n",
            "text/dokujo-tsushin/dokujo-tsushin-4788362.txt\n",
            "text/dokujo-tsushin/dokujo-tsushin-4788373.txt\n",
            "text/dokujo-tsushin/dokujo-tsushin-4788374.txt\n",
            "text/dokujo-tsushin/dokujo-tsushin-4788388.txt\n",
            "text/dokujo-tsushin/dokujo-tsushin-4791665.txt\n",
            "text/dokujo-tsushin/dokujo-tsushin-4796054.txt\n",
            "text/dokujo-tsushin/dokujo-tsushin-4799780.txt\n",
            "text/dokujo-tsushin/dokujo-tsushin-4799892.txt\n",
            "text/dokujo-tsushin/dokujo-tsushin-4799908.txt\n",
            "text/dokujo-tsushin/dokujo-tsushin-4799929.txt\n",
            "text/dokujo-tsushin/dokujo-tsushin-4799933.txt\n",
            "text/dokujo-tsushin/dokujo-tsushin-4809271.txt\n",
            "text/dokujo-tsushin/dokujo-tsushin-4809276.txt\n",
            "text/dokujo-tsushin/dokujo-tsushin-4809277.txt\n",
            "text/dokujo-tsushin/dokujo-tsushin-4814763.txt\n",
            "text/dokujo-tsushin/dokujo-tsushin-4814765.txt\n",
            "text/dokujo-tsushin/dokujo-tsushin-4814778.txt\n",
            "text/dokujo-tsushin/dokujo-tsushin-4819443.txt\n",
            "text/dokujo-tsushin/dokujo-tsushin-4826147.txt\n",
            "text/dokujo-tsushin/dokujo-tsushin-4827888.txt\n",
            "text/dokujo-tsushin/dokujo-tsushin-4827909.txt\n",
            "text/dokujo-tsushin/dokujo-tsushin-4832209.txt\n",
            "text/dokujo-tsushin/dokujo-tsushin-4834677.txt\n",
            "text/dokujo-tsushin/dokujo-tsushin-4836146.txt\n",
            "text/dokujo-tsushin/dokujo-tsushin-4839154.txt\n",
            "text/dokujo-tsushin/dokujo-tsushin-4839912.txt\n",
            "text/dokujo-tsushin/dokujo-tsushin-4841976.txt\n",
            "text/dokujo-tsushin/dokujo-tsushin-4842333.txt\n",
            "text/dokujo-tsushin/dokujo-tsushin-4842348.txt\n",
            "text/dokujo-tsushin/dokujo-tsushin-4842349.txt\n",
            "text/dokujo-tsushin/dokujo-tsushin-4842352.txt\n",
            "text/dokujo-tsushin/dokujo-tsushin-4842353.txt\n",
            "text/dokujo-tsushin/dokujo-tsushin-4847422.txt\n",
            "text/dokujo-tsushin/dokujo-tsushin-4848785.txt\n",
            "text/dokujo-tsushin/dokujo-tsushin-4854637.txt\n",
            "text/dokujo-tsushin/dokujo-tsushin-4854640.txt\n",
            "text/dokujo-tsushin/dokujo-tsushin-4854643.txt\n",
            "text/dokujo-tsushin/dokujo-tsushin-4854648.txt\n",
            "text/dokujo-tsushin/dokujo-tsushin-4865346.txt\n",
            "text/dokujo-tsushin/dokujo-tsushin-4866257.txt\n",
            "text/dokujo-tsushin/dokujo-tsushin-4866259.txt\n",
            "text/dokujo-tsushin/dokujo-tsushin-4866263.txt\n",
            "text/dokujo-tsushin/dokujo-tsushin-4866266.txt\n",
            "text/dokujo-tsushin/dokujo-tsushin-4866267.txt\n",
            "text/dokujo-tsushin/dokujo-tsushin-4880071.txt\n",
            "text/dokujo-tsushin/dokujo-tsushin-4880084.txt\n",
            "text/dokujo-tsushin/dokujo-tsushin-4880091.txt\n",
            "text/dokujo-tsushin/dokujo-tsushin-4880092.txt\n",
            "text/dokujo-tsushin/dokujo-tsushin-4887920.txt\n",
            "text/dokujo-tsushin/dokujo-tsushin-4890206.txt\n",
            "text/dokujo-tsushin/dokujo-tsushin-4890210.txt\n",
            "text/dokujo-tsushin/dokujo-tsushin-4890211.txt\n",
            "text/dokujo-tsushin/dokujo-tsushin-4890215.txt\n",
            "text/dokujo-tsushin/dokujo-tsushin-4897873.txt\n",
            "text/dokujo-tsushin/dokujo-tsushin-4905596.txt\n",
            "text/dokujo-tsushin/dokujo-tsushin-4905600.txt\n",
            "text/dokujo-tsushin/dokujo-tsushin-4905606.txt\n",
            "text/dokujo-tsushin/dokujo-tsushin-4905611.txt\n",
            "text/dokujo-tsushin/dokujo-tsushin-4907297.txt\n",
            "text/dokujo-tsushin/dokujo-tsushin-4916133.txt\n",
            "text/dokujo-tsushin/dokujo-tsushin-4920139.txt\n",
            "text/dokujo-tsushin/dokujo-tsushin-4920181.txt\n",
            "text/dokujo-tsushin/dokujo-tsushin-4920182.txt\n",
            "text/dokujo-tsushin/dokujo-tsushin-4920192.txt\n",
            "text/dokujo-tsushin/dokujo-tsushin-4920216.txt\n",
            "text/dokujo-tsushin/dokujo-tsushin-4934903.txt\n",
            "text/dokujo-tsushin/dokujo-tsushin-4934922.txt\n",
            "text/dokujo-tsushin/dokujo-tsushin-4934929.txt\n",
            "text/dokujo-tsushin/dokujo-tsushin-4934932.txt\n",
            "text/dokujo-tsushin/dokujo-tsushin-4942036.txt\n",
            "text/dokujo-tsushin/dokujo-tsushin-4948012.txt\n",
            "text/dokujo-tsushin/dokujo-tsushin-4948016.txt\n",
            "text/dokujo-tsushin/dokujo-tsushin-4948018.txt\n",
            "text/dokujo-tsushin/dokujo-tsushin-4948019.txt\n",
            "text/dokujo-tsushin/dokujo-tsushin-4948021.txt\n",
            "text/dokujo-tsushin/dokujo-tsushin-4961677.txt\n",
            "text/dokujo-tsushin/dokujo-tsushin-4961679.txt\n",
            "text/dokujo-tsushin/dokujo-tsushin-4961684.txt\n",
            "text/dokujo-tsushin/dokujo-tsushin-4961686.txt\n",
            "text/dokujo-tsushin/dokujo-tsushin-4966331.txt\n",
            "text/dokujo-tsushin/dokujo-tsushin-4968831.txt\n",
            "text/dokujo-tsushin/dokujo-tsushin-4971076.txt\n",
            "text/dokujo-tsushin/dokujo-tsushin-4976401.txt\n",
            "text/dokujo-tsushin/dokujo-tsushin-4976402.txt\n",
            "text/dokujo-tsushin/dokujo-tsushin-4976413.txt\n",
            "text/dokujo-tsushin/dokujo-tsushin-4976420.txt\n",
            "text/dokujo-tsushin/dokujo-tsushin-4976422.txt\n",
            "text/dokujo-tsushin/dokujo-tsushin-4990861.txt\n",
            "text/dokujo-tsushin/dokujo-tsushin-4990884.txt\n",
            "text/dokujo-tsushin/dokujo-tsushin-4990896.txt\n",
            "text/dokujo-tsushin/dokujo-tsushin-4990916.txt\n",
            "text/dokujo-tsushin/dokujo-tsushin-4996071.txt\n",
            "text/dokujo-tsushin/dokujo-tsushin-5005786.txt\n",
            "text/dokujo-tsushin/dokujo-tsushin-5005793.txt\n",
            "text/dokujo-tsushin/dokujo-tsushin-5005846.txt\n",
            "text/dokujo-tsushin/dokujo-tsushin-5005857.txt\n",
            "text/dokujo-tsushin/dokujo-tsushin-5005869.txt\n",
            "text/dokujo-tsushin/dokujo-tsushin-5011384.txt\n",
            "text/dokujo-tsushin/dokujo-tsushin-5022310.txt\n",
            "text/dokujo-tsushin/dokujo-tsushin-5022398.txt\n",
            "text/dokujo-tsushin/dokujo-tsushin-5022407.txt\n",
            "text/dokujo-tsushin/dokujo-tsushin-5022412.txt\n",
            "text/dokujo-tsushin/dokujo-tsushin-5032720.txt\n",
            "text/dokujo-tsushin/dokujo-tsushin-5032722.txt\n",
            "text/dokujo-tsushin/dokujo-tsushin-5032727.txt\n",
            "text/dokujo-tsushin/dokujo-tsushin-5032732.txt\n",
            "text/dokujo-tsushin/dokujo-tsushin-5032736.txt\n",
            "text/dokujo-tsushin/dokujo-tsushin-5034097.txt\n",
            "text/dokujo-tsushin/dokujo-tsushin-5041025.txt\n",
            "text/dokujo-tsushin/dokujo-tsushin-5050236.txt\n",
            "text/dokujo-tsushin/dokujo-tsushin-5050238.txt\n",
            "text/dokujo-tsushin/dokujo-tsushin-5050253.txt\n",
            "text/dokujo-tsushin/dokujo-tsushin-5065341.txt\n",
            "text/dokujo-tsushin/dokujo-tsushin-5066858.txt\n",
            "text/dokujo-tsushin/dokujo-tsushin-5067016.txt\n",
            "text/dokujo-tsushin/dokujo-tsushin-5069354.txt\n",
            "text/dokujo-tsushin/dokujo-tsushin-5071625.txt\n",
            "text/dokujo-tsushin/dokujo-tsushin-5071627.txt\n",
            "text/dokujo-tsushin/dokujo-tsushin-5079275.txt\n",
            "text/dokujo-tsushin/dokujo-tsushin-5079312.txt\n",
            "text/dokujo-tsushin/dokujo-tsushin-5079316.txt\n",
            "text/dokujo-tsushin/dokujo-tsushin-5079321.txt\n",
            "text/dokujo-tsushin/dokujo-tsushin-5082788.txt\n",
            "text/dokujo-tsushin/dokujo-tsushin-5096938.txt\n",
            "text/dokujo-tsushin/dokujo-tsushin-5099462.txt\n",
            "text/dokujo-tsushin/dokujo-tsushin-5099962.txt\n",
            "text/dokujo-tsushin/dokujo-tsushin-5099979.txt\n",
            "text/dokujo-tsushin/dokujo-tsushin-5109818.txt\n",
            "text/dokujo-tsushin/dokujo-tsushin-5109997.txt\n",
            "text/dokujo-tsushin/dokujo-tsushin-5110251.txt\n",
            "text/dokujo-tsushin/dokujo-tsushin-5110253.txt\n",
            "text/dokujo-tsushin/dokujo-tsushin-5117772.txt\n",
            "text/dokujo-tsushin/dokujo-tsushin-5122622.txt\n",
            "text/dokujo-tsushin/dokujo-tsushin-5122757.txt\n",
            "text/dokujo-tsushin/dokujo-tsushin-5127080.txt\n",
            "text/dokujo-tsushin/dokujo-tsushin-5129774.txt\n",
            "text/dokujo-tsushin/dokujo-tsushin-5132619.txt\n",
            "text/dokujo-tsushin/dokujo-tsushin-5134603.txt\n",
            "text/dokujo-tsushin/dokujo-tsushin-5140190.txt\n",
            "text/dokujo-tsushin/dokujo-tsushin-5142196.txt\n",
            "text/dokujo-tsushin/dokujo-tsushin-5143945.txt\n",
            "text/dokujo-tsushin/dokujo-tsushin-5151538.txt\n",
            "text/dokujo-tsushin/dokujo-tsushin-5155301.txt\n",
            "text/dokujo-tsushin/dokujo-tsushin-5155302.txt\n",
            "text/dokujo-tsushin/dokujo-tsushin-5159678.txt\n",
            "text/dokujo-tsushin/dokujo-tsushin-5162916.txt\n",
            "text/dokujo-tsushin/dokujo-tsushin-5164307.txt\n",
            "text/dokujo-tsushin/dokujo-tsushin-5164592.txt\n",
            "text/dokujo-tsushin/dokujo-tsushin-5165727.txt\n",
            "text/dokujo-tsushin/dokujo-tsushin-5171552.txt\n",
            "text/dokujo-tsushin/dokujo-tsushin-5172455.txt\n",
            "text/dokujo-tsushin/dokujo-tsushin-5174573.txt\n",
            "text/dokujo-tsushin/dokujo-tsushin-5174753.txt\n",
            "text/dokujo-tsushin/dokujo-tsushin-5180406.txt\n",
            "text/dokujo-tsushin/dokujo-tsushin-5180407.txt\n",
            "text/dokujo-tsushin/dokujo-tsushin-5188153.txt\n",
            "text/dokujo-tsushin/dokujo-tsushin-5190886.txt\n",
            "text/dokujo-tsushin/dokujo-tsushin-5193981.txt\n",
            "text/dokujo-tsushin/dokujo-tsushin-5196844.txt\n",
            "text/dokujo-tsushin/dokujo-tsushin-5199451.txt\n",
            "text/dokujo-tsushin/dokujo-tsushin-5200729.txt\n",
            "text/dokujo-tsushin/dokujo-tsushin-5204672.txt\n",
            "text/dokujo-tsushin/dokujo-tsushin-5207316.txt\n",
            "text/dokujo-tsushin/dokujo-tsushin-5212559.txt\n",
            "text/dokujo-tsushin/dokujo-tsushin-5215801.txt\n",
            "text/dokujo-tsushin/dokujo-tsushin-5216706.txt\n",
            "text/dokujo-tsushin/dokujo-tsushin-5220452.txt\n",
            "text/dokujo-tsushin/dokujo-tsushin-5220615.txt\n",
            "text/dokujo-tsushin/dokujo-tsushin-5221673.txt\n",
            "text/dokujo-tsushin/dokujo-tsushin-5223255.txt\n",
            "text/dokujo-tsushin/dokujo-tsushin-5225985.txt\n",
            "text/dokujo-tsushin/dokujo-tsushin-5230237.txt\n",
            "text/dokujo-tsushin/dokujo-tsushin-5230609.txt\n",
            "text/dokujo-tsushin/dokujo-tsushin-5232400.txt\n",
            "text/dokujo-tsushin/dokujo-tsushin-5235297.txt\n",
            "text/dokujo-tsushin/dokujo-tsushin-5237753.txt\n",
            "text/dokujo-tsushin/dokujo-tsushin-5239637.txt\n",
            "text/dokujo-tsushin/dokujo-tsushin-5241118.txt\n",
            "text/dokujo-tsushin/dokujo-tsushin-5245884.txt\n",
            "text/dokujo-tsushin/dokujo-tsushin-5247353.txt\n",
            "text/dokujo-tsushin/dokujo-tsushin-5248835.txt\n",
            "text/dokujo-tsushin/dokujo-tsushin-5249283.txt\n",
            "text/dokujo-tsushin/dokujo-tsushin-5252325.txt\n",
            "text/dokujo-tsushin/dokujo-tsushin-5252732.txt\n",
            "text/dokujo-tsushin/dokujo-tsushin-5253509.txt\n",
            "text/dokujo-tsushin/dokujo-tsushin-5254272.txt\n",
            "text/dokujo-tsushin/dokujo-tsushin-5260982.txt\n",
            "text/dokujo-tsushin/dokujo-tsushin-5261684.txt\n",
            "text/dokujo-tsushin/dokujo-tsushin-5263801.txt\n",
            "text/dokujo-tsushin/dokujo-tsushin-5266540.txt\n",
            "text/dokujo-tsushin/dokujo-tsushin-5271492.txt\n",
            "text/dokujo-tsushin/dokujo-tsushin-5277393.txt\n",
            "text/dokujo-tsushin/dokujo-tsushin-5280546.txt\n",
            "text/dokujo-tsushin/dokujo-tsushin-5283177.txt\n",
            "text/dokujo-tsushin/dokujo-tsushin-5283348.txt\n",
            "text/dokujo-tsushin/dokujo-tsushin-5285007.txt\n",
            "text/dokujo-tsushin/dokujo-tsushin-5285787.txt\n",
            "text/dokujo-tsushin/dokujo-tsushin-5292054.txt\n",
            "text/dokujo-tsushin/dokujo-tsushin-5292138.txt\n",
            "text/dokujo-tsushin/dokujo-tsushin-5292198.txt\n",
            "text/dokujo-tsushin/dokujo-tsushin-5296931.txt\n",
            "text/dokujo-tsushin/dokujo-tsushin-5299709.txt\n",
            "text/dokujo-tsushin/dokujo-tsushin-5302598.txt\n",
            "text/dokujo-tsushin/dokujo-tsushin-5308620.txt\n",
            "text/dokujo-tsushin/dokujo-tsushin-5311144.txt\n",
            "text/dokujo-tsushin/dokujo-tsushin-5313907.txt\n",
            "text/dokujo-tsushin/dokujo-tsushin-5316747.txt\n",
            "text/dokujo-tsushin/dokujo-tsushin-5321827.txt\n",
            "text/dokujo-tsushin/dokujo-tsushin-5323230.txt\n",
            "text/dokujo-tsushin/dokujo-tsushin-5323415.txt\n",
            "text/dokujo-tsushin/dokujo-tsushin-5325491.txt\n",
            "text/dokujo-tsushin/dokujo-tsushin-5328273.txt\n",
            "text/dokujo-tsushin/dokujo-tsushin-5331167.txt\n",
            "text/dokujo-tsushin/dokujo-tsushin-5334215.txt\n",
            "text/dokujo-tsushin/dokujo-tsushin-5336853.txt\n",
            "text/dokujo-tsushin/dokujo-tsushin-5338427.txt\n",
            "text/dokujo-tsushin/dokujo-tsushin-5343348.txt\n",
            "text/dokujo-tsushin/dokujo-tsushin-5344936.txt\n",
            "text/dokujo-tsushin/dokujo-tsushin-5347549.txt\n",
            "text/dokujo-tsushin/dokujo-tsushin-5353302.txt\n",
            "text/dokujo-tsushin/dokujo-tsushin-5359084.txt\n",
            "text/dokujo-tsushin/dokujo-tsushin-5361959.txt\n",
            "text/dokujo-tsushin/dokujo-tsushin-5362839.txt\n",
            "text/dokujo-tsushin/dokujo-tsushin-5365261.txt\n",
            "text/dokujo-tsushin/dokujo-tsushin-5365914.txt\n",
            "text/dokujo-tsushin/dokujo-tsushin-5366027.txt\n",
            "text/dokujo-tsushin/dokujo-tsushin-5368649.txt\n",
            "text/dokujo-tsushin/dokujo-tsushin-5368729.txt\n",
            "text/dokujo-tsushin/dokujo-tsushin-5370987.txt\n",
            "text/dokujo-tsushin/dokujo-tsushin-5371746.txt\n",
            "text/dokujo-tsushin/dokujo-tsushin-5372907.txt\n",
            "text/dokujo-tsushin/dokujo-tsushin-5374411.txt\n",
            "text/dokujo-tsushin/dokujo-tsushin-5376811.txt\n",
            "text/dokujo-tsushin/dokujo-tsushin-5376845.txt\n",
            "text/dokujo-tsushin/dokujo-tsushin-5377344.txt\n",
            "text/dokujo-tsushin/dokujo-tsushin-5379859.txt\n",
            "text/dokujo-tsushin/dokujo-tsushin-5380051.txt\n",
            "text/dokujo-tsushin/dokujo-tsushin-5380252.txt\n",
            "text/dokujo-tsushin/dokujo-tsushin-5380699.txt\n",
            "text/dokujo-tsushin/dokujo-tsushin-5381773.txt\n",
            "text/dokujo-tsushin/dokujo-tsushin-5382580.txt\n",
            "text/dokujo-tsushin/dokujo-tsushin-5385396.txt\n",
            "text/dokujo-tsushin/dokujo-tsushin-5385879.txt\n",
            "text/dokujo-tsushin/dokujo-tsushin-5389210.txt\n",
            "text/dokujo-tsushin/dokujo-tsushin-5394572.txt\n",
            "text/dokujo-tsushin/dokujo-tsushin-5397222.txt\n",
            "text/dokujo-tsushin/dokujo-tsushin-5400059.txt\n",
            "text/dokujo-tsushin/dokujo-tsushin-5402675.txt\n",
            "text/dokujo-tsushin/dokujo-tsushin-5402827.txt\n",
            "text/dokujo-tsushin/dokujo-tsushin-5403411.txt\n",
            "text/dokujo-tsushin/dokujo-tsushin-5436674.txt\n",
            "text/dokujo-tsushin/dokujo-tsushin-5437976.txt\n",
            "text/dokujo-tsushin/dokujo-tsushin-5439765.txt\n",
            "text/dokujo-tsushin/dokujo-tsushin-5440308.txt\n",
            "text/dokujo-tsushin/dokujo-tsushin-5442847.txt\n",
            "text/dokujo-tsushin/dokujo-tsushin-5446569.txt\n",
            "text/dokujo-tsushin/dokujo-tsushin-5447160.txt\n",
            "text/dokujo-tsushin/dokujo-tsushin-5448976.txt\n",
            "text/dokujo-tsushin/dokujo-tsushin-5451872.txt\n",
            "text/dokujo-tsushin/dokujo-tsushin-5452282.txt\n",
            "text/dokujo-tsushin/dokujo-tsushin-5453372.txt\n",
            "text/dokujo-tsushin/dokujo-tsushin-5455376.txt\n",
            "text/dokujo-tsushin/dokujo-tsushin-5455887.txt\n",
            "text/dokujo-tsushin/dokujo-tsushin-5458963.txt\n",
            "text/dokujo-tsushin/dokujo-tsushin-5466033.txt\n",
            "text/dokujo-tsushin/dokujo-tsushin-5467479.txt\n",
            "text/dokujo-tsushin/dokujo-tsushin-5468186.txt\n",
            "text/dokujo-tsushin/dokujo-tsushin-5470531.txt\n",
            "text/dokujo-tsushin/dokujo-tsushin-5471140.txt\n",
            "text/dokujo-tsushin/dokujo-tsushin-5473472.txt\n",
            "text/dokujo-tsushin/dokujo-tsushin-5474199.txt\n",
            "text/dokujo-tsushin/dokujo-tsushin-5475979.txt\n",
            "text/dokujo-tsushin/dokujo-tsushin-5476676.txt\n",
            "text/dokujo-tsushin/dokujo-tsushin-5478309.txt\n",
            "text/dokujo-tsushin/dokujo-tsushin-5481232.txt\n",
            "text/dokujo-tsushin/dokujo-tsushin-5484175.txt\n",
            "text/dokujo-tsushin/dokujo-tsushin-5486778.txt\n",
            "text/dokujo-tsushin/dokujo-tsushin-5489562.txt\n",
            "text/dokujo-tsushin/dokujo-tsushin-5490268.txt\n",
            "text/dokujo-tsushin/dokujo-tsushin-5492401.txt\n",
            "text/dokujo-tsushin/dokujo-tsushin-5494962.txt\n",
            "text/dokujo-tsushin/dokujo-tsushin-5497923.txt\n",
            "text/dokujo-tsushin/dokujo-tsushin-5500742.txt\n",
            "text/dokujo-tsushin/dokujo-tsushin-5503526.txt\n",
            "text/dokujo-tsushin/dokujo-tsushin-5507121.txt\n",
            "text/dokujo-tsushin/dokujo-tsushin-5507187.txt\n",
            "text/dokujo-tsushin/dokujo-tsushin-5514666.txt\n",
            "text/dokujo-tsushin/dokujo-tsushin-5517825.txt\n",
            "text/dokujo-tsushin/dokujo-tsushin-5521492.txt\n",
            "text/dokujo-tsushin/dokujo-tsushin-5521634.txt\n",
            "text/dokujo-tsushin/dokujo-tsushin-5524612.txt\n",
            "text/dokujo-tsushin/dokujo-tsushin-5525085.txt\n",
            "text/dokujo-tsushin/dokujo-tsushin-5534447.txt\n",
            "text/dokujo-tsushin/dokujo-tsushin-5534793.txt\n",
            "text/dokujo-tsushin/dokujo-tsushin-5535845.txt\n",
            "text/dokujo-tsushin/dokujo-tsushin-5536340.txt\n",
            "text/dokujo-tsushin/dokujo-tsushin-5537799.txt\n",
            "text/dokujo-tsushin/dokujo-tsushin-5538532.txt\n",
            "text/dokujo-tsushin/dokujo-tsushin-5539799.txt\n",
            "text/dokujo-tsushin/dokujo-tsushin-5540287.txt\n",
            "text/dokujo-tsushin/dokujo-tsushin-5541227.txt\n",
            "text/dokujo-tsushin/dokujo-tsushin-5543008.txt\n",
            "text/dokujo-tsushin/dokujo-tsushin-5546302.txt\n",
            "text/dokujo-tsushin/dokujo-tsushin-5548824.txt\n",
            "text/dokujo-tsushin/dokujo-tsushin-5552038.txt\n",
            "text/dokujo-tsushin/dokujo-tsushin-5552849.txt\n",
            "text/dokujo-tsushin/dokujo-tsushin-5554873.txt\n",
            "text/dokujo-tsushin/dokujo-tsushin-5557448.txt\n",
            "text/dokujo-tsushin/dokujo-tsushin-5560837.txt\n",
            "text/dokujo-tsushin/dokujo-tsushin-5563674.txt\n",
            "text/dokujo-tsushin/dokujo-tsushin-5566756.txt\n",
            "text/dokujo-tsushin/dokujo-tsushin-5569337.txt\n",
            "text/dokujo-tsushin/dokujo-tsushin-5572979.txt\n",
            "text/dokujo-tsushin/dokujo-tsushin-5578197.txt\n",
            "text/dokujo-tsushin/dokujo-tsushin-5581099.txt\n",
            "text/dokujo-tsushin/dokujo-tsushin-5584362.txt\n",
            "text/dokujo-tsushin/dokujo-tsushin-5586871.txt\n",
            "text/dokujo-tsushin/dokujo-tsushin-5589891.txt\n",
            "text/dokujo-tsushin/dokujo-tsushin-5590236.txt\n",
            "text/dokujo-tsushin/dokujo-tsushin-5592034.txt\n",
            "text/dokujo-tsushin/dokujo-tsushin-5594916.txt\n",
            "text/dokujo-tsushin/dokujo-tsushin-5595521.txt\n",
            "text/dokujo-tsushin/dokujo-tsushin-5595739.txt\n",
            "text/dokujo-tsushin/dokujo-tsushin-5598425.txt\n",
            "text/dokujo-tsushin/dokujo-tsushin-5601482.txt\n",
            "text/dokujo-tsushin/dokujo-tsushin-5604583.txt\n",
            "text/dokujo-tsushin/dokujo-tsushin-5607302.txt\n",
            "text/dokujo-tsushin/dokujo-tsushin-5612929.txt\n",
            "text/dokujo-tsushin/dokujo-tsushin-5615822.txt\n",
            "text/dokujo-tsushin/dokujo-tsushin-5618684.txt\n",
            "text/dokujo-tsushin/dokujo-tsushin-5619249.txt\n",
            "text/dokujo-tsushin/dokujo-tsushin-5621631.txt\n",
            "text/dokujo-tsushin/dokujo-tsushin-5624487.txt\n",
            "text/dokujo-tsushin/dokujo-tsushin-5624738.txt\n",
            "text/dokujo-tsushin/dokujo-tsushin-5626702.txt\n",
            "text/dokujo-tsushin/dokujo-tsushin-5629982.txt\n",
            "text/dokujo-tsushin/dokujo-tsushin-5630452.txt\n",
            "text/dokujo-tsushin/dokujo-tsushin-5632891.txt\n",
            "text/dokujo-tsushin/dokujo-tsushin-5635717.txt\n",
            "text/dokujo-tsushin/dokujo-tsushin-5638661.txt\n",
            "text/dokujo-tsushin/dokujo-tsushin-5641160.txt\n",
            "text/dokujo-tsushin/dokujo-tsushin-5641553.txt\n",
            "text/dokujo-tsushin/dokujo-tsushin-5642937.txt\n",
            "text/dokujo-tsushin/dokujo-tsushin-5647324.txt\n",
            "text/dokujo-tsushin/dokujo-tsushin-5653189.txt\n",
            "text/dokujo-tsushin/dokujo-tsushin-5656207.txt\n",
            "text/dokujo-tsushin/dokujo-tsushin-5659111.txt\n",
            "text/dokujo-tsushin/dokujo-tsushin-5659126.txt\n",
            "text/dokujo-tsushin/dokujo-tsushin-5660479.txt\n",
            "text/dokujo-tsushin/dokujo-tsushin-5661394.txt\n",
            "text/dokujo-tsushin/dokujo-tsushin-5664838.txt\n",
            "text/dokujo-tsushin/dokujo-tsushin-5665190.txt\n",
            "text/dokujo-tsushin/dokujo-tsushin-5665611.txt\n",
            "text/dokujo-tsushin/dokujo-tsushin-5665838.txt\n",
            "text/dokujo-tsushin/dokujo-tsushin-5666210.txt\n",
            "text/dokujo-tsushin/dokujo-tsushin-5667700.txt\n",
            "text/dokujo-tsushin/dokujo-tsushin-5670594.txt\n",
            "text/dokujo-tsushin/dokujo-tsushin-5673565.txt\n",
            "text/dokujo-tsushin/dokujo-tsushin-5676280.txt\n",
            "text/dokujo-tsushin/dokujo-tsushin-5676781.txt\n",
            "text/dokujo-tsushin/dokujo-tsushin-5682557.txt\n",
            "text/dokujo-tsushin/dokujo-tsushin-5685413.txt\n",
            "text/dokujo-tsushin/dokujo-tsushin-5688259.txt\n",
            "text/dokujo-tsushin/dokujo-tsushin-5691122.txt\n",
            "text/dokujo-tsushin/dokujo-tsushin-5694159.txt\n",
            "text/dokujo-tsushin/dokujo-tsushin-5696382.txt\n",
            "text/dokujo-tsushin/dokujo-tsushin-5699705.txt\n",
            "text/dokujo-tsushin/dokujo-tsushin-5700711.txt\n",
            "text/dokujo-tsushin/dokujo-tsushin-5702505.txt\n",
            "text/dokujo-tsushin/dokujo-tsushin-5705310.txt\n",
            "text/dokujo-tsushin/dokujo-tsushin-5705767.txt\n",
            "text/dokujo-tsushin/dokujo-tsushin-5708373.txt\n",
            "text/dokujo-tsushin/dokujo-tsushin-5708913.txt\n",
            "text/dokujo-tsushin/dokujo-tsushin-5711183.txt\n",
            "text/dokujo-tsushin/dokujo-tsushin-5711809.txt\n",
            "text/dokujo-tsushin/dokujo-tsushin-5711816.txt\n",
            "text/dokujo-tsushin/dokujo-tsushin-5716462.txt\n",
            "text/dokujo-tsushin/dokujo-tsushin-5718368.txt\n",
            "text/dokujo-tsushin/dokujo-tsushin-5718943.txt\n",
            "text/dokujo-tsushin/dokujo-tsushin-5719298.txt\n",
            "text/dokujo-tsushin/dokujo-tsushin-5721404.txt\n",
            "text/dokujo-tsushin/dokujo-tsushin-5724435.txt\n",
            "text/dokujo-tsushin/dokujo-tsushin-5727301.txt\n",
            "text/dokujo-tsushin/dokujo-tsushin-5729559.txt\n",
            "text/dokujo-tsushin/dokujo-tsushin-5732942.txt\n",
            "text/dokujo-tsushin/dokujo-tsushin-5733358.txt\n",
            "text/dokujo-tsushin/dokujo-tsushin-5735834.txt\n",
            "text/dokujo-tsushin/dokujo-tsushin-5738688.txt\n",
            "text/dokujo-tsushin/dokujo-tsushin-5741627.txt\n",
            "text/dokujo-tsushin/dokujo-tsushin-5741727.txt\n",
            "text/dokujo-tsushin/dokujo-tsushin-5745068.txt\n",
            "text/dokujo-tsushin/dokujo-tsushin-5745435.txt\n",
            "text/dokujo-tsushin/dokujo-tsushin-5750919.txt\n",
            "text/dokujo-tsushin/dokujo-tsushin-5751474.txt\n",
            "text/dokujo-tsushin/dokujo-tsushin-5753985.txt\n",
            "text/dokujo-tsushin/dokujo-tsushin-5756799.txt\n",
            "text/dokujo-tsushin/dokujo-tsushin-5759827.txt\n",
            "text/dokujo-tsushin/dokujo-tsushin-5760117.txt\n",
            "text/dokujo-tsushin/dokujo-tsushin-5762540.txt\n",
            "text/dokujo-tsushin/dokujo-tsushin-5765250.txt\n",
            "text/dokujo-tsushin/dokujo-tsushin-5768808.txt\n",
            "text/dokujo-tsushin/dokujo-tsushin-5771855.txt\n",
            "text/dokujo-tsushin/dokujo-tsushin-5777670.txt\n",
            "text/dokujo-tsushin/dokujo-tsushin-5780523.txt\n",
            "text/dokujo-tsushin/dokujo-tsushin-5785306.txt\n",
            "text/dokujo-tsushin/dokujo-tsushin-5785941.txt\n",
            "text/dokujo-tsushin/dokujo-tsushin-5787961.txt\n",
            "text/dokujo-tsushin/dokujo-tsushin-5790403.txt\n",
            "text/dokujo-tsushin/dokujo-tsushin-5793016.txt\n",
            "text/dokujo-tsushin/dokujo-tsushin-5795847.txt\n",
            "text/dokujo-tsushin/dokujo-tsushin-5797904.txt\n",
            "text/dokujo-tsushin/dokujo-tsushin-5801310.txt\n",
            "text/dokujo-tsushin/dokujo-tsushin-5802692.txt\n",
            "text/dokujo-tsushin/dokujo-tsushin-5803851.txt\n",
            "text/dokujo-tsushin/dokujo-tsushin-5806751.txt\n",
            "text/dokujo-tsushin/dokujo-tsushin-5809642.txt\n",
            "text/dokujo-tsushin/dokujo-tsushin-5810374.txt\n",
            "text/dokujo-tsushin/dokujo-tsushin-5812819.txt\n",
            "text/dokujo-tsushin/dokujo-tsushin-5815286.txt\n",
            "text/dokujo-tsushin/dokujo-tsushin-5818512.txt\n",
            "text/dokujo-tsushin/dokujo-tsushin-5821538.txt\n",
            "text/dokujo-tsushin/dokujo-tsushin-5822014.txt\n",
            "text/dokujo-tsushin/dokujo-tsushin-5824835.txt\n",
            "text/dokujo-tsushin/dokujo-tsushin-5828233.txt\n",
            "text/dokujo-tsushin/dokujo-tsushin-5831327.txt\n",
            "text/dokujo-tsushin/dokujo-tsushin-5833355.txt\n",
            "text/dokujo-tsushin/dokujo-tsushin-5834709.txt\n",
            "text/dokujo-tsushin/dokujo-tsushin-5837045.txt\n",
            "text/dokujo-tsushin/dokujo-tsushin-5839953.txt\n",
            "text/dokujo-tsushin/dokujo-tsushin-5842914.txt\n",
            "text/dokujo-tsushin/dokujo-tsushin-5846004.txt\n",
            "text/dokujo-tsushin/dokujo-tsushin-5851239.txt\n",
            "text/dokujo-tsushin/dokujo-tsushin-5854846.txt\n",
            "text/dokujo-tsushin/dokujo-tsushin-5857854.txt\n",
            "text/dokujo-tsushin/dokujo-tsushin-5858077.txt\n",
            "text/dokujo-tsushin/dokujo-tsushin-5858691.txt\n",
            "text/dokujo-tsushin/dokujo-tsushin-5860498.txt\n",
            "text/dokujo-tsushin/dokujo-tsushin-5861469.txt\n",
            "text/dokujo-tsushin/dokujo-tsushin-5864772.txt\n",
            "text/dokujo-tsushin/dokujo-tsushin-5866028.txt\n",
            "text/dokujo-tsushin/dokujo-tsushin-5867961.txt\n",
            "text/dokujo-tsushin/dokujo-tsushin-5870184.txt\n",
            "text/dokujo-tsushin/dokujo-tsushin-5871774.txt\n",
            "text/dokujo-tsushin/dokujo-tsushin-5873131.txt\n",
            "text/dokujo-tsushin/dokujo-tsushin-5875944.txt\n",
            "text/dokujo-tsushin/dokujo-tsushin-5878697.txt\n",
            "text/dokujo-tsushin/dokujo-tsushin-5881827.txt\n",
            "text/dokujo-tsushin/dokujo-tsushin-5882104.txt\n",
            "text/dokujo-tsushin/dokujo-tsushin-5882582.txt\n",
            "text/dokujo-tsushin/dokujo-tsushin-5883966.txt\n",
            "text/dokujo-tsushin/dokujo-tsushin-5885590.txt\n",
            "text/dokujo-tsushin/dokujo-tsushin-5889336.txt\n",
            "text/dokujo-tsushin/dokujo-tsushin-5889916.txt\n",
            "text/dokujo-tsushin/dokujo-tsushin-5892855.txt\n",
            "text/dokujo-tsushin/dokujo-tsushin-5895313.txt\n",
            "text/dokujo-tsushin/dokujo-tsushin-5898451.txt\n",
            "text/dokujo-tsushin/dokujo-tsushin-5901870.txt\n",
            "text/dokujo-tsushin/dokujo-tsushin-5902479.txt\n",
            "text/dokujo-tsushin/dokujo-tsushin-5904122.txt\n",
            "text/dokujo-tsushin/dokujo-tsushin-5905496.txt\n",
            "text/dokujo-tsushin/dokujo-tsushin-5911429.txt\n",
            "text/dokujo-tsushin/dokujo-tsushin-5913812.txt\n",
            "text/dokujo-tsushin/dokujo-tsushin-5914608.txt\n",
            "text/dokujo-tsushin/dokujo-tsushin-5916990.txt\n",
            "text/dokujo-tsushin/dokujo-tsushin-5920206.txt\n",
            "text/dokujo-tsushin/dokujo-tsushin-5920825.txt\n",
            "text/dokujo-tsushin/dokujo-tsushin-5922514.txt\n",
            "text/dokujo-tsushin/dokujo-tsushin-5927658.txt\n",
            "text/dokujo-tsushin/dokujo-tsushin-5931336.txt\n",
            "text/dokujo-tsushin/dokujo-tsushin-5931818.txt\n",
            "text/dokujo-tsushin/dokujo-tsushin-5934284.txt\n",
            "text/dokujo-tsushin/dokujo-tsushin-5934540.txt\n",
            "text/dokujo-tsushin/dokujo-tsushin-5936803.txt\n",
            "text/dokujo-tsushin/dokujo-tsushin-5937361.txt\n",
            "text/dokujo-tsushin/dokujo-tsushin-5939461.txt\n",
            "text/dokujo-tsushin/dokujo-tsushin-5941092.txt\n",
            "text/dokujo-tsushin/dokujo-tsushin-5943498.txt\n",
            "text/dokujo-tsushin/dokujo-tsushin-5946356.txt\n",
            "text/dokujo-tsushin/dokujo-tsushin-5946653.txt\n",
            "text/dokujo-tsushin/dokujo-tsushin-5947680.txt\n",
            "text/dokujo-tsushin/dokujo-tsushin-5948953.txt\n",
            "text/dokujo-tsushin/dokujo-tsushin-5949714.txt\n",
            "text/dokujo-tsushin/dokujo-tsushin-5952884.txt\n",
            "text/dokujo-tsushin/dokujo-tsushin-5956034.txt\n",
            "text/dokujo-tsushin/dokujo-tsushin-5961210.txt\n",
            "text/dokujo-tsushin/dokujo-tsushin-5962023.txt\n",
            "text/dokujo-tsushin/dokujo-tsushin-5964107.txt\n",
            "text/dokujo-tsushin/dokujo-tsushin-5965104.txt\n",
            "text/dokujo-tsushin/dokujo-tsushin-5965696.txt\n",
            "text/dokujo-tsushin/dokujo-tsushin-5971298.txt\n",
            "text/dokujo-tsushin/dokujo-tsushin-5971956.txt\n",
            "text/dokujo-tsushin/dokujo-tsushin-5974501.txt\n",
            "text/dokujo-tsushin/dokujo-tsushin-5975097.txt\n",
            "text/dokujo-tsushin/dokujo-tsushin-5976908.txt\n",
            "text/dokujo-tsushin/dokujo-tsushin-5977555.txt\n",
            "text/dokujo-tsushin/dokujo-tsushin-5981975.txt\n",
            "text/dokujo-tsushin/dokujo-tsushin-5982537.txt\n",
            "text/dokujo-tsushin/dokujo-tsushin-5986162.txt\n",
            "text/dokujo-tsushin/dokujo-tsushin-5988200.txt\n",
            "text/dokujo-tsushin/dokujo-tsushin-5991062.txt\n",
            "text/dokujo-tsushin/dokujo-tsushin-5993505.txt\n",
            "text/dokujo-tsushin/dokujo-tsushin-5996660.txt\n",
            "text/dokujo-tsushin/dokujo-tsushin-5997396.txt\n",
            "text/dokujo-tsushin/dokujo-tsushin-6004175.txt\n",
            "text/dokujo-tsushin/dokujo-tsushin-6004865.txt\n",
            "text/dokujo-tsushin/dokujo-tsushin-6007644.txt\n",
            "text/dokujo-tsushin/dokujo-tsushin-6008173.txt\n",
            "text/dokujo-tsushin/dokujo-tsushin-6011197.txt\n",
            "text/dokujo-tsushin/dokujo-tsushin-6014440.txt\n",
            "text/dokujo-tsushin/dokujo-tsushin-6018194.txt\n",
            "text/dokujo-tsushin/dokujo-tsushin-6020655.txt\n",
            "text/dokujo-tsushin/dokujo-tsushin-6022635.txt\n",
            "text/dokujo-tsushin/dokujo-tsushin-6025832.txt\n",
            "text/dokujo-tsushin/dokujo-tsushin-6026513.txt\n",
            "text/dokujo-tsushin/dokujo-tsushin-6029295.txt\n",
            "text/dokujo-tsushin/dokujo-tsushin-6029915.txt\n",
            "text/dokujo-tsushin/dokujo-tsushin-6033284.txt\n",
            "text/dokujo-tsushin/dokujo-tsushin-6036589.txt\n",
            "text/dokujo-tsushin/dokujo-tsushin-6040256.txt\n",
            "text/dokujo-tsushin/dokujo-tsushin-6048111.txt\n",
            "text/dokujo-tsushin/dokujo-tsushin-6051022.txt\n",
            "text/dokujo-tsushin/dokujo-tsushin-6051986.txt\n",
            "text/dokujo-tsushin/dokujo-tsushin-6054292.txt\n",
            "text/dokujo-tsushin/dokujo-tsushin-6057529.txt\n",
            "text/dokujo-tsushin/dokujo-tsushin-6058409.txt\n",
            "text/dokujo-tsushin/dokujo-tsushin-6061209.txt\n",
            "text/dokujo-tsushin/dokujo-tsushin-6063713.txt\n",
            "text/dokujo-tsushin/dokujo-tsushin-6067471.txt\n",
            "text/dokujo-tsushin/dokujo-tsushin-6068671.txt\n",
            "text/dokujo-tsushin/dokujo-tsushin-6071240.txt\n",
            "text/dokujo-tsushin/dokujo-tsushin-6072325.txt\n",
            "text/dokujo-tsushin/dokujo-tsushin-6075716.txt\n",
            "text/dokujo-tsushin/dokujo-tsushin-6076462.txt\n",
            "text/dokujo-tsushin/dokujo-tsushin-6079599.txt\n",
            "text/dokujo-tsushin/dokujo-tsushin-6083306.txt\n",
            "text/dokujo-tsushin/dokujo-tsushin-6085625.txt\n",
            "text/dokujo-tsushin/dokujo-tsushin-6090446.txt\n",
            "text/dokujo-tsushin/dokujo-tsushin-6091144.txt\n",
            "text/dokujo-tsushin/dokujo-tsushin-6092959.txt\n",
            "text/dokujo-tsushin/dokujo-tsushin-6094120.txt\n",
            "text/dokujo-tsushin/dokujo-tsushin-6097420.txt\n",
            "text/dokujo-tsushin/dokujo-tsushin-6100966.txt\n",
            "text/dokujo-tsushin/dokujo-tsushin-6104354.txt\n",
            "text/dokujo-tsushin/dokujo-tsushin-6106776.txt\n",
            "text/dokujo-tsushin/dokujo-tsushin-6109935.txt\n",
            "text/dokujo-tsushin/dokujo-tsushin-6110764.txt\n",
            "text/dokujo-tsushin/dokujo-tsushin-6114077.txt\n",
            "text/dokujo-tsushin/dokujo-tsushin-6117138.txt\n",
            "text/dokujo-tsushin/dokujo-tsushin-6120453.txt\n",
            "text/dokujo-tsushin/dokujo-tsushin-6123822.txt\n",
            "text/dokujo-tsushin/dokujo-tsushin-6126222.txt\n",
            "text/dokujo-tsushin/dokujo-tsushin-6126614.txt\n",
            "text/dokujo-tsushin/dokujo-tsushin-6130430.txt\n",
            "text/dokujo-tsushin/dokujo-tsushin-6132862.txt\n",
            "text/dokujo-tsushin/dokujo-tsushin-6133730.txt\n",
            "text/dokujo-tsushin/dokujo-tsushin-6137044.txt\n",
            "text/dokujo-tsushin/dokujo-tsushin-6140446.txt\n",
            "text/dokujo-tsushin/dokujo-tsushin-6143393.txt\n",
            "text/dokujo-tsushin/dokujo-tsushin-6143624.txt\n",
            "text/dokujo-tsushin/dokujo-tsushin-6144454.txt\n",
            "text/dokujo-tsushin/dokujo-tsushin-6148585.txt\n",
            "text/dokujo-tsushin/dokujo-tsushin-6151186.txt\n",
            "text/dokujo-tsushin/dokujo-tsushin-6151716.txt\n",
            "text/dokujo-tsushin/dokujo-tsushin-6152168.txt\n",
            "text/dokujo-tsushin/dokujo-tsushin-6152845.txt\n",
            "text/dokujo-tsushin/dokujo-tsushin-6154590.txt\n",
            "text/dokujo-tsushin/dokujo-tsushin-6155085.txt\n",
            "text/dokujo-tsushin/dokujo-tsushin-6157285.txt\n",
            "text/dokujo-tsushin/dokujo-tsushin-6157485.txt\n",
            "text/dokujo-tsushin/dokujo-tsushin-6157503.txt\n",
            "text/dokujo-tsushin/dokujo-tsushin-6158704.txt\n",
            "text/dokujo-tsushin/dokujo-tsushin-6158969.txt\n",
            "text/dokujo-tsushin/dokujo-tsushin-6163349.txt\n",
            "text/dokujo-tsushin/dokujo-tsushin-6164370.txt\n",
            "text/dokujo-tsushin/dokujo-tsushin-6165966.txt\n",
            "text/dokujo-tsushin/dokujo-tsushin-6166428.txt\n",
            "text/dokujo-tsushin/dokujo-tsushin-6168938.txt\n",
            "text/dokujo-tsushin/dokujo-tsushin-6171247.txt\n",
            "text/dokujo-tsushin/dokujo-tsushin-6173426.txt\n",
            "text/dokujo-tsushin/dokujo-tsushin-6176454.txt\n",
            "text/dokujo-tsushin/dokujo-tsushin-6178500.txt\n",
            "text/dokujo-tsushin/dokujo-tsushin-6181839.txt\n",
            "text/dokujo-tsushin/dokujo-tsushin-6184841.txt\n",
            "text/dokujo-tsushin/dokujo-tsushin-6186297.txt\n",
            "text/dokujo-tsushin/dokujo-tsushin-6188599.txt\n",
            "text/dokujo-tsushin/dokujo-tsushin-6189748.txt\n",
            "text/dokujo-tsushin/dokujo-tsushin-6190839.txt\n",
            "text/dokujo-tsushin/dokujo-tsushin-6192243.txt\n",
            "text/dokujo-tsushin/dokujo-tsushin-6194728.txt\n",
            "text/dokujo-tsushin/dokujo-tsushin-6195471.txt\n",
            "text/dokujo-tsushin/dokujo-tsushin-6197993.txt\n",
            "text/dokujo-tsushin/dokujo-tsushin-6200505.txt\n",
            "text/dokujo-tsushin/dokujo-tsushin-6203912.txt\n",
            "text/dokujo-tsushin/dokujo-tsushin-6204639.txt\n",
            "text/dokujo-tsushin/dokujo-tsushin-6208121.txt\n",
            "text/dokujo-tsushin/dokujo-tsushin-6209121.txt\n",
            "text/dokujo-tsushin/dokujo-tsushin-6210604.txt\n",
            "text/dokujo-tsushin/dokujo-tsushin-6214688.txt\n",
            "text/dokujo-tsushin/dokujo-tsushin-6215455.txt\n",
            "text/dokujo-tsushin/dokujo-tsushin-6215814.txt\n",
            "text/dokujo-tsushin/dokujo-tsushin-6217629.txt\n",
            "text/dokujo-tsushin/dokujo-tsushin-6218046.txt\n",
            "text/dokujo-tsushin/dokujo-tsushin-6220672.txt\n",
            "text/dokujo-tsushin/dokujo-tsushin-6223811.txt\n",
            "text/dokujo-tsushin/dokujo-tsushin-6226941.txt\n",
            "text/dokujo-tsushin/dokujo-tsushin-6229498.txt\n",
            "text/dokujo-tsushin/dokujo-tsushin-6230107.txt\n",
            "text/dokujo-tsushin/dokujo-tsushin-6233611.txt\n",
            "text/dokujo-tsushin/dokujo-tsushin-6237735.txt\n",
            "text/dokujo-tsushin/dokujo-tsushin-6242231.txt\n",
            "text/dokujo-tsushin/dokujo-tsushin-6246330.txt\n",
            "text/dokujo-tsushin/dokujo-tsushin-6248144.txt\n",
            "text/dokujo-tsushin/dokujo-tsushin-6250477.txt\n",
            "text/dokujo-tsushin/dokujo-tsushin-6250970.txt\n",
            "text/dokujo-tsushin/dokujo-tsushin-6255098.txt\n",
            "text/dokujo-tsushin/dokujo-tsushin-6255871.txt\n",
            "text/dokujo-tsushin/dokujo-tsushin-6258044.txt\n",
            "text/dokujo-tsushin/dokujo-tsushin-6258805.txt\n",
            "text/dokujo-tsushin/dokujo-tsushin-6261479.txt\n",
            "text/dokujo-tsushin/dokujo-tsushin-6265258.txt\n",
            "text/dokujo-tsushin/dokujo-tsushin-6269152.txt\n",
            "text/dokujo-tsushin/dokujo-tsushin-6270754.txt\n",
            "text/dokujo-tsushin/dokujo-tsushin-6274934.txt\n",
            "text/dokujo-tsushin/dokujo-tsushin-6277972.txt\n",
            "text/dokujo-tsushin/dokujo-tsushin-6278473.txt\n",
            "text/dokujo-tsushin/dokujo-tsushin-6281676.txt\n",
            "text/dokujo-tsushin/dokujo-tsushin-6285211.txt\n",
            "text/dokujo-tsushin/dokujo-tsushin-6288766.txt\n",
            "text/dokujo-tsushin/dokujo-tsushin-6289369.txt\n",
            "text/dokujo-tsushin/dokujo-tsushin-6290879.txt\n",
            "text/dokujo-tsushin/dokujo-tsushin-6295560.txt\n",
            "text/dokujo-tsushin/dokujo-tsushin-6296374.txt\n",
            "text/dokujo-tsushin/dokujo-tsushin-6299068.txt\n",
            "text/dokujo-tsushin/dokujo-tsushin-6299824.txt\n",
            "text/dokujo-tsushin/dokujo-tsushin-6306738.txt\n",
            "text/dokujo-tsushin/dokujo-tsushin-6307052.txt\n",
            "text/dokujo-tsushin/dokujo-tsushin-6307069.txt\n",
            "text/dokujo-tsushin/dokujo-tsushin-6310045.txt\n",
            "text/dokujo-tsushin/dokujo-tsushin-6312503.txt\n",
            "text/dokujo-tsushin/dokujo-tsushin-6313075.txt\n",
            "text/dokujo-tsushin/dokujo-tsushin-6317287.txt\n",
            "text/dokujo-tsushin/dokujo-tsushin-6320592.txt\n",
            "text/dokujo-tsushin/dokujo-tsushin-6325130.txt\n",
            "text/dokujo-tsushin/dokujo-tsushin-6327417.txt\n",
            "text/dokujo-tsushin/dokujo-tsushin-6328731.txt\n",
            "text/dokujo-tsushin/dokujo-tsushin-6331446.txt\n",
            "text/dokujo-tsushin/dokujo-tsushin-6332078.txt\n",
            "text/dokujo-tsushin/dokujo-tsushin-6334345.txt\n",
            "text/dokujo-tsushin/dokujo-tsushin-6339598.txt\n",
            "text/dokujo-tsushin/dokujo-tsushin-6340031.txt\n",
            "text/dokujo-tsushin/dokujo-tsushin-6342563.txt\n",
            "text/dokujo-tsushin/dokujo-tsushin-6346098.txt\n",
            "text/dokujo-tsushin/dokujo-tsushin-6346694.txt\n",
            "text/dokujo-tsushin/dokujo-tsushin-6349979.txt\n",
            "text/dokujo-tsushin/dokujo-tsushin-6356266.txt\n",
            "text/dokujo-tsushin/dokujo-tsushin-6356612.txt\n",
            "text/dokujo-tsushin/dokujo-tsushin-6356928.txt\n",
            "text/dokujo-tsushin/dokujo-tsushin-6360796.txt\n",
            "text/dokujo-tsushin/dokujo-tsushin-6364272.txt\n",
            "text/dokujo-tsushin/dokujo-tsushin-6365623.txt\n",
            "text/dokujo-tsushin/dokujo-tsushin-6368259.txt\n",
            "text/dokujo-tsushin/dokujo-tsushin-6369305.txt\n",
            "text/dokujo-tsushin/dokujo-tsushin-6371775.txt\n",
            "text/dokujo-tsushin/dokujo-tsushin-6378216.txt\n",
            "text/dokujo-tsushin/dokujo-tsushin-6378798.txt\n",
            "text/dokujo-tsushin/dokujo-tsushin-6384000.txt\n",
            "text/dokujo-tsushin/dokujo-tsushin-6385346.txt\n",
            "text/dokujo-tsushin/dokujo-tsushin-6388523.txt\n",
            "text/dokujo-tsushin/dokujo-tsushin-6389279.txt\n",
            "text/dokujo-tsushin/dokujo-tsushin-6392258.txt\n",
            "text/dokujo-tsushin/dokujo-tsushin-6396114.txt\n",
            "text/dokujo-tsushin/dokujo-tsushin-6396840.txt\n",
            "text/dokujo-tsushin/dokujo-tsushin-6398703.txt\n",
            "text/dokujo-tsushin/dokujo-tsushin-6403977.txt\n",
            "text/dokujo-tsushin/dokujo-tsushin-6407330.txt\n",
            "text/dokujo-tsushin/dokujo-tsushin-6408147.txt\n",
            "text/dokujo-tsushin/dokujo-tsushin-6411389.txt\n",
            "text/dokujo-tsushin/dokujo-tsushin-6415479.txt\n",
            "text/dokujo-tsushin/dokujo-tsushin-6416239.txt\n",
            "text/dokujo-tsushin/dokujo-tsushin-6419235.txt\n",
            "text/dokujo-tsushin/dokujo-tsushin-6422811.txt\n",
            "text/dokujo-tsushin/dokujo-tsushin-6427970.txt\n",
            "text/dokujo-tsushin/dokujo-tsushin-6431821.txt\n",
            "text/dokujo-tsushin/dokujo-tsushin-6432076.txt\n",
            "text/dokujo-tsushin/dokujo-tsushin-6435095.txt\n",
            "text/dokujo-tsushin/dokujo-tsushin-6435886.txt\n",
            "text/dokujo-tsushin/dokujo-tsushin-6439061.txt\n",
            "text/dokujo-tsushin/dokujo-tsushin-6440049.txt\n",
            "text/dokujo-tsushin/dokujo-tsushin-6440533.txt\n",
            "text/dokujo-tsushin/dokujo-tsushin-6443618.txt\n",
            "text/dokujo-tsushin/dokujo-tsushin-6446026.txt\n",
            "text/dokujo-tsushin/dokujo-tsushin-6446590.txt\n",
            "text/dokujo-tsushin/dokujo-tsushin-6450774.txt\n",
            "text/dokujo-tsushin/dokujo-tsushin-6453989.txt\n",
            "text/dokujo-tsushin/dokujo-tsushin-6454555.txt\n",
            "text/dokujo-tsushin/dokujo-tsushin-6455353.txt\n",
            "text/dokujo-tsushin/dokujo-tsushin-6455366.txt\n",
            "text/dokujo-tsushin/dokujo-tsushin-6455380.txt\n",
            "text/dokujo-tsushin/dokujo-tsushin-6458290.txt\n",
            "text/dokujo-tsushin/dokujo-tsushin-6461568.txt\n",
            "text/dokujo-tsushin/dokujo-tsushin-6465344.txt\n",
            "text/dokujo-tsushin/dokujo-tsushin-6467892.txt\n",
            "text/dokujo-tsushin/dokujo-tsushin-6468454.txt\n",
            "text/dokujo-tsushin/dokujo-tsushin-6472912.txt\n",
            "text/dokujo-tsushin/dokujo-tsushin-6476119.txt\n",
            "text/dokujo-tsushin/dokujo-tsushin-6476990.txt\n",
            "text/dokujo-tsushin/dokujo-tsushin-6477012.txt\n",
            "text/dokujo-tsushin/dokujo-tsushin-6480118.txt\n",
            "text/dokujo-tsushin/dokujo-tsushin-6480135.txt\n",
            "text/dokujo-tsushin/dokujo-tsushin-6484815.txt\n",
            "text/dokujo-tsushin/dokujo-tsushin-6487695.txt\n",
            "text/dokujo-tsushin/dokujo-tsushin-6488367.txt\n",
            "text/dokujo-tsushin/dokujo-tsushin-6492279.txt\n",
            "text/dokujo-tsushin/dokujo-tsushin-6492698.txt\n",
            "text/dokujo-tsushin/dokujo-tsushin-6494931.txt\n",
            "text/dokujo-tsushin/dokujo-tsushin-6501400.txt\n",
            "text/dokujo-tsushin/dokujo-tsushin-6502782.txt\n",
            "text/dokujo-tsushin/dokujo-tsushin-6506771.txt\n",
            "text/dokujo-tsushin/dokujo-tsushin-6510816.txt\n",
            "text/dokujo-tsushin/dokujo-tsushin-6514148.txt\n",
            "text/dokujo-tsushin/dokujo-tsushin-6514622.txt\n",
            "text/dokujo-tsushin/dokujo-tsushin-6518436.txt\n",
            "text/dokujo-tsushin/dokujo-tsushin-6520943.txt\n",
            "text/dokujo-tsushin/dokujo-tsushin-6523283.txt\n",
            "text/dokujo-tsushin/dokujo-tsushin-6524058.txt\n",
            "text/dokujo-tsushin/dokujo-tsushin-6526357.txt\n",
            "text/dokujo-tsushin/dokujo-tsushin-6528405.txt\n",
            "text/dokujo-tsushin/dokujo-tsushin-6530289.txt\n",
            "text/dokujo-tsushin/dokujo-tsushin-6530851.txt\n",
            "text/dokujo-tsushin/dokujo-tsushin-6532121.txt\n",
            "text/dokujo-tsushin/dokujo-tsushin-6533086.txt\n",
            "text/dokujo-tsushin/dokujo-tsushin-6534759.txt\n",
            "text/dokujo-tsushin/dokujo-tsushin-6535343.txt\n",
            "text/dokujo-tsushin/dokujo-tsushin-6535527.txt\n",
            "text/dokujo-tsushin/dokujo-tsushin-6538094.txt\n",
            "text/dokujo-tsushin/dokujo-tsushin-6543226.txt\n",
            "text/dokujo-tsushin/dokujo-tsushin-6546795.txt\n",
            "text/dokujo-tsushin/dokujo-tsushin-6549145.txt\n",
            "text/dokujo-tsushin/dokujo-tsushin-6551874.txt\n",
            "text/dokujo-tsushin/dokujo-tsushin-6556566.txt\n",
            "text/dokujo-tsushin/dokujo-tsushin-6559635.txt\n",
            "text/dokujo-tsushin/dokujo-tsushin-6565071.txt\n",
            "text/dokujo-tsushin/dokujo-tsushin-6568468.txt\n",
            "text/dokujo-tsushin/dokujo-tsushin-6569466.txt\n",
            "text/dokujo-tsushin/dokujo-tsushin-6572058.txt\n",
            "text/dokujo-tsushin/dokujo-tsushin-6574763.txt\n",
            "text/dokujo-tsushin/dokujo-tsushin-6575383.txt\n",
            "text/dokujo-tsushin/dokujo-tsushin-6579406.txt\n",
            "text/dokujo-tsushin/dokujo-tsushin-6582412.txt\n",
            "text/dokujo-tsushin/dokujo-tsushin-6586592.txt\n",
            "text/dokujo-tsushin/dokujo-tsushin-6587438.txt\n",
            "text/dokujo-tsushin/dokujo-tsushin-6590861.txt\n",
            "text/dokujo-tsushin/dokujo-tsushin-6591954.txt\n",
            "text/dokujo-tsushin/dokujo-tsushin-6594944.txt\n",
            "text/dokujo-tsushin/dokujo-tsushin-6597056.txt\n",
            "text/dokujo-tsushin/dokujo-tsushin-6602346.txt\n",
            "text/dokujo-tsushin/dokujo-tsushin-6604856.txt\n",
            "text/dokujo-tsushin/dokujo-tsushin-6608759.txt\n",
            "text/dokujo-tsushin/dokujo-tsushin-6610633.txt\n",
            "text/dokujo-tsushin/dokujo-tsushin-6613586.txt\n",
            "text/dokujo-tsushin/dokujo-tsushin-6617085.txt\n",
            "text/dokujo-tsushin/dokujo-tsushin-6619305.txt\n",
            "text/dokujo-tsushin/dokujo-tsushin-6624494.txt\n",
            "text/dokujo-tsushin/dokujo-tsushin-6625026.txt\n",
            "text/dokujo-tsushin/dokujo-tsushin-6627660.txt\n",
            "text/dokujo-tsushin/dokujo-tsushin-6628442.txt\n",
            "text/dokujo-tsushin/dokujo-tsushin-6631848.txt\n",
            "text/dokujo-tsushin/dokujo-tsushin-6635433.txt\n",
            "text/dokujo-tsushin/dokujo-tsushin-6636095.txt\n",
            "text/dokujo-tsushin/dokujo-tsushin-6639825.txt\n",
            "text/dokujo-tsushin/dokujo-tsushin-6641980.txt\n",
            "text/dokujo-tsushin/dokujo-tsushin-6642731.txt\n",
            "text/dokujo-tsushin/dokujo-tsushin-6646614.txt\n",
            "text/dokujo-tsushin/dokujo-tsushin-6649357.txt\n",
            "text/dokujo-tsushin/dokujo-tsushin-6653753.txt\n",
            "text/dokujo-tsushin/dokujo-tsushin-6657811.txt\n",
            "text/dokujo-tsushin/dokujo-tsushin-6661458.txt\n",
            "text/dokujo-tsushin/dokujo-tsushin-6664023.txt\n",
            "text/dokujo-tsushin/dokujo-tsushin-6665918.txt\n",
            "text/dokujo-tsushin/dokujo-tsushin-6671730.txt\n",
            "text/dokujo-tsushin/dokujo-tsushin-6673384.txt\n",
            "text/dokujo-tsushin/dokujo-tsushin-6676507.txt\n",
            "text/dokujo-tsushin/dokujo-tsushin-6680507.txt\n",
            "text/dokujo-tsushin/dokujo-tsushin-6684115.txt\n",
            "text/dokujo-tsushin/dokujo-tsushin-6686581.txt\n",
            "text/dokujo-tsushin/dokujo-tsushin-6687261.txt\n",
            "text/dokujo-tsushin/dokujo-tsushin-6691317.txt\n",
            "text/dokujo-tsushin/dokujo-tsushin-6694749.txt\n",
            "text/dokujo-tsushin/dokujo-tsushin-6698715.txt\n",
            "text/dokujo-tsushin/dokujo-tsushin-6702565.txt\n",
            "text/dokujo-tsushin/dokujo-tsushin-6706689.txt\n",
            "text/dokujo-tsushin/dokujo-tsushin-6709382.txt\n",
            "text/dokujo-tsushin/dokujo-tsushin-6714179.txt\n",
            "text/dokujo-tsushin/dokujo-tsushin-6719612.txt\n",
            "text/dokujo-tsushin/dokujo-tsushin-6723862.txt\n",
            "text/dokujo-tsushin/dokujo-tsushin-6727600.txt\n",
            "text/dokujo-tsushin/dokujo-tsushin-6727711.txt\n",
            "text/dokujo-tsushin/dokujo-tsushin-6728400.txt\n",
            "text/dokujo-tsushin/dokujo-tsushin-6731674.txt\n",
            "text/dokujo-tsushin/dokujo-tsushin-6734255.txt\n",
            "text/dokujo-tsushin/dokujo-tsushin-6734725.txt\n",
            "text/dokujo-tsushin/dokujo-tsushin-6738994.txt\n",
            "text/dokujo-tsushin/dokujo-tsushin-6742333.txt\n",
            "text/dokujo-tsushin/dokujo-tsushin-6746645.txt\n",
            "text/dokujo-tsushin/dokujo-tsushin-6750674.txt\n",
            "text/dokujo-tsushin/dokujo-tsushin-6754656.txt\n",
            "text/dokujo-tsushin/dokujo-tsushin-6757362.txt\n",
            "text/dokujo-tsushin/dokujo-tsushin-6757873.txt\n",
            "text/dokujo-tsushin/dokujo-tsushin-6758308.txt\n",
            "text/dokujo-tsushin/dokujo-tsushin-6763585.txt\n",
            "text/dokujo-tsushin/dokujo-tsushin-6764808.txt\n",
            "text/dokujo-tsushin/dokujo-tsushin-6765514.txt\n",
            "text/dokujo-tsushin/dokujo-tsushin-6768113.txt\n",
            "text/dokujo-tsushin/dokujo-tsushin-6771292.txt\n",
            "text/dokujo-tsushin/dokujo-tsushin-6771565.txt\n",
            "text/dokujo-tsushin/dokujo-tsushin-6771702.txt\n",
            "text/dokujo-tsushin/dokujo-tsushin-6775418.txt\n",
            "text/dokujo-tsushin/dokujo-tsushin-6778211.txt\n",
            "text/dokujo-tsushin/dokujo-tsushin-6782676.txt\n",
            "text/dokujo-tsushin/dokujo-tsushin-6783323.txt\n",
            "text/dokujo-tsushin/dokujo-tsushin-6785653.txt\n",
            "text/dokujo-tsushin/dokujo-tsushin-6789630.txt\n",
            "text/dokujo-tsushin/dokujo-tsushin-6789638.txt\n",
            "text/dokujo-tsushin/dokujo-tsushin-6793684.txt\n",
            "text/dokujo-tsushin/dokujo-tsushin-6797502.txt\n",
            "text/dokujo-tsushin/dokujo-tsushin-6800344.txt\n",
            "text/dokujo-tsushin/dokujo-tsushin-6805001.txt\n",
            "text/dokujo-tsushin/dokujo-tsushin-6806334.txt\n",
            "text/dokujo-tsushin/dokujo-tsushin-6807858.txt\n",
            "text/dokujo-tsushin/dokujo-tsushin-6812547.txt\n",
            "text/dokujo-tsushin/dokujo-tsushin-6816710.txt\n",
            "text/dokujo-tsushin/dokujo-tsushin-6820686.txt\n",
            "text/dokujo-tsushin/dokujo-tsushin-6823781.txt\n",
            "text/dokujo-tsushin/dokujo-tsushin-6825628.txt\n",
            "text/dokujo-tsushin/dokujo-tsushin-6828472.txt\n",
            "text/dokujo-tsushin/dokujo-tsushin-6831866.txt\n",
            "text/dokujo-tsushin/dokujo-tsushin-6832754.txt\n",
            "text/dokujo-tsushin/dokujo-tsushin-6836500.txt\n",
            "text/dokujo-tsushin/dokujo-tsushin-6839800.txt\n",
            "text/dokujo-tsushin/dokujo-tsushin-6843813.txt\n",
            "text/dokujo-tsushin/dokujo-tsushin-6846670.txt\n",
            "text/dokujo-tsushin/dokujo-tsushin-6851257.txt\n",
            "text/dokujo-tsushin/dokujo-tsushin-6854038.txt\n",
            "text/dokujo-tsushin/dokujo-tsushin-6856582.txt\n",
            "text/dokujo-tsushin/dokujo-tsushin-6857075.txt\n",
            "text/dokujo-tsushin/dokujo-tsushin-6860270.txt\n",
            "text/dokujo-tsushin/dokujo-tsushin-6863452.txt\n",
            "text/dokujo-tsushin/dokujo-tsushin-6864107.txt\n",
            "text/dokujo-tsushin/dokujo-tsushin-6865838.txt\n",
            "text/dokujo-tsushin/dokujo-tsushin-6870248.txt\n",
            "text/dokujo-tsushin/dokujo-tsushin-6873164.txt\n",
            "text/dokujo-tsushin/dokujo-tsushin-6877711.txt\n",
            "text/dokujo-tsushin/dokujo-tsushin-6881520.txt\n",
            "text/dokujo-tsushin/dokujo-tsushin-6882266.txt\n",
            "text/dokujo-tsushin/dokujo-tsushin-6885293.txt\n",
            "text/dokujo-tsushin/dokujo-tsushin-6888147.txt\n",
            "text/dokujo-tsushin/dokujo-tsushin-6888593.txt\n",
            "text/dokujo-tsushin/dokujo-tsushin-6892725.txt\n",
            "text/dokujo-tsushin/dokujo-tsushin-6896227.txt\n",
            "text/dokujo-tsushin/dokujo-tsushin-6899896.txt\n",
            "text/dokujo-tsushin/dokujo-tsushin-6903790.txt\n",
            "text/dokujo-tsushin/dokujo-tsushin-6907399.txt\n",
            "text/dokujo-tsushin/dokujo-tsushin-6907725.txt\n",
            "text/dokujo-tsushin/dokujo-tsushin-6908189.txt\n",
            "text/dokujo-tsushin/dokujo-tsushin-6910523.txt\n",
            "text/dokujo-tsushin/dokujo-tsushin-6915005.txt\n",
            "text/dokujo-tsushin/LICENSE.txt\n"
          ],
          "name": "stdout"
        }
      ]
    },
    {
      "cell_type": "code",
      "metadata": {
        "id": "evH-LKIrC1db",
        "colab": {
          "base_uri": "https://localhost:8080/",
          "height": 123
        },
        "outputId": "0f1034a9-3573-446a-9eb6-857ee99bb121"
      },
      "source": [
        "!head -3 text/dokujo-tsushin/dokujo-tsushin-6915005.txt\n",
        "!head -3 text/it-life-hack/it-life-hack-6576574.txt"
      ],
      "execution_count": null,
      "outputs": [
        {
          "output_type": "stream",
          "text": [
            "http://news.livedoor.com/article/detail/6915005/\n",
            "2012-09-03T14:00:00+0900\n",
            "男女間で“カワイイ”の基準が異なる理由\n",
            "http://news.livedoor.com/article/detail/6576574/\n",
            "2012-05-20T10:00:00+0900\n",
            "2012年夏モデルも紹介！　新しいネットサービスから新型CPUネタやiアプリまで【デジ通】一気読み\n"
          ],
          "name": "stdout"
        }
      ]
    },
    {
      "cell_type": "code",
      "metadata": {
        "id": "YFkHAjZpqVlW",
        "colab": {
          "base_uri": "https://localhost:8080/",
          "height": 34
        },
        "outputId": "8f1e1c77-fc73-4567-bbab-415b16c77baf"
      },
      "source": [
        "import glob\n",
        "files = glob.glob(\"./text/*/*.txt\")\n",
        "len(files)"
      ],
      "execution_count": null,
      "outputs": [
        {
          "output_type": "execute_result",
          "data": {
            "text/plain": [
              "7376"
            ]
          },
          "metadata": {
            "tags": []
          },
          "execution_count": 5
        }
      ]
    },
    {
      "cell_type": "code",
      "metadata": {
        "id": "Wfu3mk6iPPQ_"
      },
      "source": [
        "import os\n",
        "records = []\n",
        "for fl in files:\n",
        "  if os.path.exists(fl) and os.path.isfile(fl):\n",
        "    sep_fp = fl.split('/')\n",
        "    category = sep_fp[2]\n",
        "    fname = sep_fp[-1]\n",
        "    if fname == 'LICENSE.txt':\n",
        "      continue\n",
        "    with open(fl, 'r') as f:\n",
        "      lines = f.readlines()\n",
        "      url = lines[0].strip('\\n')\n",
        "      timestamp = lines[1].strip('\\n')\n",
        "      article = (''.join(lines[2:])).strip('\\n')\n",
        "      records.append([category, url, timestamp, article])"
      ],
      "execution_count": null,
      "outputs": []
    },
    {
      "cell_type": "code",
      "metadata": {
        "id": "P4EznU96ESjY",
        "colab": {
          "base_uri": "https://localhost:8080/",
          "height": 34
        },
        "outputId": "bcb5b9c7-b58e-40d8-e1b0-c7df9847a5f4"
      },
      "source": [
        "import pandas as pd\n",
        "df = pd.DataFrame(records, columns=['カテゴリ', 'URL', 'タイムスタンプ', '記事本文'])\n",
        "df.to_csv('livedoor.csv', encoding='utf8', index=None)\n",
        "len(df)"
      ],
      "execution_count": null,
      "outputs": [
        {
          "output_type": "execute_result",
          "data": {
            "text/plain": [
              "7367"
            ]
          },
          "metadata": {
            "tags": []
          },
          "execution_count": 7
        }
      ]
    },
    {
      "cell_type": "code",
      "metadata": {
        "id": "JsJdzYDhEs1s",
        "colab": {
          "base_uri": "https://localhost:8080/",
          "height": 514
        },
        "outputId": "397b165e-0560-4239-ea94-994a7c3b4f83"
      },
      "source": [
        "df.sample(10)"
      ],
      "execution_count": null,
      "outputs": [
        {
          "output_type": "execute_result",
          "data": {
            "text/html": [
              "<div>\n",
              "<style scoped>\n",
              "    .dataframe tbody tr th:only-of-type {\n",
              "        vertical-align: middle;\n",
              "    }\n",
              "\n",
              "    .dataframe tbody tr th {\n",
              "        vertical-align: top;\n",
              "    }\n",
              "\n",
              "    .dataframe thead th {\n",
              "        text-align: right;\n",
              "    }\n",
              "</style>\n",
              "<table border=\"1\" class=\"dataframe\">\n",
              "  <thead>\n",
              "    <tr style=\"text-align: right;\">\n",
              "      <th></th>\n",
              "      <th>カテゴリ</th>\n",
              "      <th>URL</th>\n",
              "      <th>タイムスタンプ</th>\n",
              "      <th>記事本文</th>\n",
              "    </tr>\n",
              "  </thead>\n",
              "  <tbody>\n",
              "    <tr>\n",
              "      <th>5771</th>\n",
              "      <td>sports-watch</td>\n",
              "      <td>http://news.livedoor.com/article/detail/6577722/</td>\n",
              "      <td>2012-05-21T09:00:00+0900</td>\n",
              "      <td>渦中の香川真司にインタビュー、「ズバリ次のチーム、話を伺いたい」\\n20日放送、NHK「サン...</td>\n",
              "    </tr>\n",
              "    <tr>\n",
              "      <th>3016</th>\n",
              "      <td>dokujo-tsushin</td>\n",
              "      <td>http://news.livedoor.com/article/detail/5971298/</td>\n",
              "      <td>2011-10-27T14:00:00+0900</td>\n",
              "      <td>恋と仕事のマンネリ打破テクニックとは？\\n恋も仕事も人生も、それなりに経験が積み上がってくる...</td>\n",
              "    </tr>\n",
              "    <tr>\n",
              "      <th>3161</th>\n",
              "      <td>dokujo-tsushin</td>\n",
              "      <td>http://news.livedoor.com/article/detail/5022310/</td>\n",
              "      <td>2010-09-21T14:00:00+0900</td>\n",
              "      <td>赤裸々な女の生態を描く「祝女」が帰ってくる！\\n歳を経ていくと、世の中の仕組みや現実というも...</td>\n",
              "    </tr>\n",
              "    <tr>\n",
              "      <th>218</th>\n",
              "      <td>it-life-hack</td>\n",
              "      <td>http://news.livedoor.com/article/detail/6882227/</td>\n",
              "      <td>2012-08-23T17:00:00+0900</td>\n",
              "      <td>真夏のダンスに15万人が熱狂　大盛況だったニコニコダンスマスター4レポート\\n以前紹介したよ...</td>\n",
              "    </tr>\n",
              "    <tr>\n",
              "      <th>5421</th>\n",
              "      <td>peachy</td>\n",
              "      <td>http://news.livedoor.com/article/detail/4773875/</td>\n",
              "      <td>2010-05-17T15:45:00+0900</td>\n",
              "      <td>“あなたの人生史上、最高の実話”　サンドラ・ブロック最高の演技が待望のリリース\\n　全米で興...</td>\n",
              "    </tr>\n",
              "    <tr>\n",
              "      <th>1141</th>\n",
              "      <td>kaden-channel</td>\n",
              "      <td>http://news.livedoor.com/article/detail/6200825/</td>\n",
              "      <td>2012-01-18T12:00:00+0900</td>\n",
              "      <td>英語版WikipediaがSOPAへの抗議で24時間サイトを閉鎖！米国Googleも抗議表明...</td>\n",
              "    </tr>\n",
              "    <tr>\n",
              "      <th>5430</th>\n",
              "      <td>peachy</td>\n",
              "      <td>http://news.livedoor.com/article/detail/4492986/</td>\n",
              "      <td>2009-12-09T11:20:00+0900</td>\n",
              "      <td>住宅街のパン屋さんで、もちもちベーグルを習ってきました！\\n　働く女子のみなさん、こんにちは...</td>\n",
              "    </tr>\n",
              "    <tr>\n",
              "      <th>6129</th>\n",
              "      <td>sports-watch</td>\n",
              "      <td>http://news.livedoor.com/article/detail/5103514/</td>\n",
              "      <td>2010-10-28T23:50:00+0900</td>\n",
              "      <td>【Sports Watch】亀田姫月がブログ開始。史郎氏は「中身は男」 \\nボクシング・亀田...</td>\n",
              "    </tr>\n",
              "    <tr>\n",
              "      <th>2479</th>\n",
              "      <td>topic-news</td>\n",
              "      <td>http://news.livedoor.com/article/detail/6345530/</td>\n",
              "      <td>2012-03-07T12:31:00+0900</td>\n",
              "      <td>フジテレビの姿勢に非難殺到…番組で″火渡り″させ、老人が歩行不能の大火傷\\n「週刊文春」（3...</td>\n",
              "    </tr>\n",
              "    <tr>\n",
              "      <th>4057</th>\n",
              "      <td>smax</td>\n",
              "      <td>http://news.livedoor.com/article/detail/6644560/</td>\n",
              "      <td>2012-06-10T17:55:00+0900</td>\n",
              "      <td>【KDDIとHTCが協業！日本仕様のWiMAX対応au初Android 4.0搭載スマートフ...</td>\n",
              "    </tr>\n",
              "  </tbody>\n",
              "</table>\n",
              "</div>"
            ],
            "text/plain": [
              "                カテゴリ  ...                                               記事本文\n",
              "5771    sports-watch  ...  渦中の香川真司にインタビュー、「ズバリ次のチーム、話を伺いたい」\\n20日放送、NHK「サン...\n",
              "3016  dokujo-tsushin  ...  恋と仕事のマンネリ打破テクニックとは？\\n恋も仕事も人生も、それなりに経験が積み上がってくる...\n",
              "3161  dokujo-tsushin  ...  赤裸々な女の生態を描く「祝女」が帰ってくる！\\n歳を経ていくと、世の中の仕組みや現実というも...\n",
              "218     it-life-hack  ...  真夏のダンスに15万人が熱狂　大盛況だったニコニコダンスマスター4レポート\\n以前紹介したよ...\n",
              "5421          peachy  ...  “あなたの人生史上、最高の実話”　サンドラ・ブロック最高の演技が待望のリリース\\n　全米で興...\n",
              "1141   kaden-channel  ...  英語版WikipediaがSOPAへの抗議で24時間サイトを閉鎖！米国Googleも抗議表明...\n",
              "5430          peachy  ...  住宅街のパン屋さんで、もちもちベーグルを習ってきました！\\n　働く女子のみなさん、こんにちは...\n",
              "6129    sports-watch  ...  【Sports Watch】亀田姫月がブログ開始。史郎氏は「中身は男」 \\nボクシング・亀田...\n",
              "2479      topic-news  ...  フジテレビの姿勢に非難殺到…番組で″火渡り″させ、老人が歩行不能の大火傷\\n「週刊文春」（3...\n",
              "4057            smax  ...  【KDDIとHTCが協業！日本仕様のWiMAX対応au初Android 4.0搭載スマートフ...\n",
              "\n",
              "[10 rows x 4 columns]"
            ]
          },
          "metadata": {
            "tags": []
          },
          "execution_count": 8
        }
      ]
    },
    {
      "cell_type": "markdown",
      "metadata": {
        "id": "3Y2D3az2PhUa"
      },
      "source": [
        "## ５１：ユニークなカテゴリ数"
      ]
    },
    {
      "cell_type": "code",
      "metadata": {
        "id": "5yWi-O1yGOTc",
        "colab": {
          "base_uri": "https://localhost:8080/",
          "height": 34
        },
        "outputId": "c61b99a5-2427-4480-f4db-cae2c55d5815"
      },
      "source": [
        "len(set(df['カテゴリ']))"
      ],
      "execution_count": null,
      "outputs": [
        {
          "output_type": "execute_result",
          "data": {
            "text/plain": [
              "9"
            ]
          },
          "metadata": {
            "tags": []
          },
          "execution_count": 9
        }
      ]
    },
    {
      "cell_type": "markdown",
      "metadata": {
        "id": "wWCo0oVaPj_3"
      },
      "source": [
        "## ５２：正解ラベルの作成"
      ]
    },
    {
      "cell_type": "code",
      "metadata": {
        "id": "G3QPaP2rNWWK",
        "colab": {
          "base_uri": "https://localhost:8080/",
          "height": 54
        },
        "outputId": "811ab999-9e24-4172-c102-bb919ab00b13"
      },
      "source": [
        "categories = list(set(df['カテゴリ']))\n",
        "cat2id = {cat:i for i, cat in enumerate(categories)}\n",
        "print(cat2id.items())"
      ],
      "execution_count": null,
      "outputs": [
        {
          "output_type": "stream",
          "text": [
            "dict_items([('livedoor-homme', 0), ('topic-news', 1), ('dokujo-tsushin', 2), ('it-life-hack', 3), ('peachy', 4), ('sports-watch', 5), ('smax', 6), ('movie-enter', 7), ('kaden-channel', 8)])\n"
          ],
          "name": "stdout"
        }
      ]
    },
    {
      "cell_type": "code",
      "metadata": {
        "id": "R8iyi3V-PuXR",
        "colab": {
          "base_uri": "https://localhost:8080/",
          "height": 34
        },
        "outputId": "442f4547-3733-4c51-b356-53b388ff2729"
      },
      "source": [
        "labels = []\n",
        "for cat in df['カテゴリ']:\n",
        "  labels.append(cat2id[cat])\n",
        "len(labels)"
      ],
      "execution_count": null,
      "outputs": [
        {
          "output_type": "execute_result",
          "data": {
            "text/plain": [
              "7367"
            ]
          },
          "metadata": {
            "tags": []
          },
          "execution_count": 11
        }
      ]
    },
    {
      "cell_type": "markdown",
      "metadata": {
        "id": "_uDIYOXXRl47"
      },
      "source": [
        "## ５３：改行コードで分割"
      ]
    },
    {
      "cell_type": "code",
      "metadata": {
        "id": "8f2EfubVRqbk"
      },
      "source": [
        "import pandas as pd\n",
        "\n",
        "ret_lst = []\n",
        "for article in df['記事本文']:\n",
        "  lines = article.split('\\n')\n",
        "  for line in lines:\n",
        "    if line:\n",
        "      ret_lst.append(line)\n",
        "pd.DataFrame(ret_lst).to_csv('article_ret.txt',index=None, header=None)"
      ],
      "execution_count": null,
      "outputs": []
    },
    {
      "cell_type": "code",
      "metadata": {
        "id": "YjrpdoVNTg9-",
        "colab": {
          "base_uri": "https://localhost:8080/",
          "height": 34
        },
        "outputId": "bdaa69a2-c08f-4127-b163-8d1d9e741476"
      },
      "source": [
        "!wc -l article_ret.txt"
      ],
      "execution_count": null,
      "outputs": [
        {
          "output_type": "stream",
          "text": [
            "143711 article_ret.txt\n"
          ],
          "name": "stdout"
        }
      ]
    },
    {
      "cell_type": "code",
      "metadata": {
        "id": "9vvz91k-Th1n",
        "colab": {
          "base_uri": "https://localhost:8080/",
          "height": 34
        },
        "outputId": "2886d467-f700-45e7-8a2f-f72546dcd1e2"
      },
      "source": [
        "len(ret_lst)"
      ],
      "execution_count": null,
      "outputs": [
        {
          "output_type": "execute_result",
          "data": {
            "text/plain": [
              "143711"
            ]
          },
          "metadata": {
            "tags": []
          },
          "execution_count": 14
        }
      ]
    },
    {
      "cell_type": "code",
      "metadata": {
        "id": "eaG2gJIkVhce",
        "colab": {
          "base_uri": "https://localhost:8080/",
          "height": 35
        },
        "outputId": "22d79ea3-45d7-41ba-e1f1-31b7df8f97b9"
      },
      "source": [
        "ret_lst[1803]"
      ],
      "execution_count": null,
      "outputs": [
        {
          "output_type": "execute_result",
          "data": {
            "application/vnd.google.colaboratory.intrinsic+json": {
              "type": "string"
            },
            "text/plain": [
              "'GW GTX660TI 2GBD5 PHANTOM '"
            ]
          },
          "metadata": {
            "tags": []
          },
          "execution_count": 15
        }
      ]
    },
    {
      "cell_type": "markdown",
      "metadata": {
        "id": "rflB1w-LWxK_"
      },
      "source": [
        "## ５４：Sentence Pieceをlivedoorコーパスで訓練"
      ]
    },
    {
      "cell_type": "code",
      "metadata": {
        "id": "IKqmgkQPWNJJ",
        "colab": {
          "base_uri": "https://localhost:8080/",
          "height": 34
        },
        "outputId": "e7a9c3d4-5c95-4259-93e4-a143278ec920"
      },
      "source": [
        "!pip install sentencepiece"
      ],
      "execution_count": null,
      "outputs": [
        {
          "output_type": "stream",
          "text": [
            "Requirement already satisfied: sentencepiece in /usr/local/lib/python3.6/dist-packages (0.1.91)\n"
          ],
          "name": "stdout"
        }
      ]
    },
    {
      "cell_type": "code",
      "metadata": {
        "id": "-wFX17_qW8hY"
      },
      "source": [
        "import sentencepiece as spm\n",
        "\n",
        "spm.SentencePieceTrainer.Train(\n",
        "    '--input=article_ret.txt, --model_prefix=article --character_coverage=1.0 --vocab_size=8000'\n",
        ")"
      ],
      "execution_count": null,
      "outputs": []
    },
    {
      "cell_type": "markdown",
      "metadata": {
        "id": "DI_HAvO0XjVk"
      },
      "source": [
        "## ５５：livedoorコーパスで訓練したSentence Pieceで分かち書き"
      ]
    },
    {
      "cell_type": "code",
      "metadata": {
        "id": "aanRA2McXGZg",
        "colab": {
          "base_uri": "https://localhost:8080/",
          "height": 54
        },
        "outputId": "710c764b-6e2a-4fbb-c503-2fcceefff93f"
      },
      "source": [
        "import sentencepiece as spm\n",
        "sp = spm.SentencePieceProcessor()\n",
        "sp.Load(\"article.model\")\n",
        "print(sp.EncodeAsPieces(\"車だったらやっぱりAudiのRS4ワールドパフォーマンスカーに乗ってみたいな。\"))"
      ],
      "execution_count": null,
      "outputs": [
        {
          "output_type": "stream",
          "text": [
            "['▁', '車', 'だったら', 'やっぱり', 'A', 'u', 'd', 'i', 'の', 'R', 'S', '4', 'ワールド', 'パフォーマンス', 'カー', 'に', '乗', 'って', 'みたいな', '。']\n"
          ],
          "name": "stdout"
        }
      ]
    },
    {
      "cell_type": "markdown",
      "metadata": {
        "id": "toACbZ1kZScy"
      },
      "source": [
        "## ５６：記事本文をSentence Pieceで分かち書き"
      ]
    },
    {
      "cell_type": "code",
      "metadata": {
        "id": "kZiAzkmCZax_",
        "colab": {
          "base_uri": "https://localhost:8080/",
          "height": 34
        },
        "outputId": "773e0d88-6953-49b3-f567-6efd4380857e"
      },
      "source": [
        "article_sp = []\n",
        "for article in df['記事本文']:\n",
        "  article_sp.append(sp.EncodeAsPieces(article))\n",
        "len(article_sp)"
      ],
      "execution_count": null,
      "outputs": [
        {
          "output_type": "execute_result",
          "data": {
            "text/plain": [
              "7367"
            ]
          },
          "metadata": {
            "tags": []
          },
          "execution_count": 19
        }
      ]
    },
    {
      "cell_type": "markdown",
      "metadata": {
        "id": "_9G5ZKFUYGns"
      },
      "source": [
        "##５７：ユニークな単語数"
      ]
    },
    {
      "cell_type": "code",
      "metadata": {
        "id": "-oxV3dDhYUIG",
        "colab": {
          "base_uri": "https://localhost:8080/",
          "height": 34
        },
        "outputId": "e2bfab2a-dbce-44b6-af1c-c50bbe874eea"
      },
      "source": [
        "len(set([token for tokens in article_sp for token in tokens]))"
      ],
      "execution_count": null,
      "outputs": [
        {
          "output_type": "execute_result",
          "data": {
            "text/plain": [
              "7998"
            ]
          },
          "metadata": {
            "tags": []
          },
          "execution_count": 100
        }
      ]
    },
    {
      "cell_type": "markdown",
      "metadata": {
        "id": "XqfXKLvbcRvd"
      },
      "source": [
        "## ５８：ラベルエンコーディング"
      ]
    },
    {
      "cell_type": "code",
      "metadata": {
        "id": "zyl0Q__6ZnLP",
        "colab": {
          "base_uri": "https://localhost:8080/",
          "height": 34
        },
        "outputId": "4c9ededd-278c-4ae7-d5fb-4c57059eb78a"
      },
      "source": [
        "#出現順でユニークな単語のリスト\n",
        "all_tokens = [token for tokens in article_sp for token in tokens]\n",
        "sorted_utokens = sorted(set(all_tokens), key=all_tokens.index)\n",
        "print(len(sorted_utokens))"
      ],
      "execution_count": null,
      "outputs": [
        {
          "output_type": "stream",
          "text": [
            "7998\n"
          ],
          "name": "stdout"
        }
      ]
    },
    {
      "cell_type": "code",
      "metadata": {
        "id": "fsiCdNVwcthM",
        "colab": {
          "base_uri": "https://localhost:8080/",
          "height": 52
        },
        "outputId": "c2ec5bcb-a829-47ba-d1b8-89c31c3c8fb0"
      },
      "source": [
        "# 単語ID相互変換辞書\n",
        "word2idx = {}\n",
        "idx2word = {}\n",
        "for i, word in enumerate(sorted_utokens):\n",
        "  word2idx[word] = i\n",
        "  idx2word[i] = word\n",
        "print(list(word2idx.items())[:5])\n",
        "print(list(idx2word.items())[:5])"
      ],
      "execution_count": null,
      "outputs": [
        {
          "output_type": "stream",
          "text": [
            "[('▁', 0), ('インタビュー', 1), (':', 2), ('キング', 3), ('コン', 4)]\n",
            "[(0, '▁'), (1, 'インタビュー'), (2, ':'), (3, 'キング'), (4, 'コン')]\n"
          ],
          "name": "stdout"
        }
      ]
    },
    {
      "cell_type": "code",
      "metadata": {
        "id": "aH66r1xvc0Ws",
        "colab": {
          "base_uri": "https://localhost:8080/",
          "height": 54
        },
        "outputId": "b8c08c91-2a9b-4812-ae58-c1492a9d4182"
      },
      "source": [
        "#ラベルエンコーディング\n",
        "encoded_text =[[word2idx[token] for token in tokens] for tokens in article_sp]\n",
        "print(encoded_text[0])"
      ],
      "execution_count": null,
      "outputs": [
        {
          "output_type": "stream",
          "text": [
            "[0, 1, 2, 3, 4, 5, 6, 7, 8, 9, 10, 11, 12, 0, 13, 14, 15, 16, 17, 18, 19, 20, 21, 22, 23, 24, 18, 25, 26, 27, 28, 23, 29, 30, 31, 32, 33, 34, 35, 6, 36, 12, 37, 38, 39, 40, 41, 42, 26, 43, 44, 45, 23, 27, 28, 46, 47, 48, 49, 50, 51, 52, 53, 26, 54, 55, 56, 57, 58, 59, 60, 61, 1, 26, 62, 63, 64, 14, 65, 28, 23, 3, 4, 5, 26, 66, 67, 68, 69, 70, 71, 72, 73, 74, 75, 76, 77, 78, 79, 80, 81, 82, 83, 84, 85, 86, 87, 88, 89, 28, 23, 90, 91, 79, 92, 14, 15, 16, 6, 28, 93, 94, 14, 95, 96, 97, 12, 14, 98, 99, 37, 100, 101, 102, 26, 103, 104, 105, 106, 107, 37, 23, 108, 109, 14, 110, 37, 111, 112, 113, 114, 115, 116, 85, 23, 117, 118, 119, 120, 121, 87, 122, 123, 58, 23, 124, 125, 126, 127, 128, 129, 14, 130, 131, 6, 132, 133, 0, 134, 135, 136, 137, 138, 139, 140, 0, 141, 12, 19, 142, 143, 33, 144, 14, 145, 146, 37, 24, 147, 148, 107, 23, 149, 150, 151, 26, 152, 24, 144, 153, 25, 37, 154, 155, 156, 157, 158, 159, 160, 28, 161, 0, 81, 82, 83, 84, 75, 162, 23, 81, 82, 163, 164, 165, 166, 14, 63, 167, 168, 169, 170, 26, 6, 171, 95, 172, 173, 172, 75, 174, 175, 176, 177, 13, 178, 179, 23, 180, 181, 182, 183, 26, 184, 23, 85, 177, 93, 94, 185, 186, 187, 26, 152, 69, 70, 188, 189, 14, 25, 190, 191, 192, 193, 194, 195, 196, 197, 161, 0, 81, 82, 2, 198, 26, 199, 200, 201, 153, 69, 70, 187, 202, 203, 204, 26, 205, 206, 207, 28, 208, 193, 209, 93, 26, 210, 211, 212, 171, 95, 172, 173, 172, 75, 174, 175, 176, 177, 13, 178, 79, 213, 214, 213, 214, 215, 216, 217, 218, 26, 219, 145, 154, 220, 221, 181, 156, 14, 153, 222, 223, 224, 26, 152, 86, 87, 225, 161, 0, 86, 87, 88, 89, 75, 162, 23, 86, 87, 163, 165, 226, 14, 227, 228, 23, 229, 230, 154, 231, 187, 79, 215, 211, 22, 14, 232, 233, 234, 26, 79, 23, 24, 18, 25, 235, 236, 14, 237, 238, 153, 23, 239, 240, 23, 241, 242, 235, 236, 14, 243, 23, 244, 211, 245, 85, 241, 246, 247, 248, 211, 181, 249, 23, 250, 19, 251, 252, 26, 253, 254, 73, 14, 255, 227, 228, 23, 256, 24, 18, 257, 258, 259, 183, 26, 164, 85, 177, 93, 94, 185, 260, 261, 153, 262, 159, 263, 264, 22, 93, 26, 265, 177, 266, 267, 268, 251, 177, 154, 269, 270, 243, 26, 271, 212, 168, 272, 214, 75, 85, 177, 93, 94, 185, 14, 168, 79, 272, 214, 272, 214, 273, 274, 275, 178, 187, 276, 51, 23, 120, 120, 181, 60, 277, 278, 93, 26, 152, 279, 23, 76, 77, 37, 280, 73, 33, 281, 26, 0, 81, 82, 2, 198, 26, 165, 166, 63, 167, 169, 14, 282, 228, 24, 18, 25, 283, 181, 249, 23, 284, 91, 85, 60, 23, 285, 286, 47, 287, 288, 287, 289, 290, 291, 79, 292, 278, 26, 152, 24, 18, 25, 79, 293, 294, 23, 265, 177, 14, 295, 296, 112, 14, 297, 298, 170, 26, 299, 300, 301, 51, 32, 33, 34, 302, 182, 303, 23, 304, 25, 14, 305, 19, 306, 307, 23, 308, 94, 309, 310, 228, 311, 161, 0, 86, 87, 2, 312, 23, 313, 28, 314, 315, 316, 317, 26, 153, 318, 319, 97, 320, 26, 308, 321, 177, 322, 97, 323, 107, 324, 187, 325, 326, 327, 153, 106, 322, 316, 317, 26, 328, 329, 23, 330, 331, 332, 187, 333, 334, 177, 221, 335, 154, 187, 277, 336, 107, 26, 337, 23, 338, 167, 79, 339, 221, 340, 221, 341, 342, 28, 277, 278, 26, 152, 81, 82, 186, 343, 344, 161, 0, 81, 82, 2, 345, 346, 347, 37, 308, 51, 8, 209, 23, 54, 271, 79, 348, 349, 23, 350, 53, 181, 26, 351, 352, 314, 315, 353, 354, 93, 26, 353, 355, 97, 23, 24, 220, 356, 357, 358, 252, 26, 253, 23, 76, 77, 14, 359, 23, 360, 361, 153, 362, 363, 128, 129, 364, 33, 238, 153, 23, 365, 28, 23, 366, 367, 368, 369, 349, 370, 371, 181, 269, 14, 28, 277, 252, 93, 26, 372, 259, 85, 373, 374, 375, 154, 209, 26, 376, 23, 377, 297, 301, 349, 378, 379, 380, 23, 381, 28, 370, 203, 371, 221, 155, 181, 85, 382, 383, 264, 249, 278, 26, 152, 54, 384, 385, 14, 309, 153, 386, 387, 37, 388, 389, 28, 161, 0, 86, 87, 2, 308, 94, 245, 390, 23, 76, 77, 45, 391, 235, 236, 392, 153, 393, 322, 234, 26, 271, 28, 394, 361, 14, 395, 19, 251, 396, 23, 125, 397, 398, 139, 399, 236, 14, 243, 23, 400, 401, 24, 60, 402, 403, 42, 264, 404, 161, 0, 81, 82, 2, 405, 401, 221, 380, 154, 26, 406, 149, 407, 408, 409, 350, 380, 75, 215, 78, 26, 410, 23, 405, 316, 26, 411, 412, 413, 403, 414, 75, 215, 78, 26, 0, 86, 87, 2, 266, 23, 253, 328, 329, 400, 401, 75, 215, 78, 26, 0, 81, 82, 2, 406, 407, 94, 415, 416, 417, 418, 23, 22, 105, 419, 26, 0, 86, 87, 2, 420, 51, 8, 421, 422, 97, 423, 349, 400, 26, 0, 81, 82, 2, 424, 425, 426, 427, 37, 428, 429, 430, 28, 431, 209, 23, 432, 405, 224, 26, 366, 433, 434, 75, 215, 78, 26, 435, 436, 154, 197, 23, 411, 14, 413, 437, 221, 438, 31, 26, 152, 28, 203, 26, 0, 86, 87, 2, 420, 51, 8, 421, 422, 346, 396, 23, 271, 402, 403, 37, 439, 440, 26, 441, 442, 443, 97, 14, 395, 85, 81, 82, 14, 395, 153, 439, 192, 278, 26, 174, 264, 444, 445, 446, 447, 33, 234, 26, 448, 449, 295, 450, 451, 336, 452, 23, 406, 453, 454, 455, 112, 23, 456, 421, 422, 221, 93, 177, 60, 26, 219, 253, 395, 403, 457, 26, 152, 458, 23, 459, 460, 310, 238, 211, 161, 0, 81, 82, 2, 125, 397, 398, 139, 399, 14, 421, 422, 97, 461, 462, 463, 464, 427, 14, 465, 466, 467, 197, 26, 468, 469, 23, 239, 470, 471, 79, 251, 336, 421, 422, 153, 24, 94, 209, 23, 468, 472, 153, 462, 463, 464, 37, 473, 438, 234, 26, 265, 31, 212, 69, 70, 474, 475, 476, 211, 161, 0, 351, 154, 421, 422, 23, 154, 177, 477, 324, 181, 12, 60, 23, 468, 472, 14, 478, 479, 19, 144, 79, 428, 480, 481, 482, 23, 319, 483, 94, 183, 93, 26, 484, 412, 478, 479, 228, 75, 215, 78, 26, 0, 86, 87, 2, 485, 97, 246, 24, 346, 335, 203, 324, 181, 60, 75, 215, 78, 26, 0, 81, 82, 2, 478, 479, 228, 26, 486, 320, 23, 484, 26, 152, 487, 488, 23, 208, 489, 47, 221, 155, 156, 161, 0, 86, 87, 2, 468, 264, 228, 63, 159, 125, 490, 169, 37, 403, 31, 26, 152, 403, 31, 491, 273, 153, 379, 211, 161, 0, 256, 492, 493, 395, 494, 495, 496, 497, 161, 0, 86, 87, 2, 498, 23, 499, 382, 160, 33, 161, 0, 269, 149, 500, 380, 93, 26, 81, 82, 346, 382, 160, 233, 234, 26, 501, 213, 79, 443, 346, 501, 213, 79, 26, 0, 81, 82, 2, 502, 503, 504, 0, 86, 87, 2, 443, 153, 502, 505, 79, 23, 81, 82, 28, 501, 213, 221, 438, 234, 26, 0, 81, 82, 2, 487, 506, 214, 221, 177, 404, 23, 345, 75, 215, 78, 26, 0, 86, 87, 2, 313, 228, 507, 480, 60, 23, 323, 33, 161, 0, 269, 26, 152, 81, 82, 225, 23, 382, 160, 79, 508, 429, 430, 28, 509, 238, 211, 161, 0, 81, 82, 2, 410, 23, 351, 352, 204, 23, 144, 510, 511, 233, 238, 153, 23, 499, 253, 120, 120, 512, 236, 513, 233, 14, 85, 23, 514, 228, 47, 515, 516, 269, 26, 253, 23, 422, 158, 517, 14, 518, 64, 60, 23, 519, 322, 224, 26, 6, 414, 221, 93, 177, 12, 187, 23, 347, 37, 520, 422, 158, 521, 522, 112, 523, 153, 106, 322, 418, 26, 152, 524, 525, 224, 26, 365, 14, 526, 527, 379, 211, 161, 0, 81, 82, 2, 448, 23, 76, 77, 79, 391, 26, 528, 402, 125, 228, 403, 318, 529, 19, 23, 3, 4, 5, 79, 403, 522, 14, 28, 530, 125, 169, 531, 23, 409, 112, 532, 533, 203, 79, 534, 489, 511, 236, 535, 10, 93, 26, 152, 313, 536, 537, 537, 538, 539, 79, 161, 0, 86, 87, 2, 254, 397, 540, 236, 14, 243, 23, 449, 441, 442, 541, 215, 19, 211, 264, 542, 438, 234, 26, 365, 37, 543, 544, 545, 546, 547, 51, 548, 440, 23, 462, 463, 464, 269, 14, 465, 356, 548, 440, 26, 549, 550, 14, 551, 379, 93, 26, 152, 487, 488, 23, 103, 104, 105, 14, 552, 269, 553, 28, 554, 555, 161, 0, 81, 82, 2, 552, 10, 556, 97, 23, 110, 557, 558, 228, 246, 559, 26, 123, 560, 79, 23, 110, 19, 561, 562, 563, 564, 236, 26, 0, 86, 87, 2, 565, 290, 369, 566, 51, 228, 23, 81, 82, 85, 567, 19, 568, 569, 570, 571, 322, 26, 79, 23, 219, 239, 318, 572, 548, 572, 573, 574, 47, 278, 93, 26, 266, 23, 443, 153, 575, 496, 157, 576, 558, 336, 209, 75, 215, 78, 26, 577, 28, 23, 443, 14, 220, 153, 373, 350, 234, 26, 382, 160, 51, 368, 369, 447, 187, 26, 578, 23, 530, 14, 415, 579, 580, 157, 414, 23, 154, 177, 14, 409, 581, 582, 583, 23, 584, 324, 584, 324, 85, 24, 367, 260, 585, 79, 586, 187, 251, 447, 47, 26, 81, 82, 37, 6, 24, 585, 587, 368, 369, 335, 221, 12, 60, 588, 589, 209, 212, 369, 297, 512, 228, 321, 177, 93, 177, 12, 60, 428, 590, 591, 23, 592, 593, 594, 595, 107, 26, 6, 28, 596, 597, 269, 26, 0, 81, 82, 2, 318, 211, 598, 599, 600, 215, 78, 161, 0, 86, 87, 2, 219, 173, 173, 601, 602, 320, 26, 323, 47, 180, 211, 23, 512, 228, 321, 177, 322, 316, 317, 26, 603, 14, 25, 225, 604, 167, 346, 251, 94, 605, 79, 606, 316, 107, 26, 391, 421, 607, 322, 177, 608, 23, 3, 4, 5, 45, 26, 152, 549, 23, 609, 221, 211, 610, 14, 611, 47, 161, 0, 81, 82, 2, 351, 352, 612, 613, 614, 236, 14, 28, 47, 615, 26, 616, 617, 470, 79, 251, 618, 28, 23, 619, 479, 620, 614, 26, 184, 406, 185, 621, 23, 622, 28, 515, 221, 438, 617, 120, 120, 177, 221, 181, 245, 14, 19, 623, 107, 42, 47, 23, 624, 625, 346, 626, 93, 51, 627, 26, 628, 629, 220, 153, 630, 631, 23, 632, 616, 617, 287, 633, 60, 346, 492, 346, 606, 107, 26, 6, 488, 472, 13, 79, 634, 47, 221, 153, 94, 23, 635, 266, 596, 105, 335, 12, 169, 636, 637, 26, 295, 64, 323, 37, 638, 438, 169, 195, 521, 160, 94, 639, 640, 85, 26, 641, 28, 239, 406, 642, 531, 26, 0, 86, 87, 2, 643, 153, 106, 322, 234, 26, 152, 644, 26, 645, 643, 19, 646, 336, 440, 23, 144, 14, 647, 648, 154, 649, 153, 650, 26, 0, 86, 87, 2, 628, 198, 26, 0, 81, 82, 2, 651, 167, 652, 316, 317, 26, 653, 654, 655]\n"
          ],
          "name": "stdout"
        }
      ]
    },
    {
      "cell_type": "markdown",
      "metadata": {
        "id": "b7Tm74-VeZ9D"
      },
      "source": [
        "## ５９：共起行列"
      ]
    },
    {
      "cell_type": "code",
      "metadata": {
        "id": "FBkvQd-ndH5H"
      },
      "source": [
        "def ngram(s, n):\n",
        " \"\"\" ngramを計算して返却\n",
        "\n",
        "   Args:\n",
        "     s(str):解析対象文字列\n",
        "     n(int):n\n",
        "   Returns:\n",
        "     ngram(list):n-gramリスト\n",
        "\n",
        " \"\"\"\n",
        " ngram = []\n",
        " for i in range(len(s)):\n",
        "   if i + n >= len(s):\n",
        "     break\n",
        "   tpl = tuple()\n",
        "   for j in range(n):\n",
        "     tpl += (s[i+j],)\n",
        "   ngram.append(tpl)\n",
        " return ngram\n"
      ],
      "execution_count": null,
      "outputs": []
    },
    {
      "cell_type": "code",
      "metadata": {
        "id": "chmsUOoQfmKX",
        "colab": {
          "base_uri": "https://localhost:8080/",
          "height": 54
        },
        "outputId": "b2bf05a4-0598-47cc-c4c1-55ff60531c76"
      },
      "source": [
        "# 2gramを計算\n",
        "bigrams = []\n",
        "for wl in encoded_text:\n",
        "  bigrams.append(ngram(wl, 2))\n",
        "  \n",
        "print(bigrams[0])"
      ],
      "execution_count": null,
      "outputs": [
        {
          "output_type": "stream",
          "text": [
            "[(0, 1), (1, 2), (2, 3), (3, 4), (4, 5), (5, 6), (6, 7), (7, 8), (8, 9), (9, 10), (10, 11), (11, 12), (12, 0), (0, 13), (13, 14), (14, 15), (15, 16), (16, 17), (17, 18), (18, 19), (19, 20), (20, 21), (21, 22), (22, 23), (23, 24), (24, 18), (18, 25), (25, 26), (26, 27), (27, 28), (28, 23), (23, 29), (29, 30), (30, 31), (31, 32), (32, 33), (33, 34), (34, 35), (35, 6), (6, 36), (36, 12), (12, 37), (37, 38), (38, 39), (39, 40), (40, 41), (41, 42), (42, 26), (26, 43), (43, 44), (44, 45), (45, 23), (23, 27), (27, 28), (28, 46), (46, 47), (47, 48), (48, 49), (49, 50), (50, 51), (51, 52), (52, 53), (53, 26), (26, 54), (54, 55), (55, 56), (56, 57), (57, 58), (58, 59), (59, 60), (60, 61), (61, 1), (1, 26), (26, 62), (62, 63), (63, 64), (64, 14), (14, 65), (65, 28), (28, 23), (23, 3), (3, 4), (4, 5), (5, 26), (26, 66), (66, 67), (67, 68), (68, 69), (69, 70), (70, 71), (71, 72), (72, 73), (73, 74), (74, 75), (75, 76), (76, 77), (77, 78), (78, 79), (79, 80), (80, 81), (81, 82), (82, 83), (83, 84), (84, 85), (85, 86), (86, 87), (87, 88), (88, 89), (89, 28), (28, 23), (23, 90), (90, 91), (91, 79), (79, 92), (92, 14), (14, 15), (15, 16), (16, 6), (6, 28), (28, 93), (93, 94), (94, 14), (14, 95), (95, 96), (96, 97), (97, 12), (12, 14), (14, 98), (98, 99), (99, 37), (37, 100), (100, 101), (101, 102), (102, 26), (26, 103), (103, 104), (104, 105), (105, 106), (106, 107), (107, 37), (37, 23), (23, 108), (108, 109), (109, 14), (14, 110), (110, 37), (37, 111), (111, 112), (112, 113), (113, 114), (114, 115), (115, 116), (116, 85), (85, 23), (23, 117), (117, 118), (118, 119), (119, 120), (120, 121), (121, 87), (87, 122), (122, 123), (123, 58), (58, 23), (23, 124), (124, 125), (125, 126), (126, 127), (127, 128), (128, 129), (129, 14), (14, 130), (130, 131), (131, 6), (6, 132), (132, 133), (133, 0), (0, 134), (134, 135), (135, 136), (136, 137), (137, 138), (138, 139), (139, 140), (140, 0), (0, 141), (141, 12), (12, 19), (19, 142), (142, 143), (143, 33), (33, 144), (144, 14), (14, 145), (145, 146), (146, 37), (37, 24), (24, 147), (147, 148), (148, 107), (107, 23), (23, 149), (149, 150), (150, 151), (151, 26), (26, 152), (152, 24), (24, 144), (144, 153), (153, 25), (25, 37), (37, 154), (154, 155), (155, 156), (156, 157), (157, 158), (158, 159), (159, 160), (160, 28), (28, 161), (161, 0), (0, 81), (81, 82), (82, 83), (83, 84), (84, 75), (75, 162), (162, 23), (23, 81), (81, 82), (82, 163), (163, 164), (164, 165), (165, 166), (166, 14), (14, 63), (63, 167), (167, 168), (168, 169), (169, 170), (170, 26), (26, 6), (6, 171), (171, 95), (95, 172), (172, 173), (173, 172), (172, 75), (75, 174), (174, 175), (175, 176), (176, 177), (177, 13), (13, 178), (178, 179), (179, 23), (23, 180), (180, 181), (181, 182), (182, 183), (183, 26), (26, 184), (184, 23), (23, 85), (85, 177), (177, 93), (93, 94), (94, 185), (185, 186), (186, 187), (187, 26), (26, 152), (152, 69), (69, 70), (70, 188), (188, 189), (189, 14), (14, 25), (25, 190), (190, 191), (191, 192), (192, 193), (193, 194), (194, 195), (195, 196), (196, 197), (197, 161), (161, 0), (0, 81), (81, 82), (82, 2), (2, 198), (198, 26), (26, 199), (199, 200), (200, 201), (201, 153), (153, 69), (69, 70), (70, 187), (187, 202), (202, 203), (203, 204), (204, 26), (26, 205), (205, 206), (206, 207), (207, 28), (28, 208), (208, 193), (193, 209), (209, 93), (93, 26), (26, 210), (210, 211), (211, 212), (212, 171), (171, 95), (95, 172), (172, 173), (173, 172), (172, 75), (75, 174), (174, 175), (175, 176), (176, 177), (177, 13), (13, 178), (178, 79), (79, 213), (213, 214), (214, 213), (213, 214), (214, 215), (215, 216), (216, 217), (217, 218), (218, 26), (26, 219), (219, 145), (145, 154), (154, 220), (220, 221), (221, 181), (181, 156), (156, 14), (14, 153), (153, 222), (222, 223), (223, 224), (224, 26), (26, 152), (152, 86), (86, 87), (87, 225), (225, 161), (161, 0), (0, 86), (86, 87), (87, 88), (88, 89), (89, 75), (75, 162), (162, 23), (23, 86), (86, 87), (87, 163), (163, 165), (165, 226), (226, 14), (14, 227), (227, 228), (228, 23), (23, 229), (229, 230), (230, 154), (154, 231), (231, 187), (187, 79), (79, 215), (215, 211), (211, 22), (22, 14), (14, 232), (232, 233), (233, 234), (234, 26), (26, 79), (79, 23), (23, 24), (24, 18), (18, 25), (25, 235), (235, 236), (236, 14), (14, 237), (237, 238), (238, 153), (153, 23), (23, 239), (239, 240), (240, 23), (23, 241), (241, 242), (242, 235), (235, 236), (236, 14), (14, 243), (243, 23), (23, 244), (244, 211), (211, 245), (245, 85), (85, 241), (241, 246), (246, 247), (247, 248), (248, 211), (211, 181), (181, 249), (249, 23), (23, 250), (250, 19), (19, 251), (251, 252), (252, 26), (26, 253), (253, 254), (254, 73), (73, 14), (14, 255), (255, 227), (227, 228), (228, 23), (23, 256), (256, 24), (24, 18), (18, 257), (257, 258), (258, 259), (259, 183), (183, 26), (26, 164), (164, 85), (85, 177), (177, 93), (93, 94), (94, 185), (185, 260), (260, 261), (261, 153), (153, 262), (262, 159), (159, 263), (263, 264), (264, 22), (22, 93), (93, 26), (26, 265), (265, 177), (177, 266), (266, 267), (267, 268), (268, 251), (251, 177), (177, 154), (154, 269), (269, 270), (270, 243), (243, 26), (26, 271), (271, 212), (212, 168), (168, 272), (272, 214), (214, 75), (75, 85), (85, 177), (177, 93), (93, 94), (94, 185), (185, 14), (14, 168), (168, 79), (79, 272), (272, 214), (214, 272), (272, 214), (214, 273), (273, 274), (274, 275), (275, 178), (178, 187), (187, 276), (276, 51), (51, 23), (23, 120), (120, 120), (120, 181), (181, 60), (60, 277), (277, 278), (278, 93), (93, 26), (26, 152), (152, 279), (279, 23), (23, 76), (76, 77), (77, 37), (37, 280), (280, 73), (73, 33), (33, 281), (281, 26), (26, 0), (0, 81), (81, 82), (82, 2), (2, 198), (198, 26), (26, 165), (165, 166), (166, 63), (63, 167), (167, 169), (169, 14), (14, 282), (282, 228), (228, 24), (24, 18), (18, 25), (25, 283), (283, 181), (181, 249), (249, 23), (23, 284), (284, 91), (91, 85), (85, 60), (60, 23), (23, 285), (285, 286), (286, 47), (47, 287), (287, 288), (288, 287), (287, 289), (289, 290), (290, 291), (291, 79), (79, 292), (292, 278), (278, 26), (26, 152), (152, 24), (24, 18), (18, 25), (25, 79), (79, 293), (293, 294), (294, 23), (23, 265), (265, 177), (177, 14), (14, 295), (295, 296), (296, 112), (112, 14), (14, 297), (297, 298), (298, 170), (170, 26), (26, 299), (299, 300), (300, 301), (301, 51), (51, 32), (32, 33), (33, 34), (34, 302), (302, 182), (182, 303), (303, 23), (23, 304), (304, 25), (25, 14), (14, 305), (305, 19), (19, 306), (306, 307), (307, 23), (23, 308), (308, 94), (94, 309), (309, 310), (310, 228), (228, 311), (311, 161), (161, 0), (0, 86), (86, 87), (87, 2), (2, 312), (312, 23), (23, 313), (313, 28), (28, 314), (314, 315), (315, 316), (316, 317), (317, 26), (26, 153), (153, 318), (318, 319), (319, 97), (97, 320), (320, 26), (26, 308), (308, 321), (321, 177), (177, 322), (322, 97), (97, 323), (323, 107), (107, 324), (324, 187), (187, 325), (325, 326), (326, 327), (327, 153), (153, 106), (106, 322), (322, 316), (316, 317), (317, 26), (26, 328), (328, 329), (329, 23), (23, 330), (330, 331), (331, 332), (332, 187), (187, 333), (333, 334), (334, 177), (177, 221), (221, 335), (335, 154), (154, 187), (187, 277), (277, 336), (336, 107), (107, 26), (26, 337), (337, 23), (23, 338), (338, 167), (167, 79), (79, 339), (339, 221), (221, 340), (340, 221), (221, 341), (341, 342), (342, 28), (28, 277), (277, 278), (278, 26), (26, 152), (152, 81), (81, 82), (82, 186), (186, 343), (343, 344), (344, 161), (161, 0), (0, 81), (81, 82), (82, 2), (2, 345), (345, 346), (346, 347), (347, 37), (37, 308), (308, 51), (51, 8), (8, 209), (209, 23), (23, 54), (54, 271), (271, 79), (79, 348), (348, 349), (349, 23), (23, 350), (350, 53), (53, 181), (181, 26), (26, 351), (351, 352), (352, 314), (314, 315), (315, 353), (353, 354), (354, 93), (93, 26), (26, 353), (353, 355), (355, 97), (97, 23), (23, 24), (24, 220), (220, 356), (356, 357), (357, 358), (358, 252), (252, 26), (26, 253), (253, 23), (23, 76), (76, 77), (77, 14), (14, 359), (359, 23), (23, 360), (360, 361), (361, 153), (153, 362), (362, 363), (363, 128), (128, 129), (129, 364), (364, 33), (33, 238), (238, 153), (153, 23), (23, 365), (365, 28), (28, 23), (23, 366), (366, 367), (367, 368), (368, 369), (369, 349), (349, 370), (370, 371), (371, 181), (181, 269), (269, 14), (14, 28), (28, 277), (277, 252), (252, 93), (93, 26), (26, 372), (372, 259), (259, 85), (85, 373), (373, 374), (374, 375), (375, 154), (154, 209), (209, 26), (26, 376), (376, 23), (23, 377), (377, 297), (297, 301), (301, 349), (349, 378), (378, 379), (379, 380), (380, 23), (23, 381), (381, 28), (28, 370), (370, 203), (203, 371), (371, 221), (221, 155), (155, 181), (181, 85), (85, 382), (382, 383), (383, 264), (264, 249), (249, 278), (278, 26), (26, 152), (152, 54), (54, 384), (384, 385), (385, 14), (14, 309), (309, 153), (153, 386), (386, 387), (387, 37), (37, 388), (388, 389), (389, 28), (28, 161), (161, 0), (0, 86), (86, 87), (87, 2), (2, 308), (308, 94), (94, 245), (245, 390), (390, 23), (23, 76), (76, 77), (77, 45), (45, 391), (391, 235), (235, 236), (236, 392), (392, 153), (153, 393), (393, 322), (322, 234), (234, 26), (26, 271), (271, 28), (28, 394), (394, 361), (361, 14), (14, 395), (395, 19), (19, 251), (251, 396), (396, 23), (23, 125), (125, 397), (397, 398), (398, 139), (139, 399), (399, 236), (236, 14), (14, 243), (243, 23), (23, 400), (400, 401), (401, 24), (24, 60), (60, 402), (402, 403), (403, 42), (42, 264), (264, 404), (404, 161), (161, 0), (0, 81), (81, 82), (82, 2), (2, 405), (405, 401), (401, 221), (221, 380), (380, 154), (154, 26), (26, 406), (406, 149), (149, 407), (407, 408), (408, 409), (409, 350), (350, 380), (380, 75), (75, 215), (215, 78), (78, 26), (26, 410), (410, 23), (23, 405), (405, 316), (316, 26), (26, 411), (411, 412), (412, 413), (413, 403), (403, 414), (414, 75), (75, 215), (215, 78), (78, 26), (26, 0), (0, 86), (86, 87), (87, 2), (2, 266), (266, 23), (23, 253), (253, 328), (328, 329), (329, 400), (400, 401), (401, 75), (75, 215), (215, 78), (78, 26), (26, 0), (0, 81), (81, 82), (82, 2), (2, 406), (406, 407), (407, 94), (94, 415), (415, 416), (416, 417), (417, 418), (418, 23), (23, 22), (22, 105), (105, 419), (419, 26), (26, 0), (0, 86), (86, 87), (87, 2), (2, 420), (420, 51), (51, 8), (8, 421), (421, 422), (422, 97), (97, 423), (423, 349), (349, 400), (400, 26), (26, 0), (0, 81), (81, 82), (82, 2), (2, 424), (424, 425), (425, 426), (426, 427), (427, 37), (37, 428), (428, 429), (429, 430), (430, 28), (28, 431), (431, 209), (209, 23), (23, 432), (432, 405), (405, 224), (224, 26), (26, 366), (366, 433), (433, 434), (434, 75), (75, 215), (215, 78), (78, 26), (26, 435), (435, 436), (436, 154), (154, 197), (197, 23), (23, 411), (411, 14), (14, 413), (413, 437), (437, 221), (221, 438), (438, 31), (31, 26), (26, 152), (152, 28), (28, 203), (203, 26), (26, 0), (0, 86), (86, 87), (87, 2), (2, 420), (420, 51), (51, 8), (8, 421), (421, 422), (422, 346), (346, 396), (396, 23), (23, 271), (271, 402), (402, 403), (403, 37), (37, 439), (439, 440), (440, 26), (26, 441), (441, 442), (442, 443), (443, 97), (97, 14), (14, 395), (395, 85), (85, 81), (81, 82), (82, 14), (14, 395), (395, 153), (153, 439), (439, 192), (192, 278), (278, 26), (26, 174), (174, 264), (264, 444), (444, 445), (445, 446), (446, 447), (447, 33), (33, 234), (234, 26), (26, 448), (448, 449), (449, 295), (295, 450), (450, 451), (451, 336), (336, 452), (452, 23), (23, 406), (406, 453), (453, 454), (454, 455), (455, 112), (112, 23), (23, 456), (456, 421), (421, 422), (422, 221), (221, 93), (93, 177), (177, 60), (60, 26), (26, 219), (219, 253), (253, 395), (395, 403), (403, 457), (457, 26), (26, 152), (152, 458), (458, 23), (23, 459), (459, 460), (460, 310), (310, 238), (238, 211), (211, 161), (161, 0), (0, 81), (81, 82), (82, 2), (2, 125), (125, 397), (397, 398), (398, 139), (139, 399), (399, 14), (14, 421), (421, 422), (422, 97), (97, 461), (461, 462), (462, 463), (463, 464), (464, 427), (427, 14), (14, 465), (465, 466), (466, 467), (467, 197), (197, 26), (26, 468), (468, 469), (469, 23), (23, 239), (239, 470), (470, 471), (471, 79), (79, 251), (251, 336), (336, 421), (421, 422), (422, 153), (153, 24), (24, 94), (94, 209), (209, 23), (23, 468), (468, 472), (472, 153), (153, 462), (462, 463), (463, 464), (464, 37), (37, 473), (473, 438), (438, 234), (234, 26), (26, 265), (265, 31), (31, 212), (212, 69), (69, 70), (70, 474), (474, 475), (475, 476), (476, 211), (211, 161), (161, 0), (0, 351), (351, 154), (154, 421), (421, 422), (422, 23), (23, 154), (154, 177), (177, 477), (477, 324), (324, 181), (181, 12), (12, 60), (60, 23), (23, 468), (468, 472), (472, 14), (14, 478), (478, 479), (479, 19), (19, 144), (144, 79), (79, 428), (428, 480), (480, 481), (481, 482), (482, 23), (23, 319), (319, 483), (483, 94), (94, 183), (183, 93), (93, 26), (26, 484), (484, 412), (412, 478), (478, 479), (479, 228), (228, 75), (75, 215), (215, 78), (78, 26), (26, 0), (0, 86), (86, 87), (87, 2), (2, 485), (485, 97), (97, 246), (246, 24), (24, 346), (346, 335), (335, 203), (203, 324), (324, 181), (181, 60), (60, 75), (75, 215), (215, 78), (78, 26), (26, 0), (0, 81), (81, 82), (82, 2), (2, 478), (478, 479), (479, 228), (228, 26), (26, 486), (486, 320), (320, 23), (23, 484), (484, 26), (26, 152), (152, 487), (487, 488), (488, 23), (23, 208), (208, 489), (489, 47), (47, 221), (221, 155), (155, 156), (156, 161), (161, 0), (0, 86), (86, 87), (87, 2), (2, 468), (468, 264), (264, 228), (228, 63), (63, 159), (159, 125), (125, 490), (490, 169), (169, 37), (37, 403), (403, 31), (31, 26), (26, 152), (152, 403), (403, 31), (31, 491), (491, 273), (273, 153), (153, 379), (379, 211), (211, 161), (161, 0), (0, 256), (256, 492), (492, 493), (493, 395), (395, 494), (494, 495), (495, 496), (496, 497), (497, 161), (161, 0), (0, 86), (86, 87), (87, 2), (2, 498), (498, 23), (23, 499), (499, 382), (382, 160), (160, 33), (33, 161), (161, 0), (0, 269), (269, 149), (149, 500), (500, 380), (380, 93), (93, 26), (26, 81), (81, 82), (82, 346), (346, 382), (382, 160), (160, 233), (233, 234), (234, 26), (26, 501), (501, 213), (213, 79), (79, 443), (443, 346), (346, 501), (501, 213), (213, 79), (79, 26), (26, 0), (0, 81), (81, 82), (82, 2), (2, 502), (502, 503), (503, 504), (504, 0), (0, 86), (86, 87), (87, 2), (2, 443), (443, 153), (153, 502), (502, 505), (505, 79), (79, 23), (23, 81), (81, 82), (82, 28), (28, 501), (501, 213), (213, 221), (221, 438), (438, 234), (234, 26), (26, 0), (0, 81), (81, 82), (82, 2), (2, 487), (487, 506), (506, 214), (214, 221), (221, 177), (177, 404), (404, 23), (23, 345), (345, 75), (75, 215), (215, 78), (78, 26), (26, 0), (0, 86), (86, 87), (87, 2), (2, 313), (313, 228), (228, 507), (507, 480), (480, 60), (60, 23), (23, 323), (323, 33), (33, 161), (161, 0), (0, 269), (269, 26), (26, 152), (152, 81), (81, 82), (82, 225), (225, 23), (23, 382), (382, 160), (160, 79), (79, 508), (508, 429), (429, 430), (430, 28), (28, 509), (509, 238), (238, 211), (211, 161), (161, 0), (0, 81), (81, 82), (82, 2), (2, 410), (410, 23), (23, 351), (351, 352), (352, 204), (204, 23), (23, 144), (144, 510), (510, 511), (511, 233), (233, 238), (238, 153), (153, 23), (23, 499), (499, 253), (253, 120), (120, 120), (120, 512), (512, 236), (236, 513), (513, 233), (233, 14), (14, 85), (85, 23), (23, 514), (514, 228), (228, 47), (47, 515), (515, 516), (516, 269), (269, 26), (26, 253), (253, 23), (23, 422), (422, 158), (158, 517), (517, 14), (14, 518), (518, 64), (64, 60), (60, 23), (23, 519), (519, 322), (322, 224), (224, 26), (26, 6), (6, 414), (414, 221), (221, 93), (93, 177), (177, 12), (12, 187), (187, 23), (23, 347), (347, 37), (37, 520), (520, 422), (422, 158), (158, 521), (521, 522), (522, 112), (112, 523), (523, 153), (153, 106), (106, 322), (322, 418), (418, 26), (26, 152), (152, 524), (524, 525), (525, 224), (224, 26), (26, 365), (365, 14), (14, 526), (526, 527), (527, 379), (379, 211), (211, 161), (161, 0), (0, 81), (81, 82), (82, 2), (2, 448), (448, 23), (23, 76), (76, 77), (77, 79), (79, 391), (391, 26), (26, 528), (528, 402), (402, 125), (125, 228), (228, 403), (403, 318), (318, 529), (529, 19), (19, 23), (23, 3), (3, 4), (4, 5), (5, 79), (79, 403), (403, 522), (522, 14), (14, 28), (28, 530), (530, 125), (125, 169), (169, 531), (531, 23), (23, 409), (409, 112), (112, 532), (532, 533), (533, 203), (203, 79), (79, 534), (534, 489), (489, 511), (511, 236), (236, 535), (535, 10), (10, 93), (93, 26), (26, 152), (152, 313), (313, 536), (536, 537), (537, 537), (537, 538), (538, 539), (539, 79), (79, 161), (161, 0), (0, 86), (86, 87), (87, 2), (2, 254), (254, 397), (397, 540), (540, 236), (236, 14), (14, 243), (243, 23), (23, 449), (449, 441), (441, 442), (442, 541), (541, 215), (215, 19), (19, 211), (211, 264), (264, 542), (542, 438), (438, 234), (234, 26), (26, 365), (365, 37), (37, 543), (543, 544), (544, 545), (545, 546), (546, 547), (547, 51), (51, 548), (548, 440), (440, 23), (23, 462), (462, 463), (463, 464), (464, 269), (269, 14), (14, 465), (465, 356), (356, 548), (548, 440), (440, 26), (26, 549), (549, 550), (550, 14), (14, 551), (551, 379), (379, 93), (93, 26), (26, 152), (152, 487), (487, 488), (488, 23), (23, 103), (103, 104), (104, 105), (105, 14), (14, 552), (552, 269), (269, 553), (553, 28), (28, 554), (554, 555), (555, 161), (161, 0), (0, 81), (81, 82), (82, 2), (2, 552), (552, 10), (10, 556), (556, 97), (97, 23), (23, 110), (110, 557), (557, 558), (558, 228), (228, 246), (246, 559), (559, 26), (26, 123), (123, 560), (560, 79), (79, 23), (23, 110), (110, 19), (19, 561), (561, 562), (562, 563), (563, 564), (564, 236), (236, 26), (26, 0), (0, 86), (86, 87), (87, 2), (2, 565), (565, 290), (290, 369), (369, 566), (566, 51), (51, 228), (228, 23), (23, 81), (81, 82), (82, 85), (85, 567), (567, 19), (19, 568), (568, 569), (569, 570), (570, 571), (571, 322), (322, 26), (26, 79), (79, 23), (23, 219), (219, 239), (239, 318), (318, 572), (572, 548), (548, 572), (572, 573), (573, 574), (574, 47), (47, 278), (278, 93), (93, 26), (26, 266), (266, 23), (23, 443), (443, 153), (153, 575), (575, 496), (496, 157), (157, 576), (576, 558), (558, 336), (336, 209), (209, 75), (75, 215), (215, 78), (78, 26), (26, 577), (577, 28), (28, 23), (23, 443), (443, 14), (14, 220), (220, 153), (153, 373), (373, 350), (350, 234), (234, 26), (26, 382), (382, 160), (160, 51), (51, 368), (368, 369), (369, 447), (447, 187), (187, 26), (26, 578), (578, 23), (23, 530), (530, 14), (14, 415), (415, 579), (579, 580), (580, 157), (157, 414), (414, 23), (23, 154), (154, 177), (177, 14), (14, 409), (409, 581), (581, 582), (582, 583), (583, 23), (23, 584), (584, 324), (324, 584), (584, 324), (324, 85), (85, 24), (24, 367), (367, 260), (260, 585), (585, 79), (79, 586), (586, 187), (187, 251), (251, 447), (447, 47), (47, 26), (26, 81), (81, 82), (82, 37), (37, 6), (6, 24), (24, 585), (585, 587), (587, 368), (368, 369), (369, 335), (335, 221), (221, 12), (12, 60), (60, 588), (588, 589), (589, 209), (209, 212), (212, 369), (369, 297), (297, 512), (512, 228), (228, 321), (321, 177), (177, 93), (93, 177), (177, 12), (12, 60), (60, 428), (428, 590), (590, 591), (591, 23), (23, 592), (592, 593), (593, 594), (594, 595), (595, 107), (107, 26), (26, 6), (6, 28), (28, 596), (596, 597), (597, 269), (269, 26), (26, 0), (0, 81), (81, 82), (82, 2), (2, 318), (318, 211), (211, 598), (598, 599), (599, 600), (600, 215), (215, 78), (78, 161), (161, 0), (0, 86), (86, 87), (87, 2), (2, 219), (219, 173), (173, 173), (173, 601), (601, 602), (602, 320), (320, 26), (26, 323), (323, 47), (47, 180), (180, 211), (211, 23), (23, 512), (512, 228), (228, 321), (321, 177), (177, 322), (322, 316), (316, 317), (317, 26), (26, 603), (603, 14), (14, 25), (25, 225), (225, 604), (604, 167), (167, 346), (346, 251), (251, 94), (94, 605), (605, 79), (79, 606), (606, 316), (316, 107), (107, 26), (26, 391), (391, 421), (421, 607), (607, 322), (322, 177), (177, 608), (608, 23), (23, 3), (3, 4), (4, 5), (5, 45), (45, 26), (26, 152), (152, 549), (549, 23), (23, 609), (609, 221), (221, 211), (211, 610), (610, 14), (14, 611), (611, 47), (47, 161), (161, 0), (0, 81), (81, 82), (82, 2), (2, 351), (351, 352), (352, 612), (612, 613), (613, 614), (614, 236), (236, 14), (14, 28), (28, 47), (47, 615), (615, 26), (26, 616), (616, 617), (617, 470), (470, 79), (79, 251), (251, 618), (618, 28), (28, 23), (23, 619), (619, 479), (479, 620), (620, 614), (614, 26), (26, 184), (184, 406), (406, 185), (185, 621), (621, 23), (23, 622), (622, 28), (28, 515), (515, 221), (221, 438), (438, 617), (617, 120), (120, 120), (120, 177), (177, 221), (221, 181), (181, 245), (245, 14), (14, 19), (19, 623), (623, 107), (107, 42), (42, 47), (47, 23), (23, 624), (624, 625), (625, 346), (346, 626), (626, 93), (93, 51), (51, 627), (627, 26), (26, 628), (628, 629), (629, 220), (220, 153), (153, 630), (630, 631), (631, 23), (23, 632), (632, 616), (616, 617), (617, 287), (287, 633), (633, 60), (60, 346), (346, 492), (492, 346), (346, 606), (606, 107), (107, 26), (26, 6), (6, 488), (488, 472), (472, 13), (13, 79), (79, 634), (634, 47), (47, 221), (221, 153), (153, 94), (94, 23), (23, 635), (635, 266), (266, 596), (596, 105), (105, 335), (335, 12), (12, 169), (169, 636), (636, 637), (637, 26), (26, 295), (295, 64), (64, 323), (323, 37), (37, 638), (638, 438), (438, 169), (169, 195), (195, 521), (521, 160), (160, 94), (94, 639), (639, 640), (640, 85), (85, 26), (26, 641), (641, 28), (28, 239), (239, 406), (406, 642), (642, 531), (531, 26), (26, 0), (0, 86), (86, 87), (87, 2), (2, 643), (643, 153), (153, 106), (106, 322), (322, 234), (234, 26), (26, 152), (152, 644), (644, 26), (26, 645), (645, 643), (643, 19), (19, 646), (646, 336), (336, 440), (440, 23), (23, 144), (144, 14), (14, 647), (647, 648), (648, 154), (154, 649), (649, 153), (153, 650), (650, 26), (26, 0), (0, 86), (86, 87), (87, 2), (2, 628), (628, 198), (198, 26), (26, 0), (0, 81), (81, 82), (82, 2), (2, 651), (651, 167), (167, 652), (652, 316), (316, 317), (317, 26), (26, 653), (653, 654)]\n"
          ],
          "name": "stdout"
        }
      ]
    },
    {
      "cell_type": "code",
      "metadata": {
        "id": "phfXD-fgfojd"
      },
      "source": [
        "# 共起行列初期化\n",
        "import numpy as np\n",
        "z = np.zeros((len(sorted_utokens), len(sorted_utokens)), dtype=np.int)\n",
        "for bigram_lst in bigrams:\n",
        "  for bigram in bigram_lst:\n",
        "    z[bigram[0], bigram[1]] += 1\n",
        "    z[bigram[1], bigram[0]] += 1\n",
        "z"
      ],
      "execution_count": null,
      "outputs": []
    },
    {
      "cell_type": "code",
      "metadata": {
        "id": "F6YlXAzpgyzL",
        "colab": {
          "base_uri": "https://localhost:8080/",
          "height": 141
        },
        "outputId": "b04e230b-1da6-4a9c-babb-f263b3d16f3e"
      },
      "source": [
        "z"
      ],
      "execution_count": null,
      "outputs": [
        {
          "output_type": "execute_result",
          "data": {
            "text/plain": [
              "array([[  0, 103, 872, ...,   0,   0,   0],\n",
              "       [103,   0, 158, ...,   0,   0,   0],\n",
              "       [872, 158,  12, ...,   0,   0,   0],\n",
              "       ...,\n",
              "       [  0,   0,   0, ...,   0,   0,   0],\n",
              "       [  0,   0,   0, ...,   0,   0,   0],\n",
              "       [  0,   0,   0, ...,   0,   0,   0]])"
            ]
          },
          "metadata": {
            "tags": []
          },
          "execution_count": 111
        }
      ]
    },
    {
      "cell_type": "markdown",
      "metadata": {
        "id": "URlxKA10pkHq"
      },
      "source": [
        "# 第７章）機械学習"
      ]
    },
    {
      "cell_type": "markdown",
      "metadata": {
        "id": "YwTEHE1Ij-O3"
      },
      "source": [
        "## ６０：入力データの変換"
      ]
    },
    {
      "cell_type": "code",
      "metadata": {
        "id": "W6fOx2UmgzPm",
        "colab": {
          "base_uri": "https://localhost:8080/",
          "height": 34
        },
        "outputId": "6180a530-a3d0-41fc-d824-8e51b2ef65b7"
      },
      "source": [
        "vectors= []\n",
        "for ids in encoded_text:\n",
        "  vec =  np.zeros(len(sorted_utokens),dtype=np.int)\n",
        "  for id in ids:\n",
        "    vec += z[id]\n",
        "  vectors.append(vec)\n",
        "len(vectors)"
      ],
      "execution_count": null,
      "outputs": [
        {
          "output_type": "execute_result",
          "data": {
            "text/plain": [
              "7367"
            ]
          },
          "metadata": {
            "tags": []
          },
          "execution_count": 117
        }
      ]
    },
    {
      "cell_type": "markdown",
      "metadata": {
        "id": "6uEv-S-um7Bn"
      },
      "source": [
        "## ６１：訓練データと評価データの分割"
      ]
    },
    {
      "cell_type": "code",
      "metadata": {
        "id": "boB9BZtimmip",
        "colab": {
          "base_uri": "https://localhost:8080/",
          "height": 87
        },
        "outputId": "1ae53ee3-b1ba-44c5-d60c-fcc76973bafd"
      },
      "source": [
        "import numpy as np\n",
        "from sklearn.model_selection import train_test_split\n",
        "x_train, x_test, y_train, y_test = train_test_split(vectors, labels, train_size=0.7)\n",
        "print(len(x_train))\n",
        "print(len(y_train))\n",
        "print(len(x_test))\n",
        "print(len(y_test))"
      ],
      "execution_count": null,
      "outputs": [
        {
          "output_type": "stream",
          "text": [
            "5156\n",
            "5156\n",
            "2211\n",
            "2211\n"
          ],
          "name": "stdout"
        }
      ]
    },
    {
      "cell_type": "markdown",
      "metadata": {
        "id": "nMGcgSXop-r_"
      },
      "source": [
        "## ６２：ロジスティック回帰"
      ]
    },
    {
      "cell_type": "code",
      "metadata": {
        "id": "oJ3TlPAhoKv-",
        "colab": {
          "base_uri": "https://localhost:8080/",
          "height": 267
        },
        "outputId": "8a1b9798-afd4-4785-b318-7fc6ae0c0f14"
      },
      "source": [
        "from sklearn.linear_model import LogisticRegression\n",
        "model = LogisticRegression()\n",
        "model.fit(x_train, y_train)\n"
      ],
      "execution_count": null,
      "outputs": [
        {
          "output_type": "stream",
          "text": [
            "/usr/local/lib/python3.6/dist-packages/sklearn/linear_model/_logistic.py:940: ConvergenceWarning: lbfgs failed to converge (status=1):\n",
            "STOP: TOTAL NO. of ITERATIONS REACHED LIMIT.\n",
            "\n",
            "Increase the number of iterations (max_iter) or scale the data as shown in:\n",
            "    https://scikit-learn.org/stable/modules/preprocessing.html\n",
            "Please also refer to the documentation for alternative solver options:\n",
            "    https://scikit-learn.org/stable/modules/linear_model.html#logistic-regression\n",
            "  extra_warning_msg=_LOGISTIC_SOLVER_CONVERGENCE_MSG)\n"
          ],
          "name": "stderr"
        },
        {
          "output_type": "execute_result",
          "data": {
            "text/plain": [
              "LogisticRegression(C=1.0, class_weight=None, dual=False, fit_intercept=True,\n",
              "                   intercept_scaling=1, l1_ratio=None, max_iter=100,\n",
              "                   multi_class='auto', n_jobs=None, penalty='l2',\n",
              "                   random_state=None, solver='lbfgs', tol=0.0001, verbose=0,\n",
              "                   warm_start=False)"
            ]
          },
          "metadata": {
            "tags": []
          },
          "execution_count": 138
        }
      ]
    },
    {
      "cell_type": "markdown",
      "metadata": {
        "id": "2xmPJID_wEii"
      },
      "source": [
        "## ６３：正解率の評価"
      ]
    },
    {
      "cell_type": "markdown",
      "metadata": {
        "id": "g_Y0IEsDwAxs"
      },
      "source": [
        "$$\n",
        "Accuracy = \\frac{TP + TN}{TP + FP + FN + TN}\n",
        "$$"
      ]
    },
    {
      "cell_type": "code",
      "metadata": {
        "id": "ixJ94Knjql_Z",
        "colab": {
          "base_uri": "https://localhost:8080/",
          "height": 34
        },
        "outputId": "d55e8c55-300f-4a3b-9e19-4790625719b9"
      },
      "source": [
        "from sklearn.metrics import accuracy_score\n",
        "y_pred = model.predict(x_test)\n",
        "print('accuracy = ', accuracy_score(y_true=y_test, y_pred=y_pred))"
      ],
      "execution_count": null,
      "outputs": [
        {
          "output_type": "stream",
          "text": [
            "accuracy =  0.5988240615106287\n"
          ],
          "name": "stdout"
        }
      ]
    },
    {
      "cell_type": "markdown",
      "metadata": {
        "id": "SOQUS_KCxJBL"
      },
      "source": [
        "## ６４：Randam Forestによる学習と評価"
      ]
    },
    {
      "cell_type": "code",
      "metadata": {
        "id": "WD5kcq5KrOVC",
        "colab": {
          "base_uri": "https://localhost:8080/",
          "height": 158
        },
        "outputId": "7a2b484e-539d-4bab-fa8a-52f8b152ea94"
      },
      "source": [
        "from sklearn.ensemble import RandomForestClassifier\n",
        "\n",
        "model = RandomForestClassifier()\n",
        "model.fit(x_train, y_train)"
      ],
      "execution_count": null,
      "outputs": [
        {
          "output_type": "execute_result",
          "data": {
            "text/plain": [
              "RandomForestClassifier(bootstrap=True, ccp_alpha=0.0, class_weight=None,\n",
              "                       criterion='gini', max_depth=None, max_features='auto',\n",
              "                       max_leaf_nodes=None, max_samples=None,\n",
              "                       min_impurity_decrease=0.0, min_impurity_split=None,\n",
              "                       min_samples_leaf=1, min_samples_split=2,\n",
              "                       min_weight_fraction_leaf=0.0, n_estimators=100,\n",
              "                       n_jobs=None, oob_score=False, random_state=None,\n",
              "                       verbose=0, warm_start=False)"
            ]
          },
          "metadata": {
            "tags": []
          },
          "execution_count": 141
        }
      ]
    },
    {
      "cell_type": "code",
      "metadata": {
        "id": "o-Z2MyaGs377",
        "colab": {
          "base_uri": "https://localhost:8080/",
          "height": 34
        },
        "outputId": "e3bdb398-16d3-4d27-d8d7-79d7ee0a5bbd"
      },
      "source": [
        "from sklearn.metrics import accuracy_score\n",
        "y_pred = model.predict(x_test)\n",
        "print('accuracy = ', accuracy_score(y_true=y_test, y_pred=y_pred))"
      ],
      "execution_count": null,
      "outputs": [
        {
          "output_type": "stream",
          "text": [
            "accuracy =  0.7584803256445047\n"
          ],
          "name": "stdout"
        }
      ]
    },
    {
      "cell_type": "markdown",
      "metadata": {
        "id": "QK13swiMzzhL"
      },
      "source": [
        "## ６５：SVM（サポートベクターマシン）による学習と評価"
      ]
    },
    {
      "cell_type": "code",
      "metadata": {
        "id": "pOXxb9eWtPuZ",
        "colab": {
          "base_uri": "https://localhost:8080/",
          "height": 34
        },
        "outputId": "adb7cc02-7bb1-44bb-a29f-feaebbee80e4"
      },
      "source": [
        "from sklearn import svm\n",
        "\n",
        "model = svm.SVC(kernel='rbf')\n",
        "model.fit(x_train, y_train)\n",
        "\n",
        "from sklearn.metrics import accuracy_score\n",
        "y_pred = model.predict(x_test)\n",
        "print('accuracy = ', accuracy_score(y_true=y_test, y_pred=y_pred))"
      ],
      "execution_count": null,
      "outputs": [
        {
          "output_type": "stream",
          "text": [
            "accuracy =  0.5079149706015378\n"
          ],
          "name": "stdout"
        }
      ]
    },
    {
      "cell_type": "markdown",
      "metadata": {
        "id": "u21OOz1S0fB-"
      },
      "source": [
        "## ６６：k-近傍法による学習と評価"
      ]
    },
    {
      "cell_type": "code",
      "metadata": {
        "id": "GJf1mx0u0Vq2",
        "colab": {
          "base_uri": "https://localhost:8080/",
          "height": 34
        },
        "outputId": "94fcb5a0-502e-4363-bd05-48f6c283e145"
      },
      "source": [
        "from sklearn.neighbors import KNeighborsClassifier\n",
        "model = KNeighborsClassifier(n_neighbors=5)\n",
        "model.fit(x_train, y_train)\n",
        "\n",
        "from sklearn.metrics import accuracy_score\n",
        "y_pred = model.predict(x_test)\n",
        "print('accuracy = ', accuracy_score(y_true=y_test, y_pred=y_pred))"
      ],
      "execution_count": null,
      "outputs": [
        {
          "output_type": "stream",
          "text": [
            "accuracy =  0.5002261420171868\n"
          ],
          "name": "stdout"
        }
      ]
    },
    {
      "cell_type": "markdown",
      "metadata": {
        "id": "aJtoinkk_fNm"
      },
      "source": [
        "## ６７：前処理による改善"
      ]
    },
    {
      "cell_type": "code",
      "metadata": {
        "id": "b8lAMUW1_gFY",
        "colab": {
          "base_uri": "https://localhost:8080/",
          "height": 34
        },
        "outputId": "ccbc2276-4a2f-4925-da8e-d2c301fa1717"
      },
      "source": [
        "len(set([token for tokens in article_sp for token in tokens if len(token) != 1]))"
      ],
      "execution_count": null,
      "outputs": [
        {
          "output_type": "execute_result",
          "data": {
            "text/plain": [
              "4349"
            ]
          },
          "metadata": {
            "tags": []
          },
          "execution_count": 20
        }
      ]
    },
    {
      "cell_type": "code",
      "metadata": {
        "id": "SSvDyG4__3Wa",
        "colab": {
          "base_uri": "https://localhost:8080/",
          "height": 107
        },
        "outputId": "587192b6-91d7-488b-c5b2-c507d8742d0f"
      },
      "source": [
        "#出現順でユニークな単語のリスト\n",
        "all_tokens = [token for tokens in article_sp for token in tokens if len(token) != 1]\n",
        "sorted_utokens = sorted(set(all_tokens), key=all_tokens.index)\n",
        "print(len(sorted_utokens))\n",
        "\n",
        "# 単語ID相互変換辞書\n",
        "word2idx = {}\n",
        "idx2word = {}\n",
        "for i, word in enumerate(sorted_utokens):\n",
        "  word2idx[word] = i\n",
        "  idx2word[i] = word\n",
        "print(list(word2idx.items())[:5])\n",
        "print(list(idx2word.items())[:5])\n",
        "\n",
        "#ラベルエンコーディング\n",
        "encoded_text =[[word2idx[token] for token in tokens if len(token) != 1] for tokens in article_sp]\n",
        "print(encoded_text[0])"
      ],
      "execution_count": null,
      "outputs": [
        {
          "output_type": "stream",
          "text": [
            "4349\n",
            "[('インタビュー', 0), ('キング', 1), ('コン', 2), ('楽しく', 3), ('ない', 4)]\n",
            "[(0, 'インタビュー'), (1, 'キング'), (2, 'コン'), (3, '楽しく'), (4, 'ない')]\n",
            "[0, 1, 2, 3, 4, 5, 6, 7, 8, 9, 10, 11, 12, 13, 14, 12, 15, 16, 17, 18, 19, 20, 21, 22, 23, 24, 25, 26, 27, 28, 16, 29, 30, 31, 32, 33, 34, 35, 36, 37, 38, 39, 0, 40, 41, 1, 2, 42, 43, 44, 45, 46, 47, 48, 49, 50, 9, 10, 51, 52, 53, 54, 55, 56, 57, 58, 59, 60, 37, 61, 62, 63, 64, 65, 66, 67, 68, 69, 20, 70, 71, 72, 73, 74, 70, 15, 75, 76, 77, 78, 79, 80, 81, 82, 83, 84, 83, 8, 85, 86, 87, 88, 89, 90, 91, 92, 93, 74, 15, 94, 95, 96, 97, 98, 99, 100, 101, 102, 93, 103, 104, 95, 105, 106, 107, 83, 84, 83, 8, 85, 108, 109, 110, 111, 112, 88, 76, 113, 74, 114, 77, 78, 115, 116, 117, 93, 118, 119, 120, 12, 15, 121, 122, 123, 124, 125, 126, 127, 128, 121, 122, 129, 130, 131, 127, 132, 133, 88, 134, 135, 136, 137, 138, 139, 116, 140, 12, 141, 142, 143, 90, 79, 144, 145, 146, 147, 136, 148, 149, 129, 150, 107, 151, 152, 153, 85, 93, 154, 88, 38, 155, 156, 74, 157, 47, 20, 158, 100, 80, 81, 116, 12, 15, 159, 88, 134, 160, 38, 161, 162, 30, 163, 164, 165, 166, 156, 74, 12, 15, 167, 168, 169, 82, 170, 171, 172, 19, 20, 21, 173, 89, 174, 175, 15, 176, 177, 178, 179, 180, 116, 181, 182, 183, 184, 185, 186, 187, 188, 189, 178, 190, 191, 93, 192, 190, 186, 187, 193, 194, 195, 93, 196, 93, 155, 197, 198, 199, 200, 155, 156, 74, 92, 201, 202, 203, 178, 4, 105, 36, 150, 204, 205, 206, 35, 88, 207, 208, 184, 185, 209, 210, 209, 211, 112, 212, 213, 214, 137, 138, 47, 215, 216, 217, 20, 124, 218, 219, 220, 205, 221, 222, 88, 148, 155, 137, 223, 143, 224, 225, 105, 226, 227, 172, 205, 228, 229, 230, 231, 221, 222, 75, 88, 232, 134, 156, 74, 36, 233, 234, 179, 235, 236, 178, 131, 237, 47, 28, 238, 121, 122, 239, 190, 120, 150, 240, 136, 241, 122, 129, 242, 38, 243, 230, 244, 71, 245, 206, 230, 246, 243, 186, 247, 248, 249, 138, 242, 244, 250, 251, 252, 4, 253, 205, 242, 254, 255, 256, 257, 258, 259, 260, 261, 105, 262, 243, 113, 219, 263, 264, 265, 99, 247, 266, 267, 18, 74, 4, 241, 150, 268, 269, 270, 240, 240, 268, 156, 271, 272, 273, 20, 120, 274, 275, 276, 277, 244, 278, 279, 38, 111, 138, 240, 280, 74, 281, 282, 283, 180, 124, 284, 285, 286, 287, 257, 288, 289, 290, 99, 291, 125, 292, 293, 136, 105, 294, 285, 286, 287, 267, 120, 18, 107, 295, 207, 296, 88, 38, 294, 70, 258, 297, 298, 188, 90, 299, 248, 116, 132, 88, 38, 116, 300, 189, 299, 74, 301, 30, 75, 76, 116, 81, 18, 74, 18, 302, 151, 229, 140, 303, 304, 240, 305, 306, 307, 308, 309, 310, 20, 148, 71, 311, 230, 119, 120, 312, 267, 120, 301, 183, 116, 313, 38, 191, 20, 148, 74, 114, 314, 259, 260, 315, 124, 246, 207, 208, 104, 70, 316, 317, 119, 124, 310, 138, 122, 318, 119, 319, 116, 30, 320, 321, 148, 138, 322, 323, 38, 324, 190, 113, 249, 93, 203, 325, 326, 327, 190, 251, 74, 113, 218, 328, 329, 229, 274, 47, 238, 330, 116, 331, 1, 2, 326, 81, 332, 333, 317, 122, 334, 6, 74, 183, 335, 336, 336, 337, 122, 129, 275, 270, 338, 267, 120, 218, 339, 340, 341, 269, 285, 286, 287, 148, 288, 212, 269, 342, 343, 344, 229, 74, 301, 345, 148, 346, 347, 348, 345, 6, 349, 55, 350, 351, 116, 132, 352, 353, 55, 354, 355, 122, 356, 164, 357, 116, 358, 359, 360, 361, 190, 111, 125, 362, 362, 30, 156, 363, 307, 351, 105, 112, 224, 206, 120, 220, 273, 93, 364, 249, 365, 366, 367, 368, 368, 144, 369, 93, 136, 273, 30, 370, 220, 38, 371, 372, 105, 107, 116, 38, 258, 373, 374, 375, 376, 377, 148, 378, 379, 380, 111, 84, 84, 381, 382, 189, 191, 30, 87, 116, 190, 186, 187, 383, 15, 114, 136, 384, 385, 186, 238, 190, 386, 1, 2, 28, 74, 342, 387, 388, 30, 207, 208, 389, 122, 30, 390, 391, 292, 136, 392, 393, 394, 389, 91, 244, 395, 320, 267, 391, 88, 131, 396, 30, 397, 398, 399, 112, 400, 401, 402, 391, 38, 303, 385, 294, 8, 30, 81, 403, 404, 191, 405, 267, 81, 97, 406, 407, 125, 244, 408, 332, 409, 190, 120, 74, 410, 411, 409, 269, 70, 412, 413, 414, 415, 398, 100, 416, 186, 187, 417, 418, 419]\n"
          ],
          "name": "stdout"
        }
      ]
    },
    {
      "cell_type": "code",
      "metadata": {
        "id": "ZxtAMu5CAFna",
        "colab": {
          "base_uri": "https://localhost:8080/",
          "height": 178
        },
        "outputId": "aec533e7-eea7-44f8-9ba8-f5585e5ee7a6"
      },
      "source": [
        "def ngram(s, n):\n",
        " \"\"\" ngramを計算して返却\n",
        "\n",
        "   Args:\n",
        "     s(str):解析対象文字列\n",
        "     n(int):n\n",
        "   Returns:\n",
        "     ngram(list):n-gramリスト\n",
        "\n",
        " \"\"\"\n",
        " ngram = []\n",
        " for i in range(len(s)):\n",
        "   if i + n >= len(s):\n",
        "     break\n",
        "   tpl = tuple()\n",
        "   for j in range(n):\n",
        "     tpl += (s[i+j],)\n",
        "   ngram.append(tpl)\n",
        " return ngram\n",
        "\n",
        "# 2gramを計算\n",
        "bigrams = []\n",
        "for wl in encoded_text:\n",
        "  bigrams.append(ngram(wl, 2))\n",
        "  \n",
        "print(bigrams[0])\n",
        "\n",
        "# 共起行列初期化\n",
        "import numpy as np\n",
        "z = np.zeros((len(sorted_utokens), len(sorted_utokens)), dtype=np.int)\n",
        "for bigram_lst in bigrams:\n",
        "  for bigram in bigram_lst:\n",
        "    z[bigram[0], bigram[1]] += 1\n",
        "    z[bigram[1], bigram[0]] += 1\n",
        "\n",
        "print(z)\n"
      ],
      "execution_count": null,
      "outputs": [
        {
          "output_type": "stream",
          "text": [
            "[(0, 1), (1, 2), (2, 3), (3, 4), (4, 5), (5, 6), (6, 7), (7, 8), (8, 9), (9, 10), (10, 11), (11, 12), (12, 13), (13, 14), (14, 12), (12, 15), (15, 16), (16, 17), (17, 18), (18, 19), (19, 20), (20, 21), (21, 22), (22, 23), (23, 24), (24, 25), (25, 26), (26, 27), (27, 28), (28, 16), (16, 29), (29, 30), (30, 31), (31, 32), (32, 33), (33, 34), (34, 35), (35, 36), (36, 37), (37, 38), (38, 39), (39, 0), (0, 40), (40, 41), (41, 1), (1, 2), (2, 42), (42, 43), (43, 44), (44, 45), (45, 46), (46, 47), (47, 48), (48, 49), (49, 50), (50, 9), (9, 10), (10, 51), (51, 52), (52, 53), (53, 54), (54, 55), (55, 56), (56, 57), (57, 58), (58, 59), (59, 60), (60, 37), (37, 61), (61, 62), (62, 63), (63, 64), (64, 65), (65, 66), (66, 67), (67, 68), (68, 69), (69, 20), (20, 70), (70, 71), (71, 72), (72, 73), (73, 74), (74, 70), (70, 15), (15, 75), (75, 76), (76, 77), (77, 78), (78, 79), (79, 80), (80, 81), (81, 82), (82, 83), (83, 84), (84, 83), (83, 8), (8, 85), (85, 86), (86, 87), (87, 88), (88, 89), (89, 90), (90, 91), (91, 92), (92, 93), (93, 74), (74, 15), (15, 94), (94, 95), (95, 96), (96, 97), (97, 98), (98, 99), (99, 100), (100, 101), (101, 102), (102, 93), (93, 103), (103, 104), (104, 95), (95, 105), (105, 106), (106, 107), (107, 83), (83, 84), (84, 83), (83, 8), (8, 85), (85, 108), (108, 109), (109, 110), (110, 111), (111, 112), (112, 88), (88, 76), (76, 113), (113, 74), (74, 114), (114, 77), (77, 78), (78, 115), (115, 116), (116, 117), (117, 93), (93, 118), (118, 119), (119, 120), (120, 12), (12, 15), (15, 121), (121, 122), (122, 123), (123, 124), (124, 125), (125, 126), (126, 127), (127, 128), (128, 121), (121, 122), (122, 129), (129, 130), (130, 131), (131, 127), (127, 132), (132, 133), (133, 88), (88, 134), (134, 135), (135, 136), (136, 137), (137, 138), (138, 139), (139, 116), (116, 140), (140, 12), (12, 141), (141, 142), (142, 143), (143, 90), (90, 79), (79, 144), (144, 145), (145, 146), (146, 147), (147, 136), (136, 148), (148, 149), (149, 129), (129, 150), (150, 107), (107, 151), (151, 152), (152, 153), (153, 85), (85, 93), (93, 154), (154, 88), (88, 38), (38, 155), (155, 156), (156, 74), (74, 157), (157, 47), (47, 20), (20, 158), (158, 100), (100, 80), (80, 81), (81, 116), (116, 12), (12, 15), (15, 159), (159, 88), (88, 134), (134, 160), (160, 38), (38, 161), (161, 162), (162, 30), (30, 163), (163, 164), (164, 165), (165, 166), (166, 156), (156, 74), (74, 12), (12, 15), (15, 167), (167, 168), (168, 169), (169, 82), (82, 170), (170, 171), (171, 172), (172, 19), (19, 20), (20, 21), (21, 173), (173, 89), (89, 174), (174, 175), (175, 15), (15, 176), (176, 177), (177, 178), (178, 179), (179, 180), (180, 116), (116, 181), (181, 182), (182, 183), (183, 184), (184, 185), (185, 186), (186, 187), (187, 188), (188, 189), (189, 178), (178, 190), (190, 191), (191, 93), (93, 192), (192, 190), (190, 186), (186, 187), (187, 193), (193, 194), (194, 195), (195, 93), (93, 196), (196, 93), (93, 155), (155, 197), (197, 198), (198, 199), (199, 200), (200, 155), (155, 156), (156, 74), (74, 92), (92, 201), (201, 202), (202, 203), (203, 178), (178, 4), (4, 105), (105, 36), (36, 150), (150, 204), (204, 205), (205, 206), (206, 35), (35, 88), (88, 207), (207, 208), (208, 184), (184, 185), (185, 209), (209, 210), (210, 209), (209, 211), (211, 112), (112, 212), (212, 213), (213, 214), (214, 137), (137, 138), (138, 47), (47, 215), (215, 216), (216, 217), (217, 20), (20, 124), (124, 218), (218, 219), (219, 220), (220, 205), (205, 221), (221, 222), (222, 88), (88, 148), (148, 155), (155, 137), (137, 223), (223, 143), (143, 224), (224, 225), (225, 105), (105, 226), (226, 227), (227, 172), (172, 205), (205, 228), (228, 229), (229, 230), (230, 231), (231, 221), (221, 222), (222, 75), (75, 88), (88, 232), (232, 134), (134, 156), (156, 74), (74, 36), (36, 233), (233, 234), (234, 179), (179, 235), (235, 236), (236, 178), (178, 131), (131, 237), (237, 47), (47, 28), (28, 238), (238, 121), (121, 122), (122, 239), (239, 190), (190, 120), (120, 150), (150, 240), (240, 136), (136, 241), (241, 122), (122, 129), (129, 242), (242, 38), (38, 243), (243, 230), (230, 244), (244, 71), (71, 245), (245, 206), (206, 230), (230, 246), (246, 243), (243, 186), (186, 247), (247, 248), (248, 249), (249, 138), (138, 242), (242, 244), (244, 250), (250, 251), (251, 252), (252, 4), (4, 253), (253, 205), (205, 242), (242, 254), (254, 255), (255, 256), (256, 257), (257, 258), (258, 259), (259, 260), (260, 261), (261, 105), (105, 262), (262, 243), (243, 113), (113, 219), (219, 263), (263, 264), (264, 265), (265, 99), (99, 247), (247, 266), (266, 267), (267, 18), (18, 74), (74, 4), (4, 241), (241, 150), (150, 268), (268, 269), (269, 270), (270, 240), (240, 240), (240, 268), (268, 156), (156, 271), (271, 272), (272, 273), (273, 20), (20, 120), (120, 274), (274, 275), (275, 276), (276, 277), (277, 244), (244, 278), (278, 279), (279, 38), (38, 111), (111, 138), (138, 240), (240, 280), (280, 74), (74, 281), (281, 282), (282, 283), (283, 180), (180, 124), (124, 284), (284, 285), (285, 286), (286, 287), (287, 257), (257, 288), (288, 289), (289, 290), (290, 99), (99, 291), (291, 125), (125, 292), (292, 293), (293, 136), (136, 105), (105, 294), (294, 285), (285, 286), (286, 287), (287, 267), (267, 120), (120, 18), (18, 107), (107, 295), (295, 207), (207, 296), (296, 88), (88, 38), (38, 294), (294, 70), (70, 258), (258, 297), (297, 298), (298, 188), (188, 90), (90, 299), (299, 248), (248, 116), (116, 132), (132, 88), (88, 38), (38, 116), (116, 300), (300, 189), (189, 299), (299, 74), (74, 301), (301, 30), (30, 75), (75, 76), (76, 116), (116, 81), (81, 18), (18, 74), (74, 18), (18, 302), (302, 151), (151, 229), (229, 140), (140, 303), (303, 304), (304, 240), (240, 305), (305, 306), (306, 307), (307, 308), (308, 309), (309, 310), (310, 20), (20, 148), (148, 71), (71, 311), (311, 230), (230, 119), (119, 120), (120, 312), (312, 267), (267, 120), (120, 301), (301, 183), (183, 116), (116, 313), (313, 38), (38, 191), (191, 20), (20, 148), (148, 74), (74, 114), (114, 314), (314, 259), (259, 260), (260, 315), (315, 124), (124, 246), (246, 207), (207, 208), (208, 104), (104, 70), (70, 316), (316, 317), (317, 119), (119, 124), (124, 310), (310, 138), (138, 122), (122, 318), (318, 119), (119, 319), (319, 116), (116, 30), (30, 320), (320, 321), (321, 148), (148, 138), (138, 322), (322, 323), (323, 38), (38, 324), (324, 190), (190, 113), (113, 249), (249, 93), (93, 203), (203, 325), (325, 326), (326, 327), (327, 190), (190, 251), (251, 74), (74, 113), (113, 218), (218, 328), (328, 329), (329, 229), (229, 274), (274, 47), (47, 238), (238, 330), (330, 116), (116, 331), (331, 1), (1, 2), (2, 326), (326, 81), (81, 332), (332, 333), (333, 317), (317, 122), (122, 334), (334, 6), (6, 74), (74, 183), (183, 335), (335, 336), (336, 336), (336, 337), (337, 122), (122, 129), (129, 275), (275, 270), (270, 338), (338, 267), (267, 120), (120, 218), (218, 339), (339, 340), (340, 341), (341, 269), (269, 285), (285, 286), (286, 287), (287, 148), (148, 288), (288, 212), (212, 269), (269, 342), (342, 343), (343, 344), (344, 229), (229, 74), (74, 301), (301, 345), (345, 148), (148, 346), (346, 347), (347, 348), (348, 345), (345, 6), (6, 349), (349, 55), (55, 350), (350, 351), (351, 116), (116, 132), (132, 352), (352, 353), (353, 55), (55, 354), (354, 355), (355, 122), (122, 356), (356, 164), (164, 357), (357, 116), (116, 358), (358, 359), (359, 360), (360, 361), (361, 190), (190, 111), (111, 125), (125, 362), (362, 362), (362, 30), (30, 156), (156, 363), (363, 307), (307, 351), (351, 105), (105, 112), (112, 224), (224, 206), (206, 120), (120, 220), (220, 273), (273, 93), (93, 364), (364, 249), (249, 365), (365, 366), (366, 367), (367, 368), (368, 368), (368, 144), (144, 369), (369, 93), (93, 136), (136, 273), (273, 30), (30, 370), (370, 220), (220, 38), (38, 371), (371, 372), (372, 105), (105, 107), (107, 116), (116, 38), (38, 258), (258, 373), (373, 374), (374, 375), (375, 376), (376, 377), (377, 148), (148, 378), (378, 379), (379, 380), (380, 111), (111, 84), (84, 84), (84, 381), (381, 382), (382, 189), (189, 191), (191, 30), (30, 87), (87, 116), (116, 190), (190, 186), (186, 187), (187, 383), (383, 15), (15, 114), (114, 136), (136, 384), (384, 385), (385, 186), (186, 238), (238, 190), (190, 386), (386, 1), (1, 2), (2, 28), (28, 74), (74, 342), (342, 387), (387, 388), (388, 30), (30, 207), (207, 208), (208, 389), (389, 122), (122, 30), (30, 390), (390, 391), (391, 292), (292, 136), (136, 392), (392, 393), (393, 394), (394, 389), (389, 91), (91, 244), (244, 395), (395, 320), (320, 267), (267, 391), (391, 88), (88, 131), (131, 396), (396, 30), (30, 397), (397, 398), (398, 399), (399, 112), (112, 400), (400, 401), (401, 402), (402, 391), (391, 38), (38, 303), (303, 385), (385, 294), (294, 8), (8, 30), (30, 81), (81, 403), (403, 404), (404, 191), (191, 405), (405, 267), (267, 81), (81, 97), (97, 406), (406, 407), (407, 125), (125, 244), (244, 408), (408, 332), (332, 409), (409, 190), (190, 120), (120, 74), (74, 410), (410, 411), (411, 409), (409, 269), (269, 70), (70, 412), (412, 413), (413, 414), (414, 415), (415, 398), (398, 100), (100, 416), (416, 186), (186, 187), (187, 417), (417, 418)]\n",
            "[[ 0  3  0 ...  0  1  0]\n",
            " [ 3  2  5 ...  0  0  0]\n",
            " [ 0  5 30 ...  0  0  0]\n",
            " ...\n",
            " [ 0  0  0 ...  0  0  0]\n",
            " [ 1  0  0 ...  0  0  0]\n",
            " [ 0  0  0 ...  0  0  0]]\n"
          ],
          "name": "stdout"
        }
      ]
    },
    {
      "cell_type": "code",
      "metadata": {
        "id": "ZfeDiUvrAmy8",
        "colab": {
          "base_uri": "https://localhost:8080/",
          "height": 34
        },
        "outputId": "445fa81e-0ae0-432c-bdc6-78e2b932effb"
      },
      "source": [
        "vectors= []\n",
        "for ids in encoded_text:\n",
        "  vec =  np.zeros(len(sorted_utokens),dtype=np.int)\n",
        "  for id in ids:\n",
        "    vec += z[id]\n",
        "  vectors.append(vec)\n",
        "len(vectors)"
      ],
      "execution_count": null,
      "outputs": [
        {
          "output_type": "execute_result",
          "data": {
            "text/plain": [
              "7367"
            ]
          },
          "metadata": {
            "tags": []
          },
          "execution_count": 154
        }
      ]
    },
    {
      "cell_type": "code",
      "metadata": {
        "id": "goImjbObA5P3",
        "colab": {
          "base_uri": "https://localhost:8080/",
          "height": 87
        },
        "outputId": "dc2ff940-620f-4c0d-9574-2b173cbd267c"
      },
      "source": [
        "import numpy as np\n",
        "from sklearn.model_selection import train_test_split\n",
        "x_train, x_test, y_train, y_test = train_test_split(vectors, labels, train_size=0.7)\n",
        "print(len(x_train))\n",
        "print(len(y_train))\n",
        "print(len(x_test))\n",
        "print(len(y_test))"
      ],
      "execution_count": null,
      "outputs": [
        {
          "output_type": "stream",
          "text": [
            "5156\n",
            "5156\n",
            "2211\n",
            "2211\n"
          ],
          "name": "stdout"
        }
      ]
    },
    {
      "cell_type": "code",
      "metadata": {
        "id": "rBoxw29ABASw",
        "colab": {
          "base_uri": "https://localhost:8080/",
          "height": 34
        },
        "outputId": "634e0290-6bfc-469c-e4cb-49a94c3d1c06"
      },
      "source": [
        "from sklearn.ensemble import RandomForestClassifier\n",
        "\n",
        "model = RandomForestClassifier()\n",
        "model.fit(x_train, y_train)\n",
        "\n",
        "from sklearn.metrics import accuracy_score\n",
        "y_pred = model.predict(x_test)\n",
        "print('accuracy = ', accuracy_score(y_true=y_test, y_pred=y_pred))"
      ],
      "execution_count": null,
      "outputs": [
        {
          "output_type": "stream",
          "text": [
            "accuracy =  0.8521031207598372\n"
          ],
          "name": "stdout"
        }
      ]
    },
    {
      "cell_type": "markdown",
      "metadata": {
        "id": "-lvE6zArGWKr"
      },
      "source": [
        "## ６８：文章からカテゴリ予測"
      ]
    },
    {
      "cell_type": "code",
      "metadata": {
        "id": "uFiKU_63B2ge",
        "colab": {
          "base_uri": "https://localhost:8080/",
          "height": 302
        },
        "outputId": "36454e22-61b3-4816-c94b-d5bf731665be"
      },
      "source": [
        "target_text = df['記事本文'][1900]\n",
        "\n",
        "target_text"
      ],
      "execution_count": null,
      "outputs": [
        {
          "output_type": "execute_result",
          "data": {
            "application/vnd.google.colaboratory.intrinsic+json": {
              "type": "string"
            },
            "text/plain": [
              "'クリスマスはテレビを見よう！\\u3000２３日は家政婦じゃない松嶋菜々子を堪能！金曜ロードショーは「ゴースト\\u3000もういちど抱きしめたい」【クリスマス】\\nドラマ「家政婦のミタ」（日本テレビ系）がヒットしている。このヒットで「やはり松嶋菜々子は視聴率の女王だ」という声も上がっているが、ミタを演じる松嶋菜々子の無表情で淡々とした演技が印象的だ。久しぶりに美しく表情豊かな彼女を見たいという人や、もちろん冬の夜ならではの大人の恋愛映画を見たいという人は「金曜ロードショー」（日テレ系）を見てはいかがだろう。\\n松嶋菜々子とソン・スンホンが主演を務める「ゴースト\\u3000もういちど抱きしめたい」が21時から放送される。これはパトリック・スウェイジ＆デミ・ムーア主演の大ヒット恋愛映画「ゴースト\\u3000ニューヨークの幻」をリメイクし、公開当時も大きな話題になった映画だ。\\n\\nカップルで過ごす人は、大切な人を思う切ないストーリーに愛を深めあってもいいし、一人で見る人もあえて恋愛モードに切り替えてみてもいいかもしれない・・・・・・？\\n\\nゴースト\\u3000もういちど抱きしめたい\\n\\n■関連記事\\nテレビ離れなんて関係ない！「家政婦のミタ」人気がすごすぎる！！\\nクリスマスはテレビを見よう！\\u3000クリスマスを恨めしく思う女子はイブの夜に「祝女」スペシャルがおすすめ\\nクリスマスはテレビを見よう！\\u3000２３日はNHKスペシャル「世界を変えた男 スティーブ・ジョブズ」が放送に    \\n\\n■関連記事\\n・野球の次は中国市場でも勢いを見せる！\\u3000モバゲーが中国スマホに標準搭載へ【話題】\\n・スマホゲームへの移り変わりに要注意！\\u3000いままでのゲームと同じだとビジネスチャンスを逃す！【話題】\\n・スマホの似合う著名人、トップはスマホそのもの（？）な渡辺謙【話題】\\n・スタジアムにいなくても一緒に応援！\\u3000バルセロナVSアルサッド戦で「VAMOS VIEWING」初体験【レポート】\\n・今年一番秋葉でがんばったのはだれ？\\u3000PC萌えキャラ人気コンテスト投票開始【話題】'"
            ]
          },
          "metadata": {
            "tags": []
          },
          "execution_count": 191
        }
      ]
    },
    {
      "cell_type": "code",
      "metadata": {
        "id": "MEDAci-RF3Ip"
      },
      "source": [
        "import sentencepiece as spm\n",
        "sp = spm.SentencePieceProcessor()\n",
        "sp.Load(\"article.model\")\n",
        "tokens = sp.EncodeAsPieces(target_text)"
      ],
      "execution_count": null,
      "outputs": []
    },
    {
      "cell_type": "code",
      "metadata": {
        "id": "1G7mtX4IGq5X"
      },
      "source": [
        "#1文字トークン除外\n",
        "all_tokens = [token for tokens in article_sp for token in tokens if len(token) != 1]\n",
        "sorted_utokens = sorted(set(all_tokens), key=all_tokens.index)\n",
        "\n",
        "#ラベルエンコーディング\n",
        "encoded_text =[word2idx[token] for token in tokens if len(token) != 1]\n",
        "\n",
        "#記事ベクトル生成\n",
        "article_vecs = []\n",
        "article_vec = np.zeros(len(sorted_utokens), dtype=np.int)\n",
        "for i in encoded_text:\n",
        "  article_vec+=z[i]\n",
        "\n",
        "#予測時の形を合わせるため\n",
        "article_vecs.append(article_vec)"
      ],
      "execution_count": null,
      "outputs": []
    },
    {
      "cell_type": "code",
      "metadata": {
        "id": "DZOoNU9WGr7H",
        "colab": {
          "base_uri": "https://localhost:8080/",
          "height": 158
        },
        "outputId": "91676080-60ab-422d-a2a0-945f11ce3c67"
      },
      "source": [
        "from sklearn.ensemble import RandomForestClassifier\n",
        "\n",
        "model = RandomForestClassifier()\n",
        "model.fit(x_train, y_train)"
      ],
      "execution_count": null,
      "outputs": [
        {
          "output_type": "execute_result",
          "data": {
            "text/plain": [
              "RandomForestClassifier(bootstrap=True, ccp_alpha=0.0, class_weight=None,\n",
              "                       criterion='gini', max_depth=None, max_features='auto',\n",
              "                       max_leaf_nodes=None, max_samples=None,\n",
              "                       min_impurity_decrease=0.0, min_impurity_split=None,\n",
              "                       min_samples_leaf=1, min_samples_split=2,\n",
              "                       min_weight_fraction_leaf=0.0, n_estimators=100,\n",
              "                       n_jobs=None, oob_score=False, random_state=None,\n",
              "                       verbose=0, warm_start=False)"
            ]
          },
          "metadata": {
            "tags": []
          },
          "execution_count": 180
        }
      ]
    },
    {
      "cell_type": "code",
      "metadata": {
        "id": "fJyFXDTyH3tb"
      },
      "source": [
        "y_pred = model.predict(article_vecs)"
      ],
      "execution_count": null,
      "outputs": []
    },
    {
      "cell_type": "code",
      "metadata": {
        "id": "JTEr7knOH0kZ",
        "colab": {
          "base_uri": "https://localhost:8080/",
          "height": 34
        },
        "outputId": "0d899a52-4c6a-4f8b-ce88-ff78803002d5"
      },
      "source": [
        "y_pred"
      ],
      "execution_count": null,
      "outputs": [
        {
          "output_type": "execute_result",
          "data": {
            "text/plain": [
              "array([1])"
            ]
          },
          "metadata": {
            "tags": []
          },
          "execution_count": 197
        }
      ]
    },
    {
      "cell_type": "code",
      "metadata": {
        "id": "y5oRVItKI9ff",
        "colab": {
          "base_uri": "https://localhost:8080/",
          "height": 34
        },
        "outputId": "1e2566e2-ecaf-49ae-cc9b-bb9502a424ea"
      },
      "source": [
        "labels[1800]"
      ],
      "execution_count": null,
      "outputs": [
        {
          "output_type": "execute_result",
          "data": {
            "text/plain": [
              "1"
            ]
          },
          "metadata": {
            "tags": []
          },
          "execution_count": 198
        }
      ]
    },
    {
      "cell_type": "code",
      "metadata": {
        "id": "rPwMP3-pIBCn",
        "colab": {
          "base_uri": "https://localhost:8080/",
          "height": 176
        },
        "outputId": "e39a3bc9-158f-4305-9bcf-40195bd52974"
      },
      "source": [
        "categories"
      ],
      "execution_count": null,
      "outputs": [
        {
          "output_type": "execute_result",
          "data": {
            "text/plain": [
              "['livedoor-homme',\n",
              " 'kaden-channel',\n",
              " 'topic-news',\n",
              " 'dokujo-tsushin',\n",
              " 'smax',\n",
              " 'movie-enter',\n",
              " 'sports-watch',\n",
              " 'peachy',\n",
              " 'it-life-hack']"
            ]
          },
          "metadata": {
            "tags": []
          },
          "execution_count": 199
        }
      ]
    },
    {
      "cell_type": "markdown",
      "metadata": {
        "id": "NrOcLUHaOEhU"
      },
      "source": [
        "## ６９：Word2Vec"
      ]
    },
    {
      "cell_type": "code",
      "metadata": {
        "id": "QlHU_n3cX-af",
        "colab": {
          "base_uri": "https://localhost:8080/",
          "height": 555
        },
        "outputId": "4e5997c2-0f3f-43eb-9b19-901221df9b58"
      },
      "source": [
        "!pip install --upgrade gensim"
      ],
      "execution_count": null,
      "outputs": [
        {
          "output_type": "stream",
          "text": [
            "Collecting gensim\n",
            "\u001b[?25l  Downloading https://files.pythonhosted.org/packages/2b/e0/fa6326251692056dc880a64eb22117e03269906ba55a6864864d24ec8b4e/gensim-3.8.3-cp36-cp36m-manylinux1_x86_64.whl (24.2MB)\n",
            "\u001b[K     |████████████████████████████████| 24.2MB 166kB/s \n",
            "\u001b[?25hRequirement already satisfied, skipping upgrade: scipy>=0.18.1 in /usr/local/lib/python3.6/dist-packages (from gensim) (1.4.1)\n",
            "Requirement already satisfied, skipping upgrade: smart-open>=1.8.1 in /usr/local/lib/python3.6/dist-packages (from gensim) (2.1.0)\n",
            "Requirement already satisfied, skipping upgrade: six>=1.5.0 in /usr/local/lib/python3.6/dist-packages (from gensim) (1.15.0)\n",
            "Requirement already satisfied, skipping upgrade: numpy>=1.11.3 in /usr/local/lib/python3.6/dist-packages (from gensim) (1.18.5)\n",
            "Requirement already satisfied, skipping upgrade: requests in /usr/local/lib/python3.6/dist-packages (from smart-open>=1.8.1->gensim) (2.23.0)\n",
            "Requirement already satisfied, skipping upgrade: boto3 in /usr/local/lib/python3.6/dist-packages (from smart-open>=1.8.1->gensim) (1.14.24)\n",
            "Requirement already satisfied, skipping upgrade: boto in /usr/local/lib/python3.6/dist-packages (from smart-open>=1.8.1->gensim) (2.49.0)\n",
            "Requirement already satisfied, skipping upgrade: idna<3,>=2.5 in /usr/local/lib/python3.6/dist-packages (from requests->smart-open>=1.8.1->gensim) (2.10)\n",
            "Requirement already satisfied, skipping upgrade: urllib3!=1.25.0,!=1.25.1,<1.26,>=1.21.1 in /usr/local/lib/python3.6/dist-packages (from requests->smart-open>=1.8.1->gensim) (1.24.3)\n",
            "Requirement already satisfied, skipping upgrade: certifi>=2017.4.17 in /usr/local/lib/python3.6/dist-packages (from requests->smart-open>=1.8.1->gensim) (2020.6.20)\n",
            "Requirement already satisfied, skipping upgrade: chardet<4,>=3.0.2 in /usr/local/lib/python3.6/dist-packages (from requests->smart-open>=1.8.1->gensim) (3.0.4)\n",
            "Requirement already satisfied, skipping upgrade: botocore<1.18.0,>=1.17.24 in /usr/local/lib/python3.6/dist-packages (from boto3->smart-open>=1.8.1->gensim) (1.17.24)\n",
            "Requirement already satisfied, skipping upgrade: jmespath<1.0.0,>=0.7.1 in /usr/local/lib/python3.6/dist-packages (from boto3->smart-open>=1.8.1->gensim) (0.10.0)\n",
            "Requirement already satisfied, skipping upgrade: s3transfer<0.4.0,>=0.3.0 in /usr/local/lib/python3.6/dist-packages (from boto3->smart-open>=1.8.1->gensim) (0.3.3)\n",
            "Requirement already satisfied, skipping upgrade: docutils<0.16,>=0.10 in /usr/local/lib/python3.6/dist-packages (from botocore<1.18.0,>=1.17.24->boto3->smart-open>=1.8.1->gensim) (0.15.2)\n",
            "Requirement already satisfied, skipping upgrade: python-dateutil<3.0.0,>=2.1 in /usr/local/lib/python3.6/dist-packages (from botocore<1.18.0,>=1.17.24->boto3->smart-open>=1.8.1->gensim) (2.8.1)\n",
            "Installing collected packages: gensim\n",
            "  Found existing installation: gensim 3.6.0\n",
            "    Uninstalling gensim-3.6.0:\n",
            "      Successfully uninstalled gensim-3.6.0\n",
            "Successfully installed gensim-3.8.3\n"
          ],
          "name": "stdout"
        },
        {
          "output_type": "display_data",
          "data": {
            "application/vnd.colab-display-data+json": {
              "pip_warning": {
                "packages": [
                  "gensim"
                ]
              }
            }
          },
          "metadata": {
            "tags": []
          }
        }
      ]
    },
    {
      "cell_type": "code",
      "metadata": {
        "id": "tGqJvT33JBw2"
      },
      "source": [
        "from gensim.models import word2vec\n",
        "\n",
        "docs = [[w for w in article2 if len(w) != 1] for article2 in article_sp]\n",
        "\n",
        "model = word2vec.Word2Vec(docs, size=100, min_count=1, window=5)\n",
        "model.save(\"./livedoor_w2v.model\")"
      ],
      "execution_count": null,
      "outputs": []
    },
    {
      "cell_type": "code",
      "metadata": {
        "id": "0BhyhIucYcaZ"
      },
      "source": [
        "from gensim.models import word2vec\n",
        "\n",
        "model = word2vec.Word2Vec.load(\"./livedoor_w2v.model\")"
      ],
      "execution_count": null,
      "outputs": []
    },
    {
      "cell_type": "code",
      "metadata": {
        "id": "1wKSRBGtY4Bf",
        "colab": {
          "base_uri": "https://localhost:8080/",
          "height": 194
        },
        "outputId": "3e018864-a48d-4b16-9684-cf50c934893f"
      },
      "source": [
        "model.wv.most_similar(positive=['ニュース'])"
      ],
      "execution_count": null,
      "outputs": [
        {
          "output_type": "execute_result",
          "data": {
            "text/plain": [
              "[('ライフハック', 0.6853103637695312),\n",
              " ('新聞', 0.6839464902877808),\n",
              " ('ちゃんねる', 0.6601943373680115),\n",
              " ('芸能', 0.6470254063606262),\n",
              " ('NHK', 0.617395281791687),\n",
              " ('ランキング', 0.606293797492981),\n",
              " ('WEB', 0.6002820134162903),\n",
              " ('アンドロイド', 0.5936285257339478),\n",
              " ('情報', 0.5927809476852417),\n",
              " ('Yahoo', 0.5842441916465759)]"
            ]
          },
          "metadata": {
            "tags": []
          },
          "execution_count": 40
        }
      ]
    },
    {
      "cell_type": "code",
      "metadata": {
        "id": "DqC4JeTXb6u2"
      },
      "source": [
        "import numpy as np\n",
        "\n",
        "livedoor_w2v = []\n",
        "\n",
        "for doc in docs:\n",
        "  vec = np.zeros(100)\n",
        "  for word in doc:\n",
        "    if word in model.wv:\n",
        "      vec+=model.wv[word]\n",
        "  livedoor_w2v.append(vec)"
      ],
      "execution_count": null,
      "outputs": []
    },
    {
      "cell_type": "code",
      "metadata": {
        "id": "MVmkzXrbe-Ks",
        "colab": {
          "base_uri": "https://localhost:8080/",
          "height": 87
        },
        "outputId": "97f84d3b-eef7-4f3e-aa8f-632aac4b92b6"
      },
      "source": [
        "import numpy as np\n",
        "from sklearn.model_selection import train_test_split\n",
        "x_train, x_test, y_train, y_test = train_test_split(livedoor_w2v, labels, train_size=0.7)\n",
        "print(len(x_train))\n",
        "print(len(y_train))\n",
        "print(len(x_test))\n",
        "print(len(y_test))"
      ],
      "execution_count": null,
      "outputs": [
        {
          "output_type": "stream",
          "text": [
            "5156\n",
            "5156\n",
            "2211\n",
            "2211\n"
          ],
          "name": "stdout"
        }
      ]
    },
    {
      "cell_type": "code",
      "metadata": {
        "id": "zBYfFwwufdtX",
        "colab": {
          "base_uri": "https://localhost:8080/",
          "height": 34
        },
        "outputId": "952d3932-3a7d-44f4-95c8-334cf641854b"
      },
      "source": [
        "from sklearn.ensemble import RandomForestClassifier\n",
        "\n",
        "model = RandomForestClassifier()\n",
        "model.fit(x_train, y_train)\n",
        "\n",
        "from sklearn.metrics import accuracy_score\n",
        "y_pred = model.predict(x_test)\n",
        "print('accuracy = ', accuracy_score(y_true=y_test, y_pred=y_pred))"
      ],
      "execution_count": null,
      "outputs": [
        {
          "output_type": "stream",
          "text": [
            "accuracy =  0.8421528720036183\n"
          ],
          "name": "stdout"
        }
      ]
    },
    {
      "cell_type": "markdown",
      "metadata": {
        "id": "EGUOE_vAiYYy"
      },
      "source": [
        "# 第８章）深層学習"
      ]
    },
    {
      "cell_type": "markdown",
      "metadata": {
        "id": "CF7zUTyJjcwB"
      },
      "source": [
        "## ７０：ktrainのセットアップ"
      ]
    },
    {
      "cell_type": "code",
      "metadata": {
        "id": "A8wztijJgMN9",
        "colab": {
          "base_uri": "https://localhost:8080/",
          "height": 1000
        },
        "outputId": "7745f8dd-a154-4d86-87c5-c38687310031"
      },
      "source": [
        "!pip install ktrain "
      ],
      "execution_count": null,
      "outputs": [
        {
          "output_type": "stream",
          "text": [
            "Collecting ktrain\n",
            "\u001b[?25l  Downloading https://files.pythonhosted.org/packages/00/9b/1992a4744074ccc0d9dc471db1acacb81453a5447688beba24488f412d37/ktrain-0.18.5.tar.gz (25.2MB)\n",
            "\u001b[K     |████████████████████████████████| 25.2MB 129kB/s \n",
            "\u001b[?25hCollecting tensorflow==2.1.0\n",
            "\u001b[?25l  Downloading https://files.pythonhosted.org/packages/85/d4/c0cd1057b331bc38b65478302114194bd8e1b9c2bbc06e300935c0e93d90/tensorflow-2.1.0-cp36-cp36m-manylinux2010_x86_64.whl (421.8MB)\n",
            "\u001b[K     |████████████████████████████████| 421.8MB 34kB/s \n",
            "\u001b[?25hRequirement already satisfied: scipy==1.4.1 in /usr/local/lib/python3.6/dist-packages (from ktrain) (1.4.1)\n",
            "Collecting scikit-learn==0.21.3\n",
            "\u001b[?25l  Downloading https://files.pythonhosted.org/packages/a0/c5/d2238762d780dde84a20b8c761f563fe882b88c5a5fb03c056547c442a19/scikit_learn-0.21.3-cp36-cp36m-manylinux1_x86_64.whl (6.7MB)\n",
            "\u001b[K     |████████████████████████████████| 6.7MB 25.9MB/s \n",
            "\u001b[?25hRequirement already satisfied: matplotlib>=3.0.0 in /usr/local/lib/python3.6/dist-packages (from ktrain) (3.2.2)\n",
            "Requirement already satisfied: pandas>=1.0.1 in /usr/local/lib/python3.6/dist-packages (from ktrain) (1.0.5)\n",
            "Requirement already satisfied: fastprogress>=0.1.21 in /usr/local/lib/python3.6/dist-packages (from ktrain) (0.2.3)\n",
            "Collecting keras_bert>=0.81.0\n",
            "  Downloading https://files.pythonhosted.org/packages/06/fc/45434550f446e6e1c9cac715e5a2f34a6fa599abd98563f728c2d6df4332/keras-bert-0.85.0.tar.gz\n",
            "Requirement already satisfied: requests in /usr/local/lib/python3.6/dist-packages (from ktrain) (2.23.0)\n",
            "Requirement already satisfied: joblib in /usr/local/lib/python3.6/dist-packages (from ktrain) (0.16.0)\n",
            "Collecting langdetect\n",
            "\u001b[?25l  Downloading https://files.pythonhosted.org/packages/56/a3/8407c1e62d5980188b4acc45ef3d94b933d14a2ebc9ef3505f22cf772570/langdetect-1.0.8.tar.gz (981kB)\n",
            "\u001b[K     |████████████████████████████████| 983kB 54.2MB/s \n",
            "\u001b[?25hRequirement already satisfied: jieba in /usr/local/lib/python3.6/dist-packages (from ktrain) (0.42.1)\n",
            "Collecting cchardet==2.1.5\n",
            "\u001b[?25l  Downloading https://files.pythonhosted.org/packages/fa/4e/847feebfc3e71c773b23ee06c74687b8c50a5a6d6aaff452a0a4f4eb9a32/cchardet-2.1.5-cp36-cp36m-manylinux1_x86_64.whl (241kB)\n",
            "\u001b[K     |████████████████████████████████| 245kB 59.3MB/s \n",
            "\u001b[?25hRequirement already satisfied: networkx>=2.3 in /usr/local/lib/python3.6/dist-packages (from ktrain) (2.4)\n",
            "Requirement already satisfied: bokeh in /usr/local/lib/python3.6/dist-packages (from ktrain) (2.1.1)\n",
            "Collecting seqeval\n",
            "  Downloading https://files.pythonhosted.org/packages/34/91/068aca8d60ce56dd9ba4506850e876aba5e66a6f2f29aa223224b50df0de/seqeval-0.0.12.tar.gz\n",
            "Requirement already satisfied: packaging in /usr/local/lib/python3.6/dist-packages (from ktrain) (20.4)\n",
            "Requirement already satisfied: tensorflow_datasets in /usr/local/lib/python3.6/dist-packages (from ktrain) (2.1.0)\n",
            "Collecting transformers>=2.11.0\n",
            "\u001b[?25l  Downloading https://files.pythonhosted.org/packages/27/3c/91ed8f5c4e7ef3227b4119200fc0ed4b4fd965b1f0172021c25701087825/transformers-3.0.2-py3-none-any.whl (769kB)\n",
            "\u001b[K     |████████████████████████████████| 778kB 46.6MB/s \n",
            "\u001b[?25hRequirement already satisfied: ipython in /usr/local/lib/python3.6/dist-packages (from ktrain) (5.5.0)\n",
            "Collecting syntok\n",
            "  Downloading https://files.pythonhosted.org/packages/8c/76/a49e73a04b3e3a14ce232e8e28a1587f8108baa665644fe8c40e307e792e/syntok-1.3.1.tar.gz\n",
            "Collecting whoosh\n",
            "\u001b[?25l  Downloading https://files.pythonhosted.org/packages/ba/19/24d0f1f454a2c1eb689ca28d2f178db81e5024f42d82729a4ff6771155cf/Whoosh-2.7.4-py2.py3-none-any.whl (468kB)\n",
            "\u001b[K     |████████████████████████████████| 471kB 52.4MB/s \n",
            "\u001b[?25hCollecting tensorboard<2.2.0,>=2.1.0\n",
            "\u001b[?25l  Downloading https://files.pythonhosted.org/packages/d9/41/bbf49b61370e4f4d245d4c6051dfb6db80cec672605c91b1652ac8cc3d38/tensorboard-2.1.1-py3-none-any.whl (3.8MB)\n",
            "\u001b[K     |████████████████████████████████| 3.9MB 51.8MB/s \n",
            "\u001b[?25hRequirement already satisfied: opt-einsum>=2.3.2 in /usr/local/lib/python3.6/dist-packages (from tensorflow==2.1.0->ktrain) (3.3.0)\n",
            "Collecting tensorflow-estimator<2.2.0,>=2.1.0rc0\n",
            "\u001b[?25l  Downloading https://files.pythonhosted.org/packages/18/90/b77c328a1304437ab1310b463e533fa7689f4bfc41549593056d812fab8e/tensorflow_estimator-2.1.0-py2.py3-none-any.whl (448kB)\n",
            "\u001b[K     |████████████████████████████████| 450kB 52.9MB/s \n",
            "\u001b[?25hCollecting gast==0.2.2\n",
            "  Downloading https://files.pythonhosted.org/packages/4e/35/11749bf99b2d4e3cceb4d55ca22590b0d7c2c62b9de38ac4a4a7f4687421/gast-0.2.2.tar.gz\n",
            "Requirement already satisfied: termcolor>=1.1.0 in /usr/local/lib/python3.6/dist-packages (from tensorflow==2.1.0->ktrain) (1.1.0)\n",
            "Requirement already satisfied: astor>=0.6.0 in /usr/local/lib/python3.6/dist-packages (from tensorflow==2.1.0->ktrain) (0.8.1)\n",
            "Requirement already satisfied: protobuf>=3.8.0 in /usr/local/lib/python3.6/dist-packages (from tensorflow==2.1.0->ktrain) (3.12.2)\n",
            "Requirement already satisfied: six>=1.12.0 in /usr/local/lib/python3.6/dist-packages (from tensorflow==2.1.0->ktrain) (1.15.0)\n",
            "Requirement already satisfied: numpy<2.0,>=1.16.0 in /usr/local/lib/python3.6/dist-packages (from tensorflow==2.1.0->ktrain) (1.18.5)\n",
            "Requirement already satisfied: grpcio>=1.8.6 in /usr/local/lib/python3.6/dist-packages (from tensorflow==2.1.0->ktrain) (1.30.0)\n",
            "Requirement already satisfied: keras-preprocessing>=1.1.0 in /usr/local/lib/python3.6/dist-packages (from tensorflow==2.1.0->ktrain) (1.1.2)\n",
            "Requirement already satisfied: absl-py>=0.7.0 in /usr/local/lib/python3.6/dist-packages (from tensorflow==2.1.0->ktrain) (0.9.0)\n",
            "Requirement already satisfied: keras-applications>=1.0.8 in /usr/local/lib/python3.6/dist-packages (from tensorflow==2.1.0->ktrain) (1.0.8)\n",
            "Requirement already satisfied: google-pasta>=0.1.6 in /usr/local/lib/python3.6/dist-packages (from tensorflow==2.1.0->ktrain) (0.2.0)\n",
            "Requirement already satisfied: wheel>=0.26; python_version >= \"3\" in /usr/local/lib/python3.6/dist-packages (from tensorflow==2.1.0->ktrain) (0.34.2)\n",
            "Requirement already satisfied: wrapt>=1.11.1 in /usr/local/lib/python3.6/dist-packages (from tensorflow==2.1.0->ktrain) (1.12.1)\n",
            "Requirement already satisfied: python-dateutil>=2.1 in /usr/local/lib/python3.6/dist-packages (from matplotlib>=3.0.0->ktrain) (2.8.1)\n",
            "Requirement already satisfied: cycler>=0.10 in /usr/local/lib/python3.6/dist-packages (from matplotlib>=3.0.0->ktrain) (0.10.0)\n",
            "Requirement already satisfied: pyparsing!=2.0.4,!=2.1.2,!=2.1.6,>=2.0.1 in /usr/local/lib/python3.6/dist-packages (from matplotlib>=3.0.0->ktrain) (2.4.7)\n",
            "Requirement already satisfied: kiwisolver>=1.0.1 in /usr/local/lib/python3.6/dist-packages (from matplotlib>=3.0.0->ktrain) (1.2.0)\n",
            "Requirement already satisfied: pytz>=2017.2 in /usr/local/lib/python3.6/dist-packages (from pandas>=1.0.1->ktrain) (2018.9)\n",
            "Collecting Keras>=2.4.3\n",
            "  Downloading https://files.pythonhosted.org/packages/44/e1/dc0757b20b56c980b5553c1b5c4c32d378c7055ab7bfa92006801ad359ab/Keras-2.4.3-py2.py3-none-any.whl\n",
            "Collecting keras-transformer>=0.38.0\n",
            "  Downloading https://files.pythonhosted.org/packages/89/6c/d6f0c164f4cc16fbc0d0fea85f5526e87a7d2df7b077809e422a7e626150/keras-transformer-0.38.0.tar.gz\n",
            "Requirement already satisfied: idna<3,>=2.5 in /usr/local/lib/python3.6/dist-packages (from requests->ktrain) (2.10)\n",
            "Requirement already satisfied: urllib3!=1.25.0,!=1.25.1,<1.26,>=1.21.1 in /usr/local/lib/python3.6/dist-packages (from requests->ktrain) (1.24.3)\n",
            "Requirement already satisfied: chardet<4,>=3.0.2 in /usr/local/lib/python3.6/dist-packages (from requests->ktrain) (3.0.4)\n",
            "Requirement already satisfied: certifi>=2017.4.17 in /usr/local/lib/python3.6/dist-packages (from requests->ktrain) (2020.6.20)\n",
            "Requirement already satisfied: decorator>=4.3.0 in /usr/local/lib/python3.6/dist-packages (from networkx>=2.3->ktrain) (4.4.2)\n",
            "Requirement already satisfied: Jinja2>=2.7 in /usr/local/lib/python3.6/dist-packages (from bokeh->ktrain) (2.11.2)\n",
            "Requirement already satisfied: typing-extensions>=3.7.4 in /usr/local/lib/python3.6/dist-packages (from bokeh->ktrain) (3.7.4.2)\n",
            "Requirement already satisfied: PyYAML>=3.10 in /usr/local/lib/python3.6/dist-packages (from bokeh->ktrain) (3.13)\n",
            "Requirement already satisfied: pillow>=4.0 in /usr/local/lib/python3.6/dist-packages (from bokeh->ktrain) (7.0.0)\n",
            "Requirement already satisfied: tornado>=5.1 in /usr/local/lib/python3.6/dist-packages (from bokeh->ktrain) (5.1.1)\n",
            "Requirement already satisfied: future in /usr/local/lib/python3.6/dist-packages (from tensorflow_datasets->ktrain) (0.16.0)\n",
            "Requirement already satisfied: promise in /usr/local/lib/python3.6/dist-packages (from tensorflow_datasets->ktrain) (2.3)\n",
            "Requirement already satisfied: attrs>=18.1.0 in /usr/local/lib/python3.6/dist-packages (from tensorflow_datasets->ktrain) (19.3.0)\n",
            "Requirement already satisfied: tensorflow-metadata in /usr/local/lib/python3.6/dist-packages (from tensorflow_datasets->ktrain) (0.22.2)\n",
            "Requirement already satisfied: tqdm in /usr/local/lib/python3.6/dist-packages (from tensorflow_datasets->ktrain) (4.41.1)\n",
            "Requirement already satisfied: dill in /usr/local/lib/python3.6/dist-packages (from tensorflow_datasets->ktrain) (0.3.2)\n",
            "Collecting tokenizers==0.8.1.rc1\n",
            "\u001b[?25l  Downloading https://files.pythonhosted.org/packages/40/d0/30d5f8d221a0ed981a186c8eb986ce1c94e3a6e87f994eae9f4aa5250217/tokenizers-0.8.1rc1-cp36-cp36m-manylinux1_x86_64.whl (3.0MB)\n",
            "\u001b[K     |████████████████████████████████| 3.0MB 47.6MB/s \n",
            "\u001b[?25hCollecting sacremoses\n",
            "\u001b[?25l  Downloading https://files.pythonhosted.org/packages/7d/34/09d19aff26edcc8eb2a01bed8e98f13a1537005d31e95233fd48216eed10/sacremoses-0.0.43.tar.gz (883kB)\n",
            "\u001b[K     |████████████████████████████████| 890kB 48.8MB/s \n",
            "\u001b[?25hRequirement already satisfied: dataclasses; python_version < \"3.7\" in /usr/local/lib/python3.6/dist-packages (from transformers>=2.11.0->ktrain) (0.7)\n",
            "Requirement already satisfied: regex!=2019.12.17 in /usr/local/lib/python3.6/dist-packages (from transformers>=2.11.0->ktrain) (2019.12.20)\n",
            "Collecting sentencepiece!=0.1.92\n",
            "\u001b[?25l  Downloading https://files.pythonhosted.org/packages/d4/a4/d0a884c4300004a78cca907a6ff9a5e9fe4f090f5d95ab341c53d28cbc58/sentencepiece-0.1.91-cp36-cp36m-manylinux1_x86_64.whl (1.1MB)\n",
            "\u001b[K     |████████████████████████████████| 1.1MB 40.5MB/s \n",
            "\u001b[?25hRequirement already satisfied: filelock in /usr/local/lib/python3.6/dist-packages (from transformers>=2.11.0->ktrain) (3.0.12)\n",
            "Requirement already satisfied: traitlets>=4.2 in /usr/local/lib/python3.6/dist-packages (from ipython->ktrain) (4.3.3)\n",
            "Requirement already satisfied: pickleshare in /usr/local/lib/python3.6/dist-packages (from ipython->ktrain) (0.7.5)\n",
            "Requirement already satisfied: simplegeneric>0.8 in /usr/local/lib/python3.6/dist-packages (from ipython->ktrain) (0.8.1)\n",
            "Requirement already satisfied: pexpect; sys_platform != \"win32\" in /usr/local/lib/python3.6/dist-packages (from ipython->ktrain) (4.8.0)\n",
            "Requirement already satisfied: setuptools>=18.5 in /usr/local/lib/python3.6/dist-packages (from ipython->ktrain) (49.1.0)\n",
            "Requirement already satisfied: pygments in /usr/local/lib/python3.6/dist-packages (from ipython->ktrain) (2.1.3)\n",
            "Requirement already satisfied: prompt-toolkit<2.0.0,>=1.0.4 in /usr/local/lib/python3.6/dist-packages (from ipython->ktrain) (1.0.18)\n",
            "Requirement already satisfied: google-auth<2,>=1.6.3 in /usr/local/lib/python3.6/dist-packages (from tensorboard<2.2.0,>=2.1.0->tensorflow==2.1.0->ktrain) (1.17.2)\n",
            "Requirement already satisfied: werkzeug>=0.11.15 in /usr/local/lib/python3.6/dist-packages (from tensorboard<2.2.0,>=2.1.0->tensorflow==2.1.0->ktrain) (1.0.1)\n",
            "Requirement already satisfied: google-auth-oauthlib<0.5,>=0.4.1 in /usr/local/lib/python3.6/dist-packages (from tensorboard<2.2.0,>=2.1.0->tensorflow==2.1.0->ktrain) (0.4.1)\n",
            "Requirement already satisfied: markdown>=2.6.8 in /usr/local/lib/python3.6/dist-packages (from tensorboard<2.2.0,>=2.1.0->tensorflow==2.1.0->ktrain) (3.2.2)\n",
            "Requirement already satisfied: h5py in /usr/local/lib/python3.6/dist-packages (from keras-applications>=1.0.8->tensorflow==2.1.0->ktrain) (2.10.0)\n",
            "Collecting keras-pos-embd>=0.11.0\n",
            "  Downloading https://files.pythonhosted.org/packages/09/70/b63ed8fc660da2bb6ae29b9895401c628da5740c048c190b5d7107cadd02/keras-pos-embd-0.11.0.tar.gz\n",
            "Collecting keras-multi-head>=0.27.0\n",
            "  Downloading https://files.pythonhosted.org/packages/e6/32/45adf2549450aca7867deccfa04af80a0ab1ca139af44b16bc669e0e09cd/keras-multi-head-0.27.0.tar.gz\n",
            "Collecting keras-layer-normalization>=0.14.0\n",
            "  Downloading https://files.pythonhosted.org/packages/a4/0e/d1078df0494bac9ce1a67954e5380b6e7569668f0f3b50a9531c62c1fc4a/keras-layer-normalization-0.14.0.tar.gz\n",
            "Collecting keras-position-wise-feed-forward>=0.6.0\n",
            "  Downloading https://files.pythonhosted.org/packages/e3/59/f0faa1037c033059e7e9e7758e6c23b4d1c0772cd48de14c4b6fd4033ad5/keras-position-wise-feed-forward-0.6.0.tar.gz\n",
            "Collecting keras-embed-sim>=0.8.0\n",
            "  Downloading https://files.pythonhosted.org/packages/57/ef/61a1e39082c9e1834a2d09261d4a0b69f7c818b359216d4e1912b20b1c86/keras-embed-sim-0.8.0.tar.gz\n",
            "Requirement already satisfied: MarkupSafe>=0.23 in /usr/local/lib/python3.6/dist-packages (from Jinja2>=2.7->bokeh->ktrain) (1.1.1)\n",
            "Requirement already satisfied: googleapis-common-protos in /usr/local/lib/python3.6/dist-packages (from tensorflow-metadata->tensorflow_datasets->ktrain) (1.52.0)\n",
            "Requirement already satisfied: click in /usr/local/lib/python3.6/dist-packages (from sacremoses->transformers>=2.11.0->ktrain) (7.1.2)\n",
            "Requirement already satisfied: ipython-genutils in /usr/local/lib/python3.6/dist-packages (from traitlets>=4.2->ipython->ktrain) (0.2.0)\n",
            "Requirement already satisfied: ptyprocess>=0.5 in /usr/local/lib/python3.6/dist-packages (from pexpect; sys_platform != \"win32\"->ipython->ktrain) (0.6.0)\n",
            "Requirement already satisfied: wcwidth in /usr/local/lib/python3.6/dist-packages (from prompt-toolkit<2.0.0,>=1.0.4->ipython->ktrain) (0.2.5)\n",
            "Requirement already satisfied: cachetools<5.0,>=2.0.0 in /usr/local/lib/python3.6/dist-packages (from google-auth<2,>=1.6.3->tensorboard<2.2.0,>=2.1.0->tensorflow==2.1.0->ktrain) (4.1.1)\n",
            "Requirement already satisfied: pyasn1-modules>=0.2.1 in /usr/local/lib/python3.6/dist-packages (from google-auth<2,>=1.6.3->tensorboard<2.2.0,>=2.1.0->tensorflow==2.1.0->ktrain) (0.2.8)\n",
            "Requirement already satisfied: rsa<5,>=3.1.4; python_version >= \"3\" in /usr/local/lib/python3.6/dist-packages (from google-auth<2,>=1.6.3->tensorboard<2.2.0,>=2.1.0->tensorflow==2.1.0->ktrain) (4.6)\n",
            "Requirement already satisfied: requests-oauthlib>=0.7.0 in /usr/local/lib/python3.6/dist-packages (from google-auth-oauthlib<0.5,>=0.4.1->tensorboard<2.2.0,>=2.1.0->tensorflow==2.1.0->ktrain) (1.3.0)\n",
            "Requirement already satisfied: importlib-metadata; python_version < \"3.8\" in /usr/local/lib/python3.6/dist-packages (from markdown>=2.6.8->tensorboard<2.2.0,>=2.1.0->tensorflow==2.1.0->ktrain) (1.7.0)\n",
            "Collecting keras-self-attention==0.46.0\n",
            "  Downloading https://files.pythonhosted.org/packages/15/6b/c804924a056955fa1f3ff767945187103cfc851ba9bd0fc5a6c6bc18e2eb/keras-self-attention-0.46.0.tar.gz\n",
            "Requirement already satisfied: pyasn1<0.5.0,>=0.4.6 in /usr/local/lib/python3.6/dist-packages (from pyasn1-modules>=0.2.1->google-auth<2,>=1.6.3->tensorboard<2.2.0,>=2.1.0->tensorflow==2.1.0->ktrain) (0.4.8)\n",
            "Requirement already satisfied: oauthlib>=3.0.0 in /usr/local/lib/python3.6/dist-packages (from requests-oauthlib>=0.7.0->google-auth-oauthlib<0.5,>=0.4.1->tensorboard<2.2.0,>=2.1.0->tensorflow==2.1.0->ktrain) (3.1.0)\n",
            "Requirement already satisfied: zipp>=0.5 in /usr/local/lib/python3.6/dist-packages (from importlib-metadata; python_version < \"3.8\"->markdown>=2.6.8->tensorboard<2.2.0,>=2.1.0->tensorflow==2.1.0->ktrain) (3.1.0)\n",
            "Building wheels for collected packages: ktrain, keras-bert, langdetect, seqeval, syntok, gast, keras-transformer, sacremoses, keras-pos-embd, keras-multi-head, keras-layer-normalization, keras-position-wise-feed-forward, keras-embed-sim, keras-self-attention\n",
            "  Building wheel for ktrain (setup.py) ... \u001b[?25l\u001b[?25hdone\n",
            "  Created wheel for ktrain: filename=ktrain-0.18.5-cp36-none-any.whl size=25253441 sha256=34dae4b679ddf5fd4141ffdff352051ff71a0e93b68b130d1fc20bb009343eca\n",
            "  Stored in directory: /root/.cache/pip/wheels/29/33/cd/2a24a3b6344bb291ede07a903985664bf747b3ea50d9c05ce4\n",
            "  Building wheel for keras-bert (setup.py) ... \u001b[?25l\u001b[?25hdone\n",
            "  Created wheel for keras-bert: filename=keras_bert-0.85.0-cp36-none-any.whl size=34303 sha256=1ded2a9b006b8923d33635a74d03f5a98c60790313712faf044d92047edd5fad\n",
            "  Stored in directory: /root/.cache/pip/wheels/1f/7a/13/40e59e2587ebfdba717d5ecc4c89c614f06c8137e515fa8b26\n",
            "  Building wheel for langdetect (setup.py) ... \u001b[?25l\u001b[?25hdone\n",
            "  Created wheel for langdetect: filename=langdetect-1.0.8-cp36-none-any.whl size=993193 sha256=ed539b03ce2bee2dcc4dd4962cb4c09bc30b79a6292e675bb8ada6604c2e3820\n",
            "  Stored in directory: /root/.cache/pip/wheels/8d/b3/aa/6d99de9f3841d7d3d40a60ea06e6d669e8e5012e6c8b947a57\n",
            "  Building wheel for seqeval (setup.py) ... \u001b[?25l\u001b[?25hdone\n",
            "  Created wheel for seqeval: filename=seqeval-0.0.12-cp36-none-any.whl size=7424 sha256=122f8da501dcf653f8283416f1b0e4e8fafe284cb5b9cd1b4ecec60436b8aa23\n",
            "  Stored in directory: /root/.cache/pip/wheels/4f/32/0a/df3b340a82583566975377d65e724895b3fad101a3fb729f68\n",
            "  Building wheel for syntok (setup.py) ... \u001b[?25l\u001b[?25hdone\n",
            "  Created wheel for syntok: filename=syntok-1.3.1-cp36-none-any.whl size=20918 sha256=04d01a1ca4310573aefeb1793699d09d6fad695814d9c01f1231c21dcdd65b7a\n",
            "  Stored in directory: /root/.cache/pip/wheels/51/c6/a4/be1920586c49469846bcd2888200bdecfe109ec421dab9be2d\n",
            "  Building wheel for gast (setup.py) ... \u001b[?25l\u001b[?25hdone\n",
            "  Created wheel for gast: filename=gast-0.2.2-cp36-none-any.whl size=7540 sha256=6dd33f81f58f45fa342333af7eef429677aee33f605394931b1e53d994d29ca5\n",
            "  Stored in directory: /root/.cache/pip/wheels/5c/2e/7e/a1d4d4fcebe6c381f378ce7743a3ced3699feb89bcfbdadadd\n",
            "  Building wheel for keras-transformer (setup.py) ... \u001b[?25l\u001b[?25hdone\n",
            "  Created wheel for keras-transformer: filename=keras_transformer-0.38.0-cp36-none-any.whl size=12942 sha256=f793e8a8f4e79402dfe9d1fb9eb90a55ade28a91afa7dcea903de95c20ec2e1b\n",
            "  Stored in directory: /root/.cache/pip/wheels/e5/fb/3a/37b2b9326c799aa010ae46a04ddb04f320d8c77c0b7e837f4e\n",
            "  Building wheel for sacremoses (setup.py) ... \u001b[?25l\u001b[?25hdone\n",
            "  Created wheel for sacremoses: filename=sacremoses-0.0.43-cp36-none-any.whl size=893260 sha256=c2fcc7efe2e1300078ccdf612c0e8feb3ba2697c2febeed29f1ecf0dbbf1c83c\n",
            "  Stored in directory: /root/.cache/pip/wheels/29/3c/fd/7ce5c3f0666dab31a50123635e6fb5e19ceb42ce38d4e58f45\n",
            "  Building wheel for keras-pos-embd (setup.py) ... \u001b[?25l\u001b[?25hdone\n",
            "  Created wheel for keras-pos-embd: filename=keras_pos_embd-0.11.0-cp36-none-any.whl size=7554 sha256=6957765bf932b75579d968efb60a4611a31fc06f5727d235d7a9c0a9792d1acf\n",
            "  Stored in directory: /root/.cache/pip/wheels/5b/a1/a0/ce6b1d49ba1a9a76f592e70cf297b05c96bc9f418146761032\n",
            "  Building wheel for keras-multi-head (setup.py) ... \u001b[?25l\u001b[?25hdone\n",
            "  Created wheel for keras-multi-head: filename=keras_multi_head-0.27.0-cp36-none-any.whl size=15611 sha256=0b7179302ccf91ca5f60293b7e09034bdd7f110b2d4904cf81e9a8508c0aa932\n",
            "  Stored in directory: /root/.cache/pip/wheels/b5/b4/49/0a0c27dcb93c13af02fea254ff51d1a43a924dd4e5b7a7164d\n",
            "  Building wheel for keras-layer-normalization (setup.py) ... \u001b[?25l\u001b[?25hdone\n",
            "  Created wheel for keras-layer-normalization: filename=keras_layer_normalization-0.14.0-cp36-none-any.whl size=5268 sha256=c5e0f825c720988a5e1365842b558e96e1ce31d7f58db9e6316a34dcd5a6f15a\n",
            "  Stored in directory: /root/.cache/pip/wheels/54/80/22/a638a7d406fd155e507aa33d703e3fa2612b9eb7bb4f4fe667\n",
            "  Building wheel for keras-position-wise-feed-forward (setup.py) ... \u001b[?25l\u001b[?25hdone\n",
            "  Created wheel for keras-position-wise-feed-forward: filename=keras_position_wise_feed_forward-0.6.0-cp36-none-any.whl size=5623 sha256=16c4cc8ddabd2226243db1d1d795431eecc3733de182f2c58a2d17a12744e340\n",
            "  Stored in directory: /root/.cache/pip/wheels/39/e2/e2/3514fef126a00574b13bc0b9e23891800158df3a3c19c96e3b\n",
            "  Building wheel for keras-embed-sim (setup.py) ... \u001b[?25l\u001b[?25hdone\n",
            "  Created wheel for keras-embed-sim: filename=keras_embed_sim-0.8.0-cp36-none-any.whl size=4558 sha256=ca61dac7342233c7801bf59f11afae0511dd2b54cd1098e110dcb04da3da88ba\n",
            "  Stored in directory: /root/.cache/pip/wheels/49/45/8b/c111f6cc8bec253e984677de73a6f4f5d2f1649f42aac191c8\n",
            "  Building wheel for keras-self-attention (setup.py) ... \u001b[?25l\u001b[?25hdone\n",
            "  Created wheel for keras-self-attention: filename=keras_self_attention-0.46.0-cp36-none-any.whl size=17278 sha256=c61f5ed99fbee84030996e70caa2b66707d7e6c707824071057d6e1f7e44d871\n",
            "  Stored in directory: /root/.cache/pip/wheels/d2/2e/80/fec4c05eb23c8e13b790e26d207d6e0ffe8013fad8c6bdd4d2\n",
            "Successfully built ktrain keras-bert langdetect seqeval syntok gast keras-transformer sacremoses keras-pos-embd keras-multi-head keras-layer-normalization keras-position-wise-feed-forward keras-embed-sim keras-self-attention\n",
            "\u001b[31mERROR: tensorflow-probability 0.10.0 has requirement gast>=0.3.2, but you'll have gast 0.2.2 which is incompatible.\u001b[0m\n",
            "Installing collected packages: tensorboard, tensorflow-estimator, gast, tensorflow, scikit-learn, Keras, keras-pos-embd, keras-self-attention, keras-multi-head, keras-layer-normalization, keras-position-wise-feed-forward, keras-embed-sim, keras-transformer, keras-bert, langdetect, cchardet, seqeval, tokenizers, sacremoses, sentencepiece, transformers, syntok, whoosh, ktrain\n",
            "  Found existing installation: tensorboard 2.2.2\n",
            "    Uninstalling tensorboard-2.2.2:\n",
            "      Successfully uninstalled tensorboard-2.2.2\n",
            "  Found existing installation: tensorflow-estimator 2.2.0\n",
            "    Uninstalling tensorflow-estimator-2.2.0:\n",
            "      Successfully uninstalled tensorflow-estimator-2.2.0\n",
            "  Found existing installation: gast 0.3.3\n",
            "    Uninstalling gast-0.3.3:\n",
            "      Successfully uninstalled gast-0.3.3\n",
            "  Found existing installation: tensorflow 2.2.0\n",
            "    Uninstalling tensorflow-2.2.0:\n",
            "      Successfully uninstalled tensorflow-2.2.0\n",
            "  Found existing installation: scikit-learn 0.22.2.post1\n",
            "    Uninstalling scikit-learn-0.22.2.post1:\n",
            "      Successfully uninstalled scikit-learn-0.22.2.post1\n",
            "  Found existing installation: Keras 2.3.1\n",
            "    Uninstalling Keras-2.3.1:\n",
            "      Successfully uninstalled Keras-2.3.1\n",
            "Successfully installed Keras-2.4.3 cchardet-2.1.5 gast-0.2.2 keras-bert-0.85.0 keras-embed-sim-0.8.0 keras-layer-normalization-0.14.0 keras-multi-head-0.27.0 keras-pos-embd-0.11.0 keras-position-wise-feed-forward-0.6.0 keras-self-attention-0.46.0 keras-transformer-0.38.0 ktrain-0.18.5 langdetect-1.0.8 sacremoses-0.0.43 scikit-learn-0.21.3 sentencepiece-0.1.91 seqeval-0.0.12 syntok-1.3.1 tensorboard-2.1.1 tensorflow-2.1.0 tensorflow-estimator-2.1.0 tokenizers-0.8.1rc1 transformers-3.0.2 whoosh-2.7.4\n"
          ],
          "name": "stdout"
        }
      ]
    },
    {
      "cell_type": "markdown",
      "metadata": {
        "id": "b-qvWx6tjgOG"
      },
      "source": [
        "## ７１：Tensorflowのバージョン確認"
      ]
    },
    {
      "cell_type": "code",
      "metadata": {
        "id": "COoV8-viijuY",
        "colab": {
          "base_uri": "https://localhost:8080/",
          "height": 34
        },
        "outputId": "2ce8075c-ec3b-4056-fef5-dfb40b6e3f9d"
      },
      "source": [
        "import tensorflow as tf\n",
        "print(tf.__version__)"
      ],
      "execution_count": null,
      "outputs": [
        {
          "output_type": "stream",
          "text": [
            "2.1.0\n"
          ],
          "name": "stdout"
        }
      ]
    },
    {
      "cell_type": "markdown",
      "metadata": {
        "id": "DVVLr1u1lDQE"
      },
      "source": [
        "## ７２：GPU利用の確認\n"
      ]
    },
    {
      "cell_type": "code",
      "metadata": {
        "id": "YRAGG3KNjm54",
        "colab": {
          "base_uri": "https://localhost:8080/",
          "height": 496
        },
        "outputId": "57960a65-92f4-4720-85f0-8d7df97c3fad"
      },
      "source": [
        "from tensorflow.python.client import device_lib\n",
        "device_lib.list_local_devices()"
      ],
      "execution_count": null,
      "outputs": [
        {
          "output_type": "execute_result",
          "data": {
            "text/plain": [
              "[name: \"/device:CPU:0\"\n",
              " device_type: \"CPU\"\n",
              " memory_limit: 268435456\n",
              " locality {\n",
              " }\n",
              " incarnation: 1989519774116500777, name: \"/device:XLA_CPU:0\"\n",
              " device_type: \"XLA_CPU\"\n",
              " memory_limit: 17179869184\n",
              " locality {\n",
              " }\n",
              " incarnation: 13532346517523600829\n",
              " physical_device_desc: \"device: XLA_CPU device\", name: \"/device:XLA_GPU:0\"\n",
              " device_type: \"XLA_GPU\"\n",
              " memory_limit: 17179869184\n",
              " locality {\n",
              " }\n",
              " incarnation: 212668757909430398\n",
              " physical_device_desc: \"device: XLA_GPU device\", name: \"/device:GPU:0\"\n",
              " device_type: \"GPU\"\n",
              " memory_limit: 14912199066\n",
              " locality {\n",
              "   bus_id: 1\n",
              "   links {\n",
              "   }\n",
              " }\n",
              " incarnation: 7286440543982995975\n",
              " physical_device_desc: \"device: 0, name: Tesla T4, pci bus id: 0000:00:04.0, compute capability: 7.5\"]"
            ]
          },
          "metadata": {
            "tags": []
          },
          "execution_count": 3
        }
      ]
    },
    {
      "cell_type": "markdown",
      "metadata": {
        "id": "chBNiiVElrs3"
      },
      "source": [
        "## ７３：fetch_20newsgroups"
      ]
    },
    {
      "cell_type": "code",
      "metadata": {
        "id": "jP2QdTqAlCyt",
        "colab": {
          "base_uri": "https://localhost:8080/",
          "height": 70
        },
        "outputId": "ba3a027f-f130-4559-a522-f36cc2673a22"
      },
      "source": [
        "categories = ['alt.atheism', 'soc.religion.christian',\n",
        "             'comp.graphics', 'sci.med']\n",
        "from sklearn.datasets import fetch_20newsgroups\n",
        "train_b = fetch_20newsgroups(subset='train',\n",
        "   categories=categories, shuffle=True, random_state=0)\n",
        "test_b = fetch_20newsgroups(subset='test',\n",
        "   categories=categories, shuffle=True, random_state=0)\n",
        "\n",
        "print('size of training set: %s' % (len(train_b['data'])))\n",
        "print('size of validation set: %s' % (len(test_b['data'])))\n",
        "print('classes: %s' % (train_b.target_names))\n",
        "\n",
        "x_train = train_b.data\n",
        "y_train = train_b.target\n",
        "x_test = test_b.data\n",
        "y_test = test_b.target"
      ],
      "execution_count": null,
      "outputs": [
        {
          "output_type": "stream",
          "text": [
            "size of training set: 2257\n",
            "size of validation set: 1502\n",
            "classes: ['alt.atheism', 'comp.graphics', 'sci.med', 'soc.religion.christian']\n"
          ],
          "name": "stdout"
        }
      ]
    },
    {
      "cell_type": "code",
      "metadata": {
        "id": "m0-BVgR3l2sG",
        "colab": {
          "base_uri": "https://localhost:8080/",
          "height": 177
        },
        "outputId": "d56cc565-6caa-4e75-b26e-2505741a6641"
      },
      "source": [
        "train_b.data[0]"
      ],
      "execution_count": null,
      "outputs": [
        {
          "output_type": "execute_result",
          "data": {
            "application/vnd.google.colaboratory.intrinsic+json": {
              "type": "string"
            },
            "text/plain": [
              "'From: reedr@cgsvax.claremont.edu\\nSubject: Re: DID HE REALLY RISE???\\nOrganization: The Claremont Graduate School\\nLines: 29\\n\\nIn article <Apr.9.01.11.16.1993.16937@athos.rutgers.edu>, emery@tc.fluke.COM (John Emery) writes:\\n> The one single historic event that has had the biggest impact on the\\n> world over the centuries is the resurrection of Jesus.  At the same\\n> time, it is one of the most hotly contested topics....\\n> \\n> Did Jesus Christ really rise from the dead?  Since the eyewitnesses\\n> are no longer living, we have only their written accounts. ...\\n> ...  Because of the magnitude of significance\\n> involved here, either the resurrection is the greatest event in the\\n> history of man or the greatest deception played on man.\\n> [massive amounts of data deleted]\\n\\nJohn, \\n\\nWhile I will not take the time to rebut you point by point, I will suggest\\nthree current works which I think will be helpful in your quest to answer\\nthis question.  John Dominic Crossan (Professor of Religion at De Paul Univ)-\\n_The Cross That Spoke_ Harper and Row Pub. 1988, Also his latest work \\n_The Historical Jesus - The Life of A Mediterranean Jewish Peasant_ Harper\\nand Row Pub. 1991,  Also two works of Burton Mack (Professor of New Testament\\nat the Claremont Graduate School) _A Myth of Innocence_ Fortress Press 1988,\\nAnd his latest book _The Lost Gospel: The Book of Q and Christian Origins_\\nHarper and Row, 1992.  You might start with Mack\\'s book on Q and then \\nexamine the others afterward.  However I think that once you do that you will\\nsee that your \"evidence\" is not as sturdy as you\\'d like.  Most of the tired\\narguements you stated, assume eyewitness accounts, such is not the case. But\\nAnyway look at Mack and Crossan and then get back to us.\\n\\nrandy\\n'"
            ]
          },
          "metadata": {
            "tags": []
          },
          "execution_count": 23
        }
      ]
    },
    {
      "cell_type": "code",
      "metadata": {
        "id": "l5J2f3ScmVol",
        "colab": {
          "base_uri": "https://localhost:8080/",
          "height": 34
        },
        "outputId": "b8dbb65b-b619-4953-dff3-282236ce4595"
      },
      "source": [
        "train_b.target[0]"
      ],
      "execution_count": null,
      "outputs": [
        {
          "output_type": "execute_result",
          "data": {
            "text/plain": [
              "3"
            ]
          },
          "metadata": {
            "tags": []
          },
          "execution_count": 24
        }
      ]
    },
    {
      "cell_type": "code",
      "metadata": {
        "id": "mFvSNa1imYPa",
        "colab": {
          "base_uri": "https://localhost:8080/",
          "height": 35
        },
        "outputId": "e21ff856-302d-4c1d-b4c4-8ffc4e21c062"
      },
      "source": [
        "classes = ['alt.atheism', 'comp.graphics', 'sci.med', 'soc.religion.christian']\n",
        "classes[train_b.target[0]]"
      ],
      "execution_count": null,
      "outputs": [
        {
          "output_type": "execute_result",
          "data": {
            "application/vnd.google.colaboratory.intrinsic+json": {
              "type": "string"
            },
            "text/plain": [
              "'soc.religion.christian'"
            ]
          },
          "metadata": {
            "tags": []
          },
          "execution_count": 25
        }
      ]
    },
    {
      "cell_type": "markdown",
      "metadata": {
        "id": "l-LyTZ6ITQeE"
      },
      "source": [
        "## ７４：BERTを蒸留したモデルの定義"
      ]
    },
    {
      "cell_type": "code",
      "metadata": {
        "id": "uUcfVeugdj7T",
        "colab": {
          "base_uri": "https://localhost:8080/",
          "height": 298
        },
        "outputId": "bdf8855d-d4f0-43d8-a28b-9d03a69b2d94"
      },
      "source": [
        "import ktrain\n",
        "from ktrain import text\n",
        "\n",
        "(x_train,  y_train), (x_test, y_test), preproc = text.texts_from_array(x_train=x_train, y_train=y_train,\n",
        "                                                                       x_test=x_test, y_test=y_test,\n",
        "                                                                       class_names=train_b.target_names,\n",
        "                                                                       preprocess_mode='bert',\n",
        "                                                                       maxlen=350, \n",
        "                                                                       max_features=35000)"
      ],
      "execution_count": null,
      "outputs": [
        {
          "output_type": "stream",
          "text": [
            "task: text classification\n",
            "downloading pretrained BERT model (uncased_L-12_H-768_A-12.zip)...\n",
            "[██████████████████████████████████████████████████]\n",
            "extracting pretrained BERT model...\n",
            "done.\n",
            "\n",
            "cleanup downloaded zip...\n",
            "done.\n",
            "\n",
            "preprocessing train...\n",
            "language: en\n"
          ],
          "name": "stdout"
        },
        {
          "output_type": "display_data",
          "data": {
            "text/html": [
              "done."
            ],
            "text/plain": [
              "<IPython.core.display.HTML object>"
            ]
          },
          "metadata": {
            "tags": []
          }
        },
        {
          "output_type": "stream",
          "text": [
            "Is Multi-Label? False\n",
            "preprocessing test...\n",
            "language: en\n"
          ],
          "name": "stdout"
        },
        {
          "output_type": "display_data",
          "data": {
            "text/html": [
              "done."
            ],
            "text/plain": [
              "<IPython.core.display.HTML object>"
            ]
          },
          "metadata": {
            "tags": []
          }
        }
      ]
    },
    {
      "cell_type": "markdown",
      "metadata": {
        "id": "UYdy7iI9i9q2"
      },
      "source": [
        "## ７５：分類用BERTモデルの定義"
      ]
    },
    {
      "cell_type": "code",
      "metadata": {
        "id": "dbcTGOa7dyCL",
        "colab": {
          "base_uri": "https://localhost:8080/",
          "height": 70
        },
        "outputId": "9cb83397-5c24-4310-f016-a100013ef601"
      },
      "source": [
        "model = text.text_classifier('bert', train_data=(x_train, y_train), preproc=preproc)\n",
        "learner = ktrain.get_learner(model, train_data=(x_train, y_train), batch_size=6)"
      ],
      "execution_count": null,
      "outputs": [
        {
          "output_type": "stream",
          "text": [
            "Is Multi-Label? False\n",
            "maxlen is 350\n",
            "done.\n"
          ],
          "name": "stdout"
        }
      ]
    },
    {
      "cell_type": "markdown",
      "metadata": {
        "id": "nWaLtW86i4iz"
      },
      "source": [
        "## ７６：BERTによる学習"
      ]
    },
    {
      "cell_type": "code",
      "metadata": {
        "id": "EG5WwJGQd3Qb",
        "colab": {
          "base_uri": "https://localhost:8080/",
          "height": 247
        },
        "outputId": "993652f6-814b-4678-bf3c-946826170a1b"
      },
      "source": [
        "learner.fit_onecycle(2e-5, 4)"
      ],
      "execution_count": null,
      "outputs": [
        {
          "output_type": "stream",
          "text": [
            "\n",
            "\n",
            "begin training using onecycle policy with max lr of 2e-05...\n",
            "Train on 2257 samples\n",
            "Epoch 1/4\n",
            "2257/2257 [==============================] - 296s 131ms/sample - loss: 0.6987 - accuracy: 0.7129\n",
            "Epoch 2/4\n",
            "2257/2257 [==============================] - 280s 124ms/sample - loss: 0.1671 - accuracy: 0.9424\n",
            "Epoch 3/4\n",
            "2257/2257 [==============================] - 281s 124ms/sample - loss: 0.0580 - accuracy: 0.9818\n",
            "Epoch 4/4\n",
            "2257/2257 [==============================] - 281s 124ms/sample - loss: 0.0156 - accuracy: 0.9956\n"
          ],
          "name": "stdout"
        },
        {
          "output_type": "execute_result",
          "data": {
            "text/plain": [
              "<tensorflow.python.keras.callbacks.History at 0x7ff7f6afbf28>"
            ]
          },
          "metadata": {
            "tags": []
          },
          "execution_count": 49
        }
      ]
    },
    {
      "cell_type": "markdown",
      "metadata": {
        "id": "e-2M3wrVjJb6"
      },
      "source": [
        "## ７７：BERTの分類性能評価"
      ]
    },
    {
      "cell_type": "code",
      "metadata": {
        "id": "zJKCPOxId6Wt",
        "colab": {
          "base_uri": "https://localhost:8080/",
          "height": 283
        },
        "outputId": "b011645f-2b92-48bb-b83b-1b22e5e1fd0c"
      },
      "source": [
        "learner.validate(val_data=(x_test, y_test), class_names=train_b.target_names)"
      ],
      "execution_count": null,
      "outputs": [
        {
          "output_type": "stream",
          "text": [
            "                        precision    recall  f1-score   support\n",
            "\n",
            "           alt.atheism       0.95      0.87      0.91       319\n",
            "         comp.graphics       0.97      0.97      0.97       389\n",
            "               sci.med       0.96      0.96      0.96       396\n",
            "soc.religion.christian       0.91      0.98      0.94       398\n",
            "\n",
            "              accuracy                           0.95      1502\n",
            "             macro avg       0.95      0.94      0.95      1502\n",
            "          weighted avg       0.95      0.95      0.95      1502\n",
            "\n"
          ],
          "name": "stdout"
        },
        {
          "output_type": "execute_result",
          "data": {
            "text/plain": [
              "array([[276,   2,  10,  31],\n",
              "       [  7, 379,   1,   2],\n",
              "       [  3,   6, 381,   6],\n",
              "       [  4,   2,   3, 389]])"
            ]
          },
          "metadata": {
            "tags": []
          },
          "execution_count": 50
        }
      ]
    },
    {
      "cell_type": "markdown",
      "metadata": {
        "id": "MzKpDs1-jO0s"
      },
      "source": [
        "##７８：BERTを蒸留したモデルの定義"
      ]
    },
    {
      "cell_type": "code",
      "metadata": {
        "id": "CoIvtlncmdT0",
        "colab": {
          "base_uri": "https://localhost:8080/",
          "height": 247
        },
        "outputId": "cff10097-e030-4cdb-8a75-0c45c31930bf"
      },
      "source": [
        "categories = ['alt.atheism', 'soc.religion.christian','comp.graphics', 'sci.med']\n",
        "from sklearn.datasets import fetch_20newsgroups\n",
        "train_b = fetch_20newsgroups(subset='train', categories=categories, shuffle=True)\n",
        "test_b = fetch_20newsgroups(subset='test',categories=categories, shuffle=True)\n",
        "(x_train, y_train) = (train_b.data, train_b.target)\n",
        "(x_test, y_test) = (test_b.data, test_b.target)\n",
        "\n",
        "\n",
        "import ktrain\n",
        "from ktrain import text\n",
        "MODEL_NAME = 'distilbert-base-uncased'\n",
        "t = text.Transformer(MODEL_NAME, maxlen=500, class_names=train_b.target_names)\n",
        "trn = t.preprocess_train(x_train, y_train)\n",
        "val = t.preprocess_test(x_test, y_test)\n",
        "model = t.get_classifier()"
      ],
      "execution_count": null,
      "outputs": [
        {
          "output_type": "stream",
          "text": [
            "preprocessing train...\n",
            "language: en\n",
            "train sequence lengths:\n",
            "\tmean : 308\n",
            "\t95percentile : 837\n",
            "\t99percentile : 1938\n"
          ],
          "name": "stdout"
        },
        {
          "output_type": "display_data",
          "data": {
            "text/html": [
              ""
            ],
            "text/plain": [
              "<IPython.core.display.HTML object>"
            ]
          },
          "metadata": {
            "tags": []
          }
        },
        {
          "output_type": "stream",
          "text": [
            "Is Multi-Label? False\n",
            "preprocessing test...\n",
            "language: en\n",
            "test sequence lengths:\n",
            "\tmean : 343\n",
            "\t95percentile : 979\n",
            "\t99percentile : 2562\n"
          ],
          "name": "stdout"
        },
        {
          "output_type": "display_data",
          "data": {
            "text/html": [
              ""
            ],
            "text/plain": [
              "<IPython.core.display.HTML object>"
            ]
          },
          "metadata": {
            "tags": []
          }
        }
      ]
    },
    {
      "cell_type": "markdown",
      "metadata": {
        "id": "UM_PTs21lzN_"
      },
      "source": [
        "## ７９：BERTを蒸留したモデルによる学習・分類性能評価"
      ]
    },
    {
      "cell_type": "code",
      "metadata": {
        "id": "ebHTgTrIllKX",
        "colab": {
          "base_uri": "https://localhost:8080/",
          "height": 267
        },
        "outputId": "941c7380-6624-4c19-b800-8d16ae90ec2c"
      },
      "source": [
        "learner = ktrain.get_learner(model, train_data=trn, val_data=val, batch_size=6)\n",
        "learner.fit_onecycle(5e-5, 4)"
      ],
      "execution_count": null,
      "outputs": [
        {
          "output_type": "stream",
          "text": [
            "\n",
            "\n",
            "begin training using onecycle policy with max lr of 5e-05...\n",
            "Train for 377 steps, validate for 47 steps\n",
            "Epoch 1/4\n",
            "377/377 [==============================] - 178s 472ms/step - loss: 0.5700 - accuracy: 0.8197 - val_loss: 0.2316 - val_accuracy: 0.9261\n",
            "Epoch 2/4\n",
            "377/377 [==============================] - 170s 452ms/step - loss: 0.1261 - accuracy: 0.9659 - val_loss: 0.2334 - val_accuracy: 0.9294\n",
            "Epoch 3/4\n",
            "377/377 [==============================] - 170s 451ms/step - loss: 0.0777 - accuracy: 0.9801 - val_loss: 0.1805 - val_accuracy: 0.9547\n",
            "Epoch 4/4\n",
            "377/377 [==============================] - 170s 451ms/step - loss: 0.0303 - accuracy: 0.9925 - val_loss: 0.1760 - val_accuracy: 0.9507\n"
          ],
          "name": "stdout"
        },
        {
          "output_type": "execute_result",
          "data": {
            "text/plain": [
              "<tensorflow.python.keras.callbacks.History at 0x7ff7f2177358>"
            ]
          },
          "metadata": {
            "tags": []
          },
          "execution_count": 57
        }
      ]
    },
    {
      "cell_type": "code",
      "metadata": {
        "id": "g2XB76dfeRqW",
        "colab": {
          "base_uri": "https://localhost:8080/",
          "height": 283
        },
        "outputId": "1d48b180-b540-4789-a016-da3672b51d6d"
      },
      "source": [
        "learner.validate(val_data=val, class_names=t.get_classes())"
      ],
      "execution_count": null,
      "outputs": [
        {
          "output_type": "stream",
          "text": [
            "                        precision    recall  f1-score   support\n",
            "\n",
            "           alt.atheism       0.91      0.92      0.91       319\n",
            "         comp.graphics       0.96      0.97      0.97       389\n",
            "               sci.med       0.97      0.94      0.95       396\n",
            "soc.religion.christian       0.95      0.97      0.96       398\n",
            "\n",
            "              accuracy                           0.95      1502\n",
            "             macro avg       0.95      0.95      0.95      1502\n",
            "          weighted avg       0.95      0.95      0.95      1502\n",
            "\n"
          ],
          "name": "stdout"
        },
        {
          "output_type": "execute_result",
          "data": {
            "text/plain": [
              "array([[292,   2,   8,  17],\n",
              "       [  9, 379,   1,   0],\n",
              "       [ 13,   9, 371,   3],\n",
              "       [  7,   4,   1, 386]])"
            ]
          },
          "metadata": {
            "tags": []
          },
          "execution_count": 59
        }
      ]
    },
    {
      "cell_type": "markdown",
      "metadata": {
        "id": "zTfOEzgdImSP"
      },
      "source": [
        "# 第９章）機械翻訳"
      ]
    },
    {
      "cell_type": "markdown",
      "metadata": {
        "id": "feF5DNr9LdbM"
      },
      "source": [
        "## ８０：日英翻訳ペア文書読み込み"
      ]
    },
    {
      "cell_type": "code",
      "metadata": {
        "id": "9381Ob-QoZ8r",
        "colab": {
          "base_uri": "https://localhost:8080/",
          "height": 283
        },
        "outputId": "f3a2945b-158c-48ca-c7ee-b6539467cc20"
      },
      "source": [
        "!wget http://www.manythings.org/anki/jpn-eng.zip\n",
        "!unzip jpn-eng.zip\n",
        "!ls"
      ],
      "execution_count": null,
      "outputs": [
        {
          "output_type": "stream",
          "text": [
            "--2020-07-25 08:54:24--  http://www.manythings.org/anki/jpn-eng.zip\n",
            "Resolving www.manythings.org (www.manythings.org)... 104.24.108.196, 172.67.173.198, 104.24.109.196, ...\n",
            "Connecting to www.manythings.org (www.manythings.org)|104.24.108.196|:80... connected.\n",
            "HTTP request sent, awaiting response... 200 OK\n",
            "Length: 2303148 (2.2M) [application/zip]\n",
            "Saving to: ‘jpn-eng.zip’\n",
            "\n",
            "\rjpn-eng.zip           0%[                    ]       0  --.-KB/s               \rjpn-eng.zip          19%[==>                 ] 431.65K  2.08MB/s               \rjpn-eng.zip         100%[===================>]   2.20M  6.41MB/s    in 0.3s    \n",
            "\n",
            "2020-07-25 08:54:25 (6.41 MB/s) - ‘jpn-eng.zip’ saved [2303148/2303148]\n",
            "\n",
            "Archive:  jpn-eng.zip\n",
            "  inflating: jpn.txt                 \n",
            "  inflating: _about.txt              \n",
            "_about.txt  jpn-eng.zip  jpn.txt  sample_data\n"
          ],
          "name": "stdout"
        }
      ]
    },
    {
      "cell_type": "code",
      "metadata": {
        "id": "YTc9hHh8LgoP",
        "colab": {
          "base_uri": "https://localhost:8080/",
          "height": 197
        },
        "outputId": "f1357f5a-737c-4250-95b5-912afc445dc0"
      },
      "source": [
        "import pandas as pd\n",
        "data_path = \"jpn.txt\"\n",
        "lines = pd.read_table(data_path, names=['source', 'target', 'comments'])\n",
        "lines.sample(5)"
      ],
      "execution_count": null,
      "outputs": [
        {
          "output_type": "execute_result",
          "data": {
            "text/html": [
              "<div>\n",
              "<style scoped>\n",
              "    .dataframe tbody tr th:only-of-type {\n",
              "        vertical-align: middle;\n",
              "    }\n",
              "\n",
              "    .dataframe tbody tr th {\n",
              "        vertical-align: top;\n",
              "    }\n",
              "\n",
              "    .dataframe thead th {\n",
              "        text-align: right;\n",
              "    }\n",
              "</style>\n",
              "<table border=\"1\" class=\"dataframe\">\n",
              "  <thead>\n",
              "    <tr style=\"text-align: right;\">\n",
              "      <th></th>\n",
              "      <th>source</th>\n",
              "      <th>target</th>\n",
              "      <th>comments</th>\n",
              "    </tr>\n",
              "  </thead>\n",
              "  <tbody>\n",
              "    <tr>\n",
              "      <th>6527</th>\n",
              "      <td>She's unconscious.</td>\n",
              "      <td>彼女は意識を失っています。</td>\n",
              "      <td>CC-BY 2.0 (France) Attribution: tatoeba.org #1...</td>\n",
              "    </tr>\n",
              "    <tr>\n",
              "      <th>14928</th>\n",
              "      <td>Would you play with me?</td>\n",
              "      <td>一緒に遊ばない？</td>\n",
              "      <td>CC-BY 2.0 (France) Attribution: tatoeba.org #2...</td>\n",
              "    </tr>\n",
              "    <tr>\n",
              "      <th>30408</th>\n",
              "      <td>You can use my desk if you want.</td>\n",
              "      <td>使いたければ僕の机を使ってもいいよ。</td>\n",
              "      <td>CC-BY 2.0 (France) Attribution: tatoeba.org #2...</td>\n",
              "    </tr>\n",
              "    <tr>\n",
              "      <th>10300</th>\n",
              "      <td>I dislike big cities.</td>\n",
              "      <td>大都市は嫌いです。</td>\n",
              "      <td>CC-BY 2.0 (France) Attribution: tatoeba.org #2...</td>\n",
              "    </tr>\n",
              "    <tr>\n",
              "      <th>40310</th>\n",
              "      <td>I washed my hands of the whole business.</td>\n",
              "      <td>その商売からはすっかり足を洗った。</td>\n",
              "      <td>CC-BY 2.0 (France) Attribution: tatoeba.org #4...</td>\n",
              "    </tr>\n",
              "  </tbody>\n",
              "</table>\n",
              "</div>"
            ],
            "text/plain": [
              "                                         source  ...                                           comments\n",
              "6527                         She's unconscious.  ...  CC-BY 2.0 (France) Attribution: tatoeba.org #1...\n",
              "14928                   Would you play with me?  ...  CC-BY 2.0 (France) Attribution: tatoeba.org #2...\n",
              "30408          You can use my desk if you want.  ...  CC-BY 2.0 (France) Attribution: tatoeba.org #2...\n",
              "10300                     I dislike big cities.  ...  CC-BY 2.0 (France) Attribution: tatoeba.org #2...\n",
              "40310  I washed my hands of the whole business.  ...  CC-BY 2.0 (France) Attribution: tatoeba.org #4...\n",
              "\n",
              "[5 rows x 3 columns]"
            ]
          },
          "metadata": {
            "tags": []
          },
          "execution_count": 95
        }
      ]
    },
    {
      "cell_type": "markdown",
      "metadata": {
        "id": "oRjdzd7-M1OR"
      },
      "source": [
        "## ８１：大文字小文字の表記ゆれ統一"
      ]
    },
    {
      "cell_type": "code",
      "metadata": {
        "id": "-xquUvoiLuXH"
      },
      "source": [
        "lines.source = lines.source.apply(lambda x: x.lower())\n",
        "lines.target=lines.target.apply(lambda x: x.lower())"
      ],
      "execution_count": null,
      "outputs": []
    },
    {
      "cell_type": "markdown",
      "metadata": {
        "id": "Y0AV1ZH_NKmq"
      },
      "source": [
        "##８２：翻訳前の文書の記号の削除"
      ]
    },
    {
      "cell_type": "code",
      "metadata": {
        "id": "sGNZdTmFM0Xg",
        "colab": {
          "base_uri": "https://localhost:8080/",
          "height": 35
        },
        "outputId": "654491c5-c3e2-4e4b-b61e-0c4a6a4846ae"
      },
      "source": [
        "import string\n",
        "string.punctuation"
      ],
      "execution_count": null,
      "outputs": [
        {
          "output_type": "execute_result",
          "data": {
            "application/vnd.google.colaboratory.intrinsic+json": {
              "type": "string"
            },
            "text/plain": [
              "'!\"#$%&\\'()*+,-./:;<=>?@[\\\\]^_`{|}~'"
            ]
          },
          "metadata": {
            "tags": []
          },
          "execution_count": 97
        }
      ]
    },
    {
      "cell_type": "code",
      "metadata": {
        "id": "uGEDGC2oN6Ag"
      },
      "source": [
        "special_characters = set(string.punctuation)\n",
        "lines.source = lines.source.apply(lambda x: ''.join([char1 for char1 in x if char1 not in special_characters]))"
      ],
      "execution_count": null,
      "outputs": []
    },
    {
      "cell_type": "markdown",
      "metadata": {
        "id": "x6rBBnFXNv3i"
      },
      "source": [
        "## ８３：翻訳後の文書の記号の削除"
      ]
    },
    {
      "cell_type": "code",
      "metadata": {
        "id": "X-ujmiVrNBRY"
      },
      "source": [
        "special_characters.add('。')\n",
        "special_characters.add('！')\n",
        "special_characters.add('？')\n",
        "\n",
        "lines.target = lines.target.apply(lambda x: ''.join(char1 for char1 in x if char1 not in special_characters))"
      ],
      "execution_count": null,
      "outputs": []
    },
    {
      "cell_type": "markdown",
      "metadata": {
        "id": "CfFJeUWsSPTb"
      },
      "source": [
        "## ８４：Mecab　のインストール"
      ]
    },
    {
      "cell_type": "code",
      "metadata": {
        "id": "KLvBLztLSSh7",
        "colab": {
          "base_uri": "https://localhost:8080/",
          "height": 478
        },
        "outputId": "1fecd8b3-cfbc-4ee1-ebf9-11ab7678dad9"
      },
      "source": [
        "!apt install aptitude\n",
        "!aptitude install mecab libmecab-dev mecab-ipadic-utf8 git make curl xz-utils file -y\n",
        "!pip install mecab-python3==0.7"
      ],
      "execution_count": null,
      "outputs": [
        {
          "output_type": "stream",
          "text": [
            "Reading package lists... Done\n",
            "Building dependency tree       \n",
            "Reading state information... Done\n",
            "aptitude is already the newest version (0.8.10-6ubuntu1).\n",
            "0 upgraded, 0 newly installed, 0 to remove and 35 not upgraded.\n",
            "mecab is already installed at the requested version (0.996-5)\n",
            "libmecab-dev is already installed at the requested version (0.996-5)\n",
            "mecab-ipadic-utf8 is already installed at the requested version (2.7.0-20070801+main-1)\n",
            "git is already installed at the requested version (1:2.17.1-1ubuntu0.7)\n",
            "make is already installed at the requested version (4.1-9.1ubuntu1)\n",
            "curl is already installed at the requested version (7.58.0-2ubuntu3.9)\n",
            "xz-utils is already installed at the requested version (5.2.2-1.3)\n",
            "file is already installed at the requested version (1:5.32-2ubuntu0.4)\n",
            "mecab is already installed at the requested version (0.996-5)\n",
            "libmecab-dev is already installed at the requested version (0.996-5)\n",
            "mecab-ipadic-utf8 is already installed at the requested version (2.7.0-20070801+main-1)\n",
            "git is already installed at the requested version (1:2.17.1-1ubuntu0.7)\n",
            "make is already installed at the requested version (4.1-9.1ubuntu1)\n",
            "curl is already installed at the requested version (7.58.0-2ubuntu3.9)\n",
            "xz-utils is already installed at the requested version (5.2.2-1.3)\n",
            "file is already installed at the requested version (1:5.32-2ubuntu0.4)\n",
            "No packages will be installed, upgraded, or removed.\n",
            "0 packages upgraded, 0 newly installed, 0 to remove and 35 not upgraded.\n",
            "Need to get 0 B of archives. After unpacking 0 B will be used.\n",
            "                            \n",
            "Requirement already satisfied: mecab-python3==0.7 in /usr/local/lib/python3.6/dist-packages (0.7)\n"
          ],
          "name": "stdout"
        }
      ]
    },
    {
      "cell_type": "markdown",
      "metadata": {
        "id": "qpyIHVyaTOVG"
      },
      "source": [
        "## ８５：形態素解析による分かち書き"
      ]
    },
    {
      "cell_type": "code",
      "metadata": {
        "id": "3pYZl4-CSVa-"
      },
      "source": [
        "import MeCab\n",
        "tagger = MeCab.Tagger('-Owakati')\n",
        "stopwords = ['。', '、', '（', '）', '・', '「', '」', '『', '』', '：', '〜','-',\n",
        "             '＝', '※', '”', '“', '→', '…', '×', '！', '／', '？', '○', ',',\n",
        "             'ノ', '〈', '〉', '々', '，', '＆', '☆', '―', '＋', 'α', '〒', '\\n',\n",
        "             '《', '》', '‐', '…。', '【', '】', '★', '；', '’', 'β', '（-', \n",
        "             '−', '〔', 'μ', '〕', 'ˈ', '＞', '（）', '＜', '́', '――', '．', 'ə', \n",
        "             'ｍ', '［', '］', 'γ', '〇', '■', '●', 'ː', '（=', '＊', '（株）', \n",
        "             '△', 'ε', '▲', 'π', 'φ', 'δ', '‘', '−1', 'σ', 'Δ', 'θ', \n",
        "             'λ', '◎', 'ω', '。(', 'Σ', '─', 'ν', 'ɛ', 'ɪ', '（+', 'Ω', 'ρ', \n",
        "             '□', '←', 'ゝ', '。}}', 'τ', 'Ａ', '（笑）',  '×3', 'κ', 'ɔ', 'η', '＠', \n",
        "             '（～', '′', 'ʃ', 'Ἀ', '（.', 'ο', '「(', '÷', '「～', 'ʊ', '◆', '（?', '（≒', \n",
        "             '（（', 'ζ', '（財）', '↑', 'ι', 'Γ', 'χ', 'محمد', '〇〇', '。!', 'Λ', 'ˌ', 'ʿ', \n",
        "             '。-', 'Ｂ', '「-', '（－', '｝', 'Ζ', '◇', 'بن', '£', 'ψ', '（(', \n",
        "             'Φ', '｛', '（’', 'υ', 'ʒ', 'Α', '（社）', '。}}}}', \n",
        "             'ɾ', 'عبد', 'Ｔ', '。)', 'ɡ', 'əˈ', 'ゞ', 'ｔ', '−2', 'ɣ', 'Π', 'ɒ', '↓', 'ʻ', '︎', '｜', \n",
        "             'Ｃ', 'Ε', '『’', 'Ｆ', 'ξ', 'ɑ', 'Ｍ', '〆', 'Ｄ', '（”', 'ʌ', 'Ｈ', 'Ｖ', '￥', 'Ｘ',\n",
        "             'Ｊ', 'ɐ', 'ʁ', 'ɔː', '（有）', '−3', 'Ｅ', '（—', 'ɨ', '（｢', 'Ｓ', 'ʲ', '○×', 'الله']\n",
        "\n",
        "for i, line in enumerate(lines.target):\n",
        "  lines.target[i] = ' '.join([w for w in tagger.parse(line).split(' ') if w not in stopwords])"
      ],
      "execution_count": null,
      "outputs": []
    },
    {
      "cell_type": "markdown",
      "metadata": {
        "id": "eJH5ZZWbUMK0"
      },
      "source": [
        "## ８６：翻訳前後文章からの数字の削除"
      ]
    },
    {
      "cell_type": "code",
      "metadata": {
        "id": "o5-fKEv-UKgi"
      },
      "source": [
        "from string import digits\n",
        "\n",
        "# Remove digits\n",
        "num_digits = str.maketrans('','',digits)\n",
        "lines.source=lines.source.apply(lambda x: x.translate(num_digits))\n",
        "lines.target=lines.target.apply(lambda x: x.translate(num_digits))"
      ],
      "execution_count": null,
      "outputs": []
    },
    {
      "cell_type": "code",
      "metadata": {
        "id": "YT6BPs56VSm_",
        "colab": {
          "base_uri": "https://localhost:8080/",
          "height": 35
        },
        "outputId": "c2ad7c81-426a-4201-d7ed-c968d82cdc13"
      },
      "source": [
        "digits"
      ],
      "execution_count": null,
      "outputs": [
        {
          "output_type": "execute_result",
          "data": {
            "application/vnd.google.colaboratory.intrinsic+json": {
              "type": "string"
            },
            "text/plain": [
              "'0123456789'"
            ]
          },
          "metadata": {
            "tags": []
          },
          "execution_count": 35
        }
      ]
    },
    {
      "cell_type": "code",
      "metadata": {
        "id": "1n-QTSMdVUO2",
        "colab": {
          "base_uri": "https://localhost:8080/",
          "height": 34
        },
        "outputId": "c9905c6c-39b2-419a-b451-b05262cf5487"
      },
      "source": [
        "num_digits.items()"
      ],
      "execution_count": null,
      "outputs": [
        {
          "output_type": "execute_result",
          "data": {
            "text/plain": [
              "dict_items([(48, None), (49, None), (50, None), (51, None), (52, None), (53, None), (54, None), (55, None), (56, None), (57, None)])"
            ]
          },
          "metadata": {
            "tags": []
          },
          "execution_count": 37
        }
      ]
    },
    {
      "cell_type": "code",
      "metadata": {
        "id": "9olxm-2WVr6c",
        "colab": {
          "base_uri": "https://localhost:8080/",
          "height": 34
        },
        "outputId": "6c7dcd8e-b748-4ac5-ee74-cda526ea6189"
      },
      "source": [
        "[ord(char) for char in digits]"
      ],
      "execution_count": null,
      "outputs": [
        {
          "output_type": "execute_result",
          "data": {
            "text/plain": [
              "[48, 49, 50, 51, 52, 53, 54, 55, 56, 57]"
            ]
          },
          "metadata": {
            "tags": []
          },
          "execution_count": 39
        }
      ]
    },
    {
      "cell_type": "markdown",
      "metadata": {
        "id": "Rqd8SCg3azJo"
      },
      "source": [
        "## ８７：「START_」「_END」の付加"
      ]
    },
    {
      "cell_type": "code",
      "metadata": {
        "id": "9dPuvTsLWaA8",
        "colab": {
          "base_uri": "https://localhost:8080/",
          "height": 281
        },
        "outputId": "7c9c7d18-dd41-49da-c11d-a675ec5eb2fe"
      },
      "source": [
        "# Add start and end tokens to target sequences\n",
        "lines.target = lines.target.apply(lambda x : 'START_ '+ x + ' _END')\n",
        "lines.sample(5)"
      ],
      "execution_count": null,
      "outputs": [
        {
          "output_type": "execute_result",
          "data": {
            "text/html": [
              "<div>\n",
              "<style scoped>\n",
              "    .dataframe tbody tr th:only-of-type {\n",
              "        vertical-align: middle;\n",
              "    }\n",
              "\n",
              "    .dataframe tbody tr th {\n",
              "        vertical-align: top;\n",
              "    }\n",
              "\n",
              "    .dataframe thead th {\n",
              "        text-align: right;\n",
              "    }\n",
              "</style>\n",
              "<table border=\"1\" class=\"dataframe\">\n",
              "  <thead>\n",
              "    <tr style=\"text-align: right;\">\n",
              "      <th></th>\n",
              "      <th>source</th>\n",
              "      <th>target</th>\n",
              "      <th>comments</th>\n",
              "    </tr>\n",
              "  </thead>\n",
              "  <tbody>\n",
              "    <tr>\n",
              "      <th>14853</th>\n",
              "      <td>whats your occupation</td>\n",
              "      <td>START_ お 仕事 は 何 を さ れ てる ん です か _END</td>\n",
              "      <td>CC-BY 2.0 (France) Attribution: tatoeba.org #4...</td>\n",
              "    </tr>\n",
              "    <tr>\n",
              "      <th>13071</th>\n",
              "      <td>when did you get home</td>\n",
              "      <td>START_ いつ 家 に 帰り まし た か _END</td>\n",
              "      <td>CC-BY 2.0 (France) Attribution: tatoeba.org #7...</td>\n",
              "    </tr>\n",
              "    <tr>\n",
              "      <th>12603</th>\n",
              "      <td>shes eight years old</td>\n",
              "      <td>START_ 彼女 は ８ 才 だ _END</td>\n",
              "      <td>CC-BY 2.0 (France) Attribution: tatoeba.org #2...</td>\n",
              "    </tr>\n",
              "    <tr>\n",
              "      <th>53090</th>\n",
              "      <td>tom became popular among teenagers as soon as ...</td>\n",
              "      <td>START_ トム は 映画 界 に デビュー する と すぐ に １ ０ 代 の 若者 の...</td>\n",
              "      <td>CC-BY 2.0 (France) Attribution: tatoeba.org #3...</td>\n",
              "    </tr>\n",
              "    <tr>\n",
              "      <th>22460</th>\n",
              "      <td>i appreciate you calling me</td>\n",
              "      <td>START_ 電話 ありがとう _END</td>\n",
              "      <td>CC-BY 2.0 (France) Attribution: tatoeba.org #1...</td>\n",
              "    </tr>\n",
              "  </tbody>\n",
              "</table>\n",
              "</div>"
            ],
            "text/plain": [
              "                                                  source  ...                                           comments\n",
              "14853                              whats your occupation  ...  CC-BY 2.0 (France) Attribution: tatoeba.org #4...\n",
              "13071                              when did you get home  ...  CC-BY 2.0 (France) Attribution: tatoeba.org #7...\n",
              "12603                               shes eight years old  ...  CC-BY 2.0 (France) Attribution: tatoeba.org #2...\n",
              "53090  tom became popular among teenagers as soon as ...  ...  CC-BY 2.0 (France) Attribution: tatoeba.org #3...\n",
              "22460                        i appreciate you calling me  ...  CC-BY 2.0 (France) Attribution: tatoeba.org #1...\n",
              "\n",
              "[5 rows x 3 columns]"
            ]
          },
          "metadata": {
            "tags": []
          },
          "execution_count": 103
        }
      ]
    },
    {
      "cell_type": "markdown",
      "metadata": {
        "id": "rh1an7E5hfWU"
      },
      "source": [
        "## ８８：翻訳前後の語彙"
      ]
    },
    {
      "cell_type": "code",
      "metadata": {
        "id": "-psIJyDXa3Kw",
        "colab": {
          "base_uri": "https://localhost:8080/",
          "height": 52
        },
        "outputId": "0679e22e-a8d4-43c0-ed1e-727480b8d073"
      },
      "source": [
        "# 翻訳前語彙\n",
        "all_source_words=set()\n",
        "for source in lines.source:\n",
        "  for word in source.split():\n",
        "    all_source_words.add(word)\n",
        "\n",
        "# 翻訳後語彙\n",
        "all_target_words=set()\n",
        "for target in lines.target:\n",
        "  for word in target.split():\n",
        "    all_target_words.add(word)\n",
        "    \n",
        "source_words= sorted(list(all_source_words))\n",
        "target_words=sorted(list(all_target_words))\n",
        "print(len(source_words))\n",
        "print(len(target_words))"
      ],
      "execution_count": null,
      "outputs": [
        {
          "output_type": "stream",
          "text": [
            "9587\n",
            "14509\n"
          ],
          "name": "stdout"
        }
      ]
    },
    {
      "cell_type": "code",
      "metadata": {
        "id": "XF-bnT339PNi",
        "colab": {
          "base_uri": "https://localhost:8080/",
          "height": 194
        },
        "outputId": "f7919a1c-d959-4c17-cc25-7ad26a6e9a18"
      },
      "source": [
        "source_words[0:10]"
      ],
      "execution_count": null,
      "outputs": [
        {
          "output_type": "execute_result",
          "data": {
            "text/plain": [
              "['a',\n",
              " 'aah',\n",
              " 'aback',\n",
              " 'abandon',\n",
              " 'abandoned',\n",
              " 'abate',\n",
              " 'abated',\n",
              " 'abc',\n",
              " 'abdominal',\n",
              " 'abhor']"
            ]
          },
          "metadata": {
            "tags": []
          },
          "execution_count": 107
        }
      ]
    },
    {
      "cell_type": "code",
      "metadata": {
        "id": "SWkKKm2b9MU7",
        "colab": {
          "base_uri": "https://localhost:8080/",
          "height": 34
        },
        "outputId": "1c3bfa04-efdf-476d-f5cb-add987b34120"
      },
      "source": [
        "target_words[0:10]"
      ],
      "execution_count": null,
      "outputs": [
        {
          "output_type": "execute_result",
          "data": {
            "text/plain": [
              "['START_', '_END', 'a', 'atm', 'b', 'beispiel', 'c', 'cd', 'cia', 'co']"
            ]
          },
          "metadata": {
            "tags": []
          },
          "execution_count": 108
        }
      ]
    },
    {
      "cell_type": "markdown",
      "metadata": {
        "id": "ZjNdsWjJiNZL"
      },
      "source": [
        "## ８９：翻訳前後の最長文書単語数"
      ]
    },
    {
      "cell_type": "code",
      "metadata": {
        "id": "RpYNVdAzhwLb",
        "colab": {
          "base_uri": "https://localhost:8080/",
          "height": 52
        },
        "outputId": "ef68b160-5676-47e2-f6ec-7c0e2229b0fd"
      },
      "source": [
        "source_length_list= [len(l.split(' ')) for l in lines.source]\n",
        "max_source_length= max(source_length_list)\n",
        "print(f\"最長文書単語数（翻訳前）：{max_source_length}\")\n",
        "target_length_list=[len(l.split(' ')) for l in lines.target]\n",
        "max_target_length= max(target_length_list)\n",
        "print(f\"最長文書単語数（翻訳後）：{max_target_length}\")"
      ],
      "execution_count": null,
      "outputs": [
        {
          "output_type": "stream",
          "text": [
            "最長文書単語数（翻訳前）：44\n",
            "最長文書単語数（翻訳後）：54\n"
          ],
          "name": "stdout"
        }
      ]
    },
    {
      "cell_type": "markdown",
      "metadata": {
        "id": "Y3CVfFJUjCWK"
      },
      "source": [
        "## ９０：翻訳前後の単語-IDの変換辞書作成"
      ]
    },
    {
      "cell_type": "code",
      "metadata": {
        "id": "XvuDnDVEkTrx"
      },
      "source": [
        "# key:単語の辞書, value:インデックス（翻訳元）\n",
        "source_word2idx = {w: i+1 for i, w in enumerate(source_words)}\n",
        "# key:単語の辞書, value:インデックス（翻訳先）\n",
        "target_word2idx = {w: i+1 for i, w in enumerate(target_words)}\n",
        "\n",
        "# key:インデックス, value:単語の辞書（翻訳元）\n",
        "source_idx2word = {i:w for w, i in source_word2idx.items()}\n",
        "# key:インデックス, value:単語の辞書（翻訳先）\n",
        "target_idx2word = {i:w for w, i in target_word2idx.items()}"
      ],
      "execution_count": null,
      "outputs": []
    },
    {
      "cell_type": "markdown",
      "metadata": {
        "id": "ueZvQRgrkJq3"
      },
      "source": [
        "## ９１：訓練データと評価データの分割"
      ]
    },
    {
      "cell_type": "code",
      "metadata": {
        "id": "v3fnfHNhiTsw"
      },
      "source": [
        "from sklearn.utils import shuffle\n",
        "from sklearn.model_selection import train_test_split\n",
        "\n",
        "# データをシャッフル\n",
        "#lines = shuffle(lines)\n",
        "\n",
        "# データセットを作成\n",
        "x, y = lines.source, lines.target\n",
        "\n",
        "x_train, x_test, y_train, y_test = train_test_split(x, y, test_size=0.1, shuffle=True)\n"
      ],
      "execution_count": null,
      "outputs": []
    },
    {
      "cell_type": "markdown",
      "metadata": {
        "id": "Z567u5l2lGKt"
      },
      "source": [
        "## ９２：EncoderおよびDecoderへの入力トークン長"
      ]
    },
    {
      "cell_type": "code",
      "metadata": {
        "id": "Tx6fsax4kcF7"
      },
      "source": [
        "# エンコーダーへの入力トークン長\n",
        "num_encoder_tokens=len(source_words)\n",
        "\n",
        "# デコーダへの入力トークン長\n",
        "## +1しているのは、_ENDを足しているため、問題９３でSTART_トークンは含まないようデータバッチを生成する\n",
        "num_decoder_tokens=len(target_words) + 1"
      ],
      "execution_count": null,
      "outputs": []
    },
    {
      "cell_type": "markdown",
      "metadata": {
        "id": "eon2EOMGldMf"
      },
      "source": [
        "## ９３：データバッチ生成関数の作成"
      ]
    },
    {
      "cell_type": "code",
      "metadata": {
        "id": "3iy9Ov3elcmH"
      },
      "source": [
        "def generate_batch(x = x_train, y = y_train, batch_size = 128):\n",
        "    ''' データバッチを生成する関数 '''\n",
        "    while True:\n",
        "      for j in range(0, len(x), batch_size):\n",
        "        encoder_input_data = np.zeros((batch_size, max_source_length),dtype='float32')\n",
        "        decoder_input_data = np.zeros((batch_size, max_target_length),dtype='float32')\n",
        "        decoder_target_data = np.zeros((batch_size, max_target_length, num_decoder_tokens),dtype='float32')\n",
        "        for i, (input_text, target_text) in enumerate(zip(x[j:j+batch_size], y[j:j+batch_size])):\n",
        "          for t, word in enumerate(input_text.split()):\n",
        "            encoder_input_data[i, t] = source_word2idx[word] \n",
        "          for t, word in enumerate(target_text.split()):\n",
        "            if t<len(target_text.split())-1:\n",
        "                decoder_input_data[i, t] = target_word2idx[word] # decoder input seq\n",
        "            if t>0:\n",
        "                # デコーダターゲットシーケンス（one hotエンコーディング)\n",
        "                # START_ トークンを含まない\n",
        "                decoder_target_data[i, t - 1, target_word2idx[word]] = 1.          \n",
        "        yield([encoder_input_data, decoder_input_data], decoder_target_data)"
      ],
      "execution_count": null,
      "outputs": []
    },
    {
      "cell_type": "markdown",
      "metadata": {
        "id": "y7rRrvkulkHJ"
      },
      "source": [
        "## ９４：Seq2Seqモデル構築"
      ]
    },
    {
      "cell_type": "markdown",
      "metadata": {
        "id": "vUSqsauPlcZu"
      },
      "source": [
        "<font color=red>※2020/10/4にtensorflowのバージョンを1.15に切り替えるコマンドを追加しました。fit_generator()でモデルを学習するために、再起動して以下のコマンドを実行してください。</font>"
      ]
    },
    {
      "cell_type": "code",
      "metadata": {
        "id": "TBE44-l0lXTw",
        "colab": {
          "base_uri": "https://localhost:8080/",
          "height": 35
        },
        "outputId": "69e320c0-2918-4786-95f8-c68a344b6930"
      },
      "source": [
        "%tensorflow_version 1.x"
      ],
      "execution_count": null,
      "outputs": [
        {
          "output_type": "stream",
          "text": [
            "TensorFlow 1.x selected.\n"
          ],
          "name": "stdout"
        }
      ]
    },
    {
      "cell_type": "code",
      "metadata": {
        "id": "m0l1J-N3mEDL",
        "colab": {
          "base_uri": "https://localhost:8080/",
          "height": 35
        },
        "outputId": "68fd1bc0-dffe-4525-914e-d7410e5e3c74"
      },
      "source": [
        "import tensorflow\n",
        "print(tensorflow.__version__)"
      ],
      "execution_count": null,
      "outputs": [
        {
          "output_type": "stream",
          "text": [
            "1.15.2\n"
          ],
          "name": "stdout"
        }
      ]
    },
    {
      "cell_type": "code",
      "metadata": {
        "id": "QPQW-sA1lhGM",
        "colab": {
          "base_uri": "https://localhost:8080/",
          "height": 443
        },
        "outputId": "85871cd8-e255-4b6a-aaf7-b61946d04681"
      },
      "source": [
        "from keras.layers import Input, LSTM, Embedding, Dense\n",
        "from keras.models import Model\n",
        "\n",
        "# パラメータ\n",
        "train_samples = len(x_train)\n",
        "val_samples = len(x_test)\n",
        "batch_size = 16\n",
        "epochs = 2\n",
        "latent_dim = 256\n",
        "\n",
        "# モデル構築\n",
        "# エンコーダは入力系列をエンコードする。LSTMを利用\n",
        "encoder_inputs = Input(shape=(None,))\n",
        "enc_emb =  Embedding(num_encoder_tokens, latent_dim, mask_zero = True)(encoder_inputs)\n",
        "encoder_lstm = LSTM(latent_dim, return_state=True)\n",
        "encoder_outputs, state_h, state_c = encoder_lstm(enc_emb)\n",
        "# エンコーダの出力は捨て、学習後の内部状態のみ保持する。\n",
        "encoder_states = [state_h, state_c]\n",
        "\n",
        "# デコーダはエンコーダの内部状態を初期値にとる\n",
        "decoder_inputs = Input(shape=(None,))\n",
        "dec_emb_layer = Embedding(num_decoder_tokens, latent_dim, mask_zero = True)\n",
        "dec_emb = dec_emb_layer(decoder_inputs)\n",
        "# デコーダは出力シーケンスをすべて出力するようにセットアップ\n",
        "#中間の状態も出力し、訓練モデルの出力は学習には利用せず、推論には利用する。\n",
        "\n",
        "decoder_lstm = LSTM(latent_dim, return_sequences=True, return_state=True)\n",
        "decoder_outputs, _, _ = decoder_lstm(dec_emb,\n",
        "                                     initial_state=encoder_states)\n",
        "decoder_dense = Dense(num_decoder_tokens, activation='softmax')\n",
        "decoder_outputs = decoder_dense(decoder_outputs)\n",
        "# エンコーダとデコーダを入力にとりデコーダを出力するモデル\n",
        "model = Model([encoder_inputs, decoder_inputs], decoder_outputs)\n",
        "\n",
        "model.compile(optimizer=\"adam\", loss=\"categorical_crossentropy\", metrics=[\"acc\"])\n",
        "model.summary()\n",
        "model.save('seq2seq_model.h5')"
      ],
      "execution_count": null,
      "outputs": [
        {
          "output_type": "stream",
          "text": [
            "Model: \"model_6\"\n",
            "__________________________________________________________________________________________________\n",
            "Layer (type)                    Output Shape         Param #     Connected to                     \n",
            "==================================================================================================\n",
            "input_10 (InputLayer)           (None, None)         0                                            \n",
            "__________________________________________________________________________________________________\n",
            "input_11 (InputLayer)           (None, None)         0                                            \n",
            "__________________________________________________________________________________________________\n",
            "embedding_7 (Embedding)         (None, None, 256)    2454272     input_10[0][0]                   \n",
            "__________________________________________________________________________________________________\n",
            "embedding_8 (Embedding)         (None, None, 256)    3714560     input_11[0][0]                   \n",
            "__________________________________________________________________________________________________\n",
            "lstm_7 (LSTM)                   [(None, 256), (None, 525312      embedding_7[0][0]                \n",
            "__________________________________________________________________________________________________\n",
            "lstm_8 (LSTM)                   [(None, None, 256),  525312      embedding_8[0][0]                \n",
            "                                                                 lstm_7[0][1]                     \n",
            "                                                                 lstm_7[0][2]                     \n",
            "__________________________________________________________________________________________________\n",
            "dense_4 (Dense)                 (None, None, 14510)  3729070     lstm_8[0][0]                     \n",
            "==================================================================================================\n",
            "Total params: 10,948,526\n",
            "Trainable params: 10,948,526\n",
            "Non-trainable params: 0\n",
            "__________________________________________________________________________________________________\n"
          ],
          "name": "stdout"
        }
      ]
    },
    {
      "cell_type": "markdown",
      "metadata": {
        "id": "wWWbQrJUl2ar"
      },
      "source": [
        "## ９５：Seq2Seqモデルの学習"
      ]
    },
    {
      "cell_type": "code",
      "metadata": {
        "id": "XEhnugbhls15",
        "colab": {
          "base_uri": "https://localhost:8080/",
          "height": 765
        },
        "outputId": "f04d8093-7581-4a5d-d27d-fd3ba6df394f"
      },
      "source": [
        "import numpy as np\n",
        "train_samples = len(x_train) # Total Training samples\n",
        "val_samples = len(x_test)    # Total validation or test samples\n",
        "batch_size = 128\n",
        "epochs = 20\n",
        "\n",
        "model.fit_generator(generator = generate_batch(x_train, y_train, batch_size = batch_size),\n",
        "                    steps_per_epoch = train_samples//batch_size,\n",
        "                    epochs=epochs,\n",
        "                    validation_data = generate_batch(x_test, y_test, batch_size = batch_size),\n",
        "                    validation_steps = val_samples//batch_size)"
      ],
      "execution_count": null,
      "outputs": [
        {
          "output_type": "stream",
          "text": [
            "Epoch 1/20\n",
            "376/376 [==============================] - 343s 913ms/step - loss: 0.8345 - acc: 0.2264 - val_loss: 0.7986 - val_acc: 0.2822\n",
            "Epoch 2/20\n",
            "376/376 [==============================] - 341s 907ms/step - loss: 0.7147 - acc: 0.3179 - val_loss: 0.6731 - val_acc: 0.3422\n",
            "Epoch 3/20\n",
            "376/376 [==============================] - 340s 904ms/step - loss: 0.6465 - acc: 0.3730 - val_loss: 0.6642 - val_acc: 0.3860\n",
            "Epoch 4/20\n",
            "376/376 [==============================] - 340s 903ms/step - loss: 0.5944 - acc: 0.4158 - val_loss: 0.6093 - val_acc: 0.4176\n",
            "Epoch 5/20\n",
            "376/376 [==============================] - 340s 905ms/step - loss: 0.5485 - acc: 0.4477 - val_loss: 0.5996 - val_acc: 0.4376\n",
            "Epoch 6/20\n",
            "376/376 [==============================] - 339s 901ms/step - loss: 0.5056 - acc: 0.4761 - val_loss: 0.5773 - val_acc: 0.4574\n",
            "Epoch 7/20\n",
            "376/376 [==============================] - 339s 902ms/step - loss: 0.4648 - acc: 0.5041 - val_loss: 0.5801 - val_acc: 0.4743\n",
            "Epoch 8/20\n",
            "376/376 [==============================] - 338s 900ms/step - loss: 0.4271 - acc: 0.5308 - val_loss: 0.5042 - val_acc: 0.4909\n",
            "Epoch 9/20\n",
            "376/376 [==============================] - 340s 903ms/step - loss: 0.3927 - acc: 0.5563 - val_loss: 0.4701 - val_acc: 0.5002\n",
            "Epoch 10/20\n",
            "376/376 [==============================] - 338s 899ms/step - loss: 0.3613 - acc: 0.5810 - val_loss: 0.4308 - val_acc: 0.5120\n",
            "Epoch 11/20\n",
            "376/376 [==============================] - 340s 903ms/step - loss: 0.3324 - acc: 0.6056 - val_loss: 0.4947 - val_acc: 0.5219\n",
            "Epoch 12/20\n",
            "376/376 [==============================] - 338s 900ms/step - loss: 0.3063 - acc: 0.6289 - val_loss: 0.4329 - val_acc: 0.5267\n",
            "Epoch 13/20\n",
            "376/376 [==============================] - 339s 901ms/step - loss: 0.2820 - acc: 0.6524 - val_loss: 0.4881 - val_acc: 0.5367\n",
            "Epoch 14/20\n",
            "376/376 [==============================] - 338s 900ms/step - loss: 0.2599 - acc: 0.6759 - val_loss: 0.4156 - val_acc: 0.5435\n",
            "Epoch 15/20\n",
            "376/376 [==============================] - 339s 902ms/step - loss: 0.2400 - acc: 0.6970 - val_loss: 0.4152 - val_acc: 0.5445\n",
            "Epoch 16/20\n",
            "376/376 [==============================] - 339s 900ms/step - loss: 0.2219 - acc: 0.7177 - val_loss: 0.4854 - val_acc: 0.5457\n",
            "Epoch 17/20\n",
            "376/376 [==============================] - 338s 899ms/step - loss: 0.2055 - acc: 0.7368 - val_loss: 0.4450 - val_acc: 0.5492\n",
            "Epoch 18/20\n",
            "376/376 [==============================] - 338s 899ms/step - loss: 0.1904 - acc: 0.7553 - val_loss: 0.4741 - val_acc: 0.5547\n",
            "Epoch 19/20\n",
            "376/376 [==============================] - 339s 902ms/step - loss: 0.1770 - acc: 0.7714 - val_loss: 0.3989 - val_acc: 0.5591\n",
            "Epoch 20/20\n",
            "376/376 [==============================] - 340s 903ms/step - loss: 0.1650 - acc: 0.7857 - val_loss: 0.5292 - val_acc: 0.5579\n"
          ],
          "name": "stdout"
        },
        {
          "output_type": "execute_result",
          "data": {
            "text/plain": [
              "<keras.callbacks.callbacks.History at 0x7fc323094470>"
            ]
          },
          "metadata": {
            "tags": []
          },
          "execution_count": 118
        }
      ]
    },
    {
      "cell_type": "markdown",
      "metadata": {
        "id": "gMsh0l8OmL8z"
      },
      "source": [
        "## ９６：学習結果の保存"
      ]
    },
    {
      "cell_type": "code",
      "metadata": {
        "id": "ZZR8Y07Gl9k_"
      },
      "source": [
        "model.save_weights('nmt_weights_20epochs.h5')"
      ],
      "execution_count": null,
      "outputs": []
    },
    {
      "cell_type": "markdown",
      "metadata": {
        "id": "0dCVpgtpmxoI"
      },
      "source": [
        "## ９７：学習結果のロード"
      ]
    },
    {
      "cell_type": "code",
      "metadata": {
        "id": "cBGB_lzpmzzI"
      },
      "source": [
        "model.load_weights('nmt_weights_20epochs.h5')"
      ],
      "execution_count": null,
      "outputs": []
    },
    {
      "cell_type": "markdown",
      "metadata": {
        "id": "oucXFbUqm6Wz"
      },
      "source": [
        "## ９８：推論用モデルの構築"
      ]
    },
    {
      "cell_type": "code",
      "metadata": {
        "id": "phLM7CTCm_yJ"
      },
      "source": [
        "# 入力系列をエンコードし、Context Vector（内部状態）を得る\n",
        "encoder_model = Model(encoder_inputs, encoder_states)\n",
        "\n",
        "# デコーダのセットアップ（以下のテンソルは一つ前の時間の状態を保持）\n",
        "decoder_state_input_h = Input(shape=(latent_dim,))\n",
        "decoder_state_input_c = Input(shape=(latent_dim,))\n",
        "decoder_state_input = [decoder_state_input_h, decoder_state_input_c]\n",
        "\n",
        "# デコーダシーケンスの埋め込み層の値を取得\n",
        "dec_emb2 = dec_emb_layer(decoder_inputs)\n",
        "\n",
        "# シーケンスの次の単語を予測するために一つ前の時間の状態から初期状態をセット\n",
        "decoder_outputs2, state_h2, state_c2 = decoder_lstm(dec_emb2, initial_state=decoder_state_input)\n",
        "decoder_states2 = [state_h2, state_c2]\n",
        "# 全結合層でのソフトマックスにより、翻訳先の語彙における確率分布を生成\n",
        "decoder_outputs2 = decoder_dense(decoder_outputs2)\n",
        "\n",
        "# 最終的なデコーダモデル\n",
        "decoder_model = Model([decoder_inputs] + decoder_state_input, [decoder_outputs2] + decoder_states2)"
      ],
      "execution_count": null,
      "outputs": []
    },
    {
      "cell_type": "markdown",
      "metadata": {
        "id": "0Ug8FL-HnAg5"
      },
      "source": [
        "## ９９：シーケンスからデコードする関数の作成"
      ]
    },
    {
      "cell_type": "code",
      "metadata": {
        "id": "PyEOuq2anJIC"
      },
      "source": [
        "def decode_sequence(input_seq):\n",
        "    # 入力から状態ベクトルへエンコードを行う\n",
        "    states_value = encoder_model.predict(input_seq)\n",
        "    # 長さが1の空のベクトルを生成\n",
        "    target_seq = np.zeros((1,1))\n",
        "    # 翻訳先のシーケンスの最初に\"START_\"を追加\n",
        "    target_seq[0, 0] = target_word2idx['START_']\n",
        "\n",
        "    # シーケンスのバッチをサンプリングする。\n",
        "    stop_condition = False\n",
        "    decoded_sentence = ''\n",
        "    while not stop_condition:\n",
        "        output_tokens, h, c = decoder_model.predict([target_seq] + states_value\n",
        ")\n",
        "        # トークンをサンプリングする。\n",
        "        sampled_token_index = np.argmax(output_tokens[0, -1, :])\n",
        "        sampled_word =target_idx2word[sampled_token_index]\n",
        "        decoded_sentence += ' '+ sampled_word\n",
        "        # 最大長にヒットするからSTOP文列字を見つけるまでループ\n",
        "        if (sampled_word == '_END' or\n",
        "           len(decoded_sentence) > 50):\n",
        "            stop_condition = True\n",
        "        # ターゲットシーケンスを更新する。\n",
        "        target_seq = np.zeros((1,1))\n",
        "        target_seq[0, 0] = sampled_token_index\n",
        "        # 状態を更新する。\n",
        "        states_value = [h, c]\n",
        "    return decoded_sentence "
      ],
      "execution_count": null,
      "outputs": []
    },
    {
      "cell_type": "markdown",
      "metadata": {
        "id": "6-_tD6Psnaty"
      },
      "source": [
        "## １００：訓練・評価データで翻訳実行"
      ]
    },
    {
      "cell_type": "code",
      "metadata": {
        "id": "14y_js0hndsA",
        "colab": {
          "base_uri": "https://localhost:8080/",
          "height": 158
        },
        "outputId": "bab9aac0-5956-4a47-cc3e-67e531c27581"
      },
      "source": [
        "# 学習済みでモデルで、訓練データで翻訳試行\n",
        "train_gen = generate_batch(x_train, y_train, batch_size = 1)\n",
        "\n",
        "(input_seq, actual_output), _ = next(train_gen)\n",
        "decoded_sentence = decode_sequence(input_seq)\n",
        "print(\"---TRAINING DATA---\")\n",
        "k=0\n",
        "print(\"Input Source sentence:\", x_train[k:k+1].values[0])\n",
        "print(\"Actual Target Translation:\", y_train[k:k+1].values[0][6:-4])\n",
        "print(\"Predicted Target Translation:\", decoded_sentence[:-4])\n",
        "# 学習済みでモデルで、評価データで翻訳試行\n",
        "test_gen = generate_batch(x_test, y_test, batch_size = 1)\n",
        "\n",
        "\n",
        "(input_seq, actual_output), _ = next(test_gen)\n",
        "decoded_sentence = decode_sequence(input_seq)\n",
        "print(\"---TEST DATA---\")\n",
        "print(\"Input Source sentence:\", x_test[k:k+1].values[0])\n",
        "print(\"Actual Target Translation:\", y_test[k:k+1].values[0][6:-4])\n",
        "print(\"Predicted Target Translation:\", decoded_sentence[:-4])"
      ],
      "execution_count": null,
      "outputs": [
        {
          "output_type": "stream",
          "text": [
            "---TRAINING DATA---\n",
            "Input Source sentence: i want details\n",
            "Actual Target Translation:  詳細 が 欲しい \n",
            "Predicted Target Translation:  詳細 が 欲しい \n",
            "---TEST DATA---\n",
            "Input Source sentence: tom doesnt get much time off\n",
            "Actual Target Translation:  トム は あまり 休み を 取っ て い ない \n",
            "Predicted Target Translation:  トム は 時間 稼ぎ に は ない \n"
          ],
          "name": "stdout"
        }
      ]
    },
    {
      "cell_type": "markdown",
      "metadata": {
        "id": "6844GBsWn0gS"
      },
      "source": [
        "## １０１：英語→日本語の任意の翻訳器"
      ]
    },
    {
      "cell_type": "code",
      "metadata": {
        "id": "JhKwXhzMn4pw"
      },
      "source": [
        "def get_sequence_expression(x):\n",
        "  encoder_input_data = np.zeros((1, max_source_length), dtype='float32')\n",
        "  for t, word in enumerate(x.split()):\n",
        "    encoder_input_data[0, t] = source_word2idx[word]\n",
        "  return encoder_input_data   \n",
        "\n",
        "def preprocess_txt(txt):\n",
        "  txt = txt.lower()\n",
        "  special_characters = set(string.punctuation)\n",
        "  txt = ''.join([char1 for char1 in txt if char1 not in special_characters])\n",
        "  return txt"
      ],
      "execution_count": null,
      "outputs": []
    },
    {
      "cell_type": "code",
      "metadata": {
        "id": "ZigQRmgon7H2",
        "colab": {
          "base_uri": "https://localhost:8080/",
          "height": 70
        },
        "outputId": "8d63a7a6-e940-4c90-c810-f57a062b4376"
      },
      "source": [
        "eng = \"You can watch movie a lot\"\n",
        "decoded_sentence = decode_sequence(get_sequence_expression(preprocess_txt(eng)))\n",
        "jpn = decoded_sentence[:-4]\n",
        "print(f\"English:\\t\\t{eng}\\nJapanese(機械翻訳):\\t{jpn}\\n\")"
      ],
      "execution_count": null,
      "outputs": [
        {
          "output_type": "stream",
          "text": [
            "English:\t\tYou can watch movie a lot\n",
            "Japanese(機械翻訳):\t 君 は 映画 を 見 に 行く よ \n",
            "\n"
          ],
          "name": "stdout"
        }
      ]
    },
    {
      "cell_type": "code",
      "metadata": {
        "id": "Ie94trwg8GPC"
      },
      "source": [
        ""
      ],
      "execution_count": null,
      "outputs": []
    }
  ]
}