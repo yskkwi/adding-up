{
  "nbformat": 4,
  "nbformat_minor": 0,
  "metadata": {
    "colab": {
      "provenance": [],
      "authorship_tag": "ABX9TyO0veEj8pL6LJ2GAvODtz1c",
      "include_colab_link": true
    },
    "kernelspec": {
      "name": "python3",
      "display_name": "Python 3"
    },
    "language_info": {
      "name": "python"
    }
  },
  "cells": [
    {
      "cell_type": "markdown",
      "metadata": {
        "id": "view-in-github",
        "colab_type": "text"
      },
      "source": [
        "<a href=\"https://colab.research.google.com/github/yskkwi/adding-up/blob/master/%E7%AB%B6%E3%83%97%E3%83%AD_ipynb_%E3%81%AE%E3%82%B3%E3%83%94%E3%83%BC.ipynb\" target=\"_parent\"><img src=\"https://colab.research.google.com/assets/colab-badge.svg\" alt=\"Open In Colab\"/></a>"
      ]
    },
    {
      "cell_type": "code",
      "source": [
        "a, b = map(int,input().split())\n",
        "print(a + b + 3)"
      ],
      "metadata": {
        "colab": {
          "base_uri": "https://localhost:8080/"
        },
        "id": "SpsDsi5EfHJA",
        "outputId": "ff6f65ae-a99f-4495-991b-5df7918d6b38"
      },
      "execution_count": null,
      "outputs": [
        {
          "output_type": "stream",
          "name": "stdout",
          "text": [
            " 2 3\n",
            "8\n"
          ]
        }
      ]
    },
    {
      "cell_type": "code",
      "source": [
        "a = int(input())\n",
        "b = int(input())\n",
        "c = int(input())\n",
        "\n",
        "p =[a, b, c]\n",
        "p.sort()\n",
        "if p[0] + p[1] == p[2]:\n",
        "    print(1)\n",
        "else:\n",
        "    print(0)"
      ],
      "metadata": {
        "colab": {
          "base_uri": "https://localhost:8080/"
        },
        "id": "aS1DdcESgneJ",
        "outputId": "e470e330-0cb1-442d-b649-d8da3673cb02"
      },
      "execution_count": null,
      "outputs": [
        {
          "output_type": "stream",
          "name": "stdout",
          "text": [
            "3\n",
            "9\n",
            "4\n",
            "0\n"
          ]
        }
      ]
    },
    {
      "cell_type": "code",
      "source": [
        "N = int(input())\n",
        "s =input()\n",
        "t = input()\n",
        "cnt = 0\n",
        "\n",
        "a = [x for x in list(s)]\n",
        "b = [x for x in list(t)]\n",
        "\n",
        "for i in range(N):\n",
        "    if a[i] != b[i]:\n",
        "        cnt += 1\n",
        "print(cnt)\n"
      ],
      "metadata": {
        "colab": {
          "base_uri": "https://localhost:8080/"
        },
        "id": "5cID4B45KBKO",
        "outputId": "b1b94c12-3bda-4e74-e85a-f0a08ccda59c"
      },
      "execution_count": null,
      "outputs": [
        {
          "output_type": "stream",
          "name": "stdout",
          "text": [
            "3\n",
            "abc\n",
            "abc\n",
            "0\n"
          ]
        }
      ]
    },
    {
      "cell_type": "code",
      "source": [
        "N = int(input())\n",
        "a = [*map(int,input().split())]\n",
        "\n",
        "for i in range(10):\n",
        "    for k in range(N):\n",
        "        if a[k] == i:\n",
        "            print(i)\n",
        "            break\n"
      ],
      "metadata": {
        "colab": {
          "base_uri": "https://localhost:8080/"
        },
        "id": "8pqThXWkOKBG",
        "outputId": "7f63d77b-1fbb-42f1-9dce-da491dcdd421"
      },
      "execution_count": null,
      "outputs": [
        {
          "output_type": "stream",
          "name": "stdout",
          "text": [
            "8\n",
            "2 0 2 3 0 9 1 6\n",
            "0\n",
            "1\n",
            "2\n",
            "3\n",
            "6\n",
            "9\n"
          ]
        }
      ]
    },
    {
      "cell_type": "code",
      "source": [
        "N = int(input())\n",
        "if N % 7 == 2:\n",
        "    print(1)\n",
        "else:\n",
        "    print(0)"
      ],
      "metadata": {
        "colab": {
          "base_uri": "https://localhost:8080/"
        },
        "id": "HNl6C8bjXIEF",
        "outputId": "d8330a71-a469-4490-f92a-37370490ea7e"
      },
      "execution_count": null,
      "outputs": [
        {
          "output_type": "stream",
          "name": "stdout",
          "text": [
            "100\n",
            "1\n"
          ]
        }
      ]
    },
    {
      "cell_type": "code",
      "source": [
        "K = int(input())\n",
        "N = int(input())\n",
        "\n",
        "a = map(int, input().split())\n",
        "\n",
        "M = int(input())\n",
        "\n",
        "b = map(int,input().split())\n",
        "\n",
        "a = list(a)\n",
        "b = list(b)\n",
        "\n",
        "cnt = 0\n",
        "\n",
        "for i in range(N):\n",
        "    for j in range(M):\n",
        "        if a[i] + K == b[j]:\n",
        "            cnt += 1\n",
        "\n",
        "print(cnt)"
      ],
      "metadata": {
        "colab": {
          "base_uri": "https://localhost:8080/"
        },
        "id": "Xa15-SEOXrfF",
        "outputId": "7f7712e5-adf5-4c66-b06d-d80acd40d140"
      },
      "execution_count": null,
      "outputs": [
        {
          "output_type": "stream",
          "name": "stdout",
          "text": [
            "99\n",
            "5\n",
            "1 1 1 1 1\n",
            "6\n",
            "100 100 100 100 100 100\n",
            "30\n"
          ]
        }
      ]
    },
    {
      "cell_type": "code",
      "source": [
        "S = 'ABCDE'\n",
        "N = len(S) + 2\n",
        "a = '+'\n",
        "print(a * N)\n",
        "print('+' + S + '+')\n",
        "print(a * N)\n"
      ],
      "metadata": {
        "colab": {
          "base_uri": "https://localhost:8080/"
        },
        "id": "IZBn2Fjk677H",
        "outputId": "ca9a7ec4-b866-488d-9db2-4deaf6d624cc"
      },
      "execution_count": null,
      "outputs": [
        {
          "output_type": "stream",
          "name": "stdout",
          "text": [
            "+++++++\n",
            "+ABCDE+\n",
            "+++++++\n"
          ]
        }
      ]
    },
    {
      "cell_type": "code",
      "source": [
        "s = input()\n",
        "a = list(s)\n",
        "b = []\n",
        "for i in range(len(a)):\n",
        "    if a[i]!='a' and a[i]!='e' and a[i]!='i' and a[i]!='o' and a[i]!='u' and a[i]!='A' and a[i]!='E' and a[i]!='I' and a[i]!='O' and a[i]!='U':\n",
        "       b.append(a[i])\n",
        "\n",
        "b = ''.join(b)\n",
        "print(b)\n",
        "\n"
      ],
      "metadata": {
        "colab": {
          "base_uri": "https://localhost:8080/"
        },
        "id": "3xuDj3gf8vu9",
        "outputId": "39f6d3ad-e811-4780-80dc-aa55713f067d"
      },
      "execution_count": null,
      "outputs": [
        {
          "output_type": "stream",
          "name": "stdout",
          "text": [
            "atrE\n",
            "tr\n"
          ]
        }
      ]
    },
    {
      "cell_type": "code",
      "source": [
        "\n",
        "s = input()\n",
        "b = list(s)\n",
        "print(''.join(c for c in b if c not in 'aeiouAEIOU'))\n",
        "print(''.join(c for c in b if c in 'aeiouAEIOU'))"
      ],
      "metadata": {
        "colab": {
          "base_uri": "https://localhost:8080/"
        },
        "id": "1lykqqA8BpbC",
        "outputId": "1e64574d-b98e-4043-97fd-8d9f1dab8d0d"
      },
      "execution_count": null,
      "outputs": [
        {
          "output_type": "stream",
          "name": "stdout",
          "text": [
            "AsreFtOIu\n",
            "srFt\n",
            "AeOIu\n"
          ]
        }
      ]
    },
    {
      "cell_type": "code",
      "source": [
        "s = input()\n",
        "print(''.join(c for c in s if c not in 'aeiouAEIOU'))"
      ],
      "metadata": {
        "colab": {
          "base_uri": "https://localhost:8080/"
        },
        "id": "WGtaBQroCco-",
        "outputId": "4af17dcf-e9e8-4826-a434-c3d81e64f523"
      },
      "execution_count": null,
      "outputs": [
        {
          "output_type": "stream",
          "name": "stdout",
          "text": [
            "Hello World Year\n",
            "Hll Wrld Yr\n"
          ]
        }
      ]
    },
    {
      "cell_type": "code",
      "source": [
        "nums = [1, 2, 1, 2, 3, 2, 4, 5,]\n",
        "nums_unique = list(set(nums))\n",
        "print(nums_unique)\n",
        "\n",
        "a = [str(i) for i in nums_unique]\n",
        "print(a)\n",
        "print(''.join(a))"
      ],
      "metadata": {
        "colab": {
          "base_uri": "https://localhost:8080/"
        },
        "id": "uSbrnP8yE3yn",
        "outputId": "0b8a3485-85ca-4e18-e9ba-92b1658b1405"
      },
      "execution_count": null,
      "outputs": [
        {
          "output_type": "stream",
          "name": "stdout",
          "text": [
            "[1, 2, 3, 4, 5]\n",
            "['1', '2', '3', '4', '5']\n",
            "12345\n"
          ]
        }
      ]
    },
    {
      "cell_type": "code",
      "source": [
        "txt = ['a', 'b', 'a', 'b', 'c', 'b', 'd', 'e']\n",
        "txt_unique = sorted(set(txt), key=txt.index)\n",
        "print(txt_unique)\n",
        "\n",
        "print(''.join(txt_unique))\n"
      ],
      "metadata": {
        "colab": {
          "base_uri": "https://localhost:8080/"
        },
        "id": "k11it3LhIVU9",
        "outputId": "e197fbbc-34e4-4f22-b5e8-aca7811caf30"
      },
      "execution_count": null,
      "outputs": [
        {
          "output_type": "stream",
          "name": "stdout",
          "text": [
            "['a', 'b', 'c', 'd', 'e']\n",
            "abcde\n"
          ]
        }
      ]
    },
    {
      "cell_type": "code",
      "source": [
        "from collections import OrderedDict\n",
        "a_str = 'aaaffggaahhaaaa'\n",
        "print(''.join(OrderedDict.fromkeys(a_str)))"
      ],
      "metadata": {
        "colab": {
          "base_uri": "https://localhost:8080/"
        },
        "id": "6no9yGizJe6G",
        "outputId": "94ecd55a-7b4f-45a2-c555-838f9de72a84"
      },
      "execution_count": null,
      "outputs": [
        {
          "output_type": "stream",
          "name": "stdout",
          "text": [
            "afgh\n"
          ]
        }
      ]
    },
    {
      "cell_type": "code",
      "source": [
        "X = 3\n",
        "N = 4\n",
        "count = 0\n",
        "\n",
        "while X < N:\n",
        "    if X % 3 == 0:\n",
        "        X = X + 1\n",
        "    elif X % 3 == 1:\n",
        "        X = X * 2\n",
        "    else:\n",
        "        X = X * 3\n",
        "    count += 1\n",
        "\n",
        "print(count)"
      ],
      "metadata": {
        "colab": {
          "base_uri": "https://localhost:8080/"
        },
        "id": "GgsuRqxsG9Kt",
        "outputId": "4c5077d1-bfaf-499c-848e-b3374c4ec572"
      },
      "execution_count": null,
      "outputs": [
        {
          "output_type": "stream",
          "name": "stdout",
          "text": [
            "1\n"
          ]
        }
      ]
    },
    {
      "cell_type": "code",
      "source": [
        "N = int(input())\n",
        "\n",
        "if N % 10 == N // 10:\n",
        "    print(1)\n",
        "else:\n",
        "    print(0)"
      ],
      "metadata": {
        "colab": {
          "base_uri": "https://localhost:8080/"
        },
        "id": "-LoLO5dwJlEI",
        "outputId": "9b6878a2-98b8-4c98-e4a3-3d291b82e3b6"
      },
      "execution_count": null,
      "outputs": [
        {
          "output_type": "stream",
          "name": "stdout",
          "text": [
            "10\n",
            "0\n"
          ]
        }
      ]
    },
    {
      "cell_type": "code",
      "source": [
        "N = int(input())\n",
        "count = 0\n",
        "for i in range(N):\n",
        "    x , y  = map(str,input().split())\n",
        "    if (x == 'G' and y == 'C' ) or (x =='C' and y== 'P') or (x == 'P' and y == 'G'):\n",
        "        count += 1\n",
        "\n",
        "print(count)\n"
      ],
      "metadata": {
        "colab": {
          "base_uri": "https://localhost:8080/"
        },
        "id": "5IizAunULUn_",
        "outputId": "dd453740-f00b-4429-be23-c46bda9db88b"
      },
      "execution_count": null,
      "outputs": [
        {
          "output_type": "stream",
          "name": "stdout",
          "text": [
            "8\n",
            "G C\n",
            "P C\n",
            "C G\n",
            "G C\n",
            "G P\n",
            "P G\n",
            "C C\n",
            "C P\n",
            "4\n"
          ]
        }
      ]
    },
    {
      "cell_type": "code",
      "source": [
        "N, x, y = map(int,input().split())\n",
        "\n",
        "for i in range(1,N+1):\n",
        "    if i % x == 0 and i % y == 0:\n",
        "        print('AB')\n",
        "    elif i % x == 0:\n",
        "        print('A')\n",
        "    elif i % y == 0:\n",
        "        print('B')\n",
        "    else:\n",
        "        print('N')"
      ],
      "metadata": {
        "colab": {
          "base_uri": "https://localhost:8080/"
        },
        "id": "l3MfbbsCNYkZ",
        "outputId": "b4439fdd-992d-48e9-c3ff-a0e3d19f3402"
      },
      "execution_count": null,
      "outputs": [
        {
          "output_type": "stream",
          "name": "stdout",
          "text": [
            " 6 3 2\n",
            "N\n",
            "B\n",
            "A\n",
            "B\n",
            "N\n",
            "AB\n"
          ]
        }
      ]
    },
    {
      "cell_type": "code",
      "source": [
        "N, L = map(int,input().split())\n",
        "\n",
        "for i in range(N):\n",
        "    x = int(input())\n",
        "    if L > x:\n",
        "        L = L + x // 2\n",
        "    elif L < x:\n",
        "        L = L // 2\n",
        "print(L)"
      ],
      "metadata": {
        "colab": {
          "base_uri": "https://localhost:8080/"
        },
        "id": "cJGKcrK1PBSR",
        "outputId": "9824f404-1f0c-4fd9-a529-402210c744f2"
      },
      "execution_count": null,
      "outputs": [
        {
          "output_type": "stream",
          "name": "stdout",
          "text": [
            "3 9\n",
            "10\n",
            "4\n",
            "4\n",
            "4\n"
          ]
        }
      ]
    },
    {
      "cell_type": "code",
      "source": [
        "n, m = map(int,input().split())\n",
        "count = 0\n",
        "50\n",
        "\n",
        "\n",
        "for i in range(n-1):\n",
        "    p = int(input())\n",
        "    if p <= m:\n",
        "        count += p\n",
        "\n",
        "print(count)\n"
      ],
      "metadata": {
        "colab": {
          "base_uri": "https://localhost:8080/"
        },
        "id": "P9637pseQ2ac",
        "outputId": "8347651d-83ca-4093-ebf6-8d5d978c94bf"
      },
      "execution_count": null,
      "outputs": [
        {
          "output_type": "stream",
          "name": "stdout",
          "text": [
            "4 30\n",
            "10\n",
            "20\n",
            "25\n",
            "55\n"
          ]
        }
      ]
    },
    {
      "cell_type": "code",
      "source": [
        "s = input()\n",
        "n = int(input())\n",
        "a = []\n",
        "for i in range(n):\n",
        "    sentence = input()\n",
        "    if s in sentence:\n",
        "        a.append('Yes')\n",
        "\n",
        "    else:\n",
        "        a.append('No')\n",
        "for i in a:\n",
        "    print(i)"
      ],
      "metadata": {
        "colab": {
          "base_uri": "https://localhost:8080/"
        },
        "id": "WsE1ojnLSv3c",
        "outputId": "764c11d2-56c6-43a6-a3b7-c91704b24947"
      },
      "execution_count": null,
      "outputs": [
        {
          "output_type": "stream",
          "name": "stdout",
          "text": [
            "51x8\n",
            "5\n",
            "JeURgwGqr PInzkAatxAEhs51x8\n",
            "OLxiu!TR0wyafgp?cdSeuO4IF3\n",
            "rwwLTTb$$g5v51x8TvQyMeiiP BDYDEcRV\n",
            "CNZ9e8A!LFMsl!ZFsv nBdy3\n",
            "kk Ulzd:RnOzDGo1\n",
            "Yes\n",
            "No\n",
            "Yes\n",
            "No\n",
            "No\n"
          ]
        }
      ]
    },
    {
      "cell_type": "code",
      "source": [
        "n, d = map(int,input().split())\n",
        "x = d\n",
        "for i in range(n-1):\n",
        "    z = int(input())\n",
        "    x = x + d - z\n",
        "\n",
        "print(d * x)\n",
        "\n"
      ],
      "metadata": {
        "colab": {
          "base_uri": "https://localhost:8080/"
        },
        "id": "wpc3nUlbVcTi",
        "outputId": "1d87d352-f409-47b0-b7e6-b96722b44f99"
      },
      "execution_count": null,
      "outputs": [
        {
          "output_type": "stream",
          "name": "stdout",
          "text": [
            "4 10\n",
            "3\n",
            "4\n",
            "5\n",
            "280\n"
          ]
        }
      ]
    },
    {
      "cell_type": "code",
      "source": [
        "q, r = 7 // 3, 7 % 3\n",
        "print(f'q: {q}, r: {r}')  # q: 2, r: 1"
      ],
      "metadata": {
        "colab": {
          "base_uri": "https://localhost:8080/"
        },
        "id": "mbTvDgCortMg",
        "outputId": "24e54762-7b4e-4095-febf-e3cfc7d39446"
      },
      "execution_count": null,
      "outputs": [
        {
          "output_type": "stream",
          "name": "stdout",
          "text": [
            "q: 2, r: 1\n"
          ]
        }
      ]
    },
    {
      "cell_type": "code",
      "source": [
        "q, r = -7 // 3, -7 % 3\n",
        "print(f'q: {q}, r: {r}')  # q: 2, r: 1"
      ],
      "metadata": {
        "colab": {
          "base_uri": "https://localhost:8080/"
        },
        "id": "Cd39jFkbr2HZ",
        "outputId": "bf1696c6-6120-47ca-fd6b-6cc5b3031ddd"
      },
      "execution_count": null,
      "outputs": [
        {
          "output_type": "stream",
          "name": "stdout",
          "text": [
            "q: -3, r: 2\n"
          ]
        }
      ]
    },
    {
      "cell_type": "code",
      "source": [
        "N = int(input())\n",
        "a = list(map(int,input().split()))\n",
        "M = int(input())\n",
        "b = list(map(int,input().split()))\n",
        "\n",
        "sc = 0\n",
        "for i in range(N):\n",
        "    sc = sc +a[i]\n",
        "    for j in range(M):\n",
        "        if b[j] == sc:\n",
        "            sc =0\n",
        "print(sc)"
      ],
      "metadata": {
        "colab": {
          "base_uri": "https://localhost:8080/"
        },
        "id": "q3dMU2b6omlj",
        "outputId": "cfd7c6a4-7d4a-43e0-e0fa-9d4c7285c833"
      },
      "execution_count": null,
      "outputs": [
        {
          "output_type": "stream",
          "name": "stdout",
          "text": [
            "2\n",
            "10 10\n",
            "3\n",
            "1 11 111\n",
            "20\n"
          ]
        }
      ]
    },
    {
      "cell_type": "code",
      "source": [
        "S = input()\n",
        "N = int(input())\n",
        "t = map(str,input().split())\n",
        "\n",
        "if S in t:\n",
        "    print('Yes')\n",
        "else:\n",
        "    print('No')"
      ],
      "metadata": {
        "colab": {
          "base_uri": "https://localhost:8080/"
        },
        "id": "rsYf2xpUsupj",
        "outputId": "04ba7264-8814-406c-a2e8-cc2168e668c7"
      },
      "execution_count": null,
      "outputs": [
        {
          "output_type": "stream",
          "name": "stdout",
          "text": [
            "udon\n",
            "4\n",
            "hot pad thai noodles\n",
            "No\n"
          ]
        }
      ]
    },
    {
      "cell_type": "code",
      "source": [
        "import math\n",
        "\n",
        "N = int(input())\n",
        "\n",
        "a = list(map(int,input().split()))\n",
        "\n",
        "b = math.ceil(sum(a) / N) # math.ceil()は，小数点以下切り上げ，切り下げはmath.floor()\n",
        "\n",
        "\n",
        "print(b)"
      ],
      "metadata": {
        "colab": {
          "base_uri": "https://localhost:8080/"
        },
        "id": "1Ha_5vEcuPsG",
        "outputId": "e4d6f7e3-cd6f-48f3-d739-935e510440d7"
      },
      "execution_count": null,
      "outputs": [
        {
          "output_type": "stream",
          "name": "stdout",
          "text": [
            "6\n",
            "4 8 7 2 8 9\n",
            "7\n"
          ]
        }
      ]
    },
    {
      "cell_type": "code",
      "source": [
        "n, l = map(int,input().split())\n",
        "u = list(map(int,input().split()))\n",
        "u.sort(reverse=True)\n",
        "m = max(u)\n",
        "s = 0\n",
        "\n",
        "if m >= l:\n",
        "    del u[0]\n",
        "    s = m//2 + sum(u)\n",
        "\n",
        "else:\n",
        "    s = sum(u)\n",
        "\n",
        "print(s)\n",
        "\n",
        "\n"
      ],
      "metadata": {
        "colab": {
          "base_uri": "https://localhost:8080/"
        },
        "id": "mljWk0Xa3qnn",
        "outputId": "7b1b78d8-c295-49cc-a59b-16934d74e0fe"
      },
      "execution_count": null,
      "outputs": [
        {
          "output_type": "stream",
          "name": "stdout",
          "text": [
            "3 200\n",
            "10 20 180\n",
            "[180, 20, 10]\n",
            "210\n"
          ]
        }
      ]
    },
    {
      "cell_type": "code",
      "source": [
        "n, m = map(int,input().split())\n",
        "a, b, c = map(int,input().split())\n",
        "cnt = 0\n",
        "for i in range(n):\n",
        "    r = int(input())\n",
        "    if r * c - a - b * m < 0:\n",
        "        cnt += 1\n",
        "\n",
        "print(cnt)\n"
      ],
      "metadata": {
        "colab": {
          "base_uri": "https://localhost:8080/"
        },
        "id": "ufT9g0euY_ad",
        "outputId": "4f77ace8-4aec-4702-e646-a3b6b502f12c"
      },
      "execution_count": null,
      "outputs": [
        {
          "output_type": "stream",
          "name": "stdout",
          "text": [
            "4 3\n",
            "2556 3424 77\n",
            "137\n",
            "721\n",
            "984\n",
            "999\n",
            "1\n"
          ]
        }
      ]
    },
    {
      "cell_type": "code",
      "source": [
        "s = input()\n",
        "sl = list(s)\n",
        "\n",
        "for i in range(len(sl)-1,0,-1):\n",
        "    if sl[i-1] == sl[i] and sl[i] == '-':\n",
        "        del sl[i]\n",
        "\n",
        "print(''.join(sl))"
      ],
      "metadata": {
        "colab": {
          "base_uri": "https://localhost:8080/"
        },
        "id": "cnjU29CdbmRC",
        "outputId": "26c9edbe-86a6-4345-dbe5-e7317f704831"
      },
      "execution_count": null,
      "outputs": [
        {
          "output_type": "stream",
          "name": "stdout",
          "text": [
            "-----aaa-a-------a\n",
            "-aaa-a-a\n"
          ]
        }
      ]
    },
    {
      "cell_type": "code",
      "source": [
        "import re\n",
        "s = input()\n",
        "\n",
        "text = re.sub('[--]+','-', s)\n",
        "print(text)\n"
      ],
      "metadata": {
        "colab": {
          "base_uri": "https://localhost:8080/"
        },
        "id": "z1RZw1Zu6il1",
        "outputId": "3fdc560b-7c58-4fa3-d627-abe236345094"
      },
      "execution_count": null,
      "outputs": [
        {
          "output_type": "stream",
          "name": "stdout",
          "text": [
            "----aaaa-aaaaa-----aa--a\n",
            "-aaaa-aaaaa-aa-a\n"
          ]
        }
      ]
    },
    {
      "cell_type": "code",
      "source": [
        "s = input()\n",
        "t = input()\n",
        "\n",
        "\n",
        "s1 = s.upper() #　文字を比較するために全部大文字に変換\n",
        "t1 = t.upper()\n",
        "\n",
        "s2 = list(s1) # 文字を比較するための配列\n",
        "t2 = list(t1)\n",
        "\n",
        "s3 =list(s)  # 文字を入れ替えるための配列\n",
        "t3 = list(t)\n",
        "\n",
        "for i in range(len(t2)):\n",
        "    for j in range(len(s2)):\n",
        "        if t2[i] == s2[j]: #　文字を比較して，同じ文字があれば元の配列の単語を入れ替える\n",
        "            t3[i]=s3[j]\n",
        "\n",
        "\n",
        "print(''.join(t3)) #　配列から文字列に戻す\n",
        "\n",
        "print(s)\n",
        "print(t)\n",
        "\n",
        "print(t1)\n",
        "print(t2)\n",
        "\n",
        "\n",
        "\n",
        "\n",
        "\n",
        "\n",
        "\n"
      ],
      "metadata": {
        "colab": {
          "base_uri": "https://localhost:8080/"
        },
        "id": "B8ddnc7Yj6lV",
        "outputId": "b15774bc-1030-4f61-f611-5bf3845df235"
      },
      "execution_count": null,
      "outputs": [
        {
          "output_type": "stream",
          "name": "stdout",
          "text": [
            "aBcDeFgHiJkLmNoPqRsTuVwXyZ\n",
            "Katayama\n",
            "kaTayama\n",
            "aBcDeFgHiJkLmNoPqRsTuVwXyZ\n",
            "Katayama\n",
            "KATAYAMA\n",
            "['K', 'A', 'T', 'A', 'Y', 'A', 'M', 'A']\n"
          ]
        }
      ]
    },
    {
      "cell_type": "code",
      "source": [
        "m = int(input())\n",
        "cnt = 0\n",
        "\n",
        "# 要素を全部Noneにしてからいれていく\n",
        "# a = []　だと， a[i], b[i] = map(str,input().split())のところでエラーが出るみたい\n",
        "p = [None] * m\n",
        "a = [None] * m\n",
        "b = [None] * m\n",
        "\n",
        "\n",
        "'''\n",
        "# こちらは，要素を全部0で入れておいて後で書き換えになる\n",
        "p = [0] * m\n",
        "a = [0] * m\n",
        "b = [0] * m\n",
        "'''\n",
        "\n",
        "'''\n",
        "p = []\n",
        "a = []\n",
        "b = []\n",
        "for i in range(m):\n",
        "    p.append(None)\n",
        "    a.append(None)\n",
        "    b.append(None)\n",
        "'''\n",
        "\n",
        "for i in range(m):\n",
        "    a[i], b[i] = map(str,input().split())\n",
        "\n",
        "for i in range(m):\n",
        "    if a[i] == 'n' or b[i] == 'n':\n",
        "        cnt += 1\n",
        "        p[i] = 'n'\n",
        "    else:\n",
        "        p[i] = 'y'\n",
        "\n",
        "print(cnt)\n",
        "for i in range(len(p)):\n",
        "    if p[i] == 'n':\n",
        "        print(i+1)\n"
      ],
      "metadata": {
        "colab": {
          "base_uri": "https://localhost:8080/"
        },
        "id": "487g6zq7twSw",
        "outputId": "d11677c5-7d7f-4e02-d3cb-c966be83da4a"
      },
      "execution_count": null,
      "outputs": [
        {
          "output_type": "stream",
          "name": "stdout",
          "text": [
            "4 \n",
            "y n\n",
            "n y\n",
            "n n\n",
            "y y\n",
            "3\n",
            "1\n",
            "2\n",
            "3\n"
          ]
        }
      ]
    },
    {
      "cell_type": "code",
      "source": [
        "H, W = map(int, input().split())\n",
        "A = [[int(x) for x in input().split()] for i in range(H)]\n",
        "print(A)"
      ],
      "metadata": {
        "colab": {
          "base_uri": "https://localhost:8080/"
        },
        "id": "2QquVUzz6fOD",
        "outputId": "a5f3b3e6-5284-41ca-a017-2e728bb599c4"
      },
      "execution_count": null,
      "outputs": [
        {
          "output_type": "stream",
          "name": "stdout",
          "text": [
            "2 2\n",
            "1 2\n",
            "3 4\n",
            "[[1, 2], [3, 4]]\n"
          ]
        }
      ]
    },
    {
      "cell_type": "code",
      "source": [
        "# 標準入力が配列だと思っていたけど，半角スペースがなかったので文字列が正解でした\n",
        "# そのため，配列として，半角スペース入力として書いたコード．\n",
        "#　正解は下のコード\n",
        "\n",
        "H, W = map(int, input().split())\n",
        "A = [input().split() for _ in range(H)] # 半角スペースを空けて，1行ずつ標準入力\n",
        "\n",
        "\n",
        "y, x = map(int, input().split())\n",
        "if A[y][x] == '#':\n",
        "    A[y][x] = '.'\n",
        "else:\n",
        "    A[y][x] = \"#\"\n",
        "\n",
        "print(A)\n",
        "\n",
        "for i in range(H):\n",
        "    print(''.join(A[i][:W+1]))"
      ],
      "metadata": {
        "colab": {
          "base_uri": "https://localhost:8080/"
        },
        "id": "miKpvWdsrQHA",
        "outputId": "af9516ee-e8a4-4e32-91fe-8a0dc06938fe"
      },
      "execution_count": null,
      "outputs": [
        {
          "output_type": "stream",
          "name": "stdout",
          "text": [
            "3 3\n",
            ". . .\n",
            ". . .\n",
            ". . .\n",
            "0 0\n",
            "[['#', '.', '.'], ['.', '.', '.'], ['.', '.', '.']]\n",
            "#..\n",
            "...\n",
            "...\n"
          ]
        }
      ]
    },
    {
      "cell_type": "code",
      "source": [
        "\n",
        "'''\n",
        "行数 H , 列数 W の盤面があり、各マスには文字が 1 つだけ書かれています。盤面と y , x 座標 が与えられるので、盤面の与えられた座標の文字が\n",
        "\".\" の場合は \"#\" に、\"#\" の場合は \".\" に書き換えた後の盤面を出力してください。\n",
        "\n",
        "なお、マスの座標系は左上端のマスの座標を ( y , x ) = ( 0 , 0 ) とし、\n",
        "下方向が y 座標の正の向き、右方向が x 座標の正の向きとします。\n",
        "'''\n",
        "H, W = map(int, input().split())\n",
        "\n",
        "A = [list(input()) for i in range(H)]\n",
        "\n",
        "y,x = map(int,input().split())\n",
        "if A[y][x] == '#':\n",
        "    A[y][x] = '.'\n",
        "else:\n",
        "    A[y][x] = '#'\n",
        "\n",
        "for i in range(H):\n",
        "    print(''.join(A[i]))\n",
        "\n"
      ],
      "metadata": {
        "colab": {
          "base_uri": "https://localhost:8080/",
          "height": 184
        },
        "id": "3Y2Lqx7Z9l_i",
        "outputId": "1abb5703-dfae-4ceb-a539-3ec236368fc2"
      },
      "execution_count": null,
      "outputs": [
        {
          "output_type": "stream",
          "name": "stdout",
          "text": [
            "3 3\n",
            "...\n",
            "...\n",
            "...\n",
            "0 0\n",
            "#..\n",
            "...\n",
            "...\n"
          ]
        },
        {
          "output_type": "execute_result",
          "data": {
            "text/plain": [
              "\"\\nfor i in range(len(A)):\\n    for j in range(len(A[i])):\\n        print(A[i][j], end='')\\n\\n        if j < len(A[i]) - 1:\\n            print(end='')\\n        else:\\n            print()\\n\""
            ],
            "application/vnd.google.colaboratory.intrinsic+json": {
              "type": "string"
            }
          },
          "metadata": {},
          "execution_count": 13
        }
      ]
    },
    {
      "cell_type": "code",
      "source": [
        "a = input().split()\n",
        "for b in a:\n",
        "    print(b)\n",
        "\n",
        "print(a)"
      ],
      "metadata": {
        "colab": {
          "base_uri": "https://localhost:8080/"
        },
        "id": "2hK7cmyfADCq",
        "outputId": "0f52081a-3041-4eb3-d54e-3a41f0afaf2c"
      },
      "execution_count": null,
      "outputs": [
        {
          "output_type": "stream",
          "name": "stdout",
          "text": [
            "1 2 3 4 5\n",
            "1\n",
            "2\n",
            "3\n",
            "4\n",
            "5\n",
            "['1', '2', '3', '4', '5']\n"
          ]
        }
      ]
    },
    {
      "cell_type": "code",
      "source": [
        "a = [1, 3, 5, 4, 6, 2, 1, 7, 1, 5]\n",
        "k = int(input())\n",
        "\n",
        "print(a[k-1])"
      ],
      "metadata": {
        "colab": {
          "base_uri": "https://localhost:8080/"
        },
        "id": "MINLunlfB7wF",
        "outputId": "6a5e6dd5-ea49-4991-f7f1-3971abce79cc"
      },
      "execution_count": null,
      "outputs": [
        {
          "output_type": "stream",
          "name": "stdout",
          "text": [
            "5\n",
            "6\n"
          ]
        }
      ]
    },
    {
      "cell_type": "code",
      "source": [
        "''''\n",
        "マップを表す H 行 W 列の文字列 S_1 ... S_H と y , x 座標 が与えられるので、与えられた座標のマスと上下左右で隣接するマスの最大 5 マスについて次の処理をおこなった後の盤面を出力してください。\n",
        "\n",
        "・ マスに書かれている文字が \".\" の場合は \"#\" に、\"#\" の場合は \".\" に書き換える。\n",
        "\n",
        "なお、マスの座標系は左上端のマスの座標を ( y , x ) = ( 0 , 0 ) とし、\n",
        "下方向が y 座標の正の向き、右方向が x 座標の正の向きとします。\n",
        "''''\n",
        "\n",
        "\n",
        "# 二重配列で，(x,y)の上下左右の文字を反転\n",
        "# 周りに行と列を追加して，端にいる場合の場合分けを回避\n",
        "#　その後に追加した端の行と列を削除\n",
        "\n",
        "H, W = map(int, input().split())\n",
        "A = [[str(x) for x in input()] for i in range(H)]\n",
        "\n",
        "y,x = map(int,input().split())\n",
        "\n",
        "b = ['.'] *W\n",
        "\n",
        "\n",
        "\n",
        "A.insert(H,b) # 行の追加\n",
        "A.insert(0, b) # 行の追加\n",
        "\n",
        "for i in range(0,H+1):  # x=0 のときの場合分け回避で列をもう1つ作る\n",
        "    A[i].insert(0, '.')\n",
        "\n",
        "for i in range(0,H+1): # x=W　のときの回避で列をもう一つ作る\n",
        "    A[i].insert(W+1, '.')\n",
        "\n",
        "\n",
        "for i in range(x,x+3):\n",
        "    if A[y+1][i] == '#':\n",
        "        A[y+1][i] = '.'\n",
        "    else:\n",
        "        A[y+1][i] = '#'\n",
        "\n",
        "if A[y][x+1] == '#':\n",
        "    A[y][x+1] = '.'\n",
        "else:\n",
        "    A[y][x+1] = '#'\n",
        "\n",
        "if A[y+2][x+1] == '#':\n",
        "    A[y+2][x+1] = '.'\n",
        "else:\n",
        "    A[y+2][x+1] = '#'\n",
        "\n",
        "del A[0]     # 行の削除\n",
        "del A[H]     # 行の削除\n",
        "\n",
        "for row in A:      #列の削除\n",
        "    del row[0]\n",
        "\n",
        "for row in A:       # 列の削除\n",
        "    del row[W]\n",
        "\n",
        "for i in range(H):\n",
        "    print(''.join(A[i]))"
      ],
      "metadata": {
        "colab": {
          "base_uri": "https://localhost:8080/"
        },
        "id": "KSfiD5q45ate",
        "outputId": "57f26b91-abc0-44db-9a05-816ea39cb1a1"
      },
      "execution_count": null,
      "outputs": [
        {
          "output_type": "stream",
          "name": "stdout",
          "text": [
            "3 3\n",
            "...\n",
            ".#.\n",
            "###\n",
            "1 1\n",
            ".#.\n",
            "#.#\n",
            "#.#\n"
          ]
        }
      ]
    },
    {
      "cell_type": "code",
      "source": [
        "#   縦横斜めの文字の入れ替え\n",
        "#\n",
        "#\n",
        "\n",
        "\n",
        "H, W = map(int, input().split())\n",
        "A = [[str(x) for x in input()] for i in range(H)]\n",
        "\n",
        "y,x = map(int,input().split())\n",
        "\n",
        "i = 1\n",
        "\n",
        "\n",
        "if A[y][x] == '#':\n",
        "    A[y][x] = '.'\n",
        "else:\n",
        "    A[y][x] = '#'\n",
        "\n",
        "for j in range(W):\n",
        "    if A[y][j] == '#':\n",
        "        A[y][j] = '.'\n",
        "    else:\n",
        "        A[y][j] = '#'\n",
        "\n",
        "for j in range(H):\n",
        "    if A[j][x] == '#':\n",
        "        A[j][x] = '.'\n",
        "    else:\n",
        "        A[j][x] = '#'\n",
        "\n",
        "\n",
        "for i in range(min(H,W)):\n",
        "\n",
        "    if y + i < H:\n",
        "\n",
        "        if x + i < W:\n",
        "            if A[y+i][x+i] == '#':\n",
        "                A[y+i][x+i] = '.'\n",
        "            else:\n",
        "                A[y+i][x+i] = '#'\n",
        "\n",
        "        if 0 <= x -i:\n",
        "            if A[y+i][x-i] == '#':\n",
        "                A[y+i][x-i] = '.'\n",
        "            else:\n",
        "                A[y+i][x-i] = '#'\n",
        "\n",
        "    if 0 <= y - i:\n",
        "\n",
        "        if x + i < W:\n",
        "            if A[y-i][x+i] == '#':\n",
        "                A[y-i][x+i] = '.'\n",
        "            else:\n",
        "                A[y-i][x+i] = '#'\n",
        "\n",
        "        if 0 <= x - i:\n",
        "            if A[y-i][x-i] == '#':\n",
        "                A[y-i][x-i] = '.'\n",
        "            else:\n",
        "                A[y-i][x-i] = '#'\n",
        "\n",
        "\n",
        "\n",
        "\n",
        "\n",
        "\n",
        "for j in range(H):\n",
        "    print(''.join(A[j]))"
      ],
      "metadata": {
        "id": "5Ry-q-2YTqew"
      },
      "execution_count": null,
      "outputs": []
    },
    {
      "cell_type": "code",
      "source": [
        "'''\n",
        "マップの行数 H と列数 W とナンバリングの向き D が与えられるので、(0, 0) から指示通りにナンバリングしたとき、マップ全体にどのように番号が振られるかを出力してください。\n",
        "\n",
        "ナンバリングの向き D に対応する方向と、例として 3×4 のマップをナンバリングをした結果は以下の通りです。\n",
        "スタート地点はすべて左上(0,0)から\n",
        "1 右上に進む　↗\n",
        "2　右に進む　→\n",
        "3　下に進む　↓\n",
        "4　左下に進む　↙\n",
        "'''\n",
        "\n",
        "\n",
        "\n",
        "H, W, D =map(int,input().split())\n",
        "cnt = 1\n",
        "a = [[0 for x in range(W)] for i in range(H)]\n",
        "\n",
        "if D == 1:\n",
        "    a[0][0] = 1\n",
        "    cnt  += 1\n",
        "\n",
        "    for i in range(1,H):\n",
        "        for j in range(min(W-1, i)+1):\n",
        "            a[i-j][j] = cnt\n",
        "            cnt += 1\n",
        "    for i in range(1,W):\n",
        "        for j in range(min(H,W-i)):\n",
        "            a[H-1-j][i+j] = cnt\n",
        "            cnt += 1\n",
        "\n",
        "elif D == 2:\n",
        "\n",
        "    for i in range(H):\n",
        "        for j in range(W):\n",
        "            a[i][j]= cnt\n",
        "            cnt +=1\n",
        "\n",
        "elif D == 3:\n",
        "    for i in range(W):\n",
        "        for j in range(H):\n",
        "            a[j][i] = cnt\n",
        "            cnt += 1\n",
        "\n",
        "else:\n",
        "    a[0][0] = 1\n",
        "    cnt += 1\n",
        "\n",
        "    for i in range(1,W):\n",
        "        for j in range(min(i, H-1)+1):\n",
        "            a[j][i-j] = cnt\n",
        "            cnt +=1\n",
        "    for i in range(1,H):\n",
        "        for j in range(min(H-i, W)):\n",
        "            a[i+j][W-1-j] = cnt\n",
        "            cnt += 1\n",
        "\n",
        "\n",
        "for i in range(H):\n",
        "    print(' '.join(map(str,a[i])))\n",
        "\n",
        "\n",
        "\n",
        "\n",
        "\n",
        "\n",
        "\n",
        "\n",
        "\n",
        "\n",
        "\n"
      ],
      "metadata": {
        "colab": {
          "base_uri": "https://localhost:8080/"
        },
        "id": "lnExjJuXADIf",
        "outputId": "13557a85-c12b-455b-f96c-590f585aa576"
      },
      "execution_count": null,
      "outputs": [
        {
          "output_type": "stream",
          "name": "stdout",
          "text": [
            "3 4 1\n",
            "1 3 6 9\n",
            "2 5 8 11\n",
            "4 7 10 12\n"
          ]
        }
      ]
    },
    {
      "cell_type": "code",
      "source": [
        "'''\n",
        "東京の下町に長テーブルで有名な老舗うなぎ屋がありました。\n",
        "\n",
        "そのうなぎ屋にはとても大きい長テーブルがあり、テーブルの周りにn個の座席が配置されています。\n",
        "座席には、時計回りに1, 2, …, nと番号が振られています。\n",
        "座席はテーブルの周りに配置されているので、座席番号nの座席と1の座席は隣接しています。\n",
        "\n",
        "今、m個のグループの人達が座席に順番に座りに来ます。i番目(1≦i≦m)のグループの人数をa_i人とします。\n",
        "彼らは、長テーブルに並んだ座席の内、ある連続するa_i個の座席に一斉に座ろうとします。\n",
        "\n",
        "ただしお客さんは江戸っ子なので、それら座席のうち、いずれか一つでも既に先客に座られている座席があった場合、\n",
        "一人も座らずにグループ全員で怒って帰ってしまいます。江戸っ子は気が早いんでぃ。\n",
        "\n",
        "入力では、i番目のグループが座ろうとする連続した座席の位置は、整数b_iにより指定されます。\n",
        "i番目のグループは、座席番号b_iの座席を始点として、そこから時計回りにa_i個分の座席に座ろうとします。\n",
        "\n",
        "最後のグループが座りに来た後、無事に長テーブルの座席に着席出来ている人数を出力するプログラムを作成してください。\n",
        "\n",
        "入力は以下のフォーマットで与えられます。\n",
        "\n",
        "n m\n",
        "a_1 b_1\n",
        "a_2 b_2\n",
        "...\n",
        "a_m b_m\n",
        "'''\n",
        "\n",
        "n, m= map(int, input().split())\n",
        "a = [0]* n\n",
        "cnt = 0\n",
        "\n",
        "for i in range(m):\n",
        "    p, q = map(int,input().split())\n",
        "\n",
        "    for j in range(p):\n",
        "        if a[(q+j)%n] != 0:\n",
        "            break\n",
        "    else:\n",
        "        cnt += p\n",
        "        for k in range(p):\n",
        "            a[(q+k) % n] = 1\n",
        "        print(a)\n",
        "\n",
        "print(cnt)"
      ],
      "metadata": {
        "colab": {
          "base_uri": "https://localhost:8080/"
        },
        "id": "xJxEc3jdmN-M",
        "outputId": "d332e03d-1acd-480e-9b06-85dae8684e5e"
      },
      "execution_count": null,
      "outputs": [
        {
          "output_type": "stream",
          "name": "stdout",
          "text": [
            "6 3\n",
            "3 2\n",
            "[0, 0, 1, 1, 1, 0]\n",
            "1 6\n",
            "[1, 0, 1, 1, 1, 0]\n",
            "2 5\n",
            "4\n"
          ]
        }
      ]
    },
    {
      "cell_type": "code",
      "source": [
        "N = int(input())\n",
        "\n",
        "for i in range(N):\n",
        "    n, o, b, s = input().split()\n",
        "    print('User{')\n",
        "    print('nickname : ' + n)\n",
        "    print('old : ' + o)\n",
        "    print('birth : ' + b)\n",
        "    print('state : ' +s)\n",
        "    print('}')\n"
      ],
      "metadata": {
        "colab": {
          "base_uri": "https://localhost:8080/"
        },
        "id": "KVqvMcdeTMQ-",
        "outputId": "af8b0f56-0a13-4eb5-b6c1-ef00fce39db4"
      },
      "execution_count": null,
      "outputs": [
        {
          "output_type": "stream",
          "name": "stdout",
          "text": [
            "1\n",
            "koko 23 04/10 tokyo\n",
            "User{\n",
            "nickname : koko\n",
            "old : 23\n",
            "birth : 04/10\n",
            "state : tokyo\n",
            "}\n"
          ]
        }
      ]
    },
    {
      "cell_type": "code",
      "source": [
        "class Student:\n",
        "    def __init__(self, name, old, birth, state):\n",
        "        self.name = name\n",
        "        self.old = old\n",
        "        self.birth = birth\n",
        "        self.state = state\n",
        "\n",
        "\n",
        "n = int(input())\n",
        "\n",
        "roster = [None] * n\n",
        "for i in range(n):\n",
        "    name, old, birth, state = input().split()\n",
        "    roster[i] = Student(name, old, birth, state)\n",
        "\n",
        "k = input()\n",
        "for student in roster:\n",
        "    if student.old == k:\n",
        "        print(student.name)\n",
        "        break"
      ],
      "metadata": {
        "colab": {
          "base_uri": "https://localhost:8080/"
        },
        "id": "ETRaD2qgW5Qo",
        "outputId": "a6f636c0-b1e7-49bc-aa61-5f562e29f659"
      },
      "execution_count": null,
      "outputs": [
        {
          "output_type": "stream",
          "name": "stdout",
          "text": [
            "1\n",
            "koko 23 04/10 tokyo\n",
            "23\n",
            "koko\n"
          ]
        }
      ]
    },
    {
      "cell_type": "code",
      "source": [
        "n = int(input())\n",
        "a = [None]*n\n",
        "for i in range(n):\n",
        "    a[i] = input().split()\n",
        "\n",
        "age = int(input())\n",
        "\n",
        "for i in range(n):\n",
        "    if str(age) == a[i][1]:\n",
        "        print(a[i][0])\n",
        "        break"
      ],
      "metadata": {
        "colab": {
          "base_uri": "https://localhost:8080/"
        },
        "id": "XdC4BV67b6m6",
        "outputId": "99235f23-2f58-4e93-8e03-01f52f657181"
      },
      "execution_count": null,
      "outputs": [
        {
          "output_type": "stream",
          "name": "stdout",
          "text": [
            "1\n",
            "koko 23 4/10 tokyo\n",
            "23\n",
            "koko\n"
          ]
        }
      ]
    },
    {
      "cell_type": "code",
      "source": [
        "class Student:\n",
        "    def __init__(self, name, old, birth, state):\n",
        "        self.name = name\n",
        "        self.old = old\n",
        "        self.birth = birth\n",
        "        self.state = state\n",
        "\n",
        "n = int(input())\n",
        "\n",
        "a = [None]*n\n",
        "\n",
        "for i in range(n):\n",
        "    name, old, birth, state = input().split()\n",
        "    a[i] = Student(name, old, birth, state)\n",
        "\n",
        "\n",
        "age = input()\n",
        "\n",
        "for student in a:\n",
        "    if student.old == age:\n",
        "        print(student.name)\n",
        "        break"
      ],
      "metadata": {
        "colab": {
          "base_uri": "https://localhost:8080/"
        },
        "id": "OFk38cvrdH-6",
        "outputId": "7eebbb1a-32b1-4817-c04a-e6a6e692052a"
      },
      "execution_count": null,
      "outputs": [
        {
          "output_type": "stream",
          "name": "stdout",
          "text": [
            "1\n",
            "nono 23 4/10 tk\n",
            "23\n",
            "nono\n",
            "<__main__.Student object at 0x7b11cc94a6d0>\n"
          ]
        }
      ]
    },
    {
      "cell_type": "code",
      "source": [
        "a = [7,-5,3,5,1,2]\n",
        "b = sorted(a) # sorted　の場合は，コピーが入るので元のリストは変わらない\n",
        "\n",
        "print(a)\n",
        "print(b)\n",
        "\n",
        "a.sort() #  .sort() 半並び替えを保存\n",
        "\n",
        "print(a)\n",
        "\n",
        "c = sorted(a, reverse = True) # sorted(list, reverse =True)はlistを降順に\n",
        "print(c)\n",
        "print(a)\n",
        "\n",
        "a.sort(reverse = True) # list.sort(reverse = True)\n",
        "print(a)"
      ],
      "metadata": {
        "colab": {
          "base_uri": "https://localhost:8080/"
        },
        "id": "MkAmISlZd4AX",
        "outputId": "7f9452ea-b52a-48a4-fdc7-5d53df2bf26e"
      },
      "execution_count": null,
      "outputs": [
        {
          "output_type": "stream",
          "name": "stdout",
          "text": [
            "[7, -5, 3, 5, 1, 2]\n",
            "[-5, 1, 2, 3, 5, 7]\n",
            "[-5, 1, 2, 3, 5, 7]\n",
            "[7, 5, 3, 2, 1, -5]\n",
            "[-5, 1, 2, 3, 5, 7]\n",
            "[7, 5, 3, 2, 1, -5]\n"
          ]
        }
      ]
    },
    {
      "cell_type": "code",
      "source": [
        "n, m = map(int,input().split())\n",
        "\n",
        "a = [None]*m\n",
        "b = [None]*m\n",
        "\n",
        "for i in range(m):\n",
        "    a[i], b[i] = input().split()\n",
        "\n",
        "for i in range(m):\n",
        "    print(a[i]+' '+b[i])"
      ],
      "metadata": {
        "colab": {
          "base_uri": "https://localhost:8080/"
        },
        "id": "8s1Eqw1ob4ZO",
        "outputId": "70754d8e-4e97-4007-951f-f533cb8ecdfd"
      },
      "execution_count": null,
      "outputs": [
        {
          "output_type": "stream",
          "name": "stdout",
          "text": [
            "6 3\n",
            "3 2\n",
            "['3', None, None] ['2', None, None]\n",
            "1 6\n",
            "['3', '1', None] ['2', '6', None]\n",
            "2 5\n",
            "['3', '1', '2'] ['2', '6', '5']\n",
            "3 2\n",
            "1 6\n",
            "2 5\n"
          ]
        }
      ]
    },
    {
      "cell_type": "code",
      "source": [
        "n, m = map(int, input().split())\n",
        "\n",
        "print(n, m)\n",
        "\n",
        "for _ in range(m):\n",
        "    a, b = map(int, input().split())\n",
        "    print(a, b)"
      ],
      "metadata": {
        "colab": {
          "base_uri": "https://localhost:8080/"
        },
        "id": "4W2TeBwSeW5K",
        "outputId": "792dec35-4d2f-40f2-bbfe-fb6171c2218c"
      },
      "execution_count": null,
      "outputs": [
        {
          "output_type": "stream",
          "name": "stdout",
          "text": [
            "6 3\n",
            "6 3\n",
            "3 2\n",
            "3 2\n",
            "1 6\n",
            "1 6\n",
            "2 5\n",
            "2 5\n"
          ]
        }
      ]
    },
    {
      "cell_type": "code",
      "source": [
        "n = int(input())\n",
        "\n",
        "s = list(input().split())\n",
        "print(s.count('0'))"
      ],
      "metadata": {
        "colab": {
          "base_uri": "https://localhost:8080/"
        },
        "id": "jm5ca3tvfJNR",
        "outputId": "d71fe812-34f4-47e2-9b9e-e349ec246289"
      },
      "execution_count": null,
      "outputs": [
        {
          "output_type": "stream",
          "name": "stdout",
          "text": [
            "6\n",
            "0 1 0 0 1 0\n",
            "4\n"
          ]
        }
      ]
    },
    {
      "cell_type": "code",
      "source": [
        "n = int(input())\n",
        "\n",
        "s = [int(n) for n in input().split()]\n",
        "print(s.count(0))\n",
        "print(s)"
      ],
      "metadata": {
        "colab": {
          "base_uri": "https://localhost:8080/"
        },
        "id": "7uS3qJIvhnMh",
        "outputId": "5522df37-0090-4700-dd25-82f7154cc24e"
      },
      "execution_count": null,
      "outputs": [
        {
          "output_type": "stream",
          "name": "stdout",
          "text": [
            "6\n",
            "0 1 0 0 1 0\n",
            "4\n",
            "[0, 1, 0, 0, 1, 0]\n"
          ]
        }
      ]
    },
    {
      "cell_type": "code",
      "source": [
        "n = int(input())\n",
        "table = [int(n) for n in input().split()]\n",
        "\n",
        "count = 0\n",
        "\n",
        "for i in range(n):\n",
        "    if table[i] == 0:\n",
        "        count += 1\n",
        "\n",
        "print(count)"
      ],
      "metadata": {
        "id": "0ZqqIJWIh99Y"
      },
      "execution_count": null,
      "outputs": []
    }
  ]
}