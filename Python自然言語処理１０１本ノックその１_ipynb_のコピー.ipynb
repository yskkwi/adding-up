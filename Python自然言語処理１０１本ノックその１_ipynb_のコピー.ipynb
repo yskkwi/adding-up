{
  "nbformat": 4,
  "nbformat_minor": 0,
  "metadata": {
    "colab": {
      "name": "Python自然言語処理１０１本ノックその１.ipynb のコピー",
      "provenance": [],
      "collapsed_sections": [],
      "toc_visible": true,
      "include_colab_link": true
    },
    "kernelspec": {
      "name": "python3",
      "display_name": "Python 3"
    },
    "accelerator": "GPU"
  },
  "cells": [
    {
      "cell_type": "markdown",
      "metadata": {
        "id": "view-in-github",
        "colab_type": "text"
      },
      "source": [
        "<a href=\"https://colab.research.google.com/github/yskkwi/adding-up/blob/master/Python%E8%87%AA%E7%84%B6%E8%A8%80%E8%AA%9E%E5%87%A6%E7%90%86%EF%BC%91%EF%BC%90%EF%BC%91%E6%9C%AC%E3%83%8E%E3%83%83%E3%82%AF%E3%81%9D%E3%81%AE%EF%BC%91_ipynb_%E3%81%AE%E3%82%B3%E3%83%94%E3%83%BC.ipynb\" target=\"_parent\"><img src=\"https://colab.research.google.com/assets/colab-badge.svg\" alt=\"Open In Colab\"/></a>"
      ]
    },
    {
      "cell_type": "markdown",
      "metadata": {
        "id": "MwblRBEOgqQj"
      },
      "source": [
        "# 第１章　文字列処理"
      ]
    },
    {
      "cell_type": "code",
      "metadata": {
        "id": "8Jq2d3ZYhlcZ",
        "colab": {
          "base_uri": "https://localhost:8080/"
        },
        "outputId": "94644ca1-98d5-446b-e3ce-eb08e4f30d51"
      },
      "source": [
        "# 2020/6/20 の神草ツイート５つ\n",
        "\n",
        "tw_strings = [\"\"\"\n",
        "今日から、100 #numpy  exercisesを始めます！\n",
        "3. Create a null vector of size 10\n",
        "\n",
        "a = np.zeros(10)\n",
        "print(a)\n",
        "\n",
        "#python\n",
        "#プログラミング初心者\n",
        "#Progate\n",
        "#駆け出しエンジニアと繋がりたい\"\"\",\n",
        "\"\"\"\n",
        "今日から、100 #numpy  exercisesを始めます！\n",
        "\n",
        "2. Print the numpy version and the configuration\n",
        "\n",
        "print(np.__version__)\n",
        "print(np.show_config())\n",
        "\n",
        "#python\n",
        "#プログラミング初心者\n",
        "#Progate\n",
        "#駆け出しエンジニアと繋がりたい\"\"\",\n",
        "\"\"\"\n",
        "今日から、100 #numpy  exercisesを始めます！\n",
        "何か勉強してないと落ち着かない勉強中毒になりつつある...\n",
        "\n",
        "1. Import the numpy package under the name np\n",
        "\n",
        "import numpy as np\n",
        "\n",
        "#python\n",
        "#プログラミング初心者\n",
        "#Progate\n",
        "#駆け出しエンジニアと繋がりたい\"\"\",\n",
        "\"\"\"\n",
        "自分は何のために休日も個人開発や書籍書いてるんだろうって思ってたら、竹花さんのスピーチ見つけた。\n",
        "\n",
        "「好きなことして得た3000円の価値は、好きじゃないことして得た30万円よりも大きい。」\n",
        "\n",
        "https://youtube.com/watch?v=duv1D2-v4Uc\n",
        "\n",
        "#python\n",
        "#プログラミング初心者\n",
        "#Progate\n",
        "#駆け出しエンジニアと繋がりたい\"\"\",\n",
        "\"\"\"\n",
        "#JDLA #G検定　2週間後に受けようと思っていて黒本も白本も終わった方はこちらで腕試ししてみてください！\n",
        "\n",
        "あと一点で合格ということがないように！\n",
        "\n",
        "225問本番の形式で受けれるサイトです。\n",
        "\n",
        "http://bit.ly/2QfvJwO\n",
        "\n",
        "http://amzn.to/2znu2Wp（模試解説）\n",
        "\n",
        "#駆け出しエンジニアと繋がりたい\"\"\"]\n",
        "print(len(tw_strings))\n"
      ],
      "execution_count": null,
      "outputs": [
        {
          "output_type": "stream",
          "name": "stdout",
          "text": [
            "5\n"
          ]
        }
      ]
    },
    {
      "cell_type": "markdown",
      "metadata": {
        "id": "zoIc0VlHgJvR"
      },
      "source": [
        "##０１： リスト内の特定文字列を含む要素の数\n",
        "\n",
        "2020/6/20 の神草ツイート５つのうち「#プログラミング初心者」という文字列を含むツイートの数を計算するプログラムを書いてください。"
      ]
    },
    {
      "cell_type": "markdown",
      "metadata": {
        "id": "GYml2STGqi9A"
      },
      "source": [
        "答え）"
      ]
    },
    {
      "cell_type": "code",
      "metadata": {
        "id": "gDtZw-PYgNr5",
        "colab": {
          "base_uri": "https://localhost:8080/"
        },
        "outputId": "120e53e2-1dba-4ef7-a617-1cdcdfadfb83"
      },
      "source": [
        "print(len([e for e in tw_strings if \"#プログラミング初心者\" in e]))"
      ],
      "execution_count": null,
      "outputs": [
        {
          "output_type": "stream",
          "name": "stdout",
          "text": [
            "4\n"
          ]
        }
      ]
    },
    {
      "cell_type": "markdown",
      "metadata": {
        "id": "84k_zNRlqlxA"
      },
      "source": [
        "１）リストの要素群が特定の文字列を含むかどうかの判定\n"
      ]
    },
    {
      "cell_type": "code",
      "metadata": {
        "id": "ctrpE6hWpD8p",
        "colab": {
          "base_uri": "https://localhost:8080/"
        },
        "outputId": "dd29a313-1573-4a16-8769-c54aa55aa34d"
      },
      "source": [
        "if \"文字列1\" in [\"文字列2\", \"文字列3\" ]:\n",
        "  print(True)\n",
        "else:\n",
        "  print(False)"
      ],
      "execution_count": null,
      "outputs": [
        {
          "output_type": "stream",
          "name": "stdout",
          "text": [
            "False\n"
          ]
        }
      ]
    },
    {
      "cell_type": "markdown",
      "metadata": {
        "id": "cACBJhYMtI9c"
      },
      "source": [
        "２）リスト内包表記\n"
      ]
    },
    {
      "cell_type": "markdown",
      "metadata": {
        "id": "8ZvmShLTw7ub"
      },
      "source": [
        "プログラム０１ーA)"
      ]
    },
    {
      "cell_type": "code",
      "metadata": {
        "id": "vCaUDq_xt4Q1",
        "colab": {
          "base_uri": "https://localhost:8080/"
        },
        "outputId": "625291b7-3821-4e82-ec0d-71380f5f7067"
      },
      "source": [
        "plus1 = []\n",
        "for i in [1,2,3,4,5]:\n",
        "  plus1.append(i+1)\n",
        "print(plus1)"
      ],
      "execution_count": null,
      "outputs": [
        {
          "output_type": "stream",
          "name": "stdout",
          "text": [
            "[2, 3, 4, 5, 6]\n"
          ]
        }
      ]
    },
    {
      "cell_type": "markdown",
      "metadata": {
        "id": "r4fTElalw93k"
      },
      "source": [
        "プログラム０１ーB）"
      ]
    },
    {
      "cell_type": "code",
      "metadata": {
        "id": "oxrFbQeDt7LR",
        "colab": {
          "base_uri": "https://localhost:8080/"
        },
        "outputId": "15defa7d-189a-4fe6-e0ca-14f8934d3734"
      },
      "source": [
        "plus1 = [i+1 for i in [1,2,3,4,5]]\n",
        "print(plus1)"
      ],
      "execution_count": null,
      "outputs": [
        {
          "output_type": "stream",
          "name": "stdout",
          "text": [
            "[2, 3, 4, 5, 6]\n"
          ]
        }
      ]
    },
    {
      "cell_type": "markdown",
      "metadata": {
        "id": "iQ1Dpokmw_te"
      },
      "source": [
        "プログラム０１ーC）"
      ]
    },
    {
      "cell_type": "code",
      "metadata": {
        "id": "IE4m-UCwxBRk",
        "colab": {
          "base_uri": "https://localhost:8080/"
        },
        "outputId": "34963d5e-c4a4-4ac8-ebdc-bf31a8f1d42a"
      },
      "source": [
        "plus1 = [i+1 for i in [1,2,3,4,5] if i >= 3]\n",
        "print(plus1)"
      ],
      "execution_count": null,
      "outputs": [
        {
          "output_type": "stream",
          "name": "stdout",
          "text": [
            "[4, 5, 6]\n"
          ]
        }
      ]
    },
    {
      "cell_type": "code",
      "metadata": {
        "colab": {
          "base_uri": "https://localhost:8080/"
        },
        "id": "cchV1RRJHoed",
        "outputId": "d07450f6-cfaf-459f-fab0-6bf6d2709bf4"
      },
      "source": [
        "print([i+1 for i in [1,2,3,4,5] if i >= 3])"
      ],
      "execution_count": null,
      "outputs": [
        {
          "output_type": "stream",
          "name": "stdout",
          "text": [
            "[4, 5, 6]\n"
          ]
        }
      ]
    },
    {
      "cell_type": "markdown",
      "metadata": {
        "id": "9NKtOJtLyjqa"
      },
      "source": [
        "プログラム０１ーD）"
      ]
    },
    {
      "cell_type": "code",
      "metadata": {
        "id": "3Y76uVMoyoku",
        "colab": {
          "base_uri": "https://localhost:8080/"
        },
        "outputId": "3bdf5edd-4966-4e3a-8774-f9d660ef5588"
      },
      "source": [
        "print(len([i+1 for i in [1,2,3,4,5] if i >= 3]))"
      ],
      "execution_count": null,
      "outputs": [
        {
          "output_type": "stream",
          "name": "stdout",
          "text": [
            "3\n"
          ]
        }
      ]
    },
    {
      "cell_type": "markdown",
      "metadata": {
        "id": "wqhuwklWjSfx"
      },
      "source": [
        "##０２：リスト内の各要素の文字数\n",
        "\n",
        "2020/6/20 の神草ツイート５つの各ツイートの文字数を順に出力せよ。"
      ]
    },
    {
      "cell_type": "markdown",
      "metadata": {
        "id": "xJ2eQGZgqrk9"
      },
      "source": [
        "答え）"
      ]
    },
    {
      "cell_type": "code",
      "metadata": {
        "id": "l1anqLYIjSRL",
        "colab": {
          "base_uri": "https://localhost:8080/",
          "height": 34
        },
        "outputId": "bb9b2e21-49e6-4c31-b3a1-531c22eda043"
      },
      "source": [
        "print([len(e) for e in tw_strings])"
      ],
      "execution_count": null,
      "outputs": [
        {
          "output_type": "stream",
          "text": [
            "[142, 177, 177, 183, 169]\n"
          ],
          "name": "stdout"
        }
      ]
    },
    {
      "cell_type": "markdown",
      "metadata": {
        "id": "ZsL_dhnxzaKa"
      },
      "source": [
        "等価コード（内包表記を使わないとこうなる）"
      ]
    },
    {
      "cell_type": "code",
      "metadata": {
        "id": "IsQ_mKDFzfla",
        "colab": {
          "base_uri": "https://localhost:8080/",
          "height": 34
        },
        "outputId": "40862903-7ee7-4ca3-c3e1-ab32c22fe242"
      },
      "source": [
        "l = []\n",
        "for e in tw_strings:\n",
        "  l.append(len(e))\n",
        "print(l)"
      ],
      "execution_count": null,
      "outputs": [
        {
          "output_type": "stream",
          "text": [
            "[142, 186, 178, 184, 170]\n"
          ],
          "name": "stdout"
        }
      ]
    },
    {
      "cell_type": "code",
      "metadata": {
        "id": "mEt9mVHlNpBz"
      },
      "source": [
        ""
      ],
      "execution_count": null,
      "outputs": []
    },
    {
      "cell_type": "markdown",
      "metadata": {
        "id": "GfOouHZhj90x"
      },
      "source": [
        "##０３：改行コードでツイート分割"
      ]
    },
    {
      "cell_type": "code",
      "metadata": {
        "id": "PhUVz0BWH8QV",
        "colab": {
          "base_uri": "https://localhost:8080/",
          "height": 72
        },
        "outputId": "b89586b6-dacb-4407-e161-9a9d620d2136"
      },
      "source": [
        "divided_tws = []\n",
        "for tw in tw_strings:\n",
        "  tws = tw.split(\"\\n\")\n",
        "  #空のみの要素除外\n",
        "  divided_tws += [t for t in tws if t != '']\n",
        "  \n",
        "print(len(divided_tws))\n",
        "print(divided_tws[0:5])"
      ],
      "execution_count": null,
      "outputs": [
        {
          "output_type": "stream",
          "text": [
            "37\n",
            "['今日から、100 #numpy  exercisesを始めます！', '3. Create a null vector of size 10', 'a = np.zeros(10)', 'print(a)', '#python']\n"
          ],
          "name": "stdout"
        }
      ]
    },
    {
      "cell_type": "markdown",
      "metadata": {
        "id": "SBpZJXrHeIHN"
      },
      "source": [
        "プログラム０３ーA）"
      ]
    },
    {
      "cell_type": "code",
      "metadata": {
        "id": "6UtdsnTIef5y",
        "colab": {
          "base_uri": "https://localhost:8080/",
          "height": 34
        },
        "outputId": "0c29b58c-cd0c-469e-d201-b9ae0e6beb0d"
      },
      "source": [
        "l1 = [1,2,3]\n",
        "l2 = [4,5,6]\n",
        "l4 = []\n",
        "l4.append(l1)\n",
        "l4.append(l2)\n",
        "print(l4)"
      ],
      "execution_count": null,
      "outputs": [
        {
          "output_type": "stream",
          "text": [
            "[[1, 2, 3], [4, 5, 6]]\n"
          ],
          "name": "stdout"
        }
      ]
    },
    {
      "cell_type": "markdown",
      "metadata": {
        "id": "pOBhPgDcx5QJ"
      },
      "source": [
        "##０４：ハッシュタグ抽出"
      ]
    },
    {
      "cell_type": "code",
      "metadata": {
        "id": "YXmltU-Hg5JK",
        "colab": {
          "base_uri": "https://localhost:8080/",
          "height": 122
        },
        "outputId": "9151269c-8189-4454-c700-32011fb50d5f"
      },
      "source": [
        "tw_strings"
      ],
      "execution_count": null,
      "outputs": [
        {
          "output_type": "execute_result",
          "data": {
            "text/plain": [
              "['\\n今日から、100 #numpy  exercisesを始めます！\\n3. Create a null vector of size 10\\n\\na = np.zeros(10)\\nprint(a)\\n\\n#python\\n#プログラミング初心者\\n#Progate\\n#駆け出しエンジニアと繋がりたい',\n",
              " '\\n今日から、100 #numpy  exercisesを始めます！\\n\\n2. Print the numpy version and the configuration\\n\\nprint(np.__version__)\\nprint(http://np.show_config())\\n\\n#python\\n#プログラミング初心者\\n#Progate\\n#駆け出しエンジニアと繋がりたい',\n",
              " '\\n今日から、100 #numpy  exercisesを始めます！\\n何か勉強してないと落ち着かない勉強中毒になりつつある...\\n\\n1. Import the numpy package under the name np\\n\\nimport numpy as np\\n\\n#python\\n#プログラミング初心者\\n#Progate\\n#駆け出しエンジニアと繋がりたい',\n",
              " '\\n自分は何のために休日も個人開発や書籍書いてるんだろうって思ってたら、竹花さんのスピーチ見つけた。\\n\\n「好きなことして得た3000円の価値は、好きじゃないことして得た30万円よりも大きい。」\\n\\nhttps://youtube.com/watch?v=duv1D2-v4Uc\\n\\n#python\\n#プログラミング初心者\\n#Progate\\n#駆け出しエンジニアと繋がりたい',\n",
              " '\\n#JDLA #G検定\\u30002週間後に受けようと思っていて黒本も白本も終わった方はこちらで腕試ししてみてください！\\n\\nあと一点で合格ということがないように！\\n\\n225問本番の形式で受けれるサイトです。\\n\\nhttp://bit.ly/2QfvJwO\\n\\nhttp://amzn.to/2znu2Wp（模試解説）\\n\\n#駆け出しエンジニアと繋がりたい']"
            ]
          },
          "metadata": {
            "tags": []
          },
          "execution_count": 20
        }
      ]
    },
    {
      "cell_type": "code",
      "metadata": {
        "id": "fBA3KqvEmLr0",
        "colab": {
          "base_uri": "https://localhost:8080/",
          "height": 54
        },
        "outputId": "45da35b0-28bf-40c4-dd15-cba4809f3902"
      },
      "source": [
        "r = ''.join(tw_strings)\n",
        "hashes = []\n",
        "while True:\n",
        "  k = r.find(\"#\")\n",
        "  if k == -1:\n",
        "    break\n",
        "  l = r[k:].find(\" \")\n",
        "  m = r[k:].find(\"\\n\")\n",
        "  n = r[k:].find(\"　\")\n",
        "  if l == m == n == -1:\n",
        "    hashes.append(r[k+1:])\n",
        "    break\n",
        "  fetch = k + min([idx for idx in [l, m, n] if idx != -1])\n",
        "  hashes.append(r[k+1:fetch])\n",
        "  r = r[fetch:]\n",
        "print(sorted(list(set(hashes)), key=hashes.index))"
      ],
      "execution_count": null,
      "outputs": [
        {
          "output_type": "stream",
          "text": [
            "['numpy', 'python', 'プログラミング初心者', 'Progate', '駆け出しエンジニアと繋がりたい', 'JDLA', 'G検定']\n"
          ],
          "name": "stdout"
        }
      ]
    },
    {
      "cell_type": "markdown",
      "metadata": {
        "id": "OM7F2rqRyEPs"
      },
      "source": [
        "##０５：URL抽出\n"
      ]
    },
    {
      "cell_type": "code",
      "metadata": {
        "id": "1g8bib0ymRw-",
        "colab": {
          "base_uri": "https://localhost:8080/",
          "height": 52
        },
        "outputId": "b46d2e0c-57c5-405b-ca7a-188cd1c145c9"
      },
      "source": [
        "def get_urls(strings, ssl_flg=True):\n",
        "  \"\"\" 引数で渡した文字列からhttp(s)://で始まるURLを抜き出しリストで返却する\n",
        "    \n",
        "    Args:\n",
        "      strings(str): 解析対象文字列\n",
        "      ssl_flg(boolean)： http://で始まるURLかhttps://で始まるURLか（デフォルトhttps）\n",
        "    \n",
        "    Returns:\n",
        "      URLリスト\n",
        "  \"\"\"\n",
        "  target = \"http://\"\n",
        "  if ssl_flg:\n",
        "    target = \"https://\"\n",
        "  r = strings\n",
        "  hashes = []  \n",
        "  while True:\n",
        "    k = r.find(target)\n",
        "    if k == -1:\n",
        "      break\n",
        "    l = r[k:].find(\" \")\n",
        "    m = r[k:].find(\"\\n\")\n",
        "    n = r[k:].find(\"　\")\n",
        "    o = r[k:].find(\"（\")\n",
        "    if l == m == n == o == -1:\n",
        "      hashes.append(r[k:])\n",
        "      break\n",
        "    fetch = k + min([idx for idx in [l, m, n, o] if idx != -1])\n",
        "    hashes.append(r[k:fetch])\n",
        "    r = r[fetch:]\n",
        "  return sorted(list(set(hashes)), key=hashes.index)\n",
        "\n",
        "strings = ''.join(tw_strings)\n",
        "print(get_urls(strings, False))\n",
        "print(get_urls(strings, True))"
      ],
      "execution_count": null,
      "outputs": [
        {
          "output_type": "stream",
          "text": [
            "['http://bit.ly/2QfvJwO', 'http://amzn.to/2znu2Wp']\n",
            "['https://youtube.com/watch?v=duv1D2-v4Uc']\n"
          ],
          "name": "stdout"
        }
      ]
    },
    {
      "cell_type": "markdown",
      "metadata": {
        "id": "_-FzIAm5yrWA"
      },
      "source": [
        "##０６：2-gram"
      ]
    },
    {
      "cell_type": "code",
      "metadata": {
        "id": "5ZMls3g7mS1J",
        "colab": {
          "base_uri": "https://localhost:8080/",
          "height": 54
        },
        "outputId": "148ca613-ed7d-48be-80cf-9175f2624a6c"
      },
      "source": [
        "def bigram(s):\n",
        "  return [(s[i], s[i+1]) for i in range(len(s)) if i+1 < len(s)]\n",
        "\n",
        "print(bigram(tw_strings[0]))"
      ],
      "execution_count": null,
      "outputs": [
        {
          "output_type": "stream",
          "text": [
            "[('\\n', '今'), ('今', '日'), ('日', 'か'), ('か', 'ら'), ('ら', '、'), ('、', '1'), ('1', '0'), ('0', '0'), ('0', ' '), (' ', '#'), ('#', 'n'), ('n', 'u'), ('u', 'm'), ('m', 'p'), ('p', 'y'), ('y', ' '), (' ', ' '), (' ', 'e'), ('e', 'x'), ('x', 'e'), ('e', 'r'), ('r', 'c'), ('c', 'i'), ('i', 's'), ('s', 'e'), ('e', 's'), ('s', 'を'), ('を', '始'), ('始', 'め'), ('め', 'ま'), ('ま', 'す'), ('す', '！'), ('！', '\\n'), ('\\n', '3'), ('3', '.'), ('.', ' '), (' ', 'C'), ('C', 'r'), ('r', 'e'), ('e', 'a'), ('a', 't'), ('t', 'e'), ('e', ' '), (' ', 'a'), ('a', ' '), (' ', 'n'), ('n', 'u'), ('u', 'l'), ('l', 'l'), ('l', ' '), (' ', 'v'), ('v', 'e'), ('e', 'c'), ('c', 't'), ('t', 'o'), ('o', 'r'), ('r', ' '), (' ', 'o'), ('o', 'f'), ('f', ' '), (' ', 's'), ('s', 'i'), ('i', 'z'), ('z', 'e'), ('e', ' '), (' ', '1'), ('1', '0'), ('0', '\\n'), ('\\n', '\\n'), ('\\n', 'a'), ('a', ' '), (' ', '='), ('=', ' '), (' ', 'n'), ('n', 'p'), ('p', '.'), ('.', 'z'), ('z', 'e'), ('e', 'r'), ('r', 'o'), ('o', 's'), ('s', '('), ('(', '1'), ('1', '0'), ('0', ')'), (')', '\\n'), ('\\n', 'p'), ('p', 'r'), ('r', 'i'), ('i', 'n'), ('n', 't'), ('t', '('), ('(', 'a'), ('a', ')'), (')', '\\n'), ('\\n', '\\n'), ('\\n', '#'), ('#', 'p'), ('p', 'y'), ('y', 't'), ('t', 'h'), ('h', 'o'), ('o', 'n'), ('n', '\\n'), ('\\n', '#'), ('#', 'プ'), ('プ', 'ロ'), ('ロ', 'グ'), ('グ', 'ラ'), ('ラ', 'ミ'), ('ミ', 'ン'), ('ン', 'グ'), ('グ', '初'), ('初', '心'), ('心', '者'), ('者', '\\n'), ('\\n', '#'), ('#', 'P'), ('P', 'r'), ('r', 'o'), ('o', 'g'), ('g', 'a'), ('a', 't'), ('t', 'e'), ('e', '\\n'), ('\\n', '#'), ('#', '駆'), ('駆', 'け'), ('け', '出'), ('出', 'し'), ('し', 'エ'), ('エ', 'ン'), ('ン', 'ジ'), ('ジ', 'ニ'), ('ニ', 'ア'), ('ア', 'と'), ('と', '繋'), ('繋', 'が'), ('が', 'り'), ('り', 'た'), ('た', 'い')]\n"
          ],
          "name": "stdout"
        }
      ]
    },
    {
      "cell_type": "code",
      "metadata": {
        "id": "V30Gn49XLOD4",
        "colab": {
          "base_uri": "https://localhost:8080/",
          "height": 125
        },
        "outputId": "4d6b870c-e662-456b-c4dc-ad0b82425d2d"
      },
      "source": [
        "def unigram(s):\n",
        "  return [(s[i],) for i in range(len(s))]\n",
        "\n",
        "def bigram(s):\n",
        "  return [(s[i], s[i+1]) for i in range(len(s)) if i+1 < len(s)]\n",
        "\n",
        "def trigram(s):\n",
        "  return [(s[i], s[i+1], s[i+2]) for i in range(len(s)) if i+2 < len(s)]\n",
        "\n",
        "def tetragram(s):\n",
        "  return [(s[i], s[i+1], s[i+2], s[i+3]) for i in range(len(s)) if i+3 < len(s)]\n",
        "\n",
        "def pentagram(s):\n",
        "  return [(s[i], s[i+1], s[i+2], s[i+3], s[i+4]) for i in range(len(s)) if i+4 < len(s)]\n",
        "\n",
        "\n",
        "s = \"新型コロナのワクチンが早く欲しい。\"\n",
        "print(unigram(s))\n",
        "print(bigram(s))\n",
        "print(trigram(s))\n",
        "print(tetragram(s))\n",
        "print(pentagram(s))"
      ],
      "execution_count": null,
      "outputs": [
        {
          "output_type": "stream",
          "text": [
            "[('新',), ('型',), ('コ',), ('ロ',), ('ナ',), ('の',), ('ワ',), ('ク',), ('チ',), ('ン',), ('が',), ('早',), ('く',), ('欲',), ('し',), ('い',), ('。',)]\n",
            "[('新', '型'), ('型', 'コ'), ('コ', 'ロ'), ('ロ', 'ナ'), ('ナ', 'の'), ('の', 'ワ'), ('ワ', 'ク'), ('ク', 'チ'), ('チ', 'ン'), ('ン', 'が'), ('が', '早'), ('早', 'く'), ('く', '欲'), ('欲', 'し'), ('し', 'い'), ('い', '。')]\n",
            "[('新', '型', 'コ'), ('型', 'コ', 'ロ'), ('コ', 'ロ', 'ナ'), ('ロ', 'ナ', 'の'), ('ナ', 'の', 'ワ'), ('の', 'ワ', 'ク'), ('ワ', 'ク', 'チ'), ('ク', 'チ', 'ン'), ('チ', 'ン', 'が'), ('ン', 'が', '早'), ('が', '早', 'く'), ('早', 'く', '欲'), ('く', '欲', 'し'), ('欲', 'し', 'い'), ('し', 'い', '。')]\n",
            "[('新', '型', 'コ', 'ロ'), ('型', 'コ', 'ロ', 'ナ'), ('コ', 'ロ', 'ナ', 'の'), ('ロ', 'ナ', 'の', 'ワ'), ('ナ', 'の', 'ワ', 'ク'), ('の', 'ワ', 'ク', 'チ'), ('ワ', 'ク', 'チ', 'ン'), ('ク', 'チ', 'ン', 'が'), ('チ', 'ン', 'が', '早'), ('ン', 'が', '早', 'く'), ('が', '早', 'く', '欲'), ('早', 'く', '欲', 'し'), ('く', '欲', 'し', 'い'), ('欲', 'し', 'い', '。')]\n",
            "[('新', '型', 'コ', 'ロ', 'ナ'), ('型', 'コ', 'ロ', 'ナ', 'の'), ('コ', 'ロ', 'ナ', 'の', 'ワ'), ('ロ', 'ナ', 'の', 'ワ', 'ク'), ('ナ', 'の', 'ワ', 'ク', 'チ'), ('の', 'ワ', 'ク', 'チ', 'ン'), ('ワ', 'ク', 'チ', 'ン', 'が'), ('ク', 'チ', 'ン', 'が', '早'), ('チ', 'ン', 'が', '早', 'く'), ('ン', 'が', '早', 'く', '欲'), ('が', '早', 'く', '欲', 'し'), ('早', 'く', '欲', 'し', 'い'), ('く', '欲', 'し', 'い', '。')]\n"
          ],
          "name": "stdout"
        }
      ]
    },
    {
      "cell_type": "code",
      "metadata": {
        "id": "Nlz6r4cxfJ8g",
        "colab": {
          "base_uri": "https://localhost:8080/",
          "height": 34
        },
        "outputId": "d7a8a38b-64ed-4a88-e33a-29b82965bfd5"
      },
      "source": [
        "list(range(5))"
      ],
      "execution_count": null,
      "outputs": [
        {
          "output_type": "execute_result",
          "data": {
            "text/plain": [
              "[0, 1, 2, 3, 4]"
            ]
          },
          "metadata": {
            "tags": []
          },
          "execution_count": 15
        }
      ]
    },
    {
      "cell_type": "code",
      "metadata": {
        "id": "gQLn0okofQNc",
        "colab": {
          "base_uri": "https://localhost:8080/",
          "height": 34
        },
        "outputId": "7b311c4c-69b8-444d-b2bf-41ca9d77636d"
      },
      "source": [
        "list(range(1,5))"
      ],
      "execution_count": null,
      "outputs": [
        {
          "output_type": "execute_result",
          "data": {
            "text/plain": [
              "[1, 2, 3, 4]"
            ]
          },
          "metadata": {
            "tags": []
          },
          "execution_count": 16
        }
      ]
    },
    {
      "cell_type": "code",
      "metadata": {
        "id": "kF-_MixWfSgW",
        "colab": {
          "base_uri": "https://localhost:8080/",
          "height": 34
        },
        "outputId": "7a71e563-dc7d-4250-a854-817ee80ccb2e"
      },
      "source": [
        "list(range(1,10,2))"
      ],
      "execution_count": null,
      "outputs": [
        {
          "output_type": "execute_result",
          "data": {
            "text/plain": [
              "[1, 3, 5, 7, 9]"
            ]
          },
          "metadata": {
            "tags": []
          },
          "execution_count": 17
        }
      ]
    },
    {
      "cell_type": "markdown",
      "metadata": {
        "id": "whs-X_RxgL_r"
      },
      "source": [
        "##０７：n-gram"
      ]
    },
    {
      "cell_type": "code",
      "metadata": {
        "id": "RbHXaR5EhmMY",
        "colab": {
          "base_uri": "https://localhost:8080/",
          "height": 54
        },
        "outputId": "998c1870-ad28-4add-e887-104dacaa1ecf"
      },
      "source": [
        "def ngram(s, n):\n",
        "  \"\"\" ngramを計算して返却\n",
        "\n",
        "    Args:\n",
        "      s(str):解析対象文字列\n",
        "      n(int):n\n",
        "    Returns:\n",
        "      ngram(list):n-gramリスト\n",
        "\n",
        "  \"\"\"\n",
        "  ngram = []\n",
        "  for i in range(len(s)):\n",
        "    if i + n >= len(s):\n",
        "      break\n",
        "    tpl = tuple()\n",
        "    for j in range(n):\n",
        "      tpl += (s[i+j],)\n",
        "    ngram.append(tpl)\n",
        "  return ngram\n",
        "s = \"新型コロナのワクチンが早く欲しい。\"\n",
        "print(ngram(s, 3))"
      ],
      "execution_count": null,
      "outputs": [
        {
          "output_type": "stream",
          "text": [
            "[('新', '型', 'コ'), ('型', 'コ', 'ロ'), ('コ', 'ロ', 'ナ'), ('ロ', 'ナ', 'の'), ('ナ', 'の', 'ワ'), ('の', 'ワ', 'ク'), ('ワ', 'ク', 'チ'), ('ク', 'チ', 'ン'), ('チ', 'ン', 'が'), ('ン', 'が', '早'), ('が', '早', 'く'), ('早', 'く', '欲'), ('く', '欲', 'し'), ('欲', 'し', 'い')]\n"
          ],
          "name": "stdout"
        }
      ]
    },
    {
      "cell_type": "markdown",
      "metadata": {
        "id": "u2lyxoDThjF7"
      },
      "source": [
        "##０８：n-gramの集計"
      ]
    },
    {
      "cell_type": "code",
      "metadata": {
        "id": "znLCQThS6kLg",
        "colab": {
          "base_uri": "https://localhost:8080/",
          "height": 54
        },
        "outputId": "100c8296-5bc2-4189-ae0e-4a1af86e2dbb"
      },
      "source": [
        "def divide_by_ret(lst):\n",
        "  divided_tws = []\n",
        "  for tw in lst:\n",
        "    tws = tw.split(\"\\n\")\n",
        "    #空のみの要素除外\n",
        "    divided_tws += [t for t in tws if t != '']\n",
        "  return divided_tws\n",
        "divide_by_ret([\"\"\"人生の意味は行動を起こすことにある。\n",
        "そう思いませんか？\n",
        "\"\"\", \"Action Cures Fear!\"])"
      ],
      "execution_count": null,
      "outputs": [
        {
          "output_type": "execute_result",
          "data": {
            "text/plain": [
              "['人生の意味は行動を起こすことにある。', 'そう思いませんか？', 'Action Cures Fear!']"
            ]
          },
          "metadata": {
            "tags": []
          },
          "execution_count": 19
        }
      ]
    },
    {
      "cell_type": "code",
      "metadata": {
        "id": "NQ44uA_8yXqr",
        "colab": {
          "base_uri": "https://localhost:8080/",
          "height": 34
        },
        "outputId": "c0ea3cd9-d241-4c71-b5cb-34b322dbb0f3"
      },
      "source": [
        "def get_hashtag(s):\n",
        "  hashes = []\n",
        "  r = s\n",
        "  while True:\n",
        "    k = r.find(\"#\")\n",
        "    if k == -1:\n",
        "      break\n",
        "    l = r[k:].find(\" \")\n",
        "    m = r[k:].find(\"\\n\")\n",
        "    n = r[k:].find(\"　\")\n",
        "    if l == m == n == -1:\n",
        "      hashes.append(r[k+1:])\n",
        "      break\n",
        "    fetch = k + min([idx for idx in [l, m, n] if idx != -1])\n",
        "    hashes.append(r[k+1:fetch])\n",
        "    r = r[fetch:]\n",
        "  return sorted(list(set(hashes)), key=hashes.index)\n",
        "\n",
        "get_hashtag(\"最近、ワクチンの話題が少なくなってるにゃ。#ワクチン #コロナ\")"
      ],
      "execution_count": null,
      "outputs": [
        {
          "output_type": "execute_result",
          "data": {
            "text/plain": [
              "['ワクチン', 'コロナ']"
            ]
          },
          "metadata": {
            "tags": []
          },
          "execution_count": 20
        }
      ]
    },
    {
      "cell_type": "code",
      "metadata": {
        "id": "mfZsPRwgzevw",
        "colab": {
          "base_uri": "https://localhost:8080/",
          "height": 35
        },
        "outputId": "06d0ec24-7de0-4d71-fd95-4ac81b35954b"
      },
      "source": [
        "def exclude(s, lst):\n",
        "  for exc in lst:\n",
        "    s = s.replace(exc, '')\n",
        "  return s\n",
        "exclude_list = [\"失敗\"]\n",
        "exclude(\"私の辞書に「」という文字はない、「成功」に向かって一つ実験結果を得ただけだ。\", exclude_list)"
      ],
      "execution_count": null,
      "outputs": [
        {
          "output_type": "execute_result",
          "data": {
            "application/vnd.google.colaboratory.intrinsic+json": {
              "type": "string"
            },
            "text/plain": [
              "'私の辞書に「」という文字はない、「成功」に向かって一つ実験結果を得ただけだ。'"
            ]
          },
          "metadata": {
            "tags": []
          },
          "execution_count": 21
        }
      ]
    },
    {
      "cell_type": "code",
      "metadata": {
        "id": "D_-JX2ki6bU4",
        "colab": {
          "base_uri": "https://localhost:8080/",
          "height": 194
        },
        "outputId": "4ef9bff6-1a9b-4a19-e651-b9431058aca9"
      },
      "source": [
        "def divide_by_ret(lst):\n",
        "  divided_tws = []\n",
        "  for tw in lst:\n",
        "    tws = tw.split(\"\\n\")\n",
        "    #空のみの要素除外\n",
        "    divided_tws += [t for t in tws if t != '']\n",
        "  return divided_tws\n",
        "  \n",
        "def get_hashtag(s):\n",
        "  hashes = []\n",
        "  r = s\n",
        "  while True:\n",
        "    k = r.find(\"#\")\n",
        "    if k == -1:\n",
        "      break\n",
        "    l = r[k:].find(\" \")\n",
        "    m = r[k:].find(\"\\n\")\n",
        "    n = r[k:].find(\"　\")\n",
        "    if l == m == n == -1:\n",
        "      hashes.append(r[k+1:])\n",
        "      break\n",
        "    fetch = k + min([idx for idx in [l, m, n] if idx != -1])\n",
        "    hashes.append(r[k+1:fetch])\n",
        "    r = r[fetch:]\n",
        "  return sorted(list(set(hashes)), key=hashes.index)\n",
        "\n",
        "def exclude(s, lst):\n",
        "  for exc in lst:\n",
        "    s = s.replace(exc, '')\n",
        "  return s\n",
        "\n",
        "tw_str =''.join(tw_strings)\n",
        "\n",
        "hashes = get_hashtag(tw_str)\n",
        "urls = get_urls(tw_str)\n",
        "remove_symbols = ['\\n', '.', '=', ' ', '　', '#', '(', ')', '-', '/', ':', '?', '、', '「', '」', '_', '！', '0', '1', '2', '3', '4', '5', '6', '7', '8', '9']\n",
        "remove_lower_alphabet = ['a', 'b', 'c', 'd', 'e', 'f', 'g', 'h', 'i', 'j', 'k', 'l', 'm', 'n', 'o', 'p', 'q', 'r', 's', 't', 'u', 'v', 'w', 'x', 'y', 'z']\n",
        "remove_upper_alphabet = ['A', 'B', 'C', 'C', 'E', 'F', 'G', 'H', 'I', 'J', 'K', 'L', 'M', 'N', 'O', 'P', 'Q', 'R', 'S', 'T', 'U', 'V', 'W', 'X', 'Y', 'Z']\n",
        "\n",
        "divided_tws = divide_by_ret(tw_strings)\n",
        "\n",
        "pgrams = []\n",
        "for tw in divided_tws:\n",
        "  target = exclude(tw, hashes)\n",
        "  target = exclude(target, urls)\n",
        "  target = exclude(target, remove_symbols)\n",
        "  target = exclude(target, remove_lower_alphabet)\n",
        "  target = exclude(target, remove_upper_alphabet)\n",
        "  if target:\n",
        "    pgrams+= ngram(target, 5)\n",
        "\n",
        "dic = {}\n",
        "for pgram in pgrams:\n",
        "  if pgram not in dic:\n",
        "    dic[pgram] = 1\n",
        "  else:\n",
        "    dic[pgram] += 1\n",
        "sorted(dic.items(), key=lambda x:-x[1])[:10]"
      ],
      "execution_count": null,
      "outputs": [
        {
          "output_type": "execute_result",
          "data": {
            "text/plain": [
              "[(('今', '日', 'か', 'ら', 'を'), 3),\n",
              " (('日', 'か', 'ら', 'を', '始'), 3),\n",
              " (('か', 'ら', 'を', '始', 'め'), 3),\n",
              " (('ら', 'を', '始', 'め', 'ま'), 3),\n",
              " (('こ', 'と', 'し', 'て', '得'), 2),\n",
              " (('と', 'し', 'て', '得', 'た'), 2),\n",
              " (('何', 'か', '勉', '強', 'し'), 1),\n",
              " (('か', '勉', '強', 'し', 'て'), 1),\n",
              " (('勉', '強', 'し', 'て', 'な'), 1),\n",
              " (('強', 'し', 'て', 'な', 'い'), 1)]"
            ]
          },
          "metadata": {
            "tags": []
          },
          "execution_count": 22
        }
      ]
    },
    {
      "cell_type": "markdown",
      "metadata": {
        "id": "CiMtuTweI3XG"
      },
      "source": [
        "##０９：集合\n"
      ]
    },
    {
      "cell_type": "code",
      "metadata": {
        "id": "snavaLFtuUDk",
        "colab": {
          "base_uri": "https://localhost:8080/",
          "height": 125
        },
        "outputId": "de635a8b-12a4-4c7f-f5bb-ed257f31c9be"
      },
      "source": [
        "def pentagram_set(s):\n",
        "  return {(s[i], s[i+1], s[i+2], s[i+3], s[i+4]) for i in range(len(s)) if i+4 < len(s)}\n",
        "s1 = pentagram_set(\"駆け出しエンジニアと繋がりたい\")\n",
        "s2 = pentagram_set(\"フルスタックエンジニアと繋がりたい\")\n",
        "print(s1 | s2)\n",
        "print(s1 & s2)\n",
        "print(s1 - s2)\n",
        "print((\"エ\",\"ン\",\"ジ\",\"ニ\",\"ア\") in s1)\n",
        "print((\"エ\",\"ン\",\"ジ\",\"ニ\",\"ア\") in s2)"
      ],
      "execution_count": null,
      "outputs": [
        {
          "output_type": "stream",
          "text": [
            "{('駆', 'け', '出', 'し', 'エ'), ('ッ', 'ク', 'エ', 'ン', 'ジ'), ('け', '出', 'し', 'エ', 'ン'), ('ク', 'エ', 'ン', 'ジ', 'ニ'), ('ル', 'ス', 'タ', 'ッ', 'ク'), ('エ', 'ン', 'ジ', 'ニ', 'ア'), ('ス', 'タ', 'ッ', 'ク', 'エ'), ('し', 'エ', 'ン', 'ジ', 'ニ'), ('繋', 'が', 'り', 'た', 'い'), ('ジ', 'ニ', 'ア', 'と', '繋'), ('ニ', 'ア', 'と', '繋', 'が'), ('タ', 'ッ', 'ク', 'エ', 'ン'), ('ン', 'ジ', 'ニ', 'ア', 'と'), ('フ', 'ル', 'ス', 'タ', 'ッ'), ('ア', 'と', '繋', 'が', 'り'), ('出', 'し', 'エ', 'ン', 'ジ'), ('と', '繋', 'が', 'り', 'た')}\n",
            "{('繋', 'が', 'り', 'た', 'い'), ('ニ', 'ア', 'と', '繋', 'が'), ('ジ', 'ニ', 'ア', 'と', '繋'), ('ン', 'ジ', 'ニ', 'ア', 'と'), ('ア', 'と', '繋', 'が', 'り'), ('エ', 'ン', 'ジ', 'ニ', 'ア'), ('と', '繋', 'が', 'り', 'た')}\n",
            "{('し', 'エ', 'ン', 'ジ', 'ニ'), ('け', '出', 'し', 'エ', 'ン'), ('駆', 'け', '出', 'し', 'エ'), ('出', 'し', 'エ', 'ン', 'ジ')}\n",
            "True\n",
            "True\n"
          ],
          "name": "stdout"
        }
      ]
    },
    {
      "cell_type": "markdown",
      "metadata": {
        "id": "PIg7fWXbgykU"
      },
      "source": [
        "# 第２章　UNIXコマンドとpandas"
      ]
    },
    {
      "cell_type": "code",
      "metadata": {
        "id": "eX5UDiu22O9A"
      },
      "source": [
        "import pandas as pd\n",
        "\n",
        "group_pinfo = [\n",
        "    { \n",
        "        \"ID\" : 1,\n",
        "      \"名前\" : \"輝彦\",\n",
        "      \"年齢\" : \"23\",\n",
        "      \"性別\" : \"男\"\n",
        "    },\n",
        "    { \n",
        "      \"ID\" : 2,\n",
        "      \"名前\" : \"歩\",\n",
        "      \"年齢\" : \"21\",\n",
        "      \"性別\" : \"女\"\n",
        "    },\n",
        "    { \n",
        "      \"ID\" : 3,\n",
        "      \"名前\" : \"二郎\",\n",
        "      \"年齢\" : \"53\",\n",
        "      \"性別\" : \"男\"\n",
        "    },\n",
        "    {\n",
        "      \"ID\" : 4,\n",
        "      \"名前\" : \"久志\",\n",
        "      \"年齢\" : \"48\",\n",
        "      \"性別\" : \"女\"\n",
        "    },\n",
        "    {\n",
        "      \"ID\" : 5,\n",
        "      \"名前\" : \"拓郎\",\n",
        "      \"年齢\" : \"28\",\n",
        "      \"性別\" : \"男\"\n",
        "    }\n",
        "]\n",
        "\n",
        "group_binfo = [\n",
        "    { \n",
        "        \"ID\" : 1,\n",
        "      \"担当\" : \"ボーカル\",\n",
        "      \"趣味\" : \"ツイッター\",\n",
        "    },\n",
        "    { \n",
        "      \"ID\" : 2,\n",
        "      \"担当\" : \"ボーカル\",\n",
        "      \"趣味\" : \"犬の散歩\",\n",
        "    },\n",
        "    { \n",
        "      \"ID\" : 3,\n",
        "      \"担当\" : \"ベース\",\n",
        "      \"趣味\" : \"写真\"\n",
        "    },\n",
        "    {\n",
        "      \"ID\" : 4,\n",
        "      \"担当\" : \"ギター\",\n",
        "      \"趣味\" : \"メカニック\"\n",
        "    },\n",
        "    {\n",
        "      \"ID\" : 5,\n",
        "      \"担当\" : \"ギター\",\n",
        "      \"趣味\" : \"執筆活動\"\n",
        "    }\n",
        "]\n",
        "df1 = pd.DataFrame(group_pinfo)\n",
        "df2 = pd.DataFrame(group_binfo)\n",
        "\n",
        "df1.to_csv('group_pinfo.csv', index=None)\n",
        "df2.to_csv('group_binfo.csv', index=None)"
      ],
      "execution_count": null,
      "outputs": []
    },
    {
      "cell_type": "code",
      "metadata": {
        "id": "X_W2W9M0_IbH",
        "colab": {
          "base_uri": "https://localhost:8080/",
          "height": 52
        },
        "outputId": "e21aeb77-f7c5-4cac-cb6a-8e1baaeda97b"
      },
      "source": [
        "!ls group_pinfo.csv\n",
        "!ls group_binfo.csv"
      ],
      "execution_count": null,
      "outputs": [
        {
          "output_type": "stream",
          "text": [
            "group_pinfo.csv\n",
            "group_binfo.csv\n"
          ],
          "name": "stdout"
        }
      ]
    },
    {
      "cell_type": "markdown",
      "metadata": {
        "id": "tQtaHpTZ64Yq"
      },
      "source": [
        "##１０：行数のカウント"
      ]
    },
    {
      "cell_type": "code",
      "metadata": {
        "id": "nS7unKp46H9I",
        "colab": {
          "base_uri": "https://localhost:8080/",
          "height": 123
        },
        "outputId": "adf144a9-4fe9-4f98-8552-d40a9a6a1765"
      },
      "source": [
        "!head -3 \"group_pinfo.csv\"\n",
        "!head -3 \"group_binfo.csv\""
      ],
      "execution_count": null,
      "outputs": [
        {
          "output_type": "stream",
          "text": [
            "ID,名前,年齢,性別\n",
            "1,輝彦,23,男\n",
            "2,歩,21,女\n",
            "ID,担当,趣味\n",
            "1,ボーカル,ツイッター\n",
            "2,ボーカル,犬の散歩\n"
          ],
          "name": "stdout"
        }
      ]
    },
    {
      "cell_type": "code",
      "metadata": {
        "id": "rGdwKFOrbhJ-",
        "colab": {
          "base_uri": "https://localhost:8080/",
          "height": 158
        },
        "outputId": "37f57451-e170-49d9-dfe8-429cc4ad197b"
      },
      "source": [
        "import pandas as pd\n",
        "df1 = pd.read_csv(\"group_pinfo.csv\", index_col=0)\n",
        "df2 = pd.read_csv(\"group_binfo.csv\", index_col=0)\n",
        "\n",
        "print(df1.head(2))\n",
        "print(df2.head(2))"
      ],
      "execution_count": null,
      "outputs": [
        {
          "output_type": "stream",
          "text": [
            "    名前  年齢 性別\n",
            "ID           \n",
            "1   輝彦  23  男\n",
            "2    歩  21  女\n",
            "      担当     趣味\n",
            "ID             \n",
            "1   ボーカル  ツイッター\n",
            "2   ボーカル   犬の散歩\n"
          ],
          "name": "stdout"
        }
      ]
    },
    {
      "cell_type": "markdown",
      "metadata": {
        "id": "VjanLksxFM2v"
      },
      "source": [
        "##１１：レコード数"
      ]
    },
    {
      "cell_type": "code",
      "metadata": {
        "id": "umMv3-J94mjP",
        "colab": {
          "base_uri": "https://localhost:8080/",
          "height": 34
        },
        "outputId": "f169d6e0-2535-4f02-e62b-4c9d1e3b1b71"
      },
      "source": [
        "!tail -n+2 group_pinfo.csv|wc -l"
      ],
      "execution_count": null,
      "outputs": [
        {
          "output_type": "stream",
          "text": [
            "5\n"
          ],
          "name": "stdout"
        }
      ]
    },
    {
      "cell_type": "code",
      "metadata": {
        "id": "rJZW52Yy-ruA",
        "colab": {
          "base_uri": "https://localhost:8080/",
          "height": 34
        },
        "outputId": "e742809a-0447-4d55-a4fd-86532c86ec73"
      },
      "source": [
        "!tail -1 group_pinfo.csv"
      ],
      "execution_count": null,
      "outputs": [
        {
          "output_type": "stream",
          "text": [
            "5,拓郎,28,男\n"
          ],
          "name": "stdout"
        }
      ]
    },
    {
      "cell_type": "code",
      "metadata": {
        "id": "8Fw08tDH_F81",
        "colab": {
          "base_uri": "https://localhost:8080/",
          "height": 105
        },
        "outputId": "4d903f7c-7917-403c-bbf6-b0c57e025922"
      },
      "source": [
        "!tail -n +2 group_pinfo.csv"
      ],
      "execution_count": null,
      "outputs": [
        {
          "output_type": "stream",
          "text": [
            "1,輝彦,23,男\n",
            "2,歩,21,女\n",
            "3,二郎,53,男\n",
            "4,久志,48,女\n",
            "5,拓郎,28,男\n"
          ],
          "name": "stdout"
        }
      ]
    },
    {
      "cell_type": "code",
      "metadata": {
        "id": "LQxznEbuBfuu",
        "colab": {
          "base_uri": "https://localhost:8080/",
          "height": 52
        },
        "outputId": "c707b1cc-bde3-4002-967c-a319e76abe96"
      },
      "source": [
        "!echo -e \"猫 犬\\nりんご　かぼちゃ　なす\""
      ],
      "execution_count": null,
      "outputs": [
        {
          "output_type": "stream",
          "text": [
            "猫 犬\n",
            "りんご　かぼちゃ　なす\n"
          ],
          "name": "stdout"
        }
      ]
    },
    {
      "cell_type": "code",
      "metadata": {
        "id": "RS9em5x3Czzr",
        "colab": {
          "base_uri": "https://localhost:8080/",
          "height": 34
        },
        "outputId": "af5f72c8-90c7-454a-cf9e-c96e5c2a351a"
      },
      "source": [
        "!echo -e \"猫 犬\\nりんご　かぼちゃ　なす\"|wc"
      ],
      "execution_count": null,
      "outputs": [
        {
          "output_type": "stream",
          "text": [
            "      2       5      42\n"
          ],
          "name": "stdout"
        }
      ]
    },
    {
      "cell_type": "code",
      "metadata": {
        "id": "8bZ572CVDU6a",
        "colab": {
          "base_uri": "https://localhost:8080/",
          "height": 34
        },
        "outputId": "15797a62-6f5d-45e6-e4a7-4a5e36b10c1b"
      },
      "source": [
        "!echo -e \"猫 犬\\nりんご　かぼちゃ　なす\"|wc -l"
      ],
      "execution_count": null,
      "outputs": [
        {
          "output_type": "stream",
          "text": [
            "2\n"
          ],
          "name": "stdout"
        }
      ]
    },
    {
      "cell_type": "code",
      "metadata": {
        "id": "V9NHSothDWUH",
        "colab": {
          "base_uri": "https://localhost:8080/",
          "height": 34
        },
        "outputId": "d5364dd9-0be4-45c6-82bf-bd81b8173782"
      },
      "source": [
        "!echo -e \"猫 犬\\nりんご　かぼちゃ　なす\"|wc -w"
      ],
      "execution_count": null,
      "outputs": [
        {
          "output_type": "stream",
          "text": [
            "5\n"
          ],
          "name": "stdout"
        }
      ]
    },
    {
      "cell_type": "code",
      "metadata": {
        "id": "lJH1IxBtDbA0",
        "colab": {
          "base_uri": "https://localhost:8080/",
          "height": 34
        },
        "outputId": "394ea5f2-f4cc-4334-885e-d48142796381"
      },
      "source": [
        "!echo -e \"猫 犬\\nりんご　かぼちゃ　なす\"|wc -c"
      ],
      "execution_count": null,
      "outputs": [
        {
          "output_type": "stream",
          "text": [
            "42\n"
          ],
          "name": "stdout"
        }
      ]
    },
    {
      "cell_type": "code",
      "metadata": {
        "id": "A6lMuXSyDYyp",
        "colab": {
          "base_uri": "https://localhost:8080/",
          "height": 34
        },
        "outputId": "7361e737-0408-4d69-8f6f-8dcb0996d6a1"
      },
      "source": [
        "!echo -e \"猫 犬\\nりんご　かぼちゃ　なす\"|wc -m"
      ],
      "execution_count": null,
      "outputs": [
        {
          "output_type": "stream",
          "text": [
            "16\n"
          ],
          "name": "stdout"
        }
      ]
    },
    {
      "cell_type": "code",
      "metadata": {
        "id": "7PdgRolPGsYq",
        "colab": {
          "base_uri": "https://localhost:8080/",
          "height": 34
        },
        "outputId": "4f646750-8800-46da-d023-ccaf0d39546a"
      },
      "source": [
        "import pandas as pd\n",
        "\n",
        "df1 = pd.read_csv(\"group_pinfo.csv\", index_col=0)\n",
        "len(df1)"
      ],
      "execution_count": null,
      "outputs": [
        {
          "output_type": "execute_result",
          "data": {
            "text/plain": [
              "5"
            ]
          },
          "metadata": {
            "tags": []
          },
          "execution_count": 37
        }
      ]
    },
    {
      "cell_type": "markdown",
      "metadata": {
        "id": "J8uqpf68Hyys"
      },
      "source": [
        "##１２：2つのファイルをIDをキーにして結合"
      ]
    },
    {
      "cell_type": "code",
      "metadata": {
        "id": "27YyPq1zIk2Q"
      },
      "source": [
        "!join -j 1 -t, \"group_pinfo.csv\" \"group_binfo.csv\" > \"group_pbinfo.csv\""
      ],
      "execution_count": null,
      "outputs": []
    },
    {
      "cell_type": "code",
      "metadata": {
        "id": "plUZWjJ3H6qs"
      },
      "source": [
        "import pandas as pd\n",
        "df1 = pd.read_csv(\"group_pinfo.csv\", index_col=0)\n",
        "df2 = pd.read_csv(\"group_binfo.csv\", index_col=0)\n",
        "\n",
        "df3 = pd.merge(df1, df2, on='ID', how='inner')\n",
        "df3.to_csv(\"group_pbinfo.csv\")"
      ],
      "execution_count": null,
      "outputs": []
    },
    {
      "cell_type": "code",
      "metadata": {
        "id": "7zMUWVjxLh6J",
        "colab": {
          "base_uri": "https://localhost:8080/",
          "height": 123
        },
        "outputId": "5e5f312d-c5ad-419c-829f-855ab277aa72"
      },
      "source": [
        "!cat group_pbinfo.csv"
      ],
      "execution_count": null,
      "outputs": [
        {
          "output_type": "stream",
          "text": [
            "ID,名前,年齢,性別,担当,趣味\n",
            "1,輝彦,23,男,ボーカル,ツイッター\n",
            "2,歩,21,女,ボーカル,犬の散歩\n",
            "3,二郎,53,男,ベース,写真\n",
            "4,久志,48,女,ギター,メカニック\n",
            "5,拓郎,28,男,ギター,執筆活動\n"
          ],
          "name": "stdout"
        }
      ]
    },
    {
      "cell_type": "markdown",
      "metadata": {
        "id": "LvMdyHt57DqR"
      },
      "source": [
        "##１３：カンマをスペースに置換\n"
      ]
    },
    {
      "cell_type": "code",
      "metadata": {
        "id": "hOpulsKd6vph",
        "colab": {
          "base_uri": "https://localhost:8080/",
          "height": 123
        },
        "outputId": "9ceeb07c-60ff-4704-f3c8-1fae87903d1b"
      },
      "source": [
        "!sed 's/,/ /g' \"group_pbinfo.csv\""
      ],
      "execution_count": null,
      "outputs": [
        {
          "output_type": "stream",
          "text": [
            "ID 名前 年齢 性別 担当 趣味\n",
            "1 輝彦 23 男 ボーカル ツイッター\n",
            "2 歩 21 女 ボーカル 犬の散歩\n",
            "3 二郎 53 男 ベース 写真\n",
            "4 久志 48 女 ギター メカニック\n",
            "5 拓郎 28 男 ギター 執筆活動\n"
          ],
          "name": "stdout"
        }
      ]
    },
    {
      "cell_type": "code",
      "metadata": {
        "id": "QnvSFg9X8xTy",
        "colab": {
          "base_uri": "https://localhost:8080/",
          "height": 123
        },
        "outputId": "b7ebda3d-48ce-47fa-a436-afb8c8376130"
      },
      "source": [
        "!cat \"group_pbinfo.csv\" | tr ',' ' ' "
      ],
      "execution_count": null,
      "outputs": [
        {
          "output_type": "stream",
          "text": [
            "ID 名前 年齢 性別 担当 趣味\n",
            "1 輝彦 23 男 ボーカル ツイッター\n",
            "2 歩 21 女 ボーカル 犬の散歩\n",
            "3 二郎 53 男 ベース 写真\n",
            "4 久志 48 女 ギター メカニック\n",
            "5 拓郎 28 男 ギター 執筆活動\n"
          ],
          "name": "stdout"
        }
      ]
    },
    {
      "cell_type": "code",
      "metadata": {
        "id": "cgkyBF_KNIKq",
        "colab": {
          "base_uri": "https://localhost:8080/",
          "height": 123
        },
        "outputId": "096ebdd8-22d0-46bb-d4e5-42a7f2244ff8"
      },
      "source": [
        "import pandas as pd\n",
        "df_pb = pd.read_csv(\"group_pbinfo.csv\", index_col=0)\n",
        "df_pb.to_csv(\"group_pbinfo_space.csv\", sep=\" \")\n",
        "!cat \"group_pbinfo_space.csv\""
      ],
      "execution_count": null,
      "outputs": [
        {
          "output_type": "stream",
          "text": [
            "ID 名前 年齢 性別 担当 趣味\n",
            "1 輝彦 23 男 ボーカル ツイッター\n",
            "2 歩 21 女 ボーカル 犬の散歩\n",
            "3 二郎 53 男 ベース 写真\n",
            "4 久志 48 女 ギター メカニック\n",
            "5 拓郎 28 男 ギター 執筆活動\n"
          ],
          "name": "stdout"
        }
      ]
    },
    {
      "cell_type": "markdown",
      "metadata": {
        "id": "SNiyRPmt_ItI"
      },
      "source": [
        "##１４：列の抜き出し"
      ]
    },
    {
      "cell_type": "code",
      "metadata": {
        "id": "Pb53nJQx_OCX",
        "colab": {
          "base_uri": "https://localhost:8080/",
          "height": 247
        },
        "outputId": "1464e317-7419-499e-fb93-1021efcf4705"
      },
      "source": [
        "!cat group_pbinfo.csv |cut --delim=\",\" -f2 > col1.txt\n",
        "!cat group_pbinfo.csv |cut --delim=\",\" -f6 > col2.txt\n",
        "\n",
        "!cat col1.txt\n",
        "!echo '---'\n",
        "!cat col2.txt"
      ],
      "execution_count": null,
      "outputs": [
        {
          "output_type": "stream",
          "text": [
            "名前\n",
            "輝彦\n",
            "歩\n",
            "二郎\n",
            "久志\n",
            "拓郎\n",
            "---\n",
            "趣味\n",
            "ツイッター\n",
            "犬の散歩\n",
            "写真\n",
            "メカニック\n",
            "執筆活動\n"
          ],
          "name": "stdout"
        }
      ]
    },
    {
      "cell_type": "code",
      "metadata": {
        "id": "usqzLFYzPgls",
        "colab": {
          "base_uri": "https://localhost:8080/",
          "height": 247
        },
        "outputId": "024e98a5-a2a3-4b5b-f6b8-0c10a651bd81"
      },
      "source": [
        "import pandas as pd\n",
        "df_pb = pd.read_csv(\"group_pbinfo.csv\", index_col=0)\n",
        "df_pb['名前'].to_csv('col1.txt', index=None)\n",
        "df_pb['趣味'].to_csv('col2.txt', index=None)\n",
        "\n",
        "!cat col1.txt\n",
        "!echo '---'\n",
        "!cat col2.txt"
      ],
      "execution_count": null,
      "outputs": [
        {
          "output_type": "stream",
          "text": [
            "名前\n",
            "輝彦\n",
            "歩\n",
            "二郎\n",
            "久志\n",
            "拓郎\n",
            "---\n",
            "趣味\n",
            "ツイッター\n",
            "犬の散歩\n",
            "写真\n",
            "メカニック\n",
            "執筆活動\n"
          ],
          "name": "stdout"
        }
      ]
    },
    {
      "cell_type": "code",
      "metadata": {
        "id": "b6ND0R2g2UJr",
        "colab": {
          "base_uri": "https://localhost:8080/",
          "height": 34
        },
        "outputId": "7f64efbf-5353-418c-8179-2f25cb6d17b3"
      },
      "source": [
        "type(df_pb['名前'])"
      ],
      "execution_count": null,
      "outputs": [
        {
          "output_type": "execute_result",
          "data": {
            "text/plain": [
              "pandas.core.series.Series"
            ]
          },
          "metadata": {
            "tags": []
          },
          "execution_count": 46
        }
      ]
    },
    {
      "cell_type": "markdown",
      "metadata": {
        "id": "gGEEq4Q7QQxk"
      },
      "source": [
        "##１５：行を挿入"
      ]
    },
    {
      "cell_type": "code",
      "metadata": {
        "id": "zN1g1Hbx34yX",
        "colab": {
          "base_uri": "https://localhost:8080/",
          "height": 123
        },
        "outputId": "0e69e8f1-916d-4420-a07d-288e58e20a2f"
      },
      "source": [
        "!cat group_pbinfo.csv"
      ],
      "execution_count": null,
      "outputs": [
        {
          "output_type": "stream",
          "text": [
            "ID,名前,年齢,性別,担当,趣味\n",
            "1,輝彦,23,男,ボーカル,ツイッター\n",
            "2,歩,21,女,ボーカル,犬の散歩\n",
            "3,二郎,53,男,ベース,写真\n",
            "4,久志,48,女,ギター,メカニック\n",
            "5,拓郎,28,男,ギター,執筆活動\n"
          ],
          "name": "stdout"
        }
      ]
    },
    {
      "cell_type": "code",
      "metadata": {
        "id": "QDSZkxhp4QPW",
        "colab": {
          "base_uri": "https://localhost:8080/",
          "height": 141
        },
        "outputId": "23f5231d-d584-46b4-e52e-6f8bee772bf9"
      },
      "source": [
        "cat group_pbinfo.csv |sed -e \"2a 6,としお,54,男,ボーカル,クッキング\""
      ],
      "execution_count": null,
      "outputs": [
        {
          "output_type": "stream",
          "text": [
            "ID,名前,年齢,性別,担当,趣味\n",
            "1,輝彦,23,男,ボーカル,ツイッター\n",
            "6,としお,54,男,ボーカル,クッキング\n",
            "2,歩,21,女,ボーカル,犬の散歩\n",
            "3,二郎,53,男,ベース,写真\n",
            "4,久志,48,女,ギター,メカニック\n",
            "5,拓郎,28,男,ギター,執筆活動\n"
          ],
          "name": "stdout"
        }
      ]
    },
    {
      "cell_type": "code",
      "metadata": {
        "id": "B1YwfGNg5yUr",
        "colab": {
          "base_uri": "https://localhost:8080/",
          "height": 158
        },
        "outputId": "38fad986-96dd-4d56-9f86-a6d2bf9a1534"
      },
      "source": [
        "import pandas as pd\n",
        "df_pb = pd.read_csv(\"group_pbinfo.csv\")\n",
        "df_pb1 = df_pb.iloc[:1, :]\n",
        "df_pb2 = df_pb.iloc[1:, :]\n",
        "dfi = pd.DataFrame([{\"ID\":6, \"名前\" : \"としお\", \"年齢\" : 54, \"性別\" : \"男\", \"担当\" : \"ボーカル\", \"趣味\" : \"クッキング\"}], index=[6])\n",
        "df_con = pd.concat([df_pb1, dfi, df_pb2]).set_index('ID')\n",
        "print(df_con)"
      ],
      "execution_count": null,
      "outputs": [
        {
          "output_type": "stream",
          "text": [
            "     名前  年齢 性別    担当     趣味\n",
            "ID                         \n",
            "1    輝彦  23  男  ボーカル  ツイッター\n",
            "6   としお  54  男  ボーカル  クッキング\n",
            "2     歩  21  女  ボーカル   犬の散歩\n",
            "3    二郎  53  男   ベース     写真\n",
            "4    久志  48  女   ギター  メカニック\n",
            "5    拓郎  28  男   ギター   執筆活動\n"
          ],
          "name": "stdout"
        }
      ]
    },
    {
      "cell_type": "markdown",
      "metadata": {
        "id": "7Vh140wn3HbP"
      },
      "source": [
        "##１６：ファイルを２分割する\n"
      ]
    },
    {
      "cell_type": "code",
      "metadata": {
        "id": "O4K4iEJ8Ch34",
        "colab": {
          "base_uri": "https://localhost:8080/",
          "height": 123
        },
        "outputId": "44240066-119c-434c-ed69-4b8942f3b944"
      },
      "source": [
        "!split -n 2 group_pbinfo.csv pn-\n",
        "!cat pn-aa\n",
        "!cat pn-ab"
      ],
      "execution_count": null,
      "outputs": [
        {
          "output_type": "stream",
          "text": [
            "ID,名前,年齢,性別,担当,趣味\n",
            "1,輝彦,23,男,ボーカル,ツイッター\n",
            "2,歩,21,女,ボーカル,犬の散歩\n",
            "3,二郎,53,男,ベース,写真\n",
            "4,久志,48,女,ギター,メカニック\n",
            "5,拓郎,28,男,ギター,執筆活動\n"
          ],
          "name": "stdout"
        }
      ]
    },
    {
      "cell_type": "code",
      "metadata": {
        "id": "0MX6kd14w4lw",
        "colab": {
          "base_uri": "https://localhost:8080/",
          "height": 123
        },
        "outputId": "7ddd1b83-ed7c-4912-bb56-7a846b3e09da"
      },
      "source": [
        "import pandas as pd\n",
        "df_pbi = pd.read_csv('group_pbinfo.csv')\n",
        "n = 2\n",
        "div_idx = len(df_pbi)//n\n",
        "df_pbi.iloc[0:div_idx, :].to_csv('pbi_aa.csv', index=None)\n",
        "df_pbi.iloc[div_idx:, :].to_csv('pbi_ab.csv', header=None, index=None)\n",
        "!cat pbi_aa.csv\n",
        "!cat pbi_ab.csv"
      ],
      "execution_count": null,
      "outputs": [
        {
          "output_type": "stream",
          "text": [
            "ID,名前,年齢,性別,担当,趣味\n",
            "1,輝彦,23,男,ボーカル,ツイッター\n",
            "2,歩,21,女,ボーカル,犬の散歩\n",
            "3,二郎,53,男,ベース,写真\n",
            "4,久志,48,女,ギター,メカニック\n",
            "5,拓郎,28,男,ギター,執筆活動\n"
          ],
          "name": "stdout"
        }
      ]
    },
    {
      "cell_type": "code",
      "metadata": {
        "id": "kOrJEgAm7Q7b",
        "colab": {
          "base_uri": "https://localhost:8080/",
          "height": 158
        },
        "outputId": "e74519a7-59e1-4454-c968-7ffb8fa0cd59"
      },
      "source": [
        "import pandas as pd\n",
        "df_pbi = pd.read_csv('group_pbinfo.csv')\n",
        "n = 3\n",
        "\n",
        "div_idx = len(df_pbi)//n\n",
        "\n",
        "i = 1\n",
        "start_idx = 0\n",
        "end_idx = div_idx\n",
        "while True:\n",
        "  if i == n:\n",
        "    df_pbi.iloc[start_idx:, :].to_csv(f'pbi_{str(i).zfill(2)}.csv', index=None)\n",
        "    break\n",
        "  df_pbi.iloc[start_idx:end_idx, :].to_csv(f'pbi_{str(i).zfill(2)}.csv', index=None)\n",
        "  start_idx += div_idx\n",
        "  end_idx += div_idx \n",
        "  i += 1\n",
        "\n",
        "!cat pbi_01.csv\n",
        "!cat pbi_02.csv\n",
        "!cat pbi_03.csv"
      ],
      "execution_count": null,
      "outputs": [
        {
          "output_type": "stream",
          "text": [
            "ID,名前,年齢,性別,担当,趣味\n",
            "1,輝彦,23,男,ボーカル,ツイッター\n",
            "ID,名前,年齢,性別,担当,趣味\n",
            "2,歩,21,女,ボーカル,犬の散歩\n",
            "ID,名前,年齢,性別,担当,趣味\n",
            "3,二郎,53,男,ベース,写真\n",
            "4,久志,48,女,ギター,メカニック\n",
            "5,拓郎,28,男,ギター,執筆活動\n"
          ],
          "name": "stdout"
        }
      ]
    },
    {
      "cell_type": "markdown",
      "metadata": {
        "id": "ZXHJbBLCS3Gi"
      },
      "source": [
        "##１７：特定列のユニークな要素"
      ]
    },
    {
      "cell_type": "code",
      "metadata": {
        "id": "0488mtQN3Xwx",
        "colab": {
          "base_uri": "https://localhost:8080/",
          "height": 70
        },
        "outputId": "5b5d153f-ec35-4d5c-a28e-2508da0a814e"
      },
      "source": [
        "!tail -n+2 group_pbinfo.csv |cut --delim=\",\" -f5|uniq -i"
      ],
      "execution_count": null,
      "outputs": [
        {
          "output_type": "stream",
          "text": [
            "ボーカル\n",
            "ベース\n",
            "ギター\n"
          ],
          "name": "stdout"
        }
      ]
    },
    {
      "cell_type": "code",
      "metadata": {
        "id": "dmugNQfmTKGV",
        "colab": {
          "base_uri": "https://localhost:8080/",
          "height": 34
        },
        "outputId": "d96427d7-0994-494f-eef9-d4adf5e54a52"
      },
      "source": [
        "import pandas as pd\n",
        "df = pd.read_csv('group_pbinfo.csv')\n",
        "print(df.iloc[:, 4].unique())"
      ],
      "execution_count": null,
      "outputs": [
        {
          "output_type": "stream",
          "text": [
            "['ボーカル' 'ベース' 'ギター']\n"
          ],
          "name": "stdout"
        }
      ]
    },
    {
      "cell_type": "code",
      "metadata": {
        "id": "djqY5R7RxNb2",
        "colab": {
          "base_uri": "https://localhost:8080/",
          "height": 34
        },
        "outputId": "a0b2d567-e1f2-4607-b222-85634996e501"
      },
      "source": [
        "import pandas as pd\n",
        "df = pd.read_csv('group_pbinfo.csv')\n",
        "print(df[\"担当\"].unique())"
      ],
      "execution_count": null,
      "outputs": [
        {
          "output_type": "stream",
          "text": [
            "['ボーカル' 'ベース' 'ギター']\n"
          ],
          "name": "stdout"
        }
      ]
    },
    {
      "cell_type": "code",
      "metadata": {
        "id": "BmStzjnju2Pj",
        "colab": {
          "base_uri": "https://localhost:8080/",
          "height": 34
        },
        "outputId": "0df8ceaf-2521-47f6-90ef-7a37cbe597cf"
      },
      "source": [
        "df.columns"
      ],
      "execution_count": null,
      "outputs": [
        {
          "output_type": "execute_result",
          "data": {
            "text/plain": [
              "Index(['ID', '名前', '年齢', '性別', '担当', '趣味'], dtype='object')"
            ]
          },
          "metadata": {
            "tags": []
          },
          "execution_count": 56
        }
      ]
    },
    {
      "cell_type": "markdown",
      "metadata": {
        "id": "j6GbKOPOQ9RO"
      },
      "source": [
        "##１８：数値の降順ソート"
      ]
    },
    {
      "cell_type": "code",
      "metadata": {
        "id": "Bw_t3vYLTjrr",
        "colab": {
          "base_uri": "https://localhost:8080/",
          "height": 105
        },
        "outputId": "05868c19-39ec-4a42-b217-f3a368050845"
      },
      "source": [
        "!tail -n+2 group_pbinfo.csv|sort -r -n -k 3 -t\",\""
      ],
      "execution_count": null,
      "outputs": [
        {
          "output_type": "stream",
          "text": [
            "3,二郎,53,男,ベース,写真\n",
            "4,久志,48,女,ギター,メカニック\n",
            "5,拓郎,28,男,ギター,執筆活動\n",
            "1,輝彦,23,男,ボーカル,ツイッター\n",
            "2,歩,21,女,ボーカル,犬の散歩\n"
          ],
          "name": "stdout"
        }
      ]
    },
    {
      "cell_type": "code",
      "metadata": {
        "id": "UFRdy0femkl_",
        "colab": {
          "base_uri": "https://localhost:8080/",
          "height": 197
        },
        "outputId": "9d82c8ac-ade1-4971-db27-5bb2370ef4a3"
      },
      "source": [
        "import pandas as pd\n",
        "df = pd.read_csv(\"group_pbinfo.csv\")\n",
        "df.sort_values('年齢', ascending=False)"
      ],
      "execution_count": null,
      "outputs": [
        {
          "output_type": "execute_result",
          "data": {
            "text/html": [
              "<div>\n",
              "<style scoped>\n",
              "    .dataframe tbody tr th:only-of-type {\n",
              "        vertical-align: middle;\n",
              "    }\n",
              "\n",
              "    .dataframe tbody tr th {\n",
              "        vertical-align: top;\n",
              "    }\n",
              "\n",
              "    .dataframe thead th {\n",
              "        text-align: right;\n",
              "    }\n",
              "</style>\n",
              "<table border=\"1\" class=\"dataframe\">\n",
              "  <thead>\n",
              "    <tr style=\"text-align: right;\">\n",
              "      <th></th>\n",
              "      <th>ID</th>\n",
              "      <th>名前</th>\n",
              "      <th>年齢</th>\n",
              "      <th>性別</th>\n",
              "      <th>担当</th>\n",
              "      <th>趣味</th>\n",
              "    </tr>\n",
              "  </thead>\n",
              "  <tbody>\n",
              "    <tr>\n",
              "      <th>2</th>\n",
              "      <td>3</td>\n",
              "      <td>二郎</td>\n",
              "      <td>53</td>\n",
              "      <td>男</td>\n",
              "      <td>ベース</td>\n",
              "      <td>写真</td>\n",
              "    </tr>\n",
              "    <tr>\n",
              "      <th>3</th>\n",
              "      <td>4</td>\n",
              "      <td>久志</td>\n",
              "      <td>48</td>\n",
              "      <td>女</td>\n",
              "      <td>ギター</td>\n",
              "      <td>メカニック</td>\n",
              "    </tr>\n",
              "    <tr>\n",
              "      <th>4</th>\n",
              "      <td>5</td>\n",
              "      <td>拓郎</td>\n",
              "      <td>28</td>\n",
              "      <td>男</td>\n",
              "      <td>ギター</td>\n",
              "      <td>執筆活動</td>\n",
              "    </tr>\n",
              "    <tr>\n",
              "      <th>0</th>\n",
              "      <td>1</td>\n",
              "      <td>輝彦</td>\n",
              "      <td>23</td>\n",
              "      <td>男</td>\n",
              "      <td>ボーカル</td>\n",
              "      <td>ツイッター</td>\n",
              "    </tr>\n",
              "    <tr>\n",
              "      <th>1</th>\n",
              "      <td>2</td>\n",
              "      <td>歩</td>\n",
              "      <td>21</td>\n",
              "      <td>女</td>\n",
              "      <td>ボーカル</td>\n",
              "      <td>犬の散歩</td>\n",
              "    </tr>\n",
              "  </tbody>\n",
              "</table>\n",
              "</div>"
            ],
            "text/plain": [
              "   ID  名前  年齢 性別    担当     趣味\n",
              "2   3  二郎  53  男   ベース     写真\n",
              "3   4  久志  48  女   ギター  メカニック\n",
              "4   5  拓郎  28  男   ギター   執筆活動\n",
              "0   1  輝彦  23  男  ボーカル  ツイッター\n",
              "1   2   歩  21  女  ボーカル   犬の散歩"
            ]
          },
          "metadata": {
            "tags": []
          },
          "execution_count": 58
        }
      ]
    },
    {
      "cell_type": "markdown",
      "metadata": {
        "id": "IwsKAXSJdi9f"
      },
      "source": [
        "##１９：特定列の要素の出現頻度を求め、出現頻度の高い順に並べる\n"
      ]
    },
    {
      "cell_type": "code",
      "metadata": {
        "id": "ukWoyxTzobBj",
        "colab": {
          "base_uri": "https://localhost:8080/",
          "height": 70
        },
        "outputId": "783a2792-f577-4822-9259-6b8ac3f32019"
      },
      "source": [
        "!tail -n+2 group_pbinfo.csv|cut --delim=\",\" -f5|uniq -c -i|sort -k1 -r -n"
      ],
      "execution_count": null,
      "outputs": [
        {
          "output_type": "stream",
          "text": [
            "      2 ボーカル\n",
            "      2 ギター\n",
            "      1 ベース\n"
          ],
          "name": "stdout"
        }
      ]
    },
    {
      "cell_type": "code",
      "metadata": {
        "id": "7PMxrXaYe-Zz",
        "colab": {
          "base_uri": "https://localhost:8080/",
          "height": 70
        },
        "outputId": "d081e20a-0923-46dd-c1c1-95274df151ba"
      },
      "source": [
        "!tail -n+2 group_pbinfo.csv|cut --delim=\",\" -f5 | awk '{count[$0]++}END{for(i in count)print count[i], i}'|sort -rnk1"
      ],
      "execution_count": null,
      "outputs": [
        {
          "output_type": "stream",
          "text": [
            "2 ボーカル\n",
            "2 ギター\n",
            "1 ベース\n"
          ],
          "name": "stdout"
        }
      ]
    },
    {
      "cell_type": "code",
      "metadata": {
        "id": "-id4PbHXpV-L",
        "colab": {
          "base_uri": "https://localhost:8080/",
          "height": 87
        },
        "outputId": "810b67dc-392e-4348-968c-4019121107fa"
      },
      "source": [
        "import pandas as pd\n",
        "\n",
        "df = pd.read_csv('group_pbinfo.csv')\n",
        "df['担当'].value_counts()"
      ],
      "execution_count": null,
      "outputs": [
        {
          "output_type": "execute_result",
          "data": {
            "text/plain": [
              "ギター     2\n",
              "ボーカル    2\n",
              "ベース     1\n",
              "Name: 担当, dtype: int64"
            ]
          },
          "metadata": {
            "tags": []
          },
          "execution_count": 61
        }
      ]
    },
    {
      "cell_type": "markdown",
      "metadata": {
        "id": "SQUXVyulsTDJ"
      },
      "source": [
        "# 第3章　正規表現"
      ]
    },
    {
      "cell_type": "markdown",
      "metadata": {
        "id": "yo2IBzFHcqpE"
      },
      "source": [
        "##２０：正規表現を使ったURL抽出\n",
        "\n"
      ]
    },
    {
      "cell_type": "code",
      "metadata": {
        "id": "zt9Nzmu0cjXH",
        "colab": {
          "base_uri": "https://localhost:8080/",
          "height": 72
        },
        "outputId": "b43148e2-05df-40ab-e672-cc5e9907e1c0"
      },
      "source": [
        "# 2020/6/20 の神草ツイート５つ\n",
        "\n",
        "tw_strings = [\"\"\"\n",
        "今日から、100 #numpy  exercisesを始めます！\n",
        "3. Create a null vector of size 10\n",
        "\n",
        "a = np.zeros(10)\n",
        "print(a)\n",
        "\n",
        "#python\n",
        "#プログラミング初心者\n",
        "#Progate\n",
        "#駆け出しエンジニアと繋がりたい\"\"\",\n",
        "\"\"\"\n",
        "今日から、100 #numpy  exercisesを始めます！\n",
        "\n",
        "2. Print the numpy version and the configuration\n",
        "\n",
        "print(np.__version__)\n",
        "print(np.show_config())\n",
        "\n",
        "#python\n",
        "#プログラミング初心者\n",
        "#Progate\n",
        "#駆け出しエンジニアと繋がりたい\"\"\",\n",
        "\"\"\"\n",
        "今日から、100 #numpy  exercisesを始めます！\n",
        "何か勉強してないと落ち着かない勉強中毒になりつつある...\n",
        "\n",
        "1. Import the numpy package under the name np\n",
        "\n",
        "import numpy as np\n",
        "\n",
        "#python\n",
        "#プログラミング初心者\n",
        "#Progate\n",
        "#駆け出しエンジニアと繋がりたい\"\"\",\n",
        "\"\"\"\n",
        "自分は何のために休日も個人開発や書籍書いてるんだろうって思ってたら、竹花さんのスピーチ見つけた。\n",
        "\n",
        "「好きなことして得た3000円の価値は、好きじゃないことして得た30万円よりも大きい。」\n",
        "\n",
        "https://youtube.com/watch?v=duv1D2-v4Uc\n",
        "\n",
        "#python\n",
        "#プログラミング初心者\n",
        "#Progate\n",
        "#駆け出しエンジニアと繋がりたい\"\"\",\n",
        "\"\"\"\n",
        "#JDLA #G検定　2週間後に受けようと思っていて黒本も白本も終わった方はこちらで腕試ししてみてください！\n",
        "\n",
        "あと一点で合格ということがないように！\n",
        "\n",
        "225問本番の形式で受けれるサイトです。\n",
        "\n",
        "http://bit.ly/2QfvJwO\n",
        "\n",
        "http://amzn.to/2znu2Wp（模試解説）\n",
        "\n",
        "#駆け出しエンジニアと繋がりたい\"\"\"]\n",
        "\n",
        "import re\n",
        "\n",
        "pattern1 = r\"https?://[a-zA-Z0-9-./?=]*\"\n",
        "pattern2 = r\"https?://[\\w/:%#\\$&\\?\\(\\)~\\.=\\+\\-]+\"\n",
        "\n",
        "print(re.findall(pattern1, \"\".join(tw_strings)))\n",
        "print(re.findall(pattern2, \"\".join(tw_strings)))\n"
      ],
      "execution_count": null,
      "outputs": [
        {
          "output_type": "stream",
          "text": [
            "['https://youtube.com/watch?v=duv1D2-v4Uc', 'http://bit.ly/2QfvJwO', 'http://amzn.to/2znu2Wp']\n",
            "['https://youtube.com/watch?v=duv1D2-v4Uc', 'http://bit.ly/2QfvJwO', 'http://amzn.to/2znu2Wp']\n"
          ],
          "name": "stdout"
        }
      ]
    },
    {
      "cell_type": "markdown",
      "metadata": {
        "id": "Ix1NcnTTGFxM"
      },
      "source": [
        "## ２１：JSONデータの読み込み"
      ]
    },
    {
      "cell_type": "code",
      "metadata": {
        "id": "itiuSltMAWLX",
        "colab": {
          "base_uri": "https://localhost:8080/",
          "height": 161
        },
        "outputId": "09a69b36-6529-418b-db57-862cebe4363b"
      },
      "source": [
        "import requests\n",
        "import json\n",
        "import urllib\n",
        "\n",
        "title = \"新型コロナウイルス\"\n",
        "params = {\n",
        "    \"action\": \"parse\",\n",
        "    \"format\": \"json\",\n",
        "    \"page\": title,\n",
        "    \"prop\": \"wikitext\",\n",
        "    \"formatversion\":2\n",
        "}\n",
        "url = \"https://ja.wikipedia.org/w/api.php\"\n",
        "headers = {\"content-type\": \"application/json\"}\n",
        "r = requests.get(url=url, params=params, headers=headers)\n",
        "data = r.json()\n",
        "\n",
        "print(json.dumps(data, indent=4, ensure_ascii=False))"
      ],
      "execution_count": null,
      "outputs": [
        {
          "output_type": "stream",
          "text": [
            "{\n",
            "    \"parse\": {\n",
            "        \"title\": \"新型コロナウイルス\",\n",
            "        \"pageid\": 4070991,\n",
            "        \"wikitext\": \"'''新型コロナウイルス'''（しんがたコロナウイルス、{{lang-en|Novel coronavirus, nCoV}}）とは、[[コロナウイルス科]]ウイルスのうち、新型のもの。特に[[ヒトコロナウイルス]]について良く用いられる。別称「'''新型コロナ'''」。\\n\\n== 2020年現在新型コロナウイルスと広く呼称されるもの ==\\n*'''[[重症急性呼吸器症候群コロナウイルス2型|2019新型コロナウイルス]]'''（2019-nCoV, SARS-CoV-2） - 2019年11月に初感染者が出て、2020年1月に新型の[[コロナウイルス]]であることが確認された。日本語ではSARSコロナウイルス-2とも表記される。\\n** [[新型コロナウイルス感染症 (2019年)|新型コロナウイルス感染症]]（COVID-19） - 上記のウイルスにより引き起こされるこの[[病気|疾患]]（[[気道感染|呼吸器疾患]]等症状）そのものを単に指す場合もある。<!--SARS、MERSの場合はそのまま疾患名称が一般で広く使われたが、COVID-19は現状あまり広まっていない。-->「[[新型コロナウイルス感染症の流行 (2019年-)]]」も参照。\\n<!--\\n** また、2020年3月までに[[パンデミック|世界的に感染が拡大]]している事態そのものを指す場合もある。 →「[[新型コロナウイルス感染症の流行 (2019年-)]]」を参照-->\\n** その他の関連する事項は「[[:Category:2019新型コロナウイルス感染症]]」を参照。\\n\\n== 当初は新型コロナウイルスと呼ばれていたもの ==\\n{{出典の明記|date=2020年4月|section=1|以下のウイルスが「当初は新型コロナウイルスと呼ばれていた 」ことを証明する出典が提示されていない。}}\\n\\n* 2002年 '''[[SARSコロナウイルス]]'''（SARS-CoV）<ref>田口文広「[https://doi.org/10.2222/jsv.53.201 SARSコロナウイルス]」『ウイルス』 第53巻 第2号, p.201-209, 2003年, 日本ウイルス学会, {{doi|10.2222/jsv.53.201}} で「従来とは異なるタイプの新たなコロナウイルス」との表現がある。</ref> - 2002年11月頃から2003年7月にかけて流行した[[重症急性呼吸器症候群]]（SARS）の原因となるウイルス。\\n* 2005年 [[ヒトコロナウイルスHKU1]]（HCoV-HKU1）\\n* 2012年 '''[[MERSコロナウイルス]]'''（MERS-CoV）- 2012年7月に[[エラスムス大学医療センター]]でコロナウイルスが分離されたため、当初はHCoV-EMC（Human coronavirus- Erasmus Medical Center, ヒトコロナウイルス-エラスムス大学医療センター）とも呼ばれていた<ref name=mizt>水谷哲也,「[https://doi.org/10.2222/jsv.63.1 新種のコロナウイルス]」『ウイルス』 63巻 1号，p.1-6, 2013年, 日本ウイルス学会, {{doi|10.2222/jsv.63.1}}。</ref>。当初は「新型コロナウイルス」等と呼ばれていた<ref name=mizt/>が、2013年5月に[[国際ウイルス分類委員会]]が[[病原体]]名を「Middle East respiratory syndrome coronavirus (MERS-CoV)」と命名<ref>[http://jvi.asm.org/content/early/2013/05/08/JVI.01244-13.full.pdf Middle East Respiratory Syndrome Coronavirus (MERS-CoV); Announcement of the Coronavirus Study Group] Journal of Virology, Published ahead of print 15 May 2013, doi: 10.1128/JVI.01244-13</ref>、WHOの決定を受けて<ref>[http://www.who.int/entity/csr/disease/coronavirus_infections/NamingCoV_28May13.pdf Naming of the Novel Coronavirus] WHO, 28 May 2013</ref>、厚生労働省はウイルスの名称をMERS（マーズ）コロナウイルスと名付け、感染症名を[[中東呼吸器症候群]]（MERS）と決定した<ref>[http://www.mhlw.go.jp/stf/houdou/2r98520000032vm4.html アラビア半島諸国で発生が報告されている新種のコロナウイルスによる感染症の呼称について] 厚生労働省平成25年5月24日</ref>。\\n\\n== 脚注 ==\\n{{Reflist}}\\n\\n== 関連項目 ==\\n* [[コロナウイルス感染症]]\\n* [[新型肺炎]]\\n\\n{{aimai}}\\n{{デフォルトソート:しんかたころなういるす}}\\n[[Category:コロナウイルス]]\"\n",
            "    }\n",
            "}\n"
          ],
          "name": "stdout"
        }
      ]
    },
    {
      "cell_type": "markdown",
      "metadata": {
        "id": "BlyVFgYEQpEE"
      },
      "source": [
        ""
      ]
    },
    {
      "cell_type": "markdown",
      "metadata": {
        "id": "tK7YENkvQc-9"
      },
      "source": [
        "##２２： 記事本文の抽出"
      ]
    },
    {
      "cell_type": "markdown",
      "metadata": {
        "id": "4KBxUOQsJT1D"
      },
      "source": [
        "### 解法1\n"
      ]
    },
    {
      "cell_type": "code",
      "metadata": {
        "id": "P-_agOYVDNe7",
        "colab": {
          "base_uri": "https://localhost:8080/",
          "height": 373
        },
        "outputId": "6a204ce5-9584-42c5-c98b-194bdbdd4704"
      },
      "source": [
        "data[\"parse\"][\"wikitext\"]"
      ],
      "execution_count": null,
      "outputs": [
        {
          "output_type": "execute_result",
          "data": {
            "application/vnd.google.colaboratory.intrinsic+json": {
              "type": "string"
            },
            "text/plain": [
              "\"'''新型コロナウイルス'''（しんがたコロナウイルス、{{lang-en|Novel coronavirus, nCoV}}）とは、[[コロナウイルス科]]ウイルスのうち、新型のもの。特に[[ヒトコロナウイルス]]について良く用いられる。別称「'''新型コロナ'''」。\\n\\n== 2020年現在新型コロナウイルスと広く呼称されるもの ==\\n*'''[[重症急性呼吸器症候群コロナウイルス2型|2019新型コロナウイルス]]'''（2019-nCoV, SARS-CoV-2） - 2019年11月に初感染者が出て、2020年1月に新型の[[コロナウイルス]]であることが確認された。日本語ではSARSコロナウイルス-2とも表記される。\\n** [[新型コロナウイルス感染症 (2019年)|新型コロナウイルス感染症]]（COVID-19） - 上記のウイルスにより引き起こされるこの[[病気|疾患]]（[[気道感染|呼吸器疾患]]等症状）そのものを単に指す場合もある。<!--SARS、MERSの場合はそのまま疾患名称が一般で広く使われたが、COVID-19は現状あまり広まっていない。-->「[[新型コロナウイルス感染症の流行 (2019年-)]]」も参照。\\n<!--\\n** また、2020年3月までに[[パンデミック|世界的に感染が拡大]]している事態そのものを指す場合もある。 →「[[新型コロナウイルス感染症の流行 (2019年-)]]」を参照-->\\n** その他の関連する事項は「[[:Category:2019新型コロナウイルス感染症]]」を参照。\\n\\n== 当初は新型コロナウイルスと呼ばれていたもの ==\\n{{出典の明記|date=2020年4月|section=1|以下のウイルスが「当初は新型コロナウイルスと呼ばれていた 」ことを証明する出典が提示されていない。}}\\n\\n* 2002年 '''[[SARSコロナウイルス]]'''（SARS-CoV）<ref>田口文広「[https://doi.org/10.2222/jsv.53.201 SARSコロナウイルス]」『ウイルス』 第53巻 第2号, p.201-209, 2003年, 日本ウイルス学会, {{doi|10.2222/jsv.53.201}} で「従来とは異なるタイプの新たなコロナウイルス」との表現がある。</ref> - 2002年11月頃から2003年7月にかけて流行した[[重症急性呼吸器症候群]]（SARS）の原因となるウイルス。\\n* 2005年 [[ヒトコロナウイルスHKU1]]（HCoV-HKU1）\\n* 2012年 '''[[MERSコロナウイルス]]'''（MERS-CoV）- 2012年7月に[[エラスムス大学医療センター]]でコロナウイルスが分離されたため、当初はHCoV-EMC（Human coronavirus- Erasmus Medical Center, ヒトコロナウイルス-エラスムス大学医療センター）とも呼ばれていた<ref name=mizt>水谷哲也,「[https://doi.org/10.2222/jsv.63.1 新種のコロナウイルス]」『ウイルス』 63巻 1号，p.1-6, 2013年, 日本ウイルス学会, {{doi|10.2222/jsv.63.1}}。</ref>。当初は「新型コロナウイルス」等と呼ばれていた<ref name=mizt/>が、2013年5月に[[国際ウイルス分類委員会]]が[[病原体]]名を「Middle East respiratory syndrome coronavirus (MERS-CoV)」と命名<ref>[http://jvi.asm.org/content/early/2013/05/08/JVI.01244-13.full.pdf Middle East Respiratory Syndrome Coronavirus (MERS-CoV); Announcement of the Coronavirus Study Group] Journal of Virology, Published ahead of print 15 May 2013, doi: 10.1128/JVI.01244-13</ref>、WHOの決定を受けて<ref>[http://www.who.int/entity/csr/disease/coronavirus_infections/NamingCoV_28May13.pdf Naming of the Novel Coronavirus] WHO, 28 May 2013</ref>、厚生労働省はウイルスの名称をMERS（マーズ）コロナウイルスと名付け、感染症名を[[中東呼吸器症候群]]（MERS）と決定した<ref>[http://www.mhlw.go.jp/stf/houdou/2r98520000032vm4.html アラビア半島諸国で発生が報告されている新種のコロナウイルスによる感染症の呼称について] 厚生労働省平成25年5月24日</ref>。\\n\\n== 脚注 ==\\n{{Reflist}}\\n\\n== 関連項目 ==\\n* [[コロナウイルス感染症]]\\n* [[新型肺炎]]\\n\\n{{aimai}}\\n{{デフォルトソート:しんかたころなういるす}}\\n[[Category:コロナウイルス]]\""
            ]
          },
          "metadata": {
            "tags": []
          },
          "execution_count": 64
        }
      ]
    },
    {
      "cell_type": "markdown",
      "metadata": {
        "id": "TBxOlBcpJZId"
      },
      "source": [
        "### 解法2"
      ]
    },
    {
      "cell_type": "code",
      "metadata": {
        "id": "NAXS1h3gJ4lr",
        "colab": {
          "base_uri": "https://localhost:8080/",
          "height": 373
        },
        "outputId": "45bc54d7-9649-49a9-9491-d5391621fa36"
      },
      "source": [
        "import re\n",
        "wikitext = re.search(r'wikitext\":(.*?)\\n', ''.join(json.dumps(data, indent=4, ensure_ascii=False)))\n",
        "wikitext.group(1)"
      ],
      "execution_count": null,
      "outputs": [
        {
          "output_type": "execute_result",
          "data": {
            "application/vnd.google.colaboratory.intrinsic+json": {
              "type": "string"
            },
            "text/plain": [
              "' \"\\'\\'\\'新型コロナウイルス\\'\\'\\'（しんがたコロナウイルス、{{lang-en|Novel coronavirus, nCoV}}）とは、[[コロナウイルス科]]ウイルスのうち、新型のもの。特に[[ヒトコロナウイルス]]について良く用いられる。別称「\\'\\'\\'新型コロナ\\'\\'\\'」。\\\\n\\\\n== 2020年現在新型コロナウイルスと広く呼称されるもの ==\\\\n*\\'\\'\\'[[重症急性呼吸器症候群コロナウイルス2型|2019新型コロナウイルス]]\\'\\'\\'（2019-nCoV, SARS-CoV-2） - 2019年11月に初感染者が出て、2020年1月に新型の[[コロナウイルス]]であることが確認された。日本語ではSARSコロナウイルス-2とも表記される。\\\\n** [[新型コロナウイルス感染症 (2019年)|新型コロナウイルス感染症]]（COVID-19） - 上記のウイルスにより引き起こされるこの[[病気|疾患]]（[[気道感染|呼吸器疾患]]等症状）そのものを単に指す場合もある。<!--SARS、MERSの場合はそのまま疾患名称が一般で広く使われたが、COVID-19は現状あまり広まっていない。-->「[[新型コロナウイルス感染症の流行 (2019年-)]]」も参照。\\\\n<!--\\\\n** また、2020年3月までに[[パンデミック|世界的に感染が拡大]]している事態そのものを指す場合もある。 →「[[新型コロナウイルス感染症の流行 (2019年-)]]」を参照-->\\\\n** その他の関連する事項は「[[:Category:2019新型コロナウイルス感染症]]」を参照。\\\\n\\\\n== 当初は新型コロナウイルスと呼ばれていたもの ==\\\\n{{出典の明記|date=2020年4月|section=1|以下のウイルスが「当初は新型コロナウイルスと呼ばれていた 」ことを証明する出典が提示されていない。}}\\\\n\\\\n* 2002年 \\'\\'\\'[[SARSコロナウイルス]]\\'\\'\\'（SARS-CoV）<ref>田口文広「[https://doi.org/10.2222/jsv.53.201 SARSコロナウイルス]」『ウイルス』 第53巻 第2号, p.201-209, 2003年, 日本ウイルス学会, {{doi|10.2222/jsv.53.201}} で「従来とは異なるタイプの新たなコロナウイルス」との表現がある。</ref> - 2002年11月頃から2003年7月にかけて流行した[[重症急性呼吸器症候群]]（SARS）の原因となるウイルス。\\\\n* 2005年 [[ヒトコロナウイルスHKU1]]（HCoV-HKU1）\\\\n* 2012年 \\'\\'\\'[[MERSコロナウイルス]]\\'\\'\\'（MERS-CoV）- 2012年7月に[[エラスムス大学医療センター]]でコロナウイルスが分離されたため、当初はHCoV-EMC（Human coronavirus- Erasmus Medical Center, ヒトコロナウイルス-エラスムス大学医療センター）とも呼ばれていた<ref name=mizt>水谷哲也,「[https://doi.org/10.2222/jsv.63.1 新種のコロナウイルス]」『ウイルス』 63巻 1号，p.1-6, 2013年, 日本ウイルス学会, {{doi|10.2222/jsv.63.1}}。</ref>。当初は「新型コロナウイルス」等と呼ばれていた<ref name=mizt/>が、2013年5月に[[国際ウイルス分類委員会]]が[[病原体]]名を「Middle East respiratory syndrome coronavirus (MERS-CoV)」と命名<ref>[http://jvi.asm.org/content/early/2013/05/08/JVI.01244-13.full.pdf Middle East Respiratory Syndrome Coronavirus (MERS-CoV); Announcement of the Coronavirus Study Group] Journal of Virology, Published ahead of print 15 May 2013, doi: 10.1128/JVI.01244-13</ref>、WHOの決定を受けて<ref>[http://www.who.int/entity/csr/disease/coronavirus_infections/NamingCoV_28May13.pdf Naming of the Novel Coronavirus] WHO, 28 May 2013</ref>、厚生労働省はウイルスの名称をMERS（マーズ）コロナウイルスと名付け、感染症名を[[中東呼吸器症候群]]（MERS）と決定した<ref>[http://www.mhlw.go.jp/stf/houdou/2r98520000032vm4.html アラビア半島諸国で発生が報告されている新種のコロナウイルスによる感染症の呼称について] 厚生労働省平成25年5月24日</ref>。\\\\n\\\\n== 脚注 ==\\\\n{{Reflist}}\\\\n\\\\n== 関連項目 ==\\\\n* [[コロナウイルス感染症]]\\\\n* [[新型肺炎]]\\\\n\\\\n{{aimai}}\\\\n{{デフォルトソート:しんかたころなういるす}}\\\\n[[Category:コロナウイルス]]\"'"
            ]
          },
          "metadata": {
            "tags": []
          },
          "execution_count": 65
        }
      ]
    },
    {
      "cell_type": "markdown",
      "metadata": {
        "id": "QsknfdiSDOD-"
      },
      "source": [
        "[wikiマークアップ早見表])"
      ]
    },
    {
      "cell_type": "markdown",
      "metadata": {
        "id": "LSahaoR-x_0u"
      },
      "source": [
        "##２３：カテゴリ名を抽出"
      ]
    },
    {
      "cell_type": "code",
      "metadata": {
        "id": "eD5d_v9RmRSK",
        "colab": {
          "base_uri": "https://localhost:8080/",
          "height": 34
        },
        "outputId": "9a8caa49-ad16-4a92-f061-a09d779cfe21"
      },
      "source": [
        "categories = re.findall(r'\\[\\[:?Category:?(.*?)]]', data['parse']['wikitext'])\n",
        "print(categories)"
      ],
      "execution_count": null,
      "outputs": [
        {
          "output_type": "stream",
          "text": [
            "['2019新型コロナウイルス感染症', 'コロナウイルス']\n"
          ],
          "name": "stdout"
        }
      ]
    },
    {
      "cell_type": "markdown",
      "metadata": {
        "id": "MPycjn_bDoHU"
      },
      "source": [
        "##２４：セクション構造"
      ]
    },
    {
      "cell_type": "code",
      "metadata": {
        "id": "VQP7tX7YDmF7",
        "colab": {
          "base_uri": "https://localhost:8080/",
          "height": 87
        },
        "outputId": "6febdea8-2286-401b-e6b3-e057f3f32740"
      },
      "source": [
        "sections = re.findall(r\"(={2,})\\s*(.+?)\\s*\\1\", data['parse']['wikitext'])\n",
        "for section in sections:\n",
        "    print(f'{section[1]}:{len(section[0])}')"
      ],
      "execution_count": null,
      "outputs": [
        {
          "output_type": "stream",
          "text": [
            "2020年現在新型コロナウイルスと広く呼称されるもの:2\n",
            "当初は新型コロナウイルスと呼ばれていたもの:2\n",
            "脚注:2\n",
            "関連項目:2\n"
          ],
          "name": "stdout"
        }
      ]
    },
    {
      "cell_type": "markdown",
      "metadata": {
        "id": "aYNskAFICXTs"
      },
      "source": [
        "##２５：強調された単語の抽出"
      ]
    },
    {
      "cell_type": "code",
      "metadata": {
        "id": "bECpnlfsCmFu",
        "colab": {
          "base_uri": "https://localhost:8080/",
          "height": 105
        },
        "outputId": "70488c75-b656-447e-d970-9d5455482391"
      },
      "source": [
        "import re\n",
        "strongs = re.findall(r\"(\\'{3,5})(.+?)(\\1)\", data['parse']['wikitext'])\n",
        "for emp in strongs:\n",
        "  if len(emp[0]) == 3:\n",
        "    print(f\"強調：{emp[1]}\")\n",
        "  else:\n",
        "    print(f\"斜体と強調：{emp[1]}\")"
      ],
      "execution_count": null,
      "outputs": [
        {
          "output_type": "stream",
          "text": [
            "強調：新型コロナウイルス\n",
            "強調：新型コロナ\n",
            "強調：[[重症急性呼吸器症候群コロナウイルス2型|2019新型コロナウイルス]]\n",
            "強調：[[SARSコロナウイルス]]\n",
            "強調：[[MERSコロナウイルス]]\n"
          ],
          "name": "stdout"
        }
      ]
    },
    {
      "cell_type": "markdown",
      "metadata": {
        "id": "vQOCYa7Jy9N_"
      },
      "source": [
        "##２６： 強調マークアップの除去\n",
        "\n",
        "記事から「カテゴリ名」「セクション」「強調」「斜体と強調」のマークアップを削除してください。\n"
      ]
    },
    {
      "cell_type": "code",
      "metadata": {
        "id": "hQE6IX2ey9p7",
        "colab": {
          "base_uri": "https://localhost:8080/",
          "height": 498
        },
        "outputId": "a3a51f88-78f2-4f9b-be6f-e912fd2ac21d"
      },
      "source": [
        "import re\n",
        "\n",
        "a = re.sub(r\"\\[\\[:?Category:?.*?\\]\\]\",\"\", data['parse']['wikitext'])\n",
        "a = re.sub(r\"(={2,})\\s*(.+?)\\s*\\1\",\"\", a)\n",
        "a = re.sub(r\"'{2,5}\", \"\", a)\n",
        "\n",
        "print(a)"
      ],
      "execution_count": null,
      "outputs": [
        {
          "output_type": "stream",
          "text": [
            "新型コロナウイルス（しんがたコロナウイルス、{{lang-en|Novel coronavirus, nCoV}}）とは、[[コロナウイルス科]]ウイルスのうち、新型のもの。特に[[ヒトコロナウイルス]]について良く用いられる。別称「新型コロナ」。\n",
            "\n",
            "\n",
            "*[[重症急性呼吸器症候群コロナウイルス2型|2019新型コロナウイルス]]（2019-nCoV, SARS-CoV-2） - 2019年11月に初感染者が出て、2020年1月に新型の[[コロナウイルス]]であることが確認された。日本語ではSARSコロナウイルス-2とも表記される。\n",
            "** [[新型コロナウイルス感染症 (2019年)|新型コロナウイルス感染症]]（COVID-19） - 上記のウイルスにより引き起こされるこの[[病気|疾患]]（[[気道感染|呼吸器疾患]]等症状）そのものを単に指す場合もある。<!--SARS、MERSの場合はそのまま疾患名称が一般で広く使われたが、COVID-19は現状あまり広まっていない。-->「[[新型コロナウイルス感染症の流行 (2019年-)]]」も参照。\n",
            "<!--\n",
            "** また、2020年3月までに[[パンデミック|世界的に感染が拡大]]している事態そのものを指す場合もある。 →「[[新型コロナウイルス感染症の流行 (2019年-)]]」を参照-->\n",
            "** その他の関連する事項は「」を参照。\n",
            "\n",
            "\n",
            "{{出典の明記|date=2020年4月|section=1|以下のウイルスが「当初は新型コロナウイルスと呼ばれていた 」ことを証明する出典が提示されていない。}}\n",
            "\n",
            "* 2002年 [[SARSコロナウイルス]]（SARS-CoV）<ref>田口文広「[https://doi.org/10.2222/jsv.53.201 SARSコロナウイルス]」『ウイルス』 第53巻 第2号, p.201-209, 2003年, 日本ウイルス学会, {{doi|10.2222/jsv.53.201}} で「従来とは異なるタイプの新たなコロナウイルス」との表現がある。</ref> - 2002年11月頃から2003年7月にかけて流行した[[重症急性呼吸器症候群]]（SARS）の原因となるウイルス。\n",
            "* 2005年 [[ヒトコロナウイルスHKU1]]（HCoV-HKU1）\n",
            "* 2012年 [[MERSコロナウイルス]]（MERS-CoV）- 2012年7月に[[エラスムス大学医療センター]]でコロナウイルスが分離されたため、当初はHCoV-EMC（Human coronavirus- Erasmus Medical Center, ヒトコロナウイルス-エラスムス大学医療センター）とも呼ばれていた<ref name=mizt>水谷哲也,「[https://doi.org/10.2222/jsv.63.1 新種のコロナウイルス]」『ウイルス』 63巻 1号，p.1-6, 2013年, 日本ウイルス学会, {{doi|10.2222/jsv.63.1}}。</ref>。当初は「新型コロナウイルス」等と呼ばれていた<ref name=mizt/>が、2013年5月に[[国際ウイルス分類委員会]]が[[病原体]]名を「Middle East respiratory syndrome coronavirus (MERS-CoV)」と命名<ref>[http://jvi.asm.org/content/early/2013/05/08/JVI.01244-13.full.pdf Middle East Respiratory Syndrome Coronavirus (MERS-CoV); Announcement of the Coronavirus Study Group] Journal of Virology, Published ahead of print 15 May 2013, doi: 10.1128/JVI.01244-13</ref>、WHOの決定を受けて<ref>[http://www.who.int/entity/csr/disease/coronavirus_infections/NamingCoV_28May13.pdf Naming of the Novel Coronavirus] WHO, 28 May 2013</ref>、厚生労働省はウイルスの名称をMERS（マーズ）コロナウイルスと名付け、感染症名を[[中東呼吸器症候群]]（MERS）と決定した<ref>[http://www.mhlw.go.jp/stf/houdou/2r98520000032vm4.html アラビア半島諸国で発生が報告されている新種のコロナウイルスによる感染症の呼称について] 厚生労働省平成25年5月24日</ref>。\n",
            "\n",
            "\n",
            "{{Reflist}}\n",
            "\n",
            "\n",
            "* [[コロナウイルス感染症]]\n",
            "* [[新型肺炎]]\n",
            "\n",
            "{{aimai}}\n",
            "{{デフォルトソート:しんかたころなういるす}}\n",
            "\n"
          ],
          "name": "stdout"
        }
      ]
    },
    {
      "cell_type": "markdown",
      "metadata": {
        "id": "LyOM2hA536nx"
      },
      "source": [
        "##２７： 不要な記号やリンクなどの除去\n"
      ]
    },
    {
      "cell_type": "code",
      "metadata": {
        "id": "AVOBpalA37t5",
        "colab": {
          "base_uri": "https://localhost:8080/",
          "height": 284
        },
        "outputId": "eb76fb3b-9518-41d1-a303-e2496c060f8b"
      },
      "source": [
        "b = re.sub(r\"\\[\\[(?:[^|]*?\\|)*?([^|]*?)\\]\\]\", r\"\\1\", a)\n",
        "b = re.sub(r\"\\[(.+?)\\]\",\"\", b)\n",
        "b = re.sub(r\"「」\",\"\", b)\n",
        "b = re.sub(r\"\\<!\\-\\-.+?\\-\\-\\>\",\"\", b)\n",
        "b = re.sub(r\"\\{\\{(.+?)\\}\\}\",\"\", b)\n",
        "b = re.sub(\"\\n\", \"\", b)\n",
        "b = re.sub(\"\\*+?\", \"\", b)\n",
        "b = re.sub(\"\\<.+?\\>(.*?)</.+?\\>\", \"\\1\", b)\n",
        "b = re.sub(\"\\<.+?\\>\", \"\", b)\n",
        "b"
      ],
      "execution_count": null,
      "outputs": [
        {
          "output_type": "execute_result",
          "data": {
            "application/vnd.google.colaboratory.intrinsic+json": {
              "type": "string"
            },
            "text/plain": [
              "'新型コロナウイルス（しんがたコロナウイルス、）とは、コロナウイルス科ウイルスのうち、新型のもの。特にヒトコロナウイルスについて良く用いられる。別称「新型コロナ」。2019新型コロナウイルス（2019-nCoV, SARS-CoV-2） - 2019年11月に初感染者が出て、2020年1月に新型のコロナウイルスであることが確認された。日本語ではSARSコロナウイルス-2とも表記される。 新型コロナウイルス感染症（COVID-19） - 上記のウイルスにより引き起こされるこの疾患（呼吸器疾患等症状）そのものを単に指す場合もある。「新型コロナウイルス感染症の流行 (2019年-)」も参照。\\x01 - 2002年11月頃から2003年7月にかけて流行した重症急性呼吸器症候群（SARS）の原因となるウイルス。 2005年 ヒトコロナウイルスHKU1（HCoV-HKU1） 2012年 MERSコロナウイルス（MERS-CoV）- 2012年7月にエラスムス大学医療センターでコロナウイルスが分離されたため、当初はHCoV-EMC（Human coronavirus- Erasmus Medical Center, ヒトコロナウイルス-エラスムス大学医療センター）とも呼ばれていた\\x01。当初は「新型コロナウイルス」等と呼ばれていた\\x01、WHOの決定を受けて\\x01、厚生労働省はウイルスの名称をMERS（マーズ）コロナウイルスと名付け、感染症名を中東呼吸器症候群（MERS）と決定した\\x01。 コロナウイルス感染症 新型肺炎'"
            ]
          },
          "metadata": {
            "tags": []
          },
          "execution_count": 70
        }
      ]
    },
    {
      "cell_type": "markdown",
      "metadata": {
        "id": "6vhEjIQbojJL"
      },
      "source": [
        "## ２８：名詞句の抽出"
      ]
    },
    {
      "cell_type": "code",
      "metadata": {
        "id": "TXP-cHBKop_s",
        "colab": {
          "base_uri": "https://localhost:8080/",
          "height": 125
        },
        "outputId": "0abebaf0-368f-45a0-8f6b-d4e6c1ebcf38"
      },
      "source": [
        "!pip install janome"
      ],
      "execution_count": null,
      "outputs": [
        {
          "output_type": "stream",
          "text": [
            "Collecting janome\n",
            "\u001b[?25l  Downloading https://files.pythonhosted.org/packages/79/f0/bd7f90806132d7d9d642d418bdc3e870cfdff5947254ea3cab27480983a7/Janome-0.3.10-py2.py3-none-any.whl (21.5MB)\n",
            "\u001b[K     |████████████████████████████████| 21.5MB 54.7MB/s \n",
            "\u001b[?25hInstalling collected packages: janome\n",
            "Successfully installed janome-0.3.10\n"
          ],
          "name": "stdout"
        }
      ]
    },
    {
      "cell_type": "code",
      "metadata": {
        "id": "c_k80n19P70g",
        "colab": {
          "base_uri": "https://localhost:8080/",
          "height": 54
        },
        "outputId": "5dca39b6-1fc6-45dc-894c-cd3d0f7b2ca2"
      },
      "source": [
        "from janome.tokenizer import Tokenizer\n",
        "t = Tokenizer()\n",
        "l = []\n",
        "for token in t.tokenize(b):\n",
        "    rows = str(token).split('\\n')\n",
        "    for row in rows:\n",
        "      colsa = row.split('\\t')\n",
        "      colsb = colsa[1].split(',')\n",
        "      if colsb[0] == '名詞':\n",
        "        l.append(colsa[0])\n",
        "print(l)"
      ],
      "execution_count": null,
      "outputs": [
        {
          "output_type": "stream",
          "text": [
            "['新型', 'コロナ', 'ウイルス', 'しん', 'コロナ', 'ウイルス', 'コロナ', 'ウイルス', '科', 'ウイルス', 'うち', '新型', 'もの', 'ヒトコロナウイルス', '別称', '新型', 'コロナ', '2019', '新型', 'コロナ', 'ウイルス', '2019', '-', 'nCoV', ',', 'SARS', '-', 'CoV', '-', '2', '-', '2019', '年', '11', '月', '初感染', '者', '2020', '年', '1', '月', '新型', 'コロナ', 'ウイルス', 'こと', '確認', '日本語', 'SARS', 'コロナ', 'ウイルス', '-', '2', '表記', '新型', 'コロナ', 'ウイルス', '感染', '症', 'COVID', '-', '19', '-', '上記', 'ウイルス', '疾患', '呼吸', '器', '疾患', '等', '症状', 'そのもの', '場合', '新型', 'コロナ', 'ウイルス', '感染', '症', '流行', '(', '2019', '年', '-)」', '参照', '-', '2002', '年', '11', '月頃', '2003', '年', '7', '月', '流行', '重症', '急性', '呼吸', '器', '症候群', 'SARS', '原因', 'ウイルス', '2005', '年', 'ヒトコロナウイルス', 'HKU', '1', 'HCoV', '-', 'HKU', '1', '2012', '年', 'MERS', 'コロナ', 'ウイルス', 'MERS', '-', 'CoV', '）-', '2012', '年', '7', '月', 'エラスムス', '大学', '医療', 'センター', 'コロナ', 'ウイルス', '分離', 'ため', '当初', 'HCoV', '-', 'EMC', 'Human', 'coronavirus', '-', 'Erasmus', 'Medical', 'Center', ',', 'ヒトコロナウイルス', '-', 'エラスムス', '大学', '医療', 'センター', '当初', '新型', 'コロナ', 'ウイルス', '等', 'WHO', '決定', '厚生', '労働省', 'ウイルス', '名称', 'MERS', 'マーズ', 'コロナ', 'ウイルス', '感染', '症', '名', '中東', '呼吸', '器', '症候群', 'MERS', '決定', 'コロナ', 'ウイルス', '感染', '症', '新型', '肺炎']\n"
          ],
          "name": "stdout"
        }
      ]
    },
    {
      "cell_type": "code",
      "metadata": {
        "id": "jNFOHTqyQvsa",
        "colab": {
          "base_uri": "https://localhost:8080/",
          "height": 265
        },
        "outputId": "fff73d70-dec3-4430-d292-6f2488244db1"
      },
      "source": [
        "from janome.tokenizer import Tokenizer\n",
        "\n",
        "t = Tokenizer()\n",
        "s = 'すもももももももものうち'\n",
        "for token in t.tokenize(s):\n",
        "  print(type(token))\n",
        "  print(token)"
      ],
      "execution_count": null,
      "outputs": [
        {
          "output_type": "stream",
          "text": [
            "<class 'janome.tokenizer.Token'>\n",
            "すもも\t名詞,一般,*,*,*,*,すもも,スモモ,スモモ\n",
            "<class 'janome.tokenizer.Token'>\n",
            "も\t助詞,係助詞,*,*,*,*,も,モ,モ\n",
            "<class 'janome.tokenizer.Token'>\n",
            "もも\t名詞,一般,*,*,*,*,もも,モモ,モモ\n",
            "<class 'janome.tokenizer.Token'>\n",
            "も\t助詞,係助詞,*,*,*,*,も,モ,モ\n",
            "<class 'janome.tokenizer.Token'>\n",
            "もも\t名詞,一般,*,*,*,*,もも,モモ,モモ\n",
            "<class 'janome.tokenizer.Token'>\n",
            "の\t助詞,連体化,*,*,*,*,の,ノ,ノ\n",
            "<class 'janome.tokenizer.Token'>\n",
            "うち\t名詞,非自立,副詞可能,*,*,*,うち,ウチ,ウチ\n"
          ],
          "name": "stdout"
        }
      ]
    },
    {
      "cell_type": "markdown",
      "metadata": {
        "id": "ysw_M0w3VVb_"
      },
      "source": [
        "## ２９：名詞の頻度集計"
      ]
    },
    {
      "cell_type": "code",
      "metadata": {
        "id": "wLvWLZJRVjK1",
        "colab": {
          "base_uri": "https://localhost:8080/",
          "height": 54
        },
        "outputId": "e3edd702-8af9-432c-8da3-2f26df59344b"
      },
      "source": [
        "dic = {}\n",
        "for r in l:\n",
        "  if r in dic:\n",
        "    dic[r] += 1\n",
        "  else:\n",
        "    dic[r] = 1\n",
        "print(sorted(dic.items(), key=lambda x:-x[1]))"
      ],
      "execution_count": null,
      "outputs": [
        {
          "output_type": "stream",
          "text": [
            "[('ウイルス', 17), ('コロナ', 14), ('-', 13), ('新型', 9), ('年', 8), ('2019', 4), ('月', 4), ('感染', 4), ('症', 4), ('MERS', 4), ('ヒトコロナウイルス', 3), ('SARS', 3), ('1', 3), ('呼吸', 3), ('器', 3), (',', 2), ('CoV', 2), ('2', 2), ('11', 2), ('疾患', 2), ('等', 2), ('流行', 2), ('7', 2), ('症候群', 2), ('HKU', 2), ('HCoV', 2), ('2012', 2), ('エラスムス', 2), ('大学', 2), ('医療', 2), ('センター', 2), ('当初', 2), ('決定', 2), ('しん', 1), ('科', 1), ('うち', 1), ('もの', 1), ('別称', 1), ('nCoV', 1), ('初感染', 1), ('者', 1), ('2020', 1), ('こと', 1), ('確認', 1), ('日本語', 1), ('表記', 1), ('COVID', 1), ('19', 1), ('上記', 1), ('症状', 1), ('そのもの', 1), ('場合', 1), ('(', 1), ('-)」', 1), ('参照', 1), ('2002', 1), ('月頃', 1), ('2003', 1), ('重症', 1), ('急性', 1), ('原因', 1), ('2005', 1), ('）-', 1), ('分離', 1), ('ため', 1), ('EMC', 1), ('Human', 1), ('coronavirus', 1), ('Erasmus', 1), ('Medical', 1), ('Center', 1), ('WHO', 1), ('厚生', 1), ('労働省', 1), ('名称', 1), ('マーズ', 1), ('名', 1), ('中東', 1), ('肺炎', 1)]\n"
          ],
          "name": "stdout"
        }
      ]
    },
    {
      "cell_type": "code",
      "metadata": {
        "id": "TbYckmJ0XU8_"
      },
      "source": [
        "def square(n):\n",
        "  return n**2\n",
        "squarel = lambda x:x**2\n",
        "print(square(2))\n",
        "print(squarel(2))"
      ],
      "execution_count": null,
      "outputs": []
    },
    {
      "cell_type": "code",
      "metadata": {
        "id": "z-gBKhI6FQKl"
      },
      "source": [
        "x = ''.join(tw_strings)\n",
        "print(x)"
      ],
      "execution_count": null,
      "outputs": []
    }
  ]
}