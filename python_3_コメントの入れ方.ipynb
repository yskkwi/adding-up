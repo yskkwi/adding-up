{
  "nbformat": 4,
  "nbformat_minor": 0,
  "metadata": {
    "colab": {
      "name": "python 3 コメントの入れ方.ipynb",
      "provenance": [],
      "collapsed_sections": [],
      "authorship_tag": "ABX9TyPVavff5dRwirbMoma1JOLi",
      "include_colab_link": true
    },
    "kernelspec": {
      "name": "python3",
      "display_name": "Python 3"
    },
    "language_info": {
      "name": "python"
    }
  },
  "cells": [
    {
      "cell_type": "markdown",
      "metadata": {
        "id": "view-in-github",
        "colab_type": "text"
      },
      "source": [
        "<a href=\"https://colab.research.google.com/github/yskkwi/adding-up/blob/master/python_3_%E3%82%B3%E3%83%A1%E3%83%B3%E3%83%88%E3%81%AE%E5%85%A5%E3%82%8C%E6%96%B9.ipynb\" target=\"_parent\"><img src=\"https://colab.research.google.com/assets/colab-badge.svg\" alt=\"Open In Colab\"/></a>"
      ]
    },
    {
      "cell_type": "code",
      "execution_count": null,
      "metadata": {
        "id": "iibOuIZwyqRr"
      },
      "outputs": [],
      "source": [
        "# シャープで入れる"
      ]
    },
    {
      "cell_type": "code",
      "source": [
        "print(3 + 5)     # 3 + 5 = 8"
      ],
      "metadata": {
        "colab": {
          "base_uri": "https://localhost:8080/"
        },
        "id": "ElaoZNFdy4RP",
        "outputId": "2c9a12ef-ef8f-4bd1-d20a-db5820cfae20"
      },
      "execution_count": null,
      "outputs": [
        {
          "output_type": "stream",
          "name": "stdout",
          "text": [
            "8\n"
          ]
        }
      ]
    },
    {
      "cell_type": "code",
      "source": [
        "a=1\n",
        "print(a)\n",
        "b=2\n",
        "print(b)\n",
        "c=3\n",
        "print(c)\n",
        "'''\n",
        "トリプルクォートで\n",
        "複数行の\n",
        "コメントが出来る\n",
        "'''\n",
        "print(a+b+c)"
      ],
      "metadata": {
        "colab": {
          "base_uri": "https://localhost:8080/"
        },
        "id": "hoVBd1ZKzDKC",
        "outputId": "209a3dc9-e5e8-466c-84f7-8fc297e1f96f"
      },
      "execution_count": null,
      "outputs": [
        {
          "output_type": "stream",
          "name": "stdout",
          "text": [
            "1\n",
            "2\n",
            "3\n",
            "6\n"
          ]
        }
      ]
    },
    {
      "cell_type": "code",
      "source": [
        "a=1\n",
        "print(a)\n",
        "b=2\n",
        "print(b)\n",
        "c=3\n",
        "print(c)\n",
        "\"\"\"\n",
        "トリプルクォートで\n",
        "複数行の\n",
        "コメントが出来る\n",
        "こちらでもよい\n",
        "\"\"\"\n",
        "print(a+b+c)"
      ],
      "metadata": {
        "colab": {
          "base_uri": "https://localhost:8080/"
        },
        "id": "9UDfshwmzjjo",
        "outputId": "4b567639-1319-4ab1-b363-3bbaa7c95cbf"
      },
      "execution_count": null,
      "outputs": [
        {
          "output_type": "stream",
          "name": "stdout",
          "text": [
            "1\n",
            "2\n",
            "3\n",
            "6\n"
          ]
        }
      ]
    }
  ]
}